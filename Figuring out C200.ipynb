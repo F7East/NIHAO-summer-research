{
 "cells": [
  {
   "cell_type": "code",
   "execution_count": 1,
   "metadata": {},
   "outputs": [],
   "source": [
    "# So what questions do I have so far?\n",
    "# 1. Should I use rho(r) to find r_s\n",
    "# 2. Should I use V(r) to find V_200 and C_200\n",
    "# 3. If 1 and 2 then I get two values for r_s\n",
    "# 4. it seems that r_s obtained from rho(r) is more presize \n",
    "# 5. Should I find r_200 just from rho_enc (probably not)\n",
    "# 6. should I find M_200 from mass profile from paper or by using mass_enc (assume paper)"
   ]
  },
  {
   "cell_type": "code",
   "execution_count": 2,
   "metadata": {},
   "outputs": [],
   "source": [
    "import pynbody as pyn\n",
    "import scipy\n",
    "import numpy\n",
    "from matplotlib import pylab as plt\n",
    "from scipy.optimize import curve_fit as fit\n",
    "s = pyn.load('testdata/g15784.lr.01024.gz')\n",
    "s.physical_units()\n",
    "h = s.halos()\n",
    "rho_crit = pyn.analysis.cosmology.rho_crit(s)*200\n",
    "H = float(pyn.analysis.cosmology.H(s))"
   ]
  },
  {
   "cell_type": "code",
   "execution_count": 3,
   "metadata": {},
   "outputs": [],
   "source": [
    "tmass = h[1]['mass'].sum()"
   ]
  },
  {
   "cell_type": "code",
   "execution_count": 4,
   "metadata": {},
   "outputs": [
    {
     "data": {
      "text/plain": [
       "<pynbody.transformation.GenericRotation at 0x7f5e894c39e8>"
      ]
     },
     "execution_count": 4,
     "metadata": {},
     "output_type": "execute_result"
    }
   ],
   "source": [
    "pyn.analysis.angmom.faceon(h[1])"
   ]
  },
  {
   "cell_type": "code",
   "execution_count": 5,
   "metadata": {},
   "outputs": [
    {
     "name": "stderr",
     "output_type": "stream",
     "text": [
      "/home/tengiz/.local/lib/python3.6/site-packages/pynbody/array.py:865: FutureWarning: Using a non-tuple sequence for multidimensional indexing is deprecated; use `arr[tuple(seq)]` instead of `arr[seq]`. In the future this will be interpreted as an array index, `arr[np.array(seq)]`, which will result either in an error or a different result.\n",
      "  return self.base[self._reexpress_index(item)]\n"
     ]
    }
   ],
   "source": [
    "p = pyn.analysis.profile.Profile(h[1], min = 0.01, max = 50, ndim = 3, type = 'log', nbins = 100)"
   ]
  },
  {
   "cell_type": "code",
   "execution_count": 6,
   "metadata": {},
   "outputs": [
    {
     "name": "stderr",
     "output_type": "stream",
     "text": [
      "pynbody.analysis.profile : Profile v_circ -- this routine assumes the disk is in the x-y plane\n"
     ]
    }
   ],
   "source": [
    "radii = p['rbins']\n",
    "vel = p['v_circ']\n",
    "den = p['density']"
   ]
  },
  {
   "cell_type": "code",
   "execution_count": 7,
   "metadata": {},
   "outputs": [],
   "source": [
    "# pISO profile function\n",
    "\n",
    "initial_guess = [10**10, 0.01]\n",
    "def rho_pISO(r, rho_s,r_s): \n",
    "    # r200 is the radius inside of which the average halo (bg paper)\n",
    "    #density is 200 times the critical density of the universe.\n",
    "    return rho_s/(1+(r/r_s)**2)\n",
    "param, covar = fit(rho_pISO, radii, den, p0 = initial_guess)\n",
    "\n",
    "#new list for r/r_s\n",
    "x = []\n",
    "for r in radii:\n",
    "    x.append(r/param[1])\n",
    "\n",
    "def M_pISO(r):\n",
    "    # we define M200 and N200 as the mass and the number of particles within r200 (Maccio 2008)\n",
    "    return 4*numpy.pi*param[0]*(param[1]**3)*(r-numpy.arctan(r))**0.5\n",
    "    \n",
    "def V_pISO(r, C_200, V200):\n",
    "     return V200*((1-numpy.arctan(r)/r)/(1-numpy.arctan(C_200)/C_200))**0.5\n",
    "\n",
    "param1, covar1 = fit(V_pISO, x, vel)"
   ]
  },
  {
   "cell_type": "code",
   "execution_count": 8,
   "metadata": {},
   "outputs": [],
   "source": [
    "# den plot\n",
    "\n",
    "# fig, ax = plt.subplots() \n",
    "# ax.semilogy(radii, den, 'g--')\n",
    "# ax.semilogy(radii, rho_pISO(radii, *param), 'r-')\n",
    "# ax.grid()\n",
    "# ax.legend(('data','fit'))\n",
    "# ax.set_title('data den vs r')\n",
    "# ax.set_xlabel(radii.units)\n",
    "# ax.set_ylabel(den.units)\n",
    "# plt.show()"
   ]
  },
  {
   "cell_type": "code",
   "execution_count": 9,
   "metadata": {},
   "outputs": [],
   "source": [
    "# vel plot\n",
    "# fig1, ax1 = plt.subplots()\n",
    "# ax1.plot(x, vel, 'g--')\n",
    "# ax1.plot(x, V_pISO(x, *param1), 'r-')\n",
    "# ax1.grid()\n",
    "# ax1.legend(('data','fit'))\n",
    "# ax1.set_title('data vel vs x')\n",
    "# ax1.set_xlabel('$r_{s}$')\n",
    "# ax1.set_ylabel(vel.units)\n",
    "# plt.show()\n"
   ]
  },
  {
   "cell_type": "code",
   "execution_count": 10,
   "metadata": {},
   "outputs": [],
   "source": [
    "# M_pISO(param1[0]*param[1]) "
   ]
  },
  {
   "cell_type": "code",
   "execution_count": 15,
   "metadata": {},
   "outputs": [],
   "source": [
    "import DM_Profiles\n",
    "a,b = DM_Profiles.pISO(radii, den, vel)"
   ]
  },
  {
   "cell_type": "code",
   "execution_count": 16,
   "metadata": {},
   "outputs": [
    {
     "data": {
      "text/plain": [
       "431239423222.8395"
      ]
     },
     "execution_count": 16,
     "metadata": {},
     "output_type": "execute_result"
    }
   ],
   "source": [
    "a"
   ]
  },
  {
   "cell_type": "code",
   "execution_count": 17,
   "metadata": {},
   "outputs": [
    {
     "data": {
      "text/plain": [
       "577.0267937171411"
      ]
     },
     "execution_count": 17,
     "metadata": {},
     "output_type": "execute_result"
    }
   ],
   "source": [
    "b"
   ]
  },
  {
   "cell_type": "code",
   "execution_count": null,
   "metadata": {},
   "outputs": [],
   "source": []
  }
 ],
 "metadata": {
  "kernelspec": {
   "display_name": "Python 3",
   "language": "python",
   "name": "python3"
  },
  "language_info": {
   "codemirror_mode": {
    "name": "ipython",
    "version": 3
   },
   "file_extension": ".py",
   "mimetype": "text/x-python",
   "name": "python",
   "nbconvert_exporter": "python",
   "pygments_lexer": "ipython3",
   "version": "3.6.9"
  }
 },
 "nbformat": 4,
 "nbformat_minor": 4
}
