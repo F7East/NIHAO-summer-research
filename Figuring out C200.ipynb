{
 "cells": [
  {
   "cell_type": "code",
   "execution_count": 1,
   "metadata": {},
   "outputs": [],
   "source": [
    "# So what questions do I have so far?\n",
    "# 1. Should I use rho(r) to find r_s (so after long debate with my self I say no because does not help) [turns out yes! cause it makes better graphs]\n",
    "# 2. Should I use V(r) to find V_200 and C_200 (better find r_s and C200  {actually better to find V_200, see pont 1})\n",
    "# 3. If 1 and 2 then I get two values for r_s (yeah how different are they?)\n",
    "# 4. it seems that r_s obtained from rho(r) is more presize \n",
    "# 5. Should I find r_200 just from rho_enc (probably not [don't think so any more])\n",
    "# 6. should I find M_200 from mass profile from paper or by using mass_enc (assume paper [yeah paper, coz than  you could just use rho_200 but professor told to fit   the halos)"
   ]
  },
  {
   "cell_type": "code",
   "execution_count": 2,
   "metadata": {},
   "outputs": [],
   "source": [
    "import time\n",
    "import pynbody as pyn\n",
    "import scipy, numpy, DM_Profiles\n",
    "from matplotlib import pylab as plt\n",
    "s = pyn.load('/media/tengiz/81498267-fb7c-4587-88ea-5c63aaf2cb66/Pynbody/testdata/g15784.lr.01024.gz')\n",
    "s.physical_units()\n",
    "h = s.halos()\n",
    "# rho_crit = pyn.analysis.cosmology.rho_crit(s)*200\n",
    "# H = float(pyn.analysis.cosmology.H(s))\n",
    "# tmass = h[1]['mass'].sum()"
   ]
  },
  {
   "cell_type": "code",
   "execution_count": 14,
   "metadata": {
    "scrolled": true
   },
   "outputs": [],
   "source": [
    "def halos_CM(halo, to_graph = False):\n",
    "    # well this is very poorely written | not anymore\n",
    "#     modes = ['hyb', 'ssc', 'com','pot']\n",
    "    output = ()\n",
    "    try: \n",
    "        with pyn.analysis.angmom.faceon(halo, cen_size  =  '10 kpc'):\n",
    "            output = halos_exec(halo, to_graph)  \n",
    "    except (ValueError, RuntimeError):\n",
    "        print('faceon has failed, trying backup')\n",
    "        try:\n",
    "            with pyn.analysis.halo.center(halo, vel = False, cen_size = '10 kpc'):\n",
    "                output = halos_exec(halo, to_graph)\n",
    "#                     pyn.plot.image(halo.g, width=1000, cmap='Blues')\n",
    "        except (ValueError, RuntimeError):\n",
    "            output = 'failure'\n",
    "#             pyn.plot.image(halo.g, width=100, cmap='Blues')\n",
    "        \n",
    "        '''\n",
    "        this is for the case  if you need other centerings\n",
    "        for i in range(5):\n",
    "            if i == 4:\n",
    "                print('all backups have failed')\n",
    "                try:\n",
    "                    with pyn.analysis.halo.center(halo, mode = modes[3], vel = False, cen_size = '20 kpc'):\n",
    "                        output = halos_exec(halo, to_graph)\n",
    "                        break\n",
    "    #                     pyn.plot.image(halo.g, width=1000, cmap='Blues')\n",
    "                except ValueError:\n",
    "                    output = 'failure'\n",
    "                    break\n",
    "            try:\n",
    "                with pyn.analysis.halo.center(halo, mode = modes[i], vel = True, cen_size = '20 kpc'):\n",
    "                    pyn.analysis.angmom.faceon(halo, cen =  halo['pos'][0], vel = halo['vel'][0])\n",
    "                    output = halos_exec(halo, to_graph)\n",
    "#                     pyn.plot.image(halo.g, width=1000, cmap='Blues')\n",
    "                break\n",
    "            except (ValueError, RuntimeError):\n",
    "                print(modes[i] + ' backup has failed')\n",
    "        '''\n",
    "\n",
    "    return output"
   ]
  },
  {
   "cell_type": "code",
   "execution_count": 4,
   "metadata": {},
   "outputs": [],
   "source": [
    "def halos_exec(halo, to_graph = False):\n",
    "    #takes in halo and boolean whether to graph \n",
    "    # outputs mass and concentration\n",
    "    \n",
    "    p = pyn.analysis.profile.Profile(halo, min = 0.01, max = 50, ndim = 3, type = 'lin', nbins = 100)\n",
    "    radii = p['rbins']\n",
    "    den = p['density']\n",
    "    vel = p['v_circ']\n",
    "    hp = DM_Profiles.DM_Profile(radii, den, vel, s)\n",
    "    hp.fits_pISO() \n",
    "    output = hp.pISO()\n",
    "    if to_graph:\n",
    "        den_plot(radii, den, output[2], hp)\n",
    "        vel_plot(radii, vel, output[3], hp)\n",
    "        \n",
    "    return output[0], output[1]"
   ]
  },
  {
   "cell_type": "code",
   "execution_count": 5,
   "metadata": {},
   "outputs": [],
   "source": [
    "# den plot\n",
    "def den_plot(radii, den, param, halo_profile):\n",
    "    # takes radii, den, param and DM_Profile object from DM_Profiles and outputs den profile with p_ISO curve_fit\n",
    "    import DM_Profiles\n",
    "    from matplotlib import pylab as plt\n",
    "    fig, ax = plt.subplots() \n",
    "    ax.semilogy(radii, den, 'g--')\n",
    "    ax.semilogy(radii, halo_profile.rho_pISO(radii, *param), 'r-')\n",
    "    ax.grid()\n",
    "    ax.legend(('data','fit'))\n",
    "    ax.set_title('data den vs r')\n",
    "    ax.set_xlabel('$R$ [kpc]')\n",
    "    ax.set_ylabel(r'$\\rho_{pISO}$ [M$_{\\odot}$ /kpc$^{3}$]')\n",
    "    plt.show()\n",
    "#     halo_profile.chisq_pISO()\n",
    "#     print(halo_profile.den_chisq)"
   ]
  },
  {
   "cell_type": "code",
   "execution_count": 6,
   "metadata": {},
   "outputs": [],
   "source": [
    "# vel plot\n",
    "def vel_plot(r, vel, param1, halo_profile):\n",
    "    # takes radii, den, param and DM_Profile object from DM_Profiles and outputs vel profile with p_ISO curve_fit\n",
    "    import DM_Profiles\n",
    "    from matplotlib import pylab as plt\n",
    "    fig1, ax1 = plt.subplots()\n",
    "    ax1.plot(r, vel, 'g--')\n",
    "    ax1.plot(r, halo_profile.V_pISO(r, *param1), 'r-')\n",
    "    ax1.grid()\n",
    "    ax1.legend(('data','fit'))\n",
    "    ax1.set_title('data vel vs r')\n",
    "    ax1.set_xlabel('$R$ [kpc]')\n",
    "    ax1.set_ylabel('V$_{pISO}$ [km/s] ')\n",
    "    plt.show()\n",
    "#     halo_profile.chisq_pISO()\n",
    "#     print(halo_profile.vel_chisq)"
   ]
  },
  {
   "cell_type": "code",
   "execution_count": 7,
   "metadata": {},
   "outputs": [],
   "source": [
    "# I leave this code here for debugging coz lazy\n",
    "# def rho_pISO(r, rho_s,r_s): \n",
    "#     # r200 is the radius inside of which the average halo (bg paper)\n",
    "#     return rho_s/(1+(r/r_s)**2)\n",
    "# def V_pISO(r, C_200):\n",
    "# #     if param == []: raise CustomError('rho_pISO has not been fitted yet')\n",
    "#     H = float(pyn.analysis.cosmology.H(s))\n",
    "#     return 10*H*param[1]*C_200*((1-numpy.arctan((r/param[1]))/(r/param[1]))/(1-numpy.arctan(C_200)/C_200))**0.5\n",
    "\n",
    "# pyn.analysis.halo.center(h[1], mode = 'hyb', cen_size = '10 kpc')\n",
    "# pyn.analysis.angmom.faceon(h[1])\n",
    "# initial_guess = [10**10, 0.01]\n",
    "# p = pyn.analysis.profile.Profile(h[1], min = 0.01, max = 50, ndim = 3, type = 'log', nbins = 50)\n",
    "# radii = p['rbins']\n",
    "# den = p['density']\n",
    "# vel = p['v_circ']\n",
    "# param, covar = fit(rho_pISO, radii, den, p0 = initial_guess, bounds = (0,numpy.inf))\n",
    "# param1, covar1 = fit(V_pISO, radii, vel, bounds = (0, numpy.inf))\n"
   ]
  },
  {
   "cell_type": "code",
   "execution_count": 8,
   "metadata": {},
   "outputs": [],
   "source": [
    "# bad_halos = []\n",
    "# for i in range(201,len(h)):\n",
    "#     output = halos_CM(h[i])\n",
    "#     if output == ('failure'):\n",
    "#         bad_halos.append(i)\n",
    "#     print('halo number ' + str(i) + ' is done')\n",
    "# print(bad_halos)"
   ]
  },
  {
   "cell_type": "code",
   "execution_count": 17,
   "metadata": {},
   "outputs": [
    {
     "name": "stderr",
     "output_type": "stream",
     "text": [
      "pynbody.analysis.profile : Profile v_circ -- this routine assumes the disk is in the x-y plane\n"
     ]
    },
    {
     "name": "stdout",
     "output_type": "stream",
     "text": [
      "halo number 1 is done\n"
     ]
    },
    {
     "name": "stderr",
     "output_type": "stream",
     "text": [
      "pynbody.analysis.profile : Profile v_circ -- this routine assumes the disk is in the x-y plane\n"
     ]
    },
    {
     "name": "stdout",
     "output_type": "stream",
     "text": [
      "halo number 2 is done\n"
     ]
    },
    {
     "name": "stderr",
     "output_type": "stream",
     "text": [
      "pynbody.analysis.profile : Profile v_circ -- this routine assumes the disk is in the x-y plane\n"
     ]
    },
    {
     "name": "stdout",
     "output_type": "stream",
     "text": [
      "halo number 3 is done\n"
     ]
    },
    {
     "name": "stderr",
     "output_type": "stream",
     "text": [
      "pynbody.analysis.profile : Profile v_circ -- this routine assumes the disk is in the x-y plane\n"
     ]
    },
    {
     "name": "stdout",
     "output_type": "stream",
     "text": [
      "halo number 4 is done\n"
     ]
    },
    {
     "name": "stderr",
     "output_type": "stream",
     "text": [
      "pynbody.analysis.profile : Profile v_circ -- this routine assumes the disk is in the x-y plane\n"
     ]
    },
    {
     "name": "stdout",
     "output_type": "stream",
     "text": [
      "halo number 5 is done\n"
     ]
    },
    {
     "name": "stderr",
     "output_type": "stream",
     "text": [
      "pynbody.analysis.profile : Profile v_circ -- this routine assumes the disk is in the x-y plane\n"
     ]
    },
    {
     "name": "stdout",
     "output_type": "stream",
     "text": [
      "halo number 6 is done\n"
     ]
    },
    {
     "name": "stderr",
     "output_type": "stream",
     "text": [
      "pynbody.analysis.profile : Profile v_circ -- this routine assumes the disk is in the x-y plane\n"
     ]
    },
    {
     "name": "stdout",
     "output_type": "stream",
     "text": [
      "halo number 7 is done\n"
     ]
    },
    {
     "name": "stderr",
     "output_type": "stream",
     "text": [
      "pynbody.analysis.profile : Profile v_circ -- this routine assumes the disk is in the x-y plane\n"
     ]
    },
    {
     "name": "stdout",
     "output_type": "stream",
     "text": [
      "halo number 8 is done\n"
     ]
    },
    {
     "name": "stderr",
     "output_type": "stream",
     "text": [
      "pynbody.analysis.profile : Profile v_circ -- this routine assumes the disk is in the x-y plane\n"
     ]
    },
    {
     "name": "stdout",
     "output_type": "stream",
     "text": [
      "halo number 9 is done\n"
     ]
    },
    {
     "name": "stderr",
     "output_type": "stream",
     "text": [
      "pynbody.analysis.profile : Profile v_circ -- this routine assumes the disk is in the x-y plane\n"
     ]
    },
    {
     "name": "stdout",
     "output_type": "stream",
     "text": [
      "halo number 10 is done\n"
     ]
    },
    {
     "name": "stderr",
     "output_type": "stream",
     "text": [
      "pynbody.analysis.profile : Profile v_circ -- this routine assumes the disk is in the x-y plane\n"
     ]
    },
    {
     "name": "stdout",
     "output_type": "stream",
     "text": [
      "halo number 11 is done\n"
     ]
    },
    {
     "name": "stderr",
     "output_type": "stream",
     "text": [
      "pynbody.analysis.profile : Profile v_circ -- this routine assumes the disk is in the x-y plane\n"
     ]
    },
    {
     "name": "stdout",
     "output_type": "stream",
     "text": [
      "halo number 12 is done\n"
     ]
    },
    {
     "name": "stderr",
     "output_type": "stream",
     "text": [
      "pynbody.analysis.profile : Profile v_circ -- this routine assumes the disk is in the x-y plane\n"
     ]
    },
    {
     "name": "stdout",
     "output_type": "stream",
     "text": [
      "halo number 13 is done\n"
     ]
    },
    {
     "name": "stderr",
     "output_type": "stream",
     "text": [
      "pynbody.analysis.profile : Profile v_circ -- this routine assumes the disk is in the x-y plane\n"
     ]
    },
    {
     "name": "stdout",
     "output_type": "stream",
     "text": [
      "halo number 14 is done\n"
     ]
    },
    {
     "name": "stderr",
     "output_type": "stream",
     "text": [
      "pynbody.analysis.profile : Profile v_circ -- this routine assumes the disk is in the x-y plane\n"
     ]
    },
    {
     "name": "stdout",
     "output_type": "stream",
     "text": [
      "halo number 15 is done\n"
     ]
    },
    {
     "name": "stderr",
     "output_type": "stream",
     "text": [
      "pynbody.analysis.profile : Profile v_circ -- this routine assumes the disk is in the x-y plane\n"
     ]
    },
    {
     "name": "stdout",
     "output_type": "stream",
     "text": [
      "halo number 16 is done\n"
     ]
    },
    {
     "name": "stderr",
     "output_type": "stream",
     "text": [
      "pynbody.analysis.profile : Profile v_circ -- this routine assumes the disk is in the x-y plane\n"
     ]
    },
    {
     "name": "stdout",
     "output_type": "stream",
     "text": [
      "halo number 17 is done\n"
     ]
    },
    {
     "name": "stderr",
     "output_type": "stream",
     "text": [
      "pynbody.analysis.profile : Profile v_circ -- this routine assumes the disk is in the x-y plane\n"
     ]
    },
    {
     "name": "stdout",
     "output_type": "stream",
     "text": [
      "halo number 18 is done\n"
     ]
    },
    {
     "name": "stderr",
     "output_type": "stream",
     "text": [
      "pynbody.analysis.profile : Profile v_circ -- this routine assumes the disk is in the x-y plane\n"
     ]
    },
    {
     "name": "stdout",
     "output_type": "stream",
     "text": [
      "halo number 19 is done\n"
     ]
    },
    {
     "name": "stderr",
     "output_type": "stream",
     "text": [
      "pynbody.analysis.profile : Profile v_circ -- this routine assumes the disk is in the x-y plane\n"
     ]
    },
    {
     "name": "stdout",
     "output_type": "stream",
     "text": [
      "halo number 20 is done\n"
     ]
    },
    {
     "name": "stderr",
     "output_type": "stream",
     "text": [
      "pynbody.analysis.profile : Profile v_circ -- this routine assumes the disk is in the x-y plane\n"
     ]
    },
    {
     "name": "stdout",
     "output_type": "stream",
     "text": [
      "halo number 21 is done\n"
     ]
    },
    {
     "name": "stderr",
     "output_type": "stream",
     "text": [
      "pynbody.analysis.profile : Profile v_circ -- this routine assumes the disk is in the x-y plane\n"
     ]
    },
    {
     "name": "stdout",
     "output_type": "stream",
     "text": [
      "faceon has failed, trying backup\n",
      "halo number 22 is done\n"
     ]
    },
    {
     "name": "stderr",
     "output_type": "stream",
     "text": [
      "pynbody.analysis.profile : Profile v_circ -- this routine assumes the disk is in the x-y plane\n"
     ]
    },
    {
     "name": "stdout",
     "output_type": "stream",
     "text": [
      "halo number 23 is done\n"
     ]
    },
    {
     "name": "stderr",
     "output_type": "stream",
     "text": [
      "pynbody.analysis.profile : Profile v_circ -- this routine assumes the disk is in the x-y plane\n"
     ]
    },
    {
     "name": "stdout",
     "output_type": "stream",
     "text": [
      "halo number 24 is done\n"
     ]
    },
    {
     "name": "stderr",
     "output_type": "stream",
     "text": [
      "pynbody.analysis.profile : Profile v_circ -- this routine assumes the disk is in the x-y plane\n"
     ]
    },
    {
     "name": "stdout",
     "output_type": "stream",
     "text": [
      "halo number 25 is done\n",
      "faceon has failed, trying backup\n"
     ]
    },
    {
     "name": "stderr",
     "output_type": "stream",
     "text": [
      "pynbody.analysis.profile : Profile v_circ -- this routine assumes the disk is in the x-y plane\n"
     ]
    },
    {
     "name": "stdout",
     "output_type": "stream",
     "text": [
      "halo number 26 is done\n"
     ]
    },
    {
     "name": "stderr",
     "output_type": "stream",
     "text": [
      "pynbody.analysis.profile : Profile v_circ -- this routine assumes the disk is in the x-y plane\n"
     ]
    },
    {
     "name": "stdout",
     "output_type": "stream",
     "text": [
      "halo number 27 is done\n"
     ]
    },
    {
     "name": "stderr",
     "output_type": "stream",
     "text": [
      "pynbody.analysis.profile : Profile v_circ -- this routine assumes the disk is in the x-y plane\n"
     ]
    },
    {
     "name": "stdout",
     "output_type": "stream",
     "text": [
      "halo number 28 is done\n"
     ]
    },
    {
     "name": "stderr",
     "output_type": "stream",
     "text": [
      "pynbody.analysis.profile : Profile v_circ -- this routine assumes the disk is in the x-y plane\n"
     ]
    },
    {
     "name": "stdout",
     "output_type": "stream",
     "text": [
      "halo number 29 is done\n"
     ]
    },
    {
     "name": "stderr",
     "output_type": "stream",
     "text": [
      "pynbody.analysis.profile : Profile v_circ -- this routine assumes the disk is in the x-y plane\n"
     ]
    },
    {
     "name": "stdout",
     "output_type": "stream",
     "text": [
      "halo number 30 is done\n"
     ]
    },
    {
     "name": "stderr",
     "output_type": "stream",
     "text": [
      "pynbody.analysis.profile : Profile v_circ -- this routine assumes the disk is in the x-y plane\n"
     ]
    },
    {
     "name": "stdout",
     "output_type": "stream",
     "text": [
      "halo number 31 is done\n"
     ]
    },
    {
     "name": "stderr",
     "output_type": "stream",
     "text": [
      "pynbody.analysis.profile : Profile v_circ -- this routine assumes the disk is in the x-y plane\n"
     ]
    },
    {
     "name": "stdout",
     "output_type": "stream",
     "text": [
      "halo number 32 is done\n"
     ]
    },
    {
     "name": "stderr",
     "output_type": "stream",
     "text": [
      "pynbody.analysis.profile : Profile v_circ -- this routine assumes the disk is in the x-y plane\n"
     ]
    },
    {
     "name": "stdout",
     "output_type": "stream",
     "text": [
      "halo number 33 is done\n"
     ]
    },
    {
     "name": "stderr",
     "output_type": "stream",
     "text": [
      "pynbody.analysis.profile : Profile v_circ -- this routine assumes the disk is in the x-y plane\n"
     ]
    },
    {
     "name": "stdout",
     "output_type": "stream",
     "text": [
      "halo number 34 is done\n"
     ]
    },
    {
     "name": "stderr",
     "output_type": "stream",
     "text": [
      "pynbody.analysis.profile : Profile v_circ -- this routine assumes the disk is in the x-y plane\n"
     ]
    },
    {
     "name": "stdout",
     "output_type": "stream",
     "text": [
      "faceon has failed, trying backup\n",
      "halo number 35 is done\n"
     ]
    },
    {
     "name": "stderr",
     "output_type": "stream",
     "text": [
      "pynbody.analysis.profile : Profile v_circ -- this routine assumes the disk is in the x-y plane\n"
     ]
    },
    {
     "name": "stdout",
     "output_type": "stream",
     "text": [
      "halo number 36 is done\n"
     ]
    },
    {
     "name": "stderr",
     "output_type": "stream",
     "text": [
      "pynbody.analysis.profile : Profile v_circ -- this routine assumes the disk is in the x-y plane\n"
     ]
    },
    {
     "name": "stdout",
     "output_type": "stream",
     "text": [
      "halo number 37 is done\n"
     ]
    },
    {
     "name": "stderr",
     "output_type": "stream",
     "text": [
      "pynbody.analysis.profile : Profile v_circ -- this routine assumes the disk is in the x-y plane\n"
     ]
    },
    {
     "name": "stdout",
     "output_type": "stream",
     "text": [
      "halo number 38 is done\n"
     ]
    },
    {
     "name": "stderr",
     "output_type": "stream",
     "text": [
      "pynbody.analysis.profile : Profile v_circ -- this routine assumes the disk is in the x-y plane\n"
     ]
    },
    {
     "name": "stdout",
     "output_type": "stream",
     "text": [
      "halo number 39 is done\n"
     ]
    },
    {
     "name": "stderr",
     "output_type": "stream",
     "text": [
      "pynbody.analysis.profile : Profile v_circ -- this routine assumes the disk is in the x-y plane\n"
     ]
    },
    {
     "name": "stdout",
     "output_type": "stream",
     "text": [
      "halo number 40 is done\n"
     ]
    },
    {
     "name": "stderr",
     "output_type": "stream",
     "text": [
      "pynbody.analysis.profile : Profile v_circ -- this routine assumes the disk is in the x-y plane\n"
     ]
    },
    {
     "name": "stdout",
     "output_type": "stream",
     "text": [
      "halo number 41 is done\n"
     ]
    },
    {
     "name": "stderr",
     "output_type": "stream",
     "text": [
      "pynbody.analysis.profile : Profile v_circ -- this routine assumes the disk is in the x-y plane\n",
      "pynbody.analysis.profile : Profile v_circ -- this routine assumes the disk is in the x-y plane\n"
     ]
    },
    {
     "name": "stdout",
     "output_type": "stream",
     "text": [
      "faceon has failed, trying backup\n",
      "halo number 42 is done\n"
     ]
    },
    {
     "name": "stderr",
     "output_type": "stream",
     "text": [
      "pynbody.analysis.profile : Profile v_circ -- this routine assumes the disk is in the x-y plane\n"
     ]
    },
    {
     "name": "stdout",
     "output_type": "stream",
     "text": [
      "halo number 43 is done\n",
      "faceon has failed, trying backup\n"
     ]
    },
    {
     "name": "stderr",
     "output_type": "stream",
     "text": [
      "pynbody.analysis.profile : Profile v_circ -- this routine assumes the disk is in the x-y plane\n"
     ]
    },
    {
     "name": "stdout",
     "output_type": "stream",
     "text": [
      "halo number 44 is done\n"
     ]
    },
    {
     "name": "stderr",
     "output_type": "stream",
     "text": [
      "pynbody.analysis.profile : Profile v_circ -- this routine assumes the disk is in the x-y plane\n"
     ]
    },
    {
     "name": "stdout",
     "output_type": "stream",
     "text": [
      "halo number 45 is done\n"
     ]
    },
    {
     "name": "stderr",
     "output_type": "stream",
     "text": [
      "pynbody.analysis.profile : Profile v_circ -- this routine assumes the disk is in the x-y plane\n"
     ]
    },
    {
     "name": "stdout",
     "output_type": "stream",
     "text": [
      "halo number 46 is done\n"
     ]
    },
    {
     "name": "stderr",
     "output_type": "stream",
     "text": [
      "pynbody.analysis.profile : Profile v_circ -- this routine assumes the disk is in the x-y plane\n"
     ]
    },
    {
     "name": "stdout",
     "output_type": "stream",
     "text": [
      "halo number 47 is done\n"
     ]
    },
    {
     "name": "stderr",
     "output_type": "stream",
     "text": [
      "pynbody.analysis.profile : Profile v_circ -- this routine assumes the disk is in the x-y plane\n"
     ]
    },
    {
     "name": "stdout",
     "output_type": "stream",
     "text": [
      "halo number 48 is done\n",
      "faceon has failed, trying backup\n"
     ]
    },
    {
     "name": "stderr",
     "output_type": "stream",
     "text": [
      "pynbody.analysis.profile : Profile v_circ -- this routine assumes the disk is in the x-y plane\n"
     ]
    },
    {
     "name": "stdout",
     "output_type": "stream",
     "text": [
      "halo number 49 is done\n"
     ]
    },
    {
     "name": "stderr",
     "output_type": "stream",
     "text": [
      "pynbody.analysis.profile : Profile v_circ -- this routine assumes the disk is in the x-y plane\n"
     ]
    },
    {
     "name": "stdout",
     "output_type": "stream",
     "text": [
      "halo number 50 is done\n"
     ]
    },
    {
     "name": "stderr",
     "output_type": "stream",
     "text": [
      "pynbody.analysis.profile : Profile v_circ -- this routine assumes the disk is in the x-y plane\n"
     ]
    },
    {
     "name": "stdout",
     "output_type": "stream",
     "text": [
      "halo number 51 is done\n"
     ]
    },
    {
     "name": "stderr",
     "output_type": "stream",
     "text": [
      "pynbody.analysis.profile : Profile v_circ -- this routine assumes the disk is in the x-y plane\n"
     ]
    },
    {
     "name": "stdout",
     "output_type": "stream",
     "text": [
      "halo number 52 is done\n"
     ]
    },
    {
     "name": "stderr",
     "output_type": "stream",
     "text": [
      "pynbody.analysis.profile : Profile v_circ -- this routine assumes the disk is in the x-y plane\n"
     ]
    },
    {
     "name": "stdout",
     "output_type": "stream",
     "text": [
      "halo number 53 is done\n"
     ]
    },
    {
     "name": "stderr",
     "output_type": "stream",
     "text": [
      "pynbody.analysis.profile : Profile v_circ -- this routine assumes the disk is in the x-y plane\n"
     ]
    },
    {
     "name": "stdout",
     "output_type": "stream",
     "text": [
      "halo number 54 is done\n",
      "faceon has failed, trying backup\n"
     ]
    },
    {
     "name": "stderr",
     "output_type": "stream",
     "text": [
      "pynbody.analysis.profile : Profile v_circ -- this routine assumes the disk is in the x-y plane\n"
     ]
    },
    {
     "name": "stdout",
     "output_type": "stream",
     "text": [
      "halo number 55 is done\n"
     ]
    },
    {
     "name": "stderr",
     "output_type": "stream",
     "text": [
      "pynbody.analysis.profile : Profile v_circ -- this routine assumes the disk is in the x-y plane\n"
     ]
    },
    {
     "name": "stdout",
     "output_type": "stream",
     "text": [
      "halo number 56 is done\n"
     ]
    },
    {
     "name": "stderr",
     "output_type": "stream",
     "text": [
      "pynbody.analysis.profile : Profile v_circ -- this routine assumes the disk is in the x-y plane\n"
     ]
    },
    {
     "name": "stdout",
     "output_type": "stream",
     "text": [
      "halo number 57 is done\n"
     ]
    },
    {
     "name": "stderr",
     "output_type": "stream",
     "text": [
      "pynbody.analysis.profile : Profile v_circ -- this routine assumes the disk is in the x-y plane\n"
     ]
    },
    {
     "name": "stdout",
     "output_type": "stream",
     "text": [
      "halo number 58 is done\n"
     ]
    },
    {
     "name": "stderr",
     "output_type": "stream",
     "text": [
      "pynbody.analysis.profile : Profile v_circ -- this routine assumes the disk is in the x-y plane\n"
     ]
    },
    {
     "name": "stdout",
     "output_type": "stream",
     "text": [
      "halo number 59 is done\n"
     ]
    },
    {
     "name": "stderr",
     "output_type": "stream",
     "text": [
      "pynbody.analysis.profile : Profile v_circ -- this routine assumes the disk is in the x-y plane\n"
     ]
    },
    {
     "name": "stdout",
     "output_type": "stream",
     "text": [
      "halo number 60 is done\n"
     ]
    },
    {
     "name": "stderr",
     "output_type": "stream",
     "text": [
      "pynbody.analysis.profile : Profile v_circ -- this routine assumes the disk is in the x-y plane\n"
     ]
    },
    {
     "name": "stdout",
     "output_type": "stream",
     "text": [
      "halo number 61 is done\n"
     ]
    },
    {
     "name": "stderr",
     "output_type": "stream",
     "text": [
      "pynbody.analysis.profile : Profile v_circ -- this routine assumes the disk is in the x-y plane\n"
     ]
    },
    {
     "name": "stdout",
     "output_type": "stream",
     "text": [
      "halo number 62 is done\n"
     ]
    },
    {
     "name": "stderr",
     "output_type": "stream",
     "text": [
      "pynbody.analysis.profile : Profile v_circ -- this routine assumes the disk is in the x-y plane\n"
     ]
    },
    {
     "name": "stdout",
     "output_type": "stream",
     "text": [
      "halo number 63 is done\n"
     ]
    },
    {
     "name": "stderr",
     "output_type": "stream",
     "text": [
      "pynbody.analysis.profile : Profile v_circ -- this routine assumes the disk is in the x-y plane\n"
     ]
    },
    {
     "name": "stdout",
     "output_type": "stream",
     "text": [
      "halo number 64 is done\n"
     ]
    },
    {
     "name": "stderr",
     "output_type": "stream",
     "text": [
      "pynbody.analysis.profile : Profile v_circ -- this routine assumes the disk is in the x-y plane\n"
     ]
    },
    {
     "name": "stdout",
     "output_type": "stream",
     "text": [
      "halo number 65 is done\n"
     ]
    },
    {
     "name": "stderr",
     "output_type": "stream",
     "text": [
      "pynbody.analysis.profile : Profile v_circ -- this routine assumes the disk is in the x-y plane\n"
     ]
    },
    {
     "name": "stdout",
     "output_type": "stream",
     "text": [
      "halo number 66 is done\n",
      "faceon has failed, trying backup\n"
     ]
    },
    {
     "name": "stderr",
     "output_type": "stream",
     "text": [
      "pynbody.analysis.profile : Profile v_circ -- this routine assumes the disk is in the x-y plane\n"
     ]
    },
    {
     "name": "stdout",
     "output_type": "stream",
     "text": [
      "halo number 67 is done\n",
      "faceon has failed, trying backup\n"
     ]
    },
    {
     "name": "stderr",
     "output_type": "stream",
     "text": [
      "pynbody.analysis.profile : Profile v_circ -- this routine assumes the disk is in the x-y plane\n"
     ]
    },
    {
     "name": "stdout",
     "output_type": "stream",
     "text": [
      "halo number 68 is done\n"
     ]
    },
    {
     "name": "stderr",
     "output_type": "stream",
     "text": [
      "pynbody.analysis.profile : Profile v_circ -- this routine assumes the disk is in the x-y plane\n"
     ]
    },
    {
     "name": "stdout",
     "output_type": "stream",
     "text": [
      "halo number 69 is done\n"
     ]
    },
    {
     "name": "stderr",
     "output_type": "stream",
     "text": [
      "pynbody.analysis.profile : Profile v_circ -- this routine assumes the disk is in the x-y plane\n"
     ]
    },
    {
     "name": "stdout",
     "output_type": "stream",
     "text": [
      "halo number 70 is done\n"
     ]
    },
    {
     "name": "stderr",
     "output_type": "stream",
     "text": [
      "pynbody.analysis.profile : Profile v_circ -- this routine assumes the disk is in the x-y plane\n"
     ]
    },
    {
     "name": "stdout",
     "output_type": "stream",
     "text": [
      "halo number 71 is done\n"
     ]
    },
    {
     "name": "stderr",
     "output_type": "stream",
     "text": [
      "pynbody.analysis.profile : Profile v_circ -- this routine assumes the disk is in the x-y plane\n"
     ]
    },
    {
     "name": "stdout",
     "output_type": "stream",
     "text": [
      "halo number 72 is done\n"
     ]
    },
    {
     "name": "stderr",
     "output_type": "stream",
     "text": [
      "pynbody.analysis.profile : Profile v_circ -- this routine assumes the disk is in the x-y plane\n"
     ]
    },
    {
     "name": "stdout",
     "output_type": "stream",
     "text": [
      "halo number 73 is done\n"
     ]
    },
    {
     "name": "stderr",
     "output_type": "stream",
     "text": [
      "pynbody.analysis.profile : Profile v_circ -- this routine assumes the disk is in the x-y plane\n"
     ]
    },
    {
     "name": "stdout",
     "output_type": "stream",
     "text": [
      "halo number 74 is done\n"
     ]
    },
    {
     "name": "stderr",
     "output_type": "stream",
     "text": [
      "pynbody.analysis.profile : Profile v_circ -- this routine assumes the disk is in the x-y plane\n"
     ]
    },
    {
     "name": "stdout",
     "output_type": "stream",
     "text": [
      "halo number 75 is done\n"
     ]
    },
    {
     "name": "stderr",
     "output_type": "stream",
     "text": [
      "pynbody.analysis.profile : Profile v_circ -- this routine assumes the disk is in the x-y plane\n"
     ]
    },
    {
     "name": "stdout",
     "output_type": "stream",
     "text": [
      "halo number 76 is done\n",
      "faceon has failed, trying backup\n"
     ]
    },
    {
     "name": "stderr",
     "output_type": "stream",
     "text": [
      "pynbody.analysis.profile : Profile v_circ -- this routine assumes the disk is in the x-y plane\n"
     ]
    },
    {
     "name": "stdout",
     "output_type": "stream",
     "text": [
      "halo number 77 is done\n"
     ]
    },
    {
     "name": "stderr",
     "output_type": "stream",
     "text": [
      "pynbody.analysis.profile : Profile v_circ -- this routine assumes the disk is in the x-y plane\n"
     ]
    },
    {
     "name": "stdout",
     "output_type": "stream",
     "text": [
      "halo number 78 is done\n"
     ]
    },
    {
     "name": "stderr",
     "output_type": "stream",
     "text": [
      "pynbody.analysis.profile : Profile v_circ -- this routine assumes the disk is in the x-y plane\n"
     ]
    },
    {
     "name": "stdout",
     "output_type": "stream",
     "text": [
      "halo number 79 is done\n"
     ]
    },
    {
     "name": "stderr",
     "output_type": "stream",
     "text": [
      "pynbody.analysis.profile : Profile v_circ -- this routine assumes the disk is in the x-y plane\n"
     ]
    },
    {
     "name": "stdout",
     "output_type": "stream",
     "text": [
      "halo number 80 is done\n"
     ]
    },
    {
     "name": "stderr",
     "output_type": "stream",
     "text": [
      "pynbody.analysis.profile : Profile v_circ -- this routine assumes the disk is in the x-y plane\n"
     ]
    },
    {
     "name": "stdout",
     "output_type": "stream",
     "text": [
      "halo number 81 is done\n"
     ]
    },
    {
     "name": "stderr",
     "output_type": "stream",
     "text": [
      "pynbody.analysis.profile : Profile v_circ -- this routine assumes the disk is in the x-y plane\n"
     ]
    },
    {
     "name": "stdout",
     "output_type": "stream",
     "text": [
      "halo number 82 is done\n"
     ]
    },
    {
     "name": "stderr",
     "output_type": "stream",
     "text": [
      "pynbody.analysis.profile : Profile v_circ -- this routine assumes the disk is in the x-y plane\n"
     ]
    },
    {
     "name": "stdout",
     "output_type": "stream",
     "text": [
      "halo number 83 is done\n"
     ]
    },
    {
     "name": "stderr",
     "output_type": "stream",
     "text": [
      "pynbody.analysis.profile : Profile v_circ -- this routine assumes the disk is in the x-y plane\n"
     ]
    },
    {
     "name": "stdout",
     "output_type": "stream",
     "text": [
      "halo number 84 is done\n"
     ]
    },
    {
     "name": "stderr",
     "output_type": "stream",
     "text": [
      "pynbody.analysis.profile : Profile v_circ -- this routine assumes the disk is in the x-y plane\n"
     ]
    },
    {
     "name": "stdout",
     "output_type": "stream",
     "text": [
      "halo number 85 is done\n",
      "faceon has failed, trying backup\n"
     ]
    },
    {
     "name": "stderr",
     "output_type": "stream",
     "text": [
      "pynbody.analysis.profile : Profile v_circ -- this routine assumes the disk is in the x-y plane\n"
     ]
    },
    {
     "name": "stdout",
     "output_type": "stream",
     "text": [
      "halo number 86 is done\n"
     ]
    },
    {
     "name": "stderr",
     "output_type": "stream",
     "text": [
      "pynbody.analysis.profile : Profile v_circ -- this routine assumes the disk is in the x-y plane\n"
     ]
    },
    {
     "name": "stdout",
     "output_type": "stream",
     "text": [
      "halo number 87 is done\n"
     ]
    },
    {
     "name": "stderr",
     "output_type": "stream",
     "text": [
      "pynbody.analysis.profile : Profile v_circ -- this routine assumes the disk is in the x-y plane\n"
     ]
    },
    {
     "name": "stdout",
     "output_type": "stream",
     "text": [
      "halo number 88 is done\n"
     ]
    },
    {
     "name": "stderr",
     "output_type": "stream",
     "text": [
      "pynbody.analysis.profile : Profile v_circ -- this routine assumes the disk is in the x-y plane\n"
     ]
    },
    {
     "name": "stdout",
     "output_type": "stream",
     "text": [
      "halo number 89 is done\n"
     ]
    },
    {
     "name": "stderr",
     "output_type": "stream",
     "text": [
      "pynbody.analysis.profile : Profile v_circ -- this routine assumes the disk is in the x-y plane\n"
     ]
    },
    {
     "name": "stdout",
     "output_type": "stream",
     "text": [
      "halo number 90 is done\n",
      "faceon has failed, trying backup\n"
     ]
    },
    {
     "name": "stderr",
     "output_type": "stream",
     "text": [
      "pynbody.analysis.profile : Profile v_circ -- this routine assumes the disk is in the x-y plane\n"
     ]
    },
    {
     "name": "stdout",
     "output_type": "stream",
     "text": [
      "halo number 91 is done\n"
     ]
    },
    {
     "name": "stderr",
     "output_type": "stream",
     "text": [
      "pynbody.analysis.profile : Profile v_circ -- this routine assumes the disk is in the x-y plane\n"
     ]
    },
    {
     "name": "stdout",
     "output_type": "stream",
     "text": [
      "halo number 92 is done\n"
     ]
    },
    {
     "name": "stderr",
     "output_type": "stream",
     "text": [
      "pynbody.analysis.profile : Profile v_circ -- this routine assumes the disk is in the x-y plane\n"
     ]
    },
    {
     "name": "stdout",
     "output_type": "stream",
     "text": [
      "halo number 93 is done\n"
     ]
    },
    {
     "name": "stderr",
     "output_type": "stream",
     "text": [
      "pynbody.analysis.profile : Profile v_circ -- this routine assumes the disk is in the x-y plane\n"
     ]
    },
    {
     "name": "stdout",
     "output_type": "stream",
     "text": [
      "halo number 94 is done\n"
     ]
    },
    {
     "name": "stderr",
     "output_type": "stream",
     "text": [
      "pynbody.analysis.profile : Profile v_circ -- this routine assumes the disk is in the x-y plane\n"
     ]
    },
    {
     "name": "stdout",
     "output_type": "stream",
     "text": [
      "halo number 95 is done\n",
      "faceon has failed, trying backup\n"
     ]
    },
    {
     "name": "stderr",
     "output_type": "stream",
     "text": [
      "pynbody.analysis.profile : Profile v_circ -- this routine assumes the disk is in the x-y plane\n"
     ]
    },
    {
     "name": "stdout",
     "output_type": "stream",
     "text": [
      "halo number 96 is done\n"
     ]
    },
    {
     "name": "stderr",
     "output_type": "stream",
     "text": [
      "pynbody.analysis.profile : Profile v_circ -- this routine assumes the disk is in the x-y plane\n"
     ]
    },
    {
     "name": "stdout",
     "output_type": "stream",
     "text": [
      "halo number 97 is done\n",
      "faceon has failed, trying backup\n"
     ]
    },
    {
     "name": "stderr",
     "output_type": "stream",
     "text": [
      "pynbody.analysis.profile : Profile v_circ -- this routine assumes the disk is in the x-y plane\n"
     ]
    },
    {
     "name": "stdout",
     "output_type": "stream",
     "text": [
      "halo number 98 is done\n"
     ]
    },
    {
     "name": "stderr",
     "output_type": "stream",
     "text": [
      "pynbody.analysis.profile : Profile v_circ -- this routine assumes the disk is in the x-y plane\n"
     ]
    },
    {
     "name": "stdout",
     "output_type": "stream",
     "text": [
      "halo number 99 is done\n"
     ]
    },
    {
     "name": "stderr",
     "output_type": "stream",
     "text": [
      "pynbody.analysis.profile : Profile v_circ -- this routine assumes the disk is in the x-y plane\n"
     ]
    },
    {
     "name": "stdout",
     "output_type": "stream",
     "text": [
      "halo number 100 is done\n"
     ]
    },
    {
     "name": "stderr",
     "output_type": "stream",
     "text": [
      "pynbody.analysis.profile : Profile v_circ -- this routine assumes the disk is in the x-y plane\n"
     ]
    },
    {
     "name": "stdout",
     "output_type": "stream",
     "text": [
      "halo number 101 is done\n"
     ]
    },
    {
     "name": "stderr",
     "output_type": "stream",
     "text": [
      "pynbody.analysis.profile : Profile v_circ -- this routine assumes the disk is in the x-y plane\n"
     ]
    },
    {
     "name": "stdout",
     "output_type": "stream",
     "text": [
      "halo number 102 is done\n"
     ]
    },
    {
     "name": "stderr",
     "output_type": "stream",
     "text": [
      "pynbody.analysis.profile : Profile v_circ -- this routine assumes the disk is in the x-y plane\n"
     ]
    },
    {
     "name": "stdout",
     "output_type": "stream",
     "text": [
      "halo number 103 is done\n"
     ]
    },
    {
     "name": "stderr",
     "output_type": "stream",
     "text": [
      "pynbody.analysis.profile : Profile v_circ -- this routine assumes the disk is in the x-y plane\n"
     ]
    },
    {
     "name": "stdout",
     "output_type": "stream",
     "text": [
      "halo number 104 is done\n"
     ]
    },
    {
     "name": "stderr",
     "output_type": "stream",
     "text": [
      "pynbody.analysis.profile : Profile v_circ -- this routine assumes the disk is in the x-y plane\n"
     ]
    },
    {
     "name": "stdout",
     "output_type": "stream",
     "text": [
      "halo number 105 is done\n"
     ]
    },
    {
     "name": "stderr",
     "output_type": "stream",
     "text": [
      "pynbody.analysis.profile : Profile v_circ -- this routine assumes the disk is in the x-y plane\n"
     ]
    },
    {
     "name": "stdout",
     "output_type": "stream",
     "text": [
      "halo number 106 is done\n"
     ]
    },
    {
     "name": "stderr",
     "output_type": "stream",
     "text": [
      "pynbody.analysis.profile : Profile v_circ -- this routine assumes the disk is in the x-y plane\n"
     ]
    },
    {
     "name": "stdout",
     "output_type": "stream",
     "text": [
      "halo number 107 is done\n"
     ]
    },
    {
     "name": "stderr",
     "output_type": "stream",
     "text": [
      "pynbody.analysis.profile : Profile v_circ -- this routine assumes the disk is in the x-y plane\n"
     ]
    },
    {
     "name": "stdout",
     "output_type": "stream",
     "text": [
      "halo number 108 is done\n"
     ]
    },
    {
     "name": "stderr",
     "output_type": "stream",
     "text": [
      "pynbody.analysis.profile : Profile v_circ -- this routine assumes the disk is in the x-y plane\n"
     ]
    },
    {
     "name": "stdout",
     "output_type": "stream",
     "text": [
      "halo number 109 is done\n"
     ]
    },
    {
     "name": "stderr",
     "output_type": "stream",
     "text": [
      "pynbody.analysis.profile : Profile v_circ -- this routine assumes the disk is in the x-y plane\n"
     ]
    },
    {
     "name": "stdout",
     "output_type": "stream",
     "text": [
      "halo number 110 is done\n"
     ]
    },
    {
     "name": "stderr",
     "output_type": "stream",
     "text": [
      "pynbody.analysis.profile : Profile v_circ -- this routine assumes the disk is in the x-y plane\n"
     ]
    },
    {
     "name": "stdout",
     "output_type": "stream",
     "text": [
      "halo number 111 is done\n"
     ]
    },
    {
     "name": "stderr",
     "output_type": "stream",
     "text": [
      "pynbody.analysis.profile : Profile v_circ -- this routine assumes the disk is in the x-y plane\n"
     ]
    },
    {
     "name": "stdout",
     "output_type": "stream",
     "text": [
      "halo number 112 is done\n"
     ]
    },
    {
     "name": "stderr",
     "output_type": "stream",
     "text": [
      "pynbody.analysis.profile : Profile v_circ -- this routine assumes the disk is in the x-y plane\n"
     ]
    },
    {
     "name": "stdout",
     "output_type": "stream",
     "text": [
      "halo number 113 is done\n"
     ]
    },
    {
     "name": "stderr",
     "output_type": "stream",
     "text": [
      "pynbody.analysis.profile : Profile v_circ -- this routine assumes the disk is in the x-y plane\n",
      "pynbody.analysis.profile : Profile v_circ -- this routine assumes the disk is in the x-y plane\n"
     ]
    },
    {
     "name": "stdout",
     "output_type": "stream",
     "text": [
      "faceon has failed, trying backup\n",
      "halo number 114 is done\n"
     ]
    },
    {
     "name": "stderr",
     "output_type": "stream",
     "text": [
      "pynbody.analysis.profile : Profile v_circ -- this routine assumes the disk is in the x-y plane\n"
     ]
    },
    {
     "name": "stdout",
     "output_type": "stream",
     "text": [
      "halo number 115 is done\n"
     ]
    },
    {
     "name": "stderr",
     "output_type": "stream",
     "text": [
      "pynbody.analysis.profile : Profile v_circ -- this routine assumes the disk is in the x-y plane\n"
     ]
    },
    {
     "name": "stdout",
     "output_type": "stream",
     "text": [
      "faceon has failed, trying backup\n",
      "halo number 116 is done\n"
     ]
    },
    {
     "name": "stderr",
     "output_type": "stream",
     "text": [
      "pynbody.analysis.profile : Profile v_circ -- this routine assumes the disk is in the x-y plane\n"
     ]
    },
    {
     "name": "stdout",
     "output_type": "stream",
     "text": [
      "halo number 117 is done\n"
     ]
    },
    {
     "name": "stderr",
     "output_type": "stream",
     "text": [
      "pynbody.analysis.profile : Profile v_circ -- this routine assumes the disk is in the x-y plane\n"
     ]
    },
    {
     "name": "stdout",
     "output_type": "stream",
     "text": [
      "halo number 118 is done\n"
     ]
    },
    {
     "name": "stderr",
     "output_type": "stream",
     "text": [
      "pynbody.analysis.profile : Profile v_circ -- this routine assumes the disk is in the x-y plane\n"
     ]
    },
    {
     "name": "stdout",
     "output_type": "stream",
     "text": [
      "halo number 119 is done\n"
     ]
    },
    {
     "name": "stderr",
     "output_type": "stream",
     "text": [
      "pynbody.analysis.profile : Profile v_circ -- this routine assumes the disk is in the x-y plane\n"
     ]
    },
    {
     "name": "stdout",
     "output_type": "stream",
     "text": [
      "halo number 120 is done\n"
     ]
    },
    {
     "name": "stderr",
     "output_type": "stream",
     "text": [
      "pynbody.analysis.profile : Profile v_circ -- this routine assumes the disk is in the x-y plane\n"
     ]
    },
    {
     "name": "stdout",
     "output_type": "stream",
     "text": [
      "halo number 121 is done\n"
     ]
    },
    {
     "name": "stderr",
     "output_type": "stream",
     "text": [
      "pynbody.analysis.profile : Profile v_circ -- this routine assumes the disk is in the x-y plane\n"
     ]
    },
    {
     "name": "stdout",
     "output_type": "stream",
     "text": [
      "halo number 122 is done\n"
     ]
    },
    {
     "name": "stderr",
     "output_type": "stream",
     "text": [
      "pynbody.analysis.profile : Profile v_circ -- this routine assumes the disk is in the x-y plane\n"
     ]
    },
    {
     "name": "stdout",
     "output_type": "stream",
     "text": [
      "halo number 123 is done\n"
     ]
    },
    {
     "name": "stderr",
     "output_type": "stream",
     "text": [
      "pynbody.analysis.profile : Profile v_circ -- this routine assumes the disk is in the x-y plane\n"
     ]
    },
    {
     "name": "stdout",
     "output_type": "stream",
     "text": [
      "halo number 124 is done\n"
     ]
    },
    {
     "name": "stderr",
     "output_type": "stream",
     "text": [
      "pynbody.analysis.profile : Profile v_circ -- this routine assumes the disk is in the x-y plane\n"
     ]
    },
    {
     "name": "stdout",
     "output_type": "stream",
     "text": [
      "halo number 125 is done\n"
     ]
    },
    {
     "name": "stderr",
     "output_type": "stream",
     "text": [
      "pynbody.analysis.profile : Profile v_circ -- this routine assumes the disk is in the x-y plane\n"
     ]
    },
    {
     "name": "stdout",
     "output_type": "stream",
     "text": [
      "halo number 126 is done\n"
     ]
    },
    {
     "name": "stderr",
     "output_type": "stream",
     "text": [
      "pynbody.analysis.profile : Profile v_circ -- this routine assumes the disk is in the x-y plane\n"
     ]
    },
    {
     "name": "stdout",
     "output_type": "stream",
     "text": [
      "halo number 127 is done\n"
     ]
    },
    {
     "name": "stderr",
     "output_type": "stream",
     "text": [
      "pynbody.analysis.profile : Profile v_circ -- this routine assumes the disk is in the x-y plane\n"
     ]
    },
    {
     "name": "stdout",
     "output_type": "stream",
     "text": [
      "halo number 128 is done\n"
     ]
    },
    {
     "name": "stderr",
     "output_type": "stream",
     "text": [
      "pynbody.analysis.profile : Profile v_circ -- this routine assumes the disk is in the x-y plane\n"
     ]
    },
    {
     "name": "stdout",
     "output_type": "stream",
     "text": [
      "halo number 129 is done\n"
     ]
    },
    {
     "name": "stderr",
     "output_type": "stream",
     "text": [
      "pynbody.analysis.profile : Profile v_circ -- this routine assumes the disk is in the x-y plane\n"
     ]
    },
    {
     "name": "stdout",
     "output_type": "stream",
     "text": [
      "halo number 130 is done\n"
     ]
    },
    {
     "name": "stderr",
     "output_type": "stream",
     "text": [
      "pynbody.analysis.profile : Profile v_circ -- this routine assumes the disk is in the x-y plane\n"
     ]
    },
    {
     "name": "stdout",
     "output_type": "stream",
     "text": [
      "halo number 131 is done\n"
     ]
    },
    {
     "name": "stderr",
     "output_type": "stream",
     "text": [
      "pynbody.analysis.profile : Profile v_circ -- this routine assumes the disk is in the x-y plane\n"
     ]
    },
    {
     "name": "stdout",
     "output_type": "stream",
     "text": [
      "halo number 132 is done\n"
     ]
    },
    {
     "name": "stderr",
     "output_type": "stream",
     "text": [
      "pynbody.analysis.profile : Profile v_circ -- this routine assumes the disk is in the x-y plane\n"
     ]
    },
    {
     "name": "stdout",
     "output_type": "stream",
     "text": [
      "halo number 133 is done\n"
     ]
    },
    {
     "name": "stderr",
     "output_type": "stream",
     "text": [
      "pynbody.analysis.profile : Profile v_circ -- this routine assumes the disk is in the x-y plane\n"
     ]
    },
    {
     "name": "stdout",
     "output_type": "stream",
     "text": [
      "halo number 134 is done\n"
     ]
    },
    {
     "name": "stderr",
     "output_type": "stream",
     "text": [
      "pynbody.analysis.profile : Profile v_circ -- this routine assumes the disk is in the x-y plane\n"
     ]
    },
    {
     "name": "stdout",
     "output_type": "stream",
     "text": [
      "halo number 135 is done\n"
     ]
    },
    {
     "name": "stderr",
     "output_type": "stream",
     "text": [
      "pynbody.analysis.profile : Profile v_circ -- this routine assumes the disk is in the x-y plane\n"
     ]
    },
    {
     "name": "stdout",
     "output_type": "stream",
     "text": [
      "halo number 136 is done\n"
     ]
    },
    {
     "name": "stderr",
     "output_type": "stream",
     "text": [
      "pynbody.analysis.profile : Profile v_circ -- this routine assumes the disk is in the x-y plane\n"
     ]
    },
    {
     "name": "stdout",
     "output_type": "stream",
     "text": [
      "halo number 137 is done\n",
      "faceon has failed, trying backup\n"
     ]
    },
    {
     "name": "stderr",
     "output_type": "stream",
     "text": [
      "pynbody.analysis.profile : Profile v_circ -- this routine assumes the disk is in the x-y plane\n"
     ]
    },
    {
     "name": "stdout",
     "output_type": "stream",
     "text": [
      "halo number 138 is done\n"
     ]
    },
    {
     "name": "stderr",
     "output_type": "stream",
     "text": [
      "pynbody.analysis.profile : Profile v_circ -- this routine assumes the disk is in the x-y plane\n"
     ]
    },
    {
     "name": "stdout",
     "output_type": "stream",
     "text": [
      "halo number 139 is done\n"
     ]
    },
    {
     "name": "stderr",
     "output_type": "stream",
     "text": [
      "pynbody.analysis.profile : Profile v_circ -- this routine assumes the disk is in the x-y plane\n"
     ]
    },
    {
     "name": "stdout",
     "output_type": "stream",
     "text": [
      "halo number 140 is done\n",
      "faceon has failed, trying backup\n"
     ]
    },
    {
     "name": "stderr",
     "output_type": "stream",
     "text": [
      "pynbody.analysis.profile : Profile v_circ -- this routine assumes the disk is in the x-y plane\n"
     ]
    },
    {
     "name": "stdout",
     "output_type": "stream",
     "text": [
      "halo number 141 is done\n"
     ]
    },
    {
     "name": "stderr",
     "output_type": "stream",
     "text": [
      "pynbody.analysis.profile : Profile v_circ -- this routine assumes the disk is in the x-y plane\n"
     ]
    },
    {
     "name": "stdout",
     "output_type": "stream",
     "text": [
      "halo number 142 is done\n"
     ]
    },
    {
     "name": "stderr",
     "output_type": "stream",
     "text": [
      "pynbody.analysis.profile : Profile v_circ -- this routine assumes the disk is in the x-y plane\n"
     ]
    },
    {
     "name": "stdout",
     "output_type": "stream",
     "text": [
      "halo number 143 is done\n"
     ]
    },
    {
     "name": "stderr",
     "output_type": "stream",
     "text": [
      "pynbody.analysis.profile : Profile v_circ -- this routine assumes the disk is in the x-y plane\n"
     ]
    },
    {
     "name": "stdout",
     "output_type": "stream",
     "text": [
      "halo number 144 is done\n"
     ]
    },
    {
     "name": "stderr",
     "output_type": "stream",
     "text": [
      "pynbody.analysis.profile : Profile v_circ -- this routine assumes the disk is in the x-y plane\n"
     ]
    },
    {
     "name": "stdout",
     "output_type": "stream",
     "text": [
      "halo number 145 is done\n"
     ]
    },
    {
     "name": "stderr",
     "output_type": "stream",
     "text": [
      "pynbody.analysis.profile : Profile v_circ -- this routine assumes the disk is in the x-y plane\n"
     ]
    },
    {
     "name": "stdout",
     "output_type": "stream",
     "text": [
      "halo number 146 is done\n",
      "faceon has failed, trying backup\n"
     ]
    },
    {
     "name": "stderr",
     "output_type": "stream",
     "text": [
      "pynbody.analysis.profile : Profile v_circ -- this routine assumes the disk is in the x-y plane\n"
     ]
    },
    {
     "name": "stdout",
     "output_type": "stream",
     "text": [
      "halo number 147 is done\n"
     ]
    },
    {
     "name": "stderr",
     "output_type": "stream",
     "text": [
      "pynbody.analysis.profile : Profile v_circ -- this routine assumes the disk is in the x-y plane\n"
     ]
    },
    {
     "name": "stdout",
     "output_type": "stream",
     "text": [
      "halo number 148 is done\n",
      "faceon has failed, trying backup\n"
     ]
    },
    {
     "name": "stderr",
     "output_type": "stream",
     "text": [
      "pynbody.analysis.profile : Profile v_circ -- this routine assumes the disk is in the x-y plane\n"
     ]
    },
    {
     "name": "stdout",
     "output_type": "stream",
     "text": [
      "halo number 149 is done\n"
     ]
    },
    {
     "name": "stderr",
     "output_type": "stream",
     "text": [
      "pynbody.analysis.profile : Profile v_circ -- this routine assumes the disk is in the x-y plane\n"
     ]
    },
    {
     "name": "stdout",
     "output_type": "stream",
     "text": [
      "halo number 150 is done\n",
      "faceon has failed, trying backup\n"
     ]
    },
    {
     "name": "stderr",
     "output_type": "stream",
     "text": [
      "pynbody.analysis.profile : Profile v_circ -- this routine assumes the disk is in the x-y plane\n"
     ]
    },
    {
     "name": "stdout",
     "output_type": "stream",
     "text": [
      "halo number 151 is done\n"
     ]
    },
    {
     "name": "stderr",
     "output_type": "stream",
     "text": [
      "pynbody.analysis.profile : Profile v_circ -- this routine assumes the disk is in the x-y plane\n"
     ]
    },
    {
     "name": "stdout",
     "output_type": "stream",
     "text": [
      "halo number 152 is done\n"
     ]
    },
    {
     "name": "stderr",
     "output_type": "stream",
     "text": [
      "pynbody.analysis.profile : Profile v_circ -- this routine assumes the disk is in the x-y plane\n"
     ]
    },
    {
     "name": "stdout",
     "output_type": "stream",
     "text": [
      "halo number 153 is done\n"
     ]
    },
    {
     "name": "stderr",
     "output_type": "stream",
     "text": [
      "pynbody.analysis.profile : Profile v_circ -- this routine assumes the disk is in the x-y plane\n"
     ]
    },
    {
     "name": "stdout",
     "output_type": "stream",
     "text": [
      "halo number 154 is done\n",
      "faceon has failed, trying backup\n"
     ]
    },
    {
     "name": "stderr",
     "output_type": "stream",
     "text": [
      "pynbody.analysis.profile : Profile v_circ -- this routine assumes the disk is in the x-y plane\n"
     ]
    },
    {
     "name": "stdout",
     "output_type": "stream",
     "text": [
      "halo number 155 is done\n"
     ]
    },
    {
     "name": "stderr",
     "output_type": "stream",
     "text": [
      "pynbody.analysis.profile : Profile v_circ -- this routine assumes the disk is in the x-y plane\n",
      "pynbody.analysis.profile : Profile v_circ -- this routine assumes the disk is in the x-y plane\n"
     ]
    },
    {
     "name": "stdout",
     "output_type": "stream",
     "text": [
      "faceon has failed, trying backup\n",
      "halo number 156 is done\n"
     ]
    },
    {
     "name": "stderr",
     "output_type": "stream",
     "text": [
      "pynbody.analysis.profile : Profile v_circ -- this routine assumes the disk is in the x-y plane\n"
     ]
    },
    {
     "name": "stdout",
     "output_type": "stream",
     "text": [
      "halo number 157 is done\n"
     ]
    },
    {
     "name": "stderr",
     "output_type": "stream",
     "text": [
      "pynbody.analysis.profile : Profile v_circ -- this routine assumes the disk is in the x-y plane\n"
     ]
    },
    {
     "name": "stdout",
     "output_type": "stream",
     "text": [
      "halo number 158 is done\n"
     ]
    },
    {
     "name": "stderr",
     "output_type": "stream",
     "text": [
      "pynbody.analysis.profile : Profile v_circ -- this routine assumes the disk is in the x-y plane\n"
     ]
    },
    {
     "name": "stdout",
     "output_type": "stream",
     "text": [
      "halo number 159 is done\n"
     ]
    },
    {
     "name": "stderr",
     "output_type": "stream",
     "text": [
      "pynbody.analysis.profile : Profile v_circ -- this routine assumes the disk is in the x-y plane\n"
     ]
    },
    {
     "name": "stdout",
     "output_type": "stream",
     "text": [
      "halo number 160 is done\n"
     ]
    },
    {
     "name": "stderr",
     "output_type": "stream",
     "text": [
      "pynbody.analysis.profile : Profile v_circ -- this routine assumes the disk is in the x-y plane\n"
     ]
    },
    {
     "name": "stdout",
     "output_type": "stream",
     "text": [
      "halo number 161 is done\n"
     ]
    },
    {
     "name": "stderr",
     "output_type": "stream",
     "text": [
      "pynbody.analysis.profile : Profile v_circ -- this routine assumes the disk is in the x-y plane\n"
     ]
    },
    {
     "name": "stdout",
     "output_type": "stream",
     "text": [
      "halo number 162 is done\n"
     ]
    },
    {
     "name": "stderr",
     "output_type": "stream",
     "text": [
      "pynbody.analysis.profile : Profile v_circ -- this routine assumes the disk is in the x-y plane\n"
     ]
    },
    {
     "name": "stdout",
     "output_type": "stream",
     "text": [
      "halo number 163 is done\n"
     ]
    },
    {
     "name": "stderr",
     "output_type": "stream",
     "text": [
      "pynbody.analysis.profile : Profile v_circ -- this routine assumes the disk is in the x-y plane\n"
     ]
    },
    {
     "name": "stdout",
     "output_type": "stream",
     "text": [
      "halo number 164 is done\n"
     ]
    },
    {
     "name": "stderr",
     "output_type": "stream",
     "text": [
      "pynbody.analysis.profile : Profile v_circ -- this routine assumes the disk is in the x-y plane\n"
     ]
    },
    {
     "name": "stdout",
     "output_type": "stream",
     "text": [
      "halo number 165 is done\n"
     ]
    },
    {
     "name": "stderr",
     "output_type": "stream",
     "text": [
      "pynbody.analysis.profile : Profile v_circ -- this routine assumes the disk is in the x-y plane\n"
     ]
    },
    {
     "name": "stdout",
     "output_type": "stream",
     "text": [
      "halo number 166 is done\n"
     ]
    },
    {
     "name": "stderr",
     "output_type": "stream",
     "text": [
      "pynbody.analysis.profile : Profile v_circ -- this routine assumes the disk is in the x-y plane\n"
     ]
    },
    {
     "name": "stdout",
     "output_type": "stream",
     "text": [
      "halo number 167 is done\n"
     ]
    },
    {
     "name": "stderr",
     "output_type": "stream",
     "text": [
      "pynbody.analysis.profile : Profile v_circ -- this routine assumes the disk is in the x-y plane\n"
     ]
    },
    {
     "name": "stdout",
     "output_type": "stream",
     "text": [
      "halo number 168 is done\n"
     ]
    },
    {
     "name": "stderr",
     "output_type": "stream",
     "text": [
      "pynbody.analysis.profile : Profile v_circ -- this routine assumes the disk is in the x-y plane\n"
     ]
    },
    {
     "name": "stdout",
     "output_type": "stream",
     "text": [
      "halo number 169 is done\n"
     ]
    },
    {
     "name": "stderr",
     "output_type": "stream",
     "text": [
      "pynbody.analysis.profile : Profile v_circ -- this routine assumes the disk is in the x-y plane\n"
     ]
    },
    {
     "name": "stdout",
     "output_type": "stream",
     "text": [
      "halo number 170 is done\n"
     ]
    },
    {
     "name": "stderr",
     "output_type": "stream",
     "text": [
      "pynbody.analysis.profile : Profile v_circ -- this routine assumes the disk is in the x-y plane\n"
     ]
    },
    {
     "name": "stdout",
     "output_type": "stream",
     "text": [
      "halo number 171 is done\n"
     ]
    },
    {
     "name": "stderr",
     "output_type": "stream",
     "text": [
      "pynbody.analysis.profile : Profile v_circ -- this routine assumes the disk is in the x-y plane\n"
     ]
    },
    {
     "name": "stdout",
     "output_type": "stream",
     "text": [
      "halo number 172 is done\n",
      "faceon has failed, trying backup\n"
     ]
    },
    {
     "name": "stderr",
     "output_type": "stream",
     "text": [
      "pynbody.analysis.profile : Profile v_circ -- this routine assumes the disk is in the x-y plane\n"
     ]
    },
    {
     "name": "stdout",
     "output_type": "stream",
     "text": [
      "halo number 173 is done\n"
     ]
    },
    {
     "name": "stderr",
     "output_type": "stream",
     "text": [
      "pynbody.analysis.profile : Profile v_circ -- this routine assumes the disk is in the x-y plane\n"
     ]
    },
    {
     "name": "stdout",
     "output_type": "stream",
     "text": [
      "halo number 174 is done\n",
      "faceon has failed, trying backup\n"
     ]
    },
    {
     "name": "stderr",
     "output_type": "stream",
     "text": [
      "pynbody.analysis.profile : Profile v_circ -- this routine assumes the disk is in the x-y plane\n"
     ]
    },
    {
     "name": "stdout",
     "output_type": "stream",
     "text": [
      "halo number 175 is done\n"
     ]
    },
    {
     "name": "stderr",
     "output_type": "stream",
     "text": [
      "pynbody.analysis.profile : Profile v_circ -- this routine assumes the disk is in the x-y plane\n"
     ]
    },
    {
     "name": "stdout",
     "output_type": "stream",
     "text": [
      "halo number 176 is done\n"
     ]
    },
    {
     "name": "stderr",
     "output_type": "stream",
     "text": [
      "pynbody.analysis.profile : Profile v_circ -- this routine assumes the disk is in the x-y plane\n"
     ]
    },
    {
     "name": "stdout",
     "output_type": "stream",
     "text": [
      "halo number 177 is done\n"
     ]
    },
    {
     "name": "stderr",
     "output_type": "stream",
     "text": [
      "pynbody.analysis.profile : Profile v_circ -- this routine assumes the disk is in the x-y plane\n"
     ]
    },
    {
     "name": "stdout",
     "output_type": "stream",
     "text": [
      "halo number 178 is done\n"
     ]
    },
    {
     "name": "stderr",
     "output_type": "stream",
     "text": [
      "pynbody.analysis.profile : Profile v_circ -- this routine assumes the disk is in the x-y plane\n"
     ]
    },
    {
     "name": "stdout",
     "output_type": "stream",
     "text": [
      "faceon has failed, trying backup\n",
      "halo number 179 is done\n",
      "faceon has failed, trying backup\n"
     ]
    },
    {
     "name": "stderr",
     "output_type": "stream",
     "text": [
      "pynbody.analysis.profile : Profile v_circ -- this routine assumes the disk is in the x-y plane\n"
     ]
    },
    {
     "name": "stdout",
     "output_type": "stream",
     "text": [
      "halo number 180 is done\n",
      "faceon has failed, trying backup\n"
     ]
    },
    {
     "name": "stderr",
     "output_type": "stream",
     "text": [
      "pynbody.analysis.profile : Profile v_circ -- this routine assumes the disk is in the x-y plane\n"
     ]
    },
    {
     "name": "stdout",
     "output_type": "stream",
     "text": [
      "halo number 181 is done\n"
     ]
    },
    {
     "name": "stderr",
     "output_type": "stream",
     "text": [
      "pynbody.analysis.profile : Profile v_circ -- this routine assumes the disk is in the x-y plane\n"
     ]
    },
    {
     "name": "stdout",
     "output_type": "stream",
     "text": [
      "halo number 182 is done\n"
     ]
    },
    {
     "name": "stderr",
     "output_type": "stream",
     "text": [
      "pynbody.analysis.profile : Profile v_circ -- this routine assumes the disk is in the x-y plane\n"
     ]
    },
    {
     "name": "stdout",
     "output_type": "stream",
     "text": [
      "halo number 183 is done\n"
     ]
    },
    {
     "name": "stderr",
     "output_type": "stream",
     "text": [
      "pynbody.analysis.profile : Profile v_circ -- this routine assumes the disk is in the x-y plane\n"
     ]
    },
    {
     "name": "stdout",
     "output_type": "stream",
     "text": [
      "halo number 184 is done\n"
     ]
    },
    {
     "name": "stderr",
     "output_type": "stream",
     "text": [
      "pynbody.analysis.profile : Profile v_circ -- this routine assumes the disk is in the x-y plane\n"
     ]
    },
    {
     "name": "stdout",
     "output_type": "stream",
     "text": [
      "halo number 185 is done\n"
     ]
    },
    {
     "name": "stderr",
     "output_type": "stream",
     "text": [
      "pynbody.analysis.profile : Profile v_circ -- this routine assumes the disk is in the x-y plane\n"
     ]
    },
    {
     "name": "stdout",
     "output_type": "stream",
     "text": [
      "halo number 186 is done\n"
     ]
    },
    {
     "name": "stderr",
     "output_type": "stream",
     "text": [
      "pynbody.analysis.profile : Profile v_circ -- this routine assumes the disk is in the x-y plane\n"
     ]
    },
    {
     "name": "stdout",
     "output_type": "stream",
     "text": [
      "halo number 187 is done\n"
     ]
    },
    {
     "name": "stderr",
     "output_type": "stream",
     "text": [
      "pynbody.analysis.profile : Profile v_circ -- this routine assumes the disk is in the x-y plane\n"
     ]
    },
    {
     "name": "stdout",
     "output_type": "stream",
     "text": [
      "halo number 188 is done\n"
     ]
    },
    {
     "name": "stderr",
     "output_type": "stream",
     "text": [
      "pynbody.analysis.profile : Profile v_circ -- this routine assumes the disk is in the x-y plane\n"
     ]
    },
    {
     "name": "stdout",
     "output_type": "stream",
     "text": [
      "halo number 189 is done\n",
      "faceon has failed, trying backup\n"
     ]
    },
    {
     "name": "stderr",
     "output_type": "stream",
     "text": [
      "pynbody.analysis.profile : Profile v_circ -- this routine assumes the disk is in the x-y plane\n"
     ]
    },
    {
     "name": "stdout",
     "output_type": "stream",
     "text": [
      "halo number 190 is done\n"
     ]
    },
    {
     "name": "stderr",
     "output_type": "stream",
     "text": [
      "pynbody.analysis.profile : Profile v_circ -- this routine assumes the disk is in the x-y plane\n",
      "pynbody.analysis.profile : Profile v_circ -- this routine assumes the disk is in the x-y plane\n"
     ]
    },
    {
     "name": "stdout",
     "output_type": "stream",
     "text": [
      "faceon has failed, trying backup\n",
      "halo number 191 is done\n"
     ]
    },
    {
     "name": "stderr",
     "output_type": "stream",
     "text": [
      "pynbody.analysis.profile : Profile v_circ -- this routine assumes the disk is in the x-y plane\n"
     ]
    },
    {
     "name": "stdout",
     "output_type": "stream",
     "text": [
      "halo number 192 is done\n"
     ]
    },
    {
     "name": "stderr",
     "output_type": "stream",
     "text": [
      "pynbody.analysis.profile : Profile v_circ -- this routine assumes the disk is in the x-y plane\n"
     ]
    },
    {
     "name": "stdout",
     "output_type": "stream",
     "text": [
      "halo number 193 is done\n"
     ]
    },
    {
     "name": "stderr",
     "output_type": "stream",
     "text": [
      "pynbody.analysis.profile : Profile v_circ -- this routine assumes the disk is in the x-y plane\n"
     ]
    },
    {
     "name": "stdout",
     "output_type": "stream",
     "text": [
      "halo number 194 is done\n"
     ]
    },
    {
     "name": "stderr",
     "output_type": "stream",
     "text": [
      "pynbody.analysis.profile : Profile v_circ -- this routine assumes the disk is in the x-y plane\n"
     ]
    },
    {
     "name": "stdout",
     "output_type": "stream",
     "text": [
      "halo number 195 is done\n"
     ]
    },
    {
     "name": "stderr",
     "output_type": "stream",
     "text": [
      "pynbody.analysis.profile : Profile v_circ -- this routine assumes the disk is in the x-y plane\n"
     ]
    },
    {
     "name": "stdout",
     "output_type": "stream",
     "text": [
      "halo number 196 is done\n"
     ]
    },
    {
     "name": "stderr",
     "output_type": "stream",
     "text": [
      "pynbody.analysis.profile : Profile v_circ -- this routine assumes the disk is in the x-y plane\n"
     ]
    },
    {
     "name": "stdout",
     "output_type": "stream",
     "text": [
      "halo number 197 is done\n"
     ]
    },
    {
     "name": "stderr",
     "output_type": "stream",
     "text": [
      "pynbody.analysis.profile : Profile v_circ -- this routine assumes the disk is in the x-y plane\n"
     ]
    },
    {
     "name": "stdout",
     "output_type": "stream",
     "text": [
      "halo number 198 is done\n"
     ]
    },
    {
     "name": "stderr",
     "output_type": "stream",
     "text": [
      "pynbody.analysis.profile : Profile v_circ -- this routine assumes the disk is in the x-y plane\n"
     ]
    },
    {
     "name": "stdout",
     "output_type": "stream",
     "text": [
      "halo number 199 is done\n"
     ]
    },
    {
     "name": "stderr",
     "output_type": "stream",
     "text": [
      "pynbody.analysis.profile : Profile v_circ -- this routine assumes the disk is in the x-y plane\n"
     ]
    },
    {
     "name": "stdout",
     "output_type": "stream",
     "text": [
      "halo number 200 is done\n",
      "faceon has failed, trying backup\n"
     ]
    },
    {
     "name": "stderr",
     "output_type": "stream",
     "text": [
      "pynbody.analysis.profile : Profile v_circ -- this routine assumes the disk is in the x-y plane\n"
     ]
    },
    {
     "name": "stdout",
     "output_type": "stream",
     "text": [
      "halo number 201 is done\n"
     ]
    },
    {
     "name": "stderr",
     "output_type": "stream",
     "text": [
      "pynbody.analysis.profile : Profile v_circ -- this routine assumes the disk is in the x-y plane\n"
     ]
    },
    {
     "name": "stdout",
     "output_type": "stream",
     "text": [
      "halo number 202 is done\n",
      "faceon has failed, trying backup\n"
     ]
    },
    {
     "name": "stderr",
     "output_type": "stream",
     "text": [
      "pynbody.analysis.profile : Profile v_circ -- this routine assumes the disk is in the x-y plane\n"
     ]
    },
    {
     "name": "stdout",
     "output_type": "stream",
     "text": [
      "halo number 203 is done\n"
     ]
    },
    {
     "name": "stderr",
     "output_type": "stream",
     "text": [
      "pynbody.analysis.profile : Profile v_circ -- this routine assumes the disk is in the x-y plane\n"
     ]
    },
    {
     "name": "stdout",
     "output_type": "stream",
     "text": [
      "halo number 204 is done\n",
      "faceon has failed, trying backup\n"
     ]
    },
    {
     "name": "stderr",
     "output_type": "stream",
     "text": [
      "pynbody.analysis.profile : Profile v_circ -- this routine assumes the disk is in the x-y plane\n"
     ]
    },
    {
     "name": "stdout",
     "output_type": "stream",
     "text": [
      "halo number 205 is done\n"
     ]
    },
    {
     "name": "stderr",
     "output_type": "stream",
     "text": [
      "pynbody.analysis.profile : Profile v_circ -- this routine assumes the disk is in the x-y plane\n"
     ]
    },
    {
     "name": "stdout",
     "output_type": "stream",
     "text": [
      "halo number 206 is done\n"
     ]
    },
    {
     "name": "stderr",
     "output_type": "stream",
     "text": [
      "pynbody.analysis.profile : Profile v_circ -- this routine assumes the disk is in the x-y plane\n"
     ]
    },
    {
     "name": "stdout",
     "output_type": "stream",
     "text": [
      "halo number 207 is done\n"
     ]
    },
    {
     "name": "stderr",
     "output_type": "stream",
     "text": [
      "pynbody.analysis.profile : Profile v_circ -- this routine assumes the disk is in the x-y plane\n"
     ]
    },
    {
     "name": "stdout",
     "output_type": "stream",
     "text": [
      "halo number 208 is done\n"
     ]
    },
    {
     "name": "stderr",
     "output_type": "stream",
     "text": [
      "pynbody.analysis.profile : Profile v_circ -- this routine assumes the disk is in the x-y plane\n"
     ]
    },
    {
     "name": "stdout",
     "output_type": "stream",
     "text": [
      "halo number 209 is done\n",
      "faceon has failed, trying backup\n"
     ]
    },
    {
     "name": "stderr",
     "output_type": "stream",
     "text": [
      "pynbody.analysis.profile : Profile v_circ -- this routine assumes the disk is in the x-y plane\n"
     ]
    },
    {
     "name": "stdout",
     "output_type": "stream",
     "text": [
      "halo number 210 is done\n"
     ]
    },
    {
     "name": "stderr",
     "output_type": "stream",
     "text": [
      "pynbody.analysis.profile : Profile v_circ -- this routine assumes the disk is in the x-y plane\n"
     ]
    },
    {
     "name": "stdout",
     "output_type": "stream",
     "text": [
      "halo number 211 is done\n"
     ]
    },
    {
     "name": "stderr",
     "output_type": "stream",
     "text": [
      "pynbody.analysis.profile : Profile v_circ -- this routine assumes the disk is in the x-y plane\n"
     ]
    },
    {
     "name": "stdout",
     "output_type": "stream",
     "text": [
      "halo number 212 is done\n"
     ]
    },
    {
     "name": "stderr",
     "output_type": "stream",
     "text": [
      "pynbody.analysis.profile : Profile v_circ -- this routine assumes the disk is in the x-y plane\n"
     ]
    },
    {
     "name": "stdout",
     "output_type": "stream",
     "text": [
      "halo number 213 is done\n",
      "faceon has failed, trying backup\n"
     ]
    },
    {
     "name": "stderr",
     "output_type": "stream",
     "text": [
      "pynbody.analysis.profile : Profile v_circ -- this routine assumes the disk is in the x-y plane\n"
     ]
    },
    {
     "name": "stdout",
     "output_type": "stream",
     "text": [
      "halo number 214 is done\n",
      "faceon has failed, trying backup\n"
     ]
    },
    {
     "name": "stderr",
     "output_type": "stream",
     "text": [
      "pynbody.analysis.profile : Profile v_circ -- this routine assumes the disk is in the x-y plane\n"
     ]
    },
    {
     "name": "stdout",
     "output_type": "stream",
     "text": [
      "halo number 215 is done\n"
     ]
    },
    {
     "name": "stderr",
     "output_type": "stream",
     "text": [
      "pynbody.analysis.profile : Profile v_circ -- this routine assumes the disk is in the x-y plane\n"
     ]
    },
    {
     "name": "stdout",
     "output_type": "stream",
     "text": [
      "faceon has failed, trying backup\n",
      "halo number 216 is done\n"
     ]
    },
    {
     "name": "stderr",
     "output_type": "stream",
     "text": [
      "pynbody.analysis.profile : Profile v_circ -- this routine assumes the disk is in the x-y plane\n"
     ]
    },
    {
     "name": "stdout",
     "output_type": "stream",
     "text": [
      "halo number 217 is done\n",
      "faceon has failed, trying backup\n"
     ]
    },
    {
     "name": "stderr",
     "output_type": "stream",
     "text": [
      "pynbody.analysis.profile : Profile v_circ -- this routine assumes the disk is in the x-y plane\n"
     ]
    },
    {
     "name": "stdout",
     "output_type": "stream",
     "text": [
      "halo number 218 is done\n",
      "faceon has failed, trying backup\n"
     ]
    },
    {
     "name": "stderr",
     "output_type": "stream",
     "text": [
      "pynbody.analysis.profile : Profile v_circ -- this routine assumes the disk is in the x-y plane\n"
     ]
    },
    {
     "name": "stdout",
     "output_type": "stream",
     "text": [
      "halo number 219 is done\n"
     ]
    },
    {
     "name": "stderr",
     "output_type": "stream",
     "text": [
      "pynbody.analysis.profile : Profile v_circ -- this routine assumes the disk is in the x-y plane\n"
     ]
    },
    {
     "name": "stdout",
     "output_type": "stream",
     "text": [
      "halo number 220 is done\n"
     ]
    },
    {
     "name": "stderr",
     "output_type": "stream",
     "text": [
      "pynbody.analysis.profile : Profile v_circ -- this routine assumes the disk is in the x-y plane\n"
     ]
    },
    {
     "name": "stdout",
     "output_type": "stream",
     "text": [
      "halo number 221 is done\n"
     ]
    },
    {
     "name": "stderr",
     "output_type": "stream",
     "text": [
      "pynbody.analysis.profile : Profile v_circ -- this routine assumes the disk is in the x-y plane\n"
     ]
    },
    {
     "name": "stdout",
     "output_type": "stream",
     "text": [
      "halo number 222 is done\n",
      "faceon has failed, trying backup\n"
     ]
    },
    {
     "name": "stderr",
     "output_type": "stream",
     "text": [
      "pynbody.analysis.profile : Profile v_circ -- this routine assumes the disk is in the x-y plane\n"
     ]
    },
    {
     "name": "stdout",
     "output_type": "stream",
     "text": [
      "halo number 223 is done\n"
     ]
    },
    {
     "name": "stderr",
     "output_type": "stream",
     "text": [
      "pynbody.analysis.profile : Profile v_circ -- this routine assumes the disk is in the x-y plane\n"
     ]
    },
    {
     "name": "stdout",
     "output_type": "stream",
     "text": [
      "halo number 224 is done\n"
     ]
    },
    {
     "name": "stderr",
     "output_type": "stream",
     "text": [
      "pynbody.analysis.profile : Profile v_circ -- this routine assumes the disk is in the x-y plane\n"
     ]
    },
    {
     "name": "stdout",
     "output_type": "stream",
     "text": [
      "halo number 225 is done\n"
     ]
    },
    {
     "name": "stderr",
     "output_type": "stream",
     "text": [
      "pynbody.analysis.profile : Profile v_circ -- this routine assumes the disk is in the x-y plane\n"
     ]
    },
    {
     "name": "stdout",
     "output_type": "stream",
     "text": [
      "halo number 226 is done\n"
     ]
    },
    {
     "name": "stderr",
     "output_type": "stream",
     "text": [
      "pynbody.analysis.profile : Profile v_circ -- this routine assumes the disk is in the x-y plane\n"
     ]
    },
    {
     "name": "stdout",
     "output_type": "stream",
     "text": [
      "halo number 227 is done\n"
     ]
    },
    {
     "name": "stderr",
     "output_type": "stream",
     "text": [
      "pynbody.analysis.profile : Profile v_circ -- this routine assumes the disk is in the x-y plane\n"
     ]
    },
    {
     "name": "stdout",
     "output_type": "stream",
     "text": [
      "halo number 228 is done\n"
     ]
    },
    {
     "name": "stderr",
     "output_type": "stream",
     "text": [
      "pynbody.analysis.profile : Profile v_circ -- this routine assumes the disk is in the x-y plane\n"
     ]
    },
    {
     "name": "stdout",
     "output_type": "stream",
     "text": [
      "halo number 229 is done\n"
     ]
    },
    {
     "name": "stderr",
     "output_type": "stream",
     "text": [
      "pynbody.analysis.profile : Profile v_circ -- this routine assumes the disk is in the x-y plane\n"
     ]
    },
    {
     "name": "stdout",
     "output_type": "stream",
     "text": [
      "halo number 230 is done\n"
     ]
    },
    {
     "name": "stderr",
     "output_type": "stream",
     "text": [
      "pynbody.analysis.profile : Profile v_circ -- this routine assumes the disk is in the x-y plane\n"
     ]
    },
    {
     "name": "stdout",
     "output_type": "stream",
     "text": [
      "halo number 231 is done\n"
     ]
    },
    {
     "name": "stderr",
     "output_type": "stream",
     "text": [
      "pynbody.analysis.profile : Profile v_circ -- this routine assumes the disk is in the x-y plane\n"
     ]
    },
    {
     "name": "stdout",
     "output_type": "stream",
     "text": [
      "halo number 232 is done\n"
     ]
    },
    {
     "name": "stderr",
     "output_type": "stream",
     "text": [
      "pynbody.analysis.profile : Profile v_circ -- this routine assumes the disk is in the x-y plane\n"
     ]
    },
    {
     "name": "stdout",
     "output_type": "stream",
     "text": [
      "halo number 233 is done\n"
     ]
    },
    {
     "name": "stderr",
     "output_type": "stream",
     "text": [
      "pynbody.analysis.profile : Profile v_circ -- this routine assumes the disk is in the x-y plane\n"
     ]
    },
    {
     "name": "stdout",
     "output_type": "stream",
     "text": [
      "halo number 234 is done\n"
     ]
    },
    {
     "name": "stderr",
     "output_type": "stream",
     "text": [
      "pynbody.analysis.profile : Profile v_circ -- this routine assumes the disk is in the x-y plane\n"
     ]
    },
    {
     "name": "stdout",
     "output_type": "stream",
     "text": [
      "halo number 235 is done\n",
      "faceon has failed, trying backup\n"
     ]
    },
    {
     "name": "stderr",
     "output_type": "stream",
     "text": [
      "pynbody.analysis.profile : Profile v_circ -- this routine assumes the disk is in the x-y plane\n"
     ]
    },
    {
     "name": "stdout",
     "output_type": "stream",
     "text": [
      "halo number 236 is done\n"
     ]
    },
    {
     "name": "stderr",
     "output_type": "stream",
     "text": [
      "pynbody.analysis.profile : Profile v_circ -- this routine assumes the disk is in the x-y plane\n"
     ]
    },
    {
     "name": "stdout",
     "output_type": "stream",
     "text": [
      "halo number 237 is done\n",
      "faceon has failed, trying backup\n"
     ]
    },
    {
     "name": "stderr",
     "output_type": "stream",
     "text": [
      "pynbody.analysis.profile : Profile v_circ -- this routine assumes the disk is in the x-y plane\n"
     ]
    },
    {
     "name": "stdout",
     "output_type": "stream",
     "text": [
      "halo number 238 is done\n"
     ]
    },
    {
     "name": "stderr",
     "output_type": "stream",
     "text": [
      "pynbody.analysis.profile : Profile v_circ -- this routine assumes the disk is in the x-y plane\n"
     ]
    },
    {
     "name": "stdout",
     "output_type": "stream",
     "text": [
      "halo number 239 is done\n"
     ]
    },
    {
     "name": "stderr",
     "output_type": "stream",
     "text": [
      "pynbody.analysis.profile : Profile v_circ -- this routine assumes the disk is in the x-y plane\n"
     ]
    },
    {
     "name": "stdout",
     "output_type": "stream",
     "text": [
      "halo number 240 is done\n"
     ]
    },
    {
     "name": "stderr",
     "output_type": "stream",
     "text": [
      "pynbody.analysis.profile : Profile v_circ -- this routine assumes the disk is in the x-y plane\n"
     ]
    },
    {
     "name": "stdout",
     "output_type": "stream",
     "text": [
      "halo number 241 is done\n"
     ]
    },
    {
     "name": "stderr",
     "output_type": "stream",
     "text": [
      "pynbody.analysis.profile : Profile v_circ -- this routine assumes the disk is in the x-y plane\n"
     ]
    },
    {
     "name": "stdout",
     "output_type": "stream",
     "text": [
      "halo number 242 is done\n"
     ]
    },
    {
     "name": "stderr",
     "output_type": "stream",
     "text": [
      "pynbody.analysis.profile : Profile v_circ -- this routine assumes the disk is in the x-y plane\n"
     ]
    },
    {
     "name": "stdout",
     "output_type": "stream",
     "text": [
      "halo number 243 is done\n",
      "faceon has failed, trying backup\n"
     ]
    },
    {
     "name": "stderr",
     "output_type": "stream",
     "text": [
      "pynbody.analysis.profile : Profile v_circ -- this routine assumes the disk is in the x-y plane\n"
     ]
    },
    {
     "name": "stdout",
     "output_type": "stream",
     "text": [
      "halo number 244 is done\n"
     ]
    },
    {
     "name": "stderr",
     "output_type": "stream",
     "text": [
      "pynbody.analysis.profile : Profile v_circ -- this routine assumes the disk is in the x-y plane\n"
     ]
    },
    {
     "name": "stdout",
     "output_type": "stream",
     "text": [
      "faceon has failed, trying backup\n",
      "halo number 245 is done\n"
     ]
    },
    {
     "name": "stderr",
     "output_type": "stream",
     "text": [
      "pynbody.analysis.profile : Profile v_circ -- this routine assumes the disk is in the x-y plane\n"
     ]
    },
    {
     "name": "stdout",
     "output_type": "stream",
     "text": [
      "halo number 246 is done\n"
     ]
    },
    {
     "name": "stderr",
     "output_type": "stream",
     "text": [
      "pynbody.analysis.profile : Profile v_circ -- this routine assumes the disk is in the x-y plane\n"
     ]
    },
    {
     "name": "stdout",
     "output_type": "stream",
     "text": [
      "halo number 247 is done\n"
     ]
    },
    {
     "name": "stderr",
     "output_type": "stream",
     "text": [
      "pynbody.analysis.profile : Profile v_circ -- this routine assumes the disk is in the x-y plane\n"
     ]
    },
    {
     "name": "stdout",
     "output_type": "stream",
     "text": [
      "halo number 248 is done\n"
     ]
    },
    {
     "name": "stderr",
     "output_type": "stream",
     "text": [
      "pynbody.analysis.profile : Profile v_circ -- this routine assumes the disk is in the x-y plane\n"
     ]
    },
    {
     "name": "stdout",
     "output_type": "stream",
     "text": [
      "halo number 249 is done\n"
     ]
    },
    {
     "name": "stderr",
     "output_type": "stream",
     "text": [
      "pynbody.analysis.profile : Profile v_circ -- this routine assumes the disk is in the x-y plane\n"
     ]
    },
    {
     "name": "stdout",
     "output_type": "stream",
     "text": [
      "halo number 250 is done\n",
      "faceon has failed, trying backup\n"
     ]
    },
    {
     "name": "stderr",
     "output_type": "stream",
     "text": [
      "pynbody.analysis.profile : Profile v_circ -- this routine assumes the disk is in the x-y plane\n"
     ]
    },
    {
     "name": "stdout",
     "output_type": "stream",
     "text": [
      "halo number 251 is done\n"
     ]
    },
    {
     "name": "stderr",
     "output_type": "stream",
     "text": [
      "pynbody.analysis.profile : Profile v_circ -- this routine assumes the disk is in the x-y plane\n"
     ]
    },
    {
     "name": "stdout",
     "output_type": "stream",
     "text": [
      "faceon has failed, trying backup\n",
      "halo number 252 is done\n"
     ]
    },
    {
     "name": "stderr",
     "output_type": "stream",
     "text": [
      "pynbody.analysis.profile : Profile v_circ -- this routine assumes the disk is in the x-y plane\n"
     ]
    },
    {
     "name": "stdout",
     "output_type": "stream",
     "text": [
      "faceon has failed, trying backup\n",
      "halo number 253 is done\n",
      "faceon has failed, trying backup\n"
     ]
    },
    {
     "name": "stderr",
     "output_type": "stream",
     "text": [
      "pynbody.analysis.profile : Profile v_circ -- this routine assumes the disk is in the x-y plane\n"
     ]
    },
    {
     "name": "stdout",
     "output_type": "stream",
     "text": [
      "halo number 254 is done\n"
     ]
    },
    {
     "name": "stderr",
     "output_type": "stream",
     "text": [
      "pynbody.analysis.profile : Profile v_circ -- this routine assumes the disk is in the x-y plane\n"
     ]
    },
    {
     "name": "stdout",
     "output_type": "stream",
     "text": [
      "halo number 255 is done\n"
     ]
    },
    {
     "name": "stderr",
     "output_type": "stream",
     "text": [
      "pynbody.analysis.profile : Profile v_circ -- this routine assumes the disk is in the x-y plane\n"
     ]
    },
    {
     "name": "stdout",
     "output_type": "stream",
     "text": [
      "halo number 256 is done\n"
     ]
    },
    {
     "name": "stderr",
     "output_type": "stream",
     "text": [
      "pynbody.analysis.profile : Profile v_circ -- this routine assumes the disk is in the x-y plane\n"
     ]
    },
    {
     "name": "stdout",
     "output_type": "stream",
     "text": [
      "halo number 257 is done\n"
     ]
    },
    {
     "name": "stderr",
     "output_type": "stream",
     "text": [
      "pynbody.analysis.profile : Profile v_circ -- this routine assumes the disk is in the x-y plane\n"
     ]
    },
    {
     "name": "stdout",
     "output_type": "stream",
     "text": [
      "halo number 258 is done\n"
     ]
    },
    {
     "name": "stderr",
     "output_type": "stream",
     "text": [
      "pynbody.analysis.profile : Profile v_circ -- this routine assumes the disk is in the x-y plane\n"
     ]
    },
    {
     "name": "stdout",
     "output_type": "stream",
     "text": [
      "halo number 259 is done\n"
     ]
    },
    {
     "name": "stderr",
     "output_type": "stream",
     "text": [
      "pynbody.analysis.profile : Profile v_circ -- this routine assumes the disk is in the x-y plane\n"
     ]
    },
    {
     "name": "stdout",
     "output_type": "stream",
     "text": [
      "halo number 260 is done\n"
     ]
    },
    {
     "name": "stderr",
     "output_type": "stream",
     "text": [
      "pynbody.analysis.profile : Profile v_circ -- this routine assumes the disk is in the x-y plane\n"
     ]
    },
    {
     "name": "stdout",
     "output_type": "stream",
     "text": [
      "halo number 261 is done\n"
     ]
    },
    {
     "name": "stderr",
     "output_type": "stream",
     "text": [
      "pynbody.analysis.profile : Profile v_circ -- this routine assumes the disk is in the x-y plane\n"
     ]
    },
    {
     "name": "stdout",
     "output_type": "stream",
     "text": [
      "faceon has failed, trying backup\n",
      "halo number 262 is done\n"
     ]
    },
    {
     "name": "stderr",
     "output_type": "stream",
     "text": [
      "pynbody.analysis.profile : Profile v_circ -- this routine assumes the disk is in the x-y plane\n"
     ]
    },
    {
     "name": "stdout",
     "output_type": "stream",
     "text": [
      "halo number 263 is done\n"
     ]
    },
    {
     "name": "stderr",
     "output_type": "stream",
     "text": [
      "pynbody.analysis.profile : Profile v_circ -- this routine assumes the disk is in the x-y plane\n"
     ]
    },
    {
     "name": "stdout",
     "output_type": "stream",
     "text": [
      "halo number 264 is done\n"
     ]
    },
    {
     "name": "stderr",
     "output_type": "stream",
     "text": [
      "pynbody.analysis.profile : Profile v_circ -- this routine assumes the disk is in the x-y plane\n"
     ]
    },
    {
     "name": "stdout",
     "output_type": "stream",
     "text": [
      "halo number 265 is done\n"
     ]
    },
    {
     "name": "stderr",
     "output_type": "stream",
     "text": [
      "pynbody.analysis.profile : Profile v_circ -- this routine assumes the disk is in the x-y plane\n"
     ]
    },
    {
     "name": "stdout",
     "output_type": "stream",
     "text": [
      "halo number 266 is done\n"
     ]
    },
    {
     "name": "stderr",
     "output_type": "stream",
     "text": [
      "pynbody.analysis.profile : Profile v_circ -- this routine assumes the disk is in the x-y plane\n"
     ]
    },
    {
     "name": "stdout",
     "output_type": "stream",
     "text": [
      "halo number 267 is done\n",
      "faceon has failed, trying backup\n"
     ]
    },
    {
     "name": "stderr",
     "output_type": "stream",
     "text": [
      "pynbody.analysis.profile : Profile v_circ -- this routine assumes the disk is in the x-y plane\n"
     ]
    },
    {
     "name": "stdout",
     "output_type": "stream",
     "text": [
      "halo number 268 is done\n"
     ]
    },
    {
     "name": "stderr",
     "output_type": "stream",
     "text": [
      "pynbody.analysis.profile : Profile v_circ -- this routine assumes the disk is in the x-y plane\n"
     ]
    },
    {
     "name": "stdout",
     "output_type": "stream",
     "text": [
      "halo number 269 is done\n"
     ]
    },
    {
     "name": "stderr",
     "output_type": "stream",
     "text": [
      "pynbody.analysis.profile : Profile v_circ -- this routine assumes the disk is in the x-y plane\n"
     ]
    },
    {
     "name": "stdout",
     "output_type": "stream",
     "text": [
      "halo number 270 is done\n"
     ]
    },
    {
     "name": "stderr",
     "output_type": "stream",
     "text": [
      "pynbody.analysis.profile : Profile v_circ -- this routine assumes the disk is in the x-y plane\n"
     ]
    },
    {
     "name": "stdout",
     "output_type": "stream",
     "text": [
      "halo number 271 is done\n"
     ]
    },
    {
     "name": "stderr",
     "output_type": "stream",
     "text": [
      "pynbody.analysis.profile : Profile v_circ -- this routine assumes the disk is in the x-y plane\n"
     ]
    },
    {
     "name": "stdout",
     "output_type": "stream",
     "text": [
      "halo number 272 is done\n"
     ]
    },
    {
     "name": "stderr",
     "output_type": "stream",
     "text": [
      "pynbody.analysis.profile : Profile v_circ -- this routine assumes the disk is in the x-y plane\n"
     ]
    },
    {
     "name": "stdout",
     "output_type": "stream",
     "text": [
      "halo number 273 is done\n"
     ]
    },
    {
     "name": "stderr",
     "output_type": "stream",
     "text": [
      "pynbody.analysis.profile : Profile v_circ -- this routine assumes the disk is in the x-y plane\n"
     ]
    },
    {
     "name": "stdout",
     "output_type": "stream",
     "text": [
      "halo number 274 is done\n"
     ]
    },
    {
     "name": "stderr",
     "output_type": "stream",
     "text": [
      "pynbody.analysis.profile : Profile v_circ -- this routine assumes the disk is in the x-y plane\n"
     ]
    },
    {
     "name": "stdout",
     "output_type": "stream",
     "text": [
      "halo number 275 is done\n",
      "faceon has failed, trying backup\n"
     ]
    },
    {
     "name": "stderr",
     "output_type": "stream",
     "text": [
      "pynbody.analysis.profile : Profile v_circ -- this routine assumes the disk is in the x-y plane\n"
     ]
    },
    {
     "name": "stdout",
     "output_type": "stream",
     "text": [
      "halo number 276 is done\n"
     ]
    },
    {
     "name": "stderr",
     "output_type": "stream",
     "text": [
      "pynbody.analysis.profile : Profile v_circ -- this routine assumes the disk is in the x-y plane\n"
     ]
    },
    {
     "name": "stdout",
     "output_type": "stream",
     "text": [
      "halo number 277 is done\n",
      "faceon has failed, trying backup\n"
     ]
    },
    {
     "name": "stderr",
     "output_type": "stream",
     "text": [
      "pynbody.analysis.profile : Profile v_circ -- this routine assumes the disk is in the x-y plane\n"
     ]
    },
    {
     "name": "stdout",
     "output_type": "stream",
     "text": [
      "halo number 278 is done\n"
     ]
    },
    {
     "name": "stderr",
     "output_type": "stream",
     "text": [
      "pynbody.analysis.profile : Profile v_circ -- this routine assumes the disk is in the x-y plane\n"
     ]
    },
    {
     "name": "stdout",
     "output_type": "stream",
     "text": [
      "halo number 279 is done\n"
     ]
    },
    {
     "name": "stderr",
     "output_type": "stream",
     "text": [
      "pynbody.analysis.profile : Profile v_circ -- this routine assumes the disk is in the x-y plane\n"
     ]
    },
    {
     "name": "stdout",
     "output_type": "stream",
     "text": [
      "halo number 280 is done\n",
      "faceon has failed, trying backup\n"
     ]
    },
    {
     "name": "stderr",
     "output_type": "stream",
     "text": [
      "pynbody.analysis.profile : Profile v_circ -- this routine assumes the disk is in the x-y plane\n"
     ]
    },
    {
     "name": "stdout",
     "output_type": "stream",
     "text": [
      "halo number 281 is done\n"
     ]
    },
    {
     "name": "stderr",
     "output_type": "stream",
     "text": [
      "pynbody.analysis.profile : Profile v_circ -- this routine assumes the disk is in the x-y plane\n"
     ]
    },
    {
     "name": "stdout",
     "output_type": "stream",
     "text": [
      "halo number 282 is done\n"
     ]
    },
    {
     "name": "stderr",
     "output_type": "stream",
     "text": [
      "pynbody.analysis.profile : Profile v_circ -- this routine assumes the disk is in the x-y plane\n"
     ]
    },
    {
     "name": "stdout",
     "output_type": "stream",
     "text": [
      "halo number 283 is done\n"
     ]
    },
    {
     "name": "stderr",
     "output_type": "stream",
     "text": [
      "pynbody.analysis.profile : Profile v_circ -- this routine assumes the disk is in the x-y plane\n"
     ]
    },
    {
     "name": "stdout",
     "output_type": "stream",
     "text": [
      "halo number 284 is done\n"
     ]
    },
    {
     "name": "stderr",
     "output_type": "stream",
     "text": [
      "pynbody.analysis.profile : Profile v_circ -- this routine assumes the disk is in the x-y plane\n"
     ]
    },
    {
     "name": "stdout",
     "output_type": "stream",
     "text": [
      "halo number 285 is done\n"
     ]
    },
    {
     "name": "stderr",
     "output_type": "stream",
     "text": [
      "pynbody.analysis.profile : Profile v_circ -- this routine assumes the disk is in the x-y plane\n"
     ]
    },
    {
     "name": "stdout",
     "output_type": "stream",
     "text": [
      "halo number 286 is done\n"
     ]
    },
    {
     "name": "stderr",
     "output_type": "stream",
     "text": [
      "pynbody.analysis.profile : Profile v_circ -- this routine assumes the disk is in the x-y plane\n"
     ]
    },
    {
     "name": "stdout",
     "output_type": "stream",
     "text": [
      "halo number 287 is done\n",
      "faceon has failed, trying backup\n"
     ]
    },
    {
     "name": "stderr",
     "output_type": "stream",
     "text": [
      "pynbody.analysis.profile : Profile v_circ -- this routine assumes the disk is in the x-y plane\n"
     ]
    },
    {
     "name": "stdout",
     "output_type": "stream",
     "text": [
      "halo number 288 is done\n"
     ]
    },
    {
     "name": "stderr",
     "output_type": "stream",
     "text": [
      "pynbody.analysis.profile : Profile v_circ -- this routine assumes the disk is in the x-y plane\n"
     ]
    },
    {
     "name": "stdout",
     "output_type": "stream",
     "text": [
      "halo number 289 is done\n"
     ]
    },
    {
     "name": "stderr",
     "output_type": "stream",
     "text": [
      "pynbody.analysis.profile : Profile v_circ -- this routine assumes the disk is in the x-y plane\n"
     ]
    },
    {
     "name": "stdout",
     "output_type": "stream",
     "text": [
      "halo number 290 is done\n"
     ]
    },
    {
     "name": "stderr",
     "output_type": "stream",
     "text": [
      "pynbody.analysis.profile : Profile v_circ -- this routine assumes the disk is in the x-y plane\n"
     ]
    },
    {
     "name": "stdout",
     "output_type": "stream",
     "text": [
      "halo number 291 is done\n",
      "faceon has failed, trying backup\n"
     ]
    },
    {
     "name": "stderr",
     "output_type": "stream",
     "text": [
      "pynbody.analysis.profile : Profile v_circ -- this routine assumes the disk is in the x-y plane\n"
     ]
    },
    {
     "name": "stdout",
     "output_type": "stream",
     "text": [
      "halo number 292 is done\n"
     ]
    },
    {
     "name": "stderr",
     "output_type": "stream",
     "text": [
      "pynbody.analysis.profile : Profile v_circ -- this routine assumes the disk is in the x-y plane\n"
     ]
    },
    {
     "name": "stdout",
     "output_type": "stream",
     "text": [
      "halo number 293 is done\n"
     ]
    },
    {
     "name": "stderr",
     "output_type": "stream",
     "text": [
      "pynbody.analysis.profile : Profile v_circ -- this routine assumes the disk is in the x-y plane\n"
     ]
    },
    {
     "name": "stdout",
     "output_type": "stream",
     "text": [
      "halo number 294 is done\n"
     ]
    },
    {
     "name": "stderr",
     "output_type": "stream",
     "text": [
      "pynbody.analysis.profile : Profile v_circ -- this routine assumes the disk is in the x-y plane\n"
     ]
    },
    {
     "name": "stdout",
     "output_type": "stream",
     "text": [
      "halo number 295 is done\n"
     ]
    },
    {
     "name": "stderr",
     "output_type": "stream",
     "text": [
      "pynbody.analysis.profile : Profile v_circ -- this routine assumes the disk is in the x-y plane\n"
     ]
    },
    {
     "name": "stdout",
     "output_type": "stream",
     "text": [
      "faceon has failed, trying backup\n",
      "halo number 296 is done\n"
     ]
    },
    {
     "name": "stderr",
     "output_type": "stream",
     "text": [
      "pynbody.analysis.profile : Profile v_circ -- this routine assumes the disk is in the x-y plane\n",
      "pynbody.analysis.profile : Profile v_circ -- this routine assumes the disk is in the x-y plane\n"
     ]
    },
    {
     "name": "stdout",
     "output_type": "stream",
     "text": [
      "faceon has failed, trying backup\n",
      "halo number 297 is done\n"
     ]
    },
    {
     "name": "stderr",
     "output_type": "stream",
     "text": [
      "pynbody.analysis.profile : Profile v_circ -- this routine assumes the disk is in the x-y plane\n"
     ]
    },
    {
     "name": "stdout",
     "output_type": "stream",
     "text": [
      "halo number 298 is done\n"
     ]
    },
    {
     "name": "stderr",
     "output_type": "stream",
     "text": [
      "pynbody.analysis.profile : Profile v_circ -- this routine assumes the disk is in the x-y plane\n"
     ]
    },
    {
     "name": "stdout",
     "output_type": "stream",
     "text": [
      "halo number 299 is done\n"
     ]
    },
    {
     "name": "stderr",
     "output_type": "stream",
     "text": [
      "pynbody.analysis.profile : Profile v_circ -- this routine assumes the disk is in the x-y plane\n"
     ]
    },
    {
     "name": "stdout",
     "output_type": "stream",
     "text": [
      "halo number 300 is done\n"
     ]
    },
    {
     "name": "stderr",
     "output_type": "stream",
     "text": [
      "pynbody.analysis.profile : Profile v_circ -- this routine assumes the disk is in the x-y plane\n"
     ]
    },
    {
     "name": "stdout",
     "output_type": "stream",
     "text": [
      "halo number 301 is done\n"
     ]
    },
    {
     "name": "stderr",
     "output_type": "stream",
     "text": [
      "pynbody.analysis.profile : Profile v_circ -- this routine assumes the disk is in the x-y plane\n",
      "pynbody.analysis.profile : Profile v_circ -- this routine assumes the disk is in the x-y plane\n"
     ]
    },
    {
     "name": "stdout",
     "output_type": "stream",
     "text": [
      "faceon has failed, trying backup\n",
      "halo number 302 is done\n"
     ]
    },
    {
     "name": "stderr",
     "output_type": "stream",
     "text": [
      "pynbody.analysis.profile : Profile v_circ -- this routine assumes the disk is in the x-y plane\n"
     ]
    },
    {
     "name": "stdout",
     "output_type": "stream",
     "text": [
      "halo number 303 is done\n"
     ]
    },
    {
     "name": "stderr",
     "output_type": "stream",
     "text": [
      "pynbody.analysis.profile : Profile v_circ -- this routine assumes the disk is in the x-y plane\n"
     ]
    },
    {
     "name": "stdout",
     "output_type": "stream",
     "text": [
      "halo number 304 is done\n",
      "faceon has failed, trying backup\n"
     ]
    },
    {
     "name": "stderr",
     "output_type": "stream",
     "text": [
      "pynbody.analysis.profile : Profile v_circ -- this routine assumes the disk is in the x-y plane\n"
     ]
    },
    {
     "name": "stdout",
     "output_type": "stream",
     "text": [
      "halo number 305 is done\n"
     ]
    },
    {
     "name": "stderr",
     "output_type": "stream",
     "text": [
      "pynbody.analysis.profile : Profile v_circ -- this routine assumes the disk is in the x-y plane\n"
     ]
    },
    {
     "name": "stdout",
     "output_type": "stream",
     "text": [
      "halo number 306 is done\n",
      "faceon has failed, trying backup\n"
     ]
    },
    {
     "name": "stderr",
     "output_type": "stream",
     "text": [
      "pynbody.analysis.profile : Profile v_circ -- this routine assumes the disk is in the x-y plane\n"
     ]
    },
    {
     "name": "stdout",
     "output_type": "stream",
     "text": [
      "halo number 307 is done\n",
      "faceon has failed, trying backup\n"
     ]
    },
    {
     "name": "stderr",
     "output_type": "stream",
     "text": [
      "pynbody.analysis.profile : Profile v_circ -- this routine assumes the disk is in the x-y plane\n"
     ]
    },
    {
     "name": "stdout",
     "output_type": "stream",
     "text": [
      "halo number 308 is done\n"
     ]
    },
    {
     "name": "stderr",
     "output_type": "stream",
     "text": [
      "pynbody.analysis.profile : Profile v_circ -- this routine assumes the disk is in the x-y plane\n"
     ]
    },
    {
     "name": "stdout",
     "output_type": "stream",
     "text": [
      "halo number 309 is done\n"
     ]
    },
    {
     "name": "stderr",
     "output_type": "stream",
     "text": [
      "pynbody.analysis.profile : Profile v_circ -- this routine assumes the disk is in the x-y plane\n"
     ]
    },
    {
     "name": "stdout",
     "output_type": "stream",
     "text": [
      "halo number 310 is done\n"
     ]
    },
    {
     "name": "stderr",
     "output_type": "stream",
     "text": [
      "pynbody.analysis.profile : Profile v_circ -- this routine assumes the disk is in the x-y plane\n"
     ]
    },
    {
     "name": "stdout",
     "output_type": "stream",
     "text": [
      "halo number 311 is done\n"
     ]
    },
    {
     "name": "stderr",
     "output_type": "stream",
     "text": [
      "pynbody.analysis.profile : Profile v_circ -- this routine assumes the disk is in the x-y plane\n"
     ]
    },
    {
     "name": "stdout",
     "output_type": "stream",
     "text": [
      "halo number 312 is done\n"
     ]
    },
    {
     "name": "stderr",
     "output_type": "stream",
     "text": [
      "pynbody.analysis.profile : Profile v_circ -- this routine assumes the disk is in the x-y plane\n"
     ]
    },
    {
     "name": "stdout",
     "output_type": "stream",
     "text": [
      "halo number 313 is done\n"
     ]
    },
    {
     "name": "stderr",
     "output_type": "stream",
     "text": [
      "pynbody.analysis.profile : Profile v_circ -- this routine assumes the disk is in the x-y plane\n"
     ]
    },
    {
     "name": "stdout",
     "output_type": "stream",
     "text": [
      "halo number 314 is done\n"
     ]
    },
    {
     "name": "stderr",
     "output_type": "stream",
     "text": [
      "pynbody.analysis.profile : Profile v_circ -- this routine assumes the disk is in the x-y plane\n"
     ]
    },
    {
     "name": "stdout",
     "output_type": "stream",
     "text": [
      "faceon has failed, trying backup\n",
      "halo number 315 is done\n"
     ]
    },
    {
     "name": "stderr",
     "output_type": "stream",
     "text": [
      "pynbody.analysis.profile : Profile v_circ -- this routine assumes the disk is in the x-y plane\n"
     ]
    },
    {
     "name": "stdout",
     "output_type": "stream",
     "text": [
      "halo number 316 is done\n",
      "faceon has failed, trying backup\n"
     ]
    },
    {
     "name": "stderr",
     "output_type": "stream",
     "text": [
      "pynbody.analysis.profile : Profile v_circ -- this routine assumes the disk is in the x-y plane\n"
     ]
    },
    {
     "name": "stdout",
     "output_type": "stream",
     "text": [
      "halo number 317 is done\n"
     ]
    },
    {
     "name": "stderr",
     "output_type": "stream",
     "text": [
      "pynbody.analysis.profile : Profile v_circ -- this routine assumes the disk is in the x-y plane\n"
     ]
    },
    {
     "name": "stdout",
     "output_type": "stream",
     "text": [
      "halo number 318 is done\n"
     ]
    },
    {
     "name": "stderr",
     "output_type": "stream",
     "text": [
      "pynbody.analysis.profile : Profile v_circ -- this routine assumes the disk is in the x-y plane\n"
     ]
    },
    {
     "name": "stdout",
     "output_type": "stream",
     "text": [
      "halo number 319 is done\n",
      "faceon has failed, trying backup\n"
     ]
    },
    {
     "name": "stderr",
     "output_type": "stream",
     "text": [
      "pynbody.analysis.profile : Profile v_circ -- this routine assumes the disk is in the x-y plane\n"
     ]
    },
    {
     "name": "stdout",
     "output_type": "stream",
     "text": [
      "halo number 320 is done\n"
     ]
    },
    {
     "name": "stderr",
     "output_type": "stream",
     "text": [
      "pynbody.analysis.profile : Profile v_circ -- this routine assumes the disk is in the x-y plane\n"
     ]
    },
    {
     "name": "stdout",
     "output_type": "stream",
     "text": [
      "halo number 321 is done\n"
     ]
    },
    {
     "name": "stderr",
     "output_type": "stream",
     "text": [
      "pynbody.analysis.profile : Profile v_circ -- this routine assumes the disk is in the x-y plane\n"
     ]
    },
    {
     "name": "stdout",
     "output_type": "stream",
     "text": [
      "halo number 322 is done\n"
     ]
    },
    {
     "name": "stderr",
     "output_type": "stream",
     "text": [
      "pynbody.analysis.profile : Profile v_circ -- this routine assumes the disk is in the x-y plane\n",
      "pynbody.analysis.profile : Profile v_circ -- this routine assumes the disk is in the x-y plane\n"
     ]
    },
    {
     "name": "stdout",
     "output_type": "stream",
     "text": [
      "faceon has failed, trying backup\n",
      "halo number 323 is done\n"
     ]
    },
    {
     "name": "stderr",
     "output_type": "stream",
     "text": [
      "pynbody.analysis.profile : Profile v_circ -- this routine assumes the disk is in the x-y plane\n"
     ]
    },
    {
     "name": "stdout",
     "output_type": "stream",
     "text": [
      "halo number 324 is done\n",
      "faceon has failed, trying backup\n"
     ]
    },
    {
     "name": "stderr",
     "output_type": "stream",
     "text": [
      "pynbody.analysis.profile : Profile v_circ -- this routine assumes the disk is in the x-y plane\n"
     ]
    },
    {
     "name": "stdout",
     "output_type": "stream",
     "text": [
      "halo number 325 is done\n",
      "faceon has failed, trying backup\n"
     ]
    },
    {
     "name": "stderr",
     "output_type": "stream",
     "text": [
      "pynbody.analysis.profile : Profile v_circ -- this routine assumes the disk is in the x-y plane\n"
     ]
    },
    {
     "name": "stdout",
     "output_type": "stream",
     "text": [
      "halo number 326 is done\n",
      "faceon has failed, trying backup\n"
     ]
    },
    {
     "name": "stderr",
     "output_type": "stream",
     "text": [
      "pynbody.analysis.profile : Profile v_circ -- this routine assumes the disk is in the x-y plane\n"
     ]
    },
    {
     "name": "stdout",
     "output_type": "stream",
     "text": [
      "halo number 327 is done\n"
     ]
    },
    {
     "name": "stderr",
     "output_type": "stream",
     "text": [
      "pynbody.analysis.profile : Profile v_circ -- this routine assumes the disk is in the x-y plane\n"
     ]
    },
    {
     "name": "stdout",
     "output_type": "stream",
     "text": [
      "halo number 328 is done\n"
     ]
    },
    {
     "name": "stderr",
     "output_type": "stream",
     "text": [
      "pynbody.analysis.profile : Profile v_circ -- this routine assumes the disk is in the x-y plane\n"
     ]
    },
    {
     "name": "stdout",
     "output_type": "stream",
     "text": [
      "halo number 329 is done\n"
     ]
    },
    {
     "name": "stderr",
     "output_type": "stream",
     "text": [
      "pynbody.analysis.profile : Profile v_circ -- this routine assumes the disk is in the x-y plane\n"
     ]
    },
    {
     "name": "stdout",
     "output_type": "stream",
     "text": [
      "halo number 330 is done\n"
     ]
    },
    {
     "name": "stderr",
     "output_type": "stream",
     "text": [
      "pynbody.analysis.profile : Profile v_circ -- this routine assumes the disk is in the x-y plane\n"
     ]
    },
    {
     "name": "stdout",
     "output_type": "stream",
     "text": [
      "halo number 331 is done\n",
      "faceon has failed, trying backup\n"
     ]
    },
    {
     "name": "stderr",
     "output_type": "stream",
     "text": [
      "pynbody.analysis.profile : Profile v_circ -- this routine assumes the disk is in the x-y plane\n"
     ]
    },
    {
     "name": "stdout",
     "output_type": "stream",
     "text": [
      "halo number 332 is done\n"
     ]
    },
    {
     "name": "stderr",
     "output_type": "stream",
     "text": [
      "pynbody.analysis.profile : Profile v_circ -- this routine assumes the disk is in the x-y plane\n",
      "pynbody.analysis.profile : Profile v_circ -- this routine assumes the disk is in the x-y plane\n"
     ]
    },
    {
     "name": "stdout",
     "output_type": "stream",
     "text": [
      "faceon has failed, trying backup\n",
      "halo number 333 is done\n"
     ]
    },
    {
     "name": "stderr",
     "output_type": "stream",
     "text": [
      "pynbody.analysis.profile : Profile v_circ -- this routine assumes the disk is in the x-y plane\n"
     ]
    },
    {
     "name": "stdout",
     "output_type": "stream",
     "text": [
      "faceon has failed, trying backup\n",
      "halo number 334 is done\n"
     ]
    },
    {
     "name": "stderr",
     "output_type": "stream",
     "text": [
      "pynbody.analysis.profile : Profile v_circ -- this routine assumes the disk is in the x-y plane\n"
     ]
    },
    {
     "name": "stdout",
     "output_type": "stream",
     "text": [
      "faceon has failed, trying backup\n",
      "halo number 335 is done\n"
     ]
    },
    {
     "name": "stderr",
     "output_type": "stream",
     "text": [
      "pynbody.analysis.profile : Profile v_circ -- this routine assumes the disk is in the x-y plane\n"
     ]
    },
    {
     "name": "stdout",
     "output_type": "stream",
     "text": [
      "halo number 336 is done\n",
      "faceon has failed, trying backup\n"
     ]
    },
    {
     "name": "stderr",
     "output_type": "stream",
     "text": [
      "pynbody.analysis.profile : Profile v_circ -- this routine assumes the disk is in the x-y plane\n"
     ]
    },
    {
     "name": "stdout",
     "output_type": "stream",
     "text": [
      "halo number 337 is done\n"
     ]
    },
    {
     "name": "stderr",
     "output_type": "stream",
     "text": [
      "pynbody.analysis.profile : Profile v_circ -- this routine assumes the disk is in the x-y plane\n"
     ]
    },
    {
     "name": "stdout",
     "output_type": "stream",
     "text": [
      "halo number 338 is done\n"
     ]
    },
    {
     "name": "stderr",
     "output_type": "stream",
     "text": [
      "pynbody.analysis.profile : Profile v_circ -- this routine assumes the disk is in the x-y plane\n"
     ]
    },
    {
     "name": "stdout",
     "output_type": "stream",
     "text": [
      "halo number 339 is done\n"
     ]
    },
    {
     "name": "stderr",
     "output_type": "stream",
     "text": [
      "pynbody.analysis.profile : Profile v_circ -- this routine assumes the disk is in the x-y plane\n"
     ]
    },
    {
     "name": "stdout",
     "output_type": "stream",
     "text": [
      "halo number 340 is done\n"
     ]
    },
    {
     "name": "stderr",
     "output_type": "stream",
     "text": [
      "pynbody.analysis.profile : Profile v_circ -- this routine assumes the disk is in the x-y plane\n"
     ]
    },
    {
     "name": "stdout",
     "output_type": "stream",
     "text": [
      "halo number 341 is done\n"
     ]
    },
    {
     "name": "stderr",
     "output_type": "stream",
     "text": [
      "pynbody.analysis.profile : Profile v_circ -- this routine assumes the disk is in the x-y plane\n"
     ]
    },
    {
     "name": "stdout",
     "output_type": "stream",
     "text": [
      "halo number 342 is done\n"
     ]
    },
    {
     "name": "stderr",
     "output_type": "stream",
     "text": [
      "pynbody.analysis.profile : Profile v_circ -- this routine assumes the disk is in the x-y plane\n",
      "pynbody.analysis.profile : Profile v_circ -- this routine assumes the disk is in the x-y plane\n"
     ]
    },
    {
     "name": "stdout",
     "output_type": "stream",
     "text": [
      "faceon has failed, trying backup\n",
      "halo number 343 is done\n",
      "faceon has failed, trying backup\n"
     ]
    },
    {
     "name": "stderr",
     "output_type": "stream",
     "text": [
      "pynbody.analysis.profile : Profile v_circ -- this routine assumes the disk is in the x-y plane\n"
     ]
    },
    {
     "name": "stdout",
     "output_type": "stream",
     "text": [
      "halo number 344 is done\n"
     ]
    },
    {
     "name": "stderr",
     "output_type": "stream",
     "text": [
      "pynbody.analysis.profile : Profile v_circ -- this routine assumes the disk is in the x-y plane\n"
     ]
    },
    {
     "name": "stdout",
     "output_type": "stream",
     "text": [
      "halo number 345 is done\n"
     ]
    },
    {
     "name": "stderr",
     "output_type": "stream",
     "text": [
      "pynbody.analysis.profile : Profile v_circ -- this routine assumes the disk is in the x-y plane\n"
     ]
    },
    {
     "name": "stdout",
     "output_type": "stream",
     "text": [
      "halo number 346 is done\n",
      "faceon has failed, trying backup\n"
     ]
    },
    {
     "name": "stderr",
     "output_type": "stream",
     "text": [
      "pynbody.analysis.profile : Profile v_circ -- this routine assumes the disk is in the x-y plane\n"
     ]
    },
    {
     "name": "stdout",
     "output_type": "stream",
     "text": [
      "halo number 347 is done\n"
     ]
    },
    {
     "name": "stderr",
     "output_type": "stream",
     "text": [
      "pynbody.analysis.profile : Profile v_circ -- this routine assumes the disk is in the x-y plane\n"
     ]
    },
    {
     "name": "stdout",
     "output_type": "stream",
     "text": [
      "halo number 348 is done\n"
     ]
    },
    {
     "name": "stderr",
     "output_type": "stream",
     "text": [
      "pynbody.analysis.profile : Profile v_circ -- this routine assumes the disk is in the x-y plane\n"
     ]
    },
    {
     "name": "stdout",
     "output_type": "stream",
     "text": [
      "halo number 349 is done\n"
     ]
    },
    {
     "name": "stderr",
     "output_type": "stream",
     "text": [
      "pynbody.analysis.profile : Profile v_circ -- this routine assumes the disk is in the x-y plane\n",
      "pynbody.analysis.profile : Profile v_circ -- this routine assumes the disk is in the x-y plane\n"
     ]
    },
    {
     "name": "stdout",
     "output_type": "stream",
     "text": [
      "faceon has failed, trying backup\n",
      "halo number 350 is done\n"
     ]
    },
    {
     "name": "stderr",
     "output_type": "stream",
     "text": [
      "pynbody.analysis.profile : Profile v_circ -- this routine assumes the disk is in the x-y plane\n"
     ]
    },
    {
     "name": "stdout",
     "output_type": "stream",
     "text": [
      "halo number 351 is done\n",
      "faceon has failed, trying backup\n"
     ]
    },
    {
     "name": "stderr",
     "output_type": "stream",
     "text": [
      "pynbody.analysis.profile : Profile v_circ -- this routine assumes the disk is in the x-y plane\n"
     ]
    },
    {
     "name": "stdout",
     "output_type": "stream",
     "text": [
      "halo number 352 is done\n"
     ]
    },
    {
     "name": "stderr",
     "output_type": "stream",
     "text": [
      "pynbody.analysis.profile : Profile v_circ -- this routine assumes the disk is in the x-y plane\n"
     ]
    },
    {
     "name": "stdout",
     "output_type": "stream",
     "text": [
      "halo number 353 is done\n"
     ]
    },
    {
     "name": "stderr",
     "output_type": "stream",
     "text": [
      "pynbody.analysis.profile : Profile v_circ -- this routine assumes the disk is in the x-y plane\n"
     ]
    },
    {
     "name": "stdout",
     "output_type": "stream",
     "text": [
      "halo number 354 is done\n",
      "faceon has failed, trying backup\n"
     ]
    },
    {
     "name": "stderr",
     "output_type": "stream",
     "text": [
      "pynbody.analysis.profile : Profile v_circ -- this routine assumes the disk is in the x-y plane\n"
     ]
    },
    {
     "name": "stdout",
     "output_type": "stream",
     "text": [
      "halo number 355 is done\n"
     ]
    },
    {
     "name": "stderr",
     "output_type": "stream",
     "text": [
      "pynbody.analysis.profile : Profile v_circ -- this routine assumes the disk is in the x-y plane\n"
     ]
    },
    {
     "name": "stdout",
     "output_type": "stream",
     "text": [
      "halo number 356 is done\n"
     ]
    },
    {
     "name": "stderr",
     "output_type": "stream",
     "text": [
      "pynbody.analysis.profile : Profile v_circ -- this routine assumes the disk is in the x-y plane\n"
     ]
    },
    {
     "name": "stdout",
     "output_type": "stream",
     "text": [
      "halo number 357 is done\n"
     ]
    },
    {
     "name": "stderr",
     "output_type": "stream",
     "text": [
      "pynbody.analysis.profile : Profile v_circ -- this routine assumes the disk is in the x-y plane\n"
     ]
    },
    {
     "name": "stdout",
     "output_type": "stream",
     "text": [
      "halo number 358 is done\n"
     ]
    },
    {
     "name": "stderr",
     "output_type": "stream",
     "text": [
      "pynbody.analysis.profile : Profile v_circ -- this routine assumes the disk is in the x-y plane\n"
     ]
    },
    {
     "name": "stdout",
     "output_type": "stream",
     "text": [
      "halo number 359 is done\n"
     ]
    },
    {
     "name": "stderr",
     "output_type": "stream",
     "text": [
      "pynbody.analysis.profile : Profile v_circ -- this routine assumes the disk is in the x-y plane\n"
     ]
    },
    {
     "name": "stdout",
     "output_type": "stream",
     "text": [
      "halo number 360 is done\n"
     ]
    },
    {
     "name": "stderr",
     "output_type": "stream",
     "text": [
      "pynbody.analysis.profile : Profile v_circ -- this routine assumes the disk is in the x-y plane\n"
     ]
    },
    {
     "name": "stdout",
     "output_type": "stream",
     "text": [
      "halo number 361 is done\n",
      "faceon has failed, trying backup\n"
     ]
    },
    {
     "name": "stderr",
     "output_type": "stream",
     "text": [
      "pynbody.analysis.profile : Profile v_circ -- this routine assumes the disk is in the x-y plane\n"
     ]
    },
    {
     "name": "stdout",
     "output_type": "stream",
     "text": [
      "halo number 362 is done\n"
     ]
    },
    {
     "name": "stderr",
     "output_type": "stream",
     "text": [
      "pynbody.analysis.profile : Profile v_circ -- this routine assumes the disk is in the x-y plane\n"
     ]
    },
    {
     "name": "stdout",
     "output_type": "stream",
     "text": [
      "halo number 363 is done\n"
     ]
    },
    {
     "name": "stderr",
     "output_type": "stream",
     "text": [
      "pynbody.analysis.profile : Profile v_circ -- this routine assumes the disk is in the x-y plane\n"
     ]
    },
    {
     "name": "stdout",
     "output_type": "stream",
     "text": [
      "halo number 364 is done\n"
     ]
    },
    {
     "name": "stderr",
     "output_type": "stream",
     "text": [
      "pynbody.analysis.profile : Profile v_circ -- this routine assumes the disk is in the x-y plane\n"
     ]
    },
    {
     "name": "stdout",
     "output_type": "stream",
     "text": [
      "faceon has failed, trying backup\n",
      "halo number 365 is done\n"
     ]
    },
    {
     "name": "stderr",
     "output_type": "stream",
     "text": [
      "pynbody.analysis.profile : Profile v_circ -- this routine assumes the disk is in the x-y plane\n"
     ]
    },
    {
     "name": "stdout",
     "output_type": "stream",
     "text": [
      "halo number 366 is done\n"
     ]
    },
    {
     "name": "stderr",
     "output_type": "stream",
     "text": [
      "pynbody.analysis.profile : Profile v_circ -- this routine assumes the disk is in the x-y plane\n"
     ]
    },
    {
     "name": "stdout",
     "output_type": "stream",
     "text": [
      "faceon has failed, trying backup\n",
      "halo number 367 is done\n"
     ]
    },
    {
     "name": "stderr",
     "output_type": "stream",
     "text": [
      "pynbody.analysis.profile : Profile v_circ -- this routine assumes the disk is in the x-y plane\n"
     ]
    },
    {
     "name": "stdout",
     "output_type": "stream",
     "text": [
      "halo number 368 is done\n"
     ]
    },
    {
     "name": "stderr",
     "output_type": "stream",
     "text": [
      "pynbody.analysis.profile : Profile v_circ -- this routine assumes the disk is in the x-y plane\n"
     ]
    },
    {
     "name": "stdout",
     "output_type": "stream",
     "text": [
      "halo number 369 is done\n"
     ]
    },
    {
     "name": "stderr",
     "output_type": "stream",
     "text": [
      "pynbody.analysis.profile : Profile v_circ -- this routine assumes the disk is in the x-y plane\n"
     ]
    },
    {
     "name": "stdout",
     "output_type": "stream",
     "text": [
      "halo number 370 is done\n"
     ]
    },
    {
     "name": "stderr",
     "output_type": "stream",
     "text": [
      "pynbody.analysis.profile : Profile v_circ -- this routine assumes the disk is in the x-y plane\n"
     ]
    },
    {
     "name": "stdout",
     "output_type": "stream",
     "text": [
      "halo number 371 is done\n"
     ]
    },
    {
     "name": "stderr",
     "output_type": "stream",
     "text": [
      "pynbody.analysis.profile : Profile v_circ -- this routine assumes the disk is in the x-y plane\n"
     ]
    },
    {
     "name": "stdout",
     "output_type": "stream",
     "text": [
      "halo number 372 is done\n"
     ]
    },
    {
     "name": "stderr",
     "output_type": "stream",
     "text": [
      "pynbody.analysis.profile : Profile v_circ -- this routine assumes the disk is in the x-y plane\n"
     ]
    },
    {
     "name": "stdout",
     "output_type": "stream",
     "text": [
      "halo number 373 is done\n"
     ]
    },
    {
     "name": "stderr",
     "output_type": "stream",
     "text": [
      "pynbody.analysis.profile : Profile v_circ -- this routine assumes the disk is in the x-y plane\n"
     ]
    },
    {
     "name": "stdout",
     "output_type": "stream",
     "text": [
      "halo number 374 is done\n"
     ]
    },
    {
     "name": "stderr",
     "output_type": "stream",
     "text": [
      "pynbody.analysis.profile : Profile v_circ -- this routine assumes the disk is in the x-y plane\n"
     ]
    },
    {
     "name": "stdout",
     "output_type": "stream",
     "text": [
      "halo number 375 is done\n"
     ]
    },
    {
     "name": "stderr",
     "output_type": "stream",
     "text": [
      "pynbody.analysis.profile : Profile v_circ -- this routine assumes the disk is in the x-y plane\n"
     ]
    },
    {
     "name": "stdout",
     "output_type": "stream",
     "text": [
      "halo number 376 is done\n"
     ]
    },
    {
     "name": "stderr",
     "output_type": "stream",
     "text": [
      "pynbody.analysis.profile : Profile v_circ -- this routine assumes the disk is in the x-y plane\n"
     ]
    },
    {
     "name": "stdout",
     "output_type": "stream",
     "text": [
      "halo number 377 is done\n",
      "faceon has failed, trying backup\n"
     ]
    },
    {
     "name": "stderr",
     "output_type": "stream",
     "text": [
      "pynbody.analysis.profile : Profile v_circ -- this routine assumes the disk is in the x-y plane\n"
     ]
    },
    {
     "name": "stdout",
     "output_type": "stream",
     "text": [
      "halo number 378 is done\n"
     ]
    },
    {
     "name": "stderr",
     "output_type": "stream",
     "text": [
      "pynbody.analysis.profile : Profile v_circ -- this routine assumes the disk is in the x-y plane\n"
     ]
    },
    {
     "name": "stdout",
     "output_type": "stream",
     "text": [
      "halo number 379 is done\n"
     ]
    },
    {
     "name": "stderr",
     "output_type": "stream",
     "text": [
      "pynbody.analysis.profile : Profile v_circ -- this routine assumes the disk is in the x-y plane\n"
     ]
    },
    {
     "name": "stdout",
     "output_type": "stream",
     "text": [
      "halo number 380 is done\n"
     ]
    },
    {
     "name": "stderr",
     "output_type": "stream",
     "text": [
      "pynbody.analysis.profile : Profile v_circ -- this routine assumes the disk is in the x-y plane\n"
     ]
    },
    {
     "name": "stdout",
     "output_type": "stream",
     "text": [
      "halo number 381 is done\n",
      "faceon has failed, trying backup\n"
     ]
    },
    {
     "name": "stderr",
     "output_type": "stream",
     "text": [
      "pynbody.analysis.profile : Profile v_circ -- this routine assumes the disk is in the x-y plane\n"
     ]
    },
    {
     "name": "stdout",
     "output_type": "stream",
     "text": [
      "halo number 382 is done\n"
     ]
    },
    {
     "name": "stderr",
     "output_type": "stream",
     "text": [
      "pynbody.analysis.profile : Profile v_circ -- this routine assumes the disk is in the x-y plane\n"
     ]
    },
    {
     "name": "stdout",
     "output_type": "stream",
     "text": [
      "faceon has failed, trying backup\n",
      "halo number 383 is done\n"
     ]
    },
    {
     "name": "stderr",
     "output_type": "stream",
     "text": [
      "pynbody.analysis.profile : Profile v_circ -- this routine assumes the disk is in the x-y plane\n"
     ]
    },
    {
     "name": "stdout",
     "output_type": "stream",
     "text": [
      "halo number 384 is done\n"
     ]
    },
    {
     "name": "stderr",
     "output_type": "stream",
     "text": [
      "pynbody.analysis.profile : Profile v_circ -- this routine assumes the disk is in the x-y plane\n"
     ]
    },
    {
     "name": "stdout",
     "output_type": "stream",
     "text": [
      "halo number 385 is done\n"
     ]
    },
    {
     "name": "stderr",
     "output_type": "stream",
     "text": [
      "pynbody.analysis.profile : Profile v_circ -- this routine assumes the disk is in the x-y plane\n"
     ]
    },
    {
     "name": "stdout",
     "output_type": "stream",
     "text": [
      "halo number 386 is done\n"
     ]
    },
    {
     "name": "stderr",
     "output_type": "stream",
     "text": [
      "pynbody.analysis.profile : Profile v_circ -- this routine assumes the disk is in the x-y plane\n"
     ]
    },
    {
     "name": "stdout",
     "output_type": "stream",
     "text": [
      "halo number 387 is done\n"
     ]
    },
    {
     "name": "stderr",
     "output_type": "stream",
     "text": [
      "pynbody.analysis.profile : Profile v_circ -- this routine assumes the disk is in the x-y plane\n"
     ]
    },
    {
     "name": "stdout",
     "output_type": "stream",
     "text": [
      "faceon has failed, trying backup\n",
      "halo number 388 is done\n"
     ]
    },
    {
     "name": "stderr",
     "output_type": "stream",
     "text": [
      "pynbody.analysis.profile : Profile v_circ -- this routine assumes the disk is in the x-y plane\n"
     ]
    },
    {
     "name": "stdout",
     "output_type": "stream",
     "text": [
      "halo number 389 is done\n"
     ]
    },
    {
     "name": "stderr",
     "output_type": "stream",
     "text": [
      "pynbody.analysis.profile : Profile v_circ -- this routine assumes the disk is in the x-y plane\n"
     ]
    },
    {
     "name": "stdout",
     "output_type": "stream",
     "text": [
      "halo number 390 is done\n",
      "faceon has failed, trying backup\n"
     ]
    },
    {
     "name": "stderr",
     "output_type": "stream",
     "text": [
      "pynbody.analysis.profile : Profile v_circ -- this routine assumes the disk is in the x-y plane\n"
     ]
    },
    {
     "name": "stdout",
     "output_type": "stream",
     "text": [
      "halo number 391 is done\n"
     ]
    },
    {
     "name": "stderr",
     "output_type": "stream",
     "text": [
      "pynbody.analysis.profile : Profile v_circ -- this routine assumes the disk is in the x-y plane\n"
     ]
    },
    {
     "name": "stdout",
     "output_type": "stream",
     "text": [
      "halo number 392 is done\n",
      "faceon has failed, trying backup\n"
     ]
    },
    {
     "name": "stderr",
     "output_type": "stream",
     "text": [
      "pynbody.analysis.profile : Profile v_circ -- this routine assumes the disk is in the x-y plane\n"
     ]
    },
    {
     "name": "stdout",
     "output_type": "stream",
     "text": [
      "halo number 393 is done\n"
     ]
    },
    {
     "name": "stderr",
     "output_type": "stream",
     "text": [
      "pynbody.analysis.profile : Profile v_circ -- this routine assumes the disk is in the x-y plane\n"
     ]
    },
    {
     "name": "stdout",
     "output_type": "stream",
     "text": [
      "halo number 394 is done\n"
     ]
    },
    {
     "name": "stderr",
     "output_type": "stream",
     "text": [
      "pynbody.analysis.profile : Profile v_circ -- this routine assumes the disk is in the x-y plane\n"
     ]
    },
    {
     "name": "stdout",
     "output_type": "stream",
     "text": [
      "halo number 395 is done\n"
     ]
    },
    {
     "name": "stderr",
     "output_type": "stream",
     "text": [
      "pynbody.analysis.profile : Profile v_circ -- this routine assumes the disk is in the x-y plane\n"
     ]
    },
    {
     "name": "stdout",
     "output_type": "stream",
     "text": [
      "halo number 396 is done\n"
     ]
    },
    {
     "name": "stderr",
     "output_type": "stream",
     "text": [
      "pynbody.analysis.profile : Profile v_circ -- this routine assumes the disk is in the x-y plane\n"
     ]
    },
    {
     "name": "stdout",
     "output_type": "stream",
     "text": [
      "halo number 397 is done\n"
     ]
    },
    {
     "name": "stderr",
     "output_type": "stream",
     "text": [
      "pynbody.analysis.profile : Profile v_circ -- this routine assumes the disk is in the x-y plane\n"
     ]
    },
    {
     "name": "stdout",
     "output_type": "stream",
     "text": [
      "halo number 398 is done\n"
     ]
    },
    {
     "name": "stderr",
     "output_type": "stream",
     "text": [
      "pynbody.analysis.profile : Profile v_circ -- this routine assumes the disk is in the x-y plane\n"
     ]
    },
    {
     "name": "stdout",
     "output_type": "stream",
     "text": [
      "halo number 399 is done\n"
     ]
    },
    {
     "name": "stderr",
     "output_type": "stream",
     "text": [
      "pynbody.analysis.profile : Profile v_circ -- this routine assumes the disk is in the x-y plane\n"
     ]
    },
    {
     "name": "stdout",
     "output_type": "stream",
     "text": [
      "halo number 400 is done\n",
      "faceon has failed, trying backup\n"
     ]
    },
    {
     "name": "stderr",
     "output_type": "stream",
     "text": [
      "pynbody.analysis.profile : Profile v_circ -- this routine assumes the disk is in the x-y plane\n"
     ]
    },
    {
     "name": "stdout",
     "output_type": "stream",
     "text": [
      "halo number 401 is done\n"
     ]
    },
    {
     "name": "stderr",
     "output_type": "stream",
     "text": [
      "pynbody.analysis.profile : Profile v_circ -- this routine assumes the disk is in the x-y plane\n"
     ]
    },
    {
     "name": "stdout",
     "output_type": "stream",
     "text": [
      "halo number 402 is done\n"
     ]
    },
    {
     "name": "stderr",
     "output_type": "stream",
     "text": [
      "pynbody.analysis.profile : Profile v_circ -- this routine assumes the disk is in the x-y plane\n"
     ]
    },
    {
     "name": "stdout",
     "output_type": "stream",
     "text": [
      "halo number 403 is done\n",
      "faceon has failed, trying backup\n"
     ]
    },
    {
     "name": "stderr",
     "output_type": "stream",
     "text": [
      "pynbody.analysis.profile : Profile v_circ -- this routine assumes the disk is in the x-y plane\n"
     ]
    },
    {
     "name": "stdout",
     "output_type": "stream",
     "text": [
      "halo number 404 is done\n"
     ]
    },
    {
     "name": "stderr",
     "output_type": "stream",
     "text": [
      "pynbody.analysis.profile : Profile v_circ -- this routine assumes the disk is in the x-y plane\n"
     ]
    },
    {
     "name": "stdout",
     "output_type": "stream",
     "text": [
      "halo number 405 is done\n"
     ]
    },
    {
     "name": "stderr",
     "output_type": "stream",
     "text": [
      "pynbody.analysis.profile : Profile v_circ -- this routine assumes the disk is in the x-y plane\n"
     ]
    },
    {
     "name": "stdout",
     "output_type": "stream",
     "text": [
      "halo number 406 is done\n",
      "faceon has failed, trying backup\n"
     ]
    },
    {
     "name": "stderr",
     "output_type": "stream",
     "text": [
      "pynbody.analysis.profile : Profile v_circ -- this routine assumes the disk is in the x-y plane\n"
     ]
    },
    {
     "name": "stdout",
     "output_type": "stream",
     "text": [
      "halo number 407 is done\n"
     ]
    },
    {
     "name": "stderr",
     "output_type": "stream",
     "text": [
      "pynbody.analysis.profile : Profile v_circ -- this routine assumes the disk is in the x-y plane\n"
     ]
    },
    {
     "name": "stdout",
     "output_type": "stream",
     "text": [
      "halo number 408 is done\n"
     ]
    },
    {
     "name": "stderr",
     "output_type": "stream",
     "text": [
      "pynbody.analysis.profile : Profile v_circ -- this routine assumes the disk is in the x-y plane\n"
     ]
    },
    {
     "name": "stdout",
     "output_type": "stream",
     "text": [
      "halo number 409 is done\n"
     ]
    },
    {
     "name": "stderr",
     "output_type": "stream",
     "text": [
      "pynbody.analysis.profile : Profile v_circ -- this routine assumes the disk is in the x-y plane\n"
     ]
    },
    {
     "name": "stdout",
     "output_type": "stream",
     "text": [
      "halo number 410 is done\n"
     ]
    },
    {
     "name": "stderr",
     "output_type": "stream",
     "text": [
      "pynbody.analysis.profile : Profile v_circ -- this routine assumes the disk is in the x-y plane\n"
     ]
    },
    {
     "name": "stdout",
     "output_type": "stream",
     "text": [
      "faceon has failed, trying backup\n",
      "halo number 411 is done\n"
     ]
    },
    {
     "name": "stderr",
     "output_type": "stream",
     "text": [
      "pynbody.analysis.profile : Profile v_circ -- this routine assumes the disk is in the x-y plane\n"
     ]
    },
    {
     "name": "stdout",
     "output_type": "stream",
     "text": [
      "halo number 412 is done\n"
     ]
    },
    {
     "name": "stderr",
     "output_type": "stream",
     "text": [
      "pynbody.analysis.profile : Profile v_circ -- this routine assumes the disk is in the x-y plane\n"
     ]
    },
    {
     "name": "stdout",
     "output_type": "stream",
     "text": [
      "halo number 413 is done\n"
     ]
    },
    {
     "name": "stderr",
     "output_type": "stream",
     "text": [
      "pynbody.analysis.profile : Profile v_circ -- this routine assumes the disk is in the x-y plane\n"
     ]
    },
    {
     "name": "stdout",
     "output_type": "stream",
     "text": [
      "halo number 414 is done\n"
     ]
    },
    {
     "name": "stderr",
     "output_type": "stream",
     "text": [
      "pynbody.analysis.profile : Profile v_circ -- this routine assumes the disk is in the x-y plane\n"
     ]
    },
    {
     "name": "stdout",
     "output_type": "stream",
     "text": [
      "faceon has failed, trying backup\n",
      "halo number 415 is done\n"
     ]
    },
    {
     "name": "stderr",
     "output_type": "stream",
     "text": [
      "pynbody.analysis.profile : Profile v_circ -- this routine assumes the disk is in the x-y plane\n"
     ]
    },
    {
     "name": "stdout",
     "output_type": "stream",
     "text": [
      "halo number 416 is done\n",
      "faceon has failed, trying backup\n"
     ]
    },
    {
     "name": "stderr",
     "output_type": "stream",
     "text": [
      "pynbody.analysis.profile : Profile v_circ -- this routine assumes the disk is in the x-y plane\n"
     ]
    },
    {
     "name": "stdout",
     "output_type": "stream",
     "text": [
      "halo number 417 is done\n"
     ]
    },
    {
     "name": "stderr",
     "output_type": "stream",
     "text": [
      "pynbody.analysis.profile : Profile v_circ -- this routine assumes the disk is in the x-y plane\n"
     ]
    },
    {
     "name": "stdout",
     "output_type": "stream",
     "text": [
      "halo number 418 is done\n"
     ]
    },
    {
     "name": "stderr",
     "output_type": "stream",
     "text": [
      "pynbody.analysis.profile : Profile v_circ -- this routine assumes the disk is in the x-y plane\n"
     ]
    },
    {
     "name": "stdout",
     "output_type": "stream",
     "text": [
      "halo number 419 is done\n"
     ]
    },
    {
     "name": "stderr",
     "output_type": "stream",
     "text": [
      "pynbody.analysis.profile : Profile v_circ -- this routine assumes the disk is in the x-y plane\n"
     ]
    },
    {
     "name": "stdout",
     "output_type": "stream",
     "text": [
      "halo number 420 is done\n"
     ]
    },
    {
     "name": "stderr",
     "output_type": "stream",
     "text": [
      "pynbody.analysis.profile : Profile v_circ -- this routine assumes the disk is in the x-y plane\n"
     ]
    },
    {
     "name": "stdout",
     "output_type": "stream",
     "text": [
      "halo number 421 is done\n"
     ]
    },
    {
     "name": "stderr",
     "output_type": "stream",
     "text": [
      "pynbody.analysis.profile : Profile v_circ -- this routine assumes the disk is in the x-y plane\n"
     ]
    },
    {
     "name": "stdout",
     "output_type": "stream",
     "text": [
      "faceon has failed, trying backup\n",
      "halo number 422 is done\n"
     ]
    },
    {
     "name": "stderr",
     "output_type": "stream",
     "text": [
      "pynbody.analysis.profile : Profile v_circ -- this routine assumes the disk is in the x-y plane\n",
      "pynbody.analysis.profile : Profile v_circ -- this routine assumes the disk is in the x-y plane\n"
     ]
    },
    {
     "name": "stdout",
     "output_type": "stream",
     "text": [
      "faceon has failed, trying backup\n",
      "halo number 423 is done\n"
     ]
    },
    {
     "name": "stderr",
     "output_type": "stream",
     "text": [
      "pynbody.analysis.profile : Profile v_circ -- this routine assumes the disk is in the x-y plane\n"
     ]
    },
    {
     "name": "stdout",
     "output_type": "stream",
     "text": [
      "halo number 424 is done\n"
     ]
    },
    {
     "name": "stderr",
     "output_type": "stream",
     "text": [
      "pynbody.analysis.profile : Profile v_circ -- this routine assumes the disk is in the x-y plane\n"
     ]
    },
    {
     "name": "stdout",
     "output_type": "stream",
     "text": [
      "halo number 425 is done\n"
     ]
    },
    {
     "name": "stderr",
     "output_type": "stream",
     "text": [
      "pynbody.analysis.profile : Profile v_circ -- this routine assumes the disk is in the x-y plane\n"
     ]
    },
    {
     "name": "stdout",
     "output_type": "stream",
     "text": [
      "faceon has failed, trying backup\n",
      "halo number 426 is done\n"
     ]
    },
    {
     "name": "stderr",
     "output_type": "stream",
     "text": [
      "pynbody.analysis.profile : Profile v_circ -- this routine assumes the disk is in the x-y plane\n"
     ]
    },
    {
     "name": "stdout",
     "output_type": "stream",
     "text": [
      "halo number 427 is done\n"
     ]
    },
    {
     "name": "stderr",
     "output_type": "stream",
     "text": [
      "pynbody.analysis.profile : Profile v_circ -- this routine assumes the disk is in the x-y plane\n"
     ]
    },
    {
     "name": "stdout",
     "output_type": "stream",
     "text": [
      "halo number 428 is done\n"
     ]
    },
    {
     "name": "stderr",
     "output_type": "stream",
     "text": [
      "pynbody.analysis.profile : Profile v_circ -- this routine assumes the disk is in the x-y plane\n"
     ]
    },
    {
     "name": "stdout",
     "output_type": "stream",
     "text": [
      "halo number 429 is done\n",
      "faceon has failed, trying backup\n"
     ]
    },
    {
     "name": "stderr",
     "output_type": "stream",
     "text": [
      "pynbody.analysis.profile : Profile v_circ -- this routine assumes the disk is in the x-y plane\n"
     ]
    },
    {
     "name": "stdout",
     "output_type": "stream",
     "text": [
      "halo number 430 is done\n"
     ]
    },
    {
     "name": "stderr",
     "output_type": "stream",
     "text": [
      "pynbody.analysis.profile : Profile v_circ -- this routine assumes the disk is in the x-y plane\n"
     ]
    },
    {
     "name": "stdout",
     "output_type": "stream",
     "text": [
      "faceon has failed, trying backup\n",
      "halo number 431 is done\n"
     ]
    },
    {
     "name": "stderr",
     "output_type": "stream",
     "text": [
      "pynbody.analysis.profile : Profile v_circ -- this routine assumes the disk is in the x-y plane\n"
     ]
    },
    {
     "name": "stdout",
     "output_type": "stream",
     "text": [
      "halo number 432 is done\n"
     ]
    },
    {
     "name": "stderr",
     "output_type": "stream",
     "text": [
      "pynbody.analysis.profile : Profile v_circ -- this routine assumes the disk is in the x-y plane\n"
     ]
    },
    {
     "name": "stdout",
     "output_type": "stream",
     "text": [
      "halo number 433 is done\n"
     ]
    },
    {
     "name": "stderr",
     "output_type": "stream",
     "text": [
      "pynbody.analysis.profile : Profile v_circ -- this routine assumes the disk is in the x-y plane\n"
     ]
    },
    {
     "name": "stdout",
     "output_type": "stream",
     "text": [
      "halo number 434 is done\n"
     ]
    },
    {
     "name": "stderr",
     "output_type": "stream",
     "text": [
      "pynbody.analysis.profile : Profile v_circ -- this routine assumes the disk is in the x-y plane\n"
     ]
    },
    {
     "name": "stdout",
     "output_type": "stream",
     "text": [
      "halo number 435 is done\n",
      "faceon has failed, trying backup\n"
     ]
    },
    {
     "name": "stderr",
     "output_type": "stream",
     "text": [
      "pynbody.analysis.profile : Profile v_circ -- this routine assumes the disk is in the x-y plane\n"
     ]
    },
    {
     "name": "stdout",
     "output_type": "stream",
     "text": [
      "halo number 436 is done\n"
     ]
    },
    {
     "name": "stderr",
     "output_type": "stream",
     "text": [
      "pynbody.analysis.profile : Profile v_circ -- this routine assumes the disk is in the x-y plane\n"
     ]
    },
    {
     "name": "stdout",
     "output_type": "stream",
     "text": [
      "halo number 437 is done\n"
     ]
    },
    {
     "name": "stderr",
     "output_type": "stream",
     "text": [
      "pynbody.analysis.profile : Profile v_circ -- this routine assumes the disk is in the x-y plane\n"
     ]
    },
    {
     "name": "stdout",
     "output_type": "stream",
     "text": [
      "halo number 438 is done\n",
      "faceon has failed, trying backup\n"
     ]
    },
    {
     "name": "stderr",
     "output_type": "stream",
     "text": [
      "pynbody.analysis.profile : Profile v_circ -- this routine assumes the disk is in the x-y plane\n"
     ]
    },
    {
     "name": "stdout",
     "output_type": "stream",
     "text": [
      "halo number 439 is done\n",
      "faceon has failed, trying backup\n"
     ]
    },
    {
     "name": "stderr",
     "output_type": "stream",
     "text": [
      "pynbody.analysis.profile : Profile v_circ -- this routine assumes the disk is in the x-y plane\n"
     ]
    },
    {
     "name": "stdout",
     "output_type": "stream",
     "text": [
      "halo number 440 is done\n"
     ]
    },
    {
     "name": "stderr",
     "output_type": "stream",
     "text": [
      "pynbody.analysis.profile : Profile v_circ -- this routine assumes the disk is in the x-y plane\n"
     ]
    },
    {
     "name": "stdout",
     "output_type": "stream",
     "text": [
      "halo number 441 is done\n",
      "faceon has failed, trying backup\n"
     ]
    },
    {
     "name": "stderr",
     "output_type": "stream",
     "text": [
      "pynbody.analysis.profile : Profile v_circ -- this routine assumes the disk is in the x-y plane\n"
     ]
    },
    {
     "name": "stdout",
     "output_type": "stream",
     "text": [
      "halo number 442 is done\n",
      "faceon has failed, trying backup\n"
     ]
    },
    {
     "name": "stderr",
     "output_type": "stream",
     "text": [
      "pynbody.analysis.profile : Profile v_circ -- this routine assumes the disk is in the x-y plane\n"
     ]
    },
    {
     "name": "stdout",
     "output_type": "stream",
     "text": [
      "halo number 443 is done\n"
     ]
    },
    {
     "name": "stderr",
     "output_type": "stream",
     "text": [
      "pynbody.analysis.profile : Profile v_circ -- this routine assumes the disk is in the x-y plane\n"
     ]
    },
    {
     "name": "stdout",
     "output_type": "stream",
     "text": [
      "halo number 444 is done\n"
     ]
    },
    {
     "name": "stderr",
     "output_type": "stream",
     "text": [
      "pynbody.analysis.profile : Profile v_circ -- this routine assumes the disk is in the x-y plane\n"
     ]
    },
    {
     "name": "stdout",
     "output_type": "stream",
     "text": [
      "halo number 445 is done\n"
     ]
    },
    {
     "name": "stderr",
     "output_type": "stream",
     "text": [
      "pynbody.analysis.profile : Profile v_circ -- this routine assumes the disk is in the x-y plane\n"
     ]
    },
    {
     "name": "stdout",
     "output_type": "stream",
     "text": [
      "halo number 446 is done\n",
      "faceon has failed, trying backup\n"
     ]
    },
    {
     "name": "stderr",
     "output_type": "stream",
     "text": [
      "pynbody.analysis.profile : Profile v_circ -- this routine assumes the disk is in the x-y plane\n"
     ]
    },
    {
     "name": "stdout",
     "output_type": "stream",
     "text": [
      "halo number 447 is done\n",
      "faceon has failed, trying backup\n"
     ]
    },
    {
     "name": "stderr",
     "output_type": "stream",
     "text": [
      "pynbody.analysis.profile : Profile v_circ -- this routine assumes the disk is in the x-y plane\n"
     ]
    },
    {
     "name": "stdout",
     "output_type": "stream",
     "text": [
      "halo number 448 is done\n",
      "faceon has failed, trying backup\n"
     ]
    },
    {
     "name": "stderr",
     "output_type": "stream",
     "text": [
      "pynbody.analysis.profile : Profile v_circ -- this routine assumes the disk is in the x-y plane\n"
     ]
    },
    {
     "name": "stdout",
     "output_type": "stream",
     "text": [
      "halo number 449 is done\n",
      "faceon has failed, trying backup\n"
     ]
    },
    {
     "name": "stderr",
     "output_type": "stream",
     "text": [
      "pynbody.analysis.profile : Profile v_circ -- this routine assumes the disk is in the x-y plane\n"
     ]
    },
    {
     "name": "stdout",
     "output_type": "stream",
     "text": [
      "halo number 450 is done\n",
      "faceon has failed, trying backup\n"
     ]
    },
    {
     "name": "stderr",
     "output_type": "stream",
     "text": [
      "pynbody.analysis.profile : Profile v_circ -- this routine assumes the disk is in the x-y plane\n"
     ]
    },
    {
     "name": "stdout",
     "output_type": "stream",
     "text": [
      "halo number 451 is done\n",
      "faceon has failed, trying backup\n"
     ]
    },
    {
     "name": "stderr",
     "output_type": "stream",
     "text": [
      "pynbody.analysis.profile : Profile v_circ -- this routine assumes the disk is in the x-y plane\n"
     ]
    },
    {
     "name": "stdout",
     "output_type": "stream",
     "text": [
      "halo number 452 is done\n"
     ]
    },
    {
     "name": "stderr",
     "output_type": "stream",
     "text": [
      "pynbody.analysis.profile : Profile v_circ -- this routine assumes the disk is in the x-y plane\n"
     ]
    },
    {
     "name": "stdout",
     "output_type": "stream",
     "text": [
      "halo number 453 is done\n",
      "faceon has failed, trying backup\n"
     ]
    },
    {
     "name": "stderr",
     "output_type": "stream",
     "text": [
      "pynbody.analysis.profile : Profile v_circ -- this routine assumes the disk is in the x-y plane\n"
     ]
    },
    {
     "name": "stdout",
     "output_type": "stream",
     "text": [
      "halo number 454 is done\n",
      "faceon has failed, trying backup\n"
     ]
    },
    {
     "name": "stderr",
     "output_type": "stream",
     "text": [
      "pynbody.analysis.profile : Profile v_circ -- this routine assumes the disk is in the x-y plane\n"
     ]
    },
    {
     "name": "stdout",
     "output_type": "stream",
     "text": [
      "halo number 455 is done\n"
     ]
    },
    {
     "name": "stderr",
     "output_type": "stream",
     "text": [
      "pynbody.analysis.profile : Profile v_circ -- this routine assumes the disk is in the x-y plane\n"
     ]
    },
    {
     "name": "stdout",
     "output_type": "stream",
     "text": [
      "faceon has failed, trying backup\n",
      "halo number 456 is done\n",
      "faceon has failed, trying backup\n"
     ]
    },
    {
     "name": "stderr",
     "output_type": "stream",
     "text": [
      "pynbody.analysis.profile : Profile v_circ -- this routine assumes the disk is in the x-y plane\n"
     ]
    },
    {
     "name": "stdout",
     "output_type": "stream",
     "text": [
      "halo number 457 is done\n",
      "faceon has failed, trying backup\n"
     ]
    },
    {
     "name": "stderr",
     "output_type": "stream",
     "text": [
      "pynbody.analysis.profile : Profile v_circ -- this routine assumes the disk is in the x-y plane\n"
     ]
    },
    {
     "name": "stdout",
     "output_type": "stream",
     "text": [
      "halo number 458 is done\n",
      "faceon has failed, trying backup\n"
     ]
    },
    {
     "name": "stderr",
     "output_type": "stream",
     "text": [
      "pynbody.analysis.profile : Profile v_circ -- this routine assumes the disk is in the x-y plane\n"
     ]
    },
    {
     "name": "stdout",
     "output_type": "stream",
     "text": [
      "halo number 459 is done\n",
      "faceon has failed, trying backup\n"
     ]
    },
    {
     "name": "stderr",
     "output_type": "stream",
     "text": [
      "pynbody.analysis.profile : Profile v_circ -- this routine assumes the disk is in the x-y plane\n"
     ]
    },
    {
     "name": "stdout",
     "output_type": "stream",
     "text": [
      "halo number 460 is done\n",
      "faceon has failed, trying backup\n"
     ]
    },
    {
     "name": "stderr",
     "output_type": "stream",
     "text": [
      "pynbody.analysis.profile : Profile v_circ -- this routine assumes the disk is in the x-y plane\n"
     ]
    },
    {
     "name": "stdout",
     "output_type": "stream",
     "text": [
      "halo number 461 is done\n",
      "faceon has failed, trying backup\n"
     ]
    },
    {
     "name": "stderr",
     "output_type": "stream",
     "text": [
      "pynbody.analysis.profile : Profile v_circ -- this routine assumes the disk is in the x-y plane\n"
     ]
    },
    {
     "name": "stdout",
     "output_type": "stream",
     "text": [
      "halo number 462 is done\n",
      "faceon has failed, trying backup\n"
     ]
    },
    {
     "name": "stderr",
     "output_type": "stream",
     "text": [
      "pynbody.analysis.profile : Profile v_circ -- this routine assumes the disk is in the x-y plane\n"
     ]
    },
    {
     "name": "stdout",
     "output_type": "stream",
     "text": [
      "halo number 463 is done\n",
      "faceon has failed, trying backup\n"
     ]
    },
    {
     "name": "stderr",
     "output_type": "stream",
     "text": [
      "pynbody.analysis.profile : Profile v_circ -- this routine assumes the disk is in the x-y plane\n"
     ]
    },
    {
     "name": "stdout",
     "output_type": "stream",
     "text": [
      "halo number 464 is done\n",
      "faceon has failed, trying backup\n"
     ]
    },
    {
     "name": "stderr",
     "output_type": "stream",
     "text": [
      "pynbody.analysis.profile : Profile v_circ -- this routine assumes the disk is in the x-y plane\n"
     ]
    },
    {
     "name": "stdout",
     "output_type": "stream",
     "text": [
      "halo number 465 is done\n",
      "faceon has failed, trying backup\n"
     ]
    },
    {
     "name": "stderr",
     "output_type": "stream",
     "text": [
      "pynbody.analysis.profile : Profile v_circ -- this routine assumes the disk is in the x-y plane\n"
     ]
    },
    {
     "name": "stdout",
     "output_type": "stream",
     "text": [
      "halo number 466 is done\n",
      "faceon has failed, trying backup\n"
     ]
    },
    {
     "name": "stderr",
     "output_type": "stream",
     "text": [
      "pynbody.analysis.profile : Profile v_circ -- this routine assumes the disk is in the x-y plane\n"
     ]
    },
    {
     "name": "stdout",
     "output_type": "stream",
     "text": [
      "halo number 467 is done\n",
      "faceon has failed, trying backup\n"
     ]
    },
    {
     "name": "stderr",
     "output_type": "stream",
     "text": [
      "pynbody.analysis.profile : Profile v_circ -- this routine assumes the disk is in the x-y plane\n"
     ]
    },
    {
     "name": "stdout",
     "output_type": "stream",
     "text": [
      "halo number 468 is done\n",
      "faceon has failed, trying backup\n"
     ]
    },
    {
     "name": "stderr",
     "output_type": "stream",
     "text": [
      "pynbody.analysis.profile : Profile v_circ -- this routine assumes the disk is in the x-y plane\n"
     ]
    },
    {
     "name": "stdout",
     "output_type": "stream",
     "text": [
      "halo number 469 is done\n",
      "faceon has failed, trying backup\n"
     ]
    },
    {
     "name": "stderr",
     "output_type": "stream",
     "text": [
      "pynbody.analysis.profile : Profile v_circ -- this routine assumes the disk is in the x-y plane\n"
     ]
    },
    {
     "name": "stdout",
     "output_type": "stream",
     "text": [
      "halo number 470 is done\n",
      "faceon has failed, trying backup\n"
     ]
    },
    {
     "name": "stderr",
     "output_type": "stream",
     "text": [
      "pynbody.analysis.profile : Profile v_circ -- this routine assumes the disk is in the x-y plane\n"
     ]
    },
    {
     "name": "stdout",
     "output_type": "stream",
     "text": [
      "halo number 471 is done\n",
      "faceon has failed, trying backup\n"
     ]
    },
    {
     "name": "stderr",
     "output_type": "stream",
     "text": [
      "pynbody.analysis.profile : Profile v_circ -- this routine assumes the disk is in the x-y plane\n"
     ]
    },
    {
     "name": "stdout",
     "output_type": "stream",
     "text": [
      "halo number 472 is done\n",
      "faceon has failed, trying backup\n"
     ]
    },
    {
     "name": "stderr",
     "output_type": "stream",
     "text": [
      "pynbody.analysis.profile : Profile v_circ -- this routine assumes the disk is in the x-y plane\n"
     ]
    },
    {
     "name": "stdout",
     "output_type": "stream",
     "text": [
      "halo number 473 is done\n",
      "faceon has failed, trying backup\n"
     ]
    },
    {
     "name": "stderr",
     "output_type": "stream",
     "text": [
      "pynbody.analysis.profile : Profile v_circ -- this routine assumes the disk is in the x-y plane\n"
     ]
    },
    {
     "name": "stdout",
     "output_type": "stream",
     "text": [
      "halo number 474 is done\n",
      "faceon has failed, trying backup\n"
     ]
    },
    {
     "name": "stderr",
     "output_type": "stream",
     "text": [
      "pynbody.analysis.profile : Profile v_circ -- this routine assumes the disk is in the x-y plane\n"
     ]
    },
    {
     "name": "stdout",
     "output_type": "stream",
     "text": [
      "halo number 475 is done\n",
      "faceon has failed, trying backup\n"
     ]
    },
    {
     "name": "stderr",
     "output_type": "stream",
     "text": [
      "pynbody.analysis.profile : Profile v_circ -- this routine assumes the disk is in the x-y plane\n"
     ]
    },
    {
     "name": "stdout",
     "output_type": "stream",
     "text": [
      "halo number 476 is done\n",
      "faceon has failed, trying backup\n"
     ]
    },
    {
     "name": "stderr",
     "output_type": "stream",
     "text": [
      "pynbody.analysis.profile : Profile v_circ -- this routine assumes the disk is in the x-y plane\n"
     ]
    },
    {
     "name": "stdout",
     "output_type": "stream",
     "text": [
      "halo number 477 is done\n"
     ]
    },
    {
     "name": "stderr",
     "output_type": "stream",
     "text": [
      "pynbody.analysis.profile : Profile v_circ -- this routine assumes the disk is in the x-y plane\n"
     ]
    },
    {
     "name": "stdout",
     "output_type": "stream",
     "text": [
      "halo number 478 is done\n",
      "faceon has failed, trying backup\n"
     ]
    },
    {
     "name": "stderr",
     "output_type": "stream",
     "text": [
      "pynbody.analysis.profile : Profile v_circ -- this routine assumes the disk is in the x-y plane\n"
     ]
    },
    {
     "name": "stdout",
     "output_type": "stream",
     "text": [
      "halo number 479 is done\n",
      "faceon has failed, trying backup\n"
     ]
    },
    {
     "name": "stderr",
     "output_type": "stream",
     "text": [
      "pynbody.analysis.profile : Profile v_circ -- this routine assumes the disk is in the x-y plane\n"
     ]
    },
    {
     "name": "stdout",
     "output_type": "stream",
     "text": [
      "halo number 480 is done\n",
      "faceon has failed, trying backup\n"
     ]
    },
    {
     "name": "stderr",
     "output_type": "stream",
     "text": [
      "pynbody.analysis.profile : Profile v_circ -- this routine assumes the disk is in the x-y plane\n"
     ]
    },
    {
     "name": "stdout",
     "output_type": "stream",
     "text": [
      "halo number 481 is done\n",
      "faceon has failed, trying backup\n"
     ]
    },
    {
     "name": "stderr",
     "output_type": "stream",
     "text": [
      "pynbody.analysis.profile : Profile v_circ -- this routine assumes the disk is in the x-y plane\n"
     ]
    },
    {
     "name": "stdout",
     "output_type": "stream",
     "text": [
      "halo number 482 is done\n",
      "faceon has failed, trying backup\n"
     ]
    },
    {
     "name": "stderr",
     "output_type": "stream",
     "text": [
      "pynbody.analysis.profile : Profile v_circ -- this routine assumes the disk is in the x-y plane\n"
     ]
    },
    {
     "name": "stdout",
     "output_type": "stream",
     "text": [
      "halo number 483 is done\n",
      "faceon has failed, trying backup\n"
     ]
    },
    {
     "name": "stderr",
     "output_type": "stream",
     "text": [
      "pynbody.analysis.profile : Profile v_circ -- this routine assumes the disk is in the x-y plane\n"
     ]
    },
    {
     "name": "stdout",
     "output_type": "stream",
     "text": [
      "halo number 484 is done\n",
      "faceon has failed, trying backup\n"
     ]
    },
    {
     "name": "stderr",
     "output_type": "stream",
     "text": [
      "pynbody.analysis.profile : Profile v_circ -- this routine assumes the disk is in the x-y plane\n",
      "/media/tengiz/81498267-fb7c-4587-88ea-5c63aaf2cb66/Pynbody/commits/DM_Profiles.py:57: RuntimeWarning: divide by zero encountered in true_divide\n",
      "  return V_200*((1-numpy.arctan((r/self.param[1]))/(r/self.param[1]))/(1-numpy.arctan(C_200)/C_200))**0.5\n"
     ]
    },
    {
     "name": "stdout",
     "output_type": "stream",
     "text": [
      "halo number 485 is done\n",
      "faceon has failed, trying backup\n"
     ]
    },
    {
     "name": "stderr",
     "output_type": "stream",
     "text": [
      "pynbody.analysis.profile : Profile v_circ -- this routine assumes the disk is in the x-y plane\n"
     ]
    },
    {
     "name": "stdout",
     "output_type": "stream",
     "text": [
      "halo number 486 is done\n",
      "faceon has failed, trying backup\n"
     ]
    },
    {
     "name": "stderr",
     "output_type": "stream",
     "text": [
      "pynbody.analysis.profile : Profile v_circ -- this routine assumes the disk is in the x-y plane\n"
     ]
    },
    {
     "name": "stdout",
     "output_type": "stream",
     "text": [
      "halo number 487 is done\n",
      "faceon has failed, trying backup\n"
     ]
    },
    {
     "name": "stderr",
     "output_type": "stream",
     "text": [
      "pynbody.analysis.profile : Profile v_circ -- this routine assumes the disk is in the x-y plane\n"
     ]
    },
    {
     "name": "stdout",
     "output_type": "stream",
     "text": [
      "halo number 488 is done\n",
      "faceon has failed, trying backup\n"
     ]
    },
    {
     "name": "stderr",
     "output_type": "stream",
     "text": [
      "pynbody.analysis.profile : Profile v_circ -- this routine assumes the disk is in the x-y plane\n"
     ]
    },
    {
     "name": "stdout",
     "output_type": "stream",
     "text": [
      "halo number 489 is done\n",
      "faceon has failed, trying backup\n"
     ]
    },
    {
     "name": "stderr",
     "output_type": "stream",
     "text": [
      "pynbody.analysis.profile : Profile v_circ -- this routine assumes the disk is in the x-y plane\n"
     ]
    },
    {
     "name": "stdout",
     "output_type": "stream",
     "text": [
      "halo number 490 is done\n",
      "faceon has failed, trying backup\n"
     ]
    },
    {
     "name": "stderr",
     "output_type": "stream",
     "text": [
      "pynbody.analysis.profile : Profile v_circ -- this routine assumes the disk is in the x-y plane\n"
     ]
    },
    {
     "name": "stdout",
     "output_type": "stream",
     "text": [
      "halo number 491 is done\n",
      "faceon has failed, trying backup\n"
     ]
    },
    {
     "name": "stderr",
     "output_type": "stream",
     "text": [
      "pynbody.analysis.profile : Profile v_circ -- this routine assumes the disk is in the x-y plane\n"
     ]
    },
    {
     "name": "stdout",
     "output_type": "stream",
     "text": [
      "halo number 492 is done\n",
      "faceon has failed, trying backup\n"
     ]
    },
    {
     "name": "stderr",
     "output_type": "stream",
     "text": [
      "pynbody.analysis.profile : Profile v_circ -- this routine assumes the disk is in the x-y plane\n"
     ]
    },
    {
     "name": "stdout",
     "output_type": "stream",
     "text": [
      "halo number 493 is done\n",
      "faceon has failed, trying backup\n"
     ]
    },
    {
     "name": "stderr",
     "output_type": "stream",
     "text": [
      "pynbody.analysis.profile : Profile v_circ -- this routine assumes the disk is in the x-y plane\n"
     ]
    },
    {
     "name": "stdout",
     "output_type": "stream",
     "text": [
      "halo number 494 is done\n",
      "faceon has failed, trying backup\n"
     ]
    },
    {
     "name": "stderr",
     "output_type": "stream",
     "text": [
      "pynbody.analysis.profile : Profile v_circ -- this routine assumes the disk is in the x-y plane\n"
     ]
    },
    {
     "name": "stdout",
     "output_type": "stream",
     "text": [
      "halo number 495 is done\n",
      "faceon has failed, trying backup\n"
     ]
    },
    {
     "name": "stderr",
     "output_type": "stream",
     "text": [
      "pynbody.analysis.profile : Profile v_circ -- this routine assumes the disk is in the x-y plane\n"
     ]
    },
    {
     "name": "stdout",
     "output_type": "stream",
     "text": [
      "halo number 496 is done\n",
      "faceon has failed, trying backup\n"
     ]
    },
    {
     "name": "stderr",
     "output_type": "stream",
     "text": [
      "pynbody.analysis.profile : Profile v_circ -- this routine assumes the disk is in the x-y plane\n"
     ]
    },
    {
     "name": "stdout",
     "output_type": "stream",
     "text": [
      "halo number 497 is done\n",
      "faceon has failed, trying backup\n"
     ]
    },
    {
     "name": "stderr",
     "output_type": "stream",
     "text": [
      "pynbody.analysis.profile : Profile v_circ -- this routine assumes the disk is in the x-y plane\n"
     ]
    },
    {
     "name": "stdout",
     "output_type": "stream",
     "text": [
      "halo number 498 is done\n",
      "faceon has failed, trying backup\n"
     ]
    },
    {
     "name": "stderr",
     "output_type": "stream",
     "text": [
      "pynbody.analysis.profile : Profile v_circ -- this routine assumes the disk is in the x-y plane\n"
     ]
    },
    {
     "name": "stdout",
     "output_type": "stream",
     "text": [
      "halo number 499 is done\n",
      "faceon has failed, trying backup\n"
     ]
    },
    {
     "name": "stderr",
     "output_type": "stream",
     "text": [
      "pynbody.analysis.profile : Profile v_circ -- this routine assumes the disk is in the x-y plane\n"
     ]
    },
    {
     "name": "stdout",
     "output_type": "stream",
     "text": [
      "halo number 500 is done\n",
      "faceon has failed, trying backup\n"
     ]
    },
    {
     "name": "stderr",
     "output_type": "stream",
     "text": [
      "pynbody.analysis.profile : Profile v_circ -- this routine assumes the disk is in the x-y plane\n"
     ]
    },
    {
     "name": "stdout",
     "output_type": "stream",
     "text": [
      "halo number 501 is done\n",
      "faceon has failed, trying backup\n"
     ]
    },
    {
     "name": "stderr",
     "output_type": "stream",
     "text": [
      "pynbody.analysis.profile : Profile v_circ -- this routine assumes the disk is in the x-y plane\n"
     ]
    },
    {
     "name": "stdout",
     "output_type": "stream",
     "text": [
      "halo number 502 is done\n",
      "faceon has failed, trying backup\n"
     ]
    },
    {
     "name": "stderr",
     "output_type": "stream",
     "text": [
      "pynbody.analysis.profile : Profile v_circ -- this routine assumes the disk is in the x-y plane\n"
     ]
    },
    {
     "name": "stdout",
     "output_type": "stream",
     "text": [
      "halo number 503 is done\n",
      "faceon has failed, trying backup\n"
     ]
    },
    {
     "name": "stderr",
     "output_type": "stream",
     "text": [
      "pynbody.analysis.profile : Profile v_circ -- this routine assumes the disk is in the x-y plane\n"
     ]
    },
    {
     "name": "stdout",
     "output_type": "stream",
     "text": [
      "halo number 504 is done\n",
      "faceon has failed, trying backup\n"
     ]
    },
    {
     "name": "stderr",
     "output_type": "stream",
     "text": [
      "pynbody.analysis.profile : Profile v_circ -- this routine assumes the disk is in the x-y plane\n"
     ]
    },
    {
     "name": "stdout",
     "output_type": "stream",
     "text": [
      "halo number 505 is done\n",
      "faceon has failed, trying backup\n"
     ]
    },
    {
     "name": "stderr",
     "output_type": "stream",
     "text": [
      "pynbody.analysis.profile : Profile v_circ -- this routine assumes the disk is in the x-y plane\n"
     ]
    },
    {
     "name": "stdout",
     "output_type": "stream",
     "text": [
      "halo number 506 is done\n"
     ]
    },
    {
     "name": "stderr",
     "output_type": "stream",
     "text": [
      "pynbody.analysis.profile : Profile v_circ -- this routine assumes the disk is in the x-y plane\n"
     ]
    },
    {
     "name": "stdout",
     "output_type": "stream",
     "text": [
      "faceon has failed, trying backup\n",
      "halo number 507 is done\n"
     ]
    },
    {
     "name": "stderr",
     "output_type": "stream",
     "text": [
      "pynbody.analysis.profile : Profile v_circ -- this routine assumes the disk is in the x-y plane\n"
     ]
    },
    {
     "name": "stdout",
     "output_type": "stream",
     "text": [
      "faceon has failed, trying backup\n",
      "halo number 508 is done\n"
     ]
    },
    {
     "name": "stderr",
     "output_type": "stream",
     "text": [
      "pynbody.analysis.profile : Profile v_circ -- this routine assumes the disk is in the x-y plane\n"
     ]
    },
    {
     "name": "stdout",
     "output_type": "stream",
     "text": [
      "faceon has failed, trying backup\n",
      "halo number 509 is done\n"
     ]
    },
    {
     "name": "stderr",
     "output_type": "stream",
     "text": [
      "pynbody.analysis.profile : Profile v_circ -- this routine assumes the disk is in the x-y plane\n"
     ]
    },
    {
     "name": "stdout",
     "output_type": "stream",
     "text": [
      "faceon has failed, trying backup\n",
      "halo number 510 is done\n",
      "faceon has failed, trying backup\n"
     ]
    },
    {
     "name": "stderr",
     "output_type": "stream",
     "text": [
      "pynbody.analysis.profile : Profile v_circ -- this routine assumes the disk is in the x-y plane\n"
     ]
    },
    {
     "name": "stdout",
     "output_type": "stream",
     "text": [
      "halo number 511 is done\n",
      "faceon has failed, trying backup\n"
     ]
    },
    {
     "name": "stderr",
     "output_type": "stream",
     "text": [
      "pynbody.analysis.profile : Profile v_circ -- this routine assumes the disk is in the x-y plane\n"
     ]
    },
    {
     "name": "stdout",
     "output_type": "stream",
     "text": [
      "halo number 512 is done\n",
      "faceon has failed, trying backup\n"
     ]
    },
    {
     "name": "stderr",
     "output_type": "stream",
     "text": [
      "pynbody.analysis.profile : Profile v_circ -- this routine assumes the disk is in the x-y plane\n"
     ]
    },
    {
     "name": "stdout",
     "output_type": "stream",
     "text": [
      "halo number 513 is done\n",
      "faceon has failed, trying backup\n"
     ]
    },
    {
     "name": "stderr",
     "output_type": "stream",
     "text": [
      "pynbody.analysis.profile : Profile v_circ -- this routine assumes the disk is in the x-y plane\n"
     ]
    },
    {
     "name": "stdout",
     "output_type": "stream",
     "text": [
      "halo number 514 is done\n",
      "faceon has failed, trying backup\n"
     ]
    },
    {
     "name": "stderr",
     "output_type": "stream",
     "text": [
      "pynbody.analysis.profile : Profile v_circ -- this routine assumes the disk is in the x-y plane\n"
     ]
    },
    {
     "name": "stdout",
     "output_type": "stream",
     "text": [
      "halo number 515 is done\n"
     ]
    },
    {
     "name": "stderr",
     "output_type": "stream",
     "text": [
      "pynbody.analysis.profile : Profile v_circ -- this routine assumes the disk is in the x-y plane\n"
     ]
    },
    {
     "name": "stdout",
     "output_type": "stream",
     "text": [
      "halo number 516 is done\n",
      "faceon has failed, trying backup\n"
     ]
    },
    {
     "name": "stderr",
     "output_type": "stream",
     "text": [
      "pynbody.analysis.profile : Profile v_circ -- this routine assumes the disk is in the x-y plane\n"
     ]
    },
    {
     "name": "stdout",
     "output_type": "stream",
     "text": [
      "halo number 517 is done\n",
      "faceon has failed, trying backup\n"
     ]
    },
    {
     "name": "stderr",
     "output_type": "stream",
     "text": [
      "pynbody.analysis.profile : Profile v_circ -- this routine assumes the disk is in the x-y plane\n"
     ]
    },
    {
     "name": "stdout",
     "output_type": "stream",
     "text": [
      "halo number 518 is done\n",
      "faceon has failed, trying backup\n"
     ]
    },
    {
     "name": "stderr",
     "output_type": "stream",
     "text": [
      "pynbody.analysis.profile : Profile v_circ -- this routine assumes the disk is in the x-y plane\n"
     ]
    },
    {
     "name": "stdout",
     "output_type": "stream",
     "text": [
      "halo number 519 is done\n",
      "faceon has failed, trying backup\n"
     ]
    },
    {
     "name": "stderr",
     "output_type": "stream",
     "text": [
      "pynbody.analysis.profile : Profile v_circ -- this routine assumes the disk is in the x-y plane\n"
     ]
    },
    {
     "name": "stdout",
     "output_type": "stream",
     "text": [
      "halo number 520 is done\n",
      "faceon has failed, trying backup\n"
     ]
    },
    {
     "name": "stderr",
     "output_type": "stream",
     "text": [
      "pynbody.analysis.profile : Profile v_circ -- this routine assumes the disk is in the x-y plane\n"
     ]
    },
    {
     "name": "stdout",
     "output_type": "stream",
     "text": [
      "halo number 521 is done\n",
      "faceon has failed, trying backup\n"
     ]
    },
    {
     "name": "stderr",
     "output_type": "stream",
     "text": [
      "pynbody.analysis.profile : Profile v_circ -- this routine assumes the disk is in the x-y plane\n"
     ]
    },
    {
     "name": "stdout",
     "output_type": "stream",
     "text": [
      "halo number 522 is done\n",
      "faceon has failed, trying backup\n"
     ]
    },
    {
     "name": "stderr",
     "output_type": "stream",
     "text": [
      "pynbody.analysis.profile : Profile v_circ -- this routine assumes the disk is in the x-y plane\n"
     ]
    },
    {
     "name": "stdout",
     "output_type": "stream",
     "text": [
      "halo number 523 is done\n",
      "faceon has failed, trying backup\n"
     ]
    },
    {
     "name": "stderr",
     "output_type": "stream",
     "text": [
      "pynbody.analysis.profile : Profile v_circ -- this routine assumes the disk is in the x-y plane\n"
     ]
    },
    {
     "name": "stdout",
     "output_type": "stream",
     "text": [
      "halo number 524 is done\n",
      "faceon has failed, trying backup\n"
     ]
    },
    {
     "name": "stderr",
     "output_type": "stream",
     "text": [
      "pynbody.analysis.profile : Profile v_circ -- this routine assumes the disk is in the x-y plane\n"
     ]
    },
    {
     "name": "stdout",
     "output_type": "stream",
     "text": [
      "halo number 525 is done\n",
      "faceon has failed, trying backup\n"
     ]
    },
    {
     "name": "stderr",
     "output_type": "stream",
     "text": [
      "pynbody.analysis.profile : Profile v_circ -- this routine assumes the disk is in the x-y plane\n"
     ]
    },
    {
     "name": "stdout",
     "output_type": "stream",
     "text": [
      "halo number 526 is done\n",
      "faceon has failed, trying backup\n"
     ]
    },
    {
     "name": "stderr",
     "output_type": "stream",
     "text": [
      "pynbody.analysis.profile : Profile v_circ -- this routine assumes the disk is in the x-y plane\n"
     ]
    },
    {
     "name": "stdout",
     "output_type": "stream",
     "text": [
      "halo number 527 is done\n",
      "faceon has failed, trying backup\n"
     ]
    },
    {
     "name": "stderr",
     "output_type": "stream",
     "text": [
      "pynbody.analysis.profile : Profile v_circ -- this routine assumes the disk is in the x-y plane\n"
     ]
    },
    {
     "name": "stdout",
     "output_type": "stream",
     "text": [
      "halo number 528 is done\n",
      "faceon has failed, trying backup\n"
     ]
    },
    {
     "name": "stderr",
     "output_type": "stream",
     "text": [
      "pynbody.analysis.profile : Profile v_circ -- this routine assumes the disk is in the x-y plane\n"
     ]
    },
    {
     "name": "stdout",
     "output_type": "stream",
     "text": [
      "halo number 529 is done\n",
      "faceon has failed, trying backup\n"
     ]
    },
    {
     "name": "stderr",
     "output_type": "stream",
     "text": [
      "pynbody.analysis.profile : Profile v_circ -- this routine assumes the disk is in the x-y plane\n"
     ]
    },
    {
     "name": "stdout",
     "output_type": "stream",
     "text": [
      "halo number 530 is done\n",
      "faceon has failed, trying backup\n"
     ]
    },
    {
     "name": "stderr",
     "output_type": "stream",
     "text": [
      "pynbody.analysis.profile : Profile v_circ -- this routine assumes the disk is in the x-y plane\n"
     ]
    },
    {
     "name": "stdout",
     "output_type": "stream",
     "text": [
      "halo number 531 is done\n",
      "faceon has failed, trying backup\n"
     ]
    },
    {
     "name": "stderr",
     "output_type": "stream",
     "text": [
      "pynbody.analysis.profile : Profile v_circ -- this routine assumes the disk is in the x-y plane\n"
     ]
    },
    {
     "name": "stdout",
     "output_type": "stream",
     "text": [
      "halo number 532 is done\n",
      "faceon has failed, trying backup\n"
     ]
    },
    {
     "name": "stderr",
     "output_type": "stream",
     "text": [
      "pynbody.analysis.profile : Profile v_circ -- this routine assumes the disk is in the x-y plane\n"
     ]
    },
    {
     "name": "stdout",
     "output_type": "stream",
     "text": [
      "halo number 533 is done\n",
      "faceon has failed, trying backup\n"
     ]
    },
    {
     "name": "stderr",
     "output_type": "stream",
     "text": [
      "pynbody.analysis.profile : Profile v_circ -- this routine assumes the disk is in the x-y plane\n"
     ]
    },
    {
     "name": "stdout",
     "output_type": "stream",
     "text": [
      "halo number 534 is done\n",
      "faceon has failed, trying backup\n"
     ]
    },
    {
     "name": "stderr",
     "output_type": "stream",
     "text": [
      "pynbody.analysis.profile : Profile v_circ -- this routine assumes the disk is in the x-y plane\n"
     ]
    },
    {
     "name": "stdout",
     "output_type": "stream",
     "text": [
      "halo number 535 is done\n",
      "faceon has failed, trying backup\n"
     ]
    },
    {
     "name": "stderr",
     "output_type": "stream",
     "text": [
      "pynbody.analysis.profile : Profile v_circ -- this routine assumes the disk is in the x-y plane\n"
     ]
    },
    {
     "name": "stdout",
     "output_type": "stream",
     "text": [
      "halo number 536 is done\n",
      "faceon has failed, trying backup\n"
     ]
    },
    {
     "name": "stderr",
     "output_type": "stream",
     "text": [
      "pynbody.analysis.profile : Profile v_circ -- this routine assumes the disk is in the x-y plane\n"
     ]
    },
    {
     "name": "stdout",
     "output_type": "stream",
     "text": [
      "halo number 537 is done\n",
      "faceon has failed, trying backup\n"
     ]
    },
    {
     "name": "stderr",
     "output_type": "stream",
     "text": [
      "pynbody.analysis.profile : Profile v_circ -- this routine assumes the disk is in the x-y plane\n"
     ]
    },
    {
     "name": "stdout",
     "output_type": "stream",
     "text": [
      "halo number 538 is done\n",
      "faceon has failed, trying backup\n"
     ]
    },
    {
     "name": "stderr",
     "output_type": "stream",
     "text": [
      "pynbody.analysis.profile : Profile v_circ -- this routine assumes the disk is in the x-y plane\n"
     ]
    },
    {
     "name": "stdout",
     "output_type": "stream",
     "text": [
      "halo number 539 is done\n",
      "faceon has failed, trying backup\n"
     ]
    },
    {
     "name": "stderr",
     "output_type": "stream",
     "text": [
      "pynbody.analysis.profile : Profile v_circ -- this routine assumes the disk is in the x-y plane\n"
     ]
    },
    {
     "name": "stdout",
     "output_type": "stream",
     "text": [
      "halo number 540 is done\n",
      "faceon has failed, trying backup\n"
     ]
    },
    {
     "name": "stderr",
     "output_type": "stream",
     "text": [
      "pynbody.analysis.profile : Profile v_circ -- this routine assumes the disk is in the x-y plane\n"
     ]
    },
    {
     "name": "stdout",
     "output_type": "stream",
     "text": [
      "halo number 541 is done\n",
      "faceon has failed, trying backup\n"
     ]
    },
    {
     "name": "stderr",
     "output_type": "stream",
     "text": [
      "pynbody.analysis.profile : Profile v_circ -- this routine assumes the disk is in the x-y plane\n"
     ]
    },
    {
     "name": "stdout",
     "output_type": "stream",
     "text": [
      "halo number 542 is done\n",
      "faceon has failed, trying backup\n"
     ]
    },
    {
     "name": "stderr",
     "output_type": "stream",
     "text": [
      "pynbody.analysis.profile : Profile v_circ -- this routine assumes the disk is in the x-y plane\n"
     ]
    },
    {
     "name": "stdout",
     "output_type": "stream",
     "text": [
      "halo number 543 is done\n",
      "faceon has failed, trying backup\n"
     ]
    },
    {
     "name": "stderr",
     "output_type": "stream",
     "text": [
      "pynbody.analysis.profile : Profile v_circ -- this routine assumes the disk is in the x-y plane\n"
     ]
    },
    {
     "name": "stdout",
     "output_type": "stream",
     "text": [
      "halo number 544 is done\n",
      "faceon has failed, trying backup\n"
     ]
    },
    {
     "name": "stderr",
     "output_type": "stream",
     "text": [
      "pynbody.analysis.profile : Profile v_circ -- this routine assumes the disk is in the x-y plane\n"
     ]
    },
    {
     "name": "stdout",
     "output_type": "stream",
     "text": [
      "halo number 545 is done\n",
      "faceon has failed, trying backup\n"
     ]
    },
    {
     "name": "stderr",
     "output_type": "stream",
     "text": [
      "pynbody.analysis.profile : Profile v_circ -- this routine assumes the disk is in the x-y plane\n"
     ]
    },
    {
     "name": "stdout",
     "output_type": "stream",
     "text": [
      "halo number 546 is done\n",
      "faceon has failed, trying backup\n"
     ]
    },
    {
     "name": "stderr",
     "output_type": "stream",
     "text": [
      "pynbody.analysis.profile : Profile v_circ -- this routine assumes the disk is in the x-y plane\n"
     ]
    },
    {
     "name": "stdout",
     "output_type": "stream",
     "text": [
      "halo number 547 is done\n",
      "faceon has failed, trying backup\n"
     ]
    },
    {
     "name": "stderr",
     "output_type": "stream",
     "text": [
      "pynbody.analysis.profile : Profile v_circ -- this routine assumes the disk is in the x-y plane\n"
     ]
    },
    {
     "name": "stdout",
     "output_type": "stream",
     "text": [
      "halo number 548 is done\n",
      "faceon has failed, trying backup\n"
     ]
    },
    {
     "name": "stderr",
     "output_type": "stream",
     "text": [
      "pynbody.analysis.profile : Profile v_circ -- this routine assumes the disk is in the x-y plane\n"
     ]
    },
    {
     "name": "stdout",
     "output_type": "stream",
     "text": [
      "halo number 549 is done\n",
      "faceon has failed, trying backup\n"
     ]
    },
    {
     "name": "stderr",
     "output_type": "stream",
     "text": [
      "pynbody.analysis.profile : Profile v_circ -- this routine assumes the disk is in the x-y plane\n"
     ]
    },
    {
     "name": "stdout",
     "output_type": "stream",
     "text": [
      "halo number 550 is done\n"
     ]
    },
    {
     "name": "stderr",
     "output_type": "stream",
     "text": [
      "pynbody.analysis.profile : Profile v_circ -- this routine assumes the disk is in the x-y plane\n"
     ]
    },
    {
     "name": "stdout",
     "output_type": "stream",
     "text": [
      "halo number 551 is done\n",
      "faceon has failed, trying backup\n"
     ]
    },
    {
     "name": "stderr",
     "output_type": "stream",
     "text": [
      "pynbody.analysis.profile : Profile v_circ -- this routine assumes the disk is in the x-y plane\n"
     ]
    },
    {
     "name": "stdout",
     "output_type": "stream",
     "text": [
      "halo number 552 is done\n",
      "faceon has failed, trying backup\n"
     ]
    },
    {
     "name": "stderr",
     "output_type": "stream",
     "text": [
      "pynbody.analysis.profile : Profile v_circ -- this routine assumes the disk is in the x-y plane\n"
     ]
    },
    {
     "name": "stdout",
     "output_type": "stream",
     "text": [
      "halo number 553 is done\n",
      "faceon has failed, trying backup\n"
     ]
    },
    {
     "name": "stderr",
     "output_type": "stream",
     "text": [
      "pynbody.analysis.profile : Profile v_circ -- this routine assumes the disk is in the x-y plane\n"
     ]
    },
    {
     "name": "stdout",
     "output_type": "stream",
     "text": [
      "halo number 554 is done\n",
      "faceon has failed, trying backup\n"
     ]
    },
    {
     "name": "stderr",
     "output_type": "stream",
     "text": [
      "pynbody.analysis.profile : Profile v_circ -- this routine assumes the disk is in the x-y plane\n"
     ]
    },
    {
     "name": "stdout",
     "output_type": "stream",
     "text": [
      "halo number 555 is done\n",
      "faceon has failed, trying backup\n"
     ]
    },
    {
     "name": "stderr",
     "output_type": "stream",
     "text": [
      "pynbody.analysis.profile : Profile v_circ -- this routine assumes the disk is in the x-y plane\n"
     ]
    },
    {
     "name": "stdout",
     "output_type": "stream",
     "text": [
      "halo number 556 is done\n",
      "faceon has failed, trying backup\n"
     ]
    },
    {
     "name": "stderr",
     "output_type": "stream",
     "text": [
      "pynbody.analysis.profile : Profile v_circ -- this routine assumes the disk is in the x-y plane\n"
     ]
    },
    {
     "name": "stdout",
     "output_type": "stream",
     "text": [
      "halo number 557 is done\n",
      "faceon has failed, trying backup\n"
     ]
    },
    {
     "name": "stderr",
     "output_type": "stream",
     "text": [
      "pynbody.analysis.profile : Profile v_circ -- this routine assumes the disk is in the x-y plane\n"
     ]
    },
    {
     "name": "stdout",
     "output_type": "stream",
     "text": [
      "halo number 558 is done\n",
      "faceon has failed, trying backup\n"
     ]
    },
    {
     "name": "stderr",
     "output_type": "stream",
     "text": [
      "pynbody.analysis.profile : Profile v_circ -- this routine assumes the disk is in the x-y plane\n"
     ]
    },
    {
     "name": "stdout",
     "output_type": "stream",
     "text": [
      "halo number 559 is done\n",
      "faceon has failed, trying backup\n"
     ]
    },
    {
     "name": "stderr",
     "output_type": "stream",
     "text": [
      "pynbody.analysis.profile : Profile v_circ -- this routine assumes the disk is in the x-y plane\n"
     ]
    },
    {
     "name": "stdout",
     "output_type": "stream",
     "text": [
      "halo number 560 is done\n",
      "faceon has failed, trying backup\n"
     ]
    },
    {
     "name": "stderr",
     "output_type": "stream",
     "text": [
      "pynbody.analysis.profile : Profile v_circ -- this routine assumes the disk is in the x-y plane\n"
     ]
    },
    {
     "name": "stdout",
     "output_type": "stream",
     "text": [
      "halo number 561 is done\n",
      "faceon has failed, trying backup\n"
     ]
    },
    {
     "name": "stderr",
     "output_type": "stream",
     "text": [
      "pynbody.analysis.profile : Profile v_circ -- this routine assumes the disk is in the x-y plane\n"
     ]
    },
    {
     "name": "stdout",
     "output_type": "stream",
     "text": [
      "halo number 562 is done\n",
      "faceon has failed, trying backup\n"
     ]
    },
    {
     "name": "stderr",
     "output_type": "stream",
     "text": [
      "pynbody.analysis.profile : Profile v_circ -- this routine assumes the disk is in the x-y plane\n"
     ]
    },
    {
     "name": "stdout",
     "output_type": "stream",
     "text": [
      "halo number 563 is done\n",
      "faceon has failed, trying backup\n"
     ]
    },
    {
     "name": "stderr",
     "output_type": "stream",
     "text": [
      "pynbody.analysis.profile : Profile v_circ -- this routine assumes the disk is in the x-y plane\n"
     ]
    },
    {
     "name": "stdout",
     "output_type": "stream",
     "text": [
      "halo number 564 is done\n",
      "faceon has failed, trying backup\n"
     ]
    },
    {
     "name": "stderr",
     "output_type": "stream",
     "text": [
      "pynbody.analysis.profile : Profile v_circ -- this routine assumes the disk is in the x-y plane\n"
     ]
    },
    {
     "name": "stdout",
     "output_type": "stream",
     "text": [
      "halo number 565 is done\n",
      "faceon has failed, trying backup\n"
     ]
    },
    {
     "name": "stderr",
     "output_type": "stream",
     "text": [
      "pynbody.analysis.profile : Profile v_circ -- this routine assumes the disk is in the x-y plane\n"
     ]
    },
    {
     "name": "stdout",
     "output_type": "stream",
     "text": [
      "halo number 566 is done\n",
      "faceon has failed, trying backup\n"
     ]
    },
    {
     "name": "stderr",
     "output_type": "stream",
     "text": [
      "pynbody.analysis.profile : Profile v_circ -- this routine assumes the disk is in the x-y plane\n"
     ]
    },
    {
     "name": "stdout",
     "output_type": "stream",
     "text": [
      "halo number 567 is done\n",
      "faceon has failed, trying backup\n"
     ]
    },
    {
     "name": "stderr",
     "output_type": "stream",
     "text": [
      "pynbody.analysis.profile : Profile v_circ -- this routine assumes the disk is in the x-y plane\n"
     ]
    },
    {
     "name": "stdout",
     "output_type": "stream",
     "text": [
      "halo number 568 is done\n",
      "faceon has failed, trying backup\n"
     ]
    },
    {
     "name": "stderr",
     "output_type": "stream",
     "text": [
      "pynbody.analysis.profile : Profile v_circ -- this routine assumes the disk is in the x-y plane\n"
     ]
    },
    {
     "name": "stdout",
     "output_type": "stream",
     "text": [
      "halo number 569 is done\n",
      "faceon has failed, trying backup\n"
     ]
    },
    {
     "name": "stderr",
     "output_type": "stream",
     "text": [
      "pynbody.analysis.profile : Profile v_circ -- this routine assumes the disk is in the x-y plane\n"
     ]
    },
    {
     "name": "stdout",
     "output_type": "stream",
     "text": [
      "halo number 570 is done\n",
      "faceon has failed, trying backup\n"
     ]
    },
    {
     "name": "stderr",
     "output_type": "stream",
     "text": [
      "pynbody.analysis.profile : Profile v_circ -- this routine assumes the disk is in the x-y plane\n"
     ]
    },
    {
     "name": "stdout",
     "output_type": "stream",
     "text": [
      "halo number 571 is done\n",
      "faceon has failed, trying backup\n"
     ]
    },
    {
     "name": "stderr",
     "output_type": "stream",
     "text": [
      "pynbody.analysis.profile : Profile v_circ -- this routine assumes the disk is in the x-y plane\n"
     ]
    },
    {
     "name": "stdout",
     "output_type": "stream",
     "text": [
      "halo number 572 is done\n",
      "faceon has failed, trying backup\n"
     ]
    },
    {
     "name": "stderr",
     "output_type": "stream",
     "text": [
      "pynbody.analysis.profile : Profile v_circ -- this routine assumes the disk is in the x-y plane\n"
     ]
    },
    {
     "name": "stdout",
     "output_type": "stream",
     "text": [
      "halo number 573 is done\n",
      "faceon has failed, trying backup\n"
     ]
    },
    {
     "name": "stderr",
     "output_type": "stream",
     "text": [
      "pynbody.analysis.profile : Profile v_circ -- this routine assumes the disk is in the x-y plane\n"
     ]
    },
    {
     "name": "stdout",
     "output_type": "stream",
     "text": [
      "halo number 574 is done\n",
      "faceon has failed, trying backup\n"
     ]
    },
    {
     "name": "stderr",
     "output_type": "stream",
     "text": [
      "pynbody.analysis.profile : Profile v_circ -- this routine assumes the disk is in the x-y plane\n"
     ]
    },
    {
     "name": "stdout",
     "output_type": "stream",
     "text": [
      "halo number 575 is done\n",
      "faceon has failed, trying backup\n"
     ]
    },
    {
     "name": "stderr",
     "output_type": "stream",
     "text": [
      "pynbody.analysis.profile : Profile v_circ -- this routine assumes the disk is in the x-y plane\n"
     ]
    },
    {
     "name": "stdout",
     "output_type": "stream",
     "text": [
      "halo number 576 is done\n",
      "faceon has failed, trying backup\n"
     ]
    },
    {
     "name": "stderr",
     "output_type": "stream",
     "text": [
      "pynbody.analysis.profile : Profile v_circ -- this routine assumes the disk is in the x-y plane\n"
     ]
    },
    {
     "name": "stdout",
     "output_type": "stream",
     "text": [
      "halo number 577 is done\n",
      "faceon has failed, trying backup\n"
     ]
    },
    {
     "name": "stderr",
     "output_type": "stream",
     "text": [
      "pynbody.analysis.profile : Profile v_circ -- this routine assumes the disk is in the x-y plane\n"
     ]
    },
    {
     "name": "stdout",
     "output_type": "stream",
     "text": [
      "halo number 578 is done\n",
      "faceon has failed, trying backup\n"
     ]
    },
    {
     "name": "stderr",
     "output_type": "stream",
     "text": [
      "pynbody.analysis.profile : Profile v_circ -- this routine assumes the disk is in the x-y plane\n"
     ]
    },
    {
     "name": "stdout",
     "output_type": "stream",
     "text": [
      "halo number 579 is done\n",
      "faceon has failed, trying backup\n"
     ]
    },
    {
     "name": "stderr",
     "output_type": "stream",
     "text": [
      "pynbody.analysis.profile : Profile v_circ -- this routine assumes the disk is in the x-y plane\n"
     ]
    },
    {
     "name": "stdout",
     "output_type": "stream",
     "text": [
      "halo number 580 is done\n",
      "faceon has failed, trying backup\n"
     ]
    },
    {
     "name": "stderr",
     "output_type": "stream",
     "text": [
      "pynbody.analysis.profile : Profile v_circ -- this routine assumes the disk is in the x-y plane\n"
     ]
    },
    {
     "name": "stdout",
     "output_type": "stream",
     "text": [
      "halo number 581 is done\n",
      "faceon has failed, trying backup\n"
     ]
    },
    {
     "name": "stderr",
     "output_type": "stream",
     "text": [
      "pynbody.analysis.profile : Profile v_circ -- this routine assumes the disk is in the x-y plane\n"
     ]
    },
    {
     "name": "stdout",
     "output_type": "stream",
     "text": [
      "halo number 582 is done\n",
      "faceon has failed, trying backup\n"
     ]
    },
    {
     "name": "stderr",
     "output_type": "stream",
     "text": [
      "pynbody.analysis.profile : Profile v_circ -- this routine assumes the disk is in the x-y plane\n"
     ]
    },
    {
     "name": "stdout",
     "output_type": "stream",
     "text": [
      "halo number 583 is done\n",
      "faceon has failed, trying backup\n"
     ]
    },
    {
     "name": "stderr",
     "output_type": "stream",
     "text": [
      "pynbody.analysis.profile : Profile v_circ -- this routine assumes the disk is in the x-y plane\n"
     ]
    },
    {
     "name": "stdout",
     "output_type": "stream",
     "text": [
      "halo number 584 is done\n",
      "faceon has failed, trying backup\n"
     ]
    },
    {
     "name": "stderr",
     "output_type": "stream",
     "text": [
      "pynbody.analysis.profile : Profile v_circ -- this routine assumes the disk is in the x-y plane\n"
     ]
    },
    {
     "name": "stdout",
     "output_type": "stream",
     "text": [
      "halo number 585 is done\n",
      "faceon has failed, trying backup\n"
     ]
    },
    {
     "name": "stderr",
     "output_type": "stream",
     "text": [
      "pynbody.analysis.profile : Profile v_circ -- this routine assumes the disk is in the x-y plane\n"
     ]
    },
    {
     "name": "stdout",
     "output_type": "stream",
     "text": [
      "halo number 586 is done\n",
      "faceon has failed, trying backup\n"
     ]
    },
    {
     "name": "stderr",
     "output_type": "stream",
     "text": [
      "pynbody.analysis.profile : Profile v_circ -- this routine assumes the disk is in the x-y plane\n"
     ]
    },
    {
     "name": "stdout",
     "output_type": "stream",
     "text": [
      "halo number 587 is done\n",
      "faceon has failed, trying backup\n"
     ]
    },
    {
     "name": "stderr",
     "output_type": "stream",
     "text": [
      "pynbody.analysis.profile : Profile v_circ -- this routine assumes the disk is in the x-y plane\n"
     ]
    },
    {
     "name": "stdout",
     "output_type": "stream",
     "text": [
      "halo number 588 is done\n",
      "faceon has failed, trying backup\n"
     ]
    },
    {
     "name": "stderr",
     "output_type": "stream",
     "text": [
      "pynbody.analysis.profile : Profile v_circ -- this routine assumes the disk is in the x-y plane\n"
     ]
    },
    {
     "name": "stdout",
     "output_type": "stream",
     "text": [
      "halo number 589 is done\n",
      "faceon has failed, trying backup\n"
     ]
    },
    {
     "name": "stderr",
     "output_type": "stream",
     "text": [
      "pynbody.analysis.profile : Profile v_circ -- this routine assumes the disk is in the x-y plane\n"
     ]
    },
    {
     "name": "stdout",
     "output_type": "stream",
     "text": [
      "halo number 590 is done\n",
      "faceon has failed, trying backup\n"
     ]
    },
    {
     "name": "stderr",
     "output_type": "stream",
     "text": [
      "pynbody.analysis.profile : Profile v_circ -- this routine assumes the disk is in the x-y plane\n"
     ]
    },
    {
     "name": "stdout",
     "output_type": "stream",
     "text": [
      "halo number 591 is done\n",
      "faceon has failed, trying backup\n"
     ]
    },
    {
     "name": "stderr",
     "output_type": "stream",
     "text": [
      "pynbody.analysis.profile : Profile v_circ -- this routine assumes the disk is in the x-y plane\n"
     ]
    },
    {
     "name": "stdout",
     "output_type": "stream",
     "text": [
      "halo number 592 is done\n",
      "faceon has failed, trying backup\n"
     ]
    },
    {
     "name": "stderr",
     "output_type": "stream",
     "text": [
      "pynbody.analysis.profile : Profile v_circ -- this routine assumes the disk is in the x-y plane\n"
     ]
    },
    {
     "name": "stdout",
     "output_type": "stream",
     "text": [
      "halo number 593 is done\n",
      "faceon has failed, trying backup\n"
     ]
    },
    {
     "name": "stderr",
     "output_type": "stream",
     "text": [
      "pynbody.analysis.profile : Profile v_circ -- this routine assumes the disk is in the x-y plane\n"
     ]
    },
    {
     "name": "stdout",
     "output_type": "stream",
     "text": [
      "halo number 594 is done\n",
      "faceon has failed, trying backup\n"
     ]
    },
    {
     "name": "stderr",
     "output_type": "stream",
     "text": [
      "pynbody.analysis.profile : Profile v_circ -- this routine assumes the disk is in the x-y plane\n"
     ]
    },
    {
     "name": "stdout",
     "output_type": "stream",
     "text": [
      "halo number 595 is done\n",
      "faceon has failed, trying backup\n"
     ]
    },
    {
     "name": "stderr",
     "output_type": "stream",
     "text": [
      "pynbody.analysis.profile : Profile v_circ -- this routine assumes the disk is in the x-y plane\n"
     ]
    },
    {
     "name": "stdout",
     "output_type": "stream",
     "text": [
      "halo number 596 is done\n",
      "faceon has failed, trying backup\n"
     ]
    },
    {
     "name": "stderr",
     "output_type": "stream",
     "text": [
      "pynbody.analysis.profile : Profile v_circ -- this routine assumes the disk is in the x-y plane\n"
     ]
    },
    {
     "name": "stdout",
     "output_type": "stream",
     "text": [
      "halo number 597 is done\n",
      "faceon has failed, trying backup\n"
     ]
    },
    {
     "name": "stderr",
     "output_type": "stream",
     "text": [
      "pynbody.analysis.profile : Profile v_circ -- this routine assumes the disk is in the x-y plane\n"
     ]
    },
    {
     "name": "stdout",
     "output_type": "stream",
     "text": [
      "halo number 598 is done\n",
      "faceon has failed, trying backup\n"
     ]
    },
    {
     "name": "stderr",
     "output_type": "stream",
     "text": [
      "pynbody.analysis.profile : Profile v_circ -- this routine assumes the disk is in the x-y plane\n"
     ]
    },
    {
     "name": "stdout",
     "output_type": "stream",
     "text": [
      "halo number 599 is done\n",
      "faceon has failed, trying backup\n"
     ]
    },
    {
     "name": "stderr",
     "output_type": "stream",
     "text": [
      "pynbody.analysis.profile : Profile v_circ -- this routine assumes the disk is in the x-y plane\n"
     ]
    },
    {
     "name": "stdout",
     "output_type": "stream",
     "text": [
      "halo number 600 is done\n",
      "faceon has failed, trying backup\n"
     ]
    },
    {
     "name": "stderr",
     "output_type": "stream",
     "text": [
      "pynbody.analysis.profile : Profile v_circ -- this routine assumes the disk is in the x-y plane\n"
     ]
    },
    {
     "name": "stdout",
     "output_type": "stream",
     "text": [
      "halo number 601 is done\n",
      "faceon has failed, trying backup\n"
     ]
    },
    {
     "name": "stderr",
     "output_type": "stream",
     "text": [
      "pynbody.analysis.profile : Profile v_circ -- this routine assumes the disk is in the x-y plane\n"
     ]
    },
    {
     "name": "stdout",
     "output_type": "stream",
     "text": [
      "halo number 602 is done\n",
      "faceon has failed, trying backup\n"
     ]
    },
    {
     "name": "stderr",
     "output_type": "stream",
     "text": [
      "pynbody.analysis.profile : Profile v_circ -- this routine assumes the disk is in the x-y plane\n"
     ]
    },
    {
     "name": "stdout",
     "output_type": "stream",
     "text": [
      "halo number 603 is done\n",
      "faceon has failed, trying backup\n"
     ]
    },
    {
     "name": "stderr",
     "output_type": "stream",
     "text": [
      "pynbody.analysis.profile : Profile v_circ -- this routine assumes the disk is in the x-y plane\n"
     ]
    },
    {
     "name": "stdout",
     "output_type": "stream",
     "text": [
      "halo number 604 is done\n",
      "faceon has failed, trying backup\n"
     ]
    },
    {
     "name": "stderr",
     "output_type": "stream",
     "text": [
      "pynbody.analysis.profile : Profile v_circ -- this routine assumes the disk is in the x-y plane\n"
     ]
    },
    {
     "name": "stdout",
     "output_type": "stream",
     "text": [
      "halo number 605 is done\n",
      "faceon has failed, trying backup\n"
     ]
    },
    {
     "name": "stderr",
     "output_type": "stream",
     "text": [
      "pynbody.analysis.profile : Profile v_circ -- this routine assumes the disk is in the x-y plane\n"
     ]
    },
    {
     "name": "stdout",
     "output_type": "stream",
     "text": [
      "halo number 606 is done\n",
      "faceon has failed, trying backup\n"
     ]
    },
    {
     "name": "stderr",
     "output_type": "stream",
     "text": [
      "pynbody.analysis.profile : Profile v_circ -- this routine assumes the disk is in the x-y plane\n"
     ]
    },
    {
     "name": "stdout",
     "output_type": "stream",
     "text": [
      "halo number 607 is done\n",
      "faceon has failed, trying backup\n"
     ]
    },
    {
     "name": "stderr",
     "output_type": "stream",
     "text": [
      "pynbody.analysis.profile : Profile v_circ -- this routine assumes the disk is in the x-y plane\n"
     ]
    },
    {
     "name": "stdout",
     "output_type": "stream",
     "text": [
      "halo number 608 is done\n",
      "faceon has failed, trying backup\n"
     ]
    },
    {
     "name": "stderr",
     "output_type": "stream",
     "text": [
      "pynbody.analysis.profile : Profile v_circ -- this routine assumes the disk is in the x-y plane\n"
     ]
    },
    {
     "name": "stdout",
     "output_type": "stream",
     "text": [
      "halo number 609 is done\n",
      "faceon has failed, trying backup\n"
     ]
    },
    {
     "name": "stderr",
     "output_type": "stream",
     "text": [
      "pynbody.analysis.profile : Profile v_circ -- this routine assumes the disk is in the x-y plane\n"
     ]
    },
    {
     "name": "stdout",
     "output_type": "stream",
     "text": [
      "halo number 610 is done\n",
      "faceon has failed, trying backup\n"
     ]
    },
    {
     "name": "stderr",
     "output_type": "stream",
     "text": [
      "pynbody.analysis.profile : Profile v_circ -- this routine assumes the disk is in the x-y plane\n"
     ]
    },
    {
     "name": "stdout",
     "output_type": "stream",
     "text": [
      "halo number 611 is done\n",
      "faceon has failed, trying backup\n"
     ]
    },
    {
     "name": "stderr",
     "output_type": "stream",
     "text": [
      "pynbody.analysis.profile : Profile v_circ -- this routine assumes the disk is in the x-y plane\n"
     ]
    },
    {
     "name": "stdout",
     "output_type": "stream",
     "text": [
      "halo number 612 is done\n",
      "faceon has failed, trying backup\n"
     ]
    },
    {
     "name": "stderr",
     "output_type": "stream",
     "text": [
      "pynbody.analysis.profile : Profile v_circ -- this routine assumes the disk is in the x-y plane\n"
     ]
    },
    {
     "name": "stdout",
     "output_type": "stream",
     "text": [
      "halo number 613 is done\n",
      "faceon has failed, trying backup\n"
     ]
    },
    {
     "name": "stderr",
     "output_type": "stream",
     "text": [
      "pynbody.analysis.profile : Profile v_circ -- this routine assumes the disk is in the x-y plane\n"
     ]
    },
    {
     "name": "stdout",
     "output_type": "stream",
     "text": [
      "halo number 614 is done\n",
      "faceon has failed, trying backup\n"
     ]
    },
    {
     "name": "stderr",
     "output_type": "stream",
     "text": [
      "pynbody.analysis.profile : Profile v_circ -- this routine assumes the disk is in the x-y plane\n"
     ]
    },
    {
     "name": "stdout",
     "output_type": "stream",
     "text": [
      "halo number 615 is done\n",
      "faceon has failed, trying backup\n"
     ]
    },
    {
     "name": "stderr",
     "output_type": "stream",
     "text": [
      "pynbody.analysis.profile : Profile v_circ -- this routine assumes the disk is in the x-y plane\n"
     ]
    },
    {
     "name": "stdout",
     "output_type": "stream",
     "text": [
      "halo number 616 is done\n",
      "faceon has failed, trying backup\n"
     ]
    },
    {
     "name": "stderr",
     "output_type": "stream",
     "text": [
      "pynbody.analysis.profile : Profile v_circ -- this routine assumes the disk is in the x-y plane\n"
     ]
    },
    {
     "name": "stdout",
     "output_type": "stream",
     "text": [
      "halo number 617 is done\n",
      "faceon has failed, trying backup\n"
     ]
    },
    {
     "name": "stderr",
     "output_type": "stream",
     "text": [
      "pynbody.analysis.profile : Profile v_circ -- this routine assumes the disk is in the x-y plane\n"
     ]
    },
    {
     "name": "stdout",
     "output_type": "stream",
     "text": [
      "halo number 618 is done\n",
      "faceon has failed, trying backup\n"
     ]
    },
    {
     "name": "stderr",
     "output_type": "stream",
     "text": [
      "pynbody.analysis.profile : Profile v_circ -- this routine assumes the disk is in the x-y plane\n"
     ]
    },
    {
     "name": "stdout",
     "output_type": "stream",
     "text": [
      "halo number 619 is done\n",
      "faceon has failed, trying backup\n"
     ]
    },
    {
     "name": "stderr",
     "output_type": "stream",
     "text": [
      "pynbody.analysis.profile : Profile v_circ -- this routine assumes the disk is in the x-y plane\n"
     ]
    },
    {
     "name": "stdout",
     "output_type": "stream",
     "text": [
      "halo number 620 is done\n",
      "faceon has failed, trying backup\n"
     ]
    },
    {
     "name": "stderr",
     "output_type": "stream",
     "text": [
      "pynbody.analysis.profile : Profile v_circ -- this routine assumes the disk is in the x-y plane\n"
     ]
    },
    {
     "name": "stdout",
     "output_type": "stream",
     "text": [
      "halo number 621 is done\n",
      "faceon has failed, trying backup\n"
     ]
    },
    {
     "name": "stderr",
     "output_type": "stream",
     "text": [
      "pynbody.analysis.profile : Profile v_circ -- this routine assumes the disk is in the x-y plane\n"
     ]
    },
    {
     "name": "stdout",
     "output_type": "stream",
     "text": [
      "halo number 622 is done\n",
      "faceon has failed, trying backup\n"
     ]
    },
    {
     "name": "stderr",
     "output_type": "stream",
     "text": [
      "pynbody.analysis.profile : Profile v_circ -- this routine assumes the disk is in the x-y plane\n"
     ]
    },
    {
     "name": "stdout",
     "output_type": "stream",
     "text": [
      "halo number 623 is done\n",
      "faceon has failed, trying backup\n"
     ]
    },
    {
     "name": "stderr",
     "output_type": "stream",
     "text": [
      "pynbody.analysis.profile : Profile v_circ -- this routine assumes the disk is in the x-y plane\n"
     ]
    },
    {
     "name": "stdout",
     "output_type": "stream",
     "text": [
      "halo number 624 is done\n",
      "faceon has failed, trying backup\n"
     ]
    },
    {
     "name": "stderr",
     "output_type": "stream",
     "text": [
      "pynbody.analysis.profile : Profile v_circ -- this routine assumes the disk is in the x-y plane\n"
     ]
    },
    {
     "name": "stdout",
     "output_type": "stream",
     "text": [
      "halo number 625 is done\n",
      "faceon has failed, trying backup\n"
     ]
    },
    {
     "name": "stderr",
     "output_type": "stream",
     "text": [
      "pynbody.analysis.profile : Profile v_circ -- this routine assumes the disk is in the x-y plane\n"
     ]
    },
    {
     "name": "stdout",
     "output_type": "stream",
     "text": [
      "halo number 626 is done\n",
      "faceon has failed, trying backup\n"
     ]
    },
    {
     "name": "stderr",
     "output_type": "stream",
     "text": [
      "pynbody.analysis.profile : Profile v_circ -- this routine assumes the disk is in the x-y plane\n"
     ]
    },
    {
     "name": "stdout",
     "output_type": "stream",
     "text": [
      "halo number 627 is done\n",
      "faceon has failed, trying backup\n"
     ]
    },
    {
     "name": "stderr",
     "output_type": "stream",
     "text": [
      "pynbody.analysis.profile : Profile v_circ -- this routine assumes the disk is in the x-y plane\n"
     ]
    },
    {
     "name": "stdout",
     "output_type": "stream",
     "text": [
      "halo number 628 is done\n",
      "faceon has failed, trying backup\n"
     ]
    },
    {
     "name": "stderr",
     "output_type": "stream",
     "text": [
      "pynbody.analysis.profile : Profile v_circ -- this routine assumes the disk is in the x-y plane\n"
     ]
    },
    {
     "name": "stdout",
     "output_type": "stream",
     "text": [
      "halo number 629 is done\n",
      "faceon has failed, trying backup\n"
     ]
    },
    {
     "name": "stderr",
     "output_type": "stream",
     "text": [
      "pynbody.analysis.profile : Profile v_circ -- this routine assumes the disk is in the x-y plane\n"
     ]
    },
    {
     "name": "stdout",
     "output_type": "stream",
     "text": [
      "halo number 630 is done\n",
      "faceon has failed, trying backup\n"
     ]
    },
    {
     "name": "stderr",
     "output_type": "stream",
     "text": [
      "pynbody.analysis.profile : Profile v_circ -- this routine assumes the disk is in the x-y plane\n"
     ]
    },
    {
     "name": "stdout",
     "output_type": "stream",
     "text": [
      "halo number 631 is done\n"
     ]
    },
    {
     "name": "stderr",
     "output_type": "stream",
     "text": [
      "pynbody.analysis.profile : Profile v_circ -- this routine assumes the disk is in the x-y plane\n"
     ]
    },
    {
     "name": "stdout",
     "output_type": "stream",
     "text": [
      "halo number 632 is done\n",
      "faceon has failed, trying backup\n"
     ]
    },
    {
     "name": "stderr",
     "output_type": "stream",
     "text": [
      "pynbody.analysis.profile : Profile v_circ -- this routine assumes the disk is in the x-y plane\n"
     ]
    },
    {
     "name": "stdout",
     "output_type": "stream",
     "text": [
      "halo number 633 is done\n",
      "faceon has failed, trying backup\n"
     ]
    },
    {
     "name": "stderr",
     "output_type": "stream",
     "text": [
      "pynbody.analysis.profile : Profile v_circ -- this routine assumes the disk is in the x-y plane\n"
     ]
    },
    {
     "name": "stdout",
     "output_type": "stream",
     "text": [
      "halo number 634 is done\n",
      "faceon has failed, trying backup\n"
     ]
    },
    {
     "name": "stderr",
     "output_type": "stream",
     "text": [
      "pynbody.analysis.profile : Profile v_circ -- this routine assumes the disk is in the x-y plane\n"
     ]
    },
    {
     "name": "stdout",
     "output_type": "stream",
     "text": [
      "halo number 635 is done\n",
      "faceon has failed, trying backup\n"
     ]
    },
    {
     "name": "stderr",
     "output_type": "stream",
     "text": [
      "pynbody.analysis.profile : Profile v_circ -- this routine assumes the disk is in the x-y plane\n"
     ]
    },
    {
     "name": "stdout",
     "output_type": "stream",
     "text": [
      "halo number 636 is done\n",
      "faceon has failed, trying backup\n"
     ]
    },
    {
     "name": "stderr",
     "output_type": "stream",
     "text": [
      "pynbody.analysis.profile : Profile v_circ -- this routine assumes the disk is in the x-y plane\n"
     ]
    },
    {
     "name": "stdout",
     "output_type": "stream",
     "text": [
      "halo number 637 is done\n",
      "faceon has failed, trying backup\n"
     ]
    },
    {
     "name": "stderr",
     "output_type": "stream",
     "text": [
      "pynbody.analysis.profile : Profile v_circ -- this routine assumes the disk is in the x-y plane\n"
     ]
    },
    {
     "name": "stdout",
     "output_type": "stream",
     "text": [
      "halo number 638 is done\n",
      "faceon has failed, trying backup\n"
     ]
    },
    {
     "name": "stderr",
     "output_type": "stream",
     "text": [
      "pynbody.analysis.profile : Profile v_circ -- this routine assumes the disk is in the x-y plane\n"
     ]
    },
    {
     "name": "stdout",
     "output_type": "stream",
     "text": [
      "halo number 639 is done\n",
      "faceon has failed, trying backup\n"
     ]
    },
    {
     "name": "stderr",
     "output_type": "stream",
     "text": [
      "pynbody.analysis.profile : Profile v_circ -- this routine assumes the disk is in the x-y plane\n"
     ]
    },
    {
     "name": "stdout",
     "output_type": "stream",
     "text": [
      "halo number 640 is done\n",
      "faceon has failed, trying backup\n"
     ]
    },
    {
     "name": "stderr",
     "output_type": "stream",
     "text": [
      "pynbody.analysis.profile : Profile v_circ -- this routine assumes the disk is in the x-y plane\n"
     ]
    },
    {
     "name": "stdout",
     "output_type": "stream",
     "text": [
      "halo number 641 is done\n",
      "faceon has failed, trying backup\n"
     ]
    },
    {
     "name": "stderr",
     "output_type": "stream",
     "text": [
      "pynbody.analysis.profile : Profile v_circ -- this routine assumes the disk is in the x-y plane\n"
     ]
    },
    {
     "name": "stdout",
     "output_type": "stream",
     "text": [
      "halo number 642 is done\n",
      "faceon has failed, trying backup\n"
     ]
    },
    {
     "name": "stderr",
     "output_type": "stream",
     "text": [
      "pynbody.analysis.profile : Profile v_circ -- this routine assumes the disk is in the x-y plane\n"
     ]
    },
    {
     "name": "stdout",
     "output_type": "stream",
     "text": [
      "halo number 643 is done\n",
      "faceon has failed, trying backup\n"
     ]
    },
    {
     "name": "stderr",
     "output_type": "stream",
     "text": [
      "pynbody.analysis.profile : Profile v_circ -- this routine assumes the disk is in the x-y plane\n"
     ]
    },
    {
     "name": "stdout",
     "output_type": "stream",
     "text": [
      "halo number 644 is done\n",
      "faceon has failed, trying backup\n"
     ]
    },
    {
     "name": "stderr",
     "output_type": "stream",
     "text": [
      "pynbody.analysis.profile : Profile v_circ -- this routine assumes the disk is in the x-y plane\n"
     ]
    },
    {
     "name": "stdout",
     "output_type": "stream",
     "text": [
      "halo number 645 is done\n",
      "faceon has failed, trying backup\n"
     ]
    },
    {
     "name": "stderr",
     "output_type": "stream",
     "text": [
      "pynbody.analysis.profile : Profile v_circ -- this routine assumes the disk is in the x-y plane\n"
     ]
    },
    {
     "name": "stdout",
     "output_type": "stream",
     "text": [
      "halo number 646 is done\n",
      "faceon has failed, trying backup\n"
     ]
    },
    {
     "name": "stderr",
     "output_type": "stream",
     "text": [
      "pynbody.analysis.profile : Profile v_circ -- this routine assumes the disk is in the x-y plane\n"
     ]
    },
    {
     "name": "stdout",
     "output_type": "stream",
     "text": [
      "halo number 647 is done\n",
      "faceon has failed, trying backup\n"
     ]
    },
    {
     "name": "stderr",
     "output_type": "stream",
     "text": [
      "pynbody.analysis.profile : Profile v_circ -- this routine assumes the disk is in the x-y plane\n"
     ]
    },
    {
     "name": "stdout",
     "output_type": "stream",
     "text": [
      "halo number 648 is done\n",
      "faceon has failed, trying backup\n"
     ]
    },
    {
     "name": "stderr",
     "output_type": "stream",
     "text": [
      "pynbody.analysis.profile : Profile v_circ -- this routine assumes the disk is in the x-y plane\n"
     ]
    },
    {
     "name": "stdout",
     "output_type": "stream",
     "text": [
      "halo number 649 is done\n",
      "faceon has failed, trying backup\n"
     ]
    },
    {
     "name": "stderr",
     "output_type": "stream",
     "text": [
      "pynbody.analysis.profile : Profile v_circ -- this routine assumes the disk is in the x-y plane\n"
     ]
    },
    {
     "name": "stdout",
     "output_type": "stream",
     "text": [
      "halo number 650 is done\n",
      "faceon has failed, trying backup\n"
     ]
    },
    {
     "name": "stderr",
     "output_type": "stream",
     "text": [
      "pynbody.analysis.profile : Profile v_circ -- this routine assumes the disk is in the x-y plane\n"
     ]
    },
    {
     "name": "stdout",
     "output_type": "stream",
     "text": [
      "halo number 651 is done\n",
      "faceon has failed, trying backup\n"
     ]
    },
    {
     "name": "stderr",
     "output_type": "stream",
     "text": [
      "pynbody.analysis.profile : Profile v_circ -- this routine assumes the disk is in the x-y plane\n"
     ]
    },
    {
     "name": "stdout",
     "output_type": "stream",
     "text": [
      "halo number 652 is done\n",
      "faceon has failed, trying backup\n"
     ]
    },
    {
     "name": "stderr",
     "output_type": "stream",
     "text": [
      "pynbody.analysis.profile : Profile v_circ -- this routine assumes the disk is in the x-y plane\n"
     ]
    },
    {
     "name": "stdout",
     "output_type": "stream",
     "text": [
      "halo number 653 is done\n",
      "faceon has failed, trying backup\n"
     ]
    },
    {
     "name": "stderr",
     "output_type": "stream",
     "text": [
      "pynbody.analysis.profile : Profile v_circ -- this routine assumes the disk is in the x-y plane\n"
     ]
    },
    {
     "name": "stdout",
     "output_type": "stream",
     "text": [
      "halo number 654 is done\n",
      "faceon has failed, trying backup\n"
     ]
    },
    {
     "name": "stderr",
     "output_type": "stream",
     "text": [
      "pynbody.analysis.profile : Profile v_circ -- this routine assumes the disk is in the x-y plane\n"
     ]
    },
    {
     "name": "stdout",
     "output_type": "stream",
     "text": [
      "halo number 655 is done\n",
      "faceon has failed, trying backup\n"
     ]
    },
    {
     "name": "stderr",
     "output_type": "stream",
     "text": [
      "pynbody.analysis.profile : Profile v_circ -- this routine assumes the disk is in the x-y plane\n"
     ]
    },
    {
     "name": "stdout",
     "output_type": "stream",
     "text": [
      "halo number 656 is done\n",
      "faceon has failed, trying backup\n"
     ]
    },
    {
     "name": "stderr",
     "output_type": "stream",
     "text": [
      "pynbody.analysis.profile : Profile v_circ -- this routine assumes the disk is in the x-y plane\n"
     ]
    },
    {
     "name": "stdout",
     "output_type": "stream",
     "text": [
      "halo number 657 is done\n",
      "faceon has failed, trying backup\n"
     ]
    },
    {
     "name": "stderr",
     "output_type": "stream",
     "text": [
      "pynbody.analysis.profile : Profile v_circ -- this routine assumes the disk is in the x-y plane\n"
     ]
    },
    {
     "name": "stdout",
     "output_type": "stream",
     "text": [
      "halo number 658 is done\n",
      "faceon has failed, trying backup\n"
     ]
    },
    {
     "name": "stderr",
     "output_type": "stream",
     "text": [
      "pynbody.analysis.profile : Profile v_circ -- this routine assumes the disk is in the x-y plane\n"
     ]
    },
    {
     "name": "stdout",
     "output_type": "stream",
     "text": [
      "halo number 659 is done\n",
      "faceon has failed, trying backup\n"
     ]
    },
    {
     "name": "stderr",
     "output_type": "stream",
     "text": [
      "pynbody.analysis.profile : Profile v_circ -- this routine assumes the disk is in the x-y plane\n"
     ]
    },
    {
     "name": "stdout",
     "output_type": "stream",
     "text": [
      "halo number 660 is done\n",
      "faceon has failed, trying backup\n"
     ]
    },
    {
     "name": "stderr",
     "output_type": "stream",
     "text": [
      "pynbody.analysis.profile : Profile v_circ -- this routine assumes the disk is in the x-y plane\n"
     ]
    },
    {
     "name": "stdout",
     "output_type": "stream",
     "text": [
      "halo number 661 is done\n",
      "faceon has failed, trying backup\n"
     ]
    },
    {
     "name": "stderr",
     "output_type": "stream",
     "text": [
      "pynbody.analysis.profile : Profile v_circ -- this routine assumes the disk is in the x-y plane\n"
     ]
    },
    {
     "name": "stdout",
     "output_type": "stream",
     "text": [
      "halo number 662 is done\n",
      "faceon has failed, trying backup\n"
     ]
    },
    {
     "name": "stderr",
     "output_type": "stream",
     "text": [
      "pynbody.analysis.profile : Profile v_circ -- this routine assumes the disk is in the x-y plane\n"
     ]
    },
    {
     "name": "stdout",
     "output_type": "stream",
     "text": [
      "halo number 663 is done\n",
      "faceon has failed, trying backup\n"
     ]
    },
    {
     "name": "stderr",
     "output_type": "stream",
     "text": [
      "pynbody.analysis.profile : Profile v_circ -- this routine assumes the disk is in the x-y plane\n"
     ]
    },
    {
     "name": "stdout",
     "output_type": "stream",
     "text": [
      "halo number 664 is done\n",
      "faceon has failed, trying backup\n"
     ]
    },
    {
     "name": "stderr",
     "output_type": "stream",
     "text": [
      "pynbody.analysis.profile : Profile v_circ -- this routine assumes the disk is in the x-y plane\n"
     ]
    },
    {
     "name": "stdout",
     "output_type": "stream",
     "text": [
      "halo number 665 is done\n",
      "faceon has failed, trying backup\n"
     ]
    },
    {
     "name": "stderr",
     "output_type": "stream",
     "text": [
      "pynbody.analysis.profile : Profile v_circ -- this routine assumes the disk is in the x-y plane\n"
     ]
    },
    {
     "name": "stdout",
     "output_type": "stream",
     "text": [
      "halo number 666 is done\n",
      "faceon has failed, trying backup\n"
     ]
    },
    {
     "name": "stderr",
     "output_type": "stream",
     "text": [
      "pynbody.analysis.profile : Profile v_circ -- this routine assumes the disk is in the x-y plane\n"
     ]
    },
    {
     "name": "stdout",
     "output_type": "stream",
     "text": [
      "halo number 667 is done\n",
      "faceon has failed, trying backup\n"
     ]
    },
    {
     "name": "stderr",
     "output_type": "stream",
     "text": [
      "pynbody.analysis.profile : Profile v_circ -- this routine assumes the disk is in the x-y plane\n"
     ]
    },
    {
     "name": "stdout",
     "output_type": "stream",
     "text": [
      "halo number 668 is done\n",
      "faceon has failed, trying backup\n"
     ]
    },
    {
     "name": "stderr",
     "output_type": "stream",
     "text": [
      "pynbody.analysis.profile : Profile v_circ -- this routine assumes the disk is in the x-y plane\n"
     ]
    },
    {
     "name": "stdout",
     "output_type": "stream",
     "text": [
      "halo number 669 is done\n",
      "faceon has failed, trying backup\n"
     ]
    },
    {
     "name": "stderr",
     "output_type": "stream",
     "text": [
      "pynbody.analysis.profile : Profile v_circ -- this routine assumes the disk is in the x-y plane\n"
     ]
    },
    {
     "name": "stdout",
     "output_type": "stream",
     "text": [
      "halo number 670 is done\n",
      "faceon has failed, trying backup\n"
     ]
    },
    {
     "name": "stderr",
     "output_type": "stream",
     "text": [
      "pynbody.analysis.profile : Profile v_circ -- this routine assumes the disk is in the x-y plane\n"
     ]
    },
    {
     "name": "stdout",
     "output_type": "stream",
     "text": [
      "halo number 671 is done\n",
      "faceon has failed, trying backup\n"
     ]
    },
    {
     "name": "stderr",
     "output_type": "stream",
     "text": [
      "pynbody.analysis.profile : Profile v_circ -- this routine assumes the disk is in the x-y plane\n"
     ]
    },
    {
     "name": "stdout",
     "output_type": "stream",
     "text": [
      "halo number 672 is done\n",
      "faceon has failed, trying backup\n"
     ]
    },
    {
     "name": "stderr",
     "output_type": "stream",
     "text": [
      "pynbody.analysis.profile : Profile v_circ -- this routine assumes the disk is in the x-y plane\n"
     ]
    },
    {
     "name": "stdout",
     "output_type": "stream",
     "text": [
      "halo number 673 is done\n",
      "faceon has failed, trying backup\n"
     ]
    },
    {
     "name": "stderr",
     "output_type": "stream",
     "text": [
      "pynbody.analysis.profile : Profile v_circ -- this routine assumes the disk is in the x-y plane\n"
     ]
    },
    {
     "name": "stdout",
     "output_type": "stream",
     "text": [
      "halo number 674 is done\n",
      "faceon has failed, trying backup\n"
     ]
    },
    {
     "name": "stderr",
     "output_type": "stream",
     "text": [
      "pynbody.analysis.profile : Profile v_circ -- this routine assumes the disk is in the x-y plane\n"
     ]
    },
    {
     "name": "stdout",
     "output_type": "stream",
     "text": [
      "halo number 675 is done\n",
      "faceon has failed, trying backup\n"
     ]
    },
    {
     "name": "stderr",
     "output_type": "stream",
     "text": [
      "pynbody.analysis.profile : Profile v_circ -- this routine assumes the disk is in the x-y plane\n"
     ]
    },
    {
     "name": "stdout",
     "output_type": "stream",
     "text": [
      "halo number 676 is done\n",
      "faceon has failed, trying backup\n"
     ]
    },
    {
     "name": "stderr",
     "output_type": "stream",
     "text": [
      "pynbody.analysis.profile : Profile v_circ -- this routine assumes the disk is in the x-y plane\n"
     ]
    },
    {
     "name": "stdout",
     "output_type": "stream",
     "text": [
      "halo number 677 is done\n",
      "faceon has failed, trying backup\n"
     ]
    },
    {
     "name": "stderr",
     "output_type": "stream",
     "text": [
      "pynbody.analysis.profile : Profile v_circ -- this routine assumes the disk is in the x-y plane\n"
     ]
    },
    {
     "name": "stdout",
     "output_type": "stream",
     "text": [
      "halo number 678 is done\n",
      "faceon has failed, trying backup\n"
     ]
    },
    {
     "name": "stderr",
     "output_type": "stream",
     "text": [
      "pynbody.analysis.profile : Profile v_circ -- this routine assumes the disk is in the x-y plane\n"
     ]
    },
    {
     "name": "stdout",
     "output_type": "stream",
     "text": [
      "halo number 679 is done\n",
      "faceon has failed, trying backup\n"
     ]
    },
    {
     "name": "stderr",
     "output_type": "stream",
     "text": [
      "pynbody.analysis.profile : Profile v_circ -- this routine assumes the disk is in the x-y plane\n"
     ]
    },
    {
     "name": "stdout",
     "output_type": "stream",
     "text": [
      "halo number 680 is done\n",
      "faceon has failed, trying backup\n"
     ]
    },
    {
     "name": "stderr",
     "output_type": "stream",
     "text": [
      "pynbody.analysis.profile : Profile v_circ -- this routine assumes the disk is in the x-y plane\n"
     ]
    },
    {
     "name": "stdout",
     "output_type": "stream",
     "text": [
      "halo number 681 is done\n",
      "faceon has failed, trying backup\n"
     ]
    },
    {
     "name": "stderr",
     "output_type": "stream",
     "text": [
      "pynbody.analysis.profile : Profile v_circ -- this routine assumes the disk is in the x-y plane\n"
     ]
    },
    {
     "name": "stdout",
     "output_type": "stream",
     "text": [
      "halo number 682 is done\n",
      "faceon has failed, trying backup\n"
     ]
    },
    {
     "name": "stderr",
     "output_type": "stream",
     "text": [
      "pynbody.analysis.profile : Profile v_circ -- this routine assumes the disk is in the x-y plane\n"
     ]
    },
    {
     "name": "stdout",
     "output_type": "stream",
     "text": [
      "halo number 683 is done\n",
      "faceon has failed, trying backup\n"
     ]
    },
    {
     "name": "stderr",
     "output_type": "stream",
     "text": [
      "pynbody.analysis.profile : Profile v_circ -- this routine assumes the disk is in the x-y plane\n"
     ]
    },
    {
     "name": "stdout",
     "output_type": "stream",
     "text": [
      "halo number 684 is done\n",
      "faceon has failed, trying backup\n"
     ]
    },
    {
     "name": "stderr",
     "output_type": "stream",
     "text": [
      "pynbody.analysis.profile : Profile v_circ -- this routine assumes the disk is in the x-y plane\n"
     ]
    },
    {
     "name": "stdout",
     "output_type": "stream",
     "text": [
      "halo number 685 is done\n",
      "faceon has failed, trying backup\n"
     ]
    },
    {
     "name": "stderr",
     "output_type": "stream",
     "text": [
      "pynbody.analysis.profile : Profile v_circ -- this routine assumes the disk is in the x-y plane\n"
     ]
    },
    {
     "name": "stdout",
     "output_type": "stream",
     "text": [
      "halo number 686 is done\n",
      "faceon has failed, trying backup\n"
     ]
    },
    {
     "name": "stderr",
     "output_type": "stream",
     "text": [
      "pynbody.analysis.profile : Profile v_circ -- this routine assumes the disk is in the x-y plane\n"
     ]
    },
    {
     "name": "stdout",
     "output_type": "stream",
     "text": [
      "halo number 687 is done\n",
      "faceon has failed, trying backup\n"
     ]
    },
    {
     "name": "stderr",
     "output_type": "stream",
     "text": [
      "pynbody.analysis.profile : Profile v_circ -- this routine assumes the disk is in the x-y plane\n"
     ]
    },
    {
     "name": "stdout",
     "output_type": "stream",
     "text": [
      "halo number 688 is done\n",
      "faceon has failed, trying backup\n"
     ]
    },
    {
     "name": "stderr",
     "output_type": "stream",
     "text": [
      "pynbody.analysis.profile : Profile v_circ -- this routine assumes the disk is in the x-y plane\n"
     ]
    },
    {
     "name": "stdout",
     "output_type": "stream",
     "text": [
      "halo number 689 is done\n",
      "faceon has failed, trying backup\n"
     ]
    },
    {
     "name": "stderr",
     "output_type": "stream",
     "text": [
      "pynbody.analysis.profile : Profile v_circ -- this routine assumes the disk is in the x-y plane\n"
     ]
    },
    {
     "name": "stdout",
     "output_type": "stream",
     "text": [
      "halo number 690 is done\n",
      "faceon has failed, trying backup\n"
     ]
    },
    {
     "name": "stderr",
     "output_type": "stream",
     "text": [
      "pynbody.analysis.profile : Profile v_circ -- this routine assumes the disk is in the x-y plane\n"
     ]
    },
    {
     "name": "stdout",
     "output_type": "stream",
     "text": [
      "halo number 691 is done\n",
      "faceon has failed, trying backup\n"
     ]
    },
    {
     "name": "stderr",
     "output_type": "stream",
     "text": [
      "pynbody.analysis.profile : Profile v_circ -- this routine assumes the disk is in the x-y plane\n"
     ]
    },
    {
     "name": "stdout",
     "output_type": "stream",
     "text": [
      "halo number 692 is done\n"
     ]
    },
    {
     "name": "stderr",
     "output_type": "stream",
     "text": [
      "pynbody.analysis.profile : Profile v_circ -- this routine assumes the disk is in the x-y plane\n"
     ]
    },
    {
     "name": "stdout",
     "output_type": "stream",
     "text": [
      "faceon has failed, trying backup\n",
      "halo number 693 is done\n",
      "faceon has failed, trying backup\n"
     ]
    },
    {
     "name": "stderr",
     "output_type": "stream",
     "text": [
      "pynbody.analysis.profile : Profile v_circ -- this routine assumes the disk is in the x-y plane\n"
     ]
    },
    {
     "name": "stdout",
     "output_type": "stream",
     "text": [
      "halo number 694 is done\n",
      "faceon has failed, trying backup\n"
     ]
    },
    {
     "name": "stderr",
     "output_type": "stream",
     "text": [
      "pynbody.analysis.profile : Profile v_circ -- this routine assumes the disk is in the x-y plane\n"
     ]
    },
    {
     "name": "stdout",
     "output_type": "stream",
     "text": [
      "halo number 695 is done\n",
      "faceon has failed, trying backup\n"
     ]
    },
    {
     "name": "stderr",
     "output_type": "stream",
     "text": [
      "pynbody.analysis.profile : Profile v_circ -- this routine assumes the disk is in the x-y plane\n"
     ]
    },
    {
     "name": "stdout",
     "output_type": "stream",
     "text": [
      "halo number 696 is done\n",
      "faceon has failed, trying backup\n"
     ]
    },
    {
     "name": "stderr",
     "output_type": "stream",
     "text": [
      "pynbody.analysis.profile : Profile v_circ -- this routine assumes the disk is in the x-y plane\n"
     ]
    },
    {
     "name": "stdout",
     "output_type": "stream",
     "text": [
      "halo number 697 is done\n",
      "faceon has failed, trying backup\n"
     ]
    },
    {
     "name": "stderr",
     "output_type": "stream",
     "text": [
      "pynbody.analysis.profile : Profile v_circ -- this routine assumes the disk is in the x-y plane\n"
     ]
    },
    {
     "name": "stdout",
     "output_type": "stream",
     "text": [
      "halo number 698 is done\n",
      "faceon has failed, trying backup\n"
     ]
    },
    {
     "name": "stderr",
     "output_type": "stream",
     "text": [
      "pynbody.analysis.profile : Profile v_circ -- this routine assumes the disk is in the x-y plane\n"
     ]
    },
    {
     "name": "stdout",
     "output_type": "stream",
     "text": [
      "halo number 699 is done\n",
      "faceon has failed, trying backup\n"
     ]
    },
    {
     "name": "stderr",
     "output_type": "stream",
     "text": [
      "pynbody.analysis.profile : Profile v_circ -- this routine assumes the disk is in the x-y plane\n"
     ]
    },
    {
     "name": "stdout",
     "output_type": "stream",
     "text": [
      "halo number 700 is done\n",
      "faceon has failed, trying backup\n"
     ]
    },
    {
     "name": "stderr",
     "output_type": "stream",
     "text": [
      "pynbody.analysis.profile : Profile v_circ -- this routine assumes the disk is in the x-y plane\n"
     ]
    },
    {
     "name": "stdout",
     "output_type": "stream",
     "text": [
      "halo number 701 is done\n",
      "faceon has failed, trying backup\n"
     ]
    },
    {
     "name": "stderr",
     "output_type": "stream",
     "text": [
      "pynbody.analysis.profile : Profile v_circ -- this routine assumes the disk is in the x-y plane\n"
     ]
    },
    {
     "name": "stdout",
     "output_type": "stream",
     "text": [
      "halo number 702 is done\n",
      "faceon has failed, trying backup\n"
     ]
    },
    {
     "name": "stderr",
     "output_type": "stream",
     "text": [
      "pynbody.analysis.profile : Profile v_circ -- this routine assumes the disk is in the x-y plane\n"
     ]
    },
    {
     "name": "stdout",
     "output_type": "stream",
     "text": [
      "halo number 703 is done\n",
      "faceon has failed, trying backup\n"
     ]
    },
    {
     "name": "stderr",
     "output_type": "stream",
     "text": [
      "pynbody.analysis.profile : Profile v_circ -- this routine assumes the disk is in the x-y plane\n"
     ]
    },
    {
     "name": "stdout",
     "output_type": "stream",
     "text": [
      "halo number 704 is done\n",
      "faceon has failed, trying backup\n"
     ]
    },
    {
     "name": "stderr",
     "output_type": "stream",
     "text": [
      "pynbody.analysis.profile : Profile v_circ -- this routine assumes the disk is in the x-y plane\n"
     ]
    },
    {
     "name": "stdout",
     "output_type": "stream",
     "text": [
      "halo number 705 is done\n",
      "faceon has failed, trying backup\n"
     ]
    },
    {
     "name": "stderr",
     "output_type": "stream",
     "text": [
      "pynbody.analysis.profile : Profile v_circ -- this routine assumes the disk is in the x-y plane\n"
     ]
    },
    {
     "name": "stdout",
     "output_type": "stream",
     "text": [
      "halo number 706 is done\n",
      "faceon has failed, trying backup\n"
     ]
    },
    {
     "name": "stderr",
     "output_type": "stream",
     "text": [
      "pynbody.analysis.profile : Profile v_circ -- this routine assumes the disk is in the x-y plane\n"
     ]
    },
    {
     "name": "stdout",
     "output_type": "stream",
     "text": [
      "halo number 707 is done\n",
      "faceon has failed, trying backup\n"
     ]
    },
    {
     "name": "stderr",
     "output_type": "stream",
     "text": [
      "pynbody.analysis.profile : Profile v_circ -- this routine assumes the disk is in the x-y plane\n"
     ]
    },
    {
     "name": "stdout",
     "output_type": "stream",
     "text": [
      "halo number 708 is done\n",
      "faceon has failed, trying backup\n"
     ]
    },
    {
     "name": "stderr",
     "output_type": "stream",
     "text": [
      "pynbody.analysis.profile : Profile v_circ -- this routine assumes the disk is in the x-y plane\n"
     ]
    },
    {
     "name": "stdout",
     "output_type": "stream",
     "text": [
      "halo number 709 is done\n",
      "faceon has failed, trying backup\n"
     ]
    },
    {
     "name": "stderr",
     "output_type": "stream",
     "text": [
      "pynbody.analysis.profile : Profile v_circ -- this routine assumes the disk is in the x-y plane\n"
     ]
    },
    {
     "name": "stdout",
     "output_type": "stream",
     "text": [
      "halo number 710 is done\n",
      "faceon has failed, trying backup\n"
     ]
    },
    {
     "name": "stderr",
     "output_type": "stream",
     "text": [
      "pynbody.analysis.profile : Profile v_circ -- this routine assumes the disk is in the x-y plane\n"
     ]
    },
    {
     "name": "stdout",
     "output_type": "stream",
     "text": [
      "halo number 711 is done\n",
      "faceon has failed, trying backup\n"
     ]
    },
    {
     "name": "stderr",
     "output_type": "stream",
     "text": [
      "pynbody.analysis.profile : Profile v_circ -- this routine assumes the disk is in the x-y plane\n"
     ]
    },
    {
     "name": "stdout",
     "output_type": "stream",
     "text": [
      "halo number 712 is done\n",
      "faceon has failed, trying backup\n"
     ]
    },
    {
     "name": "stderr",
     "output_type": "stream",
     "text": [
      "pynbody.analysis.profile : Profile v_circ -- this routine assumes the disk is in the x-y plane\n"
     ]
    },
    {
     "name": "stdout",
     "output_type": "stream",
     "text": [
      "halo number 713 is done\n",
      "faceon has failed, trying backup\n"
     ]
    },
    {
     "name": "stderr",
     "output_type": "stream",
     "text": [
      "pynbody.analysis.profile : Profile v_circ -- this routine assumes the disk is in the x-y plane\n"
     ]
    },
    {
     "name": "stdout",
     "output_type": "stream",
     "text": [
      "halo number 714 is done\n",
      "faceon has failed, trying backup\n"
     ]
    },
    {
     "name": "stderr",
     "output_type": "stream",
     "text": [
      "pynbody.analysis.profile : Profile v_circ -- this routine assumes the disk is in the x-y plane\n"
     ]
    },
    {
     "name": "stdout",
     "output_type": "stream",
     "text": [
      "halo number 715 is done\n",
      "faceon has failed, trying backup\n"
     ]
    },
    {
     "name": "stderr",
     "output_type": "stream",
     "text": [
      "pynbody.analysis.profile : Profile v_circ -- this routine assumes the disk is in the x-y plane\n"
     ]
    },
    {
     "name": "stdout",
     "output_type": "stream",
     "text": [
      "halo number 716 is done\n",
      "faceon has failed, trying backup\n"
     ]
    },
    {
     "name": "stderr",
     "output_type": "stream",
     "text": [
      "pynbody.analysis.profile : Profile v_circ -- this routine assumes the disk is in the x-y plane\n"
     ]
    },
    {
     "name": "stdout",
     "output_type": "stream",
     "text": [
      "halo number 717 is done\n",
      "faceon has failed, trying backup\n"
     ]
    },
    {
     "name": "stderr",
     "output_type": "stream",
     "text": [
      "pynbody.analysis.profile : Profile v_circ -- this routine assumes the disk is in the x-y plane\n"
     ]
    },
    {
     "name": "stdout",
     "output_type": "stream",
     "text": [
      "halo number 718 is done\n",
      "faceon has failed, trying backup\n"
     ]
    },
    {
     "name": "stderr",
     "output_type": "stream",
     "text": [
      "pynbody.analysis.profile : Profile v_circ -- this routine assumes the disk is in the x-y plane\n"
     ]
    },
    {
     "name": "stdout",
     "output_type": "stream",
     "text": [
      "halo number 719 is done\n",
      "faceon has failed, trying backup\n"
     ]
    },
    {
     "name": "stderr",
     "output_type": "stream",
     "text": [
      "pynbody.analysis.profile : Profile v_circ -- this routine assumes the disk is in the x-y plane\n"
     ]
    },
    {
     "name": "stdout",
     "output_type": "stream",
     "text": [
      "halo number 720 is done\n"
     ]
    },
    {
     "name": "stderr",
     "output_type": "stream",
     "text": [
      "pynbody.analysis.profile : Profile v_circ -- this routine assumes the disk is in the x-y plane\n"
     ]
    },
    {
     "name": "stdout",
     "output_type": "stream",
     "text": [
      "halo number 721 is done\n",
      "faceon has failed, trying backup\n"
     ]
    },
    {
     "name": "stderr",
     "output_type": "stream",
     "text": [
      "pynbody.analysis.profile : Profile v_circ -- this routine assumes the disk is in the x-y plane\n"
     ]
    },
    {
     "name": "stdout",
     "output_type": "stream",
     "text": [
      "halo number 722 is done\n",
      "faceon has failed, trying backup\n"
     ]
    },
    {
     "name": "stderr",
     "output_type": "stream",
     "text": [
      "pynbody.analysis.profile : Profile v_circ -- this routine assumes the disk is in the x-y plane\n"
     ]
    },
    {
     "name": "stdout",
     "output_type": "stream",
     "text": [
      "halo number 723 is done\n",
      "faceon has failed, trying backup\n"
     ]
    },
    {
     "name": "stderr",
     "output_type": "stream",
     "text": [
      "pynbody.analysis.profile : Profile v_circ -- this routine assumes the disk is in the x-y plane\n"
     ]
    },
    {
     "name": "stdout",
     "output_type": "stream",
     "text": [
      "halo number 724 is done\n",
      "faceon has failed, trying backup\n"
     ]
    },
    {
     "name": "stderr",
     "output_type": "stream",
     "text": [
      "pynbody.analysis.profile : Profile v_circ -- this routine assumes the disk is in the x-y plane\n"
     ]
    },
    {
     "name": "stdout",
     "output_type": "stream",
     "text": [
      "halo number 725 is done\n",
      "faceon has failed, trying backup\n"
     ]
    },
    {
     "name": "stderr",
     "output_type": "stream",
     "text": [
      "pynbody.analysis.profile : Profile v_circ -- this routine assumes the disk is in the x-y plane\n"
     ]
    },
    {
     "name": "stdout",
     "output_type": "stream",
     "text": [
      "halo number 726 is done\n",
      "faceon has failed, trying backup\n"
     ]
    },
    {
     "name": "stderr",
     "output_type": "stream",
     "text": [
      "pynbody.analysis.profile : Profile v_circ -- this routine assumes the disk is in the x-y plane\n"
     ]
    },
    {
     "name": "stdout",
     "output_type": "stream",
     "text": [
      "halo number 727 is done\n",
      "faceon has failed, trying backup\n"
     ]
    },
    {
     "name": "stderr",
     "output_type": "stream",
     "text": [
      "pynbody.analysis.profile : Profile v_circ -- this routine assumes the disk is in the x-y plane\n"
     ]
    },
    {
     "name": "stdout",
     "output_type": "stream",
     "text": [
      "halo number 728 is done\n",
      "faceon has failed, trying backup\n"
     ]
    },
    {
     "name": "stderr",
     "output_type": "stream",
     "text": [
      "pynbody.analysis.profile : Profile v_circ -- this routine assumes the disk is in the x-y plane\n"
     ]
    },
    {
     "name": "stdout",
     "output_type": "stream",
     "text": [
      "halo number 729 is done\n",
      "faceon has failed, trying backup\n"
     ]
    },
    {
     "name": "stderr",
     "output_type": "stream",
     "text": [
      "pynbody.analysis.profile : Profile v_circ -- this routine assumes the disk is in the x-y plane\n"
     ]
    },
    {
     "name": "stdout",
     "output_type": "stream",
     "text": [
      "halo number 730 is done\n",
      "faceon has failed, trying backup\n"
     ]
    },
    {
     "name": "stderr",
     "output_type": "stream",
     "text": [
      "pynbody.analysis.profile : Profile v_circ -- this routine assumes the disk is in the x-y plane\n"
     ]
    },
    {
     "name": "stdout",
     "output_type": "stream",
     "text": [
      "halo number 731 is done\n",
      "faceon has failed, trying backup\n"
     ]
    },
    {
     "name": "stderr",
     "output_type": "stream",
     "text": [
      "pynbody.analysis.profile : Profile v_circ -- this routine assumes the disk is in the x-y plane\n"
     ]
    },
    {
     "name": "stdout",
     "output_type": "stream",
     "text": [
      "halo number 732 is done\n",
      "faceon has failed, trying backup\n"
     ]
    },
    {
     "name": "stderr",
     "output_type": "stream",
     "text": [
      "pynbody.analysis.profile : Profile v_circ -- this routine assumes the disk is in the x-y plane\n"
     ]
    },
    {
     "name": "stdout",
     "output_type": "stream",
     "text": [
      "halo number 733 is done\n",
      "faceon has failed, trying backup\n"
     ]
    },
    {
     "name": "stderr",
     "output_type": "stream",
     "text": [
      "pynbody.analysis.profile : Profile v_circ -- this routine assumes the disk is in the x-y plane\n"
     ]
    },
    {
     "name": "stdout",
     "output_type": "stream",
     "text": [
      "halo number 734 is done\n",
      "faceon has failed, trying backup\n"
     ]
    },
    {
     "name": "stderr",
     "output_type": "stream",
     "text": [
      "pynbody.analysis.profile : Profile v_circ -- this routine assumes the disk is in the x-y plane\n"
     ]
    },
    {
     "name": "stdout",
     "output_type": "stream",
     "text": [
      "halo number 735 is done\n",
      "faceon has failed, trying backup\n"
     ]
    },
    {
     "name": "stderr",
     "output_type": "stream",
     "text": [
      "pynbody.analysis.profile : Profile v_circ -- this routine assumes the disk is in the x-y plane\n"
     ]
    },
    {
     "name": "stdout",
     "output_type": "stream",
     "text": [
      "halo number 736 is done\n",
      "faceon has failed, trying backup\n"
     ]
    },
    {
     "name": "stderr",
     "output_type": "stream",
     "text": [
      "pynbody.analysis.profile : Profile v_circ -- this routine assumes the disk is in the x-y plane\n"
     ]
    },
    {
     "name": "stdout",
     "output_type": "stream",
     "text": [
      "halo number 737 is done\n",
      "faceon has failed, trying backup\n"
     ]
    },
    {
     "name": "stderr",
     "output_type": "stream",
     "text": [
      "pynbody.analysis.profile : Profile v_circ -- this routine assumes the disk is in the x-y plane\n"
     ]
    },
    {
     "name": "stdout",
     "output_type": "stream",
     "text": [
      "halo number 738 is done\n",
      "faceon has failed, trying backup\n"
     ]
    },
    {
     "name": "stderr",
     "output_type": "stream",
     "text": [
      "pynbody.analysis.profile : Profile v_circ -- this routine assumes the disk is in the x-y plane\n"
     ]
    },
    {
     "name": "stdout",
     "output_type": "stream",
     "text": [
      "halo number 739 is done\n",
      "faceon has failed, trying backup\n"
     ]
    },
    {
     "name": "stderr",
     "output_type": "stream",
     "text": [
      "pynbody.analysis.profile : Profile v_circ -- this routine assumes the disk is in the x-y plane\n"
     ]
    },
    {
     "name": "stdout",
     "output_type": "stream",
     "text": [
      "halo number 740 is done\n",
      "faceon has failed, trying backup\n"
     ]
    },
    {
     "name": "stderr",
     "output_type": "stream",
     "text": [
      "pynbody.analysis.profile : Profile v_circ -- this routine assumes the disk is in the x-y plane\n"
     ]
    },
    {
     "name": "stdout",
     "output_type": "stream",
     "text": [
      "halo number 741 is done\n",
      "faceon has failed, trying backup\n"
     ]
    },
    {
     "name": "stderr",
     "output_type": "stream",
     "text": [
      "pynbody.analysis.profile : Profile v_circ -- this routine assumes the disk is in the x-y plane\n"
     ]
    },
    {
     "name": "stdout",
     "output_type": "stream",
     "text": [
      "halo number 742 is done\n",
      "faceon has failed, trying backup\n"
     ]
    },
    {
     "name": "stderr",
     "output_type": "stream",
     "text": [
      "pynbody.analysis.profile : Profile v_circ -- this routine assumes the disk is in the x-y plane\n"
     ]
    },
    {
     "name": "stdout",
     "output_type": "stream",
     "text": [
      "halo number 743 is done\n",
      "faceon has failed, trying backup\n"
     ]
    },
    {
     "name": "stderr",
     "output_type": "stream",
     "text": [
      "pynbody.analysis.profile : Profile v_circ -- this routine assumes the disk is in the x-y plane\n"
     ]
    },
    {
     "name": "stdout",
     "output_type": "stream",
     "text": [
      "halo number 744 is done\n",
      "faceon has failed, trying backup\n"
     ]
    },
    {
     "name": "stderr",
     "output_type": "stream",
     "text": [
      "pynbody.analysis.profile : Profile v_circ -- this routine assumes the disk is in the x-y plane\n"
     ]
    },
    {
     "name": "stdout",
     "output_type": "stream",
     "text": [
      "halo number 745 is done\n",
      "faceon has failed, trying backup\n"
     ]
    },
    {
     "name": "stderr",
     "output_type": "stream",
     "text": [
      "pynbody.analysis.profile : Profile v_circ -- this routine assumes the disk is in the x-y plane\n"
     ]
    },
    {
     "name": "stdout",
     "output_type": "stream",
     "text": [
      "halo number 746 is done\n",
      "faceon has failed, trying backup\n"
     ]
    },
    {
     "name": "stderr",
     "output_type": "stream",
     "text": [
      "pynbody.analysis.profile : Profile v_circ -- this routine assumes the disk is in the x-y plane\n"
     ]
    },
    {
     "name": "stdout",
     "output_type": "stream",
     "text": [
      "halo number 747 is done\n",
      "faceon has failed, trying backup\n"
     ]
    },
    {
     "name": "stderr",
     "output_type": "stream",
     "text": [
      "pynbody.analysis.profile : Profile v_circ -- this routine assumes the disk is in the x-y plane\n"
     ]
    },
    {
     "name": "stdout",
     "output_type": "stream",
     "text": [
      "halo number 748 is done\n",
      "faceon has failed, trying backup\n"
     ]
    },
    {
     "name": "stderr",
     "output_type": "stream",
     "text": [
      "pynbody.analysis.profile : Profile v_circ -- this routine assumes the disk is in the x-y plane\n"
     ]
    },
    {
     "name": "stdout",
     "output_type": "stream",
     "text": [
      "halo number 749 is done\n",
      "faceon has failed, trying backup\n"
     ]
    },
    {
     "name": "stderr",
     "output_type": "stream",
     "text": [
      "pynbody.analysis.profile : Profile v_circ -- this routine assumes the disk is in the x-y plane\n"
     ]
    },
    {
     "name": "stdout",
     "output_type": "stream",
     "text": [
      "halo number 750 is done\n",
      "faceon has failed, trying backup\n"
     ]
    },
    {
     "name": "stderr",
     "output_type": "stream",
     "text": [
      "pynbody.analysis.profile : Profile v_circ -- this routine assumes the disk is in the x-y plane\n"
     ]
    },
    {
     "name": "stdout",
     "output_type": "stream",
     "text": [
      "halo number 751 is done\n",
      "faceon has failed, trying backup\n"
     ]
    },
    {
     "name": "stderr",
     "output_type": "stream",
     "text": [
      "pynbody.analysis.profile : Profile v_circ -- this routine assumes the disk is in the x-y plane\n"
     ]
    },
    {
     "name": "stdout",
     "output_type": "stream",
     "text": [
      "halo number 752 is done\n",
      "faceon has failed, trying backup\n"
     ]
    },
    {
     "name": "stderr",
     "output_type": "stream",
     "text": [
      "pynbody.analysis.profile : Profile v_circ -- this routine assumes the disk is in the x-y plane\n"
     ]
    },
    {
     "name": "stdout",
     "output_type": "stream",
     "text": [
      "halo number 753 is done\n",
      "faceon has failed, trying backup\n"
     ]
    },
    {
     "name": "stderr",
     "output_type": "stream",
     "text": [
      "pynbody.analysis.profile : Profile v_circ -- this routine assumes the disk is in the x-y plane\n"
     ]
    },
    {
     "name": "stdout",
     "output_type": "stream",
     "text": [
      "halo number 754 is done\n",
      "faceon has failed, trying backup\n"
     ]
    },
    {
     "name": "stderr",
     "output_type": "stream",
     "text": [
      "pynbody.analysis.profile : Profile v_circ -- this routine assumes the disk is in the x-y plane\n"
     ]
    },
    {
     "name": "stdout",
     "output_type": "stream",
     "text": [
      "halo number 755 is done\n"
     ]
    },
    {
     "name": "stderr",
     "output_type": "stream",
     "text": [
      "pynbody.analysis.profile : Profile v_circ -- this routine assumes the disk is in the x-y plane\n"
     ]
    },
    {
     "name": "stdout",
     "output_type": "stream",
     "text": [
      "faceon has failed, trying backup\n",
      "halo number 756 is done\n"
     ]
    },
    {
     "name": "stderr",
     "output_type": "stream",
     "text": [
      "pynbody.analysis.profile : Profile v_circ -- this routine assumes the disk is in the x-y plane\n"
     ]
    },
    {
     "name": "stdout",
     "output_type": "stream",
     "text": [
      "faceon has failed, trying backup\n",
      "halo number 757 is done\n"
     ]
    },
    {
     "name": "stderr",
     "output_type": "stream",
     "text": [
      "pynbody.analysis.profile : Profile v_circ -- this routine assumes the disk is in the x-y plane\n"
     ]
    },
    {
     "name": "stdout",
     "output_type": "stream",
     "text": [
      "faceon has failed, trying backup\n",
      "halo number 758 is done\n"
     ]
    },
    {
     "name": "stderr",
     "output_type": "stream",
     "text": [
      "pynbody.analysis.profile : Profile v_circ -- this routine assumes the disk is in the x-y plane\n"
     ]
    },
    {
     "name": "stdout",
     "output_type": "stream",
     "text": [
      "faceon has failed, trying backup\n",
      "halo number 759 is done\n"
     ]
    },
    {
     "name": "stderr",
     "output_type": "stream",
     "text": [
      "pynbody.analysis.profile : Profile v_circ -- this routine assumes the disk is in the x-y plane\n"
     ]
    },
    {
     "name": "stdout",
     "output_type": "stream",
     "text": [
      "faceon has failed, trying backup\n",
      "halo number 760 is done\n",
      "faceon has failed, trying backup\n"
     ]
    },
    {
     "name": "stderr",
     "output_type": "stream",
     "text": [
      "pynbody.analysis.profile : Profile v_circ -- this routine assumes the disk is in the x-y plane\n"
     ]
    },
    {
     "name": "stdout",
     "output_type": "stream",
     "text": [
      "halo number 761 is done\n",
      "faceon has failed, trying backup\n"
     ]
    },
    {
     "name": "stderr",
     "output_type": "stream",
     "text": [
      "pynbody.analysis.profile : Profile v_circ -- this routine assumes the disk is in the x-y plane\n"
     ]
    },
    {
     "name": "stdout",
     "output_type": "stream",
     "text": [
      "halo number 762 is done\n",
      "faceon has failed, trying backup\n"
     ]
    },
    {
     "name": "stderr",
     "output_type": "stream",
     "text": [
      "pynbody.analysis.profile : Profile v_circ -- this routine assumes the disk is in the x-y plane\n"
     ]
    },
    {
     "name": "stdout",
     "output_type": "stream",
     "text": [
      "halo number 763 is done\n",
      "faceon has failed, trying backup\n"
     ]
    },
    {
     "name": "stderr",
     "output_type": "stream",
     "text": [
      "pynbody.analysis.profile : Profile v_circ -- this routine assumes the disk is in the x-y plane\n"
     ]
    },
    {
     "name": "stdout",
     "output_type": "stream",
     "text": [
      "halo number 764 is done\n",
      "faceon has failed, trying backup\n"
     ]
    },
    {
     "name": "stderr",
     "output_type": "stream",
     "text": [
      "pynbody.analysis.profile : Profile v_circ -- this routine assumes the disk is in the x-y plane\n"
     ]
    },
    {
     "name": "stdout",
     "output_type": "stream",
     "text": [
      "halo number 765 is done\n",
      "faceon has failed, trying backup\n"
     ]
    },
    {
     "name": "stderr",
     "output_type": "stream",
     "text": [
      "pynbody.analysis.profile : Profile v_circ -- this routine assumes the disk is in the x-y plane\n"
     ]
    },
    {
     "name": "stdout",
     "output_type": "stream",
     "text": [
      "halo number 766 is done\n",
      "faceon has failed, trying backup\n"
     ]
    },
    {
     "name": "stderr",
     "output_type": "stream",
     "text": [
      "pynbody.analysis.profile : Profile v_circ -- this routine assumes the disk is in the x-y plane\n"
     ]
    },
    {
     "name": "stdout",
     "output_type": "stream",
     "text": [
      "halo number 767 is done\n",
      "faceon has failed, trying backup\n"
     ]
    },
    {
     "name": "stderr",
     "output_type": "stream",
     "text": [
      "pynbody.analysis.profile : Profile v_circ -- this routine assumes the disk is in the x-y plane\n"
     ]
    },
    {
     "name": "stdout",
     "output_type": "stream",
     "text": [
      "halo number 768 is done\n",
      "faceon has failed, trying backup\n"
     ]
    },
    {
     "name": "stderr",
     "output_type": "stream",
     "text": [
      "pynbody.analysis.profile : Profile v_circ -- this routine assumes the disk is in the x-y plane\n"
     ]
    },
    {
     "name": "stdout",
     "output_type": "stream",
     "text": [
      "halo number 769 is done\n",
      "faceon has failed, trying backup\n"
     ]
    },
    {
     "name": "stderr",
     "output_type": "stream",
     "text": [
      "pynbody.analysis.profile : Profile v_circ -- this routine assumes the disk is in the x-y plane\n"
     ]
    },
    {
     "name": "stdout",
     "output_type": "stream",
     "text": [
      "halo number 770 is done\n",
      "faceon has failed, trying backup\n"
     ]
    },
    {
     "name": "stderr",
     "output_type": "stream",
     "text": [
      "pynbody.analysis.profile : Profile v_circ -- this routine assumes the disk is in the x-y plane\n"
     ]
    },
    {
     "name": "stdout",
     "output_type": "stream",
     "text": [
      "halo number 771 is done\n",
      "faceon has failed, trying backup\n"
     ]
    },
    {
     "name": "stderr",
     "output_type": "stream",
     "text": [
      "pynbody.analysis.profile : Profile v_circ -- this routine assumes the disk is in the x-y plane\n"
     ]
    },
    {
     "name": "stdout",
     "output_type": "stream",
     "text": [
      "halo number 772 is done\n",
      "faceon has failed, trying backup\n"
     ]
    },
    {
     "name": "stderr",
     "output_type": "stream",
     "text": [
      "pynbody.analysis.profile : Profile v_circ -- this routine assumes the disk is in the x-y plane\n"
     ]
    },
    {
     "name": "stdout",
     "output_type": "stream",
     "text": [
      "halo number 773 is done\n",
      "faceon has failed, trying backup\n"
     ]
    },
    {
     "name": "stderr",
     "output_type": "stream",
     "text": [
      "pynbody.analysis.profile : Profile v_circ -- this routine assumes the disk is in the x-y plane\n"
     ]
    },
    {
     "name": "stdout",
     "output_type": "stream",
     "text": [
      "halo number 774 is done\n",
      "faceon has failed, trying backup\n"
     ]
    },
    {
     "name": "stderr",
     "output_type": "stream",
     "text": [
      "pynbody.analysis.profile : Profile v_circ -- this routine assumes the disk is in the x-y plane\n"
     ]
    },
    {
     "name": "stdout",
     "output_type": "stream",
     "text": [
      "halo number 775 is done\n",
      "faceon has failed, trying backup\n"
     ]
    },
    {
     "name": "stderr",
     "output_type": "stream",
     "text": [
      "pynbody.analysis.profile : Profile v_circ -- this routine assumes the disk is in the x-y plane\n"
     ]
    },
    {
     "name": "stdout",
     "output_type": "stream",
     "text": [
      "halo number 776 is done\n",
      "faceon has failed, trying backup\n"
     ]
    },
    {
     "name": "stderr",
     "output_type": "stream",
     "text": [
      "pynbody.analysis.profile : Profile v_circ -- this routine assumes the disk is in the x-y plane\n"
     ]
    },
    {
     "name": "stdout",
     "output_type": "stream",
     "text": [
      "halo number 777 is done\n",
      "faceon has failed, trying backup\n"
     ]
    },
    {
     "name": "stderr",
     "output_type": "stream",
     "text": [
      "pynbody.analysis.profile : Profile v_circ -- this routine assumes the disk is in the x-y plane\n"
     ]
    },
    {
     "name": "stdout",
     "output_type": "stream",
     "text": [
      "halo number 778 is done\n",
      "faceon has failed, trying backup\n"
     ]
    },
    {
     "name": "stderr",
     "output_type": "stream",
     "text": [
      "pynbody.analysis.profile : Profile v_circ -- this routine assumes the disk is in the x-y plane\n"
     ]
    },
    {
     "name": "stdout",
     "output_type": "stream",
     "text": [
      "halo number 779 is done\n",
      "faceon has failed, trying backup\n"
     ]
    },
    {
     "name": "stderr",
     "output_type": "stream",
     "text": [
      "pynbody.analysis.profile : Profile v_circ -- this routine assumes the disk is in the x-y plane\n"
     ]
    },
    {
     "name": "stdout",
     "output_type": "stream",
     "text": [
      "halo number 780 is done\n",
      "faceon has failed, trying backup\n"
     ]
    },
    {
     "name": "stderr",
     "output_type": "stream",
     "text": [
      "pynbody.analysis.profile : Profile v_circ -- this routine assumes the disk is in the x-y plane\n"
     ]
    },
    {
     "name": "stdout",
     "output_type": "stream",
     "text": [
      "halo number 781 is done\n",
      "faceon has failed, trying backup\n"
     ]
    },
    {
     "name": "stderr",
     "output_type": "stream",
     "text": [
      "pynbody.analysis.profile : Profile v_circ -- this routine assumes the disk is in the x-y plane\n"
     ]
    },
    {
     "name": "stdout",
     "output_type": "stream",
     "text": [
      "halo number 782 is done\n",
      "faceon has failed, trying backup\n"
     ]
    },
    {
     "name": "stderr",
     "output_type": "stream",
     "text": [
      "pynbody.analysis.profile : Profile v_circ -- this routine assumes the disk is in the x-y plane\n"
     ]
    },
    {
     "name": "stdout",
     "output_type": "stream",
     "text": [
      "halo number 783 is done\n",
      "faceon has failed, trying backup\n"
     ]
    },
    {
     "name": "stderr",
     "output_type": "stream",
     "text": [
      "pynbody.analysis.profile : Profile v_circ -- this routine assumes the disk is in the x-y plane\n"
     ]
    },
    {
     "name": "stdout",
     "output_type": "stream",
     "text": [
      "halo number 784 is done\n",
      "faceon has failed, trying backup\n"
     ]
    },
    {
     "name": "stderr",
     "output_type": "stream",
     "text": [
      "pynbody.analysis.profile : Profile v_circ -- this routine assumes the disk is in the x-y plane\n"
     ]
    },
    {
     "name": "stdout",
     "output_type": "stream",
     "text": [
      "halo number 785 is done\n",
      "faceon has failed, trying backup\n"
     ]
    },
    {
     "name": "stderr",
     "output_type": "stream",
     "text": [
      "pynbody.analysis.profile : Profile v_circ -- this routine assumes the disk is in the x-y plane\n"
     ]
    },
    {
     "name": "stdout",
     "output_type": "stream",
     "text": [
      "halo number 786 is done\n",
      "faceon has failed, trying backup\n"
     ]
    },
    {
     "name": "stderr",
     "output_type": "stream",
     "text": [
      "pynbody.analysis.profile : Profile v_circ -- this routine assumes the disk is in the x-y plane\n"
     ]
    },
    {
     "name": "stdout",
     "output_type": "stream",
     "text": [
      "halo number 787 is done\n",
      "faceon has failed, trying backup\n"
     ]
    },
    {
     "name": "stderr",
     "output_type": "stream",
     "text": [
      "pynbody.analysis.profile : Profile v_circ -- this routine assumes the disk is in the x-y plane\n"
     ]
    },
    {
     "name": "stdout",
     "output_type": "stream",
     "text": [
      "halo number 788 is done\n",
      "faceon has failed, trying backup\n"
     ]
    },
    {
     "name": "stderr",
     "output_type": "stream",
     "text": [
      "pynbody.analysis.profile : Profile v_circ -- this routine assumes the disk is in the x-y plane\n"
     ]
    },
    {
     "name": "stdout",
     "output_type": "stream",
     "text": [
      "halo number 789 is done\n",
      "faceon has failed, trying backup\n"
     ]
    },
    {
     "name": "stderr",
     "output_type": "stream",
     "text": [
      "pynbody.analysis.profile : Profile v_circ -- this routine assumes the disk is in the x-y plane\n"
     ]
    },
    {
     "name": "stdout",
     "output_type": "stream",
     "text": [
      "halo number 790 is done\n",
      "faceon has failed, trying backup\n"
     ]
    },
    {
     "name": "stderr",
     "output_type": "stream",
     "text": [
      "pynbody.analysis.profile : Profile v_circ -- this routine assumes the disk is in the x-y plane\n"
     ]
    },
    {
     "name": "stdout",
     "output_type": "stream",
     "text": [
      "halo number 791 is done\n",
      "faceon has failed, trying backup\n"
     ]
    },
    {
     "name": "stderr",
     "output_type": "stream",
     "text": [
      "pynbody.analysis.profile : Profile v_circ -- this routine assumes the disk is in the x-y plane\n"
     ]
    },
    {
     "name": "stdout",
     "output_type": "stream",
     "text": [
      "halo number 792 is done\n",
      "faceon has failed, trying backup\n"
     ]
    },
    {
     "name": "stderr",
     "output_type": "stream",
     "text": [
      "pynbody.analysis.profile : Profile v_circ -- this routine assumes the disk is in the x-y plane\n"
     ]
    },
    {
     "name": "stdout",
     "output_type": "stream",
     "text": [
      "halo number 793 is done\n",
      "faceon has failed, trying backup\n"
     ]
    },
    {
     "name": "stderr",
     "output_type": "stream",
     "text": [
      "pynbody.analysis.profile : Profile v_circ -- this routine assumes the disk is in the x-y plane\n"
     ]
    },
    {
     "name": "stdout",
     "output_type": "stream",
     "text": [
      "halo number 794 is done\n",
      "faceon has failed, trying backup\n"
     ]
    },
    {
     "name": "stderr",
     "output_type": "stream",
     "text": [
      "pynbody.analysis.profile : Profile v_circ -- this routine assumes the disk is in the x-y plane\n"
     ]
    },
    {
     "name": "stdout",
     "output_type": "stream",
     "text": [
      "halo number 795 is done\n",
      "faceon has failed, trying backup\n"
     ]
    },
    {
     "name": "stderr",
     "output_type": "stream",
     "text": [
      "pynbody.analysis.profile : Profile v_circ -- this routine assumes the disk is in the x-y plane\n"
     ]
    },
    {
     "name": "stdout",
     "output_type": "stream",
     "text": [
      "halo number 796 is done\n",
      "faceon has failed, trying backup\n"
     ]
    },
    {
     "name": "stderr",
     "output_type": "stream",
     "text": [
      "pynbody.analysis.profile : Profile v_circ -- this routine assumes the disk is in the x-y plane\n"
     ]
    },
    {
     "name": "stdout",
     "output_type": "stream",
     "text": [
      "halo number 797 is done\n",
      "faceon has failed, trying backup\n"
     ]
    },
    {
     "name": "stderr",
     "output_type": "stream",
     "text": [
      "pynbody.analysis.profile : Profile v_circ -- this routine assumes the disk is in the x-y plane\n"
     ]
    },
    {
     "name": "stdout",
     "output_type": "stream",
     "text": [
      "halo number 798 is done\n",
      "faceon has failed, trying backup\n"
     ]
    },
    {
     "name": "stderr",
     "output_type": "stream",
     "text": [
      "pynbody.analysis.profile : Profile v_circ -- this routine assumes the disk is in the x-y plane\n"
     ]
    },
    {
     "name": "stdout",
     "output_type": "stream",
     "text": [
      "halo number 799 is done\n",
      "faceon has failed, trying backup\n"
     ]
    },
    {
     "name": "stderr",
     "output_type": "stream",
     "text": [
      "pynbody.analysis.profile : Profile v_circ -- this routine assumes the disk is in the x-y plane\n"
     ]
    },
    {
     "name": "stdout",
     "output_type": "stream",
     "text": [
      "halo number 800 is done\n",
      "faceon has failed, trying backup\n"
     ]
    },
    {
     "name": "stderr",
     "output_type": "stream",
     "text": [
      "pynbody.analysis.profile : Profile v_circ -- this routine assumes the disk is in the x-y plane\n"
     ]
    },
    {
     "name": "stdout",
     "output_type": "stream",
     "text": [
      "halo number 801 is done\n",
      "faceon has failed, trying backup\n"
     ]
    },
    {
     "name": "stderr",
     "output_type": "stream",
     "text": [
      "pynbody.analysis.profile : Profile v_circ -- this routine assumes the disk is in the x-y plane\n"
     ]
    },
    {
     "name": "stdout",
     "output_type": "stream",
     "text": [
      "halo number 802 is done\n",
      "faceon has failed, trying backup\n"
     ]
    },
    {
     "name": "stderr",
     "output_type": "stream",
     "text": [
      "pynbody.analysis.profile : Profile v_circ -- this routine assumes the disk is in the x-y plane\n"
     ]
    },
    {
     "name": "stdout",
     "output_type": "stream",
     "text": [
      "halo number 803 is done\n",
      "faceon has failed, trying backup\n"
     ]
    },
    {
     "name": "stderr",
     "output_type": "stream",
     "text": [
      "pynbody.analysis.profile : Profile v_circ -- this routine assumes the disk is in the x-y plane\n"
     ]
    },
    {
     "name": "stdout",
     "output_type": "stream",
     "text": [
      "halo number 804 is done\n",
      "faceon has failed, trying backup\n"
     ]
    },
    {
     "name": "stderr",
     "output_type": "stream",
     "text": [
      "pynbody.analysis.profile : Profile v_circ -- this routine assumes the disk is in the x-y plane\n"
     ]
    },
    {
     "name": "stdout",
     "output_type": "stream",
     "text": [
      "halo number 805 is done\n",
      "faceon has failed, trying backup\n"
     ]
    },
    {
     "name": "stderr",
     "output_type": "stream",
     "text": [
      "pynbody.analysis.profile : Profile v_circ -- this routine assumes the disk is in the x-y plane\n"
     ]
    },
    {
     "name": "stdout",
     "output_type": "stream",
     "text": [
      "halo number 806 is done\n",
      "faceon has failed, trying backup\n"
     ]
    },
    {
     "name": "stderr",
     "output_type": "stream",
     "text": [
      "pynbody.analysis.profile : Profile v_circ -- this routine assumes the disk is in the x-y plane\n"
     ]
    },
    {
     "name": "stdout",
     "output_type": "stream",
     "text": [
      "halo number 807 is done\n",
      "faceon has failed, trying backup\n"
     ]
    },
    {
     "name": "stderr",
     "output_type": "stream",
     "text": [
      "pynbody.analysis.profile : Profile v_circ -- this routine assumes the disk is in the x-y plane\n"
     ]
    },
    {
     "name": "stdout",
     "output_type": "stream",
     "text": [
      "halo number 808 is done\n",
      "faceon has failed, trying backup\n"
     ]
    },
    {
     "name": "stderr",
     "output_type": "stream",
     "text": [
      "pynbody.analysis.profile : Profile v_circ -- this routine assumes the disk is in the x-y plane\n"
     ]
    },
    {
     "name": "stdout",
     "output_type": "stream",
     "text": [
      "halo number 809 is done\n",
      "faceon has failed, trying backup\n"
     ]
    },
    {
     "name": "stderr",
     "output_type": "stream",
     "text": [
      "pynbody.analysis.profile : Profile v_circ -- this routine assumes the disk is in the x-y plane\n"
     ]
    },
    {
     "name": "stdout",
     "output_type": "stream",
     "text": [
      "halo number 810 is done\n",
      "faceon has failed, trying backup\n"
     ]
    },
    {
     "name": "stderr",
     "output_type": "stream",
     "text": [
      "pynbody.analysis.profile : Profile v_circ -- this routine assumes the disk is in the x-y plane\n"
     ]
    },
    {
     "name": "stdout",
     "output_type": "stream",
     "text": [
      "halo number 811 is done\n",
      "faceon has failed, trying backup\n"
     ]
    },
    {
     "name": "stderr",
     "output_type": "stream",
     "text": [
      "pynbody.analysis.profile : Profile v_circ -- this routine assumes the disk is in the x-y plane\n"
     ]
    },
    {
     "name": "stdout",
     "output_type": "stream",
     "text": [
      "halo number 812 is done\n",
      "faceon has failed, trying backup\n"
     ]
    },
    {
     "name": "stderr",
     "output_type": "stream",
     "text": [
      "pynbody.analysis.profile : Profile v_circ -- this routine assumes the disk is in the x-y plane\n"
     ]
    },
    {
     "name": "stdout",
     "output_type": "stream",
     "text": [
      "halo number 813 is done\n",
      "faceon has failed, trying backup\n"
     ]
    },
    {
     "name": "stderr",
     "output_type": "stream",
     "text": [
      "pynbody.analysis.profile : Profile v_circ -- this routine assumes the disk is in the x-y plane\n"
     ]
    },
    {
     "name": "stdout",
     "output_type": "stream",
     "text": [
      "halo number 814 is done\n",
      "faceon has failed, trying backup\n"
     ]
    },
    {
     "name": "stderr",
     "output_type": "stream",
     "text": [
      "pynbody.analysis.profile : Profile v_circ -- this routine assumes the disk is in the x-y plane\n"
     ]
    },
    {
     "name": "stdout",
     "output_type": "stream",
     "text": [
      "halo number 815 is done\n",
      "faceon has failed, trying backup\n"
     ]
    },
    {
     "name": "stderr",
     "output_type": "stream",
     "text": [
      "pynbody.analysis.profile : Profile v_circ -- this routine assumes the disk is in the x-y plane\n"
     ]
    },
    {
     "name": "stdout",
     "output_type": "stream",
     "text": [
      "halo number 816 is done\n",
      "faceon has failed, trying backup\n"
     ]
    },
    {
     "name": "stderr",
     "output_type": "stream",
     "text": [
      "pynbody.analysis.profile : Profile v_circ -- this routine assumes the disk is in the x-y plane\n"
     ]
    },
    {
     "name": "stdout",
     "output_type": "stream",
     "text": [
      "halo number 817 is done\n",
      "faceon has failed, trying backup\n"
     ]
    },
    {
     "name": "stderr",
     "output_type": "stream",
     "text": [
      "pynbody.analysis.profile : Profile v_circ -- this routine assumes the disk is in the x-y plane\n"
     ]
    },
    {
     "name": "stdout",
     "output_type": "stream",
     "text": [
      "halo number 818 is done\n",
      "faceon has failed, trying backup\n"
     ]
    },
    {
     "name": "stderr",
     "output_type": "stream",
     "text": [
      "pynbody.analysis.profile : Profile v_circ -- this routine assumes the disk is in the x-y plane\n"
     ]
    },
    {
     "name": "stdout",
     "output_type": "stream",
     "text": [
      "halo number 819 is done\n",
      "faceon has failed, trying backup\n"
     ]
    },
    {
     "name": "stderr",
     "output_type": "stream",
     "text": [
      "pynbody.analysis.profile : Profile v_circ -- this routine assumes the disk is in the x-y plane\n"
     ]
    },
    {
     "name": "stdout",
     "output_type": "stream",
     "text": [
      "halo number 820 is done\n",
      "faceon has failed, trying backup\n"
     ]
    },
    {
     "name": "stderr",
     "output_type": "stream",
     "text": [
      "pynbody.analysis.profile : Profile v_circ -- this routine assumes the disk is in the x-y plane\n"
     ]
    },
    {
     "name": "stdout",
     "output_type": "stream",
     "text": [
      "halo number 821 is done\n",
      "faceon has failed, trying backup\n"
     ]
    },
    {
     "name": "stderr",
     "output_type": "stream",
     "text": [
      "pynbody.analysis.profile : Profile v_circ -- this routine assumes the disk is in the x-y plane\n"
     ]
    },
    {
     "name": "stdout",
     "output_type": "stream",
     "text": [
      "halo number 822 is done\n",
      "faceon has failed, trying backup\n"
     ]
    },
    {
     "name": "stderr",
     "output_type": "stream",
     "text": [
      "pynbody.analysis.profile : Profile v_circ -- this routine assumes the disk is in the x-y plane\n"
     ]
    },
    {
     "name": "stdout",
     "output_type": "stream",
     "text": [
      "halo number 823 is done\n",
      "faceon has failed, trying backup\n"
     ]
    },
    {
     "name": "stderr",
     "output_type": "stream",
     "text": [
      "pynbody.analysis.profile : Profile v_circ -- this routine assumes the disk is in the x-y plane\n"
     ]
    },
    {
     "name": "stdout",
     "output_type": "stream",
     "text": [
      "halo number 824 is done\n",
      "faceon has failed, trying backup\n"
     ]
    },
    {
     "name": "stderr",
     "output_type": "stream",
     "text": [
      "pynbody.analysis.profile : Profile v_circ -- this routine assumes the disk is in the x-y plane\n"
     ]
    },
    {
     "name": "stdout",
     "output_type": "stream",
     "text": [
      "halo number 825 is done\n",
      "faceon has failed, trying backup\n"
     ]
    },
    {
     "name": "stderr",
     "output_type": "stream",
     "text": [
      "pynbody.analysis.profile : Profile v_circ -- this routine assumes the disk is in the x-y plane\n"
     ]
    },
    {
     "name": "stdout",
     "output_type": "stream",
     "text": [
      "halo number 826 is done\n",
      "faceon has failed, trying backup\n"
     ]
    },
    {
     "name": "stderr",
     "output_type": "stream",
     "text": [
      "pynbody.analysis.profile : Profile v_circ -- this routine assumes the disk is in the x-y plane\n"
     ]
    },
    {
     "name": "stdout",
     "output_type": "stream",
     "text": [
      "halo number 827 is done\n",
      "faceon has failed, trying backup\n"
     ]
    },
    {
     "name": "stderr",
     "output_type": "stream",
     "text": [
      "pynbody.analysis.profile : Profile v_circ -- this routine assumes the disk is in the x-y plane\n"
     ]
    },
    {
     "name": "stdout",
     "output_type": "stream",
     "text": [
      "halo number 828 is done\n",
      "faceon has failed, trying backup\n"
     ]
    },
    {
     "name": "stderr",
     "output_type": "stream",
     "text": [
      "pynbody.analysis.profile : Profile v_circ -- this routine assumes the disk is in the x-y plane\n"
     ]
    },
    {
     "name": "stdout",
     "output_type": "stream",
     "text": [
      "halo number 829 is done\n",
      "faceon has failed, trying backup\n"
     ]
    },
    {
     "name": "stderr",
     "output_type": "stream",
     "text": [
      "pynbody.analysis.profile : Profile v_circ -- this routine assumes the disk is in the x-y plane\n"
     ]
    },
    {
     "name": "stdout",
     "output_type": "stream",
     "text": [
      "halo number 830 is done\n",
      "faceon has failed, trying backup\n"
     ]
    },
    {
     "name": "stderr",
     "output_type": "stream",
     "text": [
      "pynbody.analysis.profile : Profile v_circ -- this routine assumes the disk is in the x-y plane\n"
     ]
    },
    {
     "name": "stdout",
     "output_type": "stream",
     "text": [
      "halo number 831 is done\n",
      "faceon has failed, trying backup\n"
     ]
    },
    {
     "name": "stderr",
     "output_type": "stream",
     "text": [
      "pynbody.analysis.profile : Profile v_circ -- this routine assumes the disk is in the x-y plane\n"
     ]
    },
    {
     "name": "stdout",
     "output_type": "stream",
     "text": [
      "halo number 832 is done\n",
      "faceon has failed, trying backup\n"
     ]
    },
    {
     "name": "stderr",
     "output_type": "stream",
     "text": [
      "pynbody.analysis.profile : Profile v_circ -- this routine assumes the disk is in the x-y plane\n"
     ]
    },
    {
     "name": "stdout",
     "output_type": "stream",
     "text": [
      "halo number 833 is done\n",
      "faceon has failed, trying backup\n"
     ]
    },
    {
     "name": "stderr",
     "output_type": "stream",
     "text": [
      "pynbody.analysis.profile : Profile v_circ -- this routine assumes the disk is in the x-y plane\n"
     ]
    },
    {
     "name": "stdout",
     "output_type": "stream",
     "text": [
      "halo number 834 is done\n",
      "faceon has failed, trying backup\n"
     ]
    },
    {
     "name": "stderr",
     "output_type": "stream",
     "text": [
      "pynbody.analysis.profile : Profile v_circ -- this routine assumes the disk is in the x-y plane\n"
     ]
    },
    {
     "name": "stdout",
     "output_type": "stream",
     "text": [
      "halo number 835 is done\n",
      "faceon has failed, trying backup\n"
     ]
    },
    {
     "name": "stderr",
     "output_type": "stream",
     "text": [
      "pynbody.analysis.profile : Profile v_circ -- this routine assumes the disk is in the x-y plane\n"
     ]
    },
    {
     "name": "stdout",
     "output_type": "stream",
     "text": [
      "halo number 836 is done\n",
      "faceon has failed, trying backup\n"
     ]
    },
    {
     "name": "stderr",
     "output_type": "stream",
     "text": [
      "pynbody.analysis.profile : Profile v_circ -- this routine assumes the disk is in the x-y plane\n"
     ]
    },
    {
     "name": "stdout",
     "output_type": "stream",
     "text": [
      "halo number 837 is done\n",
      "faceon has failed, trying backup\n"
     ]
    },
    {
     "name": "stderr",
     "output_type": "stream",
     "text": [
      "pynbody.analysis.profile : Profile v_circ -- this routine assumes the disk is in the x-y plane\n"
     ]
    },
    {
     "name": "stdout",
     "output_type": "stream",
     "text": [
      "halo number 838 is done\n",
      "faceon has failed, trying backup\n"
     ]
    },
    {
     "name": "stderr",
     "output_type": "stream",
     "text": [
      "pynbody.analysis.profile : Profile v_circ -- this routine assumes the disk is in the x-y plane\n"
     ]
    },
    {
     "name": "stdout",
     "output_type": "stream",
     "text": [
      "halo number 839 is done\n",
      "faceon has failed, trying backup\n"
     ]
    },
    {
     "name": "stderr",
     "output_type": "stream",
     "text": [
      "pynbody.analysis.profile : Profile v_circ -- this routine assumes the disk is in the x-y plane\n"
     ]
    },
    {
     "name": "stdout",
     "output_type": "stream",
     "text": [
      "halo number 840 is done\n",
      "faceon has failed, trying backup\n"
     ]
    },
    {
     "name": "stderr",
     "output_type": "stream",
     "text": [
      "pynbody.analysis.profile : Profile v_circ -- this routine assumes the disk is in the x-y plane\n"
     ]
    },
    {
     "name": "stdout",
     "output_type": "stream",
     "text": [
      "halo number 841 is done\n",
      "faceon has failed, trying backup\n"
     ]
    },
    {
     "name": "stderr",
     "output_type": "stream",
     "text": [
      "pynbody.analysis.profile : Profile v_circ -- this routine assumes the disk is in the x-y plane\n"
     ]
    },
    {
     "name": "stdout",
     "output_type": "stream",
     "text": [
      "halo number 842 is done\n",
      "faceon has failed, trying backup\n"
     ]
    },
    {
     "name": "stderr",
     "output_type": "stream",
     "text": [
      "pynbody.analysis.profile : Profile v_circ -- this routine assumes the disk is in the x-y plane\n"
     ]
    },
    {
     "name": "stdout",
     "output_type": "stream",
     "text": [
      "halo number 843 is done\n",
      "faceon has failed, trying backup\n"
     ]
    },
    {
     "name": "stderr",
     "output_type": "stream",
     "text": [
      "pynbody.analysis.profile : Profile v_circ -- this routine assumes the disk is in the x-y plane\n"
     ]
    },
    {
     "name": "stdout",
     "output_type": "stream",
     "text": [
      "halo number 844 is done\n",
      "faceon has failed, trying backup\n"
     ]
    },
    {
     "name": "stderr",
     "output_type": "stream",
     "text": [
      "pynbody.analysis.profile : Profile v_circ -- this routine assumes the disk is in the x-y plane\n"
     ]
    },
    {
     "name": "stdout",
     "output_type": "stream",
     "text": [
      "halo number 845 is done\n",
      "faceon has failed, trying backup\n"
     ]
    },
    {
     "name": "stderr",
     "output_type": "stream",
     "text": [
      "pynbody.analysis.profile : Profile v_circ -- this routine assumes the disk is in the x-y plane\n"
     ]
    },
    {
     "name": "stdout",
     "output_type": "stream",
     "text": [
      "halo number 846 is done\n",
      "faceon has failed, trying backup\n"
     ]
    },
    {
     "name": "stderr",
     "output_type": "stream",
     "text": [
      "pynbody.analysis.profile : Profile v_circ -- this routine assumes the disk is in the x-y plane\n"
     ]
    },
    {
     "name": "stdout",
     "output_type": "stream",
     "text": [
      "halo number 847 is done\n",
      "faceon has failed, trying backup\n"
     ]
    },
    {
     "name": "stderr",
     "output_type": "stream",
     "text": [
      "pynbody.analysis.profile : Profile v_circ -- this routine assumes the disk is in the x-y plane\n"
     ]
    },
    {
     "name": "stdout",
     "output_type": "stream",
     "text": [
      "halo number 848 is done\n",
      "faceon has failed, trying backup\n"
     ]
    },
    {
     "name": "stderr",
     "output_type": "stream",
     "text": [
      "pynbody.analysis.profile : Profile v_circ -- this routine assumes the disk is in the x-y plane\n"
     ]
    },
    {
     "name": "stdout",
     "output_type": "stream",
     "text": [
      "halo number 849 is done\n",
      "faceon has failed, trying backup\n"
     ]
    },
    {
     "name": "stderr",
     "output_type": "stream",
     "text": [
      "pynbody.analysis.profile : Profile v_circ -- this routine assumes the disk is in the x-y plane\n"
     ]
    },
    {
     "name": "stdout",
     "output_type": "stream",
     "text": [
      "halo number 850 is done\n",
      "faceon has failed, trying backup\n"
     ]
    },
    {
     "name": "stderr",
     "output_type": "stream",
     "text": [
      "pynbody.analysis.profile : Profile v_circ -- this routine assumes the disk is in the x-y plane\n"
     ]
    },
    {
     "name": "stdout",
     "output_type": "stream",
     "text": [
      "halo number 851 is done\n",
      "faceon has failed, trying backup\n"
     ]
    },
    {
     "name": "stderr",
     "output_type": "stream",
     "text": [
      "pynbody.analysis.profile : Profile v_circ -- this routine assumes the disk is in the x-y plane\n"
     ]
    },
    {
     "name": "stdout",
     "output_type": "stream",
     "text": [
      "halo number 852 is done\n",
      "faceon has failed, trying backup\n"
     ]
    },
    {
     "name": "stderr",
     "output_type": "stream",
     "text": [
      "pynbody.analysis.profile : Profile v_circ -- this routine assumes the disk is in the x-y plane\n"
     ]
    },
    {
     "name": "stdout",
     "output_type": "stream",
     "text": [
      "halo number 853 is done\n",
      "faceon has failed, trying backup\n"
     ]
    },
    {
     "name": "stderr",
     "output_type": "stream",
     "text": [
      "pynbody.analysis.profile : Profile v_circ -- this routine assumes the disk is in the x-y plane\n"
     ]
    },
    {
     "name": "stdout",
     "output_type": "stream",
     "text": [
      "halo number 854 is done\n",
      "faceon has failed, trying backup\n"
     ]
    },
    {
     "name": "stderr",
     "output_type": "stream",
     "text": [
      "pynbody.analysis.profile : Profile v_circ -- this routine assumes the disk is in the x-y plane\n"
     ]
    },
    {
     "name": "stdout",
     "output_type": "stream",
     "text": [
      "halo number 855 is done\n",
      "faceon has failed, trying backup\n"
     ]
    },
    {
     "name": "stderr",
     "output_type": "stream",
     "text": [
      "pynbody.analysis.profile : Profile v_circ -- this routine assumes the disk is in the x-y plane\n"
     ]
    },
    {
     "name": "stdout",
     "output_type": "stream",
     "text": [
      "halo number 856 is done\n",
      "faceon has failed, trying backup\n"
     ]
    },
    {
     "name": "stderr",
     "output_type": "stream",
     "text": [
      "pynbody.analysis.profile : Profile v_circ -- this routine assumes the disk is in the x-y plane\n"
     ]
    },
    {
     "name": "stdout",
     "output_type": "stream",
     "text": [
      "halo number 857 is done\n",
      "faceon has failed, trying backup\n"
     ]
    },
    {
     "name": "stderr",
     "output_type": "stream",
     "text": [
      "pynbody.analysis.profile : Profile v_circ -- this routine assumes the disk is in the x-y plane\n"
     ]
    },
    {
     "name": "stdout",
     "output_type": "stream",
     "text": [
      "halo number 858 is done\n",
      "faceon has failed, trying backup\n"
     ]
    },
    {
     "name": "stderr",
     "output_type": "stream",
     "text": [
      "pynbody.analysis.profile : Profile v_circ -- this routine assumes the disk is in the x-y plane\n"
     ]
    },
    {
     "name": "stdout",
     "output_type": "stream",
     "text": [
      "halo number 859 is done\n",
      "faceon has failed, trying backup\n"
     ]
    },
    {
     "name": "stderr",
     "output_type": "stream",
     "text": [
      "pynbody.analysis.profile : Profile v_circ -- this routine assumes the disk is in the x-y plane\n"
     ]
    },
    {
     "name": "stdout",
     "output_type": "stream",
     "text": [
      "halo number 860 is done\n",
      "faceon has failed, trying backup\n"
     ]
    },
    {
     "name": "stderr",
     "output_type": "stream",
     "text": [
      "pynbody.analysis.profile : Profile v_circ -- this routine assumes the disk is in the x-y plane\n"
     ]
    },
    {
     "name": "stdout",
     "output_type": "stream",
     "text": [
      "halo number 861 is done\n",
      "faceon has failed, trying backup\n"
     ]
    },
    {
     "name": "stderr",
     "output_type": "stream",
     "text": [
      "pynbody.analysis.profile : Profile v_circ -- this routine assumes the disk is in the x-y plane\n"
     ]
    },
    {
     "name": "stdout",
     "output_type": "stream",
     "text": [
      "halo number 862 is done\n",
      "faceon has failed, trying backup\n"
     ]
    },
    {
     "name": "stderr",
     "output_type": "stream",
     "text": [
      "pynbody.analysis.profile : Profile v_circ -- this routine assumes the disk is in the x-y plane\n"
     ]
    },
    {
     "name": "stdout",
     "output_type": "stream",
     "text": [
      "halo number 863 is done\n",
      "faceon has failed, trying backup\n"
     ]
    },
    {
     "name": "stderr",
     "output_type": "stream",
     "text": [
      "pynbody.analysis.profile : Profile v_circ -- this routine assumes the disk is in the x-y plane\n"
     ]
    },
    {
     "name": "stdout",
     "output_type": "stream",
     "text": [
      "halo number 864 is done\n",
      "faceon has failed, trying backup\n"
     ]
    },
    {
     "name": "stderr",
     "output_type": "stream",
     "text": [
      "pynbody.analysis.profile : Profile v_circ -- this routine assumes the disk is in the x-y plane\n"
     ]
    },
    {
     "name": "stdout",
     "output_type": "stream",
     "text": [
      "halo number 865 is done\n",
      "faceon has failed, trying backup\n"
     ]
    },
    {
     "name": "stderr",
     "output_type": "stream",
     "text": [
      "pynbody.analysis.profile : Profile v_circ -- this routine assumes the disk is in the x-y plane\n"
     ]
    },
    {
     "name": "stdout",
     "output_type": "stream",
     "text": [
      "halo number 866 is done\n",
      "faceon has failed, trying backup\n"
     ]
    },
    {
     "name": "stderr",
     "output_type": "stream",
     "text": [
      "pynbody.analysis.profile : Profile v_circ -- this routine assumes the disk is in the x-y plane\n"
     ]
    },
    {
     "name": "stdout",
     "output_type": "stream",
     "text": [
      "halo number 867 is done\n",
      "faceon has failed, trying backup\n"
     ]
    },
    {
     "name": "stderr",
     "output_type": "stream",
     "text": [
      "pynbody.analysis.profile : Profile v_circ -- this routine assumes the disk is in the x-y plane\n"
     ]
    },
    {
     "name": "stdout",
     "output_type": "stream",
     "text": [
      "halo number 868 is done\n",
      "faceon has failed, trying backup\n"
     ]
    },
    {
     "name": "stderr",
     "output_type": "stream",
     "text": [
      "pynbody.analysis.profile : Profile v_circ -- this routine assumes the disk is in the x-y plane\n"
     ]
    },
    {
     "name": "stdout",
     "output_type": "stream",
     "text": [
      "halo number 869 is done\n"
     ]
    },
    {
     "name": "stderr",
     "output_type": "stream",
     "text": [
      "pynbody.analysis.profile : Profile v_circ -- this routine assumes the disk is in the x-y plane\n"
     ]
    },
    {
     "name": "stdout",
     "output_type": "stream",
     "text": [
      "faceon has failed, trying backup\n",
      "halo number 870 is done\n",
      "faceon has failed, trying backup\n"
     ]
    },
    {
     "name": "stderr",
     "output_type": "stream",
     "text": [
      "pynbody.analysis.profile : Profile v_circ -- this routine assumes the disk is in the x-y plane\n"
     ]
    },
    {
     "name": "stdout",
     "output_type": "stream",
     "text": [
      "halo number 871 is done\n",
      "faceon has failed, trying backup\n"
     ]
    },
    {
     "name": "stderr",
     "output_type": "stream",
     "text": [
      "pynbody.analysis.profile : Profile v_circ -- this routine assumes the disk is in the x-y plane\n"
     ]
    },
    {
     "name": "stdout",
     "output_type": "stream",
     "text": [
      "halo number 872 is done\n",
      "faceon has failed, trying backup\n"
     ]
    },
    {
     "name": "stderr",
     "output_type": "stream",
     "text": [
      "pynbody.analysis.profile : Profile v_circ -- this routine assumes the disk is in the x-y plane\n"
     ]
    },
    {
     "name": "stdout",
     "output_type": "stream",
     "text": [
      "halo number 873 is done\n",
      "faceon has failed, trying backup\n"
     ]
    },
    {
     "name": "stderr",
     "output_type": "stream",
     "text": [
      "pynbody.analysis.profile : Profile v_circ -- this routine assumes the disk is in the x-y plane\n"
     ]
    },
    {
     "name": "stdout",
     "output_type": "stream",
     "text": [
      "halo number 874 is done\n",
      "faceon has failed, trying backup\n"
     ]
    },
    {
     "name": "stderr",
     "output_type": "stream",
     "text": [
      "pynbody.analysis.profile : Profile v_circ -- this routine assumes the disk is in the x-y plane\n"
     ]
    },
    {
     "name": "stdout",
     "output_type": "stream",
     "text": [
      "halo number 875 is done\n",
      "faceon has failed, trying backup\n"
     ]
    },
    {
     "name": "stderr",
     "output_type": "stream",
     "text": [
      "pynbody.analysis.profile : Profile v_circ -- this routine assumes the disk is in the x-y plane\n"
     ]
    },
    {
     "name": "stdout",
     "output_type": "stream",
     "text": [
      "halo number 876 is done\n",
      "faceon has failed, trying backup\n"
     ]
    },
    {
     "name": "stderr",
     "output_type": "stream",
     "text": [
      "pynbody.analysis.profile : Profile v_circ -- this routine assumes the disk is in the x-y plane\n"
     ]
    },
    {
     "name": "stdout",
     "output_type": "stream",
     "text": [
      "halo number 877 is done\n",
      "faceon has failed, trying backup\n"
     ]
    },
    {
     "name": "stderr",
     "output_type": "stream",
     "text": [
      "pynbody.analysis.profile : Profile v_circ -- this routine assumes the disk is in the x-y plane\n"
     ]
    },
    {
     "name": "stdout",
     "output_type": "stream",
     "text": [
      "halo number 878 is done\n",
      "faceon has failed, trying backup\n"
     ]
    },
    {
     "name": "stderr",
     "output_type": "stream",
     "text": [
      "pynbody.analysis.profile : Profile v_circ -- this routine assumes the disk is in the x-y plane\n"
     ]
    },
    {
     "name": "stdout",
     "output_type": "stream",
     "text": [
      "halo number 879 is done\n",
      "faceon has failed, trying backup\n"
     ]
    },
    {
     "name": "stderr",
     "output_type": "stream",
     "text": [
      "pynbody.analysis.profile : Profile v_circ -- this routine assumes the disk is in the x-y plane\n"
     ]
    },
    {
     "name": "stdout",
     "output_type": "stream",
     "text": [
      "halo number 880 is done\n",
      "faceon has failed, trying backup\n"
     ]
    },
    {
     "name": "stderr",
     "output_type": "stream",
     "text": [
      "pynbody.analysis.profile : Profile v_circ -- this routine assumes the disk is in the x-y plane\n"
     ]
    },
    {
     "name": "stdout",
     "output_type": "stream",
     "text": [
      "halo number 881 is done\n",
      "faceon has failed, trying backup\n"
     ]
    },
    {
     "name": "stderr",
     "output_type": "stream",
     "text": [
      "pynbody.analysis.profile : Profile v_circ -- this routine assumes the disk is in the x-y plane\n"
     ]
    },
    {
     "name": "stdout",
     "output_type": "stream",
     "text": [
      "halo number 882 is done\n",
      "faceon has failed, trying backup\n"
     ]
    },
    {
     "name": "stderr",
     "output_type": "stream",
     "text": [
      "pynbody.analysis.profile : Profile v_circ -- this routine assumes the disk is in the x-y plane\n"
     ]
    },
    {
     "name": "stdout",
     "output_type": "stream",
     "text": [
      "halo number 883 is done\n",
      "faceon has failed, trying backup\n"
     ]
    },
    {
     "name": "stderr",
     "output_type": "stream",
     "text": [
      "pynbody.analysis.profile : Profile v_circ -- this routine assumes the disk is in the x-y plane\n"
     ]
    },
    {
     "name": "stdout",
     "output_type": "stream",
     "text": [
      "halo number 884 is done\n",
      "faceon has failed, trying backup\n"
     ]
    },
    {
     "name": "stderr",
     "output_type": "stream",
     "text": [
      "pynbody.analysis.profile : Profile v_circ -- this routine assumes the disk is in the x-y plane\n"
     ]
    },
    {
     "name": "stdout",
     "output_type": "stream",
     "text": [
      "halo number 885 is done\n",
      "faceon has failed, trying backup\n"
     ]
    },
    {
     "name": "stderr",
     "output_type": "stream",
     "text": [
      "pynbody.analysis.profile : Profile v_circ -- this routine assumes the disk is in the x-y plane\n"
     ]
    },
    {
     "name": "stdout",
     "output_type": "stream",
     "text": [
      "halo number 886 is done\n",
      "faceon has failed, trying backup\n"
     ]
    },
    {
     "name": "stderr",
     "output_type": "stream",
     "text": [
      "pynbody.analysis.profile : Profile v_circ -- this routine assumes the disk is in the x-y plane\n"
     ]
    },
    {
     "name": "stdout",
     "output_type": "stream",
     "text": [
      "halo number 887 is done\n",
      "faceon has failed, trying backup\n"
     ]
    },
    {
     "name": "stderr",
     "output_type": "stream",
     "text": [
      "pynbody.analysis.profile : Profile v_circ -- this routine assumes the disk is in the x-y plane\n"
     ]
    },
    {
     "name": "stdout",
     "output_type": "stream",
     "text": [
      "halo number 888 is done\n",
      "faceon has failed, trying backup\n"
     ]
    },
    {
     "name": "stderr",
     "output_type": "stream",
     "text": [
      "pynbody.analysis.profile : Profile v_circ -- this routine assumes the disk is in the x-y plane\n"
     ]
    },
    {
     "name": "stdout",
     "output_type": "stream",
     "text": [
      "halo number 889 is done\n",
      "faceon has failed, trying backup\n"
     ]
    },
    {
     "name": "stderr",
     "output_type": "stream",
     "text": [
      "pynbody.analysis.profile : Profile v_circ -- this routine assumes the disk is in the x-y plane\n"
     ]
    },
    {
     "name": "stdout",
     "output_type": "stream",
     "text": [
      "halo number 890 is done\n",
      "faceon has failed, trying backup\n"
     ]
    },
    {
     "name": "stderr",
     "output_type": "stream",
     "text": [
      "pynbody.analysis.profile : Profile v_circ -- this routine assumes the disk is in the x-y plane\n"
     ]
    },
    {
     "name": "stdout",
     "output_type": "stream",
     "text": [
      "halo number 891 is done\n",
      "faceon has failed, trying backup\n"
     ]
    },
    {
     "name": "stderr",
     "output_type": "stream",
     "text": [
      "pynbody.analysis.profile : Profile v_circ -- this routine assumes the disk is in the x-y plane\n"
     ]
    },
    {
     "name": "stdout",
     "output_type": "stream",
     "text": [
      "halo number 892 is done\n",
      "faceon has failed, trying backup\n"
     ]
    },
    {
     "name": "stderr",
     "output_type": "stream",
     "text": [
      "pynbody.analysis.profile : Profile v_circ -- this routine assumes the disk is in the x-y plane\n"
     ]
    },
    {
     "name": "stdout",
     "output_type": "stream",
     "text": [
      "halo number 893 is done\n",
      "faceon has failed, trying backup\n"
     ]
    },
    {
     "name": "stderr",
     "output_type": "stream",
     "text": [
      "pynbody.analysis.profile : Profile v_circ -- this routine assumes the disk is in the x-y plane\n"
     ]
    },
    {
     "name": "stdout",
     "output_type": "stream",
     "text": [
      "halo number 894 is done\n",
      "faceon has failed, trying backup\n"
     ]
    },
    {
     "name": "stderr",
     "output_type": "stream",
     "text": [
      "pynbody.analysis.profile : Profile v_circ -- this routine assumes the disk is in the x-y plane\n"
     ]
    },
    {
     "name": "stdout",
     "output_type": "stream",
     "text": [
      "halo number 895 is done\n",
      "faceon has failed, trying backup\n"
     ]
    },
    {
     "name": "stderr",
     "output_type": "stream",
     "text": [
      "pynbody.analysis.profile : Profile v_circ -- this routine assumes the disk is in the x-y plane\n"
     ]
    },
    {
     "name": "stdout",
     "output_type": "stream",
     "text": [
      "halo number 896 is done\n",
      "faceon has failed, trying backup\n"
     ]
    },
    {
     "name": "stderr",
     "output_type": "stream",
     "text": [
      "pynbody.analysis.profile : Profile v_circ -- this routine assumes the disk is in the x-y plane\n"
     ]
    },
    {
     "name": "stdout",
     "output_type": "stream",
     "text": [
      "halo number 897 is done\n",
      "faceon has failed, trying backup\n"
     ]
    },
    {
     "name": "stderr",
     "output_type": "stream",
     "text": [
      "pynbody.analysis.profile : Profile v_circ -- this routine assumes the disk is in the x-y plane\n"
     ]
    },
    {
     "name": "stdout",
     "output_type": "stream",
     "text": [
      "halo number 898 is done\n",
      "faceon has failed, trying backup\n"
     ]
    },
    {
     "name": "stderr",
     "output_type": "stream",
     "text": [
      "pynbody.analysis.profile : Profile v_circ -- this routine assumes the disk is in the x-y plane\n"
     ]
    },
    {
     "name": "stdout",
     "output_type": "stream",
     "text": [
      "halo number 899 is done\n",
      "faceon has failed, trying backup\n"
     ]
    },
    {
     "name": "stderr",
     "output_type": "stream",
     "text": [
      "pynbody.analysis.profile : Profile v_circ -- this routine assumes the disk is in the x-y plane\n"
     ]
    },
    {
     "name": "stdout",
     "output_type": "stream",
     "text": [
      "halo number 900 is done\n",
      "faceon has failed, trying backup\n"
     ]
    },
    {
     "name": "stderr",
     "output_type": "stream",
     "text": [
      "pynbody.analysis.profile : Profile v_circ -- this routine assumes the disk is in the x-y plane\n"
     ]
    },
    {
     "name": "stdout",
     "output_type": "stream",
     "text": [
      "halo number 901 is done\n",
      "faceon has failed, trying backup\n"
     ]
    },
    {
     "name": "stderr",
     "output_type": "stream",
     "text": [
      "pynbody.analysis.profile : Profile v_circ -- this routine assumes the disk is in the x-y plane\n"
     ]
    },
    {
     "name": "stdout",
     "output_type": "stream",
     "text": [
      "halo number 902 is done\n",
      "faceon has failed, trying backup\n"
     ]
    },
    {
     "name": "stderr",
     "output_type": "stream",
     "text": [
      "pynbody.analysis.profile : Profile v_circ -- this routine assumes the disk is in the x-y plane\n"
     ]
    },
    {
     "name": "stdout",
     "output_type": "stream",
     "text": [
      "halo number 903 is done\n",
      "faceon has failed, trying backup\n"
     ]
    },
    {
     "name": "stderr",
     "output_type": "stream",
     "text": [
      "pynbody.analysis.profile : Profile v_circ -- this routine assumes the disk is in the x-y plane\n"
     ]
    },
    {
     "name": "stdout",
     "output_type": "stream",
     "text": [
      "halo number 904 is done\n",
      "faceon has failed, trying backup\n"
     ]
    },
    {
     "name": "stderr",
     "output_type": "stream",
     "text": [
      "pynbody.analysis.profile : Profile v_circ -- this routine assumes the disk is in the x-y plane\n"
     ]
    },
    {
     "name": "stdout",
     "output_type": "stream",
     "text": [
      "halo number 905 is done\n",
      "faceon has failed, trying backup\n"
     ]
    },
    {
     "name": "stderr",
     "output_type": "stream",
     "text": [
      "pynbody.analysis.profile : Profile v_circ -- this routine assumes the disk is in the x-y plane\n"
     ]
    },
    {
     "name": "stdout",
     "output_type": "stream",
     "text": [
      "halo number 906 is done\n",
      "faceon has failed, trying backup\n"
     ]
    },
    {
     "name": "stderr",
     "output_type": "stream",
     "text": [
      "pynbody.analysis.profile : Profile v_circ -- this routine assumes the disk is in the x-y plane\n"
     ]
    },
    {
     "name": "stdout",
     "output_type": "stream",
     "text": [
      "halo number 907 is done\n",
      "faceon has failed, trying backup\n"
     ]
    },
    {
     "name": "stderr",
     "output_type": "stream",
     "text": [
      "pynbody.analysis.profile : Profile v_circ -- this routine assumes the disk is in the x-y plane\n"
     ]
    },
    {
     "name": "stdout",
     "output_type": "stream",
     "text": [
      "halo number 908 is done\n",
      "faceon has failed, trying backup\n"
     ]
    },
    {
     "name": "stderr",
     "output_type": "stream",
     "text": [
      "pynbody.analysis.profile : Profile v_circ -- this routine assumes the disk is in the x-y plane\n"
     ]
    },
    {
     "name": "stdout",
     "output_type": "stream",
     "text": [
      "halo number 909 is done\n",
      "faceon has failed, trying backup\n"
     ]
    },
    {
     "name": "stderr",
     "output_type": "stream",
     "text": [
      "pynbody.analysis.profile : Profile v_circ -- this routine assumes the disk is in the x-y plane\n"
     ]
    },
    {
     "name": "stdout",
     "output_type": "stream",
     "text": [
      "halo number 910 is done\n",
      "faceon has failed, trying backup\n"
     ]
    },
    {
     "name": "stderr",
     "output_type": "stream",
     "text": [
      "pynbody.analysis.profile : Profile v_circ -- this routine assumes the disk is in the x-y plane\n"
     ]
    },
    {
     "name": "stdout",
     "output_type": "stream",
     "text": [
      "halo number 911 is done\n",
      "faceon has failed, trying backup\n"
     ]
    },
    {
     "name": "stderr",
     "output_type": "stream",
     "text": [
      "pynbody.analysis.profile : Profile v_circ -- this routine assumes the disk is in the x-y plane\n"
     ]
    },
    {
     "name": "stdout",
     "output_type": "stream",
     "text": [
      "halo number 912 is done\n",
      "faceon has failed, trying backup\n"
     ]
    },
    {
     "name": "stderr",
     "output_type": "stream",
     "text": [
      "pynbody.analysis.profile : Profile v_circ -- this routine assumes the disk is in the x-y plane\n"
     ]
    },
    {
     "name": "stdout",
     "output_type": "stream",
     "text": [
      "halo number 913 is done\n",
      "faceon has failed, trying backup\n"
     ]
    },
    {
     "name": "stderr",
     "output_type": "stream",
     "text": [
      "pynbody.analysis.profile : Profile v_circ -- this routine assumes the disk is in the x-y plane\n"
     ]
    },
    {
     "name": "stdout",
     "output_type": "stream",
     "text": [
      "halo number 914 is done\n",
      "faceon has failed, trying backup\n"
     ]
    },
    {
     "name": "stderr",
     "output_type": "stream",
     "text": [
      "pynbody.analysis.profile : Profile v_circ -- this routine assumes the disk is in the x-y plane\n"
     ]
    },
    {
     "name": "stdout",
     "output_type": "stream",
     "text": [
      "halo number 915 is done\n",
      "faceon has failed, trying backup\n"
     ]
    },
    {
     "name": "stderr",
     "output_type": "stream",
     "text": [
      "pynbody.analysis.profile : Profile v_circ -- this routine assumes the disk is in the x-y plane\n"
     ]
    },
    {
     "name": "stdout",
     "output_type": "stream",
     "text": [
      "halo number 916 is done\n",
      "faceon has failed, trying backup\n"
     ]
    },
    {
     "name": "stderr",
     "output_type": "stream",
     "text": [
      "pynbody.analysis.profile : Profile v_circ -- this routine assumes the disk is in the x-y plane\n"
     ]
    },
    {
     "name": "stdout",
     "output_type": "stream",
     "text": [
      "halo number 917 is done\n",
      "faceon has failed, trying backup\n"
     ]
    },
    {
     "name": "stderr",
     "output_type": "stream",
     "text": [
      "pynbody.analysis.profile : Profile v_circ -- this routine assumes the disk is in the x-y plane\n"
     ]
    },
    {
     "name": "stdout",
     "output_type": "stream",
     "text": [
      "halo number 918 is done\n",
      "faceon has failed, trying backup\n"
     ]
    },
    {
     "name": "stderr",
     "output_type": "stream",
     "text": [
      "pynbody.analysis.profile : Profile v_circ -- this routine assumes the disk is in the x-y plane\n"
     ]
    },
    {
     "name": "stdout",
     "output_type": "stream",
     "text": [
      "halo number 919 is done\n",
      "faceon has failed, trying backup\n"
     ]
    },
    {
     "name": "stderr",
     "output_type": "stream",
     "text": [
      "pynbody.analysis.profile : Profile v_circ -- this routine assumes the disk is in the x-y plane\n"
     ]
    },
    {
     "name": "stdout",
     "output_type": "stream",
     "text": [
      "halo number 920 is done\n",
      "faceon has failed, trying backup\n"
     ]
    },
    {
     "name": "stderr",
     "output_type": "stream",
     "text": [
      "pynbody.analysis.profile : Profile v_circ -- this routine assumes the disk is in the x-y plane\n"
     ]
    },
    {
     "name": "stdout",
     "output_type": "stream",
     "text": [
      "halo number 921 is done\n",
      "faceon has failed, trying backup\n"
     ]
    },
    {
     "name": "stderr",
     "output_type": "stream",
     "text": [
      "pynbody.analysis.profile : Profile v_circ -- this routine assumes the disk is in the x-y plane\n"
     ]
    },
    {
     "name": "stdout",
     "output_type": "stream",
     "text": [
      "halo number 922 is done\n",
      "faceon has failed, trying backup\n"
     ]
    },
    {
     "name": "stderr",
     "output_type": "stream",
     "text": [
      "pynbody.analysis.profile : Profile v_circ -- this routine assumes the disk is in the x-y plane\n"
     ]
    },
    {
     "name": "stdout",
     "output_type": "stream",
     "text": [
      "halo number 923 is done\n",
      "faceon has failed, trying backup\n"
     ]
    },
    {
     "name": "stderr",
     "output_type": "stream",
     "text": [
      "pynbody.analysis.profile : Profile v_circ -- this routine assumes the disk is in the x-y plane\n"
     ]
    },
    {
     "name": "stdout",
     "output_type": "stream",
     "text": [
      "halo number 924 is done\n",
      "faceon has failed, trying backup\n"
     ]
    },
    {
     "name": "stderr",
     "output_type": "stream",
     "text": [
      "pynbody.analysis.profile : Profile v_circ -- this routine assumes the disk is in the x-y plane\n"
     ]
    },
    {
     "name": "stdout",
     "output_type": "stream",
     "text": [
      "halo number 925 is done\n",
      "faceon has failed, trying backup\n"
     ]
    },
    {
     "name": "stderr",
     "output_type": "stream",
     "text": [
      "pynbody.analysis.profile : Profile v_circ -- this routine assumes the disk is in the x-y plane\n"
     ]
    },
    {
     "name": "stdout",
     "output_type": "stream",
     "text": [
      "halo number 926 is done\n",
      "faceon has failed, trying backup\n"
     ]
    },
    {
     "name": "stderr",
     "output_type": "stream",
     "text": [
      "pynbody.analysis.profile : Profile v_circ -- this routine assumes the disk is in the x-y plane\n"
     ]
    },
    {
     "name": "stdout",
     "output_type": "stream",
     "text": [
      "halo number 927 is done\n",
      "faceon has failed, trying backup\n"
     ]
    },
    {
     "name": "stderr",
     "output_type": "stream",
     "text": [
      "pynbody.analysis.profile : Profile v_circ -- this routine assumes the disk is in the x-y plane\n"
     ]
    },
    {
     "name": "stdout",
     "output_type": "stream",
     "text": [
      "halo number 928 is done\n",
      "faceon has failed, trying backup\n"
     ]
    },
    {
     "name": "stderr",
     "output_type": "stream",
     "text": [
      "pynbody.analysis.profile : Profile v_circ -- this routine assumes the disk is in the x-y plane\n"
     ]
    },
    {
     "name": "stdout",
     "output_type": "stream",
     "text": [
      "halo number 929 is done\n",
      "faceon has failed, trying backup\n"
     ]
    },
    {
     "name": "stderr",
     "output_type": "stream",
     "text": [
      "pynbody.analysis.profile : Profile v_circ -- this routine assumes the disk is in the x-y plane\n"
     ]
    },
    {
     "name": "stdout",
     "output_type": "stream",
     "text": [
      "halo number 930 is done\n",
      "faceon has failed, trying backup\n"
     ]
    },
    {
     "name": "stderr",
     "output_type": "stream",
     "text": [
      "pynbody.analysis.profile : Profile v_circ -- this routine assumes the disk is in the x-y plane\n"
     ]
    },
    {
     "name": "stdout",
     "output_type": "stream",
     "text": [
      "halo number 931 is done\n",
      "faceon has failed, trying backup\n"
     ]
    },
    {
     "name": "stderr",
     "output_type": "stream",
     "text": [
      "pynbody.analysis.profile : Profile v_circ -- this routine assumes the disk is in the x-y plane\n"
     ]
    },
    {
     "name": "stdout",
     "output_type": "stream",
     "text": [
      "halo number 932 is done\n",
      "faceon has failed, trying backup\n"
     ]
    },
    {
     "name": "stderr",
     "output_type": "stream",
     "text": [
      "pynbody.analysis.profile : Profile v_circ -- this routine assumes the disk is in the x-y plane\n"
     ]
    },
    {
     "name": "stdout",
     "output_type": "stream",
     "text": [
      "halo number 933 is done\n",
      "faceon has failed, trying backup\n"
     ]
    },
    {
     "name": "stderr",
     "output_type": "stream",
     "text": [
      "pynbody.analysis.profile : Profile v_circ -- this routine assumes the disk is in the x-y plane\n"
     ]
    },
    {
     "name": "stdout",
     "output_type": "stream",
     "text": [
      "halo number 934 is done\n",
      "faceon has failed, trying backup\n"
     ]
    },
    {
     "name": "stderr",
     "output_type": "stream",
     "text": [
      "pynbody.analysis.profile : Profile v_circ -- this routine assumes the disk is in the x-y plane\n"
     ]
    },
    {
     "name": "stdout",
     "output_type": "stream",
     "text": [
      "halo number 935 is done\n",
      "faceon has failed, trying backup\n"
     ]
    },
    {
     "name": "stderr",
     "output_type": "stream",
     "text": [
      "pynbody.analysis.profile : Profile v_circ -- this routine assumes the disk is in the x-y plane\n"
     ]
    },
    {
     "name": "stdout",
     "output_type": "stream",
     "text": [
      "halo number 936 is done\n",
      "faceon has failed, trying backup\n"
     ]
    },
    {
     "name": "stderr",
     "output_type": "stream",
     "text": [
      "pynbody.analysis.profile : Profile v_circ -- this routine assumes the disk is in the x-y plane\n"
     ]
    },
    {
     "name": "stdout",
     "output_type": "stream",
     "text": [
      "halo number 937 is done\n",
      "faceon has failed, trying backup\n"
     ]
    },
    {
     "name": "stderr",
     "output_type": "stream",
     "text": [
      "pynbody.analysis.profile : Profile v_circ -- this routine assumes the disk is in the x-y plane\n"
     ]
    },
    {
     "name": "stdout",
     "output_type": "stream",
     "text": [
      "halo number 938 is done\n",
      "faceon has failed, trying backup\n"
     ]
    },
    {
     "name": "stderr",
     "output_type": "stream",
     "text": [
      "pynbody.analysis.profile : Profile v_circ -- this routine assumes the disk is in the x-y plane\n"
     ]
    },
    {
     "name": "stdout",
     "output_type": "stream",
     "text": [
      "halo number 939 is done\n",
      "faceon has failed, trying backup\n"
     ]
    },
    {
     "name": "stderr",
     "output_type": "stream",
     "text": [
      "pynbody.analysis.profile : Profile v_circ -- this routine assumes the disk is in the x-y plane\n"
     ]
    },
    {
     "name": "stdout",
     "output_type": "stream",
     "text": [
      "halo number 940 is done\n",
      "faceon has failed, trying backup\n"
     ]
    },
    {
     "name": "stderr",
     "output_type": "stream",
     "text": [
      "pynbody.analysis.profile : Profile v_circ -- this routine assumes the disk is in the x-y plane\n"
     ]
    },
    {
     "name": "stdout",
     "output_type": "stream",
     "text": [
      "halo number 941 is done\n",
      "faceon has failed, trying backup\n"
     ]
    },
    {
     "name": "stderr",
     "output_type": "stream",
     "text": [
      "pynbody.analysis.profile : Profile v_circ -- this routine assumes the disk is in the x-y plane\n"
     ]
    },
    {
     "name": "stdout",
     "output_type": "stream",
     "text": [
      "halo number 942 is done\n",
      "faceon has failed, trying backup\n"
     ]
    },
    {
     "name": "stderr",
     "output_type": "stream",
     "text": [
      "pynbody.analysis.profile : Profile v_circ -- this routine assumes the disk is in the x-y plane\n"
     ]
    },
    {
     "name": "stdout",
     "output_type": "stream",
     "text": [
      "halo number 943 is done\n",
      "faceon has failed, trying backup\n"
     ]
    },
    {
     "name": "stderr",
     "output_type": "stream",
     "text": [
      "pynbody.analysis.profile : Profile v_circ -- this routine assumes the disk is in the x-y plane\n"
     ]
    },
    {
     "name": "stdout",
     "output_type": "stream",
     "text": [
      "halo number 944 is done\n",
      "faceon has failed, trying backup\n"
     ]
    },
    {
     "name": "stderr",
     "output_type": "stream",
     "text": [
      "pynbody.analysis.profile : Profile v_circ -- this routine assumes the disk is in the x-y plane\n"
     ]
    },
    {
     "name": "stdout",
     "output_type": "stream",
     "text": [
      "halo number 945 is done\n",
      "faceon has failed, trying backup\n"
     ]
    },
    {
     "name": "stderr",
     "output_type": "stream",
     "text": [
      "pynbody.analysis.profile : Profile v_circ -- this routine assumes the disk is in the x-y plane\n"
     ]
    },
    {
     "name": "stdout",
     "output_type": "stream",
     "text": [
      "halo number 946 is done\n",
      "faceon has failed, trying backup\n"
     ]
    },
    {
     "name": "stderr",
     "output_type": "stream",
     "text": [
      "pynbody.analysis.profile : Profile v_circ -- this routine assumes the disk is in the x-y plane\n"
     ]
    },
    {
     "name": "stdout",
     "output_type": "stream",
     "text": [
      "halo number 947 is done\n",
      "faceon has failed, trying backup\n"
     ]
    },
    {
     "name": "stderr",
     "output_type": "stream",
     "text": [
      "pynbody.analysis.profile : Profile v_circ -- this routine assumes the disk is in the x-y plane\n"
     ]
    },
    {
     "name": "stdout",
     "output_type": "stream",
     "text": [
      "halo number 948 is done\n",
      "faceon has failed, trying backup\n"
     ]
    },
    {
     "name": "stderr",
     "output_type": "stream",
     "text": [
      "pynbody.analysis.profile : Profile v_circ -- this routine assumes the disk is in the x-y plane\n"
     ]
    },
    {
     "name": "stdout",
     "output_type": "stream",
     "text": [
      "halo number 949 is done\n",
      "faceon has failed, trying backup\n"
     ]
    },
    {
     "name": "stderr",
     "output_type": "stream",
     "text": [
      "pynbody.analysis.profile : Profile v_circ -- this routine assumes the disk is in the x-y plane\n"
     ]
    },
    {
     "name": "stdout",
     "output_type": "stream",
     "text": [
      "halo number 950 is done\n",
      "faceon has failed, trying backup\n"
     ]
    },
    {
     "name": "stderr",
     "output_type": "stream",
     "text": [
      "pynbody.analysis.profile : Profile v_circ -- this routine assumes the disk is in the x-y plane\n"
     ]
    },
    {
     "name": "stdout",
     "output_type": "stream",
     "text": [
      "halo number 951 is done\n",
      "faceon has failed, trying backup\n"
     ]
    },
    {
     "name": "stderr",
     "output_type": "stream",
     "text": [
      "pynbody.analysis.profile : Profile v_circ -- this routine assumes the disk is in the x-y plane\n"
     ]
    },
    {
     "name": "stdout",
     "output_type": "stream",
     "text": [
      "halo number 952 is done\n",
      "faceon has failed, trying backup\n"
     ]
    },
    {
     "name": "stderr",
     "output_type": "stream",
     "text": [
      "pynbody.analysis.profile : Profile v_circ -- this routine assumes the disk is in the x-y plane\n"
     ]
    },
    {
     "name": "stdout",
     "output_type": "stream",
     "text": [
      "halo number 953 is done\n",
      "faceon has failed, trying backup\n"
     ]
    },
    {
     "name": "stderr",
     "output_type": "stream",
     "text": [
      "pynbody.analysis.profile : Profile v_circ -- this routine assumes the disk is in the x-y plane\n"
     ]
    },
    {
     "name": "stdout",
     "output_type": "stream",
     "text": [
      "halo number 954 is done\n",
      "faceon has failed, trying backup\n"
     ]
    },
    {
     "name": "stderr",
     "output_type": "stream",
     "text": [
      "pynbody.analysis.profile : Profile v_circ -- this routine assumes the disk is in the x-y plane\n"
     ]
    },
    {
     "name": "stdout",
     "output_type": "stream",
     "text": [
      "halo number 955 is done\n",
      "faceon has failed, trying backup\n"
     ]
    },
    {
     "name": "stderr",
     "output_type": "stream",
     "text": [
      "pynbody.analysis.profile : Profile v_circ -- this routine assumes the disk is in the x-y plane\n"
     ]
    },
    {
     "name": "stdout",
     "output_type": "stream",
     "text": [
      "halo number 956 is done\n",
      "faceon has failed, trying backup\n"
     ]
    },
    {
     "name": "stderr",
     "output_type": "stream",
     "text": [
      "pynbody.analysis.profile : Profile v_circ -- this routine assumes the disk is in the x-y plane\n"
     ]
    },
    {
     "name": "stdout",
     "output_type": "stream",
     "text": [
      "halo number 957 is done\n",
      "faceon has failed, trying backup\n"
     ]
    },
    {
     "name": "stderr",
     "output_type": "stream",
     "text": [
      "pynbody.analysis.profile : Profile v_circ -- this routine assumes the disk is in the x-y plane\n"
     ]
    },
    {
     "name": "stdout",
     "output_type": "stream",
     "text": [
      "halo number 958 is done\n",
      "faceon has failed, trying backup\n"
     ]
    },
    {
     "name": "stderr",
     "output_type": "stream",
     "text": [
      "pynbody.analysis.profile : Profile v_circ -- this routine assumes the disk is in the x-y plane\n"
     ]
    },
    {
     "name": "stdout",
     "output_type": "stream",
     "text": [
      "halo number 959 is done\n",
      "faceon has failed, trying backup\n"
     ]
    },
    {
     "name": "stderr",
     "output_type": "stream",
     "text": [
      "pynbody.analysis.profile : Profile v_circ -- this routine assumes the disk is in the x-y plane\n"
     ]
    },
    {
     "name": "stdout",
     "output_type": "stream",
     "text": [
      "halo number 960 is done\n",
      "faceon has failed, trying backup\n"
     ]
    },
    {
     "name": "stderr",
     "output_type": "stream",
     "text": [
      "pynbody.analysis.profile : Profile v_circ -- this routine assumes the disk is in the x-y plane\n"
     ]
    },
    {
     "name": "stdout",
     "output_type": "stream",
     "text": [
      "halo number 961 is done\n",
      "faceon has failed, trying backup\n"
     ]
    },
    {
     "name": "stderr",
     "output_type": "stream",
     "text": [
      "pynbody.analysis.profile : Profile v_circ -- this routine assumes the disk is in the x-y plane\n"
     ]
    },
    {
     "name": "stdout",
     "output_type": "stream",
     "text": [
      "halo number 962 is done\n",
      "faceon has failed, trying backup\n"
     ]
    },
    {
     "name": "stderr",
     "output_type": "stream",
     "text": [
      "pynbody.analysis.profile : Profile v_circ -- this routine assumes the disk is in the x-y plane\n"
     ]
    },
    {
     "name": "stdout",
     "output_type": "stream",
     "text": [
      "halo number 963 is done\n",
      "faceon has failed, trying backup\n"
     ]
    },
    {
     "name": "stderr",
     "output_type": "stream",
     "text": [
      "pynbody.analysis.profile : Profile v_circ -- this routine assumes the disk is in the x-y plane\n"
     ]
    },
    {
     "name": "stdout",
     "output_type": "stream",
     "text": [
      "halo number 964 is done\n",
      "faceon has failed, trying backup\n"
     ]
    },
    {
     "name": "stderr",
     "output_type": "stream",
     "text": [
      "pynbody.analysis.profile : Profile v_circ -- this routine assumes the disk is in the x-y plane\n"
     ]
    },
    {
     "name": "stdout",
     "output_type": "stream",
     "text": [
      "halo number 965 is done\n",
      "faceon has failed, trying backup\n"
     ]
    },
    {
     "name": "stderr",
     "output_type": "stream",
     "text": [
      "pynbody.analysis.profile : Profile v_circ -- this routine assumes the disk is in the x-y plane\n"
     ]
    },
    {
     "name": "stdout",
     "output_type": "stream",
     "text": [
      "halo number 966 is done\n",
      "faceon has failed, trying backup\n"
     ]
    },
    {
     "name": "stderr",
     "output_type": "stream",
     "text": [
      "pynbody.analysis.profile : Profile v_circ -- this routine assumes the disk is in the x-y plane\n"
     ]
    },
    {
     "name": "stdout",
     "output_type": "stream",
     "text": [
      "halo number 967 is done\n",
      "faceon has failed, trying backup\n"
     ]
    },
    {
     "name": "stderr",
     "output_type": "stream",
     "text": [
      "pynbody.analysis.profile : Profile v_circ -- this routine assumes the disk is in the x-y plane\n"
     ]
    },
    {
     "name": "stdout",
     "output_type": "stream",
     "text": [
      "halo number 968 is done\n",
      "faceon has failed, trying backup\n"
     ]
    },
    {
     "name": "stderr",
     "output_type": "stream",
     "text": [
      "pynbody.analysis.profile : Profile v_circ -- this routine assumes the disk is in the x-y plane\n"
     ]
    },
    {
     "name": "stdout",
     "output_type": "stream",
     "text": [
      "halo number 969 is done\n",
      "faceon has failed, trying backup\n"
     ]
    },
    {
     "name": "stderr",
     "output_type": "stream",
     "text": [
      "pynbody.analysis.profile : Profile v_circ -- this routine assumes the disk is in the x-y plane\n"
     ]
    },
    {
     "name": "stdout",
     "output_type": "stream",
     "text": [
      "halo number 970 is done\n",
      "faceon has failed, trying backup\n"
     ]
    },
    {
     "name": "stderr",
     "output_type": "stream",
     "text": [
      "pynbody.analysis.profile : Profile v_circ -- this routine assumes the disk is in the x-y plane\n"
     ]
    },
    {
     "name": "stdout",
     "output_type": "stream",
     "text": [
      "halo number 971 is done\n",
      "faceon has failed, trying backup\n"
     ]
    },
    {
     "name": "stderr",
     "output_type": "stream",
     "text": [
      "pynbody.analysis.profile : Profile v_circ -- this routine assumes the disk is in the x-y plane\n"
     ]
    },
    {
     "name": "stdout",
     "output_type": "stream",
     "text": [
      "halo number 972 is done\n",
      "faceon has failed, trying backup\n"
     ]
    },
    {
     "name": "stderr",
     "output_type": "stream",
     "text": [
      "pynbody.analysis.profile : Profile v_circ -- this routine assumes the disk is in the x-y plane\n"
     ]
    },
    {
     "name": "stdout",
     "output_type": "stream",
     "text": [
      "halo number 973 is done\n",
      "faceon has failed, trying backup\n"
     ]
    },
    {
     "name": "stderr",
     "output_type": "stream",
     "text": [
      "pynbody.analysis.profile : Profile v_circ -- this routine assumes the disk is in the x-y plane\n"
     ]
    },
    {
     "name": "stdout",
     "output_type": "stream",
     "text": [
      "halo number 974 is done\n",
      "faceon has failed, trying backup\n"
     ]
    },
    {
     "name": "stderr",
     "output_type": "stream",
     "text": [
      "pynbody.analysis.profile : Profile v_circ -- this routine assumes the disk is in the x-y plane\n"
     ]
    },
    {
     "name": "stdout",
     "output_type": "stream",
     "text": [
      "halo number 975 is done\n",
      "faceon has failed, trying backup\n"
     ]
    },
    {
     "name": "stderr",
     "output_type": "stream",
     "text": [
      "pynbody.analysis.profile : Profile v_circ -- this routine assumes the disk is in the x-y plane\n"
     ]
    },
    {
     "name": "stdout",
     "output_type": "stream",
     "text": [
      "halo number 976 is done\n",
      "faceon has failed, trying backup\n"
     ]
    },
    {
     "name": "stderr",
     "output_type": "stream",
     "text": [
      "pynbody.analysis.profile : Profile v_circ -- this routine assumes the disk is in the x-y plane\n"
     ]
    },
    {
     "name": "stdout",
     "output_type": "stream",
     "text": [
      "halo number 977 is done\n",
      "faceon has failed, trying backup\n"
     ]
    },
    {
     "name": "stderr",
     "output_type": "stream",
     "text": [
      "pynbody.analysis.profile : Profile v_circ -- this routine assumes the disk is in the x-y plane\n"
     ]
    },
    {
     "name": "stdout",
     "output_type": "stream",
     "text": [
      "halo number 978 is done\n",
      "faceon has failed, trying backup\n"
     ]
    },
    {
     "name": "stderr",
     "output_type": "stream",
     "text": [
      "pynbody.analysis.profile : Profile v_circ -- this routine assumes the disk is in the x-y plane\n"
     ]
    },
    {
     "name": "stdout",
     "output_type": "stream",
     "text": [
      "halo number 979 is done\n",
      "faceon has failed, trying backup\n"
     ]
    },
    {
     "name": "stderr",
     "output_type": "stream",
     "text": [
      "pynbody.analysis.profile : Profile v_circ -- this routine assumes the disk is in the x-y plane\n"
     ]
    },
    {
     "name": "stdout",
     "output_type": "stream",
     "text": [
      "halo number 980 is done\n",
      "faceon has failed, trying backup\n"
     ]
    },
    {
     "name": "stderr",
     "output_type": "stream",
     "text": [
      "pynbody.analysis.profile : Profile v_circ -- this routine assumes the disk is in the x-y plane\n"
     ]
    },
    {
     "name": "stdout",
     "output_type": "stream",
     "text": [
      "halo number 981 is done\n",
      "faceon has failed, trying backup\n"
     ]
    },
    {
     "name": "stderr",
     "output_type": "stream",
     "text": [
      "pynbody.analysis.profile : Profile v_circ -- this routine assumes the disk is in the x-y plane\n"
     ]
    },
    {
     "name": "stdout",
     "output_type": "stream",
     "text": [
      "halo number 982 is done\n",
      "faceon has failed, trying backup\n"
     ]
    },
    {
     "name": "stderr",
     "output_type": "stream",
     "text": [
      "pynbody.analysis.profile : Profile v_circ -- this routine assumes the disk is in the x-y plane\n"
     ]
    },
    {
     "name": "stdout",
     "output_type": "stream",
     "text": [
      "halo number 983 is done\n",
      "faceon has failed, trying backup\n"
     ]
    },
    {
     "name": "stderr",
     "output_type": "stream",
     "text": [
      "pynbody.analysis.profile : Profile v_circ -- this routine assumes the disk is in the x-y plane\n"
     ]
    },
    {
     "name": "stdout",
     "output_type": "stream",
     "text": [
      "halo number 984 is done\n",
      "faceon has failed, trying backup\n"
     ]
    },
    {
     "name": "stderr",
     "output_type": "stream",
     "text": [
      "pynbody.analysis.profile : Profile v_circ -- this routine assumes the disk is in the x-y plane\n"
     ]
    },
    {
     "name": "stdout",
     "output_type": "stream",
     "text": [
      "halo number 985 is done\n",
      "faceon has failed, trying backup\n"
     ]
    },
    {
     "name": "stderr",
     "output_type": "stream",
     "text": [
      "pynbody.analysis.profile : Profile v_circ -- this routine assumes the disk is in the x-y plane\n"
     ]
    },
    {
     "name": "stdout",
     "output_type": "stream",
     "text": [
      "halo number 986 is done\n",
      "faceon has failed, trying backup\n"
     ]
    },
    {
     "name": "stderr",
     "output_type": "stream",
     "text": [
      "pynbody.analysis.profile : Profile v_circ -- this routine assumes the disk is in the x-y plane\n"
     ]
    },
    {
     "name": "stdout",
     "output_type": "stream",
     "text": [
      "halo number 987 is done\n",
      "faceon has failed, trying backup\n"
     ]
    },
    {
     "name": "stderr",
     "output_type": "stream",
     "text": [
      "pynbody.analysis.profile : Profile v_circ -- this routine assumes the disk is in the x-y plane\n"
     ]
    },
    {
     "name": "stdout",
     "output_type": "stream",
     "text": [
      "halo number 988 is done\n",
      "faceon has failed, trying backup\n"
     ]
    },
    {
     "name": "stderr",
     "output_type": "stream",
     "text": [
      "pynbody.analysis.profile : Profile v_circ -- this routine assumes the disk is in the x-y plane\n"
     ]
    },
    {
     "name": "stdout",
     "output_type": "stream",
     "text": [
      "halo number 989 is done\n",
      "faceon has failed, trying backup\n"
     ]
    },
    {
     "name": "stderr",
     "output_type": "stream",
     "text": [
      "pynbody.analysis.profile : Profile v_circ -- this routine assumes the disk is in the x-y plane\n"
     ]
    },
    {
     "name": "stdout",
     "output_type": "stream",
     "text": [
      "halo number 990 is done\n",
      "faceon has failed, trying backup\n"
     ]
    },
    {
     "name": "stderr",
     "output_type": "stream",
     "text": [
      "pynbody.analysis.profile : Profile v_circ -- this routine assumes the disk is in the x-y plane\n"
     ]
    },
    {
     "name": "stdout",
     "output_type": "stream",
     "text": [
      "halo number 991 is done\n",
      "faceon has failed, trying backup\n"
     ]
    },
    {
     "name": "stderr",
     "output_type": "stream",
     "text": [
      "pynbody.analysis.profile : Profile v_circ -- this routine assumes the disk is in the x-y plane\n"
     ]
    },
    {
     "name": "stdout",
     "output_type": "stream",
     "text": [
      "halo number 992 is done\n",
      "faceon has failed, trying backup\n"
     ]
    },
    {
     "name": "stderr",
     "output_type": "stream",
     "text": [
      "pynbody.analysis.profile : Profile v_circ -- this routine assumes the disk is in the x-y plane\n"
     ]
    },
    {
     "name": "stdout",
     "output_type": "stream",
     "text": [
      "halo number 993 is done\n",
      "faceon has failed, trying backup\n"
     ]
    },
    {
     "name": "stderr",
     "output_type": "stream",
     "text": [
      "pynbody.analysis.profile : Profile v_circ -- this routine assumes the disk is in the x-y plane\n"
     ]
    },
    {
     "name": "stdout",
     "output_type": "stream",
     "text": [
      "halo number 994 is done\n",
      "faceon has failed, trying backup\n"
     ]
    },
    {
     "name": "stderr",
     "output_type": "stream",
     "text": [
      "pynbody.analysis.profile : Profile v_circ -- this routine assumes the disk is in the x-y plane\n"
     ]
    },
    {
     "name": "stdout",
     "output_type": "stream",
     "text": [
      "halo number 995 is done\n",
      "faceon has failed, trying backup\n"
     ]
    },
    {
     "name": "stderr",
     "output_type": "stream",
     "text": [
      "pynbody.analysis.profile : Profile v_circ -- this routine assumes the disk is in the x-y plane\n"
     ]
    },
    {
     "name": "stdout",
     "output_type": "stream",
     "text": [
      "halo number 996 is done\n",
      "faceon has failed, trying backup\n"
     ]
    },
    {
     "name": "stderr",
     "output_type": "stream",
     "text": [
      "pynbody.analysis.profile : Profile v_circ -- this routine assumes the disk is in the x-y plane\n"
     ]
    },
    {
     "name": "stdout",
     "output_type": "stream",
     "text": [
      "halo number 997 is done\n",
      "faceon has failed, trying backup\n"
     ]
    },
    {
     "name": "stderr",
     "output_type": "stream",
     "text": [
      "pynbody.analysis.profile : Profile v_circ -- this routine assumes the disk is in the x-y plane\n"
     ]
    },
    {
     "name": "stdout",
     "output_type": "stream",
     "text": [
      "halo number 998 is done\n",
      "faceon has failed, trying backup\n"
     ]
    },
    {
     "name": "stderr",
     "output_type": "stream",
     "text": [
      "pynbody.analysis.profile : Profile v_circ -- this routine assumes the disk is in the x-y plane\n"
     ]
    },
    {
     "name": "stdout",
     "output_type": "stream",
     "text": [
      "halo number 999 is done\n",
      "faceon has failed, trying backup\n"
     ]
    },
    {
     "name": "stderr",
     "output_type": "stream",
     "text": [
      "pynbody.analysis.profile : Profile v_circ -- this routine assumes the disk is in the x-y plane\n"
     ]
    },
    {
     "name": "stdout",
     "output_type": "stream",
     "text": [
      "halo number 1000 is done\n",
      "faceon has failed, trying backup\n"
     ]
    },
    {
     "name": "stderr",
     "output_type": "stream",
     "text": [
      "pynbody.analysis.profile : Profile v_circ -- this routine assumes the disk is in the x-y plane\n"
     ]
    },
    {
     "name": "stdout",
     "output_type": "stream",
     "text": [
      "halo number 1001 is done\n",
      "faceon has failed, trying backup\n"
     ]
    },
    {
     "name": "stderr",
     "output_type": "stream",
     "text": [
      "pynbody.analysis.profile : Profile v_circ -- this routine assumes the disk is in the x-y plane\n"
     ]
    },
    {
     "name": "stdout",
     "output_type": "stream",
     "text": [
      "halo number 1002 is done\n",
      "faceon has failed, trying backup\n"
     ]
    },
    {
     "name": "stderr",
     "output_type": "stream",
     "text": [
      "pynbody.analysis.profile : Profile v_circ -- this routine assumes the disk is in the x-y plane\n"
     ]
    },
    {
     "name": "stdout",
     "output_type": "stream",
     "text": [
      "halo number 1003 is done\n",
      "faceon has failed, trying backup\n"
     ]
    },
    {
     "name": "stderr",
     "output_type": "stream",
     "text": [
      "pynbody.analysis.profile : Profile v_circ -- this routine assumes the disk is in the x-y plane\n"
     ]
    },
    {
     "name": "stdout",
     "output_type": "stream",
     "text": [
      "halo number 1004 is done\n",
      "faceon has failed, trying backup\n"
     ]
    },
    {
     "name": "stderr",
     "output_type": "stream",
     "text": [
      "pynbody.analysis.profile : Profile v_circ -- this routine assumes the disk is in the x-y plane\n"
     ]
    },
    {
     "name": "stdout",
     "output_type": "stream",
     "text": [
      "halo number 1005 is done\n"
     ]
    },
    {
     "name": "stderr",
     "output_type": "stream",
     "text": [
      "pynbody.analysis.profile : Profile v_circ -- this routine assumes the disk is in the x-y plane\n"
     ]
    },
    {
     "name": "stdout",
     "output_type": "stream",
     "text": [
      "faceon has failed, trying backup\n",
      "halo number 1006 is done\n"
     ]
    },
    {
     "name": "stderr",
     "output_type": "stream",
     "text": [
      "pynbody.analysis.profile : Profile v_circ -- this routine assumes the disk is in the x-y plane\n"
     ]
    },
    {
     "name": "stdout",
     "output_type": "stream",
     "text": [
      "faceon has failed, trying backup\n",
      "halo number 1007 is done\n"
     ]
    },
    {
     "name": "stderr",
     "output_type": "stream",
     "text": [
      "pynbody.analysis.profile : Profile v_circ -- this routine assumes the disk is in the x-y plane\n"
     ]
    },
    {
     "name": "stdout",
     "output_type": "stream",
     "text": [
      "faceon has failed, trying backup\n",
      "halo number 1008 is done\n"
     ]
    },
    {
     "name": "stderr",
     "output_type": "stream",
     "text": [
      "pynbody.analysis.profile : Profile v_circ -- this routine assumes the disk is in the x-y plane\n"
     ]
    },
    {
     "name": "stdout",
     "output_type": "stream",
     "text": [
      "faceon has failed, trying backup\n",
      "halo number 1009 is done\n"
     ]
    },
    {
     "name": "stderr",
     "output_type": "stream",
     "text": [
      "pynbody.analysis.profile : Profile v_circ -- this routine assumes the disk is in the x-y plane\n"
     ]
    },
    {
     "name": "stdout",
     "output_type": "stream",
     "text": [
      "faceon has failed, trying backup\n",
      "halo number 1010 is done\n"
     ]
    },
    {
     "name": "stderr",
     "output_type": "stream",
     "text": [
      "pynbody.analysis.profile : Profile v_circ -- this routine assumes the disk is in the x-y plane\n"
     ]
    },
    {
     "name": "stdout",
     "output_type": "stream",
     "text": [
      "faceon has failed, trying backup\n",
      "halo number 1011 is done\n"
     ]
    },
    {
     "name": "stderr",
     "output_type": "stream",
     "text": [
      "pynbody.analysis.profile : Profile v_circ -- this routine assumes the disk is in the x-y plane\n"
     ]
    },
    {
     "name": "stdout",
     "output_type": "stream",
     "text": [
      "faceon has failed, trying backup\n",
      "halo number 1012 is done\n",
      "faceon has failed, trying backup\n"
     ]
    },
    {
     "name": "stderr",
     "output_type": "stream",
     "text": [
      "pynbody.analysis.profile : Profile v_circ -- this routine assumes the disk is in the x-y plane\n"
     ]
    },
    {
     "name": "stdout",
     "output_type": "stream",
     "text": [
      "halo number 1013 is done\n",
      "faceon has failed, trying backup\n"
     ]
    },
    {
     "name": "stderr",
     "output_type": "stream",
     "text": [
      "pynbody.analysis.profile : Profile v_circ -- this routine assumes the disk is in the x-y plane\n"
     ]
    },
    {
     "name": "stdout",
     "output_type": "stream",
     "text": [
      "halo number 1014 is done\n",
      "faceon has failed, trying backup\n"
     ]
    },
    {
     "name": "stderr",
     "output_type": "stream",
     "text": [
      "pynbody.analysis.profile : Profile v_circ -- this routine assumes the disk is in the x-y plane\n"
     ]
    },
    {
     "name": "stdout",
     "output_type": "stream",
     "text": [
      "halo number 1015 is done\n"
     ]
    },
    {
     "name": "stderr",
     "output_type": "stream",
     "text": [
      "pynbody.analysis.profile : Profile v_circ -- this routine assumes the disk is in the x-y plane\n"
     ]
    },
    {
     "name": "stdout",
     "output_type": "stream",
     "text": [
      "faceon has failed, trying backup\n",
      "halo number 1016 is done\n",
      "faceon has failed, trying backup\n"
     ]
    },
    {
     "name": "stderr",
     "output_type": "stream",
     "text": [
      "pynbody.analysis.profile : Profile v_circ -- this routine assumes the disk is in the x-y plane\n"
     ]
    },
    {
     "name": "stdout",
     "output_type": "stream",
     "text": [
      "halo number 1017 is done\n",
      "faceon has failed, trying backup\n"
     ]
    },
    {
     "name": "stderr",
     "output_type": "stream",
     "text": [
      "pynbody.analysis.profile : Profile v_circ -- this routine assumes the disk is in the x-y plane\n"
     ]
    },
    {
     "name": "stdout",
     "output_type": "stream",
     "text": [
      "halo number 1018 is done\n",
      "faceon has failed, trying backup\n"
     ]
    },
    {
     "name": "stderr",
     "output_type": "stream",
     "text": [
      "pynbody.analysis.profile : Profile v_circ -- this routine assumes the disk is in the x-y plane\n"
     ]
    },
    {
     "name": "stdout",
     "output_type": "stream",
     "text": [
      "halo number 1019 is done\n",
      "faceon has failed, trying backup\n"
     ]
    },
    {
     "name": "stderr",
     "output_type": "stream",
     "text": [
      "pynbody.analysis.profile : Profile v_circ -- this routine assumes the disk is in the x-y plane\n"
     ]
    },
    {
     "name": "stdout",
     "output_type": "stream",
     "text": [
      "halo number 1020 is done\n",
      "faceon has failed, trying backup\n"
     ]
    },
    {
     "name": "stderr",
     "output_type": "stream",
     "text": [
      "pynbody.analysis.profile : Profile v_circ -- this routine assumes the disk is in the x-y plane\n"
     ]
    },
    {
     "name": "stdout",
     "output_type": "stream",
     "text": [
      "halo number 1021 is done\n",
      "faceon has failed, trying backup\n"
     ]
    },
    {
     "name": "stderr",
     "output_type": "stream",
     "text": [
      "pynbody.analysis.profile : Profile v_circ -- this routine assumes the disk is in the x-y plane\n"
     ]
    },
    {
     "name": "stdout",
     "output_type": "stream",
     "text": [
      "halo number 1022 is done\n",
      "faceon has failed, trying backup\n"
     ]
    },
    {
     "name": "stderr",
     "output_type": "stream",
     "text": [
      "pynbody.analysis.profile : Profile v_circ -- this routine assumes the disk is in the x-y plane\n"
     ]
    },
    {
     "name": "stdout",
     "output_type": "stream",
     "text": [
      "halo number 1023 is done\n",
      "faceon has failed, trying backup\n"
     ]
    },
    {
     "name": "stderr",
     "output_type": "stream",
     "text": [
      "pynbody.analysis.profile : Profile v_circ -- this routine assumes the disk is in the x-y plane\n"
     ]
    },
    {
     "name": "stdout",
     "output_type": "stream",
     "text": [
      "halo number 1024 is done\n",
      "faceon has failed, trying backup\n"
     ]
    },
    {
     "name": "stderr",
     "output_type": "stream",
     "text": [
      "pynbody.analysis.profile : Profile v_circ -- this routine assumes the disk is in the x-y plane\n"
     ]
    },
    {
     "name": "stdout",
     "output_type": "stream",
     "text": [
      "halo number 1025 is done\n",
      "faceon has failed, trying backup\n"
     ]
    },
    {
     "name": "stderr",
     "output_type": "stream",
     "text": [
      "pynbody.analysis.profile : Profile v_circ -- this routine assumes the disk is in the x-y plane\n"
     ]
    },
    {
     "name": "stdout",
     "output_type": "stream",
     "text": [
      "halo number 1026 is done\n",
      "faceon has failed, trying backup\n"
     ]
    },
    {
     "name": "stderr",
     "output_type": "stream",
     "text": [
      "pynbody.analysis.profile : Profile v_circ -- this routine assumes the disk is in the x-y plane\n"
     ]
    },
    {
     "name": "stdout",
     "output_type": "stream",
     "text": [
      "halo number 1027 is done\n"
     ]
    },
    {
     "name": "stderr",
     "output_type": "stream",
     "text": [
      "pynbody.analysis.profile : Profile v_circ -- this routine assumes the disk is in the x-y plane\n"
     ]
    },
    {
     "name": "stdout",
     "output_type": "stream",
     "text": [
      "faceon has failed, trying backup\n",
      "halo number 1028 is done\n",
      "faceon has failed, trying backup\n"
     ]
    },
    {
     "name": "stderr",
     "output_type": "stream",
     "text": [
      "pynbody.analysis.profile : Profile v_circ -- this routine assumes the disk is in the x-y plane\n"
     ]
    },
    {
     "name": "stdout",
     "output_type": "stream",
     "text": [
      "halo number 1029 is done\n",
      "faceon has failed, trying backup\n"
     ]
    },
    {
     "name": "stderr",
     "output_type": "stream",
     "text": [
      "pynbody.analysis.profile : Profile v_circ -- this routine assumes the disk is in the x-y plane\n"
     ]
    },
    {
     "name": "stdout",
     "output_type": "stream",
     "text": [
      "halo number 1030 is done\n",
      "faceon has failed, trying backup\n"
     ]
    },
    {
     "name": "stderr",
     "output_type": "stream",
     "text": [
      "pynbody.analysis.profile : Profile v_circ -- this routine assumes the disk is in the x-y plane\n"
     ]
    },
    {
     "name": "stdout",
     "output_type": "stream",
     "text": [
      "halo number 1031 is done\n",
      "faceon has failed, trying backup\n"
     ]
    },
    {
     "name": "stderr",
     "output_type": "stream",
     "text": [
      "pynbody.analysis.profile : Profile v_circ -- this routine assumes the disk is in the x-y plane\n"
     ]
    },
    {
     "name": "stdout",
     "output_type": "stream",
     "text": [
      "halo number 1032 is done\n",
      "faceon has failed, trying backup\n"
     ]
    },
    {
     "name": "stderr",
     "output_type": "stream",
     "text": [
      "pynbody.analysis.profile : Profile v_circ -- this routine assumes the disk is in the x-y plane\n"
     ]
    },
    {
     "name": "stdout",
     "output_type": "stream",
     "text": [
      "halo number 1033 is done\n",
      "faceon has failed, trying backup\n"
     ]
    },
    {
     "name": "stderr",
     "output_type": "stream",
     "text": [
      "pynbody.analysis.profile : Profile v_circ -- this routine assumes the disk is in the x-y plane\n"
     ]
    },
    {
     "name": "stdout",
     "output_type": "stream",
     "text": [
      "halo number 1034 is done\n",
      "faceon has failed, trying backup\n"
     ]
    },
    {
     "name": "stderr",
     "output_type": "stream",
     "text": [
      "pynbody.analysis.profile : Profile v_circ -- this routine assumes the disk is in the x-y plane\n"
     ]
    },
    {
     "name": "stdout",
     "output_type": "stream",
     "text": [
      "halo number 1035 is done\n",
      "faceon has failed, trying backup\n"
     ]
    },
    {
     "name": "stderr",
     "output_type": "stream",
     "text": [
      "pynbody.analysis.profile : Profile v_circ -- this routine assumes the disk is in the x-y plane\n"
     ]
    },
    {
     "name": "stdout",
     "output_type": "stream",
     "text": [
      "halo number 1036 is done\n",
      "faceon has failed, trying backup\n"
     ]
    },
    {
     "name": "stderr",
     "output_type": "stream",
     "text": [
      "pynbody.analysis.profile : Profile v_circ -- this routine assumes the disk is in the x-y plane\n"
     ]
    },
    {
     "name": "stdout",
     "output_type": "stream",
     "text": [
      "halo number 1037 is done\n",
      "faceon has failed, trying backup\n"
     ]
    },
    {
     "name": "stderr",
     "output_type": "stream",
     "text": [
      "pynbody.analysis.profile : Profile v_circ -- this routine assumes the disk is in the x-y plane\n"
     ]
    },
    {
     "name": "stdout",
     "output_type": "stream",
     "text": [
      "halo number 1038 is done\n",
      "faceon has failed, trying backup\n"
     ]
    },
    {
     "name": "stderr",
     "output_type": "stream",
     "text": [
      "pynbody.analysis.profile : Profile v_circ -- this routine assumes the disk is in the x-y plane\n"
     ]
    },
    {
     "name": "stdout",
     "output_type": "stream",
     "text": [
      "halo number 1039 is done\n",
      "faceon has failed, trying backup\n"
     ]
    },
    {
     "name": "stderr",
     "output_type": "stream",
     "text": [
      "pynbody.analysis.profile : Profile v_circ -- this routine assumes the disk is in the x-y plane\n"
     ]
    },
    {
     "name": "stdout",
     "output_type": "stream",
     "text": [
      "halo number 1040 is done\n",
      "faceon has failed, trying backup\n"
     ]
    },
    {
     "name": "stderr",
     "output_type": "stream",
     "text": [
      "pynbody.analysis.profile : Profile v_circ -- this routine assumes the disk is in the x-y plane\n"
     ]
    },
    {
     "name": "stdout",
     "output_type": "stream",
     "text": [
      "halo number 1041 is done\n",
      "faceon has failed, trying backup\n"
     ]
    },
    {
     "name": "stderr",
     "output_type": "stream",
     "text": [
      "pynbody.analysis.profile : Profile v_circ -- this routine assumes the disk is in the x-y plane\n"
     ]
    },
    {
     "name": "stdout",
     "output_type": "stream",
     "text": [
      "halo number 1042 is done\n",
      "faceon has failed, trying backup\n"
     ]
    },
    {
     "name": "stderr",
     "output_type": "stream",
     "text": [
      "pynbody.analysis.profile : Profile v_circ -- this routine assumes the disk is in the x-y plane\n"
     ]
    },
    {
     "name": "stdout",
     "output_type": "stream",
     "text": [
      "halo number 1043 is done\n",
      "faceon has failed, trying backup\n"
     ]
    },
    {
     "name": "stderr",
     "output_type": "stream",
     "text": [
      "pynbody.analysis.profile : Profile v_circ -- this routine assumes the disk is in the x-y plane\n"
     ]
    },
    {
     "name": "stdout",
     "output_type": "stream",
     "text": [
      "halo number 1044 is done\n",
      "faceon has failed, trying backup\n"
     ]
    },
    {
     "name": "stderr",
     "output_type": "stream",
     "text": [
      "pynbody.analysis.profile : Profile v_circ -- this routine assumes the disk is in the x-y plane\n"
     ]
    },
    {
     "name": "stdout",
     "output_type": "stream",
     "text": [
      "halo number 1045 is done\n",
      "faceon has failed, trying backup\n"
     ]
    },
    {
     "name": "stderr",
     "output_type": "stream",
     "text": [
      "pynbody.analysis.profile : Profile v_circ -- this routine assumes the disk is in the x-y plane\n"
     ]
    },
    {
     "name": "stdout",
     "output_type": "stream",
     "text": [
      "halo number 1046 is done\n",
      "faceon has failed, trying backup\n"
     ]
    },
    {
     "name": "stderr",
     "output_type": "stream",
     "text": [
      "pynbody.analysis.profile : Profile v_circ -- this routine assumes the disk is in the x-y plane\n"
     ]
    },
    {
     "name": "stdout",
     "output_type": "stream",
     "text": [
      "halo number 1047 is done\n",
      "faceon has failed, trying backup\n"
     ]
    },
    {
     "name": "stderr",
     "output_type": "stream",
     "text": [
      "pynbody.analysis.profile : Profile v_circ -- this routine assumes the disk is in the x-y plane\n"
     ]
    },
    {
     "name": "stdout",
     "output_type": "stream",
     "text": [
      "halo number 1048 is done\n",
      "faceon has failed, trying backup\n"
     ]
    },
    {
     "name": "stderr",
     "output_type": "stream",
     "text": [
      "pynbody.analysis.profile : Profile v_circ -- this routine assumes the disk is in the x-y plane\n"
     ]
    },
    {
     "name": "stdout",
     "output_type": "stream",
     "text": [
      "halo number 1049 is done\n",
      "faceon has failed, trying backup\n"
     ]
    },
    {
     "name": "stderr",
     "output_type": "stream",
     "text": [
      "pynbody.analysis.profile : Profile v_circ -- this routine assumes the disk is in the x-y plane\n"
     ]
    },
    {
     "name": "stdout",
     "output_type": "stream",
     "text": [
      "halo number 1050 is done\n",
      "faceon has failed, trying backup\n"
     ]
    },
    {
     "name": "stderr",
     "output_type": "stream",
     "text": [
      "pynbody.analysis.profile : Profile v_circ -- this routine assumes the disk is in the x-y plane\n"
     ]
    },
    {
     "name": "stdout",
     "output_type": "stream",
     "text": [
      "halo number 1051 is done\n",
      "faceon has failed, trying backup\n"
     ]
    },
    {
     "name": "stderr",
     "output_type": "stream",
     "text": [
      "pynbody.analysis.profile : Profile v_circ -- this routine assumes the disk is in the x-y plane\n"
     ]
    },
    {
     "name": "stdout",
     "output_type": "stream",
     "text": [
      "halo number 1052 is done\n",
      "faceon has failed, trying backup\n"
     ]
    },
    {
     "name": "stderr",
     "output_type": "stream",
     "text": [
      "pynbody.analysis.profile : Profile v_circ -- this routine assumes the disk is in the x-y plane\n"
     ]
    },
    {
     "name": "stdout",
     "output_type": "stream",
     "text": [
      "halo number 1053 is done\n",
      "faceon has failed, trying backup\n"
     ]
    },
    {
     "name": "stderr",
     "output_type": "stream",
     "text": [
      "pynbody.analysis.profile : Profile v_circ -- this routine assumes the disk is in the x-y plane\n"
     ]
    },
    {
     "name": "stdout",
     "output_type": "stream",
     "text": [
      "halo number 1054 is done\n",
      "faceon has failed, trying backup\n"
     ]
    },
    {
     "name": "stderr",
     "output_type": "stream",
     "text": [
      "pynbody.analysis.profile : Profile v_circ -- this routine assumes the disk is in the x-y plane\n"
     ]
    },
    {
     "name": "stdout",
     "output_type": "stream",
     "text": [
      "halo number 1055 is done\n",
      "faceon has failed, trying backup\n"
     ]
    },
    {
     "name": "stderr",
     "output_type": "stream",
     "text": [
      "pynbody.analysis.profile : Profile v_circ -- this routine assumes the disk is in the x-y plane\n"
     ]
    },
    {
     "name": "stdout",
     "output_type": "stream",
     "text": [
      "halo number 1056 is done\n",
      "faceon has failed, trying backup\n"
     ]
    },
    {
     "name": "stderr",
     "output_type": "stream",
     "text": [
      "pynbody.analysis.profile : Profile v_circ -- this routine assumes the disk is in the x-y plane\n"
     ]
    },
    {
     "name": "stdout",
     "output_type": "stream",
     "text": [
      "halo number 1057 is done\n",
      "faceon has failed, trying backup\n"
     ]
    },
    {
     "name": "stderr",
     "output_type": "stream",
     "text": [
      "pynbody.analysis.profile : Profile v_circ -- this routine assumes the disk is in the x-y plane\n"
     ]
    },
    {
     "name": "stdout",
     "output_type": "stream",
     "text": [
      "halo number 1058 is done\n",
      "faceon has failed, trying backup\n"
     ]
    },
    {
     "name": "stderr",
     "output_type": "stream",
     "text": [
      "pynbody.analysis.profile : Profile v_circ -- this routine assumes the disk is in the x-y plane\n"
     ]
    },
    {
     "name": "stdout",
     "output_type": "stream",
     "text": [
      "halo number 1059 is done\n",
      "faceon has failed, trying backup\n"
     ]
    },
    {
     "name": "stderr",
     "output_type": "stream",
     "text": [
      "pynbody.analysis.profile : Profile v_circ -- this routine assumes the disk is in the x-y plane\n"
     ]
    },
    {
     "name": "stdout",
     "output_type": "stream",
     "text": [
      "halo number 1060 is done\n",
      "faceon has failed, trying backup\n"
     ]
    },
    {
     "name": "stderr",
     "output_type": "stream",
     "text": [
      "pynbody.analysis.profile : Profile v_circ -- this routine assumes the disk is in the x-y plane\n"
     ]
    },
    {
     "name": "stdout",
     "output_type": "stream",
     "text": [
      "halo number 1061 is done\n",
      "faceon has failed, trying backup\n"
     ]
    },
    {
     "name": "stderr",
     "output_type": "stream",
     "text": [
      "pynbody.analysis.profile : Profile v_circ -- this routine assumes the disk is in the x-y plane\n"
     ]
    },
    {
     "name": "stdout",
     "output_type": "stream",
     "text": [
      "halo number 1062 is done\n",
      "faceon has failed, trying backup\n"
     ]
    },
    {
     "name": "stderr",
     "output_type": "stream",
     "text": [
      "pynbody.analysis.profile : Profile v_circ -- this routine assumes the disk is in the x-y plane\n"
     ]
    },
    {
     "name": "stdout",
     "output_type": "stream",
     "text": [
      "halo number 1063 is done\n",
      "faceon has failed, trying backup\n"
     ]
    },
    {
     "name": "stderr",
     "output_type": "stream",
     "text": [
      "pynbody.analysis.profile : Profile v_circ -- this routine assumes the disk is in the x-y plane\n"
     ]
    },
    {
     "name": "stdout",
     "output_type": "stream",
     "text": [
      "halo number 1064 is done\n",
      "faceon has failed, trying backup\n"
     ]
    },
    {
     "name": "stderr",
     "output_type": "stream",
     "text": [
      "pynbody.analysis.profile : Profile v_circ -- this routine assumes the disk is in the x-y plane\n"
     ]
    },
    {
     "name": "stdout",
     "output_type": "stream",
     "text": [
      "halo number 1065 is done\n",
      "faceon has failed, trying backup\n"
     ]
    },
    {
     "name": "stderr",
     "output_type": "stream",
     "text": [
      "pynbody.analysis.profile : Profile v_circ -- this routine assumes the disk is in the x-y plane\n"
     ]
    },
    {
     "name": "stdout",
     "output_type": "stream",
     "text": [
      "halo number 1066 is done\n",
      "faceon has failed, trying backup\n"
     ]
    },
    {
     "name": "stderr",
     "output_type": "stream",
     "text": [
      "pynbody.analysis.profile : Profile v_circ -- this routine assumes the disk is in the x-y plane\n"
     ]
    },
    {
     "name": "stdout",
     "output_type": "stream",
     "text": [
      "halo number 1067 is done\n",
      "faceon has failed, trying backup\n"
     ]
    },
    {
     "name": "stderr",
     "output_type": "stream",
     "text": [
      "pynbody.analysis.profile : Profile v_circ -- this routine assumes the disk is in the x-y plane\n"
     ]
    },
    {
     "name": "stdout",
     "output_type": "stream",
     "text": [
      "halo number 1068 is done\n",
      "faceon has failed, trying backup\n"
     ]
    },
    {
     "name": "stderr",
     "output_type": "stream",
     "text": [
      "pynbody.analysis.profile : Profile v_circ -- this routine assumes the disk is in the x-y plane\n"
     ]
    },
    {
     "name": "stdout",
     "output_type": "stream",
     "text": [
      "halo number 1069 is done\n",
      "faceon has failed, trying backup\n"
     ]
    },
    {
     "name": "stderr",
     "output_type": "stream",
     "text": [
      "pynbody.analysis.profile : Profile v_circ -- this routine assumes the disk is in the x-y plane\n"
     ]
    },
    {
     "name": "stdout",
     "output_type": "stream",
     "text": [
      "halo number 1070 is done\n",
      "faceon has failed, trying backup\n"
     ]
    },
    {
     "name": "stderr",
     "output_type": "stream",
     "text": [
      "pynbody.analysis.profile : Profile v_circ -- this routine assumes the disk is in the x-y plane\n"
     ]
    },
    {
     "name": "stdout",
     "output_type": "stream",
     "text": [
      "halo number 1071 is done\n",
      "faceon has failed, trying backup\n"
     ]
    },
    {
     "name": "stderr",
     "output_type": "stream",
     "text": [
      "pynbody.analysis.profile : Profile v_circ -- this routine assumes the disk is in the x-y plane\n"
     ]
    },
    {
     "name": "stdout",
     "output_type": "stream",
     "text": [
      "halo number 1072 is done\n",
      "faceon has failed, trying backup\n"
     ]
    },
    {
     "name": "stderr",
     "output_type": "stream",
     "text": [
      "pynbody.analysis.profile : Profile v_circ -- this routine assumes the disk is in the x-y plane\n"
     ]
    },
    {
     "name": "stdout",
     "output_type": "stream",
     "text": [
      "halo number 1073 is done\n",
      "faceon has failed, trying backup\n"
     ]
    },
    {
     "name": "stderr",
     "output_type": "stream",
     "text": [
      "pynbody.analysis.profile : Profile v_circ -- this routine assumes the disk is in the x-y plane\n"
     ]
    },
    {
     "name": "stdout",
     "output_type": "stream",
     "text": [
      "halo number 1074 is done\n",
      "faceon has failed, trying backup\n"
     ]
    },
    {
     "name": "stderr",
     "output_type": "stream",
     "text": [
      "pynbody.analysis.profile : Profile v_circ -- this routine assumes the disk is in the x-y plane\n"
     ]
    },
    {
     "name": "stdout",
     "output_type": "stream",
     "text": [
      "halo number 1075 is done\n",
      "faceon has failed, trying backup\n"
     ]
    },
    {
     "name": "stderr",
     "output_type": "stream",
     "text": [
      "pynbody.analysis.profile : Profile v_circ -- this routine assumes the disk is in the x-y plane\n"
     ]
    },
    {
     "name": "stdout",
     "output_type": "stream",
     "text": [
      "halo number 1076 is done\n",
      "faceon has failed, trying backup\n"
     ]
    },
    {
     "name": "stderr",
     "output_type": "stream",
     "text": [
      "pynbody.analysis.profile : Profile v_circ -- this routine assumes the disk is in the x-y plane\n"
     ]
    },
    {
     "name": "stdout",
     "output_type": "stream",
     "text": [
      "halo number 1077 is done\n",
      "faceon has failed, trying backup\n"
     ]
    },
    {
     "name": "stderr",
     "output_type": "stream",
     "text": [
      "pynbody.analysis.profile : Profile v_circ -- this routine assumes the disk is in the x-y plane\n"
     ]
    },
    {
     "name": "stdout",
     "output_type": "stream",
     "text": [
      "halo number 1078 is done\n",
      "faceon has failed, trying backup\n"
     ]
    },
    {
     "name": "stderr",
     "output_type": "stream",
     "text": [
      "pynbody.analysis.profile : Profile v_circ -- this routine assumes the disk is in the x-y plane\n"
     ]
    },
    {
     "name": "stdout",
     "output_type": "stream",
     "text": [
      "halo number 1079 is done\n",
      "faceon has failed, trying backup\n"
     ]
    },
    {
     "name": "stderr",
     "output_type": "stream",
     "text": [
      "pynbody.analysis.profile : Profile v_circ -- this routine assumes the disk is in the x-y plane\n"
     ]
    },
    {
     "name": "stdout",
     "output_type": "stream",
     "text": [
      "halo number 1080 is done\n",
      "faceon has failed, trying backup\n"
     ]
    },
    {
     "name": "stderr",
     "output_type": "stream",
     "text": [
      "pynbody.analysis.profile : Profile v_circ -- this routine assumes the disk is in the x-y plane\n"
     ]
    },
    {
     "name": "stdout",
     "output_type": "stream",
     "text": [
      "halo number 1081 is done\n",
      "faceon has failed, trying backup\n"
     ]
    },
    {
     "name": "stderr",
     "output_type": "stream",
     "text": [
      "pynbody.analysis.profile : Profile v_circ -- this routine assumes the disk is in the x-y plane\n"
     ]
    },
    {
     "name": "stdout",
     "output_type": "stream",
     "text": [
      "halo number 1082 is done\n",
      "faceon has failed, trying backup\n"
     ]
    },
    {
     "name": "stderr",
     "output_type": "stream",
     "text": [
      "pynbody.analysis.profile : Profile v_circ -- this routine assumes the disk is in the x-y plane\n"
     ]
    },
    {
     "name": "stdout",
     "output_type": "stream",
     "text": [
      "halo number 1083 is done\n",
      "faceon has failed, trying backup\n"
     ]
    },
    {
     "name": "stderr",
     "output_type": "stream",
     "text": [
      "pynbody.analysis.profile : Profile v_circ -- this routine assumes the disk is in the x-y plane\n"
     ]
    },
    {
     "name": "stdout",
     "output_type": "stream",
     "text": [
      "halo number 1084 is done\n",
      "faceon has failed, trying backup\n"
     ]
    },
    {
     "name": "stderr",
     "output_type": "stream",
     "text": [
      "pynbody.analysis.profile : Profile v_circ -- this routine assumes the disk is in the x-y plane\n"
     ]
    },
    {
     "name": "stdout",
     "output_type": "stream",
     "text": [
      "halo number 1085 is done\n",
      "faceon has failed, trying backup\n"
     ]
    },
    {
     "name": "stderr",
     "output_type": "stream",
     "text": [
      "pynbody.analysis.profile : Profile v_circ -- this routine assumes the disk is in the x-y plane\n"
     ]
    },
    {
     "name": "stdout",
     "output_type": "stream",
     "text": [
      "halo number 1086 is done\n",
      "faceon has failed, trying backup\n"
     ]
    },
    {
     "name": "stderr",
     "output_type": "stream",
     "text": [
      "pynbody.analysis.profile : Profile v_circ -- this routine assumes the disk is in the x-y plane\n"
     ]
    },
    {
     "name": "stdout",
     "output_type": "stream",
     "text": [
      "halo number 1087 is done\n",
      "faceon has failed, trying backup\n"
     ]
    },
    {
     "name": "stderr",
     "output_type": "stream",
     "text": [
      "pynbody.analysis.profile : Profile v_circ -- this routine assumes the disk is in the x-y plane\n"
     ]
    },
    {
     "name": "stdout",
     "output_type": "stream",
     "text": [
      "halo number 1088 is done\n",
      "faceon has failed, trying backup\n"
     ]
    },
    {
     "name": "stderr",
     "output_type": "stream",
     "text": [
      "pynbody.analysis.profile : Profile v_circ -- this routine assumes the disk is in the x-y plane\n"
     ]
    },
    {
     "name": "stdout",
     "output_type": "stream",
     "text": [
      "halo number 1089 is done\n",
      "faceon has failed, trying backup\n"
     ]
    },
    {
     "name": "stderr",
     "output_type": "stream",
     "text": [
      "pynbody.analysis.profile : Profile v_circ -- this routine assumes the disk is in the x-y plane\n"
     ]
    },
    {
     "name": "stdout",
     "output_type": "stream",
     "text": [
      "halo number 1090 is done\n",
      "faceon has failed, trying backup\n"
     ]
    },
    {
     "name": "stderr",
     "output_type": "stream",
     "text": [
      "pynbody.analysis.profile : Profile v_circ -- this routine assumes the disk is in the x-y plane\n"
     ]
    },
    {
     "name": "stdout",
     "output_type": "stream",
     "text": [
      "halo number 1091 is done\n",
      "faceon has failed, trying backup\n"
     ]
    },
    {
     "name": "stderr",
     "output_type": "stream",
     "text": [
      "pynbody.analysis.profile : Profile v_circ -- this routine assumes the disk is in the x-y plane\n"
     ]
    },
    {
     "name": "stdout",
     "output_type": "stream",
     "text": [
      "halo number 1092 is done\n",
      "faceon has failed, trying backup\n"
     ]
    },
    {
     "name": "stderr",
     "output_type": "stream",
     "text": [
      "pynbody.analysis.profile : Profile v_circ -- this routine assumes the disk is in the x-y plane\n"
     ]
    },
    {
     "name": "stdout",
     "output_type": "stream",
     "text": [
      "halo number 1093 is done\n",
      "faceon has failed, trying backup\n"
     ]
    },
    {
     "name": "stderr",
     "output_type": "stream",
     "text": [
      "pynbody.analysis.profile : Profile v_circ -- this routine assumes the disk is in the x-y plane\n"
     ]
    },
    {
     "name": "stdout",
     "output_type": "stream",
     "text": [
      "halo number 1094 is done\n",
      "faceon has failed, trying backup\n"
     ]
    },
    {
     "name": "stderr",
     "output_type": "stream",
     "text": [
      "pynbody.analysis.profile : Profile v_circ -- this routine assumes the disk is in the x-y plane\n"
     ]
    },
    {
     "name": "stdout",
     "output_type": "stream",
     "text": [
      "halo number 1095 is done\n",
      "faceon has failed, trying backup\n"
     ]
    },
    {
     "name": "stderr",
     "output_type": "stream",
     "text": [
      "pynbody.analysis.profile : Profile v_circ -- this routine assumes the disk is in the x-y plane\n"
     ]
    },
    {
     "name": "stdout",
     "output_type": "stream",
     "text": [
      "halo number 1096 is done\n",
      "faceon has failed, trying backup\n"
     ]
    },
    {
     "name": "stderr",
     "output_type": "stream",
     "text": [
      "pynbody.analysis.profile : Profile v_circ -- this routine assumes the disk is in the x-y plane\n"
     ]
    },
    {
     "name": "stdout",
     "output_type": "stream",
     "text": [
      "halo number 1097 is done\n",
      "faceon has failed, trying backup\n"
     ]
    },
    {
     "name": "stderr",
     "output_type": "stream",
     "text": [
      "pynbody.analysis.profile : Profile v_circ -- this routine assumes the disk is in the x-y plane\n"
     ]
    },
    {
     "name": "stdout",
     "output_type": "stream",
     "text": [
      "halo number 1098 is done\n",
      "faceon has failed, trying backup\n"
     ]
    },
    {
     "name": "stderr",
     "output_type": "stream",
     "text": [
      "pynbody.analysis.profile : Profile v_circ -- this routine assumes the disk is in the x-y plane\n"
     ]
    },
    {
     "name": "stdout",
     "output_type": "stream",
     "text": [
      "halo number 1099 is done\n",
      "faceon has failed, trying backup\n"
     ]
    },
    {
     "name": "stderr",
     "output_type": "stream",
     "text": [
      "pynbody.analysis.profile : Profile v_circ -- this routine assumes the disk is in the x-y plane\n"
     ]
    },
    {
     "name": "stdout",
     "output_type": "stream",
     "text": [
      "halo number 1100 is done\n",
      "faceon has failed, trying backup\n"
     ]
    },
    {
     "name": "stderr",
     "output_type": "stream",
     "text": [
      "pynbody.analysis.profile : Profile v_circ -- this routine assumes the disk is in the x-y plane\n"
     ]
    },
    {
     "name": "stdout",
     "output_type": "stream",
     "text": [
      "halo number 1101 is done\n",
      "faceon has failed, trying backup\n"
     ]
    },
    {
     "name": "stderr",
     "output_type": "stream",
     "text": [
      "pynbody.analysis.profile : Profile v_circ -- this routine assumes the disk is in the x-y plane\n"
     ]
    },
    {
     "name": "stdout",
     "output_type": "stream",
     "text": [
      "halo number 1102 is done\n",
      "faceon has failed, trying backup\n"
     ]
    },
    {
     "name": "stderr",
     "output_type": "stream",
     "text": [
      "pynbody.analysis.profile : Profile v_circ -- this routine assumes the disk is in the x-y plane\n"
     ]
    },
    {
     "name": "stdout",
     "output_type": "stream",
     "text": [
      "halo number 1103 is done\n",
      "faceon has failed, trying backup\n"
     ]
    },
    {
     "name": "stderr",
     "output_type": "stream",
     "text": [
      "pynbody.analysis.profile : Profile v_circ -- this routine assumes the disk is in the x-y plane\n"
     ]
    },
    {
     "name": "stdout",
     "output_type": "stream",
     "text": [
      "halo number 1104 is done\n",
      "faceon has failed, trying backup\n"
     ]
    },
    {
     "name": "stderr",
     "output_type": "stream",
     "text": [
      "pynbody.analysis.profile : Profile v_circ -- this routine assumes the disk is in the x-y plane\n"
     ]
    },
    {
     "name": "stdout",
     "output_type": "stream",
     "text": [
      "halo number 1105 is done\n",
      "faceon has failed, trying backup\n"
     ]
    },
    {
     "name": "stderr",
     "output_type": "stream",
     "text": [
      "pynbody.analysis.profile : Profile v_circ -- this routine assumes the disk is in the x-y plane\n"
     ]
    },
    {
     "name": "stdout",
     "output_type": "stream",
     "text": [
      "halo number 1106 is done\n",
      "faceon has failed, trying backup\n"
     ]
    },
    {
     "name": "stderr",
     "output_type": "stream",
     "text": [
      "pynbody.analysis.profile : Profile v_circ -- this routine assumes the disk is in the x-y plane\n"
     ]
    },
    {
     "name": "stdout",
     "output_type": "stream",
     "text": [
      "halo number 1107 is done\n",
      "faceon has failed, trying backup\n"
     ]
    },
    {
     "name": "stderr",
     "output_type": "stream",
     "text": [
      "pynbody.analysis.profile : Profile v_circ -- this routine assumes the disk is in the x-y plane\n"
     ]
    },
    {
     "name": "stdout",
     "output_type": "stream",
     "text": [
      "halo number 1108 is done\n",
      "faceon has failed, trying backup\n"
     ]
    },
    {
     "name": "stderr",
     "output_type": "stream",
     "text": [
      "pynbody.analysis.profile : Profile v_circ -- this routine assumes the disk is in the x-y plane\n"
     ]
    },
    {
     "name": "stdout",
     "output_type": "stream",
     "text": [
      "halo number 1109 is done\n",
      "faceon has failed, trying backup\n"
     ]
    },
    {
     "name": "stderr",
     "output_type": "stream",
     "text": [
      "pynbody.analysis.profile : Profile v_circ -- this routine assumes the disk is in the x-y plane\n"
     ]
    },
    {
     "name": "stdout",
     "output_type": "stream",
     "text": [
      "halo number 1110 is done\n",
      "faceon has failed, trying backup\n"
     ]
    },
    {
     "name": "stderr",
     "output_type": "stream",
     "text": [
      "pynbody.analysis.profile : Profile v_circ -- this routine assumes the disk is in the x-y plane\n"
     ]
    },
    {
     "name": "stdout",
     "output_type": "stream",
     "text": [
      "halo number 1111 is done\n",
      "faceon has failed, trying backup\n"
     ]
    },
    {
     "name": "stderr",
     "output_type": "stream",
     "text": [
      "pynbody.analysis.profile : Profile v_circ -- this routine assumes the disk is in the x-y plane\n"
     ]
    },
    {
     "name": "stdout",
     "output_type": "stream",
     "text": [
      "halo number 1112 is done\n",
      "faceon has failed, trying backup\n"
     ]
    },
    {
     "name": "stderr",
     "output_type": "stream",
     "text": [
      "pynbody.analysis.profile : Profile v_circ -- this routine assumes the disk is in the x-y plane\n"
     ]
    },
    {
     "name": "stdout",
     "output_type": "stream",
     "text": [
      "halo number 1113 is done\n",
      "faceon has failed, trying backup\n"
     ]
    },
    {
     "name": "stderr",
     "output_type": "stream",
     "text": [
      "pynbody.analysis.profile : Profile v_circ -- this routine assumes the disk is in the x-y plane\n"
     ]
    },
    {
     "name": "stdout",
     "output_type": "stream",
     "text": [
      "halo number 1114 is done\n"
     ]
    },
    {
     "name": "stderr",
     "output_type": "stream",
     "text": [
      "pynbody.analysis.profile : Profile v_circ -- this routine assumes the disk is in the x-y plane\n"
     ]
    },
    {
     "name": "stdout",
     "output_type": "stream",
     "text": [
      "halo number 1115 is done\n",
      "faceon has failed, trying backup\n"
     ]
    },
    {
     "name": "stderr",
     "output_type": "stream",
     "text": [
      "pynbody.analysis.profile : Profile v_circ -- this routine assumes the disk is in the x-y plane\n"
     ]
    },
    {
     "name": "stdout",
     "output_type": "stream",
     "text": [
      "halo number 1116 is done\n",
      "faceon has failed, trying backup\n"
     ]
    },
    {
     "name": "stderr",
     "output_type": "stream",
     "text": [
      "pynbody.analysis.profile : Profile v_circ -- this routine assumes the disk is in the x-y plane\n"
     ]
    },
    {
     "name": "stdout",
     "output_type": "stream",
     "text": [
      "halo number 1117 is done\n",
      "faceon has failed, trying backup\n"
     ]
    },
    {
     "name": "stderr",
     "output_type": "stream",
     "text": [
      "pynbody.analysis.profile : Profile v_circ -- this routine assumes the disk is in the x-y plane\n"
     ]
    },
    {
     "name": "stdout",
     "output_type": "stream",
     "text": [
      "halo number 1118 is done\n",
      "faceon has failed, trying backup\n"
     ]
    },
    {
     "name": "stderr",
     "output_type": "stream",
     "text": [
      "pynbody.analysis.profile : Profile v_circ -- this routine assumes the disk is in the x-y plane\n"
     ]
    },
    {
     "name": "stdout",
     "output_type": "stream",
     "text": [
      "halo number 1119 is done\n",
      "faceon has failed, trying backup\n"
     ]
    },
    {
     "name": "stderr",
     "output_type": "stream",
     "text": [
      "pynbody.analysis.profile : Profile v_circ -- this routine assumes the disk is in the x-y plane\n"
     ]
    },
    {
     "name": "stdout",
     "output_type": "stream",
     "text": [
      "halo number 1120 is done\n",
      "faceon has failed, trying backup\n"
     ]
    },
    {
     "name": "stderr",
     "output_type": "stream",
     "text": [
      "pynbody.analysis.profile : Profile v_circ -- this routine assumes the disk is in the x-y plane\n"
     ]
    },
    {
     "name": "stdout",
     "output_type": "stream",
     "text": [
      "halo number 1121 is done\n",
      "faceon has failed, trying backup\n"
     ]
    },
    {
     "name": "stderr",
     "output_type": "stream",
     "text": [
      "pynbody.analysis.profile : Profile v_circ -- this routine assumes the disk is in the x-y plane\n"
     ]
    },
    {
     "name": "stdout",
     "output_type": "stream",
     "text": [
      "halo number 1122 is done\n",
      "faceon has failed, trying backup\n"
     ]
    },
    {
     "name": "stderr",
     "output_type": "stream",
     "text": [
      "pynbody.analysis.profile : Profile v_circ -- this routine assumes the disk is in the x-y plane\n"
     ]
    },
    {
     "name": "stdout",
     "output_type": "stream",
     "text": [
      "halo number 1123 is done\n",
      "faceon has failed, trying backup\n"
     ]
    },
    {
     "name": "stderr",
     "output_type": "stream",
     "text": [
      "pynbody.analysis.profile : Profile v_circ -- this routine assumes the disk is in the x-y plane\n"
     ]
    },
    {
     "name": "stdout",
     "output_type": "stream",
     "text": [
      "halo number 1124 is done\n",
      "faceon has failed, trying backup\n"
     ]
    },
    {
     "name": "stderr",
     "output_type": "stream",
     "text": [
      "pynbody.analysis.profile : Profile v_circ -- this routine assumes the disk is in the x-y plane\n"
     ]
    },
    {
     "name": "stdout",
     "output_type": "stream",
     "text": [
      "halo number 1125 is done\n",
      "faceon has failed, trying backup\n"
     ]
    },
    {
     "name": "stderr",
     "output_type": "stream",
     "text": [
      "pynbody.analysis.profile : Profile v_circ -- this routine assumes the disk is in the x-y plane\n"
     ]
    },
    {
     "name": "stdout",
     "output_type": "stream",
     "text": [
      "halo number 1126 is done\n",
      "faceon has failed, trying backup\n"
     ]
    },
    {
     "name": "stderr",
     "output_type": "stream",
     "text": [
      "pynbody.analysis.profile : Profile v_circ -- this routine assumes the disk is in the x-y plane\n"
     ]
    },
    {
     "name": "stdout",
     "output_type": "stream",
     "text": [
      "halo number 1127 is done\n",
      "faceon has failed, trying backup\n"
     ]
    },
    {
     "name": "stderr",
     "output_type": "stream",
     "text": [
      "pynbody.analysis.profile : Profile v_circ -- this routine assumes the disk is in the x-y plane\n"
     ]
    },
    {
     "name": "stdout",
     "output_type": "stream",
     "text": [
      "halo number 1128 is done\n",
      "faceon has failed, trying backup\n"
     ]
    },
    {
     "name": "stderr",
     "output_type": "stream",
     "text": [
      "pynbody.analysis.profile : Profile v_circ -- this routine assumes the disk is in the x-y plane\n"
     ]
    },
    {
     "name": "stdout",
     "output_type": "stream",
     "text": [
      "halo number 1129 is done\n",
      "faceon has failed, trying backup\n"
     ]
    },
    {
     "name": "stderr",
     "output_type": "stream",
     "text": [
      "pynbody.analysis.profile : Profile v_circ -- this routine assumes the disk is in the x-y plane\n"
     ]
    },
    {
     "name": "stdout",
     "output_type": "stream",
     "text": [
      "halo number 1130 is done\n",
      "faceon has failed, trying backup\n"
     ]
    },
    {
     "name": "stderr",
     "output_type": "stream",
     "text": [
      "pynbody.analysis.profile : Profile v_circ -- this routine assumes the disk is in the x-y plane\n"
     ]
    },
    {
     "name": "stdout",
     "output_type": "stream",
     "text": [
      "halo number 1131 is done\n",
      "faceon has failed, trying backup\n"
     ]
    },
    {
     "name": "stderr",
     "output_type": "stream",
     "text": [
      "pynbody.analysis.profile : Profile v_circ -- this routine assumes the disk is in the x-y plane\n"
     ]
    },
    {
     "name": "stdout",
     "output_type": "stream",
     "text": [
      "halo number 1132 is done\n",
      "faceon has failed, trying backup\n"
     ]
    },
    {
     "name": "stderr",
     "output_type": "stream",
     "text": [
      "pynbody.analysis.profile : Profile v_circ -- this routine assumes the disk is in the x-y plane\n"
     ]
    },
    {
     "name": "stdout",
     "output_type": "stream",
     "text": [
      "halo number 1133 is done\n",
      "faceon has failed, trying backup\n"
     ]
    },
    {
     "name": "stderr",
     "output_type": "stream",
     "text": [
      "pynbody.analysis.profile : Profile v_circ -- this routine assumes the disk is in the x-y plane\n"
     ]
    },
    {
     "name": "stdout",
     "output_type": "stream",
     "text": [
      "halo number 1134 is done\n",
      "faceon has failed, trying backup\n"
     ]
    },
    {
     "name": "stderr",
     "output_type": "stream",
     "text": [
      "pynbody.analysis.profile : Profile v_circ -- this routine assumes the disk is in the x-y plane\n"
     ]
    },
    {
     "name": "stdout",
     "output_type": "stream",
     "text": [
      "halo number 1135 is done\n",
      "faceon has failed, trying backup\n"
     ]
    },
    {
     "name": "stderr",
     "output_type": "stream",
     "text": [
      "pynbody.analysis.profile : Profile v_circ -- this routine assumes the disk is in the x-y plane\n"
     ]
    },
    {
     "name": "stdout",
     "output_type": "stream",
     "text": [
      "halo number 1136 is done\n",
      "faceon has failed, trying backup\n"
     ]
    },
    {
     "name": "stderr",
     "output_type": "stream",
     "text": [
      "pynbody.analysis.profile : Profile v_circ -- this routine assumes the disk is in the x-y plane\n"
     ]
    },
    {
     "name": "stdout",
     "output_type": "stream",
     "text": [
      "halo number 1137 is done\n",
      "faceon has failed, trying backup\n"
     ]
    },
    {
     "name": "stderr",
     "output_type": "stream",
     "text": [
      "pynbody.analysis.profile : Profile v_circ -- this routine assumes the disk is in the x-y plane\n"
     ]
    },
    {
     "name": "stdout",
     "output_type": "stream",
     "text": [
      "halo number 1138 is done\n",
      "faceon has failed, trying backup\n"
     ]
    },
    {
     "name": "stderr",
     "output_type": "stream",
     "text": [
      "pynbody.analysis.profile : Profile v_circ -- this routine assumes the disk is in the x-y plane\n"
     ]
    },
    {
     "name": "stdout",
     "output_type": "stream",
     "text": [
      "halo number 1139 is done\n",
      "faceon has failed, trying backup\n"
     ]
    },
    {
     "name": "stderr",
     "output_type": "stream",
     "text": [
      "pynbody.analysis.profile : Profile v_circ -- this routine assumes the disk is in the x-y plane\n"
     ]
    },
    {
     "name": "stdout",
     "output_type": "stream",
     "text": [
      "halo number 1140 is done\n",
      "faceon has failed, trying backup\n"
     ]
    },
    {
     "name": "stderr",
     "output_type": "stream",
     "text": [
      "pynbody.analysis.profile : Profile v_circ -- this routine assumes the disk is in the x-y plane\n"
     ]
    },
    {
     "name": "stdout",
     "output_type": "stream",
     "text": [
      "halo number 1141 is done\n",
      "faceon has failed, trying backup\n"
     ]
    },
    {
     "name": "stderr",
     "output_type": "stream",
     "text": [
      "pynbody.analysis.profile : Profile v_circ -- this routine assumes the disk is in the x-y plane\n"
     ]
    },
    {
     "name": "stdout",
     "output_type": "stream",
     "text": [
      "halo number 1142 is done\n",
      "faceon has failed, trying backup\n"
     ]
    },
    {
     "name": "stderr",
     "output_type": "stream",
     "text": [
      "pynbody.analysis.profile : Profile v_circ -- this routine assumes the disk is in the x-y plane\n"
     ]
    },
    {
     "name": "stdout",
     "output_type": "stream",
     "text": [
      "halo number 1143 is done\n",
      "faceon has failed, trying backup\n"
     ]
    },
    {
     "name": "stderr",
     "output_type": "stream",
     "text": [
      "pynbody.analysis.profile : Profile v_circ -- this routine assumes the disk is in the x-y plane\n"
     ]
    },
    {
     "name": "stdout",
     "output_type": "stream",
     "text": [
      "halo number 1144 is done\n",
      "faceon has failed, trying backup\n"
     ]
    },
    {
     "name": "stderr",
     "output_type": "stream",
     "text": [
      "pynbody.analysis.profile : Profile v_circ -- this routine assumes the disk is in the x-y plane\n"
     ]
    },
    {
     "name": "stdout",
     "output_type": "stream",
     "text": [
      "halo number 1145 is done\n",
      "faceon has failed, trying backup\n"
     ]
    },
    {
     "name": "stderr",
     "output_type": "stream",
     "text": [
      "pynbody.analysis.profile : Profile v_circ -- this routine assumes the disk is in the x-y plane\n"
     ]
    },
    {
     "name": "stdout",
     "output_type": "stream",
     "text": [
      "halo number 1146 is done\n",
      "faceon has failed, trying backup\n"
     ]
    },
    {
     "name": "stderr",
     "output_type": "stream",
     "text": [
      "pynbody.analysis.profile : Profile v_circ -- this routine assumes the disk is in the x-y plane\n"
     ]
    },
    {
     "name": "stdout",
     "output_type": "stream",
     "text": [
      "halo number 1147 is done\n",
      "faceon has failed, trying backup\n"
     ]
    },
    {
     "name": "stderr",
     "output_type": "stream",
     "text": [
      "pynbody.analysis.profile : Profile v_circ -- this routine assumes the disk is in the x-y plane\n"
     ]
    },
    {
     "name": "stdout",
     "output_type": "stream",
     "text": [
      "halo number 1148 is done\n",
      "faceon has failed, trying backup\n"
     ]
    },
    {
     "name": "stderr",
     "output_type": "stream",
     "text": [
      "pynbody.analysis.profile : Profile v_circ -- this routine assumes the disk is in the x-y plane\n"
     ]
    },
    {
     "name": "stdout",
     "output_type": "stream",
     "text": [
      "halo number 1149 is done\n",
      "faceon has failed, trying backup\n"
     ]
    },
    {
     "name": "stderr",
     "output_type": "stream",
     "text": [
      "pynbody.analysis.profile : Profile v_circ -- this routine assumes the disk is in the x-y plane\n"
     ]
    },
    {
     "name": "stdout",
     "output_type": "stream",
     "text": [
      "halo number 1150 is done\n",
      "faceon has failed, trying backup\n"
     ]
    },
    {
     "name": "stderr",
     "output_type": "stream",
     "text": [
      "pynbody.analysis.profile : Profile v_circ -- this routine assumes the disk is in the x-y plane\n"
     ]
    },
    {
     "name": "stdout",
     "output_type": "stream",
     "text": [
      "halo number 1151 is done\n",
      "faceon has failed, trying backup\n"
     ]
    },
    {
     "name": "stderr",
     "output_type": "stream",
     "text": [
      "pynbody.analysis.profile : Profile v_circ -- this routine assumes the disk is in the x-y plane\n"
     ]
    },
    {
     "name": "stdout",
     "output_type": "stream",
     "text": [
      "halo number 1152 is done\n",
      "faceon has failed, trying backup\n"
     ]
    },
    {
     "name": "stderr",
     "output_type": "stream",
     "text": [
      "pynbody.analysis.profile : Profile v_circ -- this routine assumes the disk is in the x-y plane\n"
     ]
    },
    {
     "name": "stdout",
     "output_type": "stream",
     "text": [
      "halo number 1153 is done\n",
      "faceon has failed, trying backup\n"
     ]
    },
    {
     "name": "stderr",
     "output_type": "stream",
     "text": [
      "pynbody.analysis.profile : Profile v_circ -- this routine assumes the disk is in the x-y plane\n"
     ]
    },
    {
     "name": "stdout",
     "output_type": "stream",
     "text": [
      "halo number 1154 is done\n",
      "faceon has failed, trying backup\n"
     ]
    },
    {
     "name": "stderr",
     "output_type": "stream",
     "text": [
      "pynbody.analysis.profile : Profile v_circ -- this routine assumes the disk is in the x-y plane\n"
     ]
    },
    {
     "name": "stdout",
     "output_type": "stream",
     "text": [
      "halo number 1155 is done\n",
      "faceon has failed, trying backup\n"
     ]
    },
    {
     "name": "stderr",
     "output_type": "stream",
     "text": [
      "pynbody.analysis.profile : Profile v_circ -- this routine assumes the disk is in the x-y plane\n"
     ]
    },
    {
     "name": "stdout",
     "output_type": "stream",
     "text": [
      "halo number 1156 is done\n",
      "faceon has failed, trying backup\n"
     ]
    },
    {
     "name": "stderr",
     "output_type": "stream",
     "text": [
      "pynbody.analysis.profile : Profile v_circ -- this routine assumes the disk is in the x-y plane\n"
     ]
    },
    {
     "name": "stdout",
     "output_type": "stream",
     "text": [
      "halo number 1157 is done\n",
      "faceon has failed, trying backup\n"
     ]
    },
    {
     "name": "stderr",
     "output_type": "stream",
     "text": [
      "pynbody.analysis.profile : Profile v_circ -- this routine assumes the disk is in the x-y plane\n"
     ]
    },
    {
     "name": "stdout",
     "output_type": "stream",
     "text": [
      "halo number 1158 is done\n",
      "faceon has failed, trying backup\n"
     ]
    },
    {
     "name": "stderr",
     "output_type": "stream",
     "text": [
      "pynbody.analysis.profile : Profile v_circ -- this routine assumes the disk is in the x-y plane\n"
     ]
    },
    {
     "name": "stdout",
     "output_type": "stream",
     "text": [
      "halo number 1159 is done\n",
      "faceon has failed, trying backup\n"
     ]
    },
    {
     "name": "stderr",
     "output_type": "stream",
     "text": [
      "pynbody.analysis.profile : Profile v_circ -- this routine assumes the disk is in the x-y plane\n"
     ]
    },
    {
     "name": "stdout",
     "output_type": "stream",
     "text": [
      "halo number 1160 is done\n",
      "faceon has failed, trying backup\n"
     ]
    },
    {
     "name": "stderr",
     "output_type": "stream",
     "text": [
      "pynbody.analysis.profile : Profile v_circ -- this routine assumes the disk is in the x-y plane\n"
     ]
    },
    {
     "name": "stdout",
     "output_type": "stream",
     "text": [
      "halo number 1161 is done\n",
      "faceon has failed, trying backup\n"
     ]
    },
    {
     "name": "stderr",
     "output_type": "stream",
     "text": [
      "pynbody.analysis.profile : Profile v_circ -- this routine assumes the disk is in the x-y plane\n"
     ]
    },
    {
     "name": "stdout",
     "output_type": "stream",
     "text": [
      "halo number 1162 is done\n",
      "faceon has failed, trying backup\n"
     ]
    },
    {
     "name": "stderr",
     "output_type": "stream",
     "text": [
      "pynbody.analysis.profile : Profile v_circ -- this routine assumes the disk is in the x-y plane\n"
     ]
    },
    {
     "name": "stdout",
     "output_type": "stream",
     "text": [
      "halo number 1163 is done\n",
      "faceon has failed, trying backup\n"
     ]
    },
    {
     "name": "stderr",
     "output_type": "stream",
     "text": [
      "pynbody.analysis.profile : Profile v_circ -- this routine assumes the disk is in the x-y plane\n"
     ]
    },
    {
     "name": "stdout",
     "output_type": "stream",
     "text": [
      "halo number 1164 is done\n",
      "faceon has failed, trying backup\n"
     ]
    },
    {
     "name": "stderr",
     "output_type": "stream",
     "text": [
      "pynbody.analysis.profile : Profile v_circ -- this routine assumes the disk is in the x-y plane\n"
     ]
    },
    {
     "name": "stdout",
     "output_type": "stream",
     "text": [
      "halo number 1165 is done\n",
      "faceon has failed, trying backup\n"
     ]
    },
    {
     "name": "stderr",
     "output_type": "stream",
     "text": [
      "pynbody.analysis.profile : Profile v_circ -- this routine assumes the disk is in the x-y plane\n"
     ]
    },
    {
     "name": "stdout",
     "output_type": "stream",
     "text": [
      "halo number 1166 is done\n",
      "faceon has failed, trying backup\n"
     ]
    },
    {
     "name": "stderr",
     "output_type": "stream",
     "text": [
      "pynbody.analysis.profile : Profile v_circ -- this routine assumes the disk is in the x-y plane\n"
     ]
    },
    {
     "name": "stdout",
     "output_type": "stream",
     "text": [
      "halo number 1167 is done\n",
      "faceon has failed, trying backup\n"
     ]
    },
    {
     "name": "stderr",
     "output_type": "stream",
     "text": [
      "pynbody.analysis.profile : Profile v_circ -- this routine assumes the disk is in the x-y plane\n"
     ]
    },
    {
     "name": "stdout",
     "output_type": "stream",
     "text": [
      "halo number 1168 is done\n",
      "faceon has failed, trying backup\n"
     ]
    },
    {
     "name": "stderr",
     "output_type": "stream",
     "text": [
      "pynbody.analysis.profile : Profile v_circ -- this routine assumes the disk is in the x-y plane\n"
     ]
    },
    {
     "name": "stdout",
     "output_type": "stream",
     "text": [
      "halo number 1169 is done\n",
      "faceon has failed, trying backup\n"
     ]
    },
    {
     "name": "stderr",
     "output_type": "stream",
     "text": [
      "pynbody.analysis.profile : Profile v_circ -- this routine assumes the disk is in the x-y plane\n"
     ]
    },
    {
     "name": "stdout",
     "output_type": "stream",
     "text": [
      "halo number 1170 is done\n",
      "faceon has failed, trying backup\n"
     ]
    },
    {
     "name": "stderr",
     "output_type": "stream",
     "text": [
      "pynbody.analysis.profile : Profile v_circ -- this routine assumes the disk is in the x-y plane\n"
     ]
    },
    {
     "name": "stdout",
     "output_type": "stream",
     "text": [
      "halo number 1171 is done\n",
      "faceon has failed, trying backup\n"
     ]
    },
    {
     "name": "stderr",
     "output_type": "stream",
     "text": [
      "pynbody.analysis.profile : Profile v_circ -- this routine assumes the disk is in the x-y plane\n"
     ]
    },
    {
     "name": "stdout",
     "output_type": "stream",
     "text": [
      "halo number 1172 is done\n",
      "faceon has failed, trying backup\n"
     ]
    },
    {
     "name": "stderr",
     "output_type": "stream",
     "text": [
      "pynbody.analysis.profile : Profile v_circ -- this routine assumes the disk is in the x-y plane\n"
     ]
    },
    {
     "name": "stdout",
     "output_type": "stream",
     "text": [
      "halo number 1173 is done\n",
      "faceon has failed, trying backup\n"
     ]
    },
    {
     "name": "stderr",
     "output_type": "stream",
     "text": [
      "pynbody.analysis.profile : Profile v_circ -- this routine assumes the disk is in the x-y plane\n"
     ]
    },
    {
     "name": "stdout",
     "output_type": "stream",
     "text": [
      "halo number 1174 is done\n",
      "faceon has failed, trying backup\n"
     ]
    },
    {
     "name": "stderr",
     "output_type": "stream",
     "text": [
      "pynbody.analysis.profile : Profile v_circ -- this routine assumes the disk is in the x-y plane\n"
     ]
    },
    {
     "name": "stdout",
     "output_type": "stream",
     "text": [
      "halo number 1175 is done\n",
      "faceon has failed, trying backup\n"
     ]
    },
    {
     "name": "stderr",
     "output_type": "stream",
     "text": [
      "pynbody.analysis.profile : Profile v_circ -- this routine assumes the disk is in the x-y plane\n"
     ]
    },
    {
     "name": "stdout",
     "output_type": "stream",
     "text": [
      "halo number 1176 is done\n",
      "faceon has failed, trying backup\n"
     ]
    },
    {
     "name": "stderr",
     "output_type": "stream",
     "text": [
      "pynbody.analysis.profile : Profile v_circ -- this routine assumes the disk is in the x-y plane\n"
     ]
    },
    {
     "name": "stdout",
     "output_type": "stream",
     "text": [
      "halo number 1177 is done\n",
      "faceon has failed, trying backup\n"
     ]
    },
    {
     "name": "stderr",
     "output_type": "stream",
     "text": [
      "pynbody.analysis.profile : Profile v_circ -- this routine assumes the disk is in the x-y plane\n"
     ]
    },
    {
     "name": "stdout",
     "output_type": "stream",
     "text": [
      "halo number 1178 is done\n",
      "faceon has failed, trying backup\n"
     ]
    },
    {
     "name": "stderr",
     "output_type": "stream",
     "text": [
      "pynbody.analysis.profile : Profile v_circ -- this routine assumes the disk is in the x-y plane\n"
     ]
    },
    {
     "name": "stdout",
     "output_type": "stream",
     "text": [
      "halo number 1179 is done\n",
      "faceon has failed, trying backup\n"
     ]
    },
    {
     "name": "stderr",
     "output_type": "stream",
     "text": [
      "pynbody.analysis.profile : Profile v_circ -- this routine assumes the disk is in the x-y plane\n"
     ]
    },
    {
     "name": "stdout",
     "output_type": "stream",
     "text": [
      "halo number 1180 is done\n",
      "faceon has failed, trying backup\n"
     ]
    },
    {
     "name": "stderr",
     "output_type": "stream",
     "text": [
      "pynbody.analysis.profile : Profile v_circ -- this routine assumes the disk is in the x-y plane\n"
     ]
    },
    {
     "name": "stdout",
     "output_type": "stream",
     "text": [
      "halo number 1181 is done\n",
      "faceon has failed, trying backup\n"
     ]
    },
    {
     "name": "stderr",
     "output_type": "stream",
     "text": [
      "pynbody.analysis.profile : Profile v_circ -- this routine assumes the disk is in the x-y plane\n"
     ]
    },
    {
     "name": "stdout",
     "output_type": "stream",
     "text": [
      "halo number 1182 is done\n",
      "faceon has failed, trying backup\n"
     ]
    },
    {
     "name": "stderr",
     "output_type": "stream",
     "text": [
      "pynbody.analysis.profile : Profile v_circ -- this routine assumes the disk is in the x-y plane\n"
     ]
    },
    {
     "name": "stdout",
     "output_type": "stream",
     "text": [
      "halo number 1183 is done\n",
      "faceon has failed, trying backup\n"
     ]
    },
    {
     "name": "stderr",
     "output_type": "stream",
     "text": [
      "pynbody.analysis.profile : Profile v_circ -- this routine assumes the disk is in the x-y plane\n"
     ]
    },
    {
     "name": "stdout",
     "output_type": "stream",
     "text": [
      "halo number 1184 is done\n",
      "faceon has failed, trying backup\n"
     ]
    },
    {
     "name": "stderr",
     "output_type": "stream",
     "text": [
      "pynbody.analysis.profile : Profile v_circ -- this routine assumes the disk is in the x-y plane\n"
     ]
    },
    {
     "name": "stdout",
     "output_type": "stream",
     "text": [
      "halo number 1185 is done\n",
      "faceon has failed, trying backup\n"
     ]
    },
    {
     "name": "stderr",
     "output_type": "stream",
     "text": [
      "pynbody.analysis.profile : Profile v_circ -- this routine assumes the disk is in the x-y plane\n"
     ]
    },
    {
     "name": "stdout",
     "output_type": "stream",
     "text": [
      "halo number 1186 is done\n",
      "faceon has failed, trying backup\n"
     ]
    },
    {
     "name": "stderr",
     "output_type": "stream",
     "text": [
      "pynbody.analysis.profile : Profile v_circ -- this routine assumes the disk is in the x-y plane\n"
     ]
    },
    {
     "name": "stdout",
     "output_type": "stream",
     "text": [
      "halo number 1187 is done\n",
      "faceon has failed, trying backup\n"
     ]
    },
    {
     "name": "stderr",
     "output_type": "stream",
     "text": [
      "pynbody.analysis.profile : Profile v_circ -- this routine assumes the disk is in the x-y plane\n"
     ]
    },
    {
     "name": "stdout",
     "output_type": "stream",
     "text": [
      "halo number 1188 is done\n",
      "faceon has failed, trying backup\n"
     ]
    },
    {
     "name": "stderr",
     "output_type": "stream",
     "text": [
      "pynbody.analysis.profile : Profile v_circ -- this routine assumes the disk is in the x-y plane\n"
     ]
    },
    {
     "name": "stdout",
     "output_type": "stream",
     "text": [
      "halo number 1189 is done\n",
      "faceon has failed, trying backup\n"
     ]
    },
    {
     "name": "stderr",
     "output_type": "stream",
     "text": [
      "pynbody.analysis.profile : Profile v_circ -- this routine assumes the disk is in the x-y plane\n"
     ]
    },
    {
     "name": "stdout",
     "output_type": "stream",
     "text": [
      "halo number 1190 is done\n",
      "faceon has failed, trying backup\n"
     ]
    },
    {
     "name": "stderr",
     "output_type": "stream",
     "text": [
      "pynbody.analysis.profile : Profile v_circ -- this routine assumes the disk is in the x-y plane\n"
     ]
    },
    {
     "name": "stdout",
     "output_type": "stream",
     "text": [
      "halo number 1191 is done\n",
      "faceon has failed, trying backup\n"
     ]
    },
    {
     "name": "stderr",
     "output_type": "stream",
     "text": [
      "pynbody.analysis.profile : Profile v_circ -- this routine assumes the disk is in the x-y plane\n"
     ]
    },
    {
     "name": "stdout",
     "output_type": "stream",
     "text": [
      "halo number 1192 is done\n",
      "faceon has failed, trying backup\n"
     ]
    },
    {
     "name": "stderr",
     "output_type": "stream",
     "text": [
      "pynbody.analysis.profile : Profile v_circ -- this routine assumes the disk is in the x-y plane\n"
     ]
    },
    {
     "name": "stdout",
     "output_type": "stream",
     "text": [
      "halo number 1193 is done\n",
      "faceon has failed, trying backup\n"
     ]
    },
    {
     "name": "stderr",
     "output_type": "stream",
     "text": [
      "pynbody.analysis.profile : Profile v_circ -- this routine assumes the disk is in the x-y plane\n"
     ]
    },
    {
     "name": "stdout",
     "output_type": "stream",
     "text": [
      "halo number 1194 is done\n",
      "faceon has failed, trying backup\n"
     ]
    },
    {
     "name": "stderr",
     "output_type": "stream",
     "text": [
      "pynbody.analysis.profile : Profile v_circ -- this routine assumes the disk is in the x-y plane\n"
     ]
    },
    {
     "name": "stdout",
     "output_type": "stream",
     "text": [
      "halo number 1195 is done\n",
      "faceon has failed, trying backup\n"
     ]
    },
    {
     "name": "stderr",
     "output_type": "stream",
     "text": [
      "pynbody.analysis.profile : Profile v_circ -- this routine assumes the disk is in the x-y plane\n"
     ]
    },
    {
     "name": "stdout",
     "output_type": "stream",
     "text": [
      "halo number 1196 is done\n",
      "faceon has failed, trying backup\n"
     ]
    },
    {
     "name": "stderr",
     "output_type": "stream",
     "text": [
      "pynbody.analysis.profile : Profile v_circ -- this routine assumes the disk is in the x-y plane\n"
     ]
    },
    {
     "name": "stdout",
     "output_type": "stream",
     "text": [
      "halo number 1197 is done\n",
      "faceon has failed, trying backup\n"
     ]
    },
    {
     "name": "stderr",
     "output_type": "stream",
     "text": [
      "pynbody.analysis.profile : Profile v_circ -- this routine assumes the disk is in the x-y plane\n"
     ]
    },
    {
     "name": "stdout",
     "output_type": "stream",
     "text": [
      "halo number 1198 is done\n",
      "faceon has failed, trying backup\n"
     ]
    },
    {
     "name": "stderr",
     "output_type": "stream",
     "text": [
      "pynbody.analysis.profile : Profile v_circ -- this routine assumes the disk is in the x-y plane\n"
     ]
    },
    {
     "name": "stdout",
     "output_type": "stream",
     "text": [
      "halo number 1199 is done\n",
      "faceon has failed, trying backup\n"
     ]
    },
    {
     "name": "stderr",
     "output_type": "stream",
     "text": [
      "pynbody.analysis.profile : Profile v_circ -- this routine assumes the disk is in the x-y plane\n"
     ]
    },
    {
     "name": "stdout",
     "output_type": "stream",
     "text": [
      "halo number 1200 is done\n",
      "faceon has failed, trying backup\n"
     ]
    },
    {
     "name": "stderr",
     "output_type": "stream",
     "text": [
      "pynbody.analysis.profile : Profile v_circ -- this routine assumes the disk is in the x-y plane\n"
     ]
    },
    {
     "name": "stdout",
     "output_type": "stream",
     "text": [
      "halo number 1201 is done\n",
      "faceon has failed, trying backup\n"
     ]
    },
    {
     "name": "stderr",
     "output_type": "stream",
     "text": [
      "pynbody.analysis.profile : Profile v_circ -- this routine assumes the disk is in the x-y plane\n"
     ]
    },
    {
     "name": "stdout",
     "output_type": "stream",
     "text": [
      "halo number 1202 is done\n",
      "faceon has failed, trying backup\n"
     ]
    },
    {
     "name": "stderr",
     "output_type": "stream",
     "text": [
      "pynbody.analysis.profile : Profile v_circ -- this routine assumes the disk is in the x-y plane\n"
     ]
    },
    {
     "name": "stdout",
     "output_type": "stream",
     "text": [
      "halo number 1203 is done\n",
      "faceon has failed, trying backup\n"
     ]
    },
    {
     "name": "stderr",
     "output_type": "stream",
     "text": [
      "pynbody.analysis.profile : Profile v_circ -- this routine assumes the disk is in the x-y plane\n"
     ]
    },
    {
     "name": "stdout",
     "output_type": "stream",
     "text": [
      "halo number 1204 is done\n",
      "faceon has failed, trying backup\n"
     ]
    },
    {
     "name": "stderr",
     "output_type": "stream",
     "text": [
      "pynbody.analysis.profile : Profile v_circ -- this routine assumes the disk is in the x-y plane\n"
     ]
    },
    {
     "name": "stdout",
     "output_type": "stream",
     "text": [
      "halo number 1205 is done\n",
      "faceon has failed, trying backup\n"
     ]
    },
    {
     "name": "stderr",
     "output_type": "stream",
     "text": [
      "pynbody.analysis.profile : Profile v_circ -- this routine assumes the disk is in the x-y plane\n"
     ]
    },
    {
     "name": "stdout",
     "output_type": "stream",
     "text": [
      "halo number 1206 is done\n",
      "faceon has failed, trying backup\n"
     ]
    },
    {
     "name": "stderr",
     "output_type": "stream",
     "text": [
      "pynbody.analysis.profile : Profile v_circ -- this routine assumes the disk is in the x-y plane\n"
     ]
    },
    {
     "name": "stdout",
     "output_type": "stream",
     "text": [
      "halo number 1207 is done\n",
      "faceon has failed, trying backup\n"
     ]
    },
    {
     "name": "stderr",
     "output_type": "stream",
     "text": [
      "pynbody.analysis.profile : Profile v_circ -- this routine assumes the disk is in the x-y plane\n"
     ]
    },
    {
     "name": "stdout",
     "output_type": "stream",
     "text": [
      "halo number 1208 is done\n",
      "faceon has failed, trying backup\n"
     ]
    },
    {
     "name": "stderr",
     "output_type": "stream",
     "text": [
      "pynbody.analysis.profile : Profile v_circ -- this routine assumes the disk is in the x-y plane\n"
     ]
    },
    {
     "name": "stdout",
     "output_type": "stream",
     "text": [
      "halo number 1209 is done\n",
      "faceon has failed, trying backup\n"
     ]
    },
    {
     "name": "stderr",
     "output_type": "stream",
     "text": [
      "pynbody.analysis.profile : Profile v_circ -- this routine assumes the disk is in the x-y plane\n"
     ]
    },
    {
     "name": "stdout",
     "output_type": "stream",
     "text": [
      "halo number 1210 is done\n",
      "faceon has failed, trying backup\n"
     ]
    },
    {
     "name": "stderr",
     "output_type": "stream",
     "text": [
      "pynbody.analysis.profile : Profile v_circ -- this routine assumes the disk is in the x-y plane\n"
     ]
    },
    {
     "name": "stdout",
     "output_type": "stream",
     "text": [
      "halo number 1211 is done\n",
      "faceon has failed, trying backup\n"
     ]
    },
    {
     "name": "stderr",
     "output_type": "stream",
     "text": [
      "pynbody.analysis.profile : Profile v_circ -- this routine assumes the disk is in the x-y plane\n"
     ]
    },
    {
     "name": "stdout",
     "output_type": "stream",
     "text": [
      "halo number 1212 is done\n",
      "faceon has failed, trying backup\n"
     ]
    },
    {
     "name": "stderr",
     "output_type": "stream",
     "text": [
      "pynbody.analysis.profile : Profile v_circ -- this routine assumes the disk is in the x-y plane\n"
     ]
    },
    {
     "name": "stdout",
     "output_type": "stream",
     "text": [
      "halo number 1213 is done\n",
      "faceon has failed, trying backup\n"
     ]
    },
    {
     "name": "stderr",
     "output_type": "stream",
     "text": [
      "pynbody.analysis.profile : Profile v_circ -- this routine assumes the disk is in the x-y plane\n"
     ]
    },
    {
     "name": "stdout",
     "output_type": "stream",
     "text": [
      "halo number 1214 is done\n",
      "faceon has failed, trying backup\n"
     ]
    },
    {
     "name": "stderr",
     "output_type": "stream",
     "text": [
      "pynbody.analysis.profile : Profile v_circ -- this routine assumes the disk is in the x-y plane\n"
     ]
    },
    {
     "name": "stdout",
     "output_type": "stream",
     "text": [
      "halo number 1215 is done\n",
      "faceon has failed, trying backup\n"
     ]
    },
    {
     "name": "stderr",
     "output_type": "stream",
     "text": [
      "pynbody.analysis.profile : Profile v_circ -- this routine assumes the disk is in the x-y plane\n"
     ]
    },
    {
     "name": "stdout",
     "output_type": "stream",
     "text": [
      "halo number 1216 is done\n",
      "faceon has failed, trying backup\n"
     ]
    },
    {
     "name": "stderr",
     "output_type": "stream",
     "text": [
      "pynbody.analysis.profile : Profile v_circ -- this routine assumes the disk is in the x-y plane\n"
     ]
    },
    {
     "name": "stdout",
     "output_type": "stream",
     "text": [
      "halo number 1217 is done\n",
      "faceon has failed, trying backup\n"
     ]
    },
    {
     "name": "stderr",
     "output_type": "stream",
     "text": [
      "pynbody.analysis.profile : Profile v_circ -- this routine assumes the disk is in the x-y plane\n"
     ]
    },
    {
     "name": "stdout",
     "output_type": "stream",
     "text": [
      "halo number 1218 is done\n",
      "faceon has failed, trying backup\n"
     ]
    },
    {
     "name": "stderr",
     "output_type": "stream",
     "text": [
      "pynbody.analysis.profile : Profile v_circ -- this routine assumes the disk is in the x-y plane\n"
     ]
    },
    {
     "name": "stdout",
     "output_type": "stream",
     "text": [
      "halo number 1219 is done\n",
      "faceon has failed, trying backup\n"
     ]
    },
    {
     "name": "stderr",
     "output_type": "stream",
     "text": [
      "pynbody.analysis.profile : Profile v_circ -- this routine assumes the disk is in the x-y plane\n"
     ]
    },
    {
     "name": "stdout",
     "output_type": "stream",
     "text": [
      "halo number 1220 is done\n",
      "faceon has failed, trying backup\n"
     ]
    },
    {
     "name": "stderr",
     "output_type": "stream",
     "text": [
      "pynbody.analysis.profile : Profile v_circ -- this routine assumes the disk is in the x-y plane\n"
     ]
    },
    {
     "name": "stdout",
     "output_type": "stream",
     "text": [
      "halo number 1221 is done\n",
      "faceon has failed, trying backup\n"
     ]
    },
    {
     "name": "stderr",
     "output_type": "stream",
     "text": [
      "pynbody.analysis.profile : Profile v_circ -- this routine assumes the disk is in the x-y plane\n"
     ]
    },
    {
     "name": "stdout",
     "output_type": "stream",
     "text": [
      "halo number 1222 is done\n",
      "faceon has failed, trying backup\n"
     ]
    },
    {
     "name": "stderr",
     "output_type": "stream",
     "text": [
      "pynbody.analysis.profile : Profile v_circ -- this routine assumes the disk is in the x-y plane\n"
     ]
    },
    {
     "name": "stdout",
     "output_type": "stream",
     "text": [
      "halo number 1223 is done\n",
      "faceon has failed, trying backup\n"
     ]
    },
    {
     "name": "stderr",
     "output_type": "stream",
     "text": [
      "pynbody.analysis.profile : Profile v_circ -- this routine assumes the disk is in the x-y plane\n"
     ]
    },
    {
     "name": "stdout",
     "output_type": "stream",
     "text": [
      "halo number 1224 is done\n",
      "faceon has failed, trying backup\n"
     ]
    },
    {
     "name": "stderr",
     "output_type": "stream",
     "text": [
      "pynbody.analysis.profile : Profile v_circ -- this routine assumes the disk is in the x-y plane\n"
     ]
    },
    {
     "name": "stdout",
     "output_type": "stream",
     "text": [
      "halo number 1225 is done\n",
      "faceon has failed, trying backup\n"
     ]
    },
    {
     "name": "stderr",
     "output_type": "stream",
     "text": [
      "pynbody.analysis.profile : Profile v_circ -- this routine assumes the disk is in the x-y plane\n"
     ]
    },
    {
     "name": "stdout",
     "output_type": "stream",
     "text": [
      "halo number 1226 is done\n",
      "faceon has failed, trying backup\n"
     ]
    },
    {
     "name": "stderr",
     "output_type": "stream",
     "text": [
      "pynbody.analysis.profile : Profile v_circ -- this routine assumes the disk is in the x-y plane\n"
     ]
    },
    {
     "name": "stdout",
     "output_type": "stream",
     "text": [
      "halo number 1227 is done\n",
      "faceon has failed, trying backup\n"
     ]
    },
    {
     "name": "stderr",
     "output_type": "stream",
     "text": [
      "pynbody.analysis.profile : Profile v_circ -- this routine assumes the disk is in the x-y plane\n"
     ]
    },
    {
     "name": "stdout",
     "output_type": "stream",
     "text": [
      "halo number 1228 is done\n",
      "faceon has failed, trying backup\n"
     ]
    },
    {
     "name": "stderr",
     "output_type": "stream",
     "text": [
      "pynbody.analysis.profile : Profile v_circ -- this routine assumes the disk is in the x-y plane\n"
     ]
    },
    {
     "name": "stdout",
     "output_type": "stream",
     "text": [
      "halo number 1229 is done\n",
      "faceon has failed, trying backup\n"
     ]
    },
    {
     "name": "stderr",
     "output_type": "stream",
     "text": [
      "pynbody.analysis.profile : Profile v_circ -- this routine assumes the disk is in the x-y plane\n"
     ]
    },
    {
     "name": "stdout",
     "output_type": "stream",
     "text": [
      "halo number 1230 is done\n",
      "faceon has failed, trying backup\n"
     ]
    },
    {
     "name": "stderr",
     "output_type": "stream",
     "text": [
      "pynbody.analysis.profile : Profile v_circ -- this routine assumes the disk is in the x-y plane\n"
     ]
    },
    {
     "name": "stdout",
     "output_type": "stream",
     "text": [
      "halo number 1231 is done\n",
      "faceon has failed, trying backup\n"
     ]
    },
    {
     "name": "stderr",
     "output_type": "stream",
     "text": [
      "pynbody.analysis.profile : Profile v_circ -- this routine assumes the disk is in the x-y plane\n"
     ]
    },
    {
     "name": "stdout",
     "output_type": "stream",
     "text": [
      "halo number 1232 is done\n",
      "faceon has failed, trying backup\n"
     ]
    },
    {
     "name": "stderr",
     "output_type": "stream",
     "text": [
      "pynbody.analysis.profile : Profile v_circ -- this routine assumes the disk is in the x-y plane\n"
     ]
    },
    {
     "name": "stdout",
     "output_type": "stream",
     "text": [
      "halo number 1233 is done\n",
      "faceon has failed, trying backup\n"
     ]
    },
    {
     "name": "stderr",
     "output_type": "stream",
     "text": [
      "pynbody.analysis.profile : Profile v_circ -- this routine assumes the disk is in the x-y plane\n"
     ]
    },
    {
     "name": "stdout",
     "output_type": "stream",
     "text": [
      "halo number 1234 is done\n",
      "faceon has failed, trying backup\n"
     ]
    },
    {
     "name": "stderr",
     "output_type": "stream",
     "text": [
      "pynbody.analysis.profile : Profile v_circ -- this routine assumes the disk is in the x-y plane\n"
     ]
    },
    {
     "name": "stdout",
     "output_type": "stream",
     "text": [
      "halo number 1235 is done\n",
      "faceon has failed, trying backup\n"
     ]
    },
    {
     "name": "stderr",
     "output_type": "stream",
     "text": [
      "pynbody.analysis.profile : Profile v_circ -- this routine assumes the disk is in the x-y plane\n"
     ]
    },
    {
     "name": "stdout",
     "output_type": "stream",
     "text": [
      "halo number 1236 is done\n",
      "faceon has failed, trying backup\n"
     ]
    },
    {
     "name": "stderr",
     "output_type": "stream",
     "text": [
      "pynbody.analysis.profile : Profile v_circ -- this routine assumes the disk is in the x-y plane\n"
     ]
    },
    {
     "name": "stdout",
     "output_type": "stream",
     "text": [
      "halo number 1237 is done\n",
      "faceon has failed, trying backup\n"
     ]
    },
    {
     "name": "stderr",
     "output_type": "stream",
     "text": [
      "pynbody.analysis.profile : Profile v_circ -- this routine assumes the disk is in the x-y plane\n"
     ]
    },
    {
     "name": "stdout",
     "output_type": "stream",
     "text": [
      "halo number 1238 is done\n",
      "faceon has failed, trying backup\n"
     ]
    },
    {
     "name": "stderr",
     "output_type": "stream",
     "text": [
      "pynbody.analysis.profile : Profile v_circ -- this routine assumes the disk is in the x-y plane\n"
     ]
    },
    {
     "name": "stdout",
     "output_type": "stream",
     "text": [
      "halo number 1239 is done\n",
      "faceon has failed, trying backup\n"
     ]
    },
    {
     "name": "stderr",
     "output_type": "stream",
     "text": [
      "pynbody.analysis.profile : Profile v_circ -- this routine assumes the disk is in the x-y plane\n"
     ]
    },
    {
     "name": "stdout",
     "output_type": "stream",
     "text": [
      "halo number 1240 is done\n",
      "faceon has failed, trying backup\n"
     ]
    },
    {
     "name": "stderr",
     "output_type": "stream",
     "text": [
      "pynbody.analysis.profile : Profile v_circ -- this routine assumes the disk is in the x-y plane\n"
     ]
    },
    {
     "name": "stdout",
     "output_type": "stream",
     "text": [
      "halo number 1241 is done\n",
      "faceon has failed, trying backup\n"
     ]
    },
    {
     "name": "stderr",
     "output_type": "stream",
     "text": [
      "pynbody.analysis.profile : Profile v_circ -- this routine assumes the disk is in the x-y plane\n"
     ]
    },
    {
     "name": "stdout",
     "output_type": "stream",
     "text": [
      "halo number 1242 is done\n",
      "faceon has failed, trying backup\n"
     ]
    },
    {
     "name": "stderr",
     "output_type": "stream",
     "text": [
      "pynbody.analysis.profile : Profile v_circ -- this routine assumes the disk is in the x-y plane\n"
     ]
    },
    {
     "name": "stdout",
     "output_type": "stream",
     "text": [
      "halo number 1243 is done\n",
      "faceon has failed, trying backup\n"
     ]
    },
    {
     "name": "stderr",
     "output_type": "stream",
     "text": [
      "pynbody.analysis.profile : Profile v_circ -- this routine assumes the disk is in the x-y plane\n"
     ]
    },
    {
     "name": "stdout",
     "output_type": "stream",
     "text": [
      "halo number 1244 is done\n",
      "faceon has failed, trying backup\n"
     ]
    },
    {
     "name": "stderr",
     "output_type": "stream",
     "text": [
      "pynbody.analysis.profile : Profile v_circ -- this routine assumes the disk is in the x-y plane\n"
     ]
    },
    {
     "name": "stdout",
     "output_type": "stream",
     "text": [
      "halo number 1245 is done\n",
      "faceon has failed, trying backup\n"
     ]
    },
    {
     "name": "stderr",
     "output_type": "stream",
     "text": [
      "pynbody.analysis.profile : Profile v_circ -- this routine assumes the disk is in the x-y plane\n"
     ]
    },
    {
     "name": "stdout",
     "output_type": "stream",
     "text": [
      "halo number 1246 is done\n",
      "faceon has failed, trying backup\n"
     ]
    },
    {
     "name": "stderr",
     "output_type": "stream",
     "text": [
      "pynbody.analysis.profile : Profile v_circ -- this routine assumes the disk is in the x-y plane\n"
     ]
    },
    {
     "name": "stdout",
     "output_type": "stream",
     "text": [
      "halo number 1247 is done\n"
     ]
    },
    {
     "name": "stderr",
     "output_type": "stream",
     "text": [
      "pynbody.analysis.profile : Profile v_circ -- this routine assumes the disk is in the x-y plane\n"
     ]
    },
    {
     "name": "stdout",
     "output_type": "stream",
     "text": [
      "faceon has failed, trying backup\n",
      "halo number 1248 is done\n"
     ]
    },
    {
     "name": "stderr",
     "output_type": "stream",
     "text": [
      "pynbody.analysis.profile : Profile v_circ -- this routine assumes the disk is in the x-y plane\n"
     ]
    },
    {
     "name": "stdout",
     "output_type": "stream",
     "text": [
      "faceon has failed, trying backup\n",
      "halo number 1249 is done\n"
     ]
    },
    {
     "name": "stderr",
     "output_type": "stream",
     "text": [
      "pynbody.analysis.profile : Profile v_circ -- this routine assumes the disk is in the x-y plane\n"
     ]
    },
    {
     "name": "stdout",
     "output_type": "stream",
     "text": [
      "faceon has failed, trying backup\n",
      "halo number 1250 is done\n"
     ]
    },
    {
     "name": "stderr",
     "output_type": "stream",
     "text": [
      "pynbody.analysis.profile : Profile v_circ -- this routine assumes the disk is in the x-y plane\n"
     ]
    },
    {
     "name": "stdout",
     "output_type": "stream",
     "text": [
      "faceon has failed, trying backup\n",
      "halo number 1251 is done\n"
     ]
    },
    {
     "name": "stderr",
     "output_type": "stream",
     "text": [
      "pynbody.analysis.profile : Profile v_circ -- this routine assumes the disk is in the x-y plane\n"
     ]
    },
    {
     "name": "stdout",
     "output_type": "stream",
     "text": [
      "faceon has failed, trying backup\n",
      "halo number 1252 is done\n"
     ]
    },
    {
     "name": "stderr",
     "output_type": "stream",
     "text": [
      "pynbody.analysis.profile : Profile v_circ -- this routine assumes the disk is in the x-y plane\n"
     ]
    },
    {
     "name": "stdout",
     "output_type": "stream",
     "text": [
      "faceon has failed, trying backup\n",
      "halo number 1253 is done\n"
     ]
    },
    {
     "name": "stderr",
     "output_type": "stream",
     "text": [
      "pynbody.analysis.profile : Profile v_circ -- this routine assumes the disk is in the x-y plane\n"
     ]
    },
    {
     "name": "stdout",
     "output_type": "stream",
     "text": [
      "faceon has failed, trying backup\n",
      "halo number 1254 is done\n"
     ]
    },
    {
     "name": "stderr",
     "output_type": "stream",
     "text": [
      "pynbody.analysis.profile : Profile v_circ -- this routine assumes the disk is in the x-y plane\n"
     ]
    },
    {
     "name": "stdout",
     "output_type": "stream",
     "text": [
      "faceon has failed, trying backup\n",
      "halo number 1255 is done\n",
      "faceon has failed, trying backup\n"
     ]
    },
    {
     "name": "stderr",
     "output_type": "stream",
     "text": [
      "pynbody.analysis.profile : Profile v_circ -- this routine assumes the disk is in the x-y plane\n"
     ]
    },
    {
     "name": "stdout",
     "output_type": "stream",
     "text": [
      "halo number 1256 is done\n",
      "faceon has failed, trying backup\n"
     ]
    },
    {
     "name": "stderr",
     "output_type": "stream",
     "text": [
      "pynbody.analysis.profile : Profile v_circ -- this routine assumes the disk is in the x-y plane\n"
     ]
    },
    {
     "name": "stdout",
     "output_type": "stream",
     "text": [
      "halo number 1257 is done\n",
      "faceon has failed, trying backup\n"
     ]
    },
    {
     "name": "stderr",
     "output_type": "stream",
     "text": [
      "pynbody.analysis.profile : Profile v_circ -- this routine assumes the disk is in the x-y plane\n"
     ]
    },
    {
     "name": "stdout",
     "output_type": "stream",
     "text": [
      "halo number 1258 is done\n",
      "faceon has failed, trying backup\n"
     ]
    },
    {
     "name": "stderr",
     "output_type": "stream",
     "text": [
      "pynbody.analysis.profile : Profile v_circ -- this routine assumes the disk is in the x-y plane\n"
     ]
    },
    {
     "name": "stdout",
     "output_type": "stream",
     "text": [
      "halo number 1259 is done\n",
      "faceon has failed, trying backup\n"
     ]
    },
    {
     "name": "stderr",
     "output_type": "stream",
     "text": [
      "pynbody.analysis.profile : Profile v_circ -- this routine assumes the disk is in the x-y plane\n"
     ]
    },
    {
     "name": "stdout",
     "output_type": "stream",
     "text": [
      "halo number 1260 is done\n"
     ]
    },
    {
     "name": "stderr",
     "output_type": "stream",
     "text": [
      "pynbody.analysis.profile : Profile v_circ -- this routine assumes the disk is in the x-y plane\n"
     ]
    },
    {
     "name": "stdout",
     "output_type": "stream",
     "text": [
      "faceon has failed, trying backup\n",
      "halo number 1261 is done\n"
     ]
    },
    {
     "name": "stderr",
     "output_type": "stream",
     "text": [
      "pynbody.analysis.profile : Profile v_circ -- this routine assumes the disk is in the x-y plane\n"
     ]
    },
    {
     "name": "stdout",
     "output_type": "stream",
     "text": [
      "faceon has failed, trying backup\n",
      "halo number 1262 is done\n",
      "faceon has failed, trying backup\n"
     ]
    },
    {
     "name": "stderr",
     "output_type": "stream",
     "text": [
      "pynbody.analysis.profile : Profile v_circ -- this routine assumes the disk is in the x-y plane\n"
     ]
    },
    {
     "name": "stdout",
     "output_type": "stream",
     "text": [
      "halo number 1263 is done\n",
      "faceon has failed, trying backup\n"
     ]
    },
    {
     "name": "stderr",
     "output_type": "stream",
     "text": [
      "pynbody.analysis.profile : Profile v_circ -- this routine assumes the disk is in the x-y plane\n"
     ]
    },
    {
     "name": "stdout",
     "output_type": "stream",
     "text": [
      "halo number 1264 is done\n",
      "faceon has failed, trying backup\n"
     ]
    },
    {
     "name": "stderr",
     "output_type": "stream",
     "text": [
      "pynbody.analysis.profile : Profile v_circ -- this routine assumes the disk is in the x-y plane\n"
     ]
    },
    {
     "name": "stdout",
     "output_type": "stream",
     "text": [
      "halo number 1265 is done\n",
      "faceon has failed, trying backup\n"
     ]
    },
    {
     "name": "stderr",
     "output_type": "stream",
     "text": [
      "pynbody.analysis.profile : Profile v_circ -- this routine assumes the disk is in the x-y plane\n"
     ]
    },
    {
     "name": "stdout",
     "output_type": "stream",
     "text": [
      "halo number 1266 is done\n",
      "faceon has failed, trying backup\n"
     ]
    },
    {
     "name": "stderr",
     "output_type": "stream",
     "text": [
      "pynbody.analysis.profile : Profile v_circ -- this routine assumes the disk is in the x-y plane\n"
     ]
    },
    {
     "name": "stdout",
     "output_type": "stream",
     "text": [
      "halo number 1267 is done\n",
      "faceon has failed, trying backup\n"
     ]
    },
    {
     "name": "stderr",
     "output_type": "stream",
     "text": [
      "pynbody.analysis.profile : Profile v_circ -- this routine assumes the disk is in the x-y plane\n"
     ]
    },
    {
     "name": "stdout",
     "output_type": "stream",
     "text": [
      "halo number 1268 is done\n",
      "faceon has failed, trying backup\n"
     ]
    },
    {
     "name": "stderr",
     "output_type": "stream",
     "text": [
      "pynbody.analysis.profile : Profile v_circ -- this routine assumes the disk is in the x-y plane\n"
     ]
    },
    {
     "name": "stdout",
     "output_type": "stream",
     "text": [
      "halo number 1269 is done\n",
      "faceon has failed, trying backup\n"
     ]
    },
    {
     "name": "stderr",
     "output_type": "stream",
     "text": [
      "pynbody.analysis.profile : Profile v_circ -- this routine assumes the disk is in the x-y plane\n"
     ]
    },
    {
     "name": "stdout",
     "output_type": "stream",
     "text": [
      "halo number 1270 is done\n",
      "faceon has failed, trying backup\n"
     ]
    },
    {
     "name": "stderr",
     "output_type": "stream",
     "text": [
      "pynbody.analysis.profile : Profile v_circ -- this routine assumes the disk is in the x-y plane\n"
     ]
    },
    {
     "name": "stdout",
     "output_type": "stream",
     "text": [
      "halo number 1271 is done\n",
      "faceon has failed, trying backup\n"
     ]
    },
    {
     "name": "stderr",
     "output_type": "stream",
     "text": [
      "pynbody.analysis.profile : Profile v_circ -- this routine assumes the disk is in the x-y plane\n"
     ]
    },
    {
     "name": "stdout",
     "output_type": "stream",
     "text": [
      "halo number 1272 is done\n",
      "faceon has failed, trying backup\n"
     ]
    },
    {
     "name": "stderr",
     "output_type": "stream",
     "text": [
      "pynbody.analysis.profile : Profile v_circ -- this routine assumes the disk is in the x-y plane\n"
     ]
    },
    {
     "name": "stdout",
     "output_type": "stream",
     "text": [
      "halo number 1273 is done\n",
      "faceon has failed, trying backup\n"
     ]
    },
    {
     "name": "stderr",
     "output_type": "stream",
     "text": [
      "pynbody.analysis.profile : Profile v_circ -- this routine assumes the disk is in the x-y plane\n"
     ]
    },
    {
     "name": "stdout",
     "output_type": "stream",
     "text": [
      "halo number 1274 is done\n"
     ]
    },
    {
     "name": "stderr",
     "output_type": "stream",
     "text": [
      "pynbody.analysis.profile : Profile v_circ -- this routine assumes the disk is in the x-y plane\n"
     ]
    },
    {
     "name": "stdout",
     "output_type": "stream",
     "text": [
      "faceon has failed, trying backup\n",
      "halo number 1275 is done\n",
      "faceon has failed, trying backup\n"
     ]
    },
    {
     "name": "stderr",
     "output_type": "stream",
     "text": [
      "pynbody.analysis.profile : Profile v_circ -- this routine assumes the disk is in the x-y plane\n"
     ]
    },
    {
     "name": "stdout",
     "output_type": "stream",
     "text": [
      "halo number 1276 is done\n",
      "faceon has failed, trying backup\n"
     ]
    },
    {
     "name": "stderr",
     "output_type": "stream",
     "text": [
      "pynbody.analysis.profile : Profile v_circ -- this routine assumes the disk is in the x-y plane\n"
     ]
    },
    {
     "name": "stdout",
     "output_type": "stream",
     "text": [
      "halo number 1277 is done\n",
      "faceon has failed, trying backup\n"
     ]
    },
    {
     "name": "stderr",
     "output_type": "stream",
     "text": [
      "pynbody.analysis.profile : Profile v_circ -- this routine assumes the disk is in the x-y plane\n"
     ]
    },
    {
     "name": "stdout",
     "output_type": "stream",
     "text": [
      "halo number 1278 is done\n",
      "faceon has failed, trying backup\n"
     ]
    },
    {
     "name": "stderr",
     "output_type": "stream",
     "text": [
      "pynbody.analysis.profile : Profile v_circ -- this routine assumes the disk is in the x-y plane\n"
     ]
    },
    {
     "name": "stdout",
     "output_type": "stream",
     "text": [
      "halo number 1279 is done\n",
      "faceon has failed, trying backup\n"
     ]
    },
    {
     "name": "stderr",
     "output_type": "stream",
     "text": [
      "pynbody.analysis.profile : Profile v_circ -- this routine assumes the disk is in the x-y plane\n"
     ]
    },
    {
     "name": "stdout",
     "output_type": "stream",
     "text": [
      "halo number 1280 is done\n",
      "faceon has failed, trying backup\n"
     ]
    },
    {
     "name": "stderr",
     "output_type": "stream",
     "text": [
      "pynbody.analysis.profile : Profile v_circ -- this routine assumes the disk is in the x-y plane\n"
     ]
    },
    {
     "name": "stdout",
     "output_type": "stream",
     "text": [
      "halo number 1281 is done\n",
      "faceon has failed, trying backup\n"
     ]
    },
    {
     "name": "stderr",
     "output_type": "stream",
     "text": [
      "pynbody.analysis.profile : Profile v_circ -- this routine assumes the disk is in the x-y plane\n"
     ]
    },
    {
     "name": "stdout",
     "output_type": "stream",
     "text": [
      "halo number 1282 is done\n",
      "faceon has failed, trying backup\n"
     ]
    },
    {
     "name": "stderr",
     "output_type": "stream",
     "text": [
      "pynbody.analysis.profile : Profile v_circ -- this routine assumes the disk is in the x-y plane\n"
     ]
    },
    {
     "name": "stdout",
     "output_type": "stream",
     "text": [
      "halo number 1283 is done\n",
      "faceon has failed, trying backup\n"
     ]
    },
    {
     "name": "stderr",
     "output_type": "stream",
     "text": [
      "pynbody.analysis.profile : Profile v_circ -- this routine assumes the disk is in the x-y plane\n"
     ]
    },
    {
     "name": "stdout",
     "output_type": "stream",
     "text": [
      "halo number 1284 is done\n",
      "faceon has failed, trying backup\n"
     ]
    },
    {
     "name": "stderr",
     "output_type": "stream",
     "text": [
      "pynbody.analysis.profile : Profile v_circ -- this routine assumes the disk is in the x-y plane\n"
     ]
    },
    {
     "name": "stdout",
     "output_type": "stream",
     "text": [
      "halo number 1285 is done\n",
      "faceon has failed, trying backup\n"
     ]
    },
    {
     "name": "stderr",
     "output_type": "stream",
     "text": [
      "pynbody.analysis.profile : Profile v_circ -- this routine assumes the disk is in the x-y plane\n"
     ]
    },
    {
     "name": "stdout",
     "output_type": "stream",
     "text": [
      "halo number 1286 is done\n",
      "faceon has failed, trying backup\n"
     ]
    },
    {
     "name": "stderr",
     "output_type": "stream",
     "text": [
      "pynbody.analysis.profile : Profile v_circ -- this routine assumes the disk is in the x-y plane\n"
     ]
    },
    {
     "name": "stdout",
     "output_type": "stream",
     "text": [
      "halo number 1287 is done\n",
      "faceon has failed, trying backup\n"
     ]
    },
    {
     "name": "stderr",
     "output_type": "stream",
     "text": [
      "pynbody.analysis.profile : Profile v_circ -- this routine assumes the disk is in the x-y plane\n"
     ]
    },
    {
     "name": "stdout",
     "output_type": "stream",
     "text": [
      "halo number 1288 is done\n",
      "faceon has failed, trying backup\n"
     ]
    },
    {
     "name": "stderr",
     "output_type": "stream",
     "text": [
      "pynbody.analysis.profile : Profile v_circ -- this routine assumes the disk is in the x-y plane\n"
     ]
    },
    {
     "name": "stdout",
     "output_type": "stream",
     "text": [
      "halo number 1289 is done\n",
      "faceon has failed, trying backup\n"
     ]
    },
    {
     "name": "stderr",
     "output_type": "stream",
     "text": [
      "pynbody.analysis.profile : Profile v_circ -- this routine assumes the disk is in the x-y plane\n"
     ]
    },
    {
     "name": "stdout",
     "output_type": "stream",
     "text": [
      "halo number 1290 is done\n",
      "faceon has failed, trying backup\n"
     ]
    },
    {
     "name": "stderr",
     "output_type": "stream",
     "text": [
      "pynbody.analysis.profile : Profile v_circ -- this routine assumes the disk is in the x-y plane\n"
     ]
    },
    {
     "name": "stdout",
     "output_type": "stream",
     "text": [
      "halo number 1291 is done\n",
      "faceon has failed, trying backup\n"
     ]
    },
    {
     "name": "stderr",
     "output_type": "stream",
     "text": [
      "pynbody.analysis.profile : Profile v_circ -- this routine assumes the disk is in the x-y plane\n"
     ]
    },
    {
     "name": "stdout",
     "output_type": "stream",
     "text": [
      "halo number 1292 is done\n",
      "faceon has failed, trying backup\n"
     ]
    },
    {
     "name": "stderr",
     "output_type": "stream",
     "text": [
      "pynbody.analysis.profile : Profile v_circ -- this routine assumes the disk is in the x-y plane\n"
     ]
    },
    {
     "name": "stdout",
     "output_type": "stream",
     "text": [
      "halo number 1293 is done\n",
      "faceon has failed, trying backup\n"
     ]
    },
    {
     "name": "stderr",
     "output_type": "stream",
     "text": [
      "pynbody.analysis.profile : Profile v_circ -- this routine assumes the disk is in the x-y plane\n"
     ]
    },
    {
     "name": "stdout",
     "output_type": "stream",
     "text": [
      "halo number 1294 is done\n",
      "faceon has failed, trying backup\n"
     ]
    },
    {
     "name": "stderr",
     "output_type": "stream",
     "text": [
      "pynbody.analysis.profile : Profile v_circ -- this routine assumes the disk is in the x-y plane\n"
     ]
    },
    {
     "name": "stdout",
     "output_type": "stream",
     "text": [
      "halo number 1295 is done\n",
      "faceon has failed, trying backup\n"
     ]
    },
    {
     "name": "stderr",
     "output_type": "stream",
     "text": [
      "pynbody.analysis.profile : Profile v_circ -- this routine assumes the disk is in the x-y plane\n"
     ]
    },
    {
     "name": "stdout",
     "output_type": "stream",
     "text": [
      "halo number 1296 is done\n",
      "faceon has failed, trying backup\n"
     ]
    },
    {
     "name": "stderr",
     "output_type": "stream",
     "text": [
      "pynbody.analysis.profile : Profile v_circ -- this routine assumes the disk is in the x-y plane\n"
     ]
    },
    {
     "name": "stdout",
     "output_type": "stream",
     "text": [
      "halo number 1297 is done\n",
      "faceon has failed, trying backup\n"
     ]
    },
    {
     "name": "stderr",
     "output_type": "stream",
     "text": [
      "pynbody.analysis.profile : Profile v_circ -- this routine assumes the disk is in the x-y plane\n"
     ]
    },
    {
     "name": "stdout",
     "output_type": "stream",
     "text": [
      "halo number 1298 is done\n",
      "faceon has failed, trying backup\n"
     ]
    },
    {
     "name": "stderr",
     "output_type": "stream",
     "text": [
      "pynbody.analysis.profile : Profile v_circ -- this routine assumes the disk is in the x-y plane\n"
     ]
    },
    {
     "name": "stdout",
     "output_type": "stream",
     "text": [
      "halo number 1299 is done\n",
      "faceon has failed, trying backup\n"
     ]
    },
    {
     "name": "stderr",
     "output_type": "stream",
     "text": [
      "pynbody.analysis.profile : Profile v_circ -- this routine assumes the disk is in the x-y plane\n"
     ]
    },
    {
     "name": "stdout",
     "output_type": "stream",
     "text": [
      "halo number 1300 is done\n",
      "faceon has failed, trying backup\n"
     ]
    },
    {
     "name": "stderr",
     "output_type": "stream",
     "text": [
      "pynbody.analysis.profile : Profile v_circ -- this routine assumes the disk is in the x-y plane\n"
     ]
    },
    {
     "name": "stdout",
     "output_type": "stream",
     "text": [
      "halo number 1301 is done\n",
      "faceon has failed, trying backup\n"
     ]
    },
    {
     "name": "stderr",
     "output_type": "stream",
     "text": [
      "pynbody.analysis.profile : Profile v_circ -- this routine assumes the disk is in the x-y plane\n"
     ]
    },
    {
     "name": "stdout",
     "output_type": "stream",
     "text": [
      "halo number 1302 is done\n",
      "faceon has failed, trying backup\n"
     ]
    },
    {
     "name": "stderr",
     "output_type": "stream",
     "text": [
      "pynbody.analysis.profile : Profile v_circ -- this routine assumes the disk is in the x-y plane\n"
     ]
    },
    {
     "name": "stdout",
     "output_type": "stream",
     "text": [
      "halo number 1303 is done\n",
      "faceon has failed, trying backup\n"
     ]
    },
    {
     "name": "stderr",
     "output_type": "stream",
     "text": [
      "pynbody.analysis.profile : Profile v_circ -- this routine assumes the disk is in the x-y plane\n"
     ]
    },
    {
     "name": "stdout",
     "output_type": "stream",
     "text": [
      "halo number 1304 is done\n",
      "faceon has failed, trying backup\n"
     ]
    },
    {
     "name": "stderr",
     "output_type": "stream",
     "text": [
      "pynbody.analysis.profile : Profile v_circ -- this routine assumes the disk is in the x-y plane\n"
     ]
    },
    {
     "name": "stdout",
     "output_type": "stream",
     "text": [
      "halo number 1305 is done\n",
      "faceon has failed, trying backup\n"
     ]
    },
    {
     "name": "stderr",
     "output_type": "stream",
     "text": [
      "pynbody.analysis.profile : Profile v_circ -- this routine assumes the disk is in the x-y plane\n"
     ]
    },
    {
     "name": "stdout",
     "output_type": "stream",
     "text": [
      "halo number 1306 is done\n",
      "faceon has failed, trying backup\n"
     ]
    },
    {
     "name": "stderr",
     "output_type": "stream",
     "text": [
      "pynbody.analysis.profile : Profile v_circ -- this routine assumes the disk is in the x-y plane\n"
     ]
    },
    {
     "name": "stdout",
     "output_type": "stream",
     "text": [
      "halo number 1307 is done\n",
      "faceon has failed, trying backup\n"
     ]
    },
    {
     "name": "stderr",
     "output_type": "stream",
     "text": [
      "pynbody.analysis.profile : Profile v_circ -- this routine assumes the disk is in the x-y plane\n"
     ]
    },
    {
     "name": "stdout",
     "output_type": "stream",
     "text": [
      "halo number 1308 is done\n",
      "faceon has failed, trying backup\n"
     ]
    },
    {
     "name": "stderr",
     "output_type": "stream",
     "text": [
      "pynbody.analysis.profile : Profile v_circ -- this routine assumes the disk is in the x-y plane\n"
     ]
    },
    {
     "name": "stdout",
     "output_type": "stream",
     "text": [
      "halo number 1309 is done\n",
      "faceon has failed, trying backup\n"
     ]
    },
    {
     "name": "stderr",
     "output_type": "stream",
     "text": [
      "pynbody.analysis.profile : Profile v_circ -- this routine assumes the disk is in the x-y plane\n"
     ]
    },
    {
     "name": "stdout",
     "output_type": "stream",
     "text": [
      "halo number 1310 is done\n",
      "faceon has failed, trying backup\n"
     ]
    },
    {
     "name": "stderr",
     "output_type": "stream",
     "text": [
      "pynbody.analysis.profile : Profile v_circ -- this routine assumes the disk is in the x-y plane\n"
     ]
    },
    {
     "name": "stdout",
     "output_type": "stream",
     "text": [
      "halo number 1311 is done\n",
      "faceon has failed, trying backup\n"
     ]
    },
    {
     "name": "stderr",
     "output_type": "stream",
     "text": [
      "pynbody.analysis.profile : Profile v_circ -- this routine assumes the disk is in the x-y plane\n"
     ]
    },
    {
     "name": "stdout",
     "output_type": "stream",
     "text": [
      "halo number 1312 is done\n",
      "faceon has failed, trying backup\n"
     ]
    },
    {
     "name": "stderr",
     "output_type": "stream",
     "text": [
      "pynbody.analysis.profile : Profile v_circ -- this routine assumes the disk is in the x-y plane\n"
     ]
    },
    {
     "name": "stdout",
     "output_type": "stream",
     "text": [
      "halo number 1313 is done\n",
      "faceon has failed, trying backup\n"
     ]
    },
    {
     "name": "stderr",
     "output_type": "stream",
     "text": [
      "pynbody.analysis.profile : Profile v_circ -- this routine assumes the disk is in the x-y plane\n"
     ]
    },
    {
     "name": "stdout",
     "output_type": "stream",
     "text": [
      "halo number 1314 is done\n",
      "faceon has failed, trying backup\n"
     ]
    },
    {
     "name": "stderr",
     "output_type": "stream",
     "text": [
      "pynbody.analysis.profile : Profile v_circ -- this routine assumes the disk is in the x-y plane\n"
     ]
    },
    {
     "name": "stdout",
     "output_type": "stream",
     "text": [
      "halo number 1315 is done\n",
      "faceon has failed, trying backup\n"
     ]
    },
    {
     "name": "stderr",
     "output_type": "stream",
     "text": [
      "pynbody.analysis.profile : Profile v_circ -- this routine assumes the disk is in the x-y plane\n"
     ]
    },
    {
     "name": "stdout",
     "output_type": "stream",
     "text": [
      "halo number 1316 is done\n",
      "faceon has failed, trying backup\n"
     ]
    },
    {
     "name": "stderr",
     "output_type": "stream",
     "text": [
      "pynbody.analysis.profile : Profile v_circ -- this routine assumes the disk is in the x-y plane\n"
     ]
    },
    {
     "name": "stdout",
     "output_type": "stream",
     "text": [
      "halo number 1317 is done\n",
      "faceon has failed, trying backup\n"
     ]
    },
    {
     "name": "stderr",
     "output_type": "stream",
     "text": [
      "pynbody.analysis.profile : Profile v_circ -- this routine assumes the disk is in the x-y plane\n"
     ]
    },
    {
     "name": "stdout",
     "output_type": "stream",
     "text": [
      "halo number 1318 is done\n",
      "faceon has failed, trying backup\n"
     ]
    },
    {
     "name": "stderr",
     "output_type": "stream",
     "text": [
      "pynbody.analysis.profile : Profile v_circ -- this routine assumes the disk is in the x-y plane\n"
     ]
    },
    {
     "name": "stdout",
     "output_type": "stream",
     "text": [
      "halo number 1319 is done\n",
      "faceon has failed, trying backup\n"
     ]
    },
    {
     "name": "stderr",
     "output_type": "stream",
     "text": [
      "pynbody.analysis.profile : Profile v_circ -- this routine assumes the disk is in the x-y plane\n"
     ]
    },
    {
     "name": "stdout",
     "output_type": "stream",
     "text": [
      "halo number 1320 is done\n",
      "faceon has failed, trying backup\n"
     ]
    },
    {
     "name": "stderr",
     "output_type": "stream",
     "text": [
      "pynbody.analysis.profile : Profile v_circ -- this routine assumes the disk is in the x-y plane\n"
     ]
    },
    {
     "name": "stdout",
     "output_type": "stream",
     "text": [
      "halo number 1321 is done\n",
      "faceon has failed, trying backup\n"
     ]
    },
    {
     "name": "stderr",
     "output_type": "stream",
     "text": [
      "pynbody.analysis.profile : Profile v_circ -- this routine assumes the disk is in the x-y plane\n"
     ]
    },
    {
     "name": "stdout",
     "output_type": "stream",
     "text": [
      "halo number 1322 is done\n",
      "faceon has failed, trying backup\n"
     ]
    },
    {
     "name": "stderr",
     "output_type": "stream",
     "text": [
      "pynbody.analysis.profile : Profile v_circ -- this routine assumes the disk is in the x-y plane\n"
     ]
    },
    {
     "name": "stdout",
     "output_type": "stream",
     "text": [
      "halo number 1323 is done\n",
      "faceon has failed, trying backup\n"
     ]
    },
    {
     "name": "stderr",
     "output_type": "stream",
     "text": [
      "pynbody.analysis.profile : Profile v_circ -- this routine assumes the disk is in the x-y plane\n"
     ]
    },
    {
     "name": "stdout",
     "output_type": "stream",
     "text": [
      "halo number 1324 is done\n",
      "faceon has failed, trying backup\n"
     ]
    },
    {
     "name": "stderr",
     "output_type": "stream",
     "text": [
      "pynbody.analysis.profile : Profile v_circ -- this routine assumes the disk is in the x-y plane\n"
     ]
    },
    {
     "name": "stdout",
     "output_type": "stream",
     "text": [
      "halo number 1325 is done\n",
      "faceon has failed, trying backup\n"
     ]
    },
    {
     "name": "stderr",
     "output_type": "stream",
     "text": [
      "pynbody.analysis.profile : Profile v_circ -- this routine assumes the disk is in the x-y plane\n"
     ]
    },
    {
     "name": "stdout",
     "output_type": "stream",
     "text": [
      "halo number 1326 is done\n",
      "faceon has failed, trying backup\n"
     ]
    },
    {
     "name": "stderr",
     "output_type": "stream",
     "text": [
      "pynbody.analysis.profile : Profile v_circ -- this routine assumes the disk is in the x-y plane\n"
     ]
    },
    {
     "name": "stdout",
     "output_type": "stream",
     "text": [
      "halo number 1327 is done\n",
      "faceon has failed, trying backup\n"
     ]
    },
    {
     "name": "stderr",
     "output_type": "stream",
     "text": [
      "pynbody.analysis.profile : Profile v_circ -- this routine assumes the disk is in the x-y plane\n"
     ]
    },
    {
     "name": "stdout",
     "output_type": "stream",
     "text": [
      "halo number 1328 is done\n",
      "faceon has failed, trying backup\n"
     ]
    },
    {
     "name": "stderr",
     "output_type": "stream",
     "text": [
      "pynbody.analysis.profile : Profile v_circ -- this routine assumes the disk is in the x-y plane\n"
     ]
    },
    {
     "name": "stdout",
     "output_type": "stream",
     "text": [
      "halo number 1329 is done\n",
      "faceon has failed, trying backup\n"
     ]
    },
    {
     "name": "stderr",
     "output_type": "stream",
     "text": [
      "pynbody.analysis.profile : Profile v_circ -- this routine assumes the disk is in the x-y plane\n"
     ]
    },
    {
     "name": "stdout",
     "output_type": "stream",
     "text": [
      "halo number 1330 is done\n",
      "faceon has failed, trying backup\n"
     ]
    },
    {
     "name": "stderr",
     "output_type": "stream",
     "text": [
      "pynbody.analysis.profile : Profile v_circ -- this routine assumes the disk is in the x-y plane\n"
     ]
    },
    {
     "name": "stdout",
     "output_type": "stream",
     "text": [
      "halo number 1331 is done\n",
      "faceon has failed, trying backup\n"
     ]
    },
    {
     "name": "stderr",
     "output_type": "stream",
     "text": [
      "pynbody.analysis.profile : Profile v_circ -- this routine assumes the disk is in the x-y plane\n"
     ]
    },
    {
     "name": "stdout",
     "output_type": "stream",
     "text": [
      "halo number 1332 is done\n",
      "faceon has failed, trying backup\n"
     ]
    },
    {
     "name": "stderr",
     "output_type": "stream",
     "text": [
      "pynbody.analysis.profile : Profile v_circ -- this routine assumes the disk is in the x-y plane\n"
     ]
    },
    {
     "name": "stdout",
     "output_type": "stream",
     "text": [
      "halo number 1333 is done\n",
      "faceon has failed, trying backup\n"
     ]
    },
    {
     "name": "stderr",
     "output_type": "stream",
     "text": [
      "pynbody.analysis.profile : Profile v_circ -- this routine assumes the disk is in the x-y plane\n"
     ]
    },
    {
     "name": "stdout",
     "output_type": "stream",
     "text": [
      "halo number 1334 is done\n",
      "faceon has failed, trying backup\n"
     ]
    },
    {
     "name": "stderr",
     "output_type": "stream",
     "text": [
      "pynbody.analysis.profile : Profile v_circ -- this routine assumes the disk is in the x-y plane\n"
     ]
    },
    {
     "name": "stdout",
     "output_type": "stream",
     "text": [
      "halo number 1335 is done\n",
      "faceon has failed, trying backup\n"
     ]
    },
    {
     "name": "stderr",
     "output_type": "stream",
     "text": [
      "pynbody.analysis.profile : Profile v_circ -- this routine assumes the disk is in the x-y plane\n"
     ]
    },
    {
     "name": "stdout",
     "output_type": "stream",
     "text": [
      "halo number 1336 is done\n",
      "faceon has failed, trying backup\n"
     ]
    },
    {
     "name": "stderr",
     "output_type": "stream",
     "text": [
      "pynbody.analysis.profile : Profile v_circ -- this routine assumes the disk is in the x-y plane\n"
     ]
    },
    {
     "name": "stdout",
     "output_type": "stream",
     "text": [
      "halo number 1337 is done\n",
      "faceon has failed, trying backup\n"
     ]
    },
    {
     "name": "stderr",
     "output_type": "stream",
     "text": [
      "pynbody.analysis.profile : Profile v_circ -- this routine assumes the disk is in the x-y plane\n"
     ]
    },
    {
     "name": "stdout",
     "output_type": "stream",
     "text": [
      "halo number 1338 is done\n",
      "faceon has failed, trying backup\n"
     ]
    },
    {
     "name": "stderr",
     "output_type": "stream",
     "text": [
      "pynbody.analysis.profile : Profile v_circ -- this routine assumes the disk is in the x-y plane\n"
     ]
    },
    {
     "name": "stdout",
     "output_type": "stream",
     "text": [
      "halo number 1339 is done\n",
      "faceon has failed, trying backup\n"
     ]
    },
    {
     "name": "stderr",
     "output_type": "stream",
     "text": [
      "pynbody.analysis.profile : Profile v_circ -- this routine assumes the disk is in the x-y plane\n"
     ]
    },
    {
     "name": "stdout",
     "output_type": "stream",
     "text": [
      "halo number 1340 is done\n",
      "faceon has failed, trying backup\n"
     ]
    },
    {
     "name": "stderr",
     "output_type": "stream",
     "text": [
      "pynbody.analysis.profile : Profile v_circ -- this routine assumes the disk is in the x-y plane\n"
     ]
    },
    {
     "name": "stdout",
     "output_type": "stream",
     "text": [
      "halo number 1341 is done\n",
      "faceon has failed, trying backup\n"
     ]
    },
    {
     "name": "stderr",
     "output_type": "stream",
     "text": [
      "pynbody.analysis.profile : Profile v_circ -- this routine assumes the disk is in the x-y plane\n"
     ]
    },
    {
     "name": "stdout",
     "output_type": "stream",
     "text": [
      "halo number 1342 is done\n",
      "faceon has failed, trying backup\n"
     ]
    },
    {
     "name": "stderr",
     "output_type": "stream",
     "text": [
      "pynbody.analysis.profile : Profile v_circ -- this routine assumes the disk is in the x-y plane\n"
     ]
    },
    {
     "name": "stdout",
     "output_type": "stream",
     "text": [
      "halo number 1343 is done\n",
      "faceon has failed, trying backup\n"
     ]
    },
    {
     "name": "stderr",
     "output_type": "stream",
     "text": [
      "pynbody.analysis.profile : Profile v_circ -- this routine assumes the disk is in the x-y plane\n"
     ]
    },
    {
     "name": "stdout",
     "output_type": "stream",
     "text": [
      "halo number 1344 is done\n",
      "faceon has failed, trying backup\n"
     ]
    },
    {
     "name": "stderr",
     "output_type": "stream",
     "text": [
      "pynbody.analysis.profile : Profile v_circ -- this routine assumes the disk is in the x-y plane\n"
     ]
    },
    {
     "name": "stdout",
     "output_type": "stream",
     "text": [
      "halo number 1345 is done\n",
      "faceon has failed, trying backup\n"
     ]
    },
    {
     "name": "stderr",
     "output_type": "stream",
     "text": [
      "pynbody.analysis.profile : Profile v_circ -- this routine assumes the disk is in the x-y plane\n"
     ]
    },
    {
     "name": "stdout",
     "output_type": "stream",
     "text": [
      "halo number 1346 is done\n",
      "faceon has failed, trying backup\n"
     ]
    },
    {
     "name": "stderr",
     "output_type": "stream",
     "text": [
      "pynbody.analysis.profile : Profile v_circ -- this routine assumes the disk is in the x-y plane\n"
     ]
    },
    {
     "name": "stdout",
     "output_type": "stream",
     "text": [
      "halo number 1347 is done\n",
      "faceon has failed, trying backup\n"
     ]
    },
    {
     "name": "stderr",
     "output_type": "stream",
     "text": [
      "pynbody.analysis.profile : Profile v_circ -- this routine assumes the disk is in the x-y plane\n"
     ]
    },
    {
     "name": "stdout",
     "output_type": "stream",
     "text": [
      "halo number 1348 is done\n",
      "faceon has failed, trying backup\n"
     ]
    },
    {
     "name": "stderr",
     "output_type": "stream",
     "text": [
      "pynbody.analysis.profile : Profile v_circ -- this routine assumes the disk is in the x-y plane\n"
     ]
    },
    {
     "name": "stdout",
     "output_type": "stream",
     "text": [
      "halo number 1349 is done\n",
      "faceon has failed, trying backup\n"
     ]
    },
    {
     "name": "stderr",
     "output_type": "stream",
     "text": [
      "pynbody.analysis.profile : Profile v_circ -- this routine assumes the disk is in the x-y plane\n"
     ]
    },
    {
     "name": "stdout",
     "output_type": "stream",
     "text": [
      "halo number 1350 is done\n",
      "faceon has failed, trying backup\n"
     ]
    },
    {
     "name": "stderr",
     "output_type": "stream",
     "text": [
      "pynbody.analysis.profile : Profile v_circ -- this routine assumes the disk is in the x-y plane\n"
     ]
    },
    {
     "name": "stdout",
     "output_type": "stream",
     "text": [
      "halo number 1351 is done\n",
      "faceon has failed, trying backup\n"
     ]
    },
    {
     "name": "stderr",
     "output_type": "stream",
     "text": [
      "pynbody.analysis.profile : Profile v_circ -- this routine assumes the disk is in the x-y plane\n"
     ]
    },
    {
     "name": "stdout",
     "output_type": "stream",
     "text": [
      "halo number 1352 is done\n",
      "faceon has failed, trying backup\n"
     ]
    },
    {
     "name": "stderr",
     "output_type": "stream",
     "text": [
      "pynbody.analysis.profile : Profile v_circ -- this routine assumes the disk is in the x-y plane\n"
     ]
    },
    {
     "name": "stdout",
     "output_type": "stream",
     "text": [
      "halo number 1353 is done\n",
      "faceon has failed, trying backup\n"
     ]
    },
    {
     "name": "stderr",
     "output_type": "stream",
     "text": [
      "pynbody.analysis.profile : Profile v_circ -- this routine assumes the disk is in the x-y plane\n"
     ]
    },
    {
     "name": "stdout",
     "output_type": "stream",
     "text": [
      "halo number 1354 is done\n",
      "faceon has failed, trying backup\n"
     ]
    },
    {
     "name": "stderr",
     "output_type": "stream",
     "text": [
      "pynbody.analysis.profile : Profile v_circ -- this routine assumes the disk is in the x-y plane\n"
     ]
    },
    {
     "name": "stdout",
     "output_type": "stream",
     "text": [
      "halo number 1355 is done\n",
      "faceon has failed, trying backup\n"
     ]
    },
    {
     "name": "stderr",
     "output_type": "stream",
     "text": [
      "pynbody.analysis.profile : Profile v_circ -- this routine assumes the disk is in the x-y plane\n"
     ]
    },
    {
     "name": "stdout",
     "output_type": "stream",
     "text": [
      "halo number 1356 is done\n",
      "faceon has failed, trying backup\n"
     ]
    },
    {
     "name": "stderr",
     "output_type": "stream",
     "text": [
      "pynbody.analysis.profile : Profile v_circ -- this routine assumes the disk is in the x-y plane\n"
     ]
    },
    {
     "name": "stdout",
     "output_type": "stream",
     "text": [
      "halo number 1357 is done\n",
      "faceon has failed, trying backup\n"
     ]
    },
    {
     "name": "stderr",
     "output_type": "stream",
     "text": [
      "pynbody.analysis.profile : Profile v_circ -- this routine assumes the disk is in the x-y plane\n"
     ]
    },
    {
     "name": "stdout",
     "output_type": "stream",
     "text": [
      "halo number 1358 is done\n",
      "faceon has failed, trying backup\n"
     ]
    },
    {
     "name": "stderr",
     "output_type": "stream",
     "text": [
      "pynbody.analysis.profile : Profile v_circ -- this routine assumes the disk is in the x-y plane\n"
     ]
    },
    {
     "name": "stdout",
     "output_type": "stream",
     "text": [
      "halo number 1359 is done\n",
      "faceon has failed, trying backup\n"
     ]
    },
    {
     "name": "stderr",
     "output_type": "stream",
     "text": [
      "pynbody.analysis.profile : Profile v_circ -- this routine assumes the disk is in the x-y plane\n"
     ]
    },
    {
     "name": "stdout",
     "output_type": "stream",
     "text": [
      "halo number 1360 is done\n",
      "faceon has failed, trying backup\n"
     ]
    },
    {
     "name": "stderr",
     "output_type": "stream",
     "text": [
      "pynbody.analysis.profile : Profile v_circ -- this routine assumes the disk is in the x-y plane\n"
     ]
    },
    {
     "name": "stdout",
     "output_type": "stream",
     "text": [
      "halo number 1361 is done\n",
      "faceon has failed, trying backup\n"
     ]
    },
    {
     "name": "stderr",
     "output_type": "stream",
     "text": [
      "pynbody.analysis.profile : Profile v_circ -- this routine assumes the disk is in the x-y plane\n"
     ]
    },
    {
     "name": "stdout",
     "output_type": "stream",
     "text": [
      "halo number 1362 is done\n",
      "faceon has failed, trying backup\n"
     ]
    },
    {
     "name": "stderr",
     "output_type": "stream",
     "text": [
      "pynbody.analysis.profile : Profile v_circ -- this routine assumes the disk is in the x-y plane\n"
     ]
    },
    {
     "name": "stdout",
     "output_type": "stream",
     "text": [
      "halo number 1363 is done\n",
      "faceon has failed, trying backup\n"
     ]
    },
    {
     "name": "stderr",
     "output_type": "stream",
     "text": [
      "pynbody.analysis.profile : Profile v_circ -- this routine assumes the disk is in the x-y plane\n"
     ]
    },
    {
     "name": "stdout",
     "output_type": "stream",
     "text": [
      "halo number 1364 is done\n",
      "faceon has failed, trying backup\n"
     ]
    },
    {
     "name": "stderr",
     "output_type": "stream",
     "text": [
      "pynbody.analysis.profile : Profile v_circ -- this routine assumes the disk is in the x-y plane\n"
     ]
    },
    {
     "name": "stdout",
     "output_type": "stream",
     "text": [
      "halo number 1365 is done\n",
      "faceon has failed, trying backup\n"
     ]
    },
    {
     "name": "stderr",
     "output_type": "stream",
     "text": [
      "pynbody.analysis.profile : Profile v_circ -- this routine assumes the disk is in the x-y plane\n"
     ]
    },
    {
     "name": "stdout",
     "output_type": "stream",
     "text": [
      "halo number 1366 is done\n",
      "faceon has failed, trying backup\n"
     ]
    },
    {
     "name": "stderr",
     "output_type": "stream",
     "text": [
      "pynbody.analysis.profile : Profile v_circ -- this routine assumes the disk is in the x-y plane\n"
     ]
    },
    {
     "name": "stdout",
     "output_type": "stream",
     "text": [
      "halo number 1367 is done\n",
      "faceon has failed, trying backup\n"
     ]
    },
    {
     "name": "stderr",
     "output_type": "stream",
     "text": [
      "pynbody.analysis.profile : Profile v_circ -- this routine assumes the disk is in the x-y plane\n"
     ]
    },
    {
     "name": "stdout",
     "output_type": "stream",
     "text": [
      "halo number 1368 is done\n",
      "faceon has failed, trying backup\n"
     ]
    },
    {
     "name": "stderr",
     "output_type": "stream",
     "text": [
      "pynbody.analysis.profile : Profile v_circ -- this routine assumes the disk is in the x-y plane\n"
     ]
    },
    {
     "name": "stdout",
     "output_type": "stream",
     "text": [
      "halo number 1369 is done\n",
      "faceon has failed, trying backup\n"
     ]
    },
    {
     "name": "stderr",
     "output_type": "stream",
     "text": [
      "pynbody.analysis.profile : Profile v_circ -- this routine assumes the disk is in the x-y plane\n"
     ]
    },
    {
     "name": "stdout",
     "output_type": "stream",
     "text": [
      "halo number 1370 is done\n",
      "faceon has failed, trying backup\n"
     ]
    },
    {
     "name": "stderr",
     "output_type": "stream",
     "text": [
      "pynbody.analysis.profile : Profile v_circ -- this routine assumes the disk is in the x-y plane\n"
     ]
    },
    {
     "name": "stdout",
     "output_type": "stream",
     "text": [
      "halo number 1371 is done\n",
      "faceon has failed, trying backup\n"
     ]
    },
    {
     "name": "stderr",
     "output_type": "stream",
     "text": [
      "pynbody.analysis.profile : Profile v_circ -- this routine assumes the disk is in the x-y plane\n"
     ]
    },
    {
     "name": "stdout",
     "output_type": "stream",
     "text": [
      "halo number 1372 is done\n",
      "faceon has failed, trying backup\n"
     ]
    },
    {
     "name": "stderr",
     "output_type": "stream",
     "text": [
      "pynbody.analysis.profile : Profile v_circ -- this routine assumes the disk is in the x-y plane\n"
     ]
    },
    {
     "name": "stdout",
     "output_type": "stream",
     "text": [
      "halo number 1373 is done\n",
      "faceon has failed, trying backup\n"
     ]
    },
    {
     "name": "stderr",
     "output_type": "stream",
     "text": [
      "pynbody.analysis.profile : Profile v_circ -- this routine assumes the disk is in the x-y plane\n"
     ]
    },
    {
     "name": "stdout",
     "output_type": "stream",
     "text": [
      "halo number 1374 is done\n",
      "faceon has failed, trying backup\n"
     ]
    },
    {
     "name": "stderr",
     "output_type": "stream",
     "text": [
      "pynbody.analysis.profile : Profile v_circ -- this routine assumes the disk is in the x-y plane\n"
     ]
    },
    {
     "name": "stdout",
     "output_type": "stream",
     "text": [
      "halo number 1375 is done\n",
      "faceon has failed, trying backup\n"
     ]
    },
    {
     "name": "stderr",
     "output_type": "stream",
     "text": [
      "pynbody.analysis.profile : Profile v_circ -- this routine assumes the disk is in the x-y plane\n"
     ]
    },
    {
     "name": "stdout",
     "output_type": "stream",
     "text": [
      "halo number 1376 is done\n",
      "faceon has failed, trying backup\n"
     ]
    },
    {
     "name": "stderr",
     "output_type": "stream",
     "text": [
      "pynbody.analysis.profile : Profile v_circ -- this routine assumes the disk is in the x-y plane\n"
     ]
    },
    {
     "name": "stdout",
     "output_type": "stream",
     "text": [
      "halo number 1377 is done\n",
      "faceon has failed, trying backup\n"
     ]
    },
    {
     "name": "stderr",
     "output_type": "stream",
     "text": [
      "pynbody.analysis.profile : Profile v_circ -- this routine assumes the disk is in the x-y plane\n"
     ]
    },
    {
     "name": "stdout",
     "output_type": "stream",
     "text": [
      "halo number 1378 is done\n",
      "faceon has failed, trying backup\n"
     ]
    },
    {
     "name": "stderr",
     "output_type": "stream",
     "text": [
      "pynbody.analysis.profile : Profile v_circ -- this routine assumes the disk is in the x-y plane\n"
     ]
    },
    {
     "name": "stdout",
     "output_type": "stream",
     "text": [
      "halo number 1379 is done\n",
      "faceon has failed, trying backup\n"
     ]
    },
    {
     "name": "stderr",
     "output_type": "stream",
     "text": [
      "pynbody.analysis.profile : Profile v_circ -- this routine assumes the disk is in the x-y plane\n"
     ]
    },
    {
     "name": "stdout",
     "output_type": "stream",
     "text": [
      "halo number 1380 is done\n",
      "faceon has failed, trying backup\n"
     ]
    },
    {
     "name": "stderr",
     "output_type": "stream",
     "text": [
      "pynbody.analysis.profile : Profile v_circ -- this routine assumes the disk is in the x-y plane\n"
     ]
    },
    {
     "name": "stdout",
     "output_type": "stream",
     "text": [
      "halo number 1381 is done\n",
      "faceon has failed, trying backup\n"
     ]
    },
    {
     "name": "stderr",
     "output_type": "stream",
     "text": [
      "pynbody.analysis.profile : Profile v_circ -- this routine assumes the disk is in the x-y plane\n"
     ]
    },
    {
     "name": "stdout",
     "output_type": "stream",
     "text": [
      "halo number 1382 is done\n",
      "faceon has failed, trying backup\n"
     ]
    },
    {
     "name": "stderr",
     "output_type": "stream",
     "text": [
      "pynbody.analysis.profile : Profile v_circ -- this routine assumes the disk is in the x-y plane\n"
     ]
    },
    {
     "name": "stdout",
     "output_type": "stream",
     "text": [
      "halo number 1383 is done\n",
      "faceon has failed, trying backup\n"
     ]
    },
    {
     "name": "stderr",
     "output_type": "stream",
     "text": [
      "pynbody.analysis.profile : Profile v_circ -- this routine assumes the disk is in the x-y plane\n"
     ]
    },
    {
     "name": "stdout",
     "output_type": "stream",
     "text": [
      "halo number 1384 is done\n",
      "faceon has failed, trying backup\n"
     ]
    },
    {
     "name": "stderr",
     "output_type": "stream",
     "text": [
      "pynbody.analysis.profile : Profile v_circ -- this routine assumes the disk is in the x-y plane\n"
     ]
    },
    {
     "name": "stdout",
     "output_type": "stream",
     "text": [
      "halo number 1385 is done\n",
      "faceon has failed, trying backup\n"
     ]
    },
    {
     "name": "stderr",
     "output_type": "stream",
     "text": [
      "pynbody.analysis.profile : Profile v_circ -- this routine assumes the disk is in the x-y plane\n"
     ]
    },
    {
     "name": "stdout",
     "output_type": "stream",
     "text": [
      "halo number 1386 is done\n",
      "faceon has failed, trying backup\n"
     ]
    },
    {
     "name": "stderr",
     "output_type": "stream",
     "text": [
      "pynbody.analysis.profile : Profile v_circ -- this routine assumes the disk is in the x-y plane\n"
     ]
    },
    {
     "name": "stdout",
     "output_type": "stream",
     "text": [
      "halo number 1387 is done\n",
      "faceon has failed, trying backup\n"
     ]
    },
    {
     "name": "stderr",
     "output_type": "stream",
     "text": [
      "pynbody.analysis.profile : Profile v_circ -- this routine assumes the disk is in the x-y plane\n"
     ]
    },
    {
     "name": "stdout",
     "output_type": "stream",
     "text": [
      "halo number 1388 is done\n",
      "faceon has failed, trying backup\n"
     ]
    },
    {
     "name": "stderr",
     "output_type": "stream",
     "text": [
      "pynbody.analysis.profile : Profile v_circ -- this routine assumes the disk is in the x-y plane\n"
     ]
    },
    {
     "name": "stdout",
     "output_type": "stream",
     "text": [
      "halo number 1389 is done\n",
      "faceon has failed, trying backup\n"
     ]
    },
    {
     "name": "stderr",
     "output_type": "stream",
     "text": [
      "pynbody.analysis.profile : Profile v_circ -- this routine assumes the disk is in the x-y plane\n"
     ]
    },
    {
     "name": "stdout",
     "output_type": "stream",
     "text": [
      "halo number 1390 is done\n",
      "faceon has failed, trying backup\n"
     ]
    },
    {
     "name": "stderr",
     "output_type": "stream",
     "text": [
      "pynbody.analysis.profile : Profile v_circ -- this routine assumes the disk is in the x-y plane\n"
     ]
    },
    {
     "name": "stdout",
     "output_type": "stream",
     "text": [
      "halo number 1391 is done\n",
      "faceon has failed, trying backup\n"
     ]
    },
    {
     "name": "stderr",
     "output_type": "stream",
     "text": [
      "pynbody.analysis.profile : Profile v_circ -- this routine assumes the disk is in the x-y plane\n"
     ]
    },
    {
     "name": "stdout",
     "output_type": "stream",
     "text": [
      "halo number 1392 is done\n",
      "faceon has failed, trying backup\n"
     ]
    },
    {
     "name": "stderr",
     "output_type": "stream",
     "text": [
      "pynbody.analysis.profile : Profile v_circ -- this routine assumes the disk is in the x-y plane\n"
     ]
    },
    {
     "name": "stdout",
     "output_type": "stream",
     "text": [
      "halo number 1393 is done\n",
      "faceon has failed, trying backup\n"
     ]
    },
    {
     "name": "stderr",
     "output_type": "stream",
     "text": [
      "pynbody.analysis.profile : Profile v_circ -- this routine assumes the disk is in the x-y plane\n"
     ]
    },
    {
     "name": "stdout",
     "output_type": "stream",
     "text": [
      "halo number 1394 is done\n",
      "faceon has failed, trying backup\n"
     ]
    },
    {
     "name": "stderr",
     "output_type": "stream",
     "text": [
      "pynbody.analysis.profile : Profile v_circ -- this routine assumes the disk is in the x-y plane\n"
     ]
    },
    {
     "name": "stdout",
     "output_type": "stream",
     "text": [
      "halo number 1395 is done\n",
      "faceon has failed, trying backup\n"
     ]
    },
    {
     "name": "stderr",
     "output_type": "stream",
     "text": [
      "pynbody.analysis.profile : Profile v_circ -- this routine assumes the disk is in the x-y plane\n"
     ]
    },
    {
     "name": "stdout",
     "output_type": "stream",
     "text": [
      "halo number 1396 is done\n",
      "faceon has failed, trying backup\n"
     ]
    },
    {
     "name": "stderr",
     "output_type": "stream",
     "text": [
      "pynbody.analysis.profile : Profile v_circ -- this routine assumes the disk is in the x-y plane\n"
     ]
    },
    {
     "name": "stdout",
     "output_type": "stream",
     "text": [
      "halo number 1397 is done\n",
      "faceon has failed, trying backup\n"
     ]
    },
    {
     "name": "stderr",
     "output_type": "stream",
     "text": [
      "pynbody.analysis.profile : Profile v_circ -- this routine assumes the disk is in the x-y plane\n"
     ]
    },
    {
     "name": "stdout",
     "output_type": "stream",
     "text": [
      "halo number 1398 is done\n",
      "faceon has failed, trying backup\n"
     ]
    },
    {
     "name": "stderr",
     "output_type": "stream",
     "text": [
      "pynbody.analysis.profile : Profile v_circ -- this routine assumes the disk is in the x-y plane\n"
     ]
    },
    {
     "name": "stdout",
     "output_type": "stream",
     "text": [
      "halo number 1399 is done\n",
      "[(318429500.30921143, 0.06900441310098035), (346938597.4685251, 0.07120873338970059), (39671187.21857406, 0.08368228286182), (989033281.414745, 0.10428970329501185), (425316070.24842906, 0.1952616663557283), (271835417.55716807, 0.14089638658776032), (1241125541.4038174, 0.08089178330993317), (4388076419.165607, 0.05032474784751271), (413385085.1407968, 0.09257258300929543), (201687194.7679389, 0.1733863146382871), (639855770.4155827, 0.0954765004586549), (310150256.1225079, 0.13483330261468474), (8931294.979892261, 0.1052171450743644), (60883915.35163632, 0.10344968427376709), (4369972134.641591, 0.061455691070207166), (4013271503.4845247, 0.07934903624706843), (1728698436.6833484, 0.07665677881382599), (1296464894.4160645, 0.1201215990590537), (564120475.2500957, 0.07072412790605548), (6555620.392380587, 0.12944408512896854), (385016700.22557884, 0.28396137699403773), (9218007518738888.0, 2.7809450798631156e-05), (574765868.5078218, 0.12704166002291647), (895359439.082924, 0.11112918582514612), (993239057.354768, 0.10007119371126458), (1.0215667109520027e+18, 6.599840895451874e-07), (865597960.5357788, 0.10674831257074685), (665057739.4871039, 0.1136756101448218), (112427112.80968937, 0.2018546590820905), (5339004089.2821455, 0.0683574929352001), (2564668465.1756153, 0.09301320623886265), (918450987.626171, 0.08343639645632585), (230383724.32570866, 0.14042825677368692), (351308724.8645111, 0.1469804309133254), (953750561.2542992, 0.15890377707000142), (5403780.814781484, 0.21138612308289076), (501969151.1374666, 0.13627364613583168), (1956642136.2688696, 0.10526774829155537), (219585095.1390871, 0.1299125534122888), (18519080.465923756, 0.2844958219234491), (771144798.5432884, 0.11923484834575776), 'failure', (2215437719.1586366, 0.0982689083553295), (175.610111928156, 0.03885061300106749), (313192669.96630216, 0.13458732058862008), (751594478.5072006, 0.07050868684265064), (160792665.32707694, 0.2865661492196705), (2661223326.9234314, 0.09386543134187447), (1.7058684945434475e-08, 0.08218310710556814), (2357979371.7401905, 0.09730843384757923), (906207805.0695841, 0.11859723206538507), (1506534609.4676244, 0.1197647974205548), (1245035003.679951, 0.12746719783770588), (1288218713.9643178, 0.11209810256120824), (5.821550437106636e-07, 1.0000238835943929), (186397208.61294672, 0.1484641490300819), (1794767160.5554016, 0.11267504249976437), (1284522616.5775654, 0.11938943520102858), (2564809399.9309006, 0.08156416140567165), (1708383120.5557702, 0.11609581077683304), (1115530946.5675273, 0.1686725676385794), (25479382.673329886, 0.293127348093002), (56862700.5912983, 0.12028430587491477), (869594014.4615804, 0.09293918994763246), (380656626.4661992, 0.13366539404741867), (881167455.429828, 0.10576669841535645), (1.9079176534409923e-08, 0.08856988848689074), (2.250353370729513e+16, 1.0124357030924534e-05), (691018223.9991399, 0.1410337896068121), (2500336466.9482493, 0.08541240445219994), (306927976.5546058, 0.16776026609981676), (2401543154.0007124, 0.09590843522246316), (475541372.0734124, 0.18953557088641979), (1457455184.5150506, 0.12442887459021196), (777224213.995849, 0.14081118485960592), (408620870.8258602, 0.1550624919163501), (2.388876078961042e+17, 1.5748917340891399e-06), (1076171294.1319034, 0.13954432571781955), (594661371.9360223, 0.16197293409680766), (297913364.138762, 0.1623402321224754), (53672140.484218724, 0.18198477500581425), (270800175.2890641, 0.1536984194091046), (2200521180.957755, 0.06521726740186395), (1248215934.0604088, 0.10109583759172548), (389724322.37339354, 0.14954580316808525), (36219001668.73495, 0.010886564107901195), (379933732.5071216, 0.16552982970883018), (442343.09149357775, 0.3768546533787256), (338298048.31203735, 0.4671024858497283), (200015165.23230702, 0.16385484710638895), (8.915322843117106e-09, 0.05328089549670995), (912970955.7291012, 0.18100677607522675), (189862144.52084854, 0.16799845712593692), (641042013.4450799, 0.14624880111533953), (2358979123.0063105, 0.0884969397588487), (2.7679985679680494e-08, 0.11362131098735338), (24675528.488366015, 0.3709978707606528), (34738188499.34714, 0.01624456477763656), (331072893.6783634, 0.18649725638305018), (570433134.5841755, 0.15422536430673686), (388230213.56874585, 0.15198076792650606), (23929430.203034, 0.35752447310110247), (229792435.165709, 0.1682571737644552), (314294386.3426705, 0.2791103865121373), (5944920.808234713, 0.20971366034394723), (819612536.6475029, 0.14688550944332487), (1563251650.3695605, 0.09539861960396225), (1323028421.7120752, 0.09559139961119607), (124010046.83509827, 0.3605827876417522), (32242922.646116614, 0.39349855861301714), (789640648.7884387, 0.14824220851691094), (1551135618.8135455, 0.1275465788540709), (156916334.34318873, 0.35904115044528295), 'failure', (336613920.57474405, 0.1686546760078235), (425176659.2599561, 0.17674061341142455), (36257165.12901888, 0.3723846553915076), (177514549.3177907, 0.3328507926883198), (510235249.7299784, 0.1610207975946268), (263277714.69905186, 0.1704062675848325), (628570617.2168338, 0.16074963459276836), (723941055.686106, 0.12802884815547239), (150934843.42328686, 0.36338510063485935), (209694361.37427333, 0.17191455337047548), (294778730.33631045, 0.17017352420724358), (303646924.81478703, 0.184669306979691), (460796712.3366502, 0.17251400386469595), (1080888101.1764293, 0.11203394070173457), (647333579.6604766, 0.16520749340169952), (580277190.2804221, 0.1532275772812845), (518888491.36044455, 0.16302373238496323), (1707633680.0422127, 0.12162863524634679), (92227425.30993785, 0.397953927886935), (102401591.8001651, 0.19232999425625144), (595044753.2429129, 0.14741972121575356), (407933998.1383454, 0.1727559329708998), (49758113.47981329, 0.37800417589436003), (8810802934.167114, 0.04469742654161045), (169142647.40902078, 0.3966234915837311), (1276585086.3025787, 0.14236911291680693), (18088359243.829704, 0.029194774622255414), (132931456.2115754, 0.18546693983334298), (540898925.5262963, 0.15211755140040284), (539970829.9620557, 0.1696786561668436), (1334554916.506139, 0.1268490634381222), (437038885.13962007, 0.16463276182330655), (2528153803.083449, 0.08841203362342386), (572568783.5594872, 0.20344533457905759), (9.728900790772323e-09, 0.05647892150878398), (349978895.3232056, 0.16629748125537389), (9846070794.87984, 0.038522140090580394), (68392111.90576392, 0.4151018676496694), (4208972238267640.0, 6.879772069591348e-05), (553203410.0906916, 0.14593858548479596), (38224044201.9641, 0.018675815329690742), 'failure', (1609288015.5436563, 0.09633695680414932), (393692462.0860568, 0.1849268290010387), (627144774.7232312, 0.13398924108009447), (1372549259.038918, 0.13655959505742407), (160348001.76712167, 0.40945774126107287), (213473442.78049555, 0.21774084884610723), (1230317698.0952542, 0.1486067471580338), (256507046.8607721, 0.19329299078140885), (459138995.8523163, 0.19219238007645761), (2758517759.064554, 0.07435701274858603), (559334071.4458739, 0.1748495244568107), (911927655.4955114, 0.24752055140894566), (948687336.9222952, 0.16102798891219233), (1095536734.8413718, 0.11008096767333628), (1172541464.1666317, 0.15047672349725777), (197302257.47020254, 0.20163832636811352), (8602672571.091803, 0.07688170370781738), (269699617.83268005, 0.36938103533911887), (3384925587.4106154, 0.07500545015287187), (1404060914.376726, 0.14157600318265556), (117130379.10937665, 0.15063683371301623), (169723818.576072, 0.41327132706515013), (219021932.1061689, 0.420465518786219), (366630864.05049604, 0.10592066403054143), (28249283125.99884, 0.026113067375558123), (485566184.039193, 0.18132193579392494), (294640746.4750328, 0.19860642242167031), (142902062.8041518, 0.4451450109064716), (1298578747.7320983, 0.1448941882077404), (166704572.8458443, 0.4460636142951918), (582821352.5546246, 0.21091391380134636), (542669150.9683448, 0.23467133076959254), (1690377468.6265352, 0.10003141556011967), (2563084660.287698, 0.08060685602332107), 'failure', (594437348.3521634, 0.18600529518940342), (224434295.48018128, 0.41231007770492023), (211204522.61214086, 0.21648589045828087), (660311756.0225198, 0.14898147937118714), (394195446.4028823, 0.2048245782790838), (141908482.88310513, 0.13350355600433741), (277407590.10073376, 0.2128138346865229), (312046939.9857096, 0.2252516777265241), (245672799.47371128, 0.5359005603238551), (2741936585.3816247, 0.10303117302276955), (522518510.371537, 0.19457164130964302), (1.6241640654219507e-08, 0.079530748106283), (1781450421.9097655, 0.13425706167492124), (1.6849155873852112e-08, 0.08150696640242407), (433603569.61580884, 0.328833460956792), (621145929.5438132, 0.19086054542003608), (259877433.01345897, 0.5586131391194482), (153446482.14073902, 0.205863668871058), (1935890822.928673, 0.1074991188855302), (464557313.2791707, 0.1974827331575511), (1644474093.190293, 0.1233916511944788), (300106895.9879742, 0.30710640418430524), (0.0005410302660572143, 185364.71763957356), (5303534012.884208, 0.06455188050849499), (911455320.0081892, 0.15836290808817868), (448402423.289659, 0.1206981150661905), (0.0005410302660572143, 185364.71763957356), (5911566505.2262945, 0.065488933984237), (140574341.54123315, 0.47753669519434166), (285758581.2968025, 0.4308012589500142), (94238153.33497894, 0.5243194407278524), (0.0005410302660572143, 185364.71763957356), (1190210888.4704926, 0.16127087732418266), (251842954.3614128, 0.20938252132730586), (376242574.67247057, 0.21211445015011254), (224475996.68966562, 0.22344452876974535), (419460323.6494023, 0.2058990914413156), (86648646.42700191, 0.2312239298394263), (387305997.5108441, 0.2272850842852189), (1058060828.8387392, 0.11127602255606325), (1989039552.4887779, 0.09725181808930801), (527003358.58786136, 0.20907096616120874), (1133506491.5551422, 0.1220152157100897), (255486228.84569174, 0.47592114278503994), (20087812209.00959, 0.03023033984576477), (51297654.1356756, 0.24079596288523666), (1.3364442111846197e+17, 2.6283398677242362e-06), (199541880.36378235, 0.4841277700719267), (198236995.9709215, 0.18900545791062576), (1101592864.926025, 0.13050135539551877), (6200549.7047946965, 0.5441970853591307), (52806735.28257333, 0.5370888565521438), (1.5412306498666776e-08, 0.0767932848309302), (1640888127.704797, 0.10964233457858306), (69256829.33699106, 0.16532501728020282), (1099325589.9345174, 0.1707394184130855), (52654279.92333868, 0.5545692619357586), (176965956.39406726, 0.1898709317400259), (187290866.1178575, 0.23195535303354367), (9986904257.105232, 0.045114537225381335), (88571799.9221836, 0.5413294621255191), 'failure', (9454103126.070415, 0.04758214642141903), (26013185.462970246, 0.580360349658817), (505275327.8472492, 0.20638375519496102), (76326354.80723356, 0.5273005131914145), (329946523.4785819, 0.21565460251250057), (442708627.04677373, 0.21470222753650545), (695853505.4241108, 0.12132956732201541), (194279682.11080667, 0.5088761392465473), (1853095305.068096, 0.10302452661653971), (264891766.30927038, 0.5015775972667244), (576253280.0209477, 0.20679622957598437), (1037192937.4251422, 0.17594306153580697), (303694066.35719734, 0.23032669774406786), (691224291.0105745, 0.1276596677038894), (16260039660.034946, 0.04048196295028644), (425209955.6827785, 0.19589335399846605), (492000638.7087094, 0.20168119638419754), (224551826.98264503, 0.22804175700067808), (206187452.69578016, 0.2103869020226442), (250141270.10640982, 0.5506311077833711), (1552139311.585549, 0.11133950287075932), (292439293.17530334, 0.5006574792089221), (2797094646.003651, 0.12138950643625163), (512351720.6001054, 0.3497778010813205), (336483263.1192173, 0.09793532257463712), (379126472.97776693, 0.23483067565792223), (131471560.69297546, 0.5528352452261094), (352.4576799318932, 0.061844846941660626), (424005509.4795285, 0.584418126036981), (549369243.0074868, 0.20469187683184695), (823373102.2348884, 0.12446432346136933), (223798878.66181502, 0.511690211096515), (519258331.7037463, 0.21661091481714462), (393722280.9543761, 0.131644469243064), (1.2784688068207302e+16, 6.317364492459599e-05), (402861202.2675363, 0.21908655616819592), (32203264.902663246, 0.5597806012306553), (619296576.1100228, 0.20422187343858508), (3.489086175610891e-08, 0.132706932725643), (195940871.02295443, 0.2592465777788196), (31401558.35419222, 0.5830805835460152), (406364146.3003905, 0.3480209636967866), (130016339.6906259, 0.5766899311696253), 'failure', (412266284.0216661, 0.2228513068817044), (28081074.327899266, 0.2801440878019045), (523231508.061398, 0.20414525549991486), (1092801839.9447596, 0.1689351479020119), 'failure', (564303004.4405233, 0.21040301300581848), (121565522.02345768, 0.24220837464637437), (6024679463.793691, 0.06305166717520355), (326991113.5467528, 0.5278111278223235), (5081665709.639991, 0.07486409978933944), (0.0005410302660572143, 185364.71763957356), (523208228.9146275, 0.21596255575372042), (177372815.70272812, 0.5739192324391437), (197681982.65246907, 0.5448059589343149), (915618296.1615857, 0.183281792904726), (133671949.47914533, 0.26736908707303936), (237646275.02378535, 0.25154209590829574), (881671242.1961625, 0.17696909974752817), (465408088.3528941, 0.22598201944142934), (0.0005410302660572143, 185364.71763957356), (624692115.9445626, 0.37050505164020814), (249565429.14249983, 0.555342848488176), (8.592426588213925e+16, 5.889587992152572e-06), (545925755.739043, 0.2076807229204768), (214179455.2650439, 0.5693537489426106), 'failure', (81080391.36293358, 0.15822568942859297), (1992886447.1766136, 0.1025322635604544), (2138518462.4542303, 0.09359237808809572), (3.04807259188281e-07, 0.597171366916432), (693525517.6708541, 0.19699941909353327), (1005782694.6112764, 0.19597988358439286), (119465319.08981821, 0.21230639148669636), (361747820.8069393, 0.4953472929988564), (3.142001150816543e-08, 0.12369687870045679), 'failure', (1980034898.1032598, 0.10464298687042166), (1084747688.6179473, 0.1227257747512983), (18408079.84256708, 0.25799018311502603), (6995518434979934.0, 3.925259274306434e-05), (1307324649.0605905, 0.16570016260677453), (377015017.2037528, 0.34557335776571224), (198311989.33454818, 0.5755187853101326), (7143809.801533158, 0.20465960734064587), (534925186.8404232, 0.224967730518944), 'failure', (4755236955.621643, 0.10603598266202893), (575884949.5568432, 0.23292400515482375), (366147105.5865143, 0.2485724696587393), (7311682158.230255, 0.06612174976632627), (8176936.177563835, 0.5976470446037732), (483937697.4489525, 0.22653404088015666), 'failure', (1001312964.7326989, 0.18833537171243028), (7.258805529519834e+16, 4.4633486801354665e-06), (70467559.22269425, 0.25046318874778684), (1165403231.100547, 0.12084356023184362), (2.1971014985668898e-08, 0.09733903169642603), (633466257.5477273, 0.21473812427166833), (257579984.27219504, 0.2428815269920621), (423790823.14735895, 0.15204998416721321), (486717911.8574392, 0.22796020536445066), (85091018.77750485, 0.2943484175920951), (548941481.07467, 0.24014917479539707), (7029375985.929377, 0.0846344114449048), (656267730.1578985, 0.34249027308789287), (548299972.5342673, 0.22810126484159945), (221226246.3677377, 0.5981850501437537), (299316769.06231636, 0.579706808150848), (766808223.0816805, 0.21040814501733385), (28905972.903094225, 0.5901691993342051), (760567070.3856101, 0.17213230204378194), (1177938492.110476, 0.12194219632416067), (906291324.899796, 0.12367795701299128), (84980693.46676168, 0.26987754836514194), (181495821.58545762, 0.6187289588463628), (393529900.0954101, 0.2533235246901684), (318468379.5049031, 0.25600851209028114), (485221931.44742745, 0.2804238511215977), (1695771197.016921, 0.11159388358661086), (0.0005410302660572143, 185364.71763957356), (248613047.3985308, 0.26245954812390154), (188038798.09498376, 0.5915326048358188), (161473637.57533887, 0.24100351642134976), (7.211196649324517e+16, 4.5877692806912025e-06), (738469581.5999867, 0.2232954407526281), (503104089.78701884, 0.23323360898743198), (637079790.858621, 0.2347460814788522), (405044268.8361563, 0.2462534319797196), (752095355.2689279, 0.18780001768886614), (1432270843.5038497, 0.11749319196417757), (214565871.2228285, 0.2618903519492534), (1026163436.8128905, 0.19304689197561567), (1.4029240309676124e-08, 0.07211750981101878), (171936554.1770713, 0.24176847565706422), (3.976673972836538e+16, 6.285759764142068e-06), (681022521.1548371, 0.1729726962648239), (377451876.1533652, 0.2519859733998909), (190532541.66583902, 0.5927624615150675), (72896232.25715728, 0.2745482301623201), (2790366987.2800026, 0.10127266498335134), (447832210.06536365, 0.24612100608943235), (544045232.6257752, 0.2803744037427837), (3.926248445128937e+16, 1.6839787315844392e-05), (172658001.40789136, 0.2790841011847115), (807785750.722827, 0.131531325550028), (4.76759832387484e-08, 0.16370779036842747), (694559026.1109308, 0.2114922458850516), (306778234.03687483, 0.27153141473115927), (0.0005410302660572143, 185364.71763957356), (77943704.3068128, 0.3019037447091999), (750218093.0826429, 0.20478150713402135), (381955448.1752492, 0.2609674109425478), (1409272129.0885718, 0.121526266789648), (148114648.11938053, 0.15954960664725576), (225435510.22699517, 0.5938040113714192), (369924217.65252936, 0.3142573319533162), (805832408.345499, 0.19193735592660943), (207799344.42561787, 0.2725995701254209), (4288582237.7204704, 0.07927188915588157), (447091551.6675388, 0.2522540539325592), (492083815.75776124, 0.24347797938241847), (180275142.60302356, 0.5981054481010755), (553653216.3637525, 0.23765497126459018), (1458520350.063344, 0.12063123175818274), 'failure', (296181877.05563366, 0.27073716329659936), (300448639.7925605, 0.5928483374104762), (903592934.9021595, 0.1859271388849254), (115233291.62494013, 0.5978178222675936), (566746923.2959026, 0.23656423060837808), (366454138.76201177, 0.25675532196205875), (7112156073.546631, 0.0771931239989873), (1410513893.9446492, 0.11962161500892743), (469292389.0191318, 0.23892137859969856), (227694518.5809763, 0.5937357197546953), (478850117.2300849, 0.14511269919893674), (353023131.7692238, 0.2648147518653544), (1867124306.0863235, 0.10861492339015942), (259253906.4901765, 0.5924810138191088), (1012298756.1883944, 0.12690136919225242), (11158529880.661257, 0.05232506254948567), (2.5078115369255036e+16, 1.5599237823827483e-05), (1138544113.5840394, 0.19225006211542114), (1.57741074891596e-08, 0.07799331954458806), (11654716647.492737, 0.07043061225684158), (942287667.6552356, 0.20479301140631453), (83610074.9211168, 0.6055922143479573), (441705191.83833545, 0.24921015606802818), (1288277401.8735206, 0.3436888232131037), (70689255367771.38, 0.0007316885559080116), (0.0005410302660572143, 185364.71763957356), (5.821401455481126e-07, 1.0000019150907218), (0.0005410302660572143, 185364.71763957356), (5.821385569909207e-07, 0.9999995726438321), (381153074.2044717, 0.5042420479546622), (12642025751178.17, 0.0008497132501782813), (0.0005410302660572143, 185364.71763957356), (482000174.96413493, 0.476787847853133), (312983347994602.75, 0.0004890977883776513), (0.0005410302660572143, 185364.71763957356), (19322755929203.84, 0.0009410027393388813), (44262935456923.32, 0.00042846411929388676), (0.0005410302660572143, 185364.71763957356), (1762886210.2408352, 0.2817190731768019), (0.0005410302660572143, 185364.71763957356), (5.821914019483462e-07, 1.000077496988307), (242028964149731.38, 0.0005147986899684422), (221208739414532.7, 0.000513289420354959), (0.0005410302660572143, 185364.71763957356), (4468128593611.371, 0.0013144528817295247), (5.821412393969577e-07, 1.0000035280535247), (66424838151.46746, 0.07694657909297077), (5.820965399800627e-07, 0.9999376157341348), (5.25801880853727e-07, 0.9174454633215573), (1358019118.7548435, 0.17024614540121974), (0.0005410302660572143, 185364.71763957356), (5.821481802795713e-07, 1.0000137629195802), (0.0005410302660572143, 185364.71763957356), (202693569924553.9, 0.0003827814266606348), (410000339.40675, 0.42743463976587825), (432713061.3185802, 0.4511153098519249), (2158555552234438.8, 0.0001224057446323843), (24282369325421.367, 0.002196607475081124), (5.820848493954625e-07, 0.9999203772931001), (675846324065338.1, 0.00035586809317937276), (5.821388570682814e-07, 1.0000000151303687), (25453575442174.67, 0.0012364358680164791), (119165588625453.9, 0.0008200085781637636), (3.166128083881994e-07, 0.6144749875208507), (8900051010.993013, 0.12662122119717825), (244954253109685.6, 0.00019883927573514487), (3643279813832870.0, 0.00043795823883259445), (0.0005410302660572143, 185364.71763957356), (5.82121297991697e-07, 0.9999741230115551), (5109473543887.459, 0.004086039123222952), (0.0005410302660572143, 185364.71763957356), (0.0005410302660572143, 185364.71763957356), (3.2885098981514795e-07, 0.6323485847136141), (1.050190111191507e+18, 181.93694025481295), (0.0005410302660572143, 185364.71763957356), (1.177942170583697e+19, 91.42730775530612), (8.41023748250796e-07, 1.3976776071050434), (6.177619040221462e-07, 1.0527682995272898), (40880433419192.28, 0.0011726532965108526), (827465880.485526, 0.3619298820264909), (123963989099172.44, 0.000809706283880873), (9.809293275072478e-07, 1.629788160027165), (5.8214913747751e-07, 1.0000151743830274), (3.727131735794009e+18, 0.11911894982422568), (1.3158918994127963e-06, 2.248925075759153), (0.0005410302660572143, 185364.71763957356), (156515431726801.28, 0.0011248074034964012), (1882162401.173688, 0.1744200149303092), (12049312297002.729, 0.0015225581755865354), (53747339475692.74, 0.0015048448577816883), (83884955386755.75, 0.0010662729842107975), (0.0005410302660572143, 185364.71763957356), (634483878.8835385, 0.24277281777983367), (5.821317625222109e-07, 0.9999895536996283), (134838903366284.9, 0.0007778701443356327), (637755773306.3759, 0.0032980859460002856), (0.0005410302660572143, 185364.71763957356), (13950958863899.955, 0.0006731387697925417), (5.82151225136882e-07, 1.0000182528016766), (0.0005410302660572143, 185364.71763957356), (5.821459538583262e-07, 1.0000104798880751), (5.821211556848557e-07, 0.9999739131703542), (3.781145119138859e-05, 906.9414942866782), (255588003225229.3, 0.0006493548288224078), (9.438856467903949e-07, 1.5669575385879415), (0.0005410302660572143, 185364.71763957356), (5.82119375808424e-07, 0.9999712886210594), (161012972849380.22, 0.0006384718592179783), (5.061472083868728e-07, 0.8888537619979736), (0.0005410302660572143, 185364.71763957356), (1.488869957661787e-06, 2.6084745250307764), (5.821290171385514e-07, 0.9999855054340514), (1.1979674418676006e-06, 2.019901765146449), (0.0005410302660572143, 185364.71763957356), (0.0005410302660572143, 185364.71763957356), (878216630.4887308, 0.25800516356958064), (236400616198722.28, 0.0007099305578097347), (0.0005410302660572143, 185364.71763957356), (70511309316846.95, 0.0006735302641087261), (2.2449405231471666e-07, 0.4769651009907157), (5.821388512104125e-07, 1.000000006492502), (7.818218997291549e-07, 1.3034608291266656), (1.735924397000303e-07, 0.39700211885770387), (259698249314897.78, 0.0005830559097441105), (0.0005410302660572143, 185364.71763957356), (5.82149576936555e-07, 1.0000158223999724), (7374118895.724573, 0.07873205489279983), (680123526.639627, 0.2389107911462689), (5.821316938761158e-07, 0.9999894524759931), (431076839434949.56, 0.00027408180837166146), (34022517820496.695, 0.000657685352056896), (270583668712026.2, 0.0006475264930039471), (485933017.1878821, 0.5317925665423683), (0.0005410302660572143, 185364.71763957356), (66909379440928.805, 0.008606904457670301), (5.821388479953396e-07, 1.0000000017516362), (15253990274955.033, 0.0011962229019029374), (215931807367134.03, 0.0006146185521637641), (235691524011402.94, 0.0006591914406519164), (226994794317882.4, 0.0025832824173838364), (201394576595029.53, 0.0010009302013337309), (9.323267854461152e-07, 1.547560910960148), (5.821498609338958e-07, 1.0000162411764375), (0.0005410302660572143, 185364.71763957356), (77209640434155.55, 0.00043140363347071356), (5.82134063920866e-07, 0.9999929472794803), (0.0005410302660572143, 185364.71763957356), (5.0286641431062554e-05, 1602.917478072472), (214990268702101.1, 0.0006104490820661975), (315252756697019.9, 0.0007625503196113474), (6.098755079343213e-07, 1.0410433812993474), (3.5684647066627147e-05, 807.9557523730374), (356275554327840.7, 0.0004950527698792458), (5.820939290248354e-07, 0.9999337657258623), (2.6428909989896354e-07, 0.5371781030287452), (5.821446652555863e-07, 1.0000085797437996), (3.027268965931252e-07, 0.5941151099301637), (245016963497294.06, 0.0008629856580003989), (23079500882367.766, 0.0011603276367907766), (125640809757000.19, 0.0006829066439984543), (6999596466.3053875, 0.11442363420849405), (261021098309973.6, 0.0004827662876324233), (3.038371161349467e-07, 0.5957464075325802), (0.0005410302660572143, 185364.71763957356), (224502341045930.66, 0.0006301129242526396), (5.821388485701657e-07, 1.0000000025992604), (5.821794203980549e-07, 1.0000598290945626), (4.1787520805808784e-07, 0.7612269009458997), (0.0005410302660572143, 185364.71763957356), (5.821388479317853e-07, 1.0000000016579205), (5.821388481903654e-07, 1.0000000020392164), (5.821756944143064e-07, 1.0000543348006201), (19800699820997.04, 0.0036026959380582833), (7.018933945824796e-07, 1.1795825872571115), (36766867633413.27, 0.008720918883000597), (857767108.9380195, 0.5875092860788538), (0.0005410302660572143, 185364.71763957356), (0.0005410302660572143, 185364.71763957356), (5.82138848096312e-07, 1.0000000019005275), (3.8065320446374814e-07, 0.707496449942379), (28410459876048.66, 0.0005247235241887636), (183961429319226.53, 0.0007162549251489597), (9.254041235080144e-07, 1.5359908610017188), (1.7499758698635226e-06, 3.2079110013941445), (145266142878071.56, 0.0008043572353273654), (2.8480556445782503e-06, 6.556049439053659), (171355960022169.84, 0.0007726714234360632), (0.0005410302660572143, 185364.71763957356), (253871841748152.56, 0.0006190522434308522), (5.99973041273075e-07, 1.0263564026089684), (1.8862411876821415e-06, 3.5492349722921697), (101164503679396.48, 0.0009343179007646891), (5.82138847626199e-07, 1.0000000012073107), (2330782403422.744, 0.0018362112903073362), (1.0352911767487153e-06, 1.7238940277015644), (0.0005410302660572143, 185364.71763957356), (356983959127752.06, 0.0007740586793021632), (2.519816835827266e-07, 0.5187187717947789), (5.82138887944841e-07, 1.0000000606601696), (3.2739556565988455e-07, 0.6302260606745603), (0.0005410302660572143, 185364.71763957356), (5.821499057734916e-07, 1.0000163072959587), (11374560173344.61, 0.004818562658432836), (0.0005410302660572143, 185364.71763957356), (6.523286949859667e-05, 2696.287894663983), (5.820767085320374e-07, 0.9999083731495484), (5.144116695035622e-07, 0.9008649280693443), (151192604125341.94, 0.0008142122208529742), (174953016.0319813, 0.6115919806697905), (3.5479332035518764e-07, 0.6700649096566356), (50532525359391.7, 0.0006528737059260673), (0.0005410302660572143, 185364.71763957356), (1.001047987589716e-06, 1.664347752913594), (1.3527425418124607e-06, 2.3231192729781096), (5.821512858427006e-07, 1.0000183423172246), (6169639661373711.0, 0.08551189749445988), (49411821970339.766, 0.0026458349886111284), (1.0764632052684089e-06, 1.7967262266427568), (0.0005410302660572143, 185364.71763957356), (1.335000384171233e-06, 2.2872384252766036), (2.761837585870617e-05, 484.6014449282028), (1.5611843598230442e-06, 2.767492989477031), (216074119600649.6, 0.000688578845116425), (1.466051035881399e-06, 2.559379399769834), (0.0005410302660572143, 185364.71763957356), (5.821103550603413e-07, 0.9999579869297158), (1.3993019318328123e+18, 91.42730775432038), (0.0005410302660572143, 185364.71763957356), (3.603513320261768e-05, 823.8738336618691), (4.687262047588362e-05, 1392.8635265475373), (5.82138856824832e-07, 1.0000000147713843), (6.532381749674482e-05, 2703.8071112868547), (5.821399951923984e-07, 1.0000016933798896), (0.0005410302660572143, 185364.71763957356), (5.821387824052899e-07, 0.9999999050341942), (1.3397766137130785e-06, 2.2968684539967215), (8.386579572154238e-07, 1.3938695064234123), (5.821388984030323e-07, 1.0000000760815564), (5.821610992665246e-07, 1.0000328130069782), (2.702281433719928e-07, 0.5460414531326526), (1025964948.3697549, 0.340798114137278), (3.4975059886832097e-07, 0.6627489426197938), (2.0134008414097883e-05, 258.2757286023488), (4.977226342487444e-05, 1570.3249100620635), (5.821388932668142e-07, 1.0000000685078179), (5.616806879544732e-07, 0.969905617029015), (277763176.3128728, 0.6006564550626933), (0.0005410302660572143, 185364.71763957356), (1.8540976476465009e-06, 3.4669125705165587), (6.379551367725831e-07, 1.0829089317228142), (229418045735791.72, 0.0008227091819201914), (5.821336516306432e-07, 0.9999923393273935), (482000863157930.94, 0.00045260385657541443), (5.821856088041046e-07, 1.0000689544598809), (40545977270647.67, 0.0013372836568009516), (6.343305637081784e-07, 1.07748592529), (5.821087640161314e-07, 0.9999556408325304), (60323507480386.6, 0.0009553998409367944), (3.595067456557086e-07, 0.6768974985352187), (8.636860342011344e-06, 48.78836389098051), (2.2877972067328477e-05, 333.0157324212638), (5.821388494950789e-07, 1.000000003963114), (5.821281708838921e-07, 0.9999842575712623), (554530222963384.2, 0.00035378678660692524), (0.0005410302660572143, 185364.71763957356), (3.3214556261110655e-07, 0.6371503722486523), (0.0005410302660572143, 185364.71763957356), (310784013610838.75, 0.0005646015593333745), (5.820755131432588e-07, 0.9999066104861233), (384011197.7104731, 0.5943116145805771), (5.821388992026604e-07, 1.000000077260668), (9.417827447950702e-07, 1.5634214178748072), (5.821311369210429e-07, 0.9999886312054924), (916996285.0293375, 0.37263651359439104), (3.4708704477547444e-05, 764.4509811853457), (0.0005410302660572143, 185364.71763957356), (2346484298.3557034, 0.2577670896999387), (37533328442985.35, 0.0011121524602328073), (64944859521028.766, 0.0004072732214430007), (5.820377341847326e-07, 0.9998509036950771), (13037417896.266563, 0.0666202658279112), (5.471923073638424e-05, 1897.6659046983625), (111079764056681.39, 0.0008285168183669285), (665680311023.054, 0.004725524868955532), (6.062968009948537e-06, 24.808786500075378), (0.0005410302660572143, 185364.71763957356), (0.0005410302660572143, 185364.71763957356), (146848356501131.78, 0.000894890357429352), (26447534433338.67, 0.0006677735483913127), (5.821340803003457e-07, 0.9999929714322221), (0.0005410302660572143, 185364.71763957356), (0.0005410302660572143, 185364.71763957356), (0.0005410302660572143, 185364.71763957356), (5.821092601487424e-07, 0.9999563724119298), (3.585154932365853e-05, 815.516573881279), (3.1270684493045764e-05, 620.8035469702384), (2.7966491093120023e-05, 496.8549878306834), (282766675.18926036, 0.6048959947811187), (451272609.8081451, 0.5920160237083416), (198773519106525.78, 0.0005020522718115908), (5.821388478635829e-07, 1.0000000015573511), (633748801061775.2, 0.0002873533131954703), (216201909578605.4, 0.0006497641961726126), (4.591923341830835e-05, 1336.841397603349), (0.0005410302660572143, 185364.71763957356), (5.489347005984361e-07, 0.9512255529614746), (5.821388613452579e-07, 1.000000021437091), (1069601090838891.5, 0.0182918997932113), (1.0613755722081529e-06, 1.769877474837947), (2.6248112456457706e-06, 5.761864889068594), (252809848856757.25, 0.0008062241770752), (5.82157405272207e-07, 1.0000273659085483), (0.0005410302660572143, 185364.71763957356), (0.0005410302660572143, 185364.71763957356), (0.0005410302660572143, 185364.71763957356), (2010237414.5037599, 0.274749327153452), (2897633539263.1787, 0.0022280464149914687), (1.8141878362550046e-06, 3.3662596222623886), (0.0005410302660572143, 185364.71763957356), (1.8546064005660856e-06, 3.4682067808669204), (5.971462180454407e-07, 1.022170783523975), (0.0005410302660572143, 185364.71763957356), (5.821207672767843e-07, 0.9999733404360428), (1624029607.7107625, 0.2876591009343621), (271668393641602.78, 0.000827637704124425), (79250662122347.78, 0.0007542801157478593), (22670671308330.305, 0.003592030540599193), (0.0005410302660572143, 185364.71763957356), (13102123121926.1, 0.0017382241462359136), (1.214811223629258e+18, 181.93694025394984), (0.0005410302660572143, 185364.71763957356), (9.850057276182098e-07, 1.6367654720731697), (0.0005410302660572143, 185364.71763957356), (3.8646861283229805e-07, 0.7158989383051205), (1.6889093913599067e-06, 3.0613861701066454), (1.1780147662598663e-06, 1.9823836488981956), (2.92006248171256e-06, 6.824947224857401), (5.947503709068703e-07, 1.0186256956142434), (2.0165982445183345e-06, 3.894715096836883), (0.0005410302660572143, 185364.71763957356), (0.0005410302660572143, 185364.71763957356), (0.0005410302660572143, 185364.71763957356), (3.7772182721531404e-05, 905.0619500660658), (0.0005410302660572143, 185364.71763957356), (6.165543549330007e-07, 1.0509713551453599), (0.0005410302660572143, 185364.71763957356), (1.818409692879623e-06, 3.376825818824513), (1.1217478634013338e-06, 1.8784388009617181), (1926376781.9522622, 0.2770861178394348), (7.836535854354314e-07, 1.3063430733878878), (6.0202280040922205e-05, 2296.694343880187), (0.0005410302660572143, 185364.71763957356), (5.821388493693635e-07, 1.0000000037777375), (0.0005410302660572143, 185364.71763957356), (0.0005410302660572143, 185364.71763957356), (5.82138970900442e-07, 1.0000001829844212), (59472854599101.6, 0.001649605834038688), (0.0005410302660572143, 185364.71763957356), (1.5323085463281338e-06, 2.7033652100719268), (243552919507366.88, 0.0004589229949596038), (0.0005410302660572143, 185364.71763957356), (5124121713697.014, 0.0014601484406555878), (5.821388476525819e-07, 1.0000000012462142), (7.886113209488604e-07, 1.314154538725411), (7.895505105591937e-07, 1.3156360272570489), (0.0005410302660572143, 185364.71763957356), (5.821388573299863e-07, 1.0000000155162723), (5.462315522729148e-05, 1891.0134544725272), (0.0005410302660572143, 185364.71763957356), (0.0005410302660572143, 185364.71763957356), (5.821298086180352e-07, 0.9999866725271739), (0.0005410302660572143, 185364.71763957356), (750070488062.5626, 0.005116912201613321), (6.051333523815913e-06, 24.719387336265708), (891888595692.4479, 0.005283269973699376), (0.0005410302660572143, 185364.71763957356), (3.9593637223666633e-05, 994.2996185154739), (5.821388561894406e-07, 1.0000000138344523), (8.597691944485145e-05, 4682.6286936281485), (6927599960379.229, 0.0021139792905294835), (5.821738936124786e-07, 1.0000516793601806), (0.0005410302660572143, 185364.71763957356), (108892739.15222609, 0.5161547475754322), (3.948097672420425e-05, 988.6581851037513), (3.102024641764381e-05, 610.9246923129047), (6.561697131503387e-07, 1.110250322418999), (5.821388639294909e-07, 1.0000000252477363), (13292683338320.455, 0.005904404464870088), (6.541610775283649e-07, 1.1072277772676533), (832524831.9876825, 0.254999044823141), (215268662179975.38, 0.00074103559144545), (9.969715031809885e-07, 1.6573200538666504), (4.9954368063467504e-05, 1581.825301034173), (16507214921096.262, 0.0014504330421201484), (0.0005410302660572143, 185364.71763957356), (3.8851637950551555e-05, 957.4399861942366), (110920229874212.42, 0.0009961780451288342), (6.694242805280658e-05, 2839.3796482164475), (5.821388476618756e-07, 1.0000000012599184), (0.0005410302660572143, 185364.71763957356), (0.0005410302660572143, 185364.71763957356), (1251057836733.0608, 0.002693728366851603), (4.624414363709525e-05, 1355.8041887571364), (3.577810706505719e-05, 812.1852272812629), (3.533764284849251e-05, 792.3490777806228), (6.50274793257597e-05, 2679.3456000599226), (4.743777388112494e-05, 1426.6160618428034), (104266596018930.02, 0.0010193607105352129), (2.930626656899325e-06, 6.8649227985317145), (1.1754209624046512e-06, 1.9775319523028976), (0.0005410302660572143, 185364.71763957356), (5.0344213281021836e-05, 1606.58625906094), (3.8522129294366976e-05, 941.2948644382859), (6.106693719619324e-06, 25.146300071900768), (2.9878126902415345e-06, 7.083657464374252), (5.821964597459766e-07, 1.000084955189805), (5.821388532727004e-07, 1.0000000095335002), (0.0005410302660572143, 185364.71763957356), (0.0005410302660572143, 185364.71763957356), (3.0984686603920956e-05, 609.5284295425951), (3.961421748346829e-05, 995.3319039857872), (4.8626530080453596e-05, 1498.9322140604422), (5.82137555693231e-07, 0.9999980961556502), (31964108932997.113, 0.001303056286239294), (5.5957820374968966e-05, 1984.4750357728265), (0.0005410302660572143, 185364.71763957356), (4.624783133616616e-05, 1356.0201819354313), (1.8805474928900298e-06, 3.5345709205617215), (0.0005410302660572143, 185364.71763957356), (1.2888829380391427e-06, 2.19535068725587), (1.3780289832072336e-06, 2.3747725514519638), (84332592015476.2, 0.0009123218466729846), (1.4507886734065487e-06, 2.526828991623101), (3.323213620798146e-05, 700.922930368716), (7.050186001979072e+16, 181.9369402545748), (1.3679819455815732e-06, 2.3541763823627013), (6.0756477645571965e-05, 2339.1447954921146), (10462628803511.906, 0.0025910903374522388), (0.0005410302660572143, 185364.71763957356), (3.91351081206205e-05, 971.4393694534145), (0.0005410302660572143, 185364.71763957356), (2.407202423045155e-06, 5.044589362227431), (0.0005410302660572143, 185364.71763957356), (5.396545541637857e-05, 1845.787015899939), (6.288235436160537e-07, 1.0692574003633726), (0.0005410302660572143, 185364.71763957356), (288184565.77442586, 0.6114159635254384), (0.0005410302660572143, 185364.71763957356), (0.0005410302660572143, 185364.71763957356), (5.032629992863904e-05, 1605.444276183789), (97274479486753.81, 0.0010652064746306253), (5.38262153388072e-05, 1836.282503094913), (212489025.29197702, 0.6309201782635689), (10278844635718.814, 0.003684770299842986), (129570547808955.12, 0.001598583100373012), (0.0005410302660572143, 185364.71763957356), (0.0005410302660572143, 185364.71763957356), (2.733382303464076e-05, 474.69928046285656), (159212933185695.7, 0.0005015294638082955), (0.0005410302660572143, 185364.71763957356), (4.62803825459527e-05, 1357.9274942846225), (9.103968174909278e-07, 1.5110274994199404), (0.0005410302660572143, 185364.71763957356), (2.768460290570069e-06, 6.266061482326077), (0.0005410302660572143, 185364.71763957356), (5.821371500873474e-07, 0.9999974980596021), (0.0005410302660572143, 185364.71763957356), (5.821837739220549e-07, 1.0000662487586467), (2.1818439913997365e-06, 4.359919828611484), (5.821183820656592e-07, 0.9999698232800132), (2148543397.7868824, 0.26207890483312035), (0.0005410302660572143, 185364.71763957356), (2.311822476321403e-05, 340.0137382652957), (5.821388486915567e-07, 1.0000000027782603), (4.236257659826388e-06, 12.857537803888315), (3.570419910920913e-05, 808.8396529830842), (4.77915485755461e-05, 1447.9503394087283), (1.8446848363557102e-06, 3.4430180805900146), (7.72600519326607e-07, 1.288981278528203), (0.0005410302660572143, 185364.71763957356), (3.178896531985709e-05, 641.500101881251), (8.006137909404842e-05, 4060.639283943154), (5.606583494967479e-05, 1992.1375709514732), (685559736.0605519, 0.5632471012355185), (3.710928819439803e-05, 873.6279520457608), (4.351327061779758e-05, 1200.582509210289), (0.0005410302660572143, 185364.71763957356), (0.0005410302660572143, 185364.71763957356), (5.597113755687423e-05, 1985.4189557435443), (1.607530300820397e-06, 2.872190426723405), (0.0005410302660572143, 185364.71763957356), (0.0005410302660572143, 185364.71763957356), (7.171900654654833e-05, 3258.8033094154716), (2.940012691132062e-06, 6.90055315550163), (2.971646882854015e-06, 7.021423182525802), (0.0005410302660572143, 185364.71763957356), (0.0005410302660572143, 185364.71763957356), (0.0005410302660572143, 185364.71763957356), (5.821548042191746e-07, 1.0000235304448672), (7.702067828933805e-07, 1.2852309197522578), (5.4382909368048164e-05, 1874.429543168024), (5.821388480124961e-07, 1.0000000017769346), (5.821864214166736e-07, 1.0000701527317477), (7.539098825102461e-07, 1.2597877270151026), (0.0005410302660572143, 185364.71763957356), (2.7122534836674833e-06, 6.0658520286575985), (0.0005410302660572143, 185364.71763957356), (1.2012915157588793e-05, 92.94549551254431), (3.10758070042557e-05, 613.1094951588192), (0.0005410302660572143, 185364.71763957356), (7.0652053293548e-05, 3162.60943350416), (4.625232967415655e-05, 1356.283678574788), (4.7789950391121426e-05, 1447.8536049490722), (0.0005410302660572143, 185364.71763957356), (0.0005410302660572143, 185364.71763957356), (5.0571595432339984e-05, 1621.1172761901269), (2.2231594756890243e-06, 4.481068355083314), (3.7721373496400434e-05, 902.6329179379602), (1.0946951873371973e-06, 1.8294194643981412), (0.0005410302660572143, 185364.71763957356), (0.0005410302660572143, 185364.71763957356), (0.0005410302660572143, 185364.71763957356), (2.5791269724513127e-06, 5.606655208900058), (0.0005410302660572143, 185364.71763957356), (2.3468830149907217e-05, 350.3572439743261), (7.992519859531133e-07, 1.3309710078041668), (6.285445565481253e-07, 1.068840889365195), (5.821505064386447e-07, 1.000017193024179), (6.075586957723147e-05, 2339.0980054804368), (0.0005410302660572143, 185364.71763957356), (0.0005410302660572143, 185364.71763957356), (4.679018368162423e-05, 1387.973978169876), (0.0005410302660572143, 185364.71763957356), (4.223594785115503e-06, 12.78928689434627), (2.911820331592403e-06, 6.793851812015339), (5.821388477109892e-07, 1.0000000013323402), (3.092043494969904e-05, 607.0096373414934), (7.070019663386119e-07, 1.1873945332160554), (39902966917134.4, 0.0007807380147496715), (5.4275311685152254e-05, 1867.0258927286575), (6.086384481024477e-05, 2347.4138905820196), (0.0005410302660572143, 185364.71763957356), (6.53695927420737e-05, 2707.5955886985503), (2.8016193315380424e-05, 498.6170107430893), (8.286057684886291e-07, 1.3777298071155744), (0.0005410302660572143, 185364.71763957356), (4.6276221040044506e-05, 1357.6835793274377), (4.6278661729970685e-05, 1357.826630839024), (2.652856804727556e-06, 5.85837338218493), (0.0005410302660572143, 185364.71763957356), (1.7436894963757846e-06, 3.192645130310457), (0.0005410302660572143, 185364.71763957356), (0.0005410302660572143, 185364.71763957356), (7.103832031317928e-05, 3197.2678158920853), (0.0005410302660572143, 185364.71763957356), (0.0005410302660572143, 185364.71763957356), (3.046182240333467e-05, 589.1829653477204), (2.9899559103494626e-06, 7.091932048465636), (1.1872007155789293e-05, 90.8139666860493), (6.38119878234354e-07, 1.0831555516252367), (4.6173710354627334e-05, 1351.6821286783706), (192237032414871.1, 0.001200523935113166), (4.116083527338857e-05, 1074.4436427370786), (5.509913006213035e-05, 1924.085360681972), (3.535226068645639e-05, 793.0034449404652), (5.132238357286845e-05, 1669.5619859427034), (0.0005410302660572143, 185364.71763957356), (1.8923231838214348e-06, 3.5649381772456525), (1.2651243308644915e-06, 2.1487793792693375), (1.8859265680616888e-06, 3.548423749454219), (6.534569256291016e-05, 2705.6172171260305), (5.82134386942035e-07, 0.9999934235978609), (143490184519376.53, 0.000536460622804472), (0.0005410302660572143, 185364.71763957356), (4.235230905050924e-06, 12.851996308236949), (0.0005410302660572143, 185364.71763957356), (145597452907387.25, 0.0009965307071830769), (5.34557991642738e-05, 1811.1174839725036), (0.0005410302660572143, 185364.71763957356), (2.3248753537728094e-06, 4.787671845307191), (1.73443311224925e-06, 3.1702432173629025), (4.3069578120183504e-05, 1176.2551742121395), (4.332256205414956e-06, 13.38146061745576), (225941568914569.25, 0.0012672631431574044), (2.925298470368826e-05, 543.4708143328984), (6.534453026159419e-05, 2705.5210244162276), (0.0005410302660572143, 185364.71763957356), (0.0005410302660572143, 185364.71763957356), (48834674342270.83, 0.003819933396694896), (7.534097882130959e-05, 3596.1061114925533), (275616450.4802993, 0.6228429226228126), (9.222336230732702e-07, 1.5307035058886378), (7.667133476268646e-05, 3724.1700714426966), (0.0005410302660572143, 185364.71763957356), (0.0005410302660572143, 185364.71763957356), (3.53894603683166e-05, 794.669908449579), (4.295396761907522e-05, 1169.9572821863962), (5.4392917006035495e-05, 1875.1189004598698), (2.0254505989903564e-05, 261.3576594828342), (0.0005410302660572143, 185364.71763957356), (3.211220311678802e-05, 654.5802374018485), (2.88668133731567e-06, 6.699514756234456), (0.0005410302660572143, 185364.71763957356), (80593092960718.02, 0.001179243472566847), (250194789.13466123, 0.632555498771532), (3.2268218736119824e-05, 660.9409119261967), (1.1772743447816592e-06, 1.9809980964895004), (0.0005410302660572143, 185364.71763957356), (4.788087910586688e-05, 1453.3624565107561), (5.605951249716851e-05, 1991.6886501197444), (1.2689326018418957e-06, 2.1562095405722626), (0.0005410302660572143, 185364.71763957356), (0.0005410302660572143, 185364.71763957356), (6.0779899580408715e-05, 2340.947437163358), (0.0005410302660572143, 185364.71763957356), (3.0964928580160386e-05, 608.7533191520506), (2.0856853764351573e-06, 4.085468628219768), (5.5102412008550875e-05, 1924.3143944655972), (0.0005410302660572143, 185364.71763957356), (3.9819312151530196e-05, 1005.6485596789108), (0.0005410302660572143, 185364.71763957356), (2.777324167765721e-06, 6.297979420188281), (5.0705305148481715e-05, 1629.6926647035348), (3.948556510923699e-05, 988.8876327939242), (0.0005410302660572143, 185364.71763957356), (3.954380323579538e-05, 991.8022170956208), (5.594191711041343e-05, 1983.348108904267), (0.0005410302660572143, 185364.71763957356), (0.0005410302660572143, 185364.71763957356), (5.588375699784392e-05, 1979.229532321308), (1.4009943853176302e-06, 2.4222138452612048), (5.821446304529016e-07, 1.0000085284245612), (4.958543027090174e-05, 1558.5695510609792), (3.591995124264269e-05, 818.625434379404), (2.368892269599673e-05, 356.92991932387514), (3.224023716719317e-05, 659.7978494290566), (2.4609180135503144e-06, 5.216474991573525), (0.0005410302660572143, 185364.71763957356), (0.0005410302660572143, 185364.71763957356), (6.387191880050988e-07, 1.084052826597921), (6.030748875151285e-07, 1.0309527998645929), (6.528645191551139e-05, 2700.716606654116), (3.532423482994553e-05, 791.7491061162247), (4.5728757389543646e-05, 1325.786778242912), (4.3065097008625676e-05, 1176.0107499224255), (4.787174044178771e-05, 1452.8083237134726), (72677672078148.92, 0.0026786570712531133), (5.821381135028516e-07, 0.9999989186875271), (2.34788583445937e-06, 4.858688333532046), (309596761671077.8, 0.0002987322129238816), (3.2246416639562575e-05, 660.0501989624229), (5.821409825824508e-07, 1.0000031493610837), (0.0005410302660572143, 185364.71763957356), (4.661203089178183e-05, 1377.436654983553), (0.0005410302660572143, 185364.71763957356), (0.0005410302660572143, 185364.71763957356), (5.821388493410253e-07, 1.0000000037359507), (1.811696314754472e+16, 0.265489870597413), (0.0005410302660572143, 185364.71763957356), (4.341882570236688e-06, 13.434632009123023), (4.3049201168520854e-05, 1175.1439091343866), (1.4128382920306648e-06, 2.446879060215681), (5.045241709413189e-05, 1613.4929340396427), (1.5481716295926634e-06, 2.7384898274678555), (3.620642465094316e-05, 831.710000790508), (0.0005410302660572143, 185364.71763957356), (166597431103061.12, 0.0008688631039066898), (5.85595644085267e-05, 2173.1509058853776), (0.0005410302660572143, 185364.71763957356), (0.0005410302660572143, 185364.71763957356), (0.0005410302660572143, 185364.71763957356), (0.0005410302660572143, 185364.71763957356), (3.9753525177261634e-05, 1002.3335449741537), (0.0005410302660572143, 185364.71763957356), (0.0005410302660572143, 185364.71763957356), (0.0005410302660572143, 185364.71763957356), (4.289247775341741e-05, 1166.614512528339), (1.6983955021687604e-06, 3.083889505060423), (4.307515592507222e-05, 1176.5594536735832), (674061392.8864237, 0.5706307578122204), (0.0005410302660572143, 185364.71763957356), (183667081555419.3, 0.0014709787907223745), (4.590435958737156e-05, 1335.9765140505333), (36065077874283.71, 0.0037323525669496578), (5.049036144956259e-05, 1615.9184429434304), (5.821388523630281e-07, 1.00000000819212), (2639574616.2509494, 0.296214791622502), (4.2903249902378365e-05, 1167.199772205228), (6.0057995291508516e-05, 2285.7062343959), (5.286677181449384e-05, 1771.4585224905588), (2.8612471688216506e-06, 6.604844265102121), (155414871.47181058, 0.6672031988085249), (0.0005410302660572143, 185364.71763957356), (0.0005410302660572143, 185364.71763957356), (8.281974413925557e-05, 4345.152727983161), (6.075495127719129e-05, 2339.027344459277), (3.693981064101944e-05, 865.6807764394872), (0.0005410302660572143, 185364.71763957356), (0.0005410302660572143, 185364.71763957356), (2.891368494797912e-06, 6.717046140889063), (2.2958855819937588e-05, 335.3635265255657), (4.424716921755534e-05, 1241.368912917313), (3.580426942301531e-05, 813.3711705799859), (3.599610142394872e-05, 822.0934232953647), (0.0005410302660572143, 185364.71763957356), (4.2746137387209594e-05, 1158.6782803202955), (4.210781612838799e-05, 1124.3784481042194), (4.0765158965104826e-05, 1053.9158420129029), (0.0005410302660572143, 185364.71763957356), (3.9584411588371586e-05, 993.8370439080988), (0.0005410302660572143, 185364.71763957356), (4.83282738934631e-05, 1480.6200672419345), (0.0005410302660572143, 185364.71763957356), (4.331506681159782e-05, 1189.6843273315599), (0.0005410302660572143, 185364.71763957356), (5.821260062053245e-07, 0.9999810655996545), (3.9626515346191844e-05, 995.9490086575495), (0.0005410302660572143, 185364.71763957356), (2.9829612431481446e-05, 565.045117931854), (0.0005410302660572143, 185364.71763957356), (6.53211129306964e-05, 2703.58335745311), (0.0005410302660572143, 185364.71763957356), (3.5621988228671675e-05, 805.1263597290771), (5.08939286353295e-05, 1641.8284151100768), (3.493739279715706e-05, 774.5370464454402), (6.475279224670806e-05, 2656.7706268922843), (12645806282287.043, 0.0014713480248753944), (0.0005410302660572143, 185364.71763957356), (3.039290969228449e-05, 586.5272885508418), (4.308591119200654e-05, 1177.1462844038392), (3.119660219225488e-05, 617.8730012016551), (0.0005410302660572143, 185364.71763957356), (0.0005410302660572143, 185364.71763957356), (0.0005410302660572143, 185364.71763957356), (126497578563690.81, 0.0011432280569825602), (3.9558923686112064e-05, 992.5596373140036), (73891052482832.2, 0.001521980492891788), (3.159790924141426e-05, 633.8310524374082), (0.0005410302660572143, 185364.71763957356), (4.640534157783132e-05, 1365.2618337196425), (3.441579932142749e-05, 751.6294447338306), (4.304495058035249e-05, 1174.9121679261239), (0.0005410302660572143, 185364.71763957356), (0.0005410302660572143, 185364.71763957356), (4.752607833639076e-05, 1431.926390785728), (5.906413956197134e-05, 2210.7347393029495), (0.0005410302660572143, 185364.71763957356), (4.2997560247393815e-05, 1172.3300063017819), (1.1567818259383716e-06, 1.9428393215259419), (5.481152933666106e-05, 1904.0678448300528), (0.0005410302660572143, 185364.71763957356), (0.0005410302660572143, 185364.71763957356), (0.0005410302660572143, 185364.71763957356), (0.0005410302660572143, 185364.71763957356), (4.9824443922045644e-05, 1573.6159537034182), (3.7113661353936e-05, 873.8335005736885), (0.0005410302660572143, 185364.71763957356), (2.8271866239915123e-06, 6.479282872857898), (4.379517491276461e-05, 1216.168647239747), (0.0005410302660572143, 185364.71763957356), (0.0005410302660572143, 185364.71763957356), (4.29171186193029e-06, 13.158782718638717), (6.006579972334532e-05, 2286.2999120345057), (6.09199628840303e-05, 2351.741745115439), (4.462585787774896e-05, 1262.6813356736038), (7.144235211909218e-05, 3233.7223728700865), (3.4503376540867135e-05, 755.4516346695286), (4.6273398570523756e-05, 1357.5181607024722), (0.0005410302660572143, 185364.71763957356), (6.019249512876475e-05, 2295.9483334052566), (6.480701978380132e-05, 2661.2197100450026), (3.187484927379965e-05, 644.9625717998506), (6.530226049476562e-05, 2702.0239173431064), (5.489346942513561e-05, 1909.7603474189389), (1.5570618209396455e-06, 2.758285985117362), (2.066162555149658e-06, 4.031022676016453), (0.0005410302660572143, 185364.71763957356), (2.9670607191091686e-05, 559.0539477886556), (4.002722176406593e-05, 1016.1611885918527), (0.0005410302660572143, 185364.71763957356), (3.711023449514211e-05, 873.6724282974868), (5.4631929530253725e-05, 1891.6205187496662), (5.82181707956914e-07, 1.0000632023057263), (5.0781997081431147e-05, 1634.621471866955), (3.0046669040730237e-05, 573.2753001056507), (0.0005410302660572143, 185364.71763957356), (0.0005410302660572143, 185364.71763957356), (6.031278698014208e-06, 24.56568707735889), (3.4349986573923914e-05, 748.763528607953), (6.44685310496049e-05, 2633.509427779878), (6.0176785351482246e-05, 2294.7508595311374), (5.236628331502114e-05, 1738.106152918562), (4.627181559799882e-05, 1357.4253906399088), (3.857056377962932e-05, 943.6594153351846), (2.937274348353026e-06, 6.8901471396593825), (2.712683669139731e-05, 467.56078284810354), (711083445591349.2, 0.0018591147631639863), (6.0856784075908964e-05, 2346.8696456300254), (0.0005410302660572143, 185364.71763957356), (24893659027032.957, 0.002941791417183179), (5.0520579604407815e-05, 1617.8513759297382), (0.0005410302660572143, 185364.71763957356), (0.0005410302660572143, 185364.71763957356), (3.981373212096388e-05, 1005.3671684228815), (6660881331750.43, 0.007489669230434954), (19904177836653.84, 0.00311095584350883), (4.9870683315538343e-05, 1576.5351715669628), (2614774709268.0073, 0.009186848151284408), (5.3708627574847214e-05, 1828.2750991386797), (3.940066804499633e-05, 984.6465709123501), (2.864368684368757e-05, 521.1317460709494), (11797425435569.654, 0.0013154623827144063), (3.584550741802298e-05, 815.2422546905484), (0.0005410302660572143, 185364.71763957356), (94832969896369.38, 0.002175811540104147), (4.626075677531972e-05, 1356.7773771634093), (4.340923324005215e-06, 13.429328406514157), (5.0560140531072914e-05, 1620.383676313451), (0.0005410302660572143, 185364.71763957356), (1.1451937391173455e-06, 1.921421755991806), (4.514819036946584e-05, 1292.3759979050553), (0.0005410302660572143, 185364.71763957356), (0.0005410302660572143, 185364.71763957356), (3.5641863750183146e-05, 806.0233108301834), (4.309295043020804e-05, 1177.530439854686), (5.96042299399293e-07, 1.0205370654143793), (7.192643534923457e-05, 3277.6719765388334), (5.150219286597129e-05, 1681.2701686104294), (2.8771388136989914e-05, 525.7747931674751), (7.234946616401441e-05, 3316.3216752152243), (6.540889992273595e-05, 2710.850870223373), (7.635593242911039e-05, 3693.605801386636), (6.846853919472547e-07, 1.1533676604175356), (4.307810404424192e-05, 1176.7202948851336), (0.0005410302660572143, 185364.71763957356), (6.894674562749543e-05, 3011.8568569003087), (6.792138937498367e-05, 2922.9863914336647), (3.78152838092106e-05, 907.1250431358227), (5.82132685434332e-07, 0.9999909146005079), (3.884055803870213e-05, 956.8948632670936), (0.0005410302660572143, 185364.71763957356), (4.263749587907187e-05, 1152.8040494139505), (5.821387695668833e-07, 0.9999998861030023), (5.494344672720932e-05, 1913.2365216002104), (5.821388179022847e-07, 0.9999999573771721), (4.309293283633926e-05, 1177.5294796184942), (0.0005410302660572143, 185364.71763957356), (3.916120032747286e-05, 972.7330672265957), (5.594711980204654e-05, 1983.7167434262815), (6.796442179725293e-05, 2926.689361717904), (3.103983268411939e-05, 611.6944347273851), (3.315790079450194e-05, 697.801920065228), (4.3005370860927796e-05, 1172.7553881857486), (4.9793338411132825e-05, 1571.6537022655336), (0.0005410302660572143, 185364.71763957356), (0.0005410302660572143, 185364.71763957356), (9506295911360.06, 0.004454238502307994), (0.0005410302660572143, 185364.71763957356), (3.970912262050738e-05, 1000.0991923439228), (1.0906266571617062e-06, 1.8221000744535585), (4.7959147680254045e-05, 1458.112688574688), (0.0005410302660572143, 185364.71763957356), (0.0005410302660572143, 185364.71763957356), (4.309338460513866e-05, 1177.554136329426), (6.066965931041905e-05, 2332.468985247887), (1.4589987746226682e-06, 2.5443104040172164), (8.60819698315159e-06, 48.4752116034573), (6.189368646197759e-05, 2427.4708233476495), (0.0005410302660572143, 185364.71763957356), (4.864587932159566e-05, 1500.124098295702), (6.518091526176702e-05, 2691.997227760442), (3.6301431157091465e-05, 836.0723387293144), (3.1122361118196975e-05, 614.9431478616424), (3.960465460852543e-05, 994.8521729213525), (5.06157597163725e-05, 1623.9472204115361), (0.0005410302660572143, 185364.71763957356), (5.471359643736029e-05, 1897.275452471551), (7.137703616834319e-05, 3227.8151040437515), (7.56046479367208e-05, 3621.3095678073064), (5.821834168990233e-07, 1.0000657222957061), (5.589917865434597e-05, 1980.3211911192334), (5.2709748821564285e-05, 1760.9604151868098), (4.75817327787516e-05, 1435.2783328647565), (6.454847563311019e-05, 2640.0409790512745), (5.378470996035146e-07, 0.9350159580010514), (0.0005410302660572143, 185364.71763957356), (4.055843138796382e-05, 1043.2696173739384), (0.0005410302660572143, 185364.71763957356), (3.73270992462566e-05, 883.8950104949838), (3.3423369499338687e-05, 708.9949214507569), (0.0005410302660572143, 185364.71763957356), (0.0005410302660572143, 185364.71763957356), (15465010480.14745, 0.13565178413152562), (4.3028008783274464e-05, 1173.9887319343004), (4.306422092723254e-05, 1175.96296663222), (4.629140579572101e-05, 1358.5736970451705), (4.117775444143184e-05, 1075.3258346574507), (3.2328530633359545e-05, 663.4080583011472), (3.5777181972636944e-05, 812.1433085824592), (3.971198889593211e-05, 1000.2433489626045), (0.0005410302660572143, 185364.71763957356), (5.593719980173211e-05, 1983.013895620349), (3.585089129502099e-05, 815.4866953216011), (3.5818888179467556e-05, 814.0342183553498), (0.0005410302660572143, 185364.71763957356), (10078128040093.232, 0.0036895188558522), (4.629141116151841e-05, 1358.5740116353554), (0.0005410302660572143, 185364.71763957356), (4.5832128315055925e-05, 1331.780394141681), (6.0743622600183456e-05, 2338.155717355425), (6.082768194278388e-05, 2344.627105029492), (0.0005410302660572143, 185364.71763957356), (4.9589129806849334e-05, 1558.801893200924), (5.522707346204396e-05, 1933.0241139490793), (4.16912715864175e-05, 1102.2739142271205), (4.149123541535403e-05, 1091.7368125415783), (5.604735575841096e-05, 1990.82561258131), (0.0005410302660572143, 185364.71763957356), (0.0005410302660572143, 185364.71763957356), (3.6555740975694646e-05, 847.8055346707644), (0.0005410302660572143, 185364.71763957356), (6.962619197698949e-07, 1.1709867974497399), (4.629069022926157e-05, 1358.5317445793842), (5.4281606358899056e-05, 1867.4586168723156), (5.105179741536311e-05, 1652.020093444431), (4.0501765820678415e-05, 1040.3608595197527), (5.669867915459648e-05, 2037.3283303492472), (4.619069484390973e-05, 1352.675559521961), (0.0005410302660572143, 185364.71763957356), (0.0005410302660572143, 185364.71763957356), (6.793617606726795e-05, 2924.258532246046), (3.57626089409823e-05, 811.4831040436641), (2.9423078917692687e-06, 6.909282152394218), (0.0005410302660572143, 185364.71763957356), (3.623477814975501e-05, 833.0106890189147), (5.367276119941533e-05, 1825.836182768902), (4.8420609312980625e-05, 1486.2771789755725), (8.198968839634276e-07, 1.3637998514673628), (0.0005410302660572143, 185364.71763957356), (0.0005410302660572143, 185364.71763957356), (0.0005410302660572143, 185364.71763957356), (0.0005410302660572143, 185364.71763957356), (4.5958911319480006e-05, 1339.149958966942), (5.062871525037471e-05, 1624.777849407505), (4.48323676127797e-05, 1274.3801365907293), (0.0005410302660572143, 185364.71763957356), (5.2585956373173715e-05, 1752.706020656016), (4.20519123638845e-05, 1121.3990674329452), (3.63457571900419e-05, 838.111532835443), (3.695732992905843e-05, 866.5006085752294), (126051461130610.52, 0.0012331397603077368), (4.973775280050893e-05, 1568.1502065192617), (4.8733486479581935e-05, 1505.5265015450084), (1.3225633515435641e-06, 2.262262825255149), (0.0005410302660572143, 185364.71763957356), (3.5851074301883486e-05, 815.495004907121), (3.324080541330866e-05, 701.2878568190007), (0.0005410302660572143, 185364.71763957356), (0.0005410302660572143, 185364.71763957356), (6.440411930885978e-05, 2628.252813250323), (0.0005410302660572143, 185364.71763957356), (0.0005410302660572143, 185364.71763957356), (0.0005410302660572143, 185364.71763957356), (5.330385424231561e-05, 1800.845040721794), (0.0005410302660572143, 185364.71763957356), (3.963762297590228e-05, 996.5065522714675), (0.0005410302660572143, 185364.71763957356), (4.370677375762569e-05, 1211.2702248486348), (4.189804521633302e-05, 1113.2191860945823), (13629027938008.35, 0.0033809920503055798), (5.821194426083082e-07, 0.999971387122028), (4.348593940235958e-05, 1199.0767524272144), (4.8807210468658305e-05, 1510.080314030245), (0.0005410302660572143, 185364.71763957356), (0.0005410302660572143, 185364.71763957356), (0.0005410302660572143, 185364.71763957356)]\n",
      "824.4332613945007\n"
     ]
    }
   ],
   "source": [
    "start_time = time.time()\n",
    "CM =[]\n",
    "for i in range(1, 1400):\n",
    "    CM.append(halos_CM(h[i], to_graph = False))\n",
    "    print('halo number ' + str(i) + ' is done')\n",
    "print(CM)\n",
    "print(time.time() - start_time)"
   ]
  },
  {
   "cell_type": "code",
   "execution_count": 10,
   "metadata": {},
   "outputs": [],
   "source": [
    "# so apparently there is a lot of noise close to the center [only if its logarithmic profile which it is  not  assumed   by papaer model]\n",
    "# also those halos that are out of NIHAO mass range are creating problems [w]ill  see about that"
   ]
  },
  {
   "cell_type": "code",
   "execution_count": 11,
   "metadata": {},
   "outputs": [],
   "source": [
    "# m_i = []\n",
    "# for i in range(1,101):\n",
    "#     mass = (float ( ( h[i]['mass'].sum() ) ) )\n",
    "# #     print(float(mass))\n",
    "#     if not ( 5*10**9 < mass and mass < 2*10**12):\n",
    "#         m_i.append(i)\n",
    "# #     print(not ( 5*10**9 < mass and mass < 2*10**12))"
   ]
  },
  {
   "cell_type": "code",
   "execution_count": 12,
   "metadata": {},
   "outputs": [],
   "source": [
    "# [49, 55, 67, 91, 96, 149, 175] these  are 'bad' halos but problem is resolved now\n",
    "# [203, 205, 214, 218, 219, 223, 238, 244, 281, 288, 292, 308, 317, 326, 327, 332, 337, 352, 355, 378, 382, 391, 401, 404, 407, 430, 439, 440, 442, 443, 448, 452, 455, 463, 469, 486, 496, 508, 514, 518, 519, 523, 527, 528, 534, 537, 544, 546, 547, 549, 555, 560, 561, 572, 575, 576, 580, 582, 583, 586, 588, 591, 603, 605, 608, 610, 612, 615, 617, 618, 623, 628, 631, 633, 637, 643, 646, 652, 653, 655, 658, 663, 668, 669, 672, 674, 675, 676, 681, 682, 685, 690, 691, 698, 699, 700, 704, 705, 706, 707, 708, 711, 719, 726, 727, 730, 734, 735, 737, 739, 740, 741, 744, 745, 747, 748, 752, 754, 758, 760, 761, 774, 777, 778, 782, 784, 786, 787, 790, 791, 796, 798, 801, 802, 803, 807, 809, 811, 814, 816, 817, 819, 820, 821, 824, 825, 827, 828, 829, 830, 831, 833, 835, 838, 839, 843, 845, 848, 850, 856, 857, 858, 859, 860, 861, 863, 865, 867, 868, 869, 871, 873, 875, 883, 884, 885, 887, 889, 891, 892, 893, 896, 899, 900, 902, 903, 904, 905, 906, 908, 909, 911, 912, 916, 917, 918, 920, 923, 924, 927, 928, 929, 932, 934, 936, 937, 941, 949, 952, 953, 955, 958, 961, 963, 964, 969, 972, 973, 976, 978, 979, 980, 983, 985, 986, 991, 993, 994, 998, 999, 1000, 1002, 1004, 1005, 1007, 1009, 1015, 1016, 1020, 1021, 1022, 1023, 1024, 1025, 1027, 1029, 1030, 1031, 1032, 1033, 1034, 1037, 1039, 1042, 1043, 1045, 1047, 1048, 1049, 1054, 1056, 1059, 1061, 1064, 1065, 1067, 1068, 1069, 1072, 1077, 1080, 1081, 1082, 1083, 1084, 1085, 1086, 1087, 1088, 1089, 1093, 1095, 1096, 1100, 1101, 1102, 1104, 1106, 1108, 1109, 1110, 1111, 1112, 1113, 1116, 1119, 1120, 1122, 1123, 1124, 1125, 1126, 1127, 1128, 1129, 1130, 1131, 1135, 1137, 1138, 1139, 1140, 1141, 1142, 1146, 1147, 1148, 1149, 1151, 1152, 1153, 1154, 1155, 1156, 1159, 1162, 1163, 1164, 1165, 1167, 1168, 1169, 1171, 1172, 1173, 1176, 1177, 1178, 1179, 1181, 1182, 1185, 1186, 1188, 1189, 1190, 1191, 1192, 1193, 1195, 1196, 1197, 1199, 1200, 1201, 1202, 1203, 1204, 1205, 1207, 1208, 1209, 1210, 1211, 1212, 1214, 1215, 1217, 1218, 1219, 1221, 1224, 1226, 1229, 1230, 1232, 1233, 1236, 1240, 1241, 1244, 1245, 1247, 1248, 1250, 1252, 1254, 1255, 1259, 1260, 1261, 1262, 1263, 1265, 1268, 1269, 1272, 1273, 1274, 1275, 1276, 1277, 1278, 1279, 1281, 1282, 1283, 1284, 1286, 1287, 1288, 1290, 1291, 1293, 1294, 1295, 1296, 1297, 1298, 1300, 1301, 1305, 1306, 1307, 1309, 1311, 1312, 1314, 1315, 1316, 1317, 1318, 1319, 1320, 1321, 1322, 1323, 1324, 1325, 1326, 1327, 1328, 1330, 1332, 1336, 1337, 1339, 1340, 1341, 1342, 1343, 1344, 1346, 1347, 1348, 1349, 1350, 1351, 1352, 1354, 1355, 1357, 1359, 1360, 1363, 1365, 1366, 1367, 1368, 1370, 1371, 1372, 1373, 1374, 1375, 1376, 1378, 1379, 1380, 1382, 1383, 1385, 1387, 1388, 1389, 1391, 1392, 1396, 1397, 1398, 1399, 1400, 1402, 1403, 1404, 1405, 1406, 1407, 1408, 1410]"
   ]
  },
  {
   "cell_type": "code",
   "execution_count": 13,
   "metadata": {},
   "outputs": [
    {
     "data": {
      "text/plain": [
       "\"\\nThis is just to see how centering works and responsed  for debugging \\n\\ni = 55\\np0 =  h[i]['pos'][1],h[i]['vel'][1]\\nprint(p0)\\nprint(h[i][pyn.filt.Sphere('2000 kpc', cen = p0[0])])\\n# vcenter  = pyn.analysis.halo.vel_center(h[i], mode = 'com', cen_size = '2000 kpc', retcen = True)\\nprint(h[i][pyn.filt.Sphere('20 kpc')])\\nwith pyn.analysis.halo.center(h[i], mode = 'com', vel = False, cen_size = '20 kpc'):\\n    print(h[i]['pos'][0],h[i]['vel'][0])\\n    print(h[i].dm[pyn.filt.Sphere('20 kpc')])\\n#     print(pyn.analysis.halo.vel_center(h[i], mode = 'com', cen_size = '20 kpc'))\\n    pyn.analysis.angmom.faceon(h[i], cen_size = '20 kpc', vcen = p0[1])\\nlen(h[i])\\nlen(h[i][pyn.filt.Sphere('300000 kpc')])\\nprint(h[i]['pos'])\\n\\n\""
      ]
     },
     "execution_count": 13,
     "metadata": {},
     "output_type": "execute_result"
    }
   ],
   "source": [
    "\"\"\"\n",
    "This is just to see how centering works and responsed  for debugging \n",
    "\n",
    "i = 55\n",
    "p0 =  h[i]['pos'][1],h[i]['vel'][1]\n",
    "print(p0)\n",
    "print(h[i][pyn.filt.Sphere('2000 kpc', cen = p0[0])])\n",
    "# vcenter  = pyn.analysis.halo.vel_center(h[i], mode = 'com', cen_size = '2000 kpc', retcen = True)\n",
    "print(h[i][pyn.filt.Sphere('20 kpc')])\n",
    "with pyn.analysis.halo.center(h[i], mode = 'com', vel = False, cen_size = '20 kpc'):\n",
    "    print(h[i]['pos'][0],h[i]['vel'][0])\n",
    "    print(h[i].dm[pyn.filt.Sphere('20 kpc')])\n",
    "#     print(pyn.analysis.halo.vel_center(h[i], mode = 'com', cen_size = '20 kpc'))\n",
    "    pyn.analysis.angmom.faceon(h[i], cen_size = '20 kpc', vcen = p0[1])\n",
    "len(h[i])\n",
    "len(h[i][pyn.filt.Sphere('300000 kpc')])\n",
    "print(h[i]['pos'])\n",
    "\n",
    "\"\"\""
   ]
  }
 ],
 "metadata": {
  "kernelspec": {
   "display_name": "Python 3",
   "language": "python",
   "name": "python3"
  },
  "language_info": {
   "codemirror_mode": {
    "name": "ipython",
    "version": 3
   },
   "file_extension": ".py",
   "mimetype": "text/x-python",
   "name": "python",
   "nbconvert_exporter": "python",
   "pygments_lexer": "ipython3",
   "version": "3.6.9"
  }
 },
 "nbformat": 4,
 "nbformat_minor": 4
}
