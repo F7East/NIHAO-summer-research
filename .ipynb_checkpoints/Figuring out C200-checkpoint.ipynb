{
 "cells": [
  {
   "cell_type": "code",
   "execution_count": 1,
   "metadata": {},
   "outputs": [],
   "source": [
    "# So what questions do I have so far?\n",
    "# 1. Should I use rho(r) to find r_s (so after long debate with my self I say no because does not help) [turns out yes! cause it makes better graphs]\n",
    "# 2. Should I use V(r) to find V_200 and C_200 (better find r_s and C200  {actually better to find V_200, see pont 1})\n",
    "# 3. If 1 and 2 then I get two values for r_s (yeah how different are they?)\n",
    "# 4. it seems that r_s obtained from rho(r) is more presize \n",
    "# 5. Should I find r_200 just from rho_enc (probably not [don't think so any more])\n",
    "# 6. should I find M_200 from mass profile from paper or by using mass_enc (assume paper [yeah paper, coz than  you could just use rho_200 but professor told to fit   the halos)"
   ]
  },
  {
   "cell_type": "code",
   "execution_count": 2,
   "metadata": {},
   "outputs": [],
   "source": [
    "import time\n",
    "import pynbody as pyn\n",
    "import scipy, numpy, DM_Profiles, os\n",
    "from matplotlib import pylab as plt\n",
    "s = pyn.load('/media/tengiz/81498267-fb7c-4587-88ea-5c63aaf2cb66/Pynbody/testdata/g15784.lr.01024.gz')\n",
    "s.physical_units()\n",
    "h = s.halos()\n",
    "# rho_crit = pyn.analysis.cosmology.rho_crit(s)*200\n",
    "# H = float(pyn.analysis.cosmology.H(s))\n",
    "# tmass = h[1]['mass'].sum()"
   ]
  },
  {
   "cell_type": "code",
   "execution_count": 3,
   "metadata": {
    "scrolled": true
   },
   "outputs": [],
   "source": [
    "def halos_CM(halo, to_graph = False, to_save = False):\n",
    "    # well this is very poorely written | not anymore\n",
    "#     modes = ['hyb', 'ssc', 'com','pot']\n",
    "    output = ()\n",
    "    with pyn.analysis.angmom.faceon(h[halo], cen_size  =  '10 kpc'):\n",
    "        output = halos_exec(halo, to_graph, to_save)\n",
    "#     try: \n",
    "#         with pyn.analysis.angmom.faceon(h[halo], cen_size  =  '10 kpc'):\n",
    "#             output = halos_exec(halo, to_graph, to_save)  \n",
    "#     except (ValueError, RuntimeError):\n",
    "#         print('faceon has failed, trying backup')\n",
    "#         try:\n",
    "#             with pyn.analysis.halo.center(h[halo], vel = False, cen_size = '10 kpc'):\n",
    "#                 output = halos_exec(halo, to_graph, to_save)\n",
    "# #                     pyn.plot.image(halo.g, width=1000, cmap='Blues')\n",
    "#         except (ValueError, RuntimeError):\n",
    "#             output = 'failure'\n",
    "# #             pyn.plot.image(halo.g, width=100, cmap='Blues')\n",
    "        \n",
    "        '''\n",
    "        this is for the case  if you need other centerings\n",
    "        for i in range(5):\n",
    "            if i == 4:\n",
    "                print('all backups have failed')\n",
    "                try:\n",
    "                    with pyn.analysis.halo.center(halo, mode = modes[3], vel = False, cen_size = '20 kpc'):\n",
    "                        output = halos_exec(halo, to_graph)\n",
    "                        break\n",
    "    #                     pyn.plot.image(halo.g, width=1000, cmap='Blues')\n",
    "                except ValueError:\n",
    "                    output = 'failure'\n",
    "                    break\n",
    "            try:\n",
    "                with pyn.analysis.halo.center(halo, mode = modes[i], vel = True, cen_size = '20 kpc'):\n",
    "                    pyn.analysis.angmom.faceon(halo, cen =  halo['pos'][0], vel = halo['vel'][0])\n",
    "                    output = halos_exec(halo, to_graph)\n",
    "#                     pyn.plot.image(halo.g, width=1000, cmap='Blues')\n",
    "                break\n",
    "            except (ValueError, RuntimeError):\n",
    "                print(modes[i] + ' backup has failed')\n",
    "        '''\n",
    "\n",
    "    return output"
   ]
  },
  {
   "cell_type": "code",
   "execution_count": 4,
   "metadata": {},
   "outputs": [],
   "source": [
    "def halos_exec(halo, to_graph = False, to_save = False):\n",
    "    #takes in halo and boolean whether to graph \n",
    "    # outputs mass and concentration\n",
    "    \n",
    "    p = pyn.analysis.profile.Profile(h[halo], min = 0.01, max = 50, ndim = 3, type = 'lin', nbins = 100)\n",
    "    radii = p['rbins']\n",
    "    den = p['density']\n",
    "    vel = p['v_circ']\n",
    "    hp = DM_Profiles.DM_Profile(radii, den, vel, s, halo)\n",
    "    hp.fits_pISO() \n",
    "    output = hp.pISO()\n",
    "    if to_graph:\n",
    "        den_plot(hp, to_save)\n",
    "        vel_plot(hp, to_save)\n",
    "        \n",
    "    return output[0], output[1]"
   ]
  },
  {
   "cell_type": "code",
   "execution_count": 5,
   "metadata": {},
   "outputs": [],
   "source": [
    "# den plot\n",
    "def den_plot(halo_profile, to_save):\n",
    "    # takes radii, den, param and DM_Profile object from DM_Profiles and outputs den profile with p_ISO curve_fit\n",
    "    import DM_Profiles\n",
    "    from matplotlib import pylab as plt\n",
    "    fig, ax = plt.subplots() \n",
    "    ax.semilogx(halo_profile.radii, halo_profile.den, 'g--')\n",
    "    ax.semilogx(halo_profile.radii, halo_profile.rho_pISO(halo_profile.radii, *halo_profile.param), 'r-')\n",
    "    ax.grid()\n",
    "    ax.legend(('data','fit'))\n",
    "    ax.set_title('halo_' +  str(halo_profile.number) + ' density profile')\n",
    "    ax.set_xlabel('$R$ [kpc]')\n",
    "    ax.set_ylabel(r'log ($\\rho_{pISO}$) [M$_{\\odot}$ /kpc$^{3}$]')\n",
    "    if to_save:\n",
    "        plt.savefig('Graphs/density_plot' + str(halo_profile.number) +  '.jpg')\n",
    "    plt.show()\n",
    "\n",
    "#     halo_profile.chisq_pISO()\n",
    "#     print(halo_profile.den_chisq)"
   ]
  },
  {
   "cell_type": "code",
   "execution_count": 6,
   "metadata": {},
   "outputs": [],
   "source": [
    "# vel plot\n",
    "def vel_plot(halo_profile, to_save):\n",
    "    # takes radii, den, param and DM_Profile object from DM_Profiles and outputs vel profile with p_ISO curve_fit\n",
    "    import DM_Profiles\n",
    "    from matplotlib import pylab as plt\n",
    "    fig1, ax1 = plt.subplots()\n",
    "    ax1.plot(halo_profile.radii, halo_profile.vel, 'g--')\n",
    "    ax1.plot(halo_profile.radii, halo_profile.V_pISO(halo_profile.radii, *halo_profile.param1), 'r-')\n",
    "    ax1.grid()\n",
    "    ax1.legend(('data','fit'))\n",
    "    ax1.set_title('halo_' +  str(halo_profile.number) + ' velocity rotation curve')\n",
    "    ax1.set_xlabel('$R$ [kpc]')\n",
    "    ax1.set_ylabel('V$_{pISO}$ [km/s] ')\n",
    "    if to_save:\n",
    "        plt.savefig('Graphs/velocity_plot' + str(halo_profile.number) + '.jpg')\n",
    "    plt.show()\n",
    "\n",
    "#     halo_profile.chisq_pISO()\n",
    "#     print(halo_profile.vel_chisq)"
   ]
  },
  {
   "cell_type": "code",
   "execution_count": 7,
   "metadata": {},
   "outputs": [],
   "source": [
    "# I leave this code here for debugging coz lazy\n",
    "# def rho_pISO(r, rho_s,r_s): \n",
    "#     # r200 is the radius inside of which the average halo (bg paper)\n",
    "#     return rho_s/(1+(r/r_s)**2)\n",
    "# def V_pISO(r, C_200):\n",
    "# #     if param == []: raise CustomError('rho_pISO has not been fitted yet')\n",
    "#     H = float(pyn.analysis.cosmology.H(s))\n",
    "#     return 10*H*param[1]*C_200*((1-numpy.arctan((r/param[1]))/(r/param[1]))/(1-numpy.arctan(C_200)/C_200))**0.5\n",
    "\n",
    "# pyn.analysis.halo.center(h[1], mode = 'hyb', cen_size = '10 kpc')\n",
    "# pyn.analysis.angmom.faceon(h[1])\n",
    "# initial_guess = [10**10, 0.01]\n",
    "# p = pyn.analysis.profile.Profile(h[1], min = 0.01, max = 50, ndim = 3, type = 'log', nbins = 50)\n",
    "# radii = p['rbins']\n",
    "# den = p['density']\n",
    "# vel = p['v_circ']\n",
    "# param, covar = fit(rho_pISO, radii, den, p0 = initial_guess, bounds = (0,numpy.inf))\n",
    "# param1, covar1 = fit(V_pISO, radii, vel, bounds = (0, numpy.inf))\n"
   ]
  },
  {
   "cell_type": "code",
   "execution_count": 8,
   "metadata": {},
   "outputs": [],
   "source": [
    "# bad_halos = []\n",
    "# for i in range(201,len(h)):\n",
    "#     output = halos_CM(h[i])\n",
    "#     if output == ('failure'):\n",
    "#         bad_halos.append(i)\n",
    "#     print('halo number ' + str(i) + ' is done')\n",
    "# print(bad_halos)"
   ]
  },
  {
   "cell_type": "code",
   "execution_count": 23,
   "metadata": {},
   "outputs": [
    {
     "name": "stderr",
     "output_type": "stream",
     "text": [
      "/home/tengiz/.local/lib/python3.6/site-packages/pynbody/array.py:865: FutureWarning: Using a non-tuple sequence for multidimensional indexing is deprecated; use `arr[tuple(seq)]` instead of `arr[seq]`. In the future this will be interpreted as an array index, `arr[np.array(seq)]`, which will result either in an error or a different result.\n",
      "  return self.base[self._reexpress_index(item)]\n",
      "pynbody.analysis.profile : Profile v_circ -- this routine assumes the disk is in the x-y plane\n"
     ]
    },
    {
     "ename": "RuntimeError",
     "evalue": "Optimal parameters not found: The maximum number of function evaluations is exceeded.",
     "output_type": "error",
     "traceback": [
      "\u001b[0;31m---------------------------------------------------------------------------\u001b[0m",
      "\u001b[0;31mRuntimeError\u001b[0m                              Traceback (most recent call last)",
      "\u001b[0;32m<ipython-input-23-1ca6a031793e>\u001b[0m in \u001b[0;36m<module>\u001b[0;34m\u001b[0m\n\u001b[1;32m      2\u001b[0m \u001b[0mCM\u001b[0m \u001b[0;34m=\u001b[0m\u001b[0;34m[\u001b[0m\u001b[0;34m]\u001b[0m\u001b[0;34m\u001b[0m\u001b[0;34m\u001b[0m\u001b[0m\n\u001b[1;32m      3\u001b[0m \u001b[0;32mfor\u001b[0m \u001b[0mhalo\u001b[0m \u001b[0;32min\u001b[0m \u001b[0mrange\u001b[0m\u001b[0;34m(\u001b[0m\u001b[0;36m10\u001b[0m\u001b[0;34m,\u001b[0m \u001b[0;36m11\u001b[0m\u001b[0;34m)\u001b[0m\u001b[0;34m:\u001b[0m\u001b[0;34m\u001b[0m\u001b[0;34m\u001b[0m\u001b[0m\n\u001b[0;32m----> 4\u001b[0;31m     \u001b[0mCM\u001b[0m\u001b[0;34m.\u001b[0m\u001b[0mappend\u001b[0m\u001b[0;34m(\u001b[0m\u001b[0mhalos_CM\u001b[0m\u001b[0;34m(\u001b[0m\u001b[0mhalo\u001b[0m\u001b[0;34m,\u001b[0m \u001b[0mto_graph\u001b[0m \u001b[0;34m=\u001b[0m \u001b[0;32mTrue\u001b[0m\u001b[0;34m,\u001b[0m \u001b[0mto_save\u001b[0m \u001b[0;34m=\u001b[0m \u001b[0;32mTrue\u001b[0m\u001b[0;34m)\u001b[0m\u001b[0;34m)\u001b[0m\u001b[0;34m\u001b[0m\u001b[0;34m\u001b[0m\u001b[0m\n\u001b[0m\u001b[1;32m      5\u001b[0m     \u001b[0mprint\u001b[0m\u001b[0;34m(\u001b[0m\u001b[0;34m'halo number '\u001b[0m \u001b[0;34m+\u001b[0m \u001b[0mstr\u001b[0m\u001b[0;34m(\u001b[0m\u001b[0mhalo\u001b[0m\u001b[0;34m)\u001b[0m \u001b[0;34m+\u001b[0m \u001b[0;34m' is done'\u001b[0m\u001b[0;34m)\u001b[0m\u001b[0;34m\u001b[0m\u001b[0;34m\u001b[0m\u001b[0m\n\u001b[1;32m      6\u001b[0m \u001b[0mprint\u001b[0m\u001b[0;34m(\u001b[0m\u001b[0mCM\u001b[0m\u001b[0;34m)\u001b[0m\u001b[0;34m\u001b[0m\u001b[0;34m\u001b[0m\u001b[0m\n",
      "\u001b[0;32m<ipython-input-3-0e5d35e81860>\u001b[0m in \u001b[0;36mhalos_CM\u001b[0;34m(halo, to_graph, to_save)\u001b[0m\n\u001b[1;32m      4\u001b[0m     \u001b[0moutput\u001b[0m \u001b[0;34m=\u001b[0m \u001b[0;34m(\u001b[0m\u001b[0;34m)\u001b[0m\u001b[0;34m\u001b[0m\u001b[0;34m\u001b[0m\u001b[0m\n\u001b[1;32m      5\u001b[0m     \u001b[0;32mwith\u001b[0m \u001b[0mpyn\u001b[0m\u001b[0;34m.\u001b[0m\u001b[0manalysis\u001b[0m\u001b[0;34m.\u001b[0m\u001b[0mangmom\u001b[0m\u001b[0;34m.\u001b[0m\u001b[0mfaceon\u001b[0m\u001b[0;34m(\u001b[0m\u001b[0mh\u001b[0m\u001b[0;34m[\u001b[0m\u001b[0mhalo\u001b[0m\u001b[0;34m]\u001b[0m\u001b[0;34m,\u001b[0m \u001b[0mcen_size\u001b[0m  \u001b[0;34m=\u001b[0m  \u001b[0;34m'10 kpc'\u001b[0m\u001b[0;34m)\u001b[0m\u001b[0;34m:\u001b[0m\u001b[0;34m\u001b[0m\u001b[0;34m\u001b[0m\u001b[0m\n\u001b[0;32m----> 6\u001b[0;31m         \u001b[0moutput\u001b[0m \u001b[0;34m=\u001b[0m \u001b[0mhalos_exec\u001b[0m\u001b[0;34m(\u001b[0m\u001b[0mhalo\u001b[0m\u001b[0;34m,\u001b[0m \u001b[0mto_graph\u001b[0m\u001b[0;34m,\u001b[0m \u001b[0mto_save\u001b[0m\u001b[0;34m)\u001b[0m\u001b[0;34m\u001b[0m\u001b[0;34m\u001b[0m\u001b[0m\n\u001b[0m\u001b[1;32m      7\u001b[0m \u001b[0;31m#     try:\u001b[0m\u001b[0;34m\u001b[0m\u001b[0;34m\u001b[0m\u001b[0;34m\u001b[0m\u001b[0m\n\u001b[1;32m      8\u001b[0m \u001b[0;31m#         with pyn.analysis.angmom.faceon(h[halo], cen_size  =  '10 kpc'):\u001b[0m\u001b[0;34m\u001b[0m\u001b[0;34m\u001b[0m\u001b[0;34m\u001b[0m\u001b[0m\n",
      "\u001b[0;32m<ipython-input-4-a4ad02f23af0>\u001b[0m in \u001b[0;36mhalos_exec\u001b[0;34m(halo, to_graph, to_save)\u001b[0m\n\u001b[1;32m      8\u001b[0m     \u001b[0mvel\u001b[0m \u001b[0;34m=\u001b[0m \u001b[0mp\u001b[0m\u001b[0;34m[\u001b[0m\u001b[0;34m'v_circ'\u001b[0m\u001b[0;34m]\u001b[0m\u001b[0;34m\u001b[0m\u001b[0;34m\u001b[0m\u001b[0m\n\u001b[1;32m      9\u001b[0m     \u001b[0mhp\u001b[0m \u001b[0;34m=\u001b[0m \u001b[0mDM_Profiles\u001b[0m\u001b[0;34m.\u001b[0m\u001b[0mDM_Profile\u001b[0m\u001b[0;34m(\u001b[0m\u001b[0mradii\u001b[0m\u001b[0;34m,\u001b[0m \u001b[0mden\u001b[0m\u001b[0;34m,\u001b[0m \u001b[0mvel\u001b[0m\u001b[0;34m,\u001b[0m \u001b[0ms\u001b[0m\u001b[0;34m,\u001b[0m \u001b[0mhalo\u001b[0m\u001b[0;34m)\u001b[0m\u001b[0;34m\u001b[0m\u001b[0;34m\u001b[0m\u001b[0m\n\u001b[0;32m---> 10\u001b[0;31m     \u001b[0mhp\u001b[0m\u001b[0;34m.\u001b[0m\u001b[0mfits_pISO\u001b[0m\u001b[0;34m(\u001b[0m\u001b[0;34m)\u001b[0m\u001b[0;34m\u001b[0m\u001b[0;34m\u001b[0m\u001b[0m\n\u001b[0m\u001b[1;32m     11\u001b[0m     \u001b[0moutput\u001b[0m \u001b[0;34m=\u001b[0m \u001b[0mhp\u001b[0m\u001b[0;34m.\u001b[0m\u001b[0mpISO\u001b[0m\u001b[0;34m(\u001b[0m\u001b[0;34m)\u001b[0m\u001b[0;34m\u001b[0m\u001b[0;34m\u001b[0m\u001b[0m\n\u001b[1;32m     12\u001b[0m     \u001b[0;32mif\u001b[0m \u001b[0mto_graph\u001b[0m\u001b[0;34m:\u001b[0m\u001b[0;34m\u001b[0m\u001b[0;34m\u001b[0m\u001b[0m\n",
      "\u001b[0;32m/media/tengiz/81498267-fb7c-4587-88ea-5c63aaf2cb66/Pynbody/commits/DM_Profiles.py\u001b[0m in \u001b[0;36mfits_pISO\u001b[0;34m(self)\u001b[0m\n\u001b[1;32m     36\u001b[0m         \u001b[0;31m# fits rho_pISO and V_pISO with their parameters\u001b[0m\u001b[0;34m\u001b[0m\u001b[0;34m\u001b[0m\u001b[0;34m\u001b[0m\u001b[0m\n\u001b[1;32m     37\u001b[0m         \u001b[0minitial_guess\u001b[0m \u001b[0;34m=\u001b[0m \u001b[0;34m[\u001b[0m\u001b[0mself\u001b[0m\u001b[0;34m.\u001b[0m\u001b[0mden\u001b[0m\u001b[0;34m[\u001b[0m\u001b[0;36m0\u001b[0m\u001b[0;34m]\u001b[0m\u001b[0;34m,\u001b[0m \u001b[0;36m0.01\u001b[0m\u001b[0;34m]\u001b[0m\u001b[0;34m\u001b[0m\u001b[0;34m\u001b[0m\u001b[0m\n\u001b[0;32m---> 38\u001b[0;31m         \u001b[0mself\u001b[0m\u001b[0;34m.\u001b[0m\u001b[0mparam\u001b[0m\u001b[0;34m,\u001b[0m \u001b[0mcovar\u001b[0m \u001b[0;34m=\u001b[0m \u001b[0mfit\u001b[0m\u001b[0;34m(\u001b[0m\u001b[0mself\u001b[0m\u001b[0;34m.\u001b[0m\u001b[0mrho_pISO\u001b[0m\u001b[0;34m,\u001b[0m \u001b[0mself\u001b[0m\u001b[0;34m.\u001b[0m\u001b[0mradii\u001b[0m\u001b[0;34m,\u001b[0m \u001b[0mself\u001b[0m\u001b[0;34m.\u001b[0m\u001b[0mden\u001b[0m\u001b[0;34m,\u001b[0m \u001b[0mp0\u001b[0m  \u001b[0;34m=\u001b[0m \u001b[0minitial_guess\u001b[0m\u001b[0;34m,\u001b[0m \u001b[0mbounds\u001b[0m \u001b[0;34m=\u001b[0m \u001b[0;34m(\u001b[0m \u001b[0;34m[\u001b[0m\u001b[0mself\u001b[0m\u001b[0;34m.\u001b[0m\u001b[0mden\u001b[0m\u001b[0;34m[\u001b[0m\u001b[0;34m-\u001b[0m\u001b[0;36m1\u001b[0m\u001b[0;34m]\u001b[0m\u001b[0;34m,\u001b[0m \u001b[0;36m0\u001b[0m\u001b[0;34m]\u001b[0m \u001b[0;34m,\u001b[0m \u001b[0mnumpy\u001b[0m\u001b[0;34m.\u001b[0m\u001b[0minf\u001b[0m\u001b[0;34m)\u001b[0m\u001b[0;34m)\u001b[0m\u001b[0;34m\u001b[0m\u001b[0;34m\u001b[0m\u001b[0m\n\u001b[0m\u001b[1;32m     39\u001b[0m         \u001b[0mself\u001b[0m\u001b[0;34m.\u001b[0m\u001b[0mparam1\u001b[0m\u001b[0;34m,\u001b[0m \u001b[0mcovar1\u001b[0m \u001b[0;34m=\u001b[0m \u001b[0mfit\u001b[0m\u001b[0;34m(\u001b[0m\u001b[0mself\u001b[0m\u001b[0;34m.\u001b[0m\u001b[0mV_pISO\u001b[0m\u001b[0;34m,\u001b[0m \u001b[0mself\u001b[0m\u001b[0;34m.\u001b[0m\u001b[0mradii\u001b[0m\u001b[0;34m,\u001b[0m \u001b[0mself\u001b[0m\u001b[0;34m.\u001b[0m\u001b[0mvel\u001b[0m\u001b[0;34m,\u001b[0m \u001b[0mbounds\u001b[0m \u001b[0;34m=\u001b[0m \u001b[0;34m(\u001b[0m\u001b[0;36m0\u001b[0m\u001b[0;34m,\u001b[0m \u001b[0mnumpy\u001b[0m\u001b[0;34m.\u001b[0m\u001b[0minf\u001b[0m\u001b[0;34m)\u001b[0m\u001b[0;34m)\u001b[0m\u001b[0;34m\u001b[0m\u001b[0;34m\u001b[0m\u001b[0m\n\u001b[1;32m     40\u001b[0m \u001b[0;34m\u001b[0m\u001b[0m\n",
      "\u001b[0;32m~/.local/lib/python3.6/site-packages/scipy/optimize/minpack.py\u001b[0m in \u001b[0;36mcurve_fit\u001b[0;34m(f, xdata, ydata, p0, sigma, absolute_sigma, check_finite, bounds, method, jac, **kwargs)\u001b[0m\n\u001b[1;32m    776\u001b[0m \u001b[0;34m\u001b[0m\u001b[0m\n\u001b[1;32m    777\u001b[0m         \u001b[0;32mif\u001b[0m \u001b[0;32mnot\u001b[0m \u001b[0mres\u001b[0m\u001b[0;34m.\u001b[0m\u001b[0msuccess\u001b[0m\u001b[0;34m:\u001b[0m\u001b[0;34m\u001b[0m\u001b[0;34m\u001b[0m\u001b[0m\n\u001b[0;32m--> 778\u001b[0;31m             \u001b[0;32mraise\u001b[0m \u001b[0mRuntimeError\u001b[0m\u001b[0;34m(\u001b[0m\u001b[0;34m\"Optimal parameters not found: \"\u001b[0m \u001b[0;34m+\u001b[0m \u001b[0mres\u001b[0m\u001b[0;34m.\u001b[0m\u001b[0mmessage\u001b[0m\u001b[0;34m)\u001b[0m\u001b[0;34m\u001b[0m\u001b[0;34m\u001b[0m\u001b[0m\n\u001b[0m\u001b[1;32m    779\u001b[0m \u001b[0;34m\u001b[0m\u001b[0m\n\u001b[1;32m    780\u001b[0m         \u001b[0mysize\u001b[0m \u001b[0;34m=\u001b[0m \u001b[0mlen\u001b[0m\u001b[0;34m(\u001b[0m\u001b[0mres\u001b[0m\u001b[0;34m.\u001b[0m\u001b[0mfun\u001b[0m\u001b[0;34m)\u001b[0m\u001b[0;34m\u001b[0m\u001b[0;34m\u001b[0m\u001b[0m\n",
      "\u001b[0;31mRuntimeError\u001b[0m: Optimal parameters not found: The maximum number of function evaluations is exceeded."
     ]
    }
   ],
   "source": [
    "start_time = time.time()\n",
    "CM =[]\n",
    "for halo in range(10, 11):\n",
    "    CM.append(halos_CM(halo, to_graph = True, to_save = True))\n",
    "    print('halo number ' + str(halo) + ' is done')\n",
    "print(CM)\n",
    "print(time.time() - start_time)"
   ]
  },
  {
   "cell_type": "code",
   "execution_count": 10,
   "metadata": {},
   "outputs": [],
   "source": [
    "# so apparently there is a lot of noise close to the center [only if its logarithmic profile which it is  not  assumed   by papaer model]\n",
    "# also those halos that are out of NIHAO mass range are creating problems [w]ill  see about that"
   ]
  },
  {
   "cell_type": "code",
   "execution_count": 11,
   "metadata": {},
   "outputs": [],
   "source": [
    "# m_i = []\n",
    "# for i in range(1,101):\n",
    "#     mass = (float ( ( h[i]['mass'].sum() ) ) )\n",
    "# #     print(float(mass))\n",
    "#     if not ( 5*10**9 < mass and mass < 2*10**12):\n",
    "#         m_i.append(i)\n",
    "# #     print(not ( 5*10**9 < mass and mass < 2*10**12))"
   ]
  },
  {
   "cell_type": "code",
   "execution_count": 12,
   "metadata": {},
   "outputs": [],
   "source": [
    "# [49, 55, 67, 91, 96, 149, 175] these  are 'bad' halos but problem is resolved now\n",
    "# [203, 205, 214, 218, 219, 223, 238, 244, 281, 288, 292, 308, 317, 326, 327, 332, 337, 352, 355, 378, 382, 391, 401, 404, 407, 430, 439, 440, 442, 443, 448, 452, 455, 463, 469, 486, 496, 508, 514, 518, 519, 523, 527, 528, 534, 537, 544, 546, 547, 549, 555, 560, 561, 572, 575, 576, 580, 582, 583, 586, 588, 591, 603, 605, 608, 610, 612, 615, 617, 618, 623, 628, 631, 633, 637, 643, 646, 652, 653, 655, 658, 663, 668, 669, 672, 674, 675, 676, 681, 682, 685, 690, 691, 698, 699, 700, 704, 705, 706, 707, 708, 711, 719, 726, 727, 730, 734, 735, 737, 739, 740, 741, 744, 745, 747, 748, 752, 754, 758, 760, 761, 774, 777, 778, 782, 784, 786, 787, 790, 791, 796, 798, 801, 802, 803, 807, 809, 811, 814, 816, 817, 819, 820, 821, 824, 825, 827, 828, 829, 830, 831, 833, 835, 838, 839, 843, 845, 848, 850, 856, 857, 858, 859, 860, 861, 863, 865, 867, 868, 869, 871, 873, 875, 883, 884, 885, 887, 889, 891, 892, 893, 896, 899, 900, 902, 903, 904, 905, 906, 908, 909, 911, 912, 916, 917, 918, 920, 923, 924, 927, 928, 929, 932, 934, 936, 937, 941, 949, 952, 953, 955, 958, 961, 963, 964, 969, 972, 973, 976, 978, 979, 980, 983, 985, 986, 991, 993, 994, 998, 999, 1000, 1002, 1004, 1005, 1007, 1009, 1015, 1016, 1020, 1021, 1022, 1023, 1024, 1025, 1027, 1029, 1030, 1031, 1032, 1033, 1034, 1037, 1039, 1042, 1043, 1045, 1047, 1048, 1049, 1054, 1056, 1059, 1061, 1064, 1065, 1067, 1068, 1069, 1072, 1077, 1080, 1081, 1082, 1083, 1084, 1085, 1086, 1087, 1088, 1089, 1093, 1095, 1096, 1100, 1101, 1102, 1104, 1106, 1108, 1109, 1110, 1111, 1112, 1113, 1116, 1119, 1120, 1122, 1123, 1124, 1125, 1126, 1127, 1128, 1129, 1130, 1131, 1135, 1137, 1138, 1139, 1140, 1141, 1142, 1146, 1147, 1148, 1149, 1151, 1152, 1153, 1154, 1155, 1156, 1159, 1162, 1163, 1164, 1165, 1167, 1168, 1169, 1171, 1172, 1173, 1176, 1177, 1178, 1179, 1181, 1182, 1185, 1186, 1188, 1189, 1190, 1191, 1192, 1193, 1195, 1196, 1197, 1199, 1200, 1201, 1202, 1203, 1204, 1205, 1207, 1208, 1209, 1210, 1211, 1212, 1214, 1215, 1217, 1218, 1219, 1221, 1224, 1226, 1229, 1230, 1232, 1233, 1236, 1240, 1241, 1244, 1245, 1247, 1248, 1250, 1252, 1254, 1255, 1259, 1260, 1261, 1262, 1263, 1265, 1268, 1269, 1272, 1273, 1274, 1275, 1276, 1277, 1278, 1279, 1281, 1282, 1283, 1284, 1286, 1287, 1288, 1290, 1291, 1293, 1294, 1295, 1296, 1297, 1298, 1300, 1301, 1305, 1306, 1307, 1309, 1311, 1312, 1314, 1315, 1316, 1317, 1318, 1319, 1320, 1321, 1322, 1323, 1324, 1325, 1326, 1327, 1328, 1330, 1332, 1336, 1337, 1339, 1340, 1341, 1342, 1343, 1344, 1346, 1347, 1348, 1349, 1350, 1351, 1352, 1354, 1355, 1357, 1359, 1360, 1363, 1365, 1366, 1367, 1368, 1370, 1371, 1372, 1373, 1374, 1375, 1376, 1378, 1379, 1380, 1382, 1383, 1385, 1387, 1388, 1389, 1391, 1392, 1396, 1397, 1398, 1399, 1400, 1402, 1403, 1404, 1405, 1406, 1407, 1408, 1410]"
   ]
  },
  {
   "cell_type": "code",
   "execution_count": 13,
   "metadata": {},
   "outputs": [
    {
     "data": {
      "text/plain": [
       "\"\\nThis is just to see how centering works and responsed  for debugging \\n\\ni = 55\\np0 =  h[i]['pos'][1],h[i]['vel'][1]\\nprint(p0)\\nprint(h[i][pyn.filt.Sphere('2000 kpc', cen = p0[0])])\\n# vcenter  = pyn.analysis.halo.vel_center(h[i], mode = 'com', cen_size = '2000 kpc', retcen = True)\\nprint(h[i][pyn.filt.Sphere('20 kpc')])\\nwith pyn.analysis.halo.center(h[i], mode = 'com', vel = False, cen_size = '20 kpc'):\\n    print(h[i]['pos'][0],h[i]['vel'][0])\\n    print(h[i].dm[pyn.filt.Sphere('20 kpc')])\\n#     print(pyn.analysis.halo.vel_center(h[i], mode = 'com', cen_size = '20 kpc'))\\n    pyn.analysis.angmom.faceon(h[i], cen_size = '20 kpc', vcen = p0[1])\\nlen(h[i])\\nlen(h[i][pyn.filt.Sphere('300000 kpc')])\\nprint(h[i]['pos'])\\n\\n\""
      ]
     },
     "execution_count": 13,
     "metadata": {},
     "output_type": "execute_result"
    }
   ],
   "source": [
    "\"\"\"\n",
    "This is just to see how centering works and responsed  for debugging \n",
    "\n",
    "i = 55\n",
    "p0 =  h[i]['pos'][1],h[i]['vel'][1]\n",
    "print(p0)\n",
    "print(h[i][pyn.filt.Sphere('2000 kpc', cen = p0[0])])\n",
    "# vcenter  = pyn.analysis.halo.vel_center(h[i], mode = 'com', cen_size = '2000 kpc', retcen = True)\n",
    "print(h[i][pyn.filt.Sphere('20 kpc')])\n",
    "with pyn.analysis.halo.center(h[i], mode = 'com', vel = False, cen_size = '20 kpc'):\n",
    "    print(h[i]['pos'][0],h[i]['vel'][0])\n",
    "    print(h[i].dm[pyn.filt.Sphere('20 kpc')])\n",
    "#     print(pyn.analysis.halo.vel_center(h[i], mode = 'com', cen_size = '20 kpc'))\n",
    "    pyn.analysis.angmom.faceon(h[i], cen_size = '20 kpc', vcen = p0[1])\n",
    "len(h[i])\n",
    "len(h[i][pyn.filt.Sphere('300000 kpc')])\n",
    "print(h[i]['pos'])\n",
    "\n",
    "\"\"\""
   ]
  },
  {
   "cell_type": "code",
   "execution_count": 14,
   "metadata": {},
   "outputs": [],
   "source": [
    "# #This is to understand how to get rid of 0's after doing log fit\n",
    "# for halo in range(2,3):\n",
    "#     with pyn.analysis.angmom.faceon(h[halo], cen_size = '10 kpc'):\n",
    "#         p = pyn.analysis.profile.Profile(h[halo], min = 0.01, max = 50, ndim = 3, type = 'lin', nbins = 100)\n",
    "#         radii = p['rbins']\n",
    "#         den = p['density']\n",
    "#     #     numpy.delete(den , 0)\n",
    "#         for i in range(100):\n",
    "#             if den[i] == 0.0:\n",
    "#                 print('wtf')\n",
    "#                 print(i)\n",
    "#                 den =  numpy.delete(den, 0)\n",
    "#                 radii = numpy.delete(radii, i )\n",
    "#                 print(den)\n",
    "#     #         vel = p['v_circ']\n",
    "\n",
    "#     #         hp = DM_Profiles.DM_Profile(radii, den, vel, s)"
   ]
  },
  {
   "cell_type": "code",
   "execution_count": 24,
   "metadata": {},
   "outputs": [
    {
     "name": "stderr",
     "output_type": "stream",
     "text": [
      "pynbody.analysis.profile : Profile v_circ -- this routine assumes the disk is in the x-y plane\n"
     ]
    }
   ],
   "source": [
    "halo = 10\n",
    "with pyn.analysis.angmom.faceon(h[halo], cen_size  = '10 kpc'):    \n",
    "    p = pyn.analysis.profile.Profile(h[halo], min = 0.01, max = 50, ndim = 3, type = 'lin', nbins = 100)\n",
    "    radii = p['rbins']\n",
    "    den = p['density']\n",
    "    vel = p['v_circ']\n",
    "    hp = DM_Profiles.DM_Profile(radii, den, vel, s, halo)"
   ]
  },
  {
   "cell_type": "code",
   "execution_count": 25,
   "metadata": {},
   "outputs": [],
   "source": [
    "x = numpy.log10(hp.radii)"
   ]
  },
  {
   "cell_type": "code",
   "execution_count": 26,
   "metadata": {},
   "outputs": [],
   "source": [
    "y = hp.den"
   ]
  },
  {
   "cell_type": "code",
   "execution_count": 18,
   "metadata": {},
   "outputs": [
    {
     "data": {
      "text/plain": [
       "(array([1.32879021e+01, 8.73742108e-04]), array([0.20120874, 5.81334437]))"
      ]
     },
     "execution_count": 18,
     "metadata": {},
     "output_type": "execute_result"
    }
   ],
   "source": [
    "hp.fits_pISO()"
   ]
  },
  {
   "cell_type": "code",
   "execution_count": 27,
   "metadata": {},
   "outputs": [
    {
     "data": {
      "text/plain": [
       "[<matplotlib.lines.Line2D at 0x7f5e23479c18>]"
      ]
     },
     "execution_count": 27,
     "metadata": {},
     "output_type": "execute_result"
    },
    {
     "data": {
      "image/png": "[encoded data removed]",
      "text/plain": [
       "<Figure size 432x288 with 1 Axes>"
      ]
     },
     "metadata": {
      "needs_background": "light"
     },
     "output_type": "display_data"
    }
   ],
   "source": [
    "plt.plot(x,y)"
   ]
  },
  {
   "cell_type": "code",
   "execution_count": 28,
   "metadata": {},
   "outputs": [
    {
     "data": {
      "text/plain": [
       "4.063372442401984"
      ]
     },
     "execution_count": 28,
     "metadata": {},
     "output_type": "execute_result"
    }
   ],
   "source": [
    "hp.den[-1]"
   ]
  },
  {
   "cell_type": "code",
   "execution_count": 29,
   "metadata": {},
   "outputs": [
    {
     "data": {
      "text/plain": [
       "9.020238684163969"
      ]
     },
     "execution_count": 29,
     "metadata": {},
     "output_type": "execute_result"
    }
   ],
   "source": [
    "hp.den[0]"
   ]
  },
  {
   "cell_type": "code",
   "execution_count": 30,
   "metadata": {},
   "outputs": [
    {
     "name": "stdout",
     "output_type": "stream",
     "text": [
      "0.25995 , 9.020238684163969\n",
      "0.75985 , 8.44341763913476\n",
      "1.25975 , 7.880402126972504\n",
      "1.75965 , 7.529099115917656\n",
      "2.25955 , 7.15352575783094\n",
      "2.75945 , 6.979652943701826\n",
      "3.2593499999999995 , 6.854172180535333\n",
      "3.7592499999999998 , 6.700475559395098\n",
      "4.25915 , 6.610939967574822\n",
      "4.75905 , 6.553296920276532\n",
      "5.2589500000000005 , 6.43380631783008\n",
      "5.75885 , 6.31070349521214\n",
      "6.25875 , 6.279148313249364\n",
      "6.758649999999999 , 6.031131216106145\n",
      "7.25855 , 5.989577254848022\n",
      "7.75845 , 6.06563395824422\n",
      "8.25835 , 5.988097338389726\n",
      "8.75825 , 6.037405180835539\n",
      "9.25815 , 5.711241559276833\n",
      "9.75805 , 5.841140094312431\n",
      "10.257950000000001 , 5.93950126023291\n",
      "10.75785 , 5.8235169777211935\n",
      "11.25775 , 5.66047854864137\n",
      "11.75765 , 5.681038999620052\n",
      "12.25755 , 5.558900309975456\n",
      "12.75745 , 5.478547264541884\n",
      "13.25735 , 5.469152544178909\n",
      "13.757249999999999 , 5.423575422085704\n",
      "14.25715 , 5.373638550242205\n",
      "14.75705 , 5.297860392223561\n",
      "15.25695 , 5.217010135676559\n",
      "15.75685 , 5.177853137883936\n",
      "16.256750000000004 , 5.185317053896903\n",
      "16.75665 , 5.147124707423907\n",
      "17.256550000000004 , 5.1439804996891105\n",
      "17.75645 , 5.122890878932955\n",
      "18.256350000000005 , 4.900640829970805\n",
      "18.75625 , 5.128612406522872\n",
      "19.256150000000005 , 4.881557175636929\n",
      "19.756050000000002 , 4.821011960227056\n",
      "20.255950000000002 , 4.9329595134792354\n",
      "20.755850000000002 , 4.9808728823839505\n",
      "21.25575 , 4.909714015845544\n",
      "21.755650000000003 , 4.863285055804144\n",
      "22.25555 , 4.979949817917076\n",
      "22.755450000000003 , 4.856952180715056\n",
      "23.25535 , 4.8100149057227455\n",
      "23.755250000000004 , 4.697023743689379\n",
      "24.25515 , 4.729177437837682\n",
      "24.755050000000004 , 4.67589013978601\n",
      "25.25495 , 4.793365695017419\n",
      "25.754850000000005 , 4.751920067654326\n",
      "26.25475 , 4.739342433625042\n",
      "26.754650000000005 , 4.675224405168903\n",
      "27.254550000000002 , 4.654175903370652\n",
      "27.754450000000002 , 4.714610988175391\n",
      "28.254350000000002 , 4.689678819507063\n",
      "28.75425 , 4.5681974656817115\n",
      "29.254150000000003 , 4.7035212960784945\n",
      "29.75405 , 4.17929987961441\n",
      "30.253950000000003 , 4.567886046610925\n",
      "30.75385 , 4.220161639095898\n",
      "31.253750000000004 , 4.579162627833001\n",
      "31.75365 , 4.4459083635992185\n",
      "32.25355 , 4.571504754600218\n",
      "32.75345 , 4.455199182432315\n",
      "33.25335 , 4.336223935458366\n",
      "33.753249999999994 , 4.394598718307371\n",
      "34.25315 , 4.5183544234048725\n",
      "34.75305 , 4.527361649167863\n",
      "35.25295 , 4.558166466238131\n",
      "35.752849999999995 , 4.496123397364662\n",
      "36.25275 , 4.576702074077809\n",
      "36.75265 , 4.37957279943808\n",
      "37.25255 , 4.39302140422862\n",
      "37.752449999999996 , 4.265199952289131\n",
      "38.25235 , 4.251152921696508\n",
      "38.752250000000004 , 4.339990629190171\n",
      "39.25215 , 4.190954208146685\n",
      "39.75205 , 4.13998946367409\n",
      "40.25195 , 4.078065035385251\n",
      "40.75185 , 4.116994074838802\n",
      "41.25175 , 4.241021418890796\n",
      "41.75165 , 4.305956802880019\n",
      "42.251549999999995 , 4.249991324421931\n",
      "42.75145 , 4.332895291772126\n",
      "43.25135 , 4.320563391405928\n",
      "43.75125 , 4.419129266701288\n",
      "44.251149999999996 , 4.241728592337723\n",
      "44.75105 , 4.190887651289822\n",
      "45.25095 , 4.1399776319662775\n",
      "45.75085 , 4.11414937164027\n",
      "46.25075 , 3.860807523419341\n",
      "46.75065 , 4.143842952874725\n",
      "47.250550000000004 , 4.052419306638281\n",
      "47.75045 , 4.146624919782872\n",
      "48.25035 , 4.380569640316963\n",
      "48.750249999999994 , 4.191785521504909\n",
      "49.25015 , 4.199629923775306\n"
     ]
    }
   ],
   "source": [
    "for i in range(len(hp.den)-1):\n",
    "    print(x[i], ',', y[i])"
   ]
  },
  {
   "cell_type": "code",
   "execution_count": null,
   "metadata": {},
   "outputs": [],
   "source": []
  }
 ],
 "metadata": {
  "kernelspec": {
   "display_name": "Python 3",
   "language": "python",
   "name": "python3"
  },
  "language_info": {
   "codemirror_mode": {
    "name": "ipython",
    "version": 3
   },
   "file_extension": ".py",
   "mimetype": "text/x-python",
   "name": "python",
   "nbconvert_exporter": "python",
   "pygments_lexer": "ipython3",
   "version": "3.6.9"
  }
 },
 "nbformat": 4,
 "nbformat_minor": 4
}
