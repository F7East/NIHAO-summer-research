{
 "cells": [
  {
   "cell_type": "code",
   "execution_count": 1,
   "metadata": {},
   "outputs": [],
   "source": [
    "# So what questions do I have so far?\n",
    "# 1. Should I use rho(r) to find r_s (so after long debate with my self I say no because does not help)\n",
    "# 2. Should I use V(r) to find V_200 and C_200 (better find r_s and C200)\n",
    "# 3. If 1 and 2 then I get two values for r_s (yeah how different are they?)\n",
    "# 4. it seems that r_s obtained from rho(r) is more presize \n",
    "# 5. Should I find r_200 just from rho_enc (probably not)\n",
    "# 6. should I find M_200 from mass profile from paper or by using mass_enc (assume paper)"
   ]
  },
  {
   "cell_type": "code",
   "execution_count": 2,
   "metadata": {},
   "outputs": [],
   "source": [
    "import time\n",
    "start_time = time.time()\n",
    "import pynbody as pyn\n",
    "import scipy, numpy, DM_Profiles\n",
    "from matplotlib import pylab as plt\n",
    "from scipy.optimize import curve_fit as fit\n",
    "s = pyn.load('/media/tengiz/81498267-fb7c-4587-88ea-5c63aaf2cb66/Pynbody/testdata/g15784.lr.01024.gz')\n",
    "s.physical_units()\n",
    "h = s.halos()\n",
    "# rho_crit = pyn.analysis.cosmology.rho_crit(s)*200\n",
    "# H = float(pyn.analysis.cosmology.H(s))\n",
    "# tmass = h[1]['mass'].sum()"
   ]
  },
  {
   "cell_type": "code",
   "execution_count": 3,
   "metadata": {
    "scrolled": true
   },
   "outputs": [],
   "source": [
    "def halos_CM(halo, to_graph = False):\n",
    "    # well this is very poorely written | not anymore\n",
    "    modes = ['hyb', 'ssc', 'com','pot']\n",
    "    output = ()\n",
    "    try: \n",
    "        with pyn.analysis.angmom.faceon(halo):\n",
    "            output = halos_exec(halo, to_graph)\n",
    "    except (ValueError, RuntimeError):\n",
    "        print('faceon has failed, trying backup')\n",
    "        for i in range(5):\n",
    "            if i == 4:\n",
    "                print('all backups have failed')\n",
    "                output = ('failure')\n",
    "                break\n",
    "            try:\n",
    "                with pyn.analysis.halo.center(halo, mode = modes[i], vel = True, cen_size = '20 kpc'):\n",
    "                    output = halos_exec(halo, to_graph)\n",
    "                break\n",
    "            except (ValueError, RuntimeError):\n",
    "                print(modes[i] + ' backup has failed')\n",
    "\n",
    "    return output"
   ]
  },
  {
   "cell_type": "code",
   "execution_count": 4,
   "metadata": {},
   "outputs": [],
   "source": [
    "def halos_exec(halo, to_graph = False):\n",
    "    #takes in halo and boolean whether to graph \n",
    "    # outputs mass and concentration\n",
    "    \n",
    "    p = pyn.analysis.profile.Profile(halo, min = 0.01, max = 50, ndim = 3, type = 'log', nbins = 100)\n",
    "    radii = p['rbins']\n",
    "    den = p['density']\n",
    "    vel = p['v_circ']\n",
    "    hp = DM_Profiles.DM_Profile(radii, den, vel, s)\n",
    "    hp.fits_pISO() \n",
    "    output = hp.pISO()\n",
    "    if to_graph:\n",
    "        den_plot(radii, den, output[2], hp)\n",
    "        vel_plot(radii, vel, output[3], hp)\n",
    "        \n",
    "    return output[0], output[1]"
   ]
  },
  {
   "cell_type": "code",
   "execution_count": 5,
   "metadata": {},
   "outputs": [],
   "source": [
    "# den plot\n",
    "def den_plot(radii, den, param, halo_profile):\n",
    "    # takes radii, den, param and DM_Profile object from DM_Profiles and outputs den profile with p_ISO curve_fit\n",
    "    import DM_Profiles\n",
    "    from matplotlib import pylab as plt\n",
    "    fig, ax = plt.subplots() \n",
    "    ax.loglog(radii, den, 'g--')\n",
    "    ax.loglog(radii, halo_profile.rho_pISO(radii, *param), 'r-')\n",
    "    ax.grid()\n",
    "    ax.legend(('data','fit'))\n",
    "    ax.set_title('data den vs r')\n",
    "    ax.set_xlabel(radii.units)\n",
    "    ax.set_ylabel(den.units)\n",
    "    plt.show()"
   ]
  },
  {
   "cell_type": "code",
   "execution_count": 6,
   "metadata": {},
   "outputs": [],
   "source": [
    "# vel plot\n",
    "def vel_plot(r, vel, param1, halo_profile):\n",
    "    # takes radii, den, param and DM_Profile object from DM_Profiles and outputs vel profile with p_ISO curve_fit\n",
    "    import DM_Profiles\n",
    "    from matplotlib import pylab as plt\n",
    "    fig1, ax1 = plt.subplots()\n",
    "    ax1.semilogx(r, vel, 'g--')\n",
    "    ax1.semilogx(r, halo_profile.V_pISO(r, *param1), 'r-')\n",
    "    ax1.grid()\n",
    "    ax1.legend(('data','fit'))\n",
    "    ax1.set_title('data vel vs r')\n",
    "    ax1.set_xlabel(s['pos'].units)\n",
    "    ax1.set_ylabel(vel.units)\n",
    "    plt.show()\n"
   ]
  },
  {
   "cell_type": "code",
   "execution_count": 7,
   "metadata": {},
   "outputs": [],
   "source": [
    "# I leave this code here for debugging coz lazy\n",
    "# def rho_pISO(r, rho_s,r_s): \n",
    "#     # r200 is the radius inside of which the average halo (bg paper)\n",
    "#     return rho_s/(1+(r/r_s)**2)\n",
    "# def V_pISO(r, C_200):\n",
    "# #     if param == []: raise CustomError('rho_pISO has not been fitted yet')\n",
    "#     H = float(pyn.analysis.cosmology.H(s))\n",
    "#     return 10*H*param[1]*C_200*((1-numpy.arctan((r/param[1]))/(r/param[1]))/(1-numpy.arctan(C_200)/C_200))**0.5\n",
    "\n",
    "# pyn.analysis.halo.center(h[1], mode = 'hyb', cen_size = '10 kpc')\n",
    "# pyn.analysis.angmom.faceon(h[1])\n",
    "# initial_guess = [10**10, 0.01]\n",
    "# p = pyn.analysis.profile.Profile(h[1], min = 0.01, max = 50, ndim = 3, type = 'log', nbins = 50)\n",
    "# radii = p['rbins']\n",
    "# den = p['density']\n",
    "# vel = p['v_circ']\n",
    "# param, covar = fit(rho_pISO, radii, den, p0 = initial_guess, bounds = (0,numpy.inf))\n",
    "# param1, covar1 = fit(V_pISO, radii, vel, bounds = (0, numpy.inf))\n"
   ]
  },
  {
   "cell_type": "code",
   "execution_count": 8,
   "metadata": {},
   "outputs": [
    {
     "name": "stdout",
     "output_type": "stream",
     "text": [
      "faceon has failed, trying backup\n",
      "hyb backup has failed\n"
     ]
    },
    {
     "name": "stderr",
     "output_type": "stream",
     "text": [
      "/home/tengiz/.local/lib/python3.6/site-packages/pynbody/array.py:865: FutureWarning: Using a non-tuple sequence for multidimensional indexing is deprecated; use `arr[tuple(seq)]` instead of `arr[seq]`. In the future this will be interpreted as an array index, `arr[np.array(seq)]`, which will result either in an error or a different result.\n",
      "  return self.base[self._reexpress_index(item)]\n",
      "pynbody.analysis.profile : Profile v_circ -- this routine assumes the disk is in the x-y plane\n"
     ]
    },
    {
     "name": "stdout",
     "output_type": "stream",
     "text": [
      "halo number 201 is done\n",
      "faceon has failed, trying backup\n"
     ]
    },
    {
     "name": "stderr",
     "output_type": "stream",
     "text": [
      "pynbody.analysis.profile : Profile v_circ -- this routine assumes the disk is in the x-y plane\n"
     ]
    },
    {
     "name": "stdout",
     "output_type": "stream",
     "text": [
      "hyb backup has failed\n",
      "halo number 202 is done\n",
      "faceon has failed, trying backup\n",
      "hyb backup has failed\n",
      "ssc backup has failed\n",
      "com backup has failed\n",
      "pot backup has failed\n",
      "all backups have failed\n",
      "halo number 203 is done\n",
      "faceon has failed, trying backup\n"
     ]
    },
    {
     "name": "stderr",
     "output_type": "stream",
     "text": [
      "pynbody.analysis.profile : Profile v_circ -- this routine assumes the disk is in the x-y plane\n"
     ]
    },
    {
     "name": "stdout",
     "output_type": "stream",
     "text": [
      "halo number 204 is done\n",
      "faceon has failed, trying backup\n",
      "hyb backup has failed\n",
      "ssc backup has failed\n",
      "com backup has failed\n",
      "pot backup has failed\n",
      "all backups have failed\n",
      "halo number 205 is done\n",
      "faceon has failed, trying backup\n"
     ]
    },
    {
     "name": "stderr",
     "output_type": "stream",
     "text": [
      "pynbody.analysis.profile : Profile v_circ -- this routine assumes the disk is in the x-y plane\n"
     ]
    },
    {
     "name": "stdout",
     "output_type": "stream",
     "text": [
      "hyb backup has failed\n",
      "halo number 206 is done\n",
      "faceon has failed, trying backup\n"
     ]
    },
    {
     "name": "stderr",
     "output_type": "stream",
     "text": [
      "pynbody.analysis.profile : Profile v_circ -- this routine assumes the disk is in the x-y plane\n"
     ]
    },
    {
     "name": "stdout",
     "output_type": "stream",
     "text": [
      "hyb backup has failed\n",
      "halo number 207 is done\n"
     ]
    },
    {
     "name": "stderr",
     "output_type": "stream",
     "text": [
      "pynbody.analysis.profile : Profile v_circ -- this routine assumes the disk is in the x-y plane\n"
     ]
    },
    {
     "name": "stdout",
     "output_type": "stream",
     "text": [
      "halo number 208 is done\n",
      "faceon has failed, trying backup\n"
     ]
    },
    {
     "name": "stderr",
     "output_type": "stream",
     "text": [
      "pynbody.analysis.profile : Profile v_circ -- this routine assumes the disk is in the x-y plane\n"
     ]
    },
    {
     "name": "stdout",
     "output_type": "stream",
     "text": [
      "halo number 209 is done\n",
      "faceon has failed, trying backup\n"
     ]
    },
    {
     "name": "stderr",
     "output_type": "stream",
     "text": [
      "pynbody.analysis.profile : Profile v_circ -- this routine assumes the disk is in the x-y plane\n"
     ]
    },
    {
     "name": "stdout",
     "output_type": "stream",
     "text": [
      "halo number 210 is done\n",
      "faceon has failed, trying backup\n"
     ]
    },
    {
     "name": "stderr",
     "output_type": "stream",
     "text": [
      "pynbody.analysis.profile : Profile v_circ -- this routine assumes the disk is in the x-y plane\n"
     ]
    },
    {
     "name": "stdout",
     "output_type": "stream",
     "text": [
      "halo number 211 is done\n",
      "faceon has failed, trying backup\n"
     ]
    },
    {
     "name": "stderr",
     "output_type": "stream",
     "text": [
      "pynbody.analysis.profile : Profile v_circ -- this routine assumes the disk is in the x-y plane\n"
     ]
    },
    {
     "name": "stdout",
     "output_type": "stream",
     "text": [
      "halo number 212 is done\n",
      "faceon has failed, trying backup\n"
     ]
    },
    {
     "name": "stderr",
     "output_type": "stream",
     "text": [
      "pynbody.analysis.profile : Profile v_circ -- this routine assumes the disk is in the x-y plane\n"
     ]
    },
    {
     "name": "stdout",
     "output_type": "stream",
     "text": [
      "hyb backup has failed\n",
      "halo number 213 is done\n",
      "faceon has failed, trying backup\n",
      "hyb backup has failed\n",
      "ssc backup has failed\n",
      "com backup has failed\n",
      "pot backup has failed\n",
      "all backups have failed\n",
      "halo number 214 is done\n",
      "faceon has failed, trying backup\n"
     ]
    },
    {
     "name": "stderr",
     "output_type": "stream",
     "text": [
      "pynbody.analysis.profile : Profile v_circ -- this routine assumes the disk is in the x-y plane\n"
     ]
    },
    {
     "name": "stdout",
     "output_type": "stream",
     "text": [
      "halo number 215 is done\n",
      "faceon has failed, trying backup\n"
     ]
    },
    {
     "name": "stderr",
     "output_type": "stream",
     "text": [
      "pynbody.analysis.profile : Profile v_circ -- this routine assumes the disk is in the x-y plane\n"
     ]
    },
    {
     "name": "stdout",
     "output_type": "stream",
     "text": [
      "hyb backup has failed\n",
      "halo number 216 is done\n",
      "faceon has failed, trying backup\n"
     ]
    },
    {
     "name": "stderr",
     "output_type": "stream",
     "text": [
      "pynbody.analysis.profile : Profile v_circ -- this routine assumes the disk is in the x-y plane\n"
     ]
    },
    {
     "name": "stdout",
     "output_type": "stream",
     "text": [
      "hyb backup has failed\n",
      "halo number 217 is done\n",
      "faceon has failed, trying backup\n",
      "hyb backup has failed\n",
      "ssc backup has failed\n",
      "com backup has failed\n",
      "pot backup has failed\n",
      "all backups have failed\n",
      "halo number 218 is done\n",
      "faceon has failed, trying backup\n",
      "hyb backup has failed\n",
      "ssc backup has failed\n",
      "com backup has failed\n",
      "pot backup has failed\n",
      "all backups have failed\n",
      "halo number 219 is done\n",
      "faceon has failed, trying backup\n"
     ]
    },
    {
     "name": "stderr",
     "output_type": "stream",
     "text": [
      "pynbody.analysis.profile : Profile v_circ -- this routine assumes the disk is in the x-y plane\n"
     ]
    },
    {
     "name": "stdout",
     "output_type": "stream",
     "text": [
      "hyb backup has failed\n",
      "halo number 220 is done\n",
      "faceon has failed, trying backup\n"
     ]
    },
    {
     "name": "stderr",
     "output_type": "stream",
     "text": [
      "pynbody.analysis.profile : Profile v_circ -- this routine assumes the disk is in the x-y plane\n"
     ]
    },
    {
     "name": "stdout",
     "output_type": "stream",
     "text": [
      "hyb backup has failed\n",
      "halo number 221 is done\n"
     ]
    },
    {
     "name": "stderr",
     "output_type": "stream",
     "text": [
      "pynbody.analysis.profile : Profile v_circ -- this routine assumes the disk is in the x-y plane\n"
     ]
    },
    {
     "name": "stdout",
     "output_type": "stream",
     "text": [
      "halo number 222 is done\n",
      "faceon has failed, trying backup\n",
      "hyb backup has failed\n",
      "ssc backup has failed\n",
      "com backup has failed\n",
      "pot backup has failed\n",
      "all backups have failed\n",
      "halo number 223 is done\n",
      "faceon has failed, trying backup\n"
     ]
    },
    {
     "name": "stderr",
     "output_type": "stream",
     "text": [
      "pynbody.analysis.profile : Profile v_circ -- this routine assumes the disk is in the x-y plane\n"
     ]
    },
    {
     "name": "stdout",
     "output_type": "stream",
     "text": [
      "hyb backup has failed\n",
      "halo number 224 is done\n",
      "faceon has failed, trying backup\n"
     ]
    },
    {
     "name": "stderr",
     "output_type": "stream",
     "text": [
      "pynbody.analysis.profile : Profile v_circ -- this routine assumes the disk is in the x-y plane\n"
     ]
    },
    {
     "name": "stdout",
     "output_type": "stream",
     "text": [
      "halo number 225 is done\n",
      "faceon has failed, trying backup\n"
     ]
    },
    {
     "name": "stderr",
     "output_type": "stream",
     "text": [
      "pynbody.analysis.profile : Profile v_circ -- this routine assumes the disk is in the x-y plane\n"
     ]
    },
    {
     "name": "stdout",
     "output_type": "stream",
     "text": [
      "hyb backup has failed\n",
      "halo number 226 is done\n",
      "faceon has failed, trying backup\n"
     ]
    },
    {
     "name": "stderr",
     "output_type": "stream",
     "text": [
      "pynbody.analysis.profile : Profile v_circ -- this routine assumes the disk is in the x-y plane\n"
     ]
    },
    {
     "name": "stdout",
     "output_type": "stream",
     "text": [
      "hyb backup has failed\n",
      "halo number 227 is done\n",
      "faceon has failed, trying backup\n"
     ]
    },
    {
     "name": "stderr",
     "output_type": "stream",
     "text": [
      "pynbody.analysis.profile : Profile v_circ -- this routine assumes the disk is in the x-y plane\n"
     ]
    },
    {
     "name": "stdout",
     "output_type": "stream",
     "text": [
      "hyb backup has failed\n",
      "halo number 228 is done\n",
      "faceon has failed, trying backup\n"
     ]
    },
    {
     "name": "stderr",
     "output_type": "stream",
     "text": [
      "pynbody.analysis.profile : Profile v_circ -- this routine assumes the disk is in the x-y plane\n"
     ]
    },
    {
     "name": "stdout",
     "output_type": "stream",
     "text": [
      "hyb backup has failed\n",
      "halo number 229 is done\n",
      "faceon has failed, trying backup\n"
     ]
    },
    {
     "name": "stderr",
     "output_type": "stream",
     "text": [
      "pynbody.analysis.profile : Profile v_circ -- this routine assumes the disk is in the x-y plane\n"
     ]
    },
    {
     "name": "stdout",
     "output_type": "stream",
     "text": [
      "hyb backup has failed\n",
      "halo number 230 is done\n",
      "faceon has failed, trying backup\n"
     ]
    },
    {
     "name": "stderr",
     "output_type": "stream",
     "text": [
      "pynbody.analysis.profile : Profile v_circ -- this routine assumes the disk is in the x-y plane\n"
     ]
    },
    {
     "name": "stdout",
     "output_type": "stream",
     "text": [
      "hyb backup has failed\n",
      "halo number 231 is done\n",
      "faceon has failed, trying backup\n"
     ]
    },
    {
     "name": "stderr",
     "output_type": "stream",
     "text": [
      "pynbody.analysis.profile : Profile v_circ -- this routine assumes the disk is in the x-y plane\n"
     ]
    },
    {
     "name": "stdout",
     "output_type": "stream",
     "text": [
      "hyb backup has failed\n",
      "halo number 232 is done\n",
      "faceon has failed, trying backup\n"
     ]
    },
    {
     "name": "stderr",
     "output_type": "stream",
     "text": [
      "pynbody.analysis.profile : Profile v_circ -- this routine assumes the disk is in the x-y plane\n"
     ]
    },
    {
     "name": "stdout",
     "output_type": "stream",
     "text": [
      "halo number 233 is done\n",
      "faceon has failed, trying backup\n"
     ]
    },
    {
     "name": "stderr",
     "output_type": "stream",
     "text": [
      "pynbody.analysis.profile : Profile v_circ -- this routine assumes the disk is in the x-y plane\n"
     ]
    },
    {
     "name": "stdout",
     "output_type": "stream",
     "text": [
      "hyb backup has failed\n",
      "halo number 234 is done\n",
      "faceon has failed, trying backup\n"
     ]
    },
    {
     "name": "stderr",
     "output_type": "stream",
     "text": [
      "pynbody.analysis.profile : Profile v_circ -- this routine assumes the disk is in the x-y plane\n"
     ]
    },
    {
     "name": "stdout",
     "output_type": "stream",
     "text": [
      "halo number 235 is done\n",
      "faceon has failed, trying backup\n"
     ]
    },
    {
     "name": "stderr",
     "output_type": "stream",
     "text": [
      "pynbody.analysis.profile : Profile v_circ -- this routine assumes the disk is in the x-y plane\n"
     ]
    },
    {
     "name": "stdout",
     "output_type": "stream",
     "text": [
      "halo number 236 is done\n",
      "faceon has failed, trying backup\n"
     ]
    },
    {
     "name": "stderr",
     "output_type": "stream",
     "text": [
      "pynbody.analysis.profile : Profile v_circ -- this routine assumes the disk is in the x-y plane\n"
     ]
    },
    {
     "name": "stdout",
     "output_type": "stream",
     "text": [
      "hyb backup has failed\n",
      "halo number 237 is done\n",
      "faceon has failed, trying backup\n",
      "hyb backup has failed\n",
      "ssc backup has failed\n",
      "com backup has failed\n",
      "pot backup has failed\n",
      "all backups have failed\n",
      "halo number 238 is done\n"
     ]
    },
    {
     "name": "stderr",
     "output_type": "stream",
     "text": [
      "pynbody.analysis.profile : Profile v_circ -- this routine assumes the disk is in the x-y plane\n"
     ]
    },
    {
     "name": "stdout",
     "output_type": "stream",
     "text": [
      "halo number 239 is done\n",
      "faceon has failed, trying backup\n"
     ]
    },
    {
     "name": "stderr",
     "output_type": "stream",
     "text": [
      "pynbody.analysis.profile : Profile v_circ -- this routine assumes the disk is in the x-y plane\n"
     ]
    },
    {
     "name": "stdout",
     "output_type": "stream",
     "text": [
      "halo number 240 is done\n",
      "faceon has failed, trying backup\n"
     ]
    },
    {
     "name": "stderr",
     "output_type": "stream",
     "text": [
      "pynbody.analysis.profile : Profile v_circ -- this routine assumes the disk is in the x-y plane\n"
     ]
    },
    {
     "name": "stdout",
     "output_type": "stream",
     "text": [
      "hyb backup has failed\n",
      "halo number 241 is done\n",
      "faceon has failed, trying backup\n"
     ]
    },
    {
     "name": "stderr",
     "output_type": "stream",
     "text": [
      "pynbody.analysis.profile : Profile v_circ -- this routine assumes the disk is in the x-y plane\n"
     ]
    },
    {
     "name": "stdout",
     "output_type": "stream",
     "text": [
      "hyb backup has failed\n",
      "halo number 242 is done\n"
     ]
    },
    {
     "name": "stderr",
     "output_type": "stream",
     "text": [
      "pynbody.analysis.profile : Profile v_circ -- this routine assumes the disk is in the x-y plane\n"
     ]
    },
    {
     "name": "stdout",
     "output_type": "stream",
     "text": [
      "halo number 243 is done\n",
      "faceon has failed, trying backup\n",
      "hyb backup has failed\n",
      "ssc backup has failed\n",
      "com backup has failed\n",
      "pot backup has failed\n",
      "all backups have failed\n",
      "halo number 244 is done\n",
      "faceon has failed, trying backup\n",
      "hyb backup has failed\n"
     ]
    },
    {
     "name": "stderr",
     "output_type": "stream",
     "text": [
      "pynbody.analysis.profile : Profile v_circ -- this routine assumes the disk is in the x-y plane\n"
     ]
    },
    {
     "name": "stdout",
     "output_type": "stream",
     "text": [
      "halo number 245 is done\n",
      "faceon has failed, trying backup\n"
     ]
    },
    {
     "name": "stderr",
     "output_type": "stream",
     "text": [
      "pynbody.analysis.profile : Profile v_circ -- this routine assumes the disk is in the x-y plane\n"
     ]
    },
    {
     "name": "stdout",
     "output_type": "stream",
     "text": [
      "hyb backup has failed\n",
      "halo number 246 is done\n",
      "faceon has failed, trying backup\n"
     ]
    },
    {
     "name": "stderr",
     "output_type": "stream",
     "text": [
      "pynbody.analysis.profile : Profile v_circ -- this routine assumes the disk is in the x-y plane\n"
     ]
    },
    {
     "name": "stdout",
     "output_type": "stream",
     "text": [
      "hyb backup has failed\n",
      "halo number 247 is done\n"
     ]
    },
    {
     "name": "stderr",
     "output_type": "stream",
     "text": [
      "pynbody.analysis.profile : Profile v_circ -- this routine assumes the disk is in the x-y plane\n"
     ]
    },
    {
     "name": "stdout",
     "output_type": "stream",
     "text": [
      "halo number 248 is done\n",
      "faceon has failed, trying backup\n"
     ]
    },
    {
     "name": "stderr",
     "output_type": "stream",
     "text": [
      "pynbody.analysis.profile : Profile v_circ -- this routine assumes the disk is in the x-y plane\n"
     ]
    },
    {
     "name": "stdout",
     "output_type": "stream",
     "text": [
      "hyb backup has failed\n",
      "halo number 249 is done\n",
      "faceon has failed, trying backup\n"
     ]
    },
    {
     "name": "stderr",
     "output_type": "stream",
     "text": [
      "pynbody.analysis.profile : Profile v_circ -- this routine assumes the disk is in the x-y plane\n"
     ]
    },
    {
     "name": "stdout",
     "output_type": "stream",
     "text": [
      "hyb backup has failed\n",
      "halo number 250 is done\n",
      "faceon has failed, trying backup\n"
     ]
    },
    {
     "name": "stderr",
     "output_type": "stream",
     "text": [
      "pynbody.analysis.profile : Profile v_circ -- this routine assumes the disk is in the x-y plane\n"
     ]
    },
    {
     "name": "stdout",
     "output_type": "stream",
     "text": [
      "halo number 251 is done\n",
      "faceon has failed, trying backup\n"
     ]
    },
    {
     "name": "stderr",
     "output_type": "stream",
     "text": [
      "pynbody.analysis.profile : Profile v_circ -- this routine assumes the disk is in the x-y plane\n"
     ]
    },
    {
     "name": "stdout",
     "output_type": "stream",
     "text": [
      "hyb backup has failed\n",
      "halo number 252 is done\n",
      "faceon has failed, trying backup\n"
     ]
    },
    {
     "name": "stderr",
     "output_type": "stream",
     "text": [
      "pynbody.analysis.profile : Profile v_circ -- this routine assumes the disk is in the x-y plane\n"
     ]
    },
    {
     "name": "stdout",
     "output_type": "stream",
     "text": [
      "halo number 253 is done\n",
      "faceon has failed, trying backup\n"
     ]
    },
    {
     "name": "stderr",
     "output_type": "stream",
     "text": [
      "pynbody.analysis.profile : Profile v_circ -- this routine assumes the disk is in the x-y plane\n"
     ]
    },
    {
     "name": "stdout",
     "output_type": "stream",
     "text": [
      "halo number 254 is done\n"
     ]
    },
    {
     "name": "stderr",
     "output_type": "stream",
     "text": [
      "pynbody.analysis.profile : Profile v_circ -- this routine assumes the disk is in the x-y plane\n"
     ]
    },
    {
     "name": "stdout",
     "output_type": "stream",
     "text": [
      "halo number 255 is done\n",
      "faceon has failed, trying backup\n"
     ]
    },
    {
     "name": "stderr",
     "output_type": "stream",
     "text": [
      "pynbody.analysis.profile : Profile v_circ -- this routine assumes the disk is in the x-y plane\n"
     ]
    },
    {
     "name": "stdout",
     "output_type": "stream",
     "text": [
      "hyb backup has failed\n",
      "halo number 256 is done\n"
     ]
    },
    {
     "name": "stderr",
     "output_type": "stream",
     "text": [
      "pynbody.analysis.profile : Profile v_circ -- this routine assumes the disk is in the x-y plane\n"
     ]
    },
    {
     "name": "stdout",
     "output_type": "stream",
     "text": [
      "halo number 257 is done\n",
      "faceon has failed, trying backup\n"
     ]
    },
    {
     "name": "stderr",
     "output_type": "stream",
     "text": [
      "pynbody.analysis.profile : Profile v_circ -- this routine assumes the disk is in the x-y plane\n"
     ]
    },
    {
     "name": "stdout",
     "output_type": "stream",
     "text": [
      "halo number 258 is done\n",
      "faceon has failed, trying backup\n"
     ]
    },
    {
     "name": "stderr",
     "output_type": "stream",
     "text": [
      "pynbody.analysis.profile : Profile v_circ -- this routine assumes the disk is in the x-y plane\n"
     ]
    },
    {
     "name": "stdout",
     "output_type": "stream",
     "text": [
      "hyb backup has failed\n",
      "halo number 259 is done\n",
      "faceon has failed, trying backup\n"
     ]
    },
    {
     "name": "stderr",
     "output_type": "stream",
     "text": [
      "pynbody.analysis.profile : Profile v_circ -- this routine assumes the disk is in the x-y plane\n"
     ]
    },
    {
     "name": "stdout",
     "output_type": "stream",
     "text": [
      "hyb backup has failed\n",
      "halo number 260 is done\n",
      "faceon has failed, trying backup\n"
     ]
    },
    {
     "name": "stderr",
     "output_type": "stream",
     "text": [
      "pynbody.analysis.profile : Profile v_circ -- this routine assumes the disk is in the x-y plane\n"
     ]
    },
    {
     "name": "stdout",
     "output_type": "stream",
     "text": [
      "halo number 261 is done\n",
      "faceon has failed, trying backup\n"
     ]
    },
    {
     "name": "stderr",
     "output_type": "stream",
     "text": [
      "pynbody.analysis.profile : Profile v_circ -- this routine assumes the disk is in the x-y plane\n"
     ]
    },
    {
     "name": "stdout",
     "output_type": "stream",
     "text": [
      "halo number 262 is done\n",
      "faceon has failed, trying backup\n"
     ]
    },
    {
     "name": "stderr",
     "output_type": "stream",
     "text": [
      "pynbody.analysis.profile : Profile v_circ -- this routine assumes the disk is in the x-y plane\n"
     ]
    },
    {
     "name": "stdout",
     "output_type": "stream",
     "text": [
      "hyb backup has failed\n",
      "halo number 263 is done\n",
      "faceon has failed, trying backup\n"
     ]
    },
    {
     "name": "stderr",
     "output_type": "stream",
     "text": [
      "pynbody.analysis.profile : Profile v_circ -- this routine assumes the disk is in the x-y plane\n"
     ]
    },
    {
     "name": "stdout",
     "output_type": "stream",
     "text": [
      "hyb backup has failed\n",
      "halo number 264 is done\n",
      "faceon has failed, trying backup\n"
     ]
    },
    {
     "name": "stderr",
     "output_type": "stream",
     "text": [
      "pynbody.analysis.profile : Profile v_circ -- this routine assumes the disk is in the x-y plane\n"
     ]
    },
    {
     "name": "stdout",
     "output_type": "stream",
     "text": [
      "hyb backup has failed\n",
      "halo number 265 is done\n",
      "faceon has failed, trying backup\n"
     ]
    },
    {
     "name": "stderr",
     "output_type": "stream",
     "text": [
      "pynbody.analysis.profile : Profile v_circ -- this routine assumes the disk is in the x-y plane\n"
     ]
    },
    {
     "name": "stdout",
     "output_type": "stream",
     "text": [
      "hyb backup has failed\n",
      "halo number 266 is done\n",
      "faceon has failed, trying backup\n"
     ]
    },
    {
     "name": "stderr",
     "output_type": "stream",
     "text": [
      "pynbody.analysis.profile : Profile v_circ -- this routine assumes the disk is in the x-y plane\n"
     ]
    },
    {
     "name": "stdout",
     "output_type": "stream",
     "text": [
      "halo number 267 is done\n",
      "faceon has failed, trying backup\n"
     ]
    },
    {
     "name": "stderr",
     "output_type": "stream",
     "text": [
      "pynbody.analysis.profile : Profile v_circ -- this routine assumes the disk is in the x-y plane\n"
     ]
    },
    {
     "name": "stdout",
     "output_type": "stream",
     "text": [
      "halo number 268 is done\n",
      "faceon has failed, trying backup\n"
     ]
    },
    {
     "name": "stderr",
     "output_type": "stream",
     "text": [
      "pynbody.analysis.profile : Profile v_circ -- this routine assumes the disk is in the x-y plane\n"
     ]
    },
    {
     "name": "stdout",
     "output_type": "stream",
     "text": [
      "halo number 269 is done\n",
      "faceon has failed, trying backup\n"
     ]
    },
    {
     "name": "stderr",
     "output_type": "stream",
     "text": [
      "pynbody.analysis.profile : Profile v_circ -- this routine assumes the disk is in the x-y plane\n"
     ]
    },
    {
     "name": "stdout",
     "output_type": "stream",
     "text": [
      "hyb backup has failed\n",
      "halo number 270 is done\n",
      "faceon has failed, trying backup\n"
     ]
    },
    {
     "name": "stderr",
     "output_type": "stream",
     "text": [
      "pynbody.analysis.profile : Profile v_circ -- this routine assumes the disk is in the x-y plane\n"
     ]
    },
    {
     "name": "stdout",
     "output_type": "stream",
     "text": [
      "halo number 271 is done\n",
      "faceon has failed, trying backup\n"
     ]
    },
    {
     "name": "stderr",
     "output_type": "stream",
     "text": [
      "pynbody.analysis.profile : Profile v_circ -- this routine assumes the disk is in the x-y plane\n"
     ]
    },
    {
     "name": "stdout",
     "output_type": "stream",
     "text": [
      "hyb backup has failed\n",
      "halo number 272 is done\n"
     ]
    },
    {
     "name": "stderr",
     "output_type": "stream",
     "text": [
      "pynbody.analysis.profile : Profile v_circ -- this routine assumes the disk is in the x-y plane\n"
     ]
    },
    {
     "name": "stdout",
     "output_type": "stream",
     "text": [
      "halo number 273 is done\n",
      "faceon has failed, trying backup\n"
     ]
    },
    {
     "name": "stderr",
     "output_type": "stream",
     "text": [
      "pynbody.analysis.profile : Profile v_circ -- this routine assumes the disk is in the x-y plane\n"
     ]
    },
    {
     "name": "stdout",
     "output_type": "stream",
     "text": [
      "halo number 274 is done\n",
      "faceon has failed, trying backup\n"
     ]
    },
    {
     "name": "stderr",
     "output_type": "stream",
     "text": [
      "pynbody.analysis.profile : Profile v_circ -- this routine assumes the disk is in the x-y plane\n"
     ]
    },
    {
     "name": "stdout",
     "output_type": "stream",
     "text": [
      "hyb backup has failed\n",
      "halo number 275 is done\n",
      "faceon has failed, trying backup\n"
     ]
    },
    {
     "name": "stderr",
     "output_type": "stream",
     "text": [
      "pynbody.analysis.profile : Profile v_circ -- this routine assumes the disk is in the x-y plane\n"
     ]
    },
    {
     "name": "stdout",
     "output_type": "stream",
     "text": [
      "hyb backup has failed\n",
      "halo number 276 is done\n",
      "faceon has failed, trying backup\n"
     ]
    },
    {
     "name": "stderr",
     "output_type": "stream",
     "text": [
      "pynbody.analysis.profile : Profile v_circ -- this routine assumes the disk is in the x-y plane\n"
     ]
    },
    {
     "name": "stdout",
     "output_type": "stream",
     "text": [
      "hyb backup has failed\n",
      "halo number 277 is done\n",
      "faceon has failed, trying backup\n"
     ]
    },
    {
     "name": "stderr",
     "output_type": "stream",
     "text": [
      "pynbody.analysis.profile : Profile v_circ -- this routine assumes the disk is in the x-y plane\n"
     ]
    },
    {
     "name": "stdout",
     "output_type": "stream",
     "text": [
      "halo number 278 is done\n",
      "faceon has failed, trying backup\n"
     ]
    },
    {
     "name": "stderr",
     "output_type": "stream",
     "text": [
      "pynbody.analysis.profile : Profile v_circ -- this routine assumes the disk is in the x-y plane\n"
     ]
    },
    {
     "name": "stdout",
     "output_type": "stream",
     "text": [
      "halo number 279 is done\n",
      "faceon has failed, trying backup\n"
     ]
    },
    {
     "name": "stderr",
     "output_type": "stream",
     "text": [
      "pynbody.analysis.profile : Profile v_circ -- this routine assumes the disk is in the x-y plane\n"
     ]
    },
    {
     "name": "stdout",
     "output_type": "stream",
     "text": [
      "hyb backup has failed\n",
      "halo number 280 is done\n",
      "faceon has failed, trying backup\n",
      "hyb backup has failed\n",
      "ssc backup has failed\n",
      "com backup has failed\n",
      "pot backup has failed\n",
      "all backups have failed\n",
      "halo number 281 is done\n"
     ]
    },
    {
     "name": "stderr",
     "output_type": "stream",
     "text": [
      "pynbody.analysis.profile : Profile v_circ -- this routine assumes the disk is in the x-y plane\n"
     ]
    },
    {
     "name": "stdout",
     "output_type": "stream",
     "text": [
      "halo number 282 is done\n",
      "faceon has failed, trying backup\n"
     ]
    },
    {
     "name": "stderr",
     "output_type": "stream",
     "text": [
      "pynbody.analysis.profile : Profile v_circ -- this routine assumes the disk is in the x-y plane\n"
     ]
    },
    {
     "name": "stdout",
     "output_type": "stream",
     "text": [
      "hyb backup has failed\n",
      "halo number 283 is done\n",
      "faceon has failed, trying backup\n"
     ]
    },
    {
     "name": "stderr",
     "output_type": "stream",
     "text": [
      "pynbody.analysis.profile : Profile v_circ -- this routine assumes the disk is in the x-y plane\n"
     ]
    },
    {
     "name": "stdout",
     "output_type": "stream",
     "text": [
      "halo number 284 is done\n",
      "faceon has failed, trying backup\n"
     ]
    },
    {
     "name": "stderr",
     "output_type": "stream",
     "text": [
      "pynbody.analysis.profile : Profile v_circ -- this routine assumes the disk is in the x-y plane\n"
     ]
    },
    {
     "name": "stdout",
     "output_type": "stream",
     "text": [
      "hyb backup has failed\n",
      "halo number 285 is done\n",
      "faceon has failed, trying backup\n"
     ]
    },
    {
     "name": "stderr",
     "output_type": "stream",
     "text": [
      "pynbody.analysis.profile : Profile v_circ -- this routine assumes the disk is in the x-y plane\n"
     ]
    },
    {
     "name": "stdout",
     "output_type": "stream",
     "text": [
      "hyb backup has failed\n",
      "halo number 286 is done\n",
      "faceon has failed, trying backup\n"
     ]
    },
    {
     "name": "stderr",
     "output_type": "stream",
     "text": [
      "pynbody.analysis.profile : Profile v_circ -- this routine assumes the disk is in the x-y plane\n"
     ]
    },
    {
     "name": "stdout",
     "output_type": "stream",
     "text": [
      "hyb backup has failed\n",
      "halo number 287 is done\n",
      "faceon has failed, trying backup\n",
      "hyb backup has failed\n",
      "ssc backup has failed\n",
      "com backup has failed\n",
      "pot backup has failed\n",
      "all backups have failed\n",
      "halo number 288 is done\n",
      "faceon has failed, trying backup\n"
     ]
    },
    {
     "name": "stderr",
     "output_type": "stream",
     "text": [
      "pynbody.analysis.profile : Profile v_circ -- this routine assumes the disk is in the x-y plane\n"
     ]
    },
    {
     "name": "stdout",
     "output_type": "stream",
     "text": [
      "hyb backup has failed\n",
      "halo number 289 is done\n"
     ]
    },
    {
     "name": "stderr",
     "output_type": "stream",
     "text": [
      "pynbody.analysis.profile : Profile v_circ -- this routine assumes the disk is in the x-y plane\n"
     ]
    },
    {
     "name": "stdout",
     "output_type": "stream",
     "text": [
      "halo number 290 is done\n",
      "faceon has failed, trying backup\n"
     ]
    },
    {
     "name": "stderr",
     "output_type": "stream",
     "text": [
      "pynbody.analysis.profile : Profile v_circ -- this routine assumes the disk is in the x-y plane\n"
     ]
    },
    {
     "name": "stdout",
     "output_type": "stream",
     "text": [
      "halo number 291 is done\n",
      "faceon has failed, trying backup\n",
      "hyb backup has failed\n",
      "ssc backup has failed\n",
      "com backup has failed\n",
      "pot backup has failed\n",
      "all backups have failed\n",
      "halo number 292 is done\n",
      "faceon has failed, trying backup\n"
     ]
    },
    {
     "name": "stderr",
     "output_type": "stream",
     "text": [
      "pynbody.analysis.profile : Profile v_circ -- this routine assumes the disk is in the x-y plane\n"
     ]
    },
    {
     "name": "stdout",
     "output_type": "stream",
     "text": [
      "hyb backup has failed\n",
      "halo number 293 is done\n"
     ]
    },
    {
     "name": "stderr",
     "output_type": "stream",
     "text": [
      "pynbody.analysis.profile : Profile v_circ -- this routine assumes the disk is in the x-y plane\n"
     ]
    },
    {
     "name": "stdout",
     "output_type": "stream",
     "text": [
      "halo number 294 is done\n",
      "faceon has failed, trying backup\n"
     ]
    },
    {
     "name": "stderr",
     "output_type": "stream",
     "text": [
      "pynbody.analysis.profile : Profile v_circ -- this routine assumes the disk is in the x-y plane\n"
     ]
    },
    {
     "name": "stdout",
     "output_type": "stream",
     "text": [
      "hyb backup has failed\n",
      "halo number 295 is done\n",
      "faceon has failed, trying backup\n"
     ]
    },
    {
     "name": "stderr",
     "output_type": "stream",
     "text": [
      "pynbody.analysis.profile : Profile v_circ -- this routine assumes the disk is in the x-y plane\n"
     ]
    },
    {
     "name": "stdout",
     "output_type": "stream",
     "text": [
      "hyb backup has failed\n",
      "halo number 296 is done\n",
      "faceon has failed, trying backup\n"
     ]
    },
    {
     "name": "stderr",
     "output_type": "stream",
     "text": [
      "pynbody.analysis.profile : Profile v_circ -- this routine assumes the disk is in the x-y plane\n"
     ]
    },
    {
     "name": "stdout",
     "output_type": "stream",
     "text": [
      "halo number 297 is done\n",
      "faceon has failed, trying backup\n"
     ]
    },
    {
     "name": "stderr",
     "output_type": "stream",
     "text": [
      "pynbody.analysis.profile : Profile v_circ -- this routine assumes the disk is in the x-y plane\n"
     ]
    },
    {
     "name": "stdout",
     "output_type": "stream",
     "text": [
      "hyb backup has failed\n",
      "halo number 298 is done\n",
      "faceon has failed, trying backup\n"
     ]
    },
    {
     "name": "stderr",
     "output_type": "stream",
     "text": [
      "pynbody.analysis.profile : Profile v_circ -- this routine assumes the disk is in the x-y plane\n"
     ]
    },
    {
     "name": "stdout",
     "output_type": "stream",
     "text": [
      "hyb backup has failed\n",
      "halo number 299 is done\n",
      "faceon has failed, trying backup\n"
     ]
    },
    {
     "name": "stderr",
     "output_type": "stream",
     "text": [
      "pynbody.analysis.profile : Profile v_circ -- this routine assumes the disk is in the x-y plane\n"
     ]
    },
    {
     "name": "stdout",
     "output_type": "stream",
     "text": [
      "hyb backup has failed\n",
      "halo number 300 is done\n",
      "faceon has failed, trying backup\n"
     ]
    },
    {
     "name": "stderr",
     "output_type": "stream",
     "text": [
      "pynbody.analysis.profile : Profile v_circ -- this routine assumes the disk is in the x-y plane\n"
     ]
    },
    {
     "name": "stdout",
     "output_type": "stream",
     "text": [
      "halo number 301 is done\n",
      "faceon has failed, trying backup\n"
     ]
    },
    {
     "name": "stderr",
     "output_type": "stream",
     "text": [
      "pynbody.analysis.profile : Profile v_circ -- this routine assumes the disk is in the x-y plane\n"
     ]
    },
    {
     "name": "stdout",
     "output_type": "stream",
     "text": [
      "hyb backup has failed\n",
      "halo number 302 is done\n",
      "faceon has failed, trying backup\n"
     ]
    },
    {
     "name": "stderr",
     "output_type": "stream",
     "text": [
      "pynbody.analysis.profile : Profile v_circ -- this routine assumes the disk is in the x-y plane\n"
     ]
    },
    {
     "name": "stdout",
     "output_type": "stream",
     "text": [
      "hyb backup has failed\n",
      "halo number 303 is done\n",
      "faceon has failed, trying backup\n"
     ]
    },
    {
     "name": "stderr",
     "output_type": "stream",
     "text": [
      "pynbody.analysis.profile : Profile v_circ -- this routine assumes the disk is in the x-y plane\n"
     ]
    },
    {
     "name": "stdout",
     "output_type": "stream",
     "text": [
      "hyb backup has failed\n",
      "halo number 304 is done\n",
      "faceon has failed, trying backup\n"
     ]
    },
    {
     "name": "stderr",
     "output_type": "stream",
     "text": [
      "pynbody.analysis.profile : Profile v_circ -- this routine assumes the disk is in the x-y plane\n"
     ]
    },
    {
     "name": "stdout",
     "output_type": "stream",
     "text": [
      "halo number 305 is done\n",
      "faceon has failed, trying backup\n"
     ]
    },
    {
     "name": "stderr",
     "output_type": "stream",
     "text": [
      "pynbody.analysis.profile : Profile v_circ -- this routine assumes the disk is in the x-y plane\n"
     ]
    },
    {
     "name": "stdout",
     "output_type": "stream",
     "text": [
      "hyb backup has failed\n",
      "halo number 306 is done\n",
      "faceon has failed, trying backup\n"
     ]
    },
    {
     "name": "stderr",
     "output_type": "stream",
     "text": [
      "pynbody.analysis.profile : Profile v_circ -- this routine assumes the disk is in the x-y plane\n"
     ]
    },
    {
     "name": "stdout",
     "output_type": "stream",
     "text": [
      "halo number 307 is done\n",
      "faceon has failed, trying backup\n",
      "hyb backup has failed\n",
      "ssc backup has failed\n",
      "com backup has failed\n",
      "pot backup has failed\n",
      "all backups have failed\n",
      "halo number 308 is done\n",
      "faceon has failed, trying backup\n"
     ]
    },
    {
     "name": "stderr",
     "output_type": "stream",
     "text": [
      "pynbody.analysis.profile : Profile v_circ -- this routine assumes the disk is in the x-y plane\n"
     ]
    },
    {
     "name": "stdout",
     "output_type": "stream",
     "text": [
      "hyb backup has failed\n",
      "halo number 309 is done\n",
      "faceon has failed, trying backup\n"
     ]
    },
    {
     "name": "stderr",
     "output_type": "stream",
     "text": [
      "pynbody.analysis.profile : Profile v_circ -- this routine assumes the disk is in the x-y plane\n"
     ]
    },
    {
     "name": "stdout",
     "output_type": "stream",
     "text": [
      "hyb backup has failed\n",
      "halo number 310 is done\n",
      "faceon has failed, trying backup\n"
     ]
    },
    {
     "name": "stderr",
     "output_type": "stream",
     "text": [
      "pynbody.analysis.profile : Profile v_circ -- this routine assumes the disk is in the x-y plane\n"
     ]
    },
    {
     "name": "stdout",
     "output_type": "stream",
     "text": [
      "halo number 311 is done\n",
      "faceon has failed, trying backup\n"
     ]
    },
    {
     "name": "stderr",
     "output_type": "stream",
     "text": [
      "pynbody.analysis.profile : Profile v_circ -- this routine assumes the disk is in the x-y plane\n"
     ]
    },
    {
     "name": "stdout",
     "output_type": "stream",
     "text": [
      "hyb backup has failed\n",
      "halo number 312 is done\n",
      "faceon has failed, trying backup\n"
     ]
    },
    {
     "name": "stderr",
     "output_type": "stream",
     "text": [
      "pynbody.analysis.profile : Profile v_circ -- this routine assumes the disk is in the x-y plane\n"
     ]
    },
    {
     "name": "stdout",
     "output_type": "stream",
     "text": [
      "hyb backup has failed\n",
      "halo number 313 is done\n",
      "faceon has failed, trying backup\n"
     ]
    },
    {
     "name": "stderr",
     "output_type": "stream",
     "text": [
      "pynbody.analysis.profile : Profile v_circ -- this routine assumes the disk is in the x-y plane\n"
     ]
    },
    {
     "name": "stdout",
     "output_type": "stream",
     "text": [
      "hyb backup has failed\n",
      "halo number 314 is done\n",
      "faceon has failed, trying backup\n"
     ]
    },
    {
     "name": "stderr",
     "output_type": "stream",
     "text": [
      "pynbody.analysis.profile : Profile v_circ -- this routine assumes the disk is in the x-y plane\n"
     ]
    },
    {
     "name": "stdout",
     "output_type": "stream",
     "text": [
      "hyb backup has failed\n",
      "halo number 315 is done\n",
      "faceon has failed, trying backup\n"
     ]
    },
    {
     "name": "stderr",
     "output_type": "stream",
     "text": [
      "pynbody.analysis.profile : Profile v_circ -- this routine assumes the disk is in the x-y plane\n"
     ]
    },
    {
     "name": "stdout",
     "output_type": "stream",
     "text": [
      "hyb backup has failed\n",
      "halo number 316 is done\n",
      "faceon has failed, trying backup\n",
      "hyb backup has failed\n",
      "ssc backup has failed\n",
      "com backup has failed\n",
      "pot backup has failed\n",
      "all backups have failed\n",
      "halo number 317 is done\n",
      "faceon has failed, trying backup\n"
     ]
    },
    {
     "name": "stderr",
     "output_type": "stream",
     "text": [
      "pynbody.analysis.profile : Profile v_circ -- this routine assumes the disk is in the x-y plane\n"
     ]
    },
    {
     "name": "stdout",
     "output_type": "stream",
     "text": [
      "halo number 318 is done\n",
      "faceon has failed, trying backup\n"
     ]
    },
    {
     "name": "stderr",
     "output_type": "stream",
     "text": [
      "pynbody.analysis.profile : Profile v_circ -- this routine assumes the disk is in the x-y plane\n"
     ]
    },
    {
     "name": "stdout",
     "output_type": "stream",
     "text": [
      "hyb backup has failed\n",
      "halo number 319 is done\n",
      "faceon has failed, trying backup\n"
     ]
    },
    {
     "name": "stderr",
     "output_type": "stream",
     "text": [
      "pynbody.analysis.profile : Profile v_circ -- this routine assumes the disk is in the x-y plane\n"
     ]
    },
    {
     "name": "stdout",
     "output_type": "stream",
     "text": [
      "halo number 320 is done\n",
      "faceon has failed, trying backup\n"
     ]
    },
    {
     "name": "stderr",
     "output_type": "stream",
     "text": [
      "pynbody.analysis.profile : Profile v_circ -- this routine assumes the disk is in the x-y plane\n"
     ]
    },
    {
     "name": "stdout",
     "output_type": "stream",
     "text": [
      "halo number 321 is done\n",
      "faceon has failed, trying backup\n"
     ]
    },
    {
     "name": "stderr",
     "output_type": "stream",
     "text": [
      "pynbody.analysis.profile : Profile v_circ -- this routine assumes the disk is in the x-y plane\n"
     ]
    },
    {
     "name": "stdout",
     "output_type": "stream",
     "text": [
      "hyb backup has failed\n",
      "halo number 322 is done\n",
      "faceon has failed, trying backup\n"
     ]
    },
    {
     "name": "stderr",
     "output_type": "stream",
     "text": [
      "pynbody.analysis.profile : Profile v_circ -- this routine assumes the disk is in the x-y plane\n"
     ]
    },
    {
     "name": "stdout",
     "output_type": "stream",
     "text": [
      "hyb backup has failed\n",
      "halo number 323 is done\n",
      "faceon has failed, trying backup\n"
     ]
    },
    {
     "name": "stderr",
     "output_type": "stream",
     "text": [
      "pynbody.analysis.profile : Profile v_circ -- this routine assumes the disk is in the x-y plane\n"
     ]
    },
    {
     "name": "stdout",
     "output_type": "stream",
     "text": [
      "halo number 324 is done\n",
      "faceon has failed, trying backup\n"
     ]
    },
    {
     "name": "stderr",
     "output_type": "stream",
     "text": [
      "pynbody.analysis.profile : Profile v_circ -- this routine assumes the disk is in the x-y plane\n"
     ]
    },
    {
     "name": "stdout",
     "output_type": "stream",
     "text": [
      "halo number 325 is done\n",
      "faceon has failed, trying backup\n",
      "hyb backup has failed\n",
      "ssc backup has failed\n",
      "com backup has failed\n",
      "pot backup has failed\n",
      "all backups have failed\n",
      "halo number 326 is done\n",
      "faceon has failed, trying backup\n",
      "hyb backup has failed\n",
      "ssc backup has failed\n",
      "com backup has failed\n",
      "pot backup has failed\n",
      "all backups have failed\n",
      "halo number 327 is done\n",
      "faceon has failed, trying backup\n"
     ]
    },
    {
     "name": "stderr",
     "output_type": "stream",
     "text": [
      "pynbody.analysis.profile : Profile v_circ -- this routine assumes the disk is in the x-y plane\n"
     ]
    },
    {
     "name": "stdout",
     "output_type": "stream",
     "text": [
      "hyb backup has failed\n",
      "halo number 328 is done\n",
      "faceon has failed, trying backup\n"
     ]
    },
    {
     "name": "stderr",
     "output_type": "stream",
     "text": [
      "pynbody.analysis.profile : Profile v_circ -- this routine assumes the disk is in the x-y plane\n"
     ]
    },
    {
     "name": "stdout",
     "output_type": "stream",
     "text": [
      "halo number 329 is done\n",
      "faceon has failed, trying backup\n"
     ]
    },
    {
     "name": "stderr",
     "output_type": "stream",
     "text": [
      "pynbody.analysis.profile : Profile v_circ -- this routine assumes the disk is in the x-y plane\n"
     ]
    },
    {
     "name": "stdout",
     "output_type": "stream",
     "text": [
      "hyb backup has failed\n",
      "halo number 330 is done\n",
      "faceon has failed, trying backup\n"
     ]
    },
    {
     "name": "stderr",
     "output_type": "stream",
     "text": [
      "pynbody.analysis.profile : Profile v_circ -- this routine assumes the disk is in the x-y plane\n"
     ]
    },
    {
     "name": "stdout",
     "output_type": "stream",
     "text": [
      "hyb backup has failed\n",
      "halo number 331 is done\n",
      "faceon has failed, trying backup\n",
      "hyb backup has failed\n",
      "ssc backup has failed\n",
      "com backup has failed\n",
      "pot backup has failed\n",
      "all backups have failed\n",
      "halo number 332 is done\n",
      "faceon has failed, trying backup\n"
     ]
    },
    {
     "name": "stderr",
     "output_type": "stream",
     "text": [
      "pynbody.analysis.profile : Profile v_circ -- this routine assumes the disk is in the x-y plane\n"
     ]
    },
    {
     "name": "stdout",
     "output_type": "stream",
     "text": [
      "hyb backup has failed\n",
      "halo number 333 is done\n",
      "faceon has failed, trying backup\n"
     ]
    },
    {
     "name": "stderr",
     "output_type": "stream",
     "text": [
      "pynbody.analysis.profile : Profile v_circ -- this routine assumes the disk is in the x-y plane\n"
     ]
    },
    {
     "name": "stdout",
     "output_type": "stream",
     "text": [
      "halo number 334 is done\n",
      "faceon has failed, trying backup\n"
     ]
    },
    {
     "name": "stderr",
     "output_type": "stream",
     "text": [
      "pynbody.analysis.profile : Profile v_circ -- this routine assumes the disk is in the x-y plane\n"
     ]
    },
    {
     "name": "stdout",
     "output_type": "stream",
     "text": [
      "hyb backup has failed\n",
      "halo number 335 is done\n",
      "faceon has failed, trying backup\n"
     ]
    },
    {
     "name": "stderr",
     "output_type": "stream",
     "text": [
      "pynbody.analysis.profile : Profile v_circ -- this routine assumes the disk is in the x-y plane\n"
     ]
    },
    {
     "name": "stdout",
     "output_type": "stream",
     "text": [
      "halo number 336 is done\n",
      "faceon has failed, trying backup\n",
      "hyb backup has failed\n",
      "ssc backup has failed\n",
      "com backup has failed\n",
      "pot backup has failed\n",
      "all backups have failed\n",
      "halo number 337 is done\n",
      "faceon has failed, trying backup\n"
     ]
    },
    {
     "name": "stderr",
     "output_type": "stream",
     "text": [
      "pynbody.analysis.profile : Profile v_circ -- this routine assumes the disk is in the x-y plane\n"
     ]
    },
    {
     "name": "stdout",
     "output_type": "stream",
     "text": [
      "hyb backup has failed\n",
      "halo number 338 is done\n",
      "faceon has failed, trying backup\n"
     ]
    },
    {
     "name": "stderr",
     "output_type": "stream",
     "text": [
      "pynbody.analysis.profile : Profile v_circ -- this routine assumes the disk is in the x-y plane\n"
     ]
    },
    {
     "name": "stdout",
     "output_type": "stream",
     "text": [
      "halo number 339 is done\n",
      "faceon has failed, trying backup\n"
     ]
    },
    {
     "name": "stderr",
     "output_type": "stream",
     "text": [
      "pynbody.analysis.profile : Profile v_circ -- this routine assumes the disk is in the x-y plane\n"
     ]
    },
    {
     "name": "stdout",
     "output_type": "stream",
     "text": [
      "hyb backup has failed\n",
      "halo number 340 is done\n",
      "faceon has failed, trying backup\n"
     ]
    },
    {
     "name": "stderr",
     "output_type": "stream",
     "text": [
      "pynbody.analysis.profile : Profile v_circ -- this routine assumes the disk is in the x-y plane\n"
     ]
    },
    {
     "name": "stdout",
     "output_type": "stream",
     "text": [
      "halo number 341 is done\n",
      "faceon has failed, trying backup\n"
     ]
    },
    {
     "name": "stderr",
     "output_type": "stream",
     "text": [
      "pynbody.analysis.profile : Profile v_circ -- this routine assumes the disk is in the x-y plane\n"
     ]
    },
    {
     "name": "stdout",
     "output_type": "stream",
     "text": [
      "hyb backup has failed\n",
      "halo number 342 is done\n",
      "faceon has failed, trying backup\n"
     ]
    },
    {
     "name": "stderr",
     "output_type": "stream",
     "text": [
      "pynbody.analysis.profile : Profile v_circ -- this routine assumes the disk is in the x-y plane\n"
     ]
    },
    {
     "name": "stdout",
     "output_type": "stream",
     "text": [
      "hyb backup has failed\n",
      "halo number 343 is done\n",
      "faceon has failed, trying backup\n"
     ]
    },
    {
     "name": "stderr",
     "output_type": "stream",
     "text": [
      "pynbody.analysis.profile : Profile v_circ -- this routine assumes the disk is in the x-y plane\n"
     ]
    },
    {
     "name": "stdout",
     "output_type": "stream",
     "text": [
      "hyb backup has failed\n",
      "halo number 344 is done\n",
      "faceon has failed, trying backup\n"
     ]
    },
    {
     "name": "stderr",
     "output_type": "stream",
     "text": [
      "pynbody.analysis.profile : Profile v_circ -- this routine assumes the disk is in the x-y plane\n"
     ]
    },
    {
     "name": "stdout",
     "output_type": "stream",
     "text": [
      "hyb backup has failed\n",
      "halo number 345 is done\n",
      "faceon has failed, trying backup\n"
     ]
    },
    {
     "name": "stderr",
     "output_type": "stream",
     "text": [
      "pynbody.analysis.profile : Profile v_circ -- this routine assumes the disk is in the x-y plane\n"
     ]
    },
    {
     "name": "stdout",
     "output_type": "stream",
     "text": [
      "hyb backup has failed\n",
      "halo number 346 is done\n",
      "faceon has failed, trying backup\n"
     ]
    },
    {
     "name": "stderr",
     "output_type": "stream",
     "text": [
      "pynbody.analysis.profile : Profile v_circ -- this routine assumes the disk is in the x-y plane\n"
     ]
    },
    {
     "name": "stdout",
     "output_type": "stream",
     "text": [
      "halo number 347 is done\n",
      "faceon has failed, trying backup\n"
     ]
    },
    {
     "name": "stderr",
     "output_type": "stream",
     "text": [
      "pynbody.analysis.profile : Profile v_circ -- this routine assumes the disk is in the x-y plane\n"
     ]
    },
    {
     "name": "stdout",
     "output_type": "stream",
     "text": [
      "hyb backup has failed\n",
      "halo number 348 is done\n",
      "faceon has failed, trying backup\n"
     ]
    },
    {
     "name": "stderr",
     "output_type": "stream",
     "text": [
      "pynbody.analysis.profile : Profile v_circ -- this routine assumes the disk is in the x-y plane\n"
     ]
    },
    {
     "name": "stdout",
     "output_type": "stream",
     "text": [
      "hyb backup has failed\n",
      "halo number 349 is done\n",
      "faceon has failed, trying backup\n"
     ]
    },
    {
     "name": "stderr",
     "output_type": "stream",
     "text": [
      "pynbody.analysis.profile : Profile v_circ -- this routine assumes the disk is in the x-y plane\n"
     ]
    },
    {
     "name": "stdout",
     "output_type": "stream",
     "text": [
      "halo number 350 is done\n",
      "faceon has failed, trying backup\n"
     ]
    },
    {
     "name": "stderr",
     "output_type": "stream",
     "text": [
      "pynbody.analysis.profile : Profile v_circ -- this routine assumes the disk is in the x-y plane\n"
     ]
    },
    {
     "name": "stdout",
     "output_type": "stream",
     "text": [
      "hyb backup has failed\n",
      "halo number 351 is done\n",
      "faceon has failed, trying backup\n",
      "hyb backup has failed\n",
      "ssc backup has failed\n",
      "com backup has failed\n",
      "pot backup has failed\n",
      "all backups have failed\n",
      "halo number 352 is done\n",
      "faceon has failed, trying backup\n"
     ]
    },
    {
     "name": "stderr",
     "output_type": "stream",
     "text": [
      "pynbody.analysis.profile : Profile v_circ -- this routine assumes the disk is in the x-y plane\n"
     ]
    },
    {
     "name": "stdout",
     "output_type": "stream",
     "text": [
      "hyb backup has failed\n",
      "halo number 353 is done\n",
      "faceon has failed, trying backup\n"
     ]
    },
    {
     "name": "stderr",
     "output_type": "stream",
     "text": [
      "pynbody.analysis.profile : Profile v_circ -- this routine assumes the disk is in the x-y plane\n"
     ]
    },
    {
     "name": "stdout",
     "output_type": "stream",
     "text": [
      "hyb backup has failed\n",
      "halo number 354 is done\n",
      "faceon has failed, trying backup\n",
      "hyb backup has failed\n",
      "ssc backup has failed\n",
      "com backup has failed\n",
      "pot backup has failed\n",
      "all backups have failed\n",
      "halo number 355 is done\n",
      "faceon has failed, trying backup\n"
     ]
    },
    {
     "name": "stderr",
     "output_type": "stream",
     "text": [
      "pynbody.analysis.profile : Profile v_circ -- this routine assumes the disk is in the x-y plane\n"
     ]
    },
    {
     "name": "stdout",
     "output_type": "stream",
     "text": [
      "hyb backup has failed\n",
      "halo number 356 is done\n",
      "faceon has failed, trying backup\n"
     ]
    },
    {
     "name": "stderr",
     "output_type": "stream",
     "text": [
      "pynbody.analysis.profile : Profile v_circ -- this routine assumes the disk is in the x-y plane\n"
     ]
    },
    {
     "name": "stdout",
     "output_type": "stream",
     "text": [
      "hyb backup has failed\n",
      "halo number 357 is done\n",
      "faceon has failed, trying backup\n"
     ]
    },
    {
     "name": "stderr",
     "output_type": "stream",
     "text": [
      "pynbody.analysis.profile : Profile v_circ -- this routine assumes the disk is in the x-y plane\n"
     ]
    },
    {
     "name": "stdout",
     "output_type": "stream",
     "text": [
      "halo number 358 is done\n",
      "faceon has failed, trying backup\n"
     ]
    },
    {
     "name": "stderr",
     "output_type": "stream",
     "text": [
      "pynbody.analysis.profile : Profile v_circ -- this routine assumes the disk is in the x-y plane\n"
     ]
    },
    {
     "name": "stdout",
     "output_type": "stream",
     "text": [
      "hyb backup has failed\n",
      "halo number 359 is done\n",
      "faceon has failed, trying backup\n"
     ]
    },
    {
     "name": "stderr",
     "output_type": "stream",
     "text": [
      "pynbody.analysis.profile : Profile v_circ -- this routine assumes the disk is in the x-y plane\n"
     ]
    },
    {
     "name": "stdout",
     "output_type": "stream",
     "text": [
      "halo number 360 is done\n",
      "faceon has failed, trying backup\n"
     ]
    },
    {
     "name": "stderr",
     "output_type": "stream",
     "text": [
      "pynbody.analysis.profile : Profile v_circ -- this routine assumes the disk is in the x-y plane\n"
     ]
    },
    {
     "name": "stdout",
     "output_type": "stream",
     "text": [
      "halo number 361 is done\n",
      "faceon has failed, trying backup\n"
     ]
    },
    {
     "name": "stderr",
     "output_type": "stream",
     "text": [
      "pynbody.analysis.profile : Profile v_circ -- this routine assumes the disk is in the x-y plane\n"
     ]
    },
    {
     "name": "stdout",
     "output_type": "stream",
     "text": [
      "halo number 362 is done\n",
      "faceon has failed, trying backup\n"
     ]
    },
    {
     "name": "stderr",
     "output_type": "stream",
     "text": [
      "pynbody.analysis.profile : Profile v_circ -- this routine assumes the disk is in the x-y plane\n"
     ]
    },
    {
     "name": "stdout",
     "output_type": "stream",
     "text": [
      "halo number 363 is done\n",
      "faceon has failed, trying backup\n"
     ]
    },
    {
     "name": "stderr",
     "output_type": "stream",
     "text": [
      "pynbody.analysis.profile : Profile v_circ -- this routine assumes the disk is in the x-y plane\n"
     ]
    },
    {
     "name": "stdout",
     "output_type": "stream",
     "text": [
      "halo number 364 is done\n"
     ]
    },
    {
     "name": "stderr",
     "output_type": "stream",
     "text": [
      "/home/tengiz/.local/lib/python3.6/site-packages/pynbody/analysis/angmom.py:78: RuntimeWarning: invalid value encountered in true_divide\n",
      "  vec_in = vec_in / np.sum(vec_in ** 2).sum() ** 0.5\n"
     ]
    },
    {
     "name": "stdout",
     "output_type": "stream",
     "text": [
      "faceon has failed, trying backup\n",
      "hyb backup has failed\n"
     ]
    },
    {
     "name": "stderr",
     "output_type": "stream",
     "text": [
      "pynbody.analysis.profile : Profile v_circ -- this routine assumes the disk is in the x-y plane\n"
     ]
    },
    {
     "name": "stdout",
     "output_type": "stream",
     "text": [
      "halo number 365 is done\n",
      "faceon has failed, trying backup\n"
     ]
    },
    {
     "name": "stderr",
     "output_type": "stream",
     "text": [
      "pynbody.analysis.profile : Profile v_circ -- this routine assumes the disk is in the x-y plane\n"
     ]
    },
    {
     "name": "stdout",
     "output_type": "stream",
     "text": [
      "hyb backup has failed\n",
      "halo number 366 is done\n",
      "faceon has failed, trying backup\n"
     ]
    },
    {
     "name": "stderr",
     "output_type": "stream",
     "text": [
      "pynbody.analysis.profile : Profile v_circ -- this routine assumes the disk is in the x-y plane\n"
     ]
    },
    {
     "name": "stdout",
     "output_type": "stream",
     "text": [
      "hyb backup has failed\n",
      "halo number 367 is done\n"
     ]
    },
    {
     "name": "stderr",
     "output_type": "stream",
     "text": [
      "pynbody.analysis.profile : Profile v_circ -- this routine assumes the disk is in the x-y plane\n"
     ]
    },
    {
     "name": "stdout",
     "output_type": "stream",
     "text": [
      "halo number 368 is done\n",
      "faceon has failed, trying backup\n"
     ]
    },
    {
     "name": "stderr",
     "output_type": "stream",
     "text": [
      "pynbody.analysis.profile : Profile v_circ -- this routine assumes the disk is in the x-y plane\n"
     ]
    },
    {
     "name": "stdout",
     "output_type": "stream",
     "text": [
      "halo number 369 is done\n",
      "faceon has failed, trying backup\n"
     ]
    },
    {
     "name": "stderr",
     "output_type": "stream",
     "text": [
      "pynbody.analysis.profile : Profile v_circ -- this routine assumes the disk is in the x-y plane\n"
     ]
    },
    {
     "name": "stdout",
     "output_type": "stream",
     "text": [
      "hyb backup has failed\n",
      "halo number 370 is done\n",
      "faceon has failed, trying backup\n"
     ]
    },
    {
     "name": "stderr",
     "output_type": "stream",
     "text": [
      "pynbody.analysis.profile : Profile v_circ -- this routine assumes the disk is in the x-y plane\n"
     ]
    },
    {
     "name": "stdout",
     "output_type": "stream",
     "text": [
      "hyb backup has failed\n",
      "halo number 371 is done\n",
      "faceon has failed, trying backup\n"
     ]
    },
    {
     "name": "stderr",
     "output_type": "stream",
     "text": [
      "pynbody.analysis.profile : Profile v_circ -- this routine assumes the disk is in the x-y plane\n"
     ]
    },
    {
     "name": "stdout",
     "output_type": "stream",
     "text": [
      "halo number 372 is done\n"
     ]
    },
    {
     "name": "stderr",
     "output_type": "stream",
     "text": [
      "pynbody.analysis.profile : Profile v_circ -- this routine assumes the disk is in the x-y plane\n"
     ]
    },
    {
     "name": "stdout",
     "output_type": "stream",
     "text": [
      "halo number 373 is done\n",
      "faceon has failed, trying backup\n"
     ]
    },
    {
     "name": "stderr",
     "output_type": "stream",
     "text": [
      "pynbody.analysis.profile : Profile v_circ -- this routine assumes the disk is in the x-y plane\n"
     ]
    },
    {
     "name": "stdout",
     "output_type": "stream",
     "text": [
      "halo number 374 is done\n",
      "faceon has failed, trying backup\n"
     ]
    },
    {
     "name": "stderr",
     "output_type": "stream",
     "text": [
      "pynbody.analysis.profile : Profile v_circ -- this routine assumes the disk is in the x-y plane\n"
     ]
    },
    {
     "name": "stdout",
     "output_type": "stream",
     "text": [
      "hyb backup has failed\n",
      "halo number 375 is done\n",
      "faceon has failed, trying backup\n"
     ]
    },
    {
     "name": "stderr",
     "output_type": "stream",
     "text": [
      "pynbody.analysis.profile : Profile v_circ -- this routine assumes the disk is in the x-y plane\n"
     ]
    },
    {
     "name": "stdout",
     "output_type": "stream",
     "text": [
      "hyb backup has failed\n",
      "halo number 376 is done\n",
      "faceon has failed, trying backup\n"
     ]
    },
    {
     "name": "stderr",
     "output_type": "stream",
     "text": [
      "pynbody.analysis.profile : Profile v_circ -- this routine assumes the disk is in the x-y plane\n"
     ]
    },
    {
     "name": "stdout",
     "output_type": "stream",
     "text": [
      "halo number 377 is done\n",
      "faceon has failed, trying backup\n",
      "hyb backup has failed\n",
      "ssc backup has failed\n",
      "com backup has failed\n",
      "pot backup has failed\n",
      "all backups have failed\n",
      "halo number 378 is done\n",
      "faceon has failed, trying backup\n"
     ]
    },
    {
     "name": "stderr",
     "output_type": "stream",
     "text": [
      "pynbody.analysis.profile : Profile v_circ -- this routine assumes the disk is in the x-y plane\n"
     ]
    },
    {
     "name": "stdout",
     "output_type": "stream",
     "text": [
      "hyb backup has failed\n",
      "halo number 379 is done\n",
      "faceon has failed, trying backup\n"
     ]
    },
    {
     "name": "stderr",
     "output_type": "stream",
     "text": [
      "pynbody.analysis.profile : Profile v_circ -- this routine assumes the disk is in the x-y plane\n"
     ]
    },
    {
     "name": "stdout",
     "output_type": "stream",
     "text": [
      "hyb backup has failed\n",
      "halo number 380 is done\n",
      "faceon has failed, trying backup\n"
     ]
    },
    {
     "name": "stderr",
     "output_type": "stream",
     "text": [
      "pynbody.analysis.profile : Profile v_circ -- this routine assumes the disk is in the x-y plane\n"
     ]
    },
    {
     "name": "stdout",
     "output_type": "stream",
     "text": [
      "halo number 381 is done\n",
      "faceon has failed, trying backup\n",
      "hyb backup has failed\n",
      "ssc backup has failed\n",
      "com backup has failed\n",
      "pot backup has failed\n",
      "all backups have failed\n",
      "halo number 382 is done\n",
      "faceon has failed, trying backup\n"
     ]
    },
    {
     "name": "stderr",
     "output_type": "stream",
     "text": [
      "pynbody.analysis.profile : Profile v_circ -- this routine assumes the disk is in the x-y plane\n"
     ]
    },
    {
     "name": "stdout",
     "output_type": "stream",
     "text": [
      "hyb backup has failed\n",
      "halo number 383 is done\n",
      "faceon has failed, trying backup\n"
     ]
    },
    {
     "name": "stderr",
     "output_type": "stream",
     "text": [
      "pynbody.analysis.profile : Profile v_circ -- this routine assumes the disk is in the x-y plane\n"
     ]
    },
    {
     "name": "stdout",
     "output_type": "stream",
     "text": [
      "hyb backup has failed\n",
      "halo number 384 is done\n",
      "faceon has failed, trying backup\n"
     ]
    },
    {
     "name": "stderr",
     "output_type": "stream",
     "text": [
      "pynbody.analysis.profile : Profile v_circ -- this routine assumes the disk is in the x-y plane\n"
     ]
    },
    {
     "name": "stdout",
     "output_type": "stream",
     "text": [
      "hyb backup has failed\n",
      "halo number 385 is done\n",
      "faceon has failed, trying backup\n"
     ]
    },
    {
     "name": "stderr",
     "output_type": "stream",
     "text": [
      "pynbody.analysis.profile : Profile v_circ -- this routine assumes the disk is in the x-y plane\n"
     ]
    },
    {
     "name": "stdout",
     "output_type": "stream",
     "text": [
      "halo number 386 is done\n",
      "faceon has failed, trying backup\n"
     ]
    },
    {
     "name": "stderr",
     "output_type": "stream",
     "text": [
      "pynbody.analysis.profile : Profile v_circ -- this routine assumes the disk is in the x-y plane\n"
     ]
    },
    {
     "name": "stdout",
     "output_type": "stream",
     "text": [
      "halo number 387 is done\n",
      "faceon has failed, trying backup\n"
     ]
    },
    {
     "name": "stderr",
     "output_type": "stream",
     "text": [
      "pynbody.analysis.profile : Profile v_circ -- this routine assumes the disk is in the x-y plane\n"
     ]
    },
    {
     "name": "stdout",
     "output_type": "stream",
     "text": [
      "halo number 388 is done\n",
      "faceon has failed, trying backup\n"
     ]
    },
    {
     "name": "stderr",
     "output_type": "stream",
     "text": [
      "pynbody.analysis.profile : Profile v_circ -- this routine assumes the disk is in the x-y plane\n"
     ]
    },
    {
     "name": "stdout",
     "output_type": "stream",
     "text": [
      "hyb backup has failed\n",
      "halo number 389 is done\n",
      "faceon has failed, trying backup\n"
     ]
    },
    {
     "name": "stderr",
     "output_type": "stream",
     "text": [
      "pynbody.analysis.profile : Profile v_circ -- this routine assumes the disk is in the x-y plane\n"
     ]
    },
    {
     "name": "stdout",
     "output_type": "stream",
     "text": [
      "halo number 390 is done\n",
      "faceon has failed, trying backup\n",
      "hyb backup has failed\n",
      "ssc backup has failed\n",
      "com backup has failed\n",
      "pot backup has failed\n",
      "all backups have failed\n",
      "halo number 391 is done\n",
      "faceon has failed, trying backup\n"
     ]
    },
    {
     "name": "stderr",
     "output_type": "stream",
     "text": [
      "pynbody.analysis.profile : Profile v_circ -- this routine assumes the disk is in the x-y plane\n"
     ]
    },
    {
     "name": "stdout",
     "output_type": "stream",
     "text": [
      "halo number 392 is done\n",
      "faceon has failed, trying backup\n"
     ]
    },
    {
     "name": "stderr",
     "output_type": "stream",
     "text": [
      "pynbody.analysis.profile : Profile v_circ -- this routine assumes the disk is in the x-y plane\n"
     ]
    },
    {
     "name": "stdout",
     "output_type": "stream",
     "text": [
      "halo number 393 is done\n",
      "faceon has failed, trying backup\n"
     ]
    },
    {
     "name": "stderr",
     "output_type": "stream",
     "text": [
      "pynbody.analysis.profile : Profile v_circ -- this routine assumes the disk is in the x-y plane\n"
     ]
    },
    {
     "name": "stdout",
     "output_type": "stream",
     "text": [
      "halo number 394 is done\n",
      "faceon has failed, trying backup\n"
     ]
    },
    {
     "name": "stderr",
     "output_type": "stream",
     "text": [
      "pynbody.analysis.profile : Profile v_circ -- this routine assumes the disk is in the x-y plane\n"
     ]
    },
    {
     "name": "stdout",
     "output_type": "stream",
     "text": [
      "hyb backup has failed\n",
      "halo number 395 is done\n",
      "faceon has failed, trying backup\n"
     ]
    },
    {
     "name": "stderr",
     "output_type": "stream",
     "text": [
      "pynbody.analysis.profile : Profile v_circ -- this routine assumes the disk is in the x-y plane\n"
     ]
    },
    {
     "name": "stdout",
     "output_type": "stream",
     "text": [
      "hyb backup has failed\n",
      "halo number 396 is done\n",
      "faceon has failed, trying backup\n"
     ]
    },
    {
     "name": "stderr",
     "output_type": "stream",
     "text": [
      "pynbody.analysis.profile : Profile v_circ -- this routine assumes the disk is in the x-y plane\n"
     ]
    },
    {
     "name": "stdout",
     "output_type": "stream",
     "text": [
      "hyb backup has failed\n",
      "halo number 397 is done\n",
      "faceon has failed, trying backup\n"
     ]
    },
    {
     "name": "stderr",
     "output_type": "stream",
     "text": [
      "pynbody.analysis.profile : Profile v_circ -- this routine assumes the disk is in the x-y plane\n"
     ]
    },
    {
     "name": "stdout",
     "output_type": "stream",
     "text": [
      "hyb backup has failed\n",
      "halo number 398 is done\n",
      "faceon has failed, trying backup\n"
     ]
    },
    {
     "name": "stderr",
     "output_type": "stream",
     "text": [
      "pynbody.analysis.profile : Profile v_circ -- this routine assumes the disk is in the x-y plane\n"
     ]
    },
    {
     "name": "stdout",
     "output_type": "stream",
     "text": [
      "halo number 399 is done\n",
      "faceon has failed, trying backup\n"
     ]
    },
    {
     "name": "stderr",
     "output_type": "stream",
     "text": [
      "pynbody.analysis.profile : Profile v_circ -- this routine assumes the disk is in the x-y plane\n"
     ]
    },
    {
     "name": "stdout",
     "output_type": "stream",
     "text": [
      "hyb backup has failed\n",
      "halo number 400 is done\n",
      "faceon has failed, trying backup\n",
      "hyb backup has failed\n",
      "ssc backup has failed\n",
      "com backup has failed\n",
      "pot backup has failed\n",
      "all backups have failed\n",
      "halo number 401 is done\n",
      "faceon has failed, trying backup\n",
      "hyb backup has failed\n"
     ]
    },
    {
     "name": "stderr",
     "output_type": "stream",
     "text": [
      "pynbody.analysis.profile : Profile v_circ -- this routine assumes the disk is in the x-y plane\n"
     ]
    },
    {
     "name": "stdout",
     "output_type": "stream",
     "text": [
      "halo number 402 is done\n",
      "faceon has failed, trying backup\n"
     ]
    },
    {
     "name": "stderr",
     "output_type": "stream",
     "text": [
      "pynbody.analysis.profile : Profile v_circ -- this routine assumes the disk is in the x-y plane\n"
     ]
    },
    {
     "name": "stdout",
     "output_type": "stream",
     "text": [
      "halo number 403 is done\n",
      "faceon has failed, trying backup\n",
      "hyb backup has failed\n",
      "ssc backup has failed\n",
      "com backup has failed\n",
      "pot backup has failed\n",
      "all backups have failed\n",
      "halo number 404 is done\n",
      "faceon has failed, trying backup\n",
      "hyb backup has failed\n"
     ]
    },
    {
     "name": "stderr",
     "output_type": "stream",
     "text": [
      "pynbody.analysis.profile : Profile v_circ -- this routine assumes the disk is in the x-y plane\n"
     ]
    },
    {
     "name": "stdout",
     "output_type": "stream",
     "text": [
      "halo number 405 is done\n",
      "faceon has failed, trying backup\n"
     ]
    },
    {
     "name": "stderr",
     "output_type": "stream",
     "text": [
      "pynbody.analysis.profile : Profile v_circ -- this routine assumes the disk is in the x-y plane\n"
     ]
    },
    {
     "name": "stdout",
     "output_type": "stream",
     "text": [
      "hyb backup has failed\n",
      "halo number 406 is done\n",
      "faceon has failed, trying backup\n",
      "hyb backup has failed\n",
      "ssc backup has failed\n",
      "com backup has failed\n",
      "pot backup has failed\n",
      "all backups have failed\n",
      "halo number 407 is done\n",
      "faceon has failed, trying backup\n"
     ]
    },
    {
     "name": "stderr",
     "output_type": "stream",
     "text": [
      "pynbody.analysis.profile : Profile v_circ -- this routine assumes the disk is in the x-y plane\n"
     ]
    },
    {
     "name": "stdout",
     "output_type": "stream",
     "text": [
      "hyb backup has failed\n",
      "halo number 408 is done\n",
      "faceon has failed, trying backup\n"
     ]
    },
    {
     "name": "stderr",
     "output_type": "stream",
     "text": [
      "pynbody.analysis.profile : Profile v_circ -- this routine assumes the disk is in the x-y plane\n"
     ]
    },
    {
     "name": "stdout",
     "output_type": "stream",
     "text": [
      "hyb backup has failed\n",
      "halo number 409 is done\n",
      "faceon has failed, trying backup\n"
     ]
    },
    {
     "name": "stderr",
     "output_type": "stream",
     "text": [
      "pynbody.analysis.profile : Profile v_circ -- this routine assumes the disk is in the x-y plane\n"
     ]
    },
    {
     "name": "stdout",
     "output_type": "stream",
     "text": [
      "halo number 410 is done\n",
      "faceon has failed, trying backup\n"
     ]
    },
    {
     "name": "stderr",
     "output_type": "stream",
     "text": [
      "pynbody.analysis.profile : Profile v_circ -- this routine assumes the disk is in the x-y plane\n"
     ]
    },
    {
     "name": "stdout",
     "output_type": "stream",
     "text": [
      "halo number 411 is done\n",
      "faceon has failed, trying backup\n",
      "hyb backup has failed\n"
     ]
    },
    {
     "name": "stderr",
     "output_type": "stream",
     "text": [
      "pynbody.analysis.profile : Profile v_circ -- this routine assumes the disk is in the x-y plane\n"
     ]
    },
    {
     "name": "stdout",
     "output_type": "stream",
     "text": [
      "halo number 412 is done\n",
      "faceon has failed, trying backup\n"
     ]
    },
    {
     "name": "stderr",
     "output_type": "stream",
     "text": [
      "pynbody.analysis.profile : Profile v_circ -- this routine assumes the disk is in the x-y plane\n"
     ]
    },
    {
     "name": "stdout",
     "output_type": "stream",
     "text": [
      "hyb backup has failed\n",
      "halo number 413 is done\n",
      "faceon has failed, trying backup\n"
     ]
    },
    {
     "name": "stderr",
     "output_type": "stream",
     "text": [
      "pynbody.analysis.profile : Profile v_circ -- this routine assumes the disk is in the x-y plane\n"
     ]
    },
    {
     "name": "stdout",
     "output_type": "stream",
     "text": [
      "hyb backup has failed\n",
      "halo number 414 is done\n",
      "faceon has failed, trying backup\n"
     ]
    },
    {
     "name": "stderr",
     "output_type": "stream",
     "text": [
      "pynbody.analysis.profile : Profile v_circ -- this routine assumes the disk is in the x-y plane\n"
     ]
    },
    {
     "name": "stdout",
     "output_type": "stream",
     "text": [
      "halo number 415 is done\n",
      "faceon has failed, trying backup\n"
     ]
    },
    {
     "name": "stderr",
     "output_type": "stream",
     "text": [
      "pynbody.analysis.profile : Profile v_circ -- this routine assumes the disk is in the x-y plane\n"
     ]
    },
    {
     "name": "stdout",
     "output_type": "stream",
     "text": [
      "hyb backup has failed\n",
      "halo number 416 is done\n",
      "faceon has failed, trying backup\n"
     ]
    },
    {
     "name": "stderr",
     "output_type": "stream",
     "text": [
      "pynbody.analysis.profile : Profile v_circ -- this routine assumes the disk is in the x-y plane\n"
     ]
    },
    {
     "name": "stdout",
     "output_type": "stream",
     "text": [
      "halo number 417 is done\n",
      "faceon has failed, trying backup\n"
     ]
    },
    {
     "name": "stderr",
     "output_type": "stream",
     "text": [
      "pynbody.analysis.profile : Profile v_circ -- this routine assumes the disk is in the x-y plane\n"
     ]
    },
    {
     "name": "stdout",
     "output_type": "stream",
     "text": [
      "hyb backup has failed\n",
      "halo number 418 is done\n",
      "faceon has failed, trying backup\n"
     ]
    },
    {
     "name": "stderr",
     "output_type": "stream",
     "text": [
      "pynbody.analysis.profile : Profile v_circ -- this routine assumes the disk is in the x-y plane\n"
     ]
    },
    {
     "name": "stdout",
     "output_type": "stream",
     "text": [
      "hyb backup has failed\n",
      "halo number 419 is done\n",
      "faceon has failed, trying backup\n"
     ]
    },
    {
     "name": "stderr",
     "output_type": "stream",
     "text": [
      "pynbody.analysis.profile : Profile v_circ -- this routine assumes the disk is in the x-y plane\n"
     ]
    },
    {
     "name": "stdout",
     "output_type": "stream",
     "text": [
      "hyb backup has failed\n",
      "halo number 420 is done\n",
      "faceon has failed, trying backup\n"
     ]
    },
    {
     "name": "stderr",
     "output_type": "stream",
     "text": [
      "pynbody.analysis.profile : Profile v_circ -- this routine assumes the disk is in the x-y plane\n"
     ]
    },
    {
     "name": "stdout",
     "output_type": "stream",
     "text": [
      "halo number 421 is done\n",
      "faceon has failed, trying backup\n"
     ]
    },
    {
     "name": "stderr",
     "output_type": "stream",
     "text": [
      "pynbody.analysis.profile : Profile v_circ -- this routine assumes the disk is in the x-y plane\n"
     ]
    },
    {
     "name": "stdout",
     "output_type": "stream",
     "text": [
      "hyb backup has failed\n",
      "halo number 422 is done\n",
      "faceon has failed, trying backup\n"
     ]
    },
    {
     "name": "stderr",
     "output_type": "stream",
     "text": [
      "pynbody.analysis.profile : Profile v_circ -- this routine assumes the disk is in the x-y plane\n"
     ]
    },
    {
     "name": "stdout",
     "output_type": "stream",
     "text": [
      "hyb backup has failed\n",
      "halo number 423 is done\n",
      "faceon has failed, trying backup\n"
     ]
    },
    {
     "name": "stderr",
     "output_type": "stream",
     "text": [
      "pynbody.analysis.profile : Profile v_circ -- this routine assumes the disk is in the x-y plane\n"
     ]
    },
    {
     "name": "stdout",
     "output_type": "stream",
     "text": [
      "hyb backup has failed\n",
      "halo number 424 is done\n",
      "faceon has failed, trying backup\n"
     ]
    },
    {
     "name": "stderr",
     "output_type": "stream",
     "text": [
      "pynbody.analysis.profile : Profile v_circ -- this routine assumes the disk is in the x-y plane\n"
     ]
    },
    {
     "name": "stdout",
     "output_type": "stream",
     "text": [
      "halo number 425 is done\n",
      "faceon has failed, trying backup\n"
     ]
    },
    {
     "name": "stderr",
     "output_type": "stream",
     "text": [
      "pynbody.analysis.profile : Profile v_circ -- this routine assumes the disk is in the x-y plane\n"
     ]
    },
    {
     "name": "stdout",
     "output_type": "stream",
     "text": [
      "hyb backup has failed\n",
      "halo number 426 is done\n",
      "faceon has failed, trying backup\n"
     ]
    },
    {
     "name": "stderr",
     "output_type": "stream",
     "text": [
      "pynbody.analysis.profile : Profile v_circ -- this routine assumes the disk is in the x-y plane\n"
     ]
    },
    {
     "name": "stdout",
     "output_type": "stream",
     "text": [
      "halo number 427 is done\n",
      "faceon has failed, trying backup\n"
     ]
    },
    {
     "name": "stderr",
     "output_type": "stream",
     "text": [
      "pynbody.analysis.profile : Profile v_circ -- this routine assumes the disk is in the x-y plane\n"
     ]
    },
    {
     "name": "stdout",
     "output_type": "stream",
     "text": [
      "hyb backup has failed\n",
      "halo number 428 is done\n",
      "faceon has failed, trying backup\n"
     ]
    },
    {
     "name": "stderr",
     "output_type": "stream",
     "text": [
      "pynbody.analysis.profile : Profile v_circ -- this routine assumes the disk is in the x-y plane\n"
     ]
    },
    {
     "name": "stdout",
     "output_type": "stream",
     "text": [
      "hyb backup has failed\n",
      "halo number 429 is done\n",
      "faceon has failed, trying backup\n",
      "hyb backup has failed\n",
      "ssc backup has failed\n",
      "com backup has failed\n",
      "pot backup has failed\n",
      "all backups have failed\n",
      "halo number 430 is done\n",
      "faceon has failed, trying backup\n"
     ]
    },
    {
     "name": "stderr",
     "output_type": "stream",
     "text": [
      "pynbody.analysis.profile : Profile v_circ -- this routine assumes the disk is in the x-y plane\n"
     ]
    },
    {
     "name": "stdout",
     "output_type": "stream",
     "text": [
      "hyb backup has failed\n",
      "halo number 431 is done\n",
      "faceon has failed, trying backup\n"
     ]
    },
    {
     "name": "stderr",
     "output_type": "stream",
     "text": [
      "pynbody.analysis.profile : Profile v_circ -- this routine assumes the disk is in the x-y plane\n"
     ]
    },
    {
     "name": "stdout",
     "output_type": "stream",
     "text": [
      "hyb backup has failed\n",
      "halo number 432 is done\n",
      "faceon has failed, trying backup\n"
     ]
    },
    {
     "name": "stderr",
     "output_type": "stream",
     "text": [
      "pynbody.analysis.profile : Profile v_circ -- this routine assumes the disk is in the x-y plane\n"
     ]
    },
    {
     "name": "stdout",
     "output_type": "stream",
     "text": [
      "halo number 433 is done\n",
      "faceon has failed, trying backup\n"
     ]
    },
    {
     "name": "stderr",
     "output_type": "stream",
     "text": [
      "pynbody.analysis.profile : Profile v_circ -- this routine assumes the disk is in the x-y plane\n"
     ]
    },
    {
     "name": "stdout",
     "output_type": "stream",
     "text": [
      "halo number 434 is done\n",
      "faceon has failed, trying backup\n"
     ]
    },
    {
     "name": "stderr",
     "output_type": "stream",
     "text": [
      "pynbody.analysis.profile : Profile v_circ -- this routine assumes the disk is in the x-y plane\n"
     ]
    },
    {
     "name": "stdout",
     "output_type": "stream",
     "text": [
      "hyb backup has failed\n",
      "halo number 435 is done\n",
      "faceon has failed, trying backup\n"
     ]
    },
    {
     "name": "stderr",
     "output_type": "stream",
     "text": [
      "pynbody.analysis.profile : Profile v_circ -- this routine assumes the disk is in the x-y plane\n"
     ]
    },
    {
     "name": "stdout",
     "output_type": "stream",
     "text": [
      "hyb backup has failed\n",
      "halo number 436 is done\n",
      "faceon has failed, trying backup\n"
     ]
    },
    {
     "name": "stderr",
     "output_type": "stream",
     "text": [
      "pynbody.analysis.profile : Profile v_circ -- this routine assumes the disk is in the x-y plane\n"
     ]
    },
    {
     "name": "stdout",
     "output_type": "stream",
     "text": [
      "halo number 437 is done\n",
      "faceon has failed, trying backup\n"
     ]
    },
    {
     "name": "stderr",
     "output_type": "stream",
     "text": [
      "pynbody.analysis.profile : Profile v_circ -- this routine assumes the disk is in the x-y plane\n"
     ]
    },
    {
     "name": "stdout",
     "output_type": "stream",
     "text": [
      "halo number 438 is done\n",
      "faceon has failed, trying backup\n",
      "hyb backup has failed\n",
      "ssc backup has failed\n",
      "com backup has failed\n",
      "pot backup has failed\n",
      "all backups have failed\n",
      "halo number 439 is done\n",
      "faceon has failed, trying backup\n",
      "hyb backup has failed\n",
      "ssc backup has failed\n",
      "com backup has failed\n",
      "pot backup has failed\n",
      "all backups have failed\n",
      "halo number 440 is done\n",
      "faceon has failed, trying backup\n"
     ]
    },
    {
     "name": "stderr",
     "output_type": "stream",
     "text": [
      "pynbody.analysis.profile : Profile v_circ -- this routine assumes the disk is in the x-y plane\n"
     ]
    },
    {
     "name": "stdout",
     "output_type": "stream",
     "text": [
      "halo number 441 is done\n",
      "faceon has failed, trying backup\n",
      "hyb backup has failed\n",
      "ssc backup has failed\n",
      "com backup has failed\n",
      "pot backup has failed\n",
      "all backups have failed\n",
      "halo number 442 is done\n",
      "faceon has failed, trying backup\n",
      "hyb backup has failed\n",
      "ssc backup has failed\n",
      "com backup has failed\n",
      "pot backup has failed\n",
      "all backups have failed\n",
      "halo number 443 is done\n",
      "faceon has failed, trying backup\n"
     ]
    },
    {
     "name": "stderr",
     "output_type": "stream",
     "text": [
      "pynbody.analysis.profile : Profile v_circ -- this routine assumes the disk is in the x-y plane\n"
     ]
    },
    {
     "name": "stdout",
     "output_type": "stream",
     "text": [
      "halo number 444 is done\n"
     ]
    },
    {
     "name": "stderr",
     "output_type": "stream",
     "text": [
      "pynbody.analysis.profile : Profile v_circ -- this routine assumes the disk is in the x-y plane\n"
     ]
    },
    {
     "name": "stdout",
     "output_type": "stream",
     "text": [
      "halo number 445 is done\n",
      "faceon has failed, trying backup\n"
     ]
    },
    {
     "name": "stderr",
     "output_type": "stream",
     "text": [
      "pynbody.analysis.profile : Profile v_circ -- this routine assumes the disk is in the x-y plane\n"
     ]
    },
    {
     "name": "stdout",
     "output_type": "stream",
     "text": [
      "halo number 446 is done\n",
      "faceon has failed, trying backup\n"
     ]
    },
    {
     "name": "stderr",
     "output_type": "stream",
     "text": [
      "pynbody.analysis.profile : Profile v_circ -- this routine assumes the disk is in the x-y plane\n"
     ]
    },
    {
     "name": "stdout",
     "output_type": "stream",
     "text": [
      "hyb backup has failed\n",
      "halo number 447 is done\n",
      "faceon has failed, trying backup\n",
      "hyb backup has failed\n",
      "ssc backup has failed\n",
      "com backup has failed\n",
      "pot backup has failed\n",
      "all backups have failed\n",
      "halo number 448 is done\n",
      "faceon has failed, trying backup\n",
      "hyb backup has failed\n",
      "ssc backup has failed\n"
     ]
    },
    {
     "name": "stderr",
     "output_type": "stream",
     "text": [
      "pynbody.analysis.profile : Profile v_circ -- this routine assumes the disk is in the x-y plane\n"
     ]
    },
    {
     "name": "stdout",
     "output_type": "stream",
     "text": [
      "halo number 449 is done\n",
      "faceon has failed, trying backup\n",
      "hyb backup has failed\n",
      "ssc backup has failed\n"
     ]
    },
    {
     "name": "stderr",
     "output_type": "stream",
     "text": [
      "pynbody.analysis.profile : Profile v_circ -- this routine assumes the disk is in the x-y plane\n"
     ]
    },
    {
     "name": "stdout",
     "output_type": "stream",
     "text": [
      "halo number 450 is done\n",
      "faceon has failed, trying backup\n",
      "hyb backup has failed\n",
      "ssc backup has failed\n"
     ]
    },
    {
     "name": "stderr",
     "output_type": "stream",
     "text": [
      "pynbody.analysis.profile : Profile v_circ -- this routine assumes the disk is in the x-y plane\n"
     ]
    },
    {
     "name": "stdout",
     "output_type": "stream",
     "text": [
      "halo number 451 is done\n",
      "faceon has failed, trying backup\n",
      "hyb backup has failed\n",
      "ssc backup has failed\n",
      "com backup has failed\n",
      "pot backup has failed\n",
      "all backups have failed\n",
      "halo number 452 is done\n",
      "faceon has failed, trying backup\n"
     ]
    },
    {
     "name": "stderr",
     "output_type": "stream",
     "text": [
      "pynbody.analysis.profile : Profile v_circ -- this routine assumes the disk is in the x-y plane\n"
     ]
    },
    {
     "name": "stdout",
     "output_type": "stream",
     "text": [
      "halo number 453 is done\n",
      "faceon has failed, trying backup\n",
      "hyb backup has failed\n",
      "ssc backup has failed\n"
     ]
    },
    {
     "name": "stderr",
     "output_type": "stream",
     "text": [
      "pynbody.analysis.profile : Profile v_circ -- this routine assumes the disk is in the x-y plane\n"
     ]
    },
    {
     "name": "stdout",
     "output_type": "stream",
     "text": [
      "halo number 454 is done\n",
      "faceon has failed, trying backup\n",
      "hyb backup has failed\n",
      "ssc backup has failed\n",
      "com backup has failed\n",
      "pot backup has failed\n",
      "all backups have failed\n",
      "halo number 455 is done\n",
      "faceon has failed, trying backup\n"
     ]
    },
    {
     "name": "stderr",
     "output_type": "stream",
     "text": [
      "pynbody.analysis.profile : Profile v_circ -- this routine assumes the disk is in the x-y plane\n"
     ]
    },
    {
     "name": "stdout",
     "output_type": "stream",
     "text": [
      "hyb backup has failed\n",
      "halo number 456 is done\n",
      "faceon has failed, trying backup\n"
     ]
    },
    {
     "name": "stderr",
     "output_type": "stream",
     "text": [
      "pynbody.analysis.profile : Profile v_circ -- this routine assumes the disk is in the x-y plane\n"
     ]
    },
    {
     "name": "stdout",
     "output_type": "stream",
     "text": [
      "halo number 457 is done\n",
      "faceon has failed, trying backup\n"
     ]
    },
    {
     "name": "stderr",
     "output_type": "stream",
     "text": [
      "pynbody.analysis.profile : Profile v_circ -- this routine assumes the disk is in the x-y plane\n"
     ]
    },
    {
     "name": "stdout",
     "output_type": "stream",
     "text": [
      "halo number 458 is done\n",
      "faceon has failed, trying backup\n",
      "hyb backup has failed\n",
      "ssc backup has failed\n"
     ]
    },
    {
     "name": "stderr",
     "output_type": "stream",
     "text": [
      "pynbody.analysis.profile : Profile v_circ -- this routine assumes the disk is in the x-y plane\n"
     ]
    },
    {
     "name": "stdout",
     "output_type": "stream",
     "text": [
      "halo number 459 is done\n",
      "faceon has failed, trying backup\n",
      "hyb backup has failed\n",
      "ssc backup has failed\n"
     ]
    },
    {
     "name": "stderr",
     "output_type": "stream",
     "text": [
      "pynbody.analysis.profile : Profile v_circ -- this routine assumes the disk is in the x-y plane\n"
     ]
    },
    {
     "name": "stdout",
     "output_type": "stream",
     "text": [
      "halo number 460 is done\n",
      "faceon has failed, trying backup\n",
      "hyb backup has failed\n",
      "ssc backup has failed\n"
     ]
    },
    {
     "name": "stderr",
     "output_type": "stream",
     "text": [
      "pynbody.analysis.profile : Profile v_circ -- this routine assumes the disk is in the x-y plane\n"
     ]
    },
    {
     "name": "stdout",
     "output_type": "stream",
     "text": [
      "halo number 461 is done\n",
      "faceon has failed, trying backup\n"
     ]
    },
    {
     "name": "stderr",
     "output_type": "stream",
     "text": [
      "pynbody.analysis.profile : Profile v_circ -- this routine assumes the disk is in the x-y plane\n"
     ]
    },
    {
     "name": "stdout",
     "output_type": "stream",
     "text": [
      "hyb backup has failed\n",
      "halo number 462 is done\n",
      "faceon has failed, trying backup\n",
      "hyb backup has failed\n",
      "ssc backup has failed\n",
      "com backup has failed\n",
      "pot backup has failed\n",
      "all backups have failed\n",
      "halo number 463 is done\n",
      "faceon has failed, trying backup\n",
      "hyb backup has failed\n",
      "ssc backup has failed\n"
     ]
    },
    {
     "name": "stderr",
     "output_type": "stream",
     "text": [
      "pynbody.analysis.profile : Profile v_circ -- this routine assumes the disk is in the x-y plane\n"
     ]
    },
    {
     "name": "stdout",
     "output_type": "stream",
     "text": [
      "halo number 464 is done\n",
      "faceon has failed, trying backup\n",
      "hyb backup has failed\n",
      "ssc backup has failed\n"
     ]
    },
    {
     "name": "stderr",
     "output_type": "stream",
     "text": [
      "pynbody.analysis.profile : Profile v_circ -- this routine assumes the disk is in the x-y plane\n"
     ]
    },
    {
     "name": "stdout",
     "output_type": "stream",
     "text": [
      "halo number 465 is done\n",
      "faceon has failed, trying backup\n"
     ]
    },
    {
     "name": "stderr",
     "output_type": "stream",
     "text": [
      "pynbody.analysis.profile : Profile v_circ -- this routine assumes the disk is in the x-y plane\n"
     ]
    },
    {
     "name": "stdout",
     "output_type": "stream",
     "text": [
      "halo number 466 is done\n",
      "faceon has failed, trying backup\n",
      "hyb backup has failed\n",
      "ssc backup has failed\n"
     ]
    },
    {
     "name": "stderr",
     "output_type": "stream",
     "text": [
      "pynbody.analysis.profile : Profile v_circ -- this routine assumes the disk is in the x-y plane\n"
     ]
    },
    {
     "name": "stdout",
     "output_type": "stream",
     "text": [
      "halo number 467 is done\n",
      "faceon has failed, trying backup\n",
      "hyb backup has failed\n",
      "ssc backup has failed\n"
     ]
    },
    {
     "name": "stderr",
     "output_type": "stream",
     "text": [
      "pynbody.analysis.profile : Profile v_circ -- this routine assumes the disk is in the x-y plane\n"
     ]
    },
    {
     "name": "stdout",
     "output_type": "stream",
     "text": [
      "halo number 468 is done\n",
      "faceon has failed, trying backup\n",
      "hyb backup has failed\n",
      "ssc backup has failed\n",
      "com backup has failed\n",
      "pot backup has failed\n",
      "all backups have failed\n",
      "halo number 469 is done\n",
      "faceon has failed, trying backup\n"
     ]
    },
    {
     "name": "stderr",
     "output_type": "stream",
     "text": [
      "pynbody.analysis.profile : Profile v_circ -- this routine assumes the disk is in the x-y plane\n"
     ]
    },
    {
     "name": "stdout",
     "output_type": "stream",
     "text": [
      "halo number 470 is done\n",
      "faceon has failed, trying backup\n",
      "hyb backup has failed\n",
      "ssc backup has failed\n"
     ]
    },
    {
     "name": "stderr",
     "output_type": "stream",
     "text": [
      "pynbody.analysis.profile : Profile v_circ -- this routine assumes the disk is in the x-y plane\n"
     ]
    },
    {
     "name": "stdout",
     "output_type": "stream",
     "text": [
      "halo number 471 is done\n",
      "faceon has failed, trying backup\n",
      "hyb backup has failed\n",
      "ssc backup has failed\n"
     ]
    },
    {
     "name": "stderr",
     "output_type": "stream",
     "text": [
      "pynbody.analysis.profile : Profile v_circ -- this routine assumes the disk is in the x-y plane\n"
     ]
    },
    {
     "name": "stdout",
     "output_type": "stream",
     "text": [
      "halo number 472 is done\n",
      "faceon has failed, trying backup\n"
     ]
    },
    {
     "name": "stderr",
     "output_type": "stream",
     "text": [
      "pynbody.analysis.profile : Profile v_circ -- this routine assumes the disk is in the x-y plane\n"
     ]
    },
    {
     "name": "stdout",
     "output_type": "stream",
     "text": [
      "halo number 473 is done\n",
      "faceon has failed, trying backup\n",
      "hyb backup has failed\n",
      "ssc backup has failed\n"
     ]
    },
    {
     "name": "stderr",
     "output_type": "stream",
     "text": [
      "pynbody.analysis.profile : Profile v_circ -- this routine assumes the disk is in the x-y plane\n"
     ]
    },
    {
     "name": "stdout",
     "output_type": "stream",
     "text": [
      "halo number 474 is done\n",
      "faceon has failed, trying backup\n",
      "hyb backup has failed\n",
      "ssc backup has failed\n"
     ]
    },
    {
     "name": "stderr",
     "output_type": "stream",
     "text": [
      "pynbody.analysis.profile : Profile v_circ -- this routine assumes the disk is in the x-y plane\n"
     ]
    },
    {
     "name": "stdout",
     "output_type": "stream",
     "text": [
      "halo number 475 is done\n",
      "faceon has failed, trying backup\n",
      "hyb backup has failed\n",
      "ssc backup has failed\n"
     ]
    },
    {
     "name": "stderr",
     "output_type": "stream",
     "text": [
      "pynbody.analysis.profile : Profile v_circ -- this routine assumes the disk is in the x-y plane\n"
     ]
    },
    {
     "name": "stdout",
     "output_type": "stream",
     "text": [
      "halo number 476 is done\n",
      "faceon has failed, trying backup\n"
     ]
    },
    {
     "name": "stderr",
     "output_type": "stream",
     "text": [
      "pynbody.analysis.profile : Profile v_circ -- this routine assumes the disk is in the x-y plane\n"
     ]
    },
    {
     "name": "stdout",
     "output_type": "stream",
     "text": [
      "halo number 477 is done\n",
      "faceon has failed, trying backup\n"
     ]
    },
    {
     "name": "stderr",
     "output_type": "stream",
     "text": [
      "pynbody.analysis.profile : Profile v_circ -- this routine assumes the disk is in the x-y plane\n"
     ]
    },
    {
     "name": "stdout",
     "output_type": "stream",
     "text": [
      "halo number 478 is done\n",
      "faceon has failed, trying backup\n"
     ]
    },
    {
     "name": "stderr",
     "output_type": "stream",
     "text": [
      "pynbody.analysis.profile : Profile v_circ -- this routine assumes the disk is in the x-y plane\n"
     ]
    },
    {
     "name": "stdout",
     "output_type": "stream",
     "text": [
      "halo number 479 is done\n",
      "faceon has failed, trying backup\n"
     ]
    },
    {
     "name": "stderr",
     "output_type": "stream",
     "text": [
      "pynbody.analysis.profile : Profile v_circ -- this routine assumes the disk is in the x-y plane\n"
     ]
    },
    {
     "name": "stdout",
     "output_type": "stream",
     "text": [
      "halo number 480 is done\n",
      "faceon has failed, trying backup\n"
     ]
    },
    {
     "name": "stderr",
     "output_type": "stream",
     "text": [
      "pynbody.analysis.profile : Profile v_circ -- this routine assumes the disk is in the x-y plane\n"
     ]
    },
    {
     "name": "stdout",
     "output_type": "stream",
     "text": [
      "halo number 481 is done\n",
      "faceon has failed, trying backup\n",
      "hyb backup has failed\n",
      "ssc backup has failed\n"
     ]
    },
    {
     "name": "stderr",
     "output_type": "stream",
     "text": [
      "pynbody.analysis.profile : Profile v_circ -- this routine assumes the disk is in the x-y plane\n"
     ]
    },
    {
     "name": "stdout",
     "output_type": "stream",
     "text": [
      "halo number 482 is done\n",
      "faceon has failed, trying backup\n"
     ]
    },
    {
     "name": "stderr",
     "output_type": "stream",
     "text": [
      "pynbody.analysis.profile : Profile v_circ -- this routine assumes the disk is in the x-y plane\n"
     ]
    },
    {
     "name": "stdout",
     "output_type": "stream",
     "text": [
      "halo number 483 is done\n",
      "faceon has failed, trying backup\n",
      "hyb backup has failed\n",
      "ssc backup has failed\n"
     ]
    },
    {
     "name": "stderr",
     "output_type": "stream",
     "text": [
      "pynbody.analysis.profile : Profile v_circ -- this routine assumes the disk is in the x-y plane\n"
     ]
    },
    {
     "name": "stdout",
     "output_type": "stream",
     "text": [
      "halo number 484 is done\n",
      "faceon has failed, trying backup\n",
      "hyb backup has failed\n",
      "ssc backup has failed\n"
     ]
    },
    {
     "name": "stderr",
     "output_type": "stream",
     "text": [
      "pynbody.analysis.profile : Profile v_circ -- this routine assumes the disk is in the x-y plane\n"
     ]
    },
    {
     "name": "stdout",
     "output_type": "stream",
     "text": [
      "halo number 485 is done\n",
      "faceon has failed, trying backup\n",
      "hyb backup has failed\n",
      "ssc backup has failed\n",
      "com backup has failed\n",
      "pot backup has failed\n",
      "all backups have failed\n",
      "halo number 486 is done\n",
      "faceon has failed, trying backup\n",
      "hyb backup has failed\n",
      "ssc backup has failed\n"
     ]
    },
    {
     "name": "stderr",
     "output_type": "stream",
     "text": [
      "pynbody.analysis.profile : Profile v_circ -- this routine assumes the disk is in the x-y plane\n"
     ]
    },
    {
     "name": "stdout",
     "output_type": "stream",
     "text": [
      "halo number 487 is done\n",
      "faceon has failed, trying backup\n"
     ]
    },
    {
     "name": "stderr",
     "output_type": "stream",
     "text": [
      "pynbody.analysis.profile : Profile v_circ -- this routine assumes the disk is in the x-y plane\n"
     ]
    },
    {
     "name": "stdout",
     "output_type": "stream",
     "text": [
      "halo number 488 is done\n",
      "faceon has failed, trying backup\n"
     ]
    },
    {
     "name": "stderr",
     "output_type": "stream",
     "text": [
      "pynbody.analysis.profile : Profile v_circ -- this routine assumes the disk is in the x-y plane\n"
     ]
    },
    {
     "name": "stdout",
     "output_type": "stream",
     "text": [
      "halo number 489 is done\n",
      "faceon has failed, trying backup\n"
     ]
    },
    {
     "name": "stderr",
     "output_type": "stream",
     "text": [
      "pynbody.analysis.profile : Profile v_circ -- this routine assumes the disk is in the x-y plane\n"
     ]
    },
    {
     "name": "stdout",
     "output_type": "stream",
     "text": [
      "halo number 490 is done\n",
      "faceon has failed, trying backup\n"
     ]
    },
    {
     "name": "stderr",
     "output_type": "stream",
     "text": [
      "pynbody.analysis.profile : Profile v_circ -- this routine assumes the disk is in the x-y plane\n"
     ]
    },
    {
     "name": "stdout",
     "output_type": "stream",
     "text": [
      "halo number 491 is done\n",
      "faceon has failed, trying backup\n",
      "hyb backup has failed\n",
      "ssc backup has failed\n"
     ]
    },
    {
     "name": "stderr",
     "output_type": "stream",
     "text": [
      "pynbody.analysis.profile : Profile v_circ -- this routine assumes the disk is in the x-y plane\n"
     ]
    },
    {
     "name": "stdout",
     "output_type": "stream",
     "text": [
      "halo number 492 is done\n",
      "faceon has failed, trying backup\n"
     ]
    },
    {
     "name": "stderr",
     "output_type": "stream",
     "text": [
      "pynbody.analysis.profile : Profile v_circ -- this routine assumes the disk is in the x-y plane\n"
     ]
    },
    {
     "name": "stdout",
     "output_type": "stream",
     "text": [
      "halo number 493 is done\n",
      "faceon has failed, trying backup\n"
     ]
    },
    {
     "name": "stderr",
     "output_type": "stream",
     "text": [
      "pynbody.analysis.profile : Profile v_circ -- this routine assumes the disk is in the x-y plane\n"
     ]
    },
    {
     "name": "stdout",
     "output_type": "stream",
     "text": [
      "halo number 494 is done\n",
      "faceon has failed, trying backup\n",
      "hyb backup has failed\n",
      "ssc backup has failed\n"
     ]
    },
    {
     "name": "stderr",
     "output_type": "stream",
     "text": [
      "pynbody.analysis.profile : Profile v_circ -- this routine assumes the disk is in the x-y plane\n"
     ]
    },
    {
     "name": "stdout",
     "output_type": "stream",
     "text": [
      "halo number 495 is done\n",
      "faceon has failed, trying backup\n",
      "hyb backup has failed\n",
      "ssc backup has failed\n",
      "com backup has failed\n",
      "pot backup has failed\n",
      "all backups have failed\n",
      "halo number 496 is done\n",
      "faceon has failed, trying backup\n"
     ]
    },
    {
     "name": "stderr",
     "output_type": "stream",
     "text": [
      "pynbody.analysis.profile : Profile v_circ -- this routine assumes the disk is in the x-y plane\n"
     ]
    },
    {
     "name": "stdout",
     "output_type": "stream",
     "text": [
      "halo number 497 is done\n",
      "faceon has failed, trying backup\n",
      "hyb backup has failed\n",
      "ssc backup has failed\n"
     ]
    },
    {
     "name": "stderr",
     "output_type": "stream",
     "text": [
      "pynbody.analysis.profile : Profile v_circ -- this routine assumes the disk is in the x-y plane\n"
     ]
    },
    {
     "name": "stdout",
     "output_type": "stream",
     "text": [
      "halo number 498 is done\n",
      "faceon has failed, trying backup\n"
     ]
    },
    {
     "name": "stderr",
     "output_type": "stream",
     "text": [
      "pynbody.analysis.profile : Profile v_circ -- this routine assumes the disk is in the x-y plane\n"
     ]
    },
    {
     "name": "stdout",
     "output_type": "stream",
     "text": [
      "halo number 499 is done\n",
      "faceon has failed, trying backup\n",
      "hyb backup has failed\n",
      "ssc backup has failed\n"
     ]
    },
    {
     "name": "stderr",
     "output_type": "stream",
     "text": [
      "pynbody.analysis.profile : Profile v_circ -- this routine assumes the disk is in the x-y plane\n"
     ]
    },
    {
     "name": "stdout",
     "output_type": "stream",
     "text": [
      "halo number 500 is done\n",
      "faceon has failed, trying backup\n",
      "hyb backup has failed\n",
      "ssc backup has failed\n"
     ]
    },
    {
     "name": "stderr",
     "output_type": "stream",
     "text": [
      "pynbody.analysis.profile : Profile v_circ -- this routine assumes the disk is in the x-y plane\n"
     ]
    },
    {
     "name": "stdout",
     "output_type": "stream",
     "text": [
      "halo number 501 is done\n",
      "faceon has failed, trying backup\n",
      "hyb backup has failed\n",
      "ssc backup has failed\n"
     ]
    },
    {
     "name": "stderr",
     "output_type": "stream",
     "text": [
      "pynbody.analysis.profile : Profile v_circ -- this routine assumes the disk is in the x-y plane\n"
     ]
    },
    {
     "name": "stdout",
     "output_type": "stream",
     "text": [
      "halo number 502 is done\n",
      "faceon has failed, trying backup\n"
     ]
    },
    {
     "name": "stderr",
     "output_type": "stream",
     "text": [
      "pynbody.analysis.profile : Profile v_circ -- this routine assumes the disk is in the x-y plane\n"
     ]
    },
    {
     "name": "stdout",
     "output_type": "stream",
     "text": [
      "hyb backup has failed\n",
      "halo number 503 is done\n",
      "faceon has failed, trying backup\n"
     ]
    },
    {
     "name": "stderr",
     "output_type": "stream",
     "text": [
      "pynbody.analysis.profile : Profile v_circ -- this routine assumes the disk is in the x-y plane\n"
     ]
    },
    {
     "name": "stdout",
     "output_type": "stream",
     "text": [
      "halo number 504 is done\n",
      "faceon has failed, trying backup\n",
      "hyb backup has failed\n",
      "ssc backup has failed\n"
     ]
    },
    {
     "name": "stderr",
     "output_type": "stream",
     "text": [
      "pynbody.analysis.profile : Profile v_circ -- this routine assumes the disk is in the x-y plane\n"
     ]
    },
    {
     "name": "stdout",
     "output_type": "stream",
     "text": [
      "halo number 505 is done\n",
      "faceon has failed, trying backup\n",
      "hyb backup has failed\n",
      "ssc backup has failed\n"
     ]
    },
    {
     "name": "stderr",
     "output_type": "stream",
     "text": [
      "pynbody.analysis.profile : Profile v_circ -- this routine assumes the disk is in the x-y plane\n"
     ]
    },
    {
     "name": "stdout",
     "output_type": "stream",
     "text": [
      "halo number 506 is done\n",
      "faceon has failed, trying backup\n"
     ]
    },
    {
     "name": "stderr",
     "output_type": "stream",
     "text": [
      "pynbody.analysis.profile : Profile v_circ -- this routine assumes the disk is in the x-y plane\n"
     ]
    },
    {
     "name": "stdout",
     "output_type": "stream",
     "text": [
      "halo number 507 is done\n",
      "faceon has failed, trying backup\n",
      "hyb backup has failed\n",
      "ssc backup has failed\n",
      "com backup has failed\n",
      "pot backup has failed\n",
      "all backups have failed\n",
      "halo number 508 is done\n",
      "faceon has failed, trying backup\n"
     ]
    },
    {
     "name": "stderr",
     "output_type": "stream",
     "text": [
      "pynbody.analysis.profile : Profile v_circ -- this routine assumes the disk is in the x-y plane\n"
     ]
    },
    {
     "name": "stdout",
     "output_type": "stream",
     "text": [
      "halo number 509 is done\n",
      "faceon has failed, trying backup\n"
     ]
    },
    {
     "name": "stderr",
     "output_type": "stream",
     "text": [
      "pynbody.analysis.profile : Profile v_circ -- this routine assumes the disk is in the x-y plane\n"
     ]
    },
    {
     "name": "stdout",
     "output_type": "stream",
     "text": [
      "halo number 510 is done\n",
      "faceon has failed, trying backup\n"
     ]
    },
    {
     "name": "stderr",
     "output_type": "stream",
     "text": [
      "pynbody.analysis.profile : Profile v_circ -- this routine assumes the disk is in the x-y plane\n"
     ]
    },
    {
     "name": "stdout",
     "output_type": "stream",
     "text": [
      "halo number 511 is done\n",
      "faceon has failed, trying backup\n",
      "hyb backup has failed\n",
      "ssc backup has failed\n"
     ]
    },
    {
     "name": "stderr",
     "output_type": "stream",
     "text": [
      "pynbody.analysis.profile : Profile v_circ -- this routine assumes the disk is in the x-y plane\n"
     ]
    },
    {
     "name": "stdout",
     "output_type": "stream",
     "text": [
      "halo number 512 is done\n",
      "faceon has failed, trying backup\n"
     ]
    },
    {
     "name": "stderr",
     "output_type": "stream",
     "text": [
      "pynbody.analysis.profile : Profile v_circ -- this routine assumes the disk is in the x-y plane\n"
     ]
    },
    {
     "name": "stdout",
     "output_type": "stream",
     "text": [
      "halo number 513 is done\n",
      "faceon has failed, trying backup\n",
      "hyb backup has failed\n",
      "ssc backup has failed\n",
      "com backup has failed\n",
      "pot backup has failed\n",
      "all backups have failed\n",
      "halo number 514 is done\n",
      "faceon has failed, trying backup\n",
      "hyb backup has failed\n",
      "ssc backup has failed\n"
     ]
    },
    {
     "name": "stderr",
     "output_type": "stream",
     "text": [
      "pynbody.analysis.profile : Profile v_circ -- this routine assumes the disk is in the x-y plane\n"
     ]
    },
    {
     "name": "stdout",
     "output_type": "stream",
     "text": [
      "halo number 515 is done\n",
      "faceon has failed, trying backup\n"
     ]
    },
    {
     "name": "stderr",
     "output_type": "stream",
     "text": [
      "pynbody.analysis.profile : Profile v_circ -- this routine assumes the disk is in the x-y plane\n"
     ]
    },
    {
     "name": "stdout",
     "output_type": "stream",
     "text": [
      "halo number 516 is done\n",
      "faceon has failed, trying backup\n",
      "hyb backup has failed\n",
      "ssc backup has failed\n"
     ]
    },
    {
     "name": "stderr",
     "output_type": "stream",
     "text": [
      "pynbody.analysis.profile : Profile v_circ -- this routine assumes the disk is in the x-y plane\n"
     ]
    },
    {
     "name": "stdout",
     "output_type": "stream",
     "text": [
      "halo number 517 is done\n",
      "faceon has failed, trying backup\n",
      "hyb backup has failed\n",
      "ssc backup has failed\n",
      "com backup has failed\n",
      "pot backup has failed\n",
      "all backups have failed\n",
      "halo number 518 is done\n",
      "faceon has failed, trying backup\n",
      "hyb backup has failed\n",
      "ssc backup has failed\n",
      "com backup has failed\n",
      "pot backup has failed\n",
      "all backups have failed\n",
      "halo number 519 is done\n",
      "faceon has failed, trying backup\n",
      "hyb backup has failed\n",
      "ssc backup has failed\n"
     ]
    },
    {
     "name": "stderr",
     "output_type": "stream",
     "text": [
      "pynbody.analysis.profile : Profile v_circ -- this routine assumes the disk is in the x-y plane\n"
     ]
    },
    {
     "name": "stdout",
     "output_type": "stream",
     "text": [
      "halo number 520 is done\n",
      "faceon has failed, trying backup\n"
     ]
    },
    {
     "name": "stderr",
     "output_type": "stream",
     "text": [
      "pynbody.analysis.profile : Profile v_circ -- this routine assumes the disk is in the x-y plane\n"
     ]
    },
    {
     "name": "stdout",
     "output_type": "stream",
     "text": [
      "halo number 521 is done\n",
      "faceon has failed, trying backup\n",
      "hyb backup has failed\n",
      "ssc backup has failed\n"
     ]
    },
    {
     "name": "stderr",
     "output_type": "stream",
     "text": [
      "pynbody.analysis.profile : Profile v_circ -- this routine assumes the disk is in the x-y plane\n"
     ]
    },
    {
     "name": "stdout",
     "output_type": "stream",
     "text": [
      "halo number 522 is done\n",
      "faceon has failed, trying backup\n",
      "hyb backup has failed\n",
      "ssc backup has failed\n",
      "com backup has failed\n",
      "pot backup has failed\n",
      "all backups have failed\n",
      "halo number 523 is done\n",
      "faceon has failed, trying backup\n",
      "hyb backup has failed\n",
      "ssc backup has failed\n"
     ]
    },
    {
     "name": "stderr",
     "output_type": "stream",
     "text": [
      "pynbody.analysis.profile : Profile v_circ -- this routine assumes the disk is in the x-y plane\n"
     ]
    },
    {
     "name": "stdout",
     "output_type": "stream",
     "text": [
      "halo number 524 is done\n",
      "faceon has failed, trying backup\n",
      "hyb backup has failed\n",
      "ssc backup has failed\n"
     ]
    },
    {
     "name": "stderr",
     "output_type": "stream",
     "text": [
      "pynbody.analysis.profile : Profile v_circ -- this routine assumes the disk is in the x-y plane\n"
     ]
    },
    {
     "name": "stdout",
     "output_type": "stream",
     "text": [
      "halo number 525 is done\n",
      "faceon has failed, trying backup\n",
      "hyb backup has failed\n",
      "ssc backup has failed\n"
     ]
    },
    {
     "name": "stderr",
     "output_type": "stream",
     "text": [
      "pynbody.analysis.profile : Profile v_circ -- this routine assumes the disk is in the x-y plane\n"
     ]
    },
    {
     "name": "stdout",
     "output_type": "stream",
     "text": [
      "halo number 526 is done\n",
      "faceon has failed, trying backup\n",
      "hyb backup has failed\n",
      "ssc backup has failed\n",
      "com backup has failed\n",
      "pot backup has failed\n",
      "all backups have failed\n",
      "halo number 527 is done\n",
      "faceon has failed, trying backup\n",
      "hyb backup has failed\n",
      "ssc backup has failed\n",
      "com backup has failed\n",
      "pot backup has failed\n",
      "all backups have failed\n",
      "halo number 528 is done\n",
      "faceon has failed, trying backup\n"
     ]
    },
    {
     "name": "stderr",
     "output_type": "stream",
     "text": [
      "pynbody.analysis.profile : Profile v_circ -- this routine assumes the disk is in the x-y plane\n"
     ]
    },
    {
     "name": "stdout",
     "output_type": "stream",
     "text": [
      "halo number 529 is done\n",
      "faceon has failed, trying backup\n",
      "hyb backup has failed\n",
      "ssc backup has failed\n"
     ]
    },
    {
     "name": "stderr",
     "output_type": "stream",
     "text": [
      "pynbody.analysis.profile : Profile v_circ -- this routine assumes the disk is in the x-y plane\n"
     ]
    },
    {
     "name": "stdout",
     "output_type": "stream",
     "text": [
      "halo number 530 is done\n",
      "faceon has failed, trying backup\n"
     ]
    },
    {
     "name": "stderr",
     "output_type": "stream",
     "text": [
      "pynbody.analysis.profile : Profile v_circ -- this routine assumes the disk is in the x-y plane\n"
     ]
    },
    {
     "name": "stdout",
     "output_type": "stream",
     "text": [
      "halo number 531 is done\n",
      "faceon has failed, trying backup\n",
      "hyb backup has failed\n",
      "ssc backup has failed\n"
     ]
    },
    {
     "name": "stderr",
     "output_type": "stream",
     "text": [
      "pynbody.analysis.profile : Profile v_circ -- this routine assumes the disk is in the x-y plane\n"
     ]
    },
    {
     "name": "stdout",
     "output_type": "stream",
     "text": [
      "halo number 532 is done\n",
      "faceon has failed, trying backup\n"
     ]
    },
    {
     "name": "stderr",
     "output_type": "stream",
     "text": [
      "pynbody.analysis.profile : Profile v_circ -- this routine assumes the disk is in the x-y plane\n"
     ]
    },
    {
     "name": "stdout",
     "output_type": "stream",
     "text": [
      "halo number 533 is done\n",
      "faceon has failed, trying backup\n",
      "hyb backup has failed\n",
      "ssc backup has failed\n",
      "com backup has failed\n",
      "pot backup has failed\n",
      "all backups have failed\n",
      "halo number 534 is done\n",
      "faceon has failed, trying backup\n",
      "hyb backup has failed\n",
      "ssc backup has failed\n"
     ]
    },
    {
     "name": "stderr",
     "output_type": "stream",
     "text": [
      "pynbody.analysis.profile : Profile v_circ -- this routine assumes the disk is in the x-y plane\n"
     ]
    },
    {
     "name": "stdout",
     "output_type": "stream",
     "text": [
      "halo number 535 is done\n",
      "faceon has failed, trying backup\n",
      "hyb backup has failed\n",
      "ssc backup has failed\n"
     ]
    },
    {
     "name": "stderr",
     "output_type": "stream",
     "text": [
      "pynbody.analysis.profile : Profile v_circ -- this routine assumes the disk is in the x-y plane\n"
     ]
    },
    {
     "name": "stdout",
     "output_type": "stream",
     "text": [
      "halo number 536 is done\n",
      "faceon has failed, trying backup\n",
      "hyb backup has failed\n",
      "ssc backup has failed\n",
      "com backup has failed\n",
      "pot backup has failed\n",
      "all backups have failed\n",
      "halo number 537 is done\n",
      "faceon has failed, trying backup\n",
      "hyb backup has failed\n",
      "ssc backup has failed\n"
     ]
    },
    {
     "name": "stderr",
     "output_type": "stream",
     "text": [
      "pynbody.analysis.profile : Profile v_circ -- this routine assumes the disk is in the x-y plane\n"
     ]
    },
    {
     "name": "stdout",
     "output_type": "stream",
     "text": [
      "halo number 538 is done\n",
      "faceon has failed, trying backup\n"
     ]
    },
    {
     "name": "stderr",
     "output_type": "stream",
     "text": [
      "pynbody.analysis.profile : Profile v_circ -- this routine assumes the disk is in the x-y plane\n"
     ]
    },
    {
     "name": "stdout",
     "output_type": "stream",
     "text": [
      "halo number 539 is done\n",
      "faceon has failed, trying backup\n",
      "hyb backup has failed\n",
      "ssc backup has failed\n"
     ]
    },
    {
     "name": "stderr",
     "output_type": "stream",
     "text": [
      "pynbody.analysis.profile : Profile v_circ -- this routine assumes the disk is in the x-y plane\n"
     ]
    },
    {
     "name": "stdout",
     "output_type": "stream",
     "text": [
      "halo number 540 is done\n",
      "faceon has failed, trying backup\n",
      "hyb backup has failed\n",
      "ssc backup has failed\n"
     ]
    },
    {
     "name": "stderr",
     "output_type": "stream",
     "text": [
      "pynbody.analysis.profile : Profile v_circ -- this routine assumes the disk is in the x-y plane\n"
     ]
    },
    {
     "name": "stdout",
     "output_type": "stream",
     "text": [
      "halo number 541 is done\n",
      "faceon has failed, trying backup\n",
      "hyb backup has failed\n",
      "ssc backup has failed\n"
     ]
    },
    {
     "name": "stderr",
     "output_type": "stream",
     "text": [
      "pynbody.analysis.profile : Profile v_circ -- this routine assumes the disk is in the x-y plane\n"
     ]
    },
    {
     "name": "stdout",
     "output_type": "stream",
     "text": [
      "halo number 542 is done\n",
      "faceon has failed, trying backup\n"
     ]
    },
    {
     "name": "stderr",
     "output_type": "stream",
     "text": [
      "pynbody.analysis.profile : Profile v_circ -- this routine assumes the disk is in the x-y plane\n"
     ]
    },
    {
     "name": "stdout",
     "output_type": "stream",
     "text": [
      "halo number 543 is done\n",
      "faceon has failed, trying backup\n",
      "hyb backup has failed\n",
      "ssc backup has failed\n",
      "com backup has failed\n",
      "pot backup has failed\n",
      "all backups have failed\n",
      "halo number 544 is done\n",
      "faceon has failed, trying backup\n",
      "hyb backup has failed\n",
      "ssc backup has failed\n"
     ]
    },
    {
     "name": "stderr",
     "output_type": "stream",
     "text": [
      "pynbody.analysis.profile : Profile v_circ -- this routine assumes the disk is in the x-y plane\n"
     ]
    },
    {
     "name": "stdout",
     "output_type": "stream",
     "text": [
      "halo number 545 is done\n",
      "faceon has failed, trying backup\n",
      "hyb backup has failed\n",
      "ssc backup has failed\n",
      "com backup has failed\n",
      "pot backup has failed\n",
      "all backups have failed\n",
      "halo number 546 is done\n",
      "faceon has failed, trying backup\n",
      "hyb backup has failed\n",
      "ssc backup has failed\n",
      "com backup has failed\n",
      "pot backup has failed\n",
      "all backups have failed\n",
      "halo number 547 is done\n",
      "faceon has failed, trying backup\n"
     ]
    },
    {
     "name": "stderr",
     "output_type": "stream",
     "text": [
      "pynbody.analysis.profile : Profile v_circ -- this routine assumes the disk is in the x-y plane\n"
     ]
    },
    {
     "name": "stdout",
     "output_type": "stream",
     "text": [
      "halo number 548 is done\n",
      "faceon has failed, trying backup\n",
      "hyb backup has failed\n",
      "ssc backup has failed\n",
      "com backup has failed\n",
      "pot backup has failed\n",
      "all backups have failed\n",
      "halo number 549 is done\n",
      "faceon has failed, trying backup\n"
     ]
    },
    {
     "name": "stderr",
     "output_type": "stream",
     "text": [
      "pynbody.analysis.profile : Profile v_circ -- this routine assumes the disk is in the x-y plane\n"
     ]
    },
    {
     "name": "stdout",
     "output_type": "stream",
     "text": [
      "halo number 550 is done\n",
      "faceon has failed, trying backup\n"
     ]
    },
    {
     "name": "stderr",
     "output_type": "stream",
     "text": [
      "pynbody.analysis.profile : Profile v_circ -- this routine assumes the disk is in the x-y plane\n"
     ]
    },
    {
     "name": "stdout",
     "output_type": "stream",
     "text": [
      "halo number 551 is done\n",
      "faceon has failed, trying backup\n",
      "hyb backup has failed\n",
      "ssc backup has failed\n"
     ]
    },
    {
     "name": "stderr",
     "output_type": "stream",
     "text": [
      "pynbody.analysis.profile : Profile v_circ -- this routine assumes the disk is in the x-y plane\n"
     ]
    },
    {
     "name": "stdout",
     "output_type": "stream",
     "text": [
      "halo number 552 is done\n",
      "faceon has failed, trying backup\n"
     ]
    },
    {
     "name": "stderr",
     "output_type": "stream",
     "text": [
      "pynbody.analysis.profile : Profile v_circ -- this routine assumes the disk is in the x-y plane\n"
     ]
    },
    {
     "name": "stdout",
     "output_type": "stream",
     "text": [
      "halo number 553 is done\n",
      "faceon has failed, trying backup\n"
     ]
    },
    {
     "name": "stderr",
     "output_type": "stream",
     "text": [
      "pynbody.analysis.profile : Profile v_circ -- this routine assumes the disk is in the x-y plane\n"
     ]
    },
    {
     "name": "stdout",
     "output_type": "stream",
     "text": [
      "halo number 554 is done\n",
      "faceon has failed, trying backup\n",
      "hyb backup has failed\n",
      "ssc backup has failed\n",
      "com backup has failed\n",
      "pot backup has failed\n",
      "all backups have failed\n",
      "halo number 555 is done\n",
      "faceon has failed, trying backup\n"
     ]
    },
    {
     "name": "stderr",
     "output_type": "stream",
     "text": [
      "pynbody.analysis.profile : Profile v_circ -- this routine assumes the disk is in the x-y plane\n"
     ]
    },
    {
     "name": "stdout",
     "output_type": "stream",
     "text": [
      "halo number 556 is done\n",
      "faceon has failed, trying backup\n"
     ]
    },
    {
     "name": "stderr",
     "output_type": "stream",
     "text": [
      "pynbody.analysis.profile : Profile v_circ -- this routine assumes the disk is in the x-y plane\n"
     ]
    },
    {
     "name": "stdout",
     "output_type": "stream",
     "text": [
      "halo number 557 is done\n",
      "faceon has failed, trying backup\n"
     ]
    },
    {
     "name": "stderr",
     "output_type": "stream",
     "text": [
      "pynbody.analysis.profile : Profile v_circ -- this routine assumes the disk is in the x-y plane\n"
     ]
    },
    {
     "name": "stdout",
     "output_type": "stream",
     "text": [
      "halo number 558 is done\n",
      "faceon has failed, trying backup\n",
      "hyb backup has failed\n",
      "ssc backup has failed\n"
     ]
    },
    {
     "name": "stderr",
     "output_type": "stream",
     "text": [
      "pynbody.analysis.profile : Profile v_circ -- this routine assumes the disk is in the x-y plane\n"
     ]
    },
    {
     "name": "stdout",
     "output_type": "stream",
     "text": [
      "halo number 559 is done\n",
      "faceon has failed, trying backup\n",
      "hyb backup has failed\n",
      "ssc backup has failed\n",
      "com backup has failed\n",
      "pot backup has failed\n",
      "all backups have failed\n",
      "halo number 560 is done\n",
      "faceon has failed, trying backup\n",
      "hyb backup has failed\n",
      "ssc backup has failed\n",
      "com backup has failed\n",
      "pot backup has failed\n",
      "all backups have failed\n",
      "halo number 561 is done\n"
     ]
    },
    {
     "name": "stderr",
     "output_type": "stream",
     "text": [
      "pynbody.analysis.profile : Profile v_circ -- this routine assumes the disk is in the x-y plane\n"
     ]
    },
    {
     "name": "stdout",
     "output_type": "stream",
     "text": [
      "faceon has failed, trying backup\n",
      "halo number 562 is done\n",
      "faceon has failed, trying backup\n"
     ]
    },
    {
     "name": "stderr",
     "output_type": "stream",
     "text": [
      "pynbody.analysis.profile : Profile v_circ -- this routine assumes the disk is in the x-y plane\n"
     ]
    },
    {
     "name": "stdout",
     "output_type": "stream",
     "text": [
      "halo number 563 is done\n",
      "faceon has failed, trying backup\n"
     ]
    },
    {
     "name": "stderr",
     "output_type": "stream",
     "text": [
      "pynbody.analysis.profile : Profile v_circ -- this routine assumes the disk is in the x-y plane\n"
     ]
    },
    {
     "name": "stdout",
     "output_type": "stream",
     "text": [
      "halo number 564 is done\n",
      "faceon has failed, trying backup\n",
      "hyb backup has failed\n",
      "ssc backup has failed\n"
     ]
    },
    {
     "name": "stderr",
     "output_type": "stream",
     "text": [
      "pynbody.analysis.profile : Profile v_circ -- this routine assumes the disk is in the x-y plane\n"
     ]
    },
    {
     "name": "stdout",
     "output_type": "stream",
     "text": [
      "halo number 565 is done\n",
      "faceon has failed, trying backup\n",
      "hyb backup has failed\n",
      "ssc backup has failed\n"
     ]
    },
    {
     "name": "stderr",
     "output_type": "stream",
     "text": [
      "pynbody.analysis.profile : Profile v_circ -- this routine assumes the disk is in the x-y plane\n"
     ]
    },
    {
     "name": "stdout",
     "output_type": "stream",
     "text": [
      "halo number 566 is done\n",
      "faceon has failed, trying backup\n",
      "hyb backup has failed\n",
      "ssc backup has failed\n"
     ]
    },
    {
     "name": "stderr",
     "output_type": "stream",
     "text": [
      "pynbody.analysis.profile : Profile v_circ -- this routine assumes the disk is in the x-y plane\n"
     ]
    },
    {
     "name": "stdout",
     "output_type": "stream",
     "text": [
      "halo number 567 is done\n",
      "faceon has failed, trying backup\n"
     ]
    },
    {
     "name": "stderr",
     "output_type": "stream",
     "text": [
      "pynbody.analysis.profile : Profile v_circ -- this routine assumes the disk is in the x-y plane\n"
     ]
    },
    {
     "name": "stdout",
     "output_type": "stream",
     "text": [
      "halo number 568 is done\n",
      "faceon has failed, trying backup\n",
      "hyb backup has failed\n",
      "ssc backup has failed\n"
     ]
    },
    {
     "name": "stderr",
     "output_type": "stream",
     "text": [
      "pynbody.analysis.profile : Profile v_circ -- this routine assumes the disk is in the x-y plane\n"
     ]
    },
    {
     "name": "stdout",
     "output_type": "stream",
     "text": [
      "halo number 569 is done\n",
      "faceon has failed, trying backup\n",
      "hyb backup has failed\n",
      "ssc backup has failed\n"
     ]
    },
    {
     "name": "stderr",
     "output_type": "stream",
     "text": [
      "pynbody.analysis.profile : Profile v_circ -- this routine assumes the disk is in the x-y plane\n"
     ]
    },
    {
     "name": "stdout",
     "output_type": "stream",
     "text": [
      "halo number 570 is done\n",
      "faceon has failed, trying backup\n",
      "hyb backup has failed\n",
      "ssc backup has failed\n"
     ]
    },
    {
     "name": "stderr",
     "output_type": "stream",
     "text": [
      "pynbody.analysis.profile : Profile v_circ -- this routine assumes the disk is in the x-y plane\n"
     ]
    },
    {
     "name": "stdout",
     "output_type": "stream",
     "text": [
      "halo number 571 is done\n",
      "faceon has failed, trying backup\n",
      "hyb backup has failed\n",
      "ssc backup has failed\n",
      "com backup has failed\n",
      "pot backup has failed\n",
      "all backups have failed\n",
      "halo number 572 is done\n",
      "faceon has failed, trying backup\n"
     ]
    },
    {
     "name": "stderr",
     "output_type": "stream",
     "text": [
      "pynbody.analysis.profile : Profile v_circ -- this routine assumes the disk is in the x-y plane\n"
     ]
    },
    {
     "name": "stdout",
     "output_type": "stream",
     "text": [
      "halo number 573 is done\n",
      "faceon has failed, trying backup\n",
      "hyb backup has failed\n",
      "ssc backup has failed\n"
     ]
    },
    {
     "name": "stderr",
     "output_type": "stream",
     "text": [
      "pynbody.analysis.profile : Profile v_circ -- this routine assumes the disk is in the x-y plane\n"
     ]
    },
    {
     "name": "stdout",
     "output_type": "stream",
     "text": [
      "halo number 574 is done\n",
      "faceon has failed, trying backup\n",
      "hyb backup has failed\n",
      "ssc backup has failed\n",
      "com backup has failed\n",
      "pot backup has failed\n",
      "all backups have failed\n",
      "halo number 575 is done\n",
      "faceon has failed, trying backup\n",
      "hyb backup has failed\n",
      "ssc backup has failed\n",
      "com backup has failed\n",
      "pot backup has failed\n",
      "all backups have failed\n",
      "halo number 576 is done\n",
      "faceon has failed, trying backup\n",
      "hyb backup has failed\n",
      "ssc backup has failed\n"
     ]
    },
    {
     "name": "stderr",
     "output_type": "stream",
     "text": [
      "pynbody.analysis.profile : Profile v_circ -- this routine assumes the disk is in the x-y plane\n"
     ]
    },
    {
     "name": "stdout",
     "output_type": "stream",
     "text": [
      "halo number 577 is done\n",
      "faceon has failed, trying backup\n"
     ]
    },
    {
     "name": "stderr",
     "output_type": "stream",
     "text": [
      "pynbody.analysis.profile : Profile v_circ -- this routine assumes the disk is in the x-y plane\n"
     ]
    },
    {
     "name": "stdout",
     "output_type": "stream",
     "text": [
      "halo number 578 is done\n",
      "faceon has failed, trying backup\n",
      "hyb backup has failed\n",
      "ssc backup has failed\n"
     ]
    },
    {
     "name": "stderr",
     "output_type": "stream",
     "text": [
      "pynbody.analysis.profile : Profile v_circ -- this routine assumes the disk is in the x-y plane\n"
     ]
    },
    {
     "name": "stdout",
     "output_type": "stream",
     "text": [
      "halo number 579 is done\n",
      "faceon has failed, trying backup\n",
      "hyb backup has failed\n",
      "ssc backup has failed\n",
      "com backup has failed\n",
      "pot backup has failed\n",
      "all backups have failed\n",
      "halo number 580 is done\n",
      "faceon has failed, trying backup\n"
     ]
    },
    {
     "name": "stderr",
     "output_type": "stream",
     "text": [
      "pynbody.analysis.profile : Profile v_circ -- this routine assumes the disk is in the x-y plane\n"
     ]
    },
    {
     "name": "stdout",
     "output_type": "stream",
     "text": [
      "halo number 581 is done\n",
      "faceon has failed, trying backup\n",
      "hyb backup has failed\n",
      "ssc backup has failed\n",
      "com backup has failed\n",
      "pot backup has failed\n",
      "all backups have failed\n",
      "halo number 582 is done\n",
      "faceon has failed, trying backup\n",
      "hyb backup has failed\n",
      "ssc backup has failed\n",
      "com backup has failed\n",
      "pot backup has failed\n",
      "all backups have failed\n",
      "halo number 583 is done\n",
      "faceon has failed, trying backup\n"
     ]
    },
    {
     "name": "stderr",
     "output_type": "stream",
     "text": [
      "pynbody.analysis.profile : Profile v_circ -- this routine assumes the disk is in the x-y plane\n"
     ]
    },
    {
     "name": "stdout",
     "output_type": "stream",
     "text": [
      "halo number 584 is done\n",
      "faceon has failed, trying backup\n",
      "hyb backup has failed\n",
      "ssc backup has failed\n"
     ]
    },
    {
     "name": "stderr",
     "output_type": "stream",
     "text": [
      "pynbody.analysis.profile : Profile v_circ -- this routine assumes the disk is in the x-y plane\n"
     ]
    },
    {
     "name": "stdout",
     "output_type": "stream",
     "text": [
      "halo number 585 is done\n",
      "faceon has failed, trying backup\n",
      "hyb backup has failed\n",
      "ssc backup has failed\n",
      "com backup has failed\n",
      "pot backup has failed\n",
      "all backups have failed\n",
      "halo number 586 is done\n",
      "faceon has failed, trying backup\n"
     ]
    },
    {
     "name": "stderr",
     "output_type": "stream",
     "text": [
      "pynbody.analysis.profile : Profile v_circ -- this routine assumes the disk is in the x-y plane\n"
     ]
    },
    {
     "name": "stdout",
     "output_type": "stream",
     "text": [
      "halo number 587 is done\n",
      "faceon has failed, trying backup\n",
      "hyb backup has failed\n",
      "ssc backup has failed\n",
      "com backup has failed\n",
      "pot backup has failed\n",
      "all backups have failed\n",
      "halo number 588 is done\n",
      "faceon has failed, trying backup\n",
      "hyb backup has failed\n",
      "ssc backup has failed\n"
     ]
    },
    {
     "name": "stderr",
     "output_type": "stream",
     "text": [
      "pynbody.analysis.profile : Profile v_circ -- this routine assumes the disk is in the x-y plane\n"
     ]
    },
    {
     "name": "stdout",
     "output_type": "stream",
     "text": [
      "halo number 589 is done\n",
      "faceon has failed, trying backup\n",
      "hyb backup has failed\n",
      "ssc backup has failed\n"
     ]
    },
    {
     "name": "stderr",
     "output_type": "stream",
     "text": [
      "pynbody.analysis.profile : Profile v_circ -- this routine assumes the disk is in the x-y plane\n"
     ]
    },
    {
     "name": "stdout",
     "output_type": "stream",
     "text": [
      "halo number 590 is done\n",
      "faceon has failed, trying backup\n",
      "hyb backup has failed\n",
      "ssc backup has failed\n",
      "com backup has failed\n",
      "pot backup has failed\n",
      "all backups have failed\n",
      "halo number 591 is done\n",
      "faceon has failed, trying backup\n"
     ]
    },
    {
     "name": "stderr",
     "output_type": "stream",
     "text": [
      "pynbody.analysis.profile : Profile v_circ -- this routine assumes the disk is in the x-y plane\n"
     ]
    },
    {
     "name": "stdout",
     "output_type": "stream",
     "text": [
      "halo number 592 is done\n",
      "faceon has failed, trying backup\n",
      "hyb backup has failed\n",
      "ssc backup has failed\n"
     ]
    },
    {
     "name": "stderr",
     "output_type": "stream",
     "text": [
      "pynbody.analysis.profile : Profile v_circ -- this routine assumes the disk is in the x-y plane\n"
     ]
    },
    {
     "name": "stdout",
     "output_type": "stream",
     "text": [
      "halo number 593 is done\n",
      "faceon has failed, trying backup\n",
      "hyb backup has failed\n",
      "ssc backup has failed\n"
     ]
    },
    {
     "name": "stderr",
     "output_type": "stream",
     "text": [
      "pynbody.analysis.profile : Profile v_circ -- this routine assumes the disk is in the x-y plane\n"
     ]
    },
    {
     "name": "stdout",
     "output_type": "stream",
     "text": [
      "halo number 594 is done\n",
      "faceon has failed, trying backup\n",
      "hyb backup has failed\n",
      "ssc backup has failed\n"
     ]
    },
    {
     "name": "stderr",
     "output_type": "stream",
     "text": [
      "pynbody.analysis.profile : Profile v_circ -- this routine assumes the disk is in the x-y plane\n"
     ]
    },
    {
     "name": "stdout",
     "output_type": "stream",
     "text": [
      "halo number 595 is done\n",
      "faceon has failed, trying backup\n"
     ]
    },
    {
     "name": "stderr",
     "output_type": "stream",
     "text": [
      "pynbody.analysis.profile : Profile v_circ -- this routine assumes the disk is in the x-y plane\n"
     ]
    },
    {
     "name": "stdout",
     "output_type": "stream",
     "text": [
      "halo number 596 is done\n",
      "faceon has failed, trying backup\n",
      "hyb backup has failed\n",
      "ssc backup has failed\n"
     ]
    },
    {
     "name": "stderr",
     "output_type": "stream",
     "text": [
      "pynbody.analysis.profile : Profile v_circ -- this routine assumes the disk is in the x-y plane\n"
     ]
    },
    {
     "name": "stdout",
     "output_type": "stream",
     "text": [
      "halo number 597 is done\n",
      "faceon has failed, trying backup\n"
     ]
    },
    {
     "name": "stderr",
     "output_type": "stream",
     "text": [
      "pynbody.analysis.profile : Profile v_circ -- this routine assumes the disk is in the x-y plane\n"
     ]
    },
    {
     "name": "stdout",
     "output_type": "stream",
     "text": [
      "halo number 598 is done\n",
      "faceon has failed, trying backup\n"
     ]
    },
    {
     "name": "stderr",
     "output_type": "stream",
     "text": [
      "pynbody.analysis.profile : Profile v_circ -- this routine assumes the disk is in the x-y plane\n"
     ]
    },
    {
     "name": "stdout",
     "output_type": "stream",
     "text": [
      "halo number 599 is done\n",
      "faceon has failed, trying backup\n",
      "hyb backup has failed\n",
      "ssc backup has failed\n"
     ]
    },
    {
     "name": "stderr",
     "output_type": "stream",
     "text": [
      "pynbody.analysis.profile : Profile v_circ -- this routine assumes the disk is in the x-y plane\n"
     ]
    },
    {
     "name": "stdout",
     "output_type": "stream",
     "text": [
      "halo number 600 is done\n",
      "faceon has failed, trying backup\n"
     ]
    },
    {
     "name": "stderr",
     "output_type": "stream",
     "text": [
      "pynbody.analysis.profile : Profile v_circ -- this routine assumes the disk is in the x-y plane\n"
     ]
    },
    {
     "name": "stdout",
     "output_type": "stream",
     "text": [
      "halo number 601 is done\n",
      "faceon has failed, trying backup\n"
     ]
    },
    {
     "name": "stderr",
     "output_type": "stream",
     "text": [
      "pynbody.analysis.profile : Profile v_circ -- this routine assumes the disk is in the x-y plane\n"
     ]
    },
    {
     "name": "stdout",
     "output_type": "stream",
     "text": [
      "halo number 602 is done\n",
      "faceon has failed, trying backup\n",
      "hyb backup has failed\n",
      "ssc backup has failed\n",
      "com backup has failed\n",
      "pot backup has failed\n",
      "all backups have failed\n",
      "halo number 603 is done\n",
      "faceon has failed, trying backup\n"
     ]
    },
    {
     "name": "stderr",
     "output_type": "stream",
     "text": [
      "pynbody.analysis.profile : Profile v_circ -- this routine assumes the disk is in the x-y plane\n"
     ]
    },
    {
     "name": "stdout",
     "output_type": "stream",
     "text": [
      "halo number 604 is done\n",
      "faceon has failed, trying backup\n",
      "hyb backup has failed\n",
      "ssc backup has failed\n",
      "com backup has failed\n",
      "pot backup has failed\n",
      "all backups have failed\n",
      "halo number 605 is done\n",
      "faceon has failed, trying backup\n"
     ]
    },
    {
     "name": "stderr",
     "output_type": "stream",
     "text": [
      "pynbody.analysis.profile : Profile v_circ -- this routine assumes the disk is in the x-y plane\n"
     ]
    },
    {
     "name": "stdout",
     "output_type": "stream",
     "text": [
      "halo number 606 is done\n",
      "faceon has failed, trying backup\n",
      "hyb backup has failed\n",
      "ssc backup has failed\n"
     ]
    },
    {
     "name": "stderr",
     "output_type": "stream",
     "text": [
      "pynbody.analysis.profile : Profile v_circ -- this routine assumes the disk is in the x-y plane\n"
     ]
    },
    {
     "name": "stdout",
     "output_type": "stream",
     "text": [
      "halo number 607 is done\n",
      "faceon has failed, trying backup\n",
      "hyb backup has failed\n",
      "ssc backup has failed\n",
      "com backup has failed\n",
      "pot backup has failed\n",
      "all backups have failed\n",
      "halo number 608 is done\n",
      "faceon has failed, trying backup\n",
      "hyb backup has failed\n",
      "ssc backup has failed\n"
     ]
    },
    {
     "name": "stderr",
     "output_type": "stream",
     "text": [
      "pynbody.analysis.profile : Profile v_circ -- this routine assumes the disk is in the x-y plane\n"
     ]
    },
    {
     "name": "stdout",
     "output_type": "stream",
     "text": [
      "halo number 609 is done\n",
      "faceon has failed, trying backup\n",
      "hyb backup has failed\n",
      "ssc backup has failed\n",
      "com backup has failed\n",
      "pot backup has failed\n",
      "all backups have failed\n",
      "halo number 610 is done\n",
      "faceon has failed, trying backup\n"
     ]
    },
    {
     "name": "stderr",
     "output_type": "stream",
     "text": [
      "pynbody.analysis.profile : Profile v_circ -- this routine assumes the disk is in the x-y plane\n"
     ]
    },
    {
     "name": "stdout",
     "output_type": "stream",
     "text": [
      "halo number 611 is done\n",
      "faceon has failed, trying backup\n",
      "hyb backup has failed\n",
      "ssc backup has failed\n",
      "com backup has failed\n",
      "pot backup has failed\n",
      "all backups have failed\n",
      "halo number 612 is done\n",
      "faceon has failed, trying backup\n"
     ]
    },
    {
     "name": "stderr",
     "output_type": "stream",
     "text": [
      "pynbody.analysis.profile : Profile v_circ -- this routine assumes the disk is in the x-y plane\n"
     ]
    },
    {
     "name": "stdout",
     "output_type": "stream",
     "text": [
      "halo number 613 is done\n",
      "faceon has failed, trying backup\n"
     ]
    },
    {
     "name": "stderr",
     "output_type": "stream",
     "text": [
      "pynbody.analysis.profile : Profile v_circ -- this routine assumes the disk is in the x-y plane\n"
     ]
    },
    {
     "name": "stdout",
     "output_type": "stream",
     "text": [
      "halo number 614 is done\n",
      "faceon has failed, trying backup\n",
      "hyb backup has failed\n",
      "ssc backup has failed\n",
      "com backup has failed\n",
      "pot backup has failed\n",
      "all backups have failed\n",
      "halo number 615 is done\n",
      "faceon has failed, trying backup\n",
      "hyb backup has failed\n",
      "ssc backup has failed\n"
     ]
    },
    {
     "name": "stderr",
     "output_type": "stream",
     "text": [
      "pynbody.analysis.profile : Profile v_circ -- this routine assumes the disk is in the x-y plane\n"
     ]
    },
    {
     "name": "stdout",
     "output_type": "stream",
     "text": [
      "halo number 616 is done\n",
      "faceon has failed, trying backup\n",
      "hyb backup has failed\n",
      "ssc backup has failed\n",
      "com backup has failed\n",
      "pot backup has failed\n",
      "all backups have failed\n",
      "halo number 617 is done\n",
      "faceon has failed, trying backup\n",
      "hyb backup has failed\n",
      "ssc backup has failed\n",
      "com backup has failed\n",
      "pot backup has failed\n",
      "all backups have failed\n",
      "halo number 618 is done\n"
     ]
    },
    {
     "name": "stderr",
     "output_type": "stream",
     "text": [
      "pynbody.analysis.profile : Profile v_circ -- this routine assumes the disk is in the x-y plane\n"
     ]
    },
    {
     "name": "stdout",
     "output_type": "stream",
     "text": [
      "faceon has failed, trying backup\n",
      "halo number 619 is done\n",
      "faceon has failed, trying backup\n",
      "hyb backup has failed\n",
      "ssc backup has failed\n"
     ]
    },
    {
     "name": "stderr",
     "output_type": "stream",
     "text": [
      "pynbody.analysis.profile : Profile v_circ -- this routine assumes the disk is in the x-y plane\n"
     ]
    },
    {
     "name": "stdout",
     "output_type": "stream",
     "text": [
      "halo number 620 is done\n",
      "faceon has failed, trying backup\n",
      "hyb backup has failed\n",
      "ssc backup has failed\n"
     ]
    },
    {
     "name": "stderr",
     "output_type": "stream",
     "text": [
      "pynbody.analysis.profile : Profile v_circ -- this routine assumes the disk is in the x-y plane\n"
     ]
    },
    {
     "name": "stdout",
     "output_type": "stream",
     "text": [
      "halo number 621 is done\n",
      "faceon has failed, trying backup\n",
      "hyb backup has failed\n",
      "ssc backup has failed\n"
     ]
    },
    {
     "name": "stderr",
     "output_type": "stream",
     "text": [
      "pynbody.analysis.profile : Profile v_circ -- this routine assumes the disk is in the x-y plane\n"
     ]
    },
    {
     "name": "stdout",
     "output_type": "stream",
     "text": [
      "halo number 622 is done\n",
      "faceon has failed, trying backup\n",
      "hyb backup has failed\n",
      "ssc backup has failed\n",
      "com backup has failed\n",
      "pot backup has failed\n",
      "all backups have failed\n",
      "halo number 623 is done\n",
      "faceon has failed, trying backup\n"
     ]
    },
    {
     "name": "stderr",
     "output_type": "stream",
     "text": [
      "pynbody.analysis.profile : Profile v_circ -- this routine assumes the disk is in the x-y plane\n"
     ]
    },
    {
     "name": "stdout",
     "output_type": "stream",
     "text": [
      "halo number 624 is done\n",
      "faceon has failed, trying backup\n",
      "hyb backup has failed\n",
      "ssc backup has failed\n"
     ]
    },
    {
     "name": "stderr",
     "output_type": "stream",
     "text": [
      "pynbody.analysis.profile : Profile v_circ -- this routine assumes the disk is in the x-y plane\n"
     ]
    },
    {
     "name": "stdout",
     "output_type": "stream",
     "text": [
      "halo number 625 is done\n",
      "faceon has failed, trying backup\n"
     ]
    },
    {
     "name": "stderr",
     "output_type": "stream",
     "text": [
      "pynbody.analysis.profile : Profile v_circ -- this routine assumes the disk is in the x-y plane\n"
     ]
    },
    {
     "name": "stdout",
     "output_type": "stream",
     "text": [
      "halo number 626 is done\n",
      "faceon has failed, trying backup\n"
     ]
    },
    {
     "name": "stderr",
     "output_type": "stream",
     "text": [
      "pynbody.analysis.profile : Profile v_circ -- this routine assumes the disk is in the x-y plane\n"
     ]
    },
    {
     "name": "stdout",
     "output_type": "stream",
     "text": [
      "halo number 627 is done\n",
      "faceon has failed, trying backup\n",
      "hyb backup has failed\n",
      "ssc backup has failed\n",
      "com backup has failed\n",
      "pot backup has failed\n",
      "all backups have failed\n",
      "halo number 628 is done\n",
      "faceon has failed, trying backup\n",
      "hyb backup has failed\n",
      "ssc backup has failed\n"
     ]
    },
    {
     "name": "stderr",
     "output_type": "stream",
     "text": [
      "pynbody.analysis.profile : Profile v_circ -- this routine assumes the disk is in the x-y plane\n"
     ]
    },
    {
     "name": "stdout",
     "output_type": "stream",
     "text": [
      "halo number 629 is done\n",
      "faceon has failed, trying backup\n",
      "hyb backup has failed\n",
      "ssc backup has failed\n"
     ]
    },
    {
     "name": "stderr",
     "output_type": "stream",
     "text": [
      "pynbody.analysis.profile : Profile v_circ -- this routine assumes the disk is in the x-y plane\n"
     ]
    },
    {
     "name": "stdout",
     "output_type": "stream",
     "text": [
      "halo number 630 is done\n",
      "faceon has failed, trying backup\n",
      "hyb backup has failed\n",
      "ssc backup has failed\n",
      "com backup has failed\n",
      "pot backup has failed\n",
      "all backups have failed\n",
      "halo number 631 is done\n",
      "faceon has failed, trying backup\n"
     ]
    },
    {
     "name": "stderr",
     "output_type": "stream",
     "text": [
      "pynbody.analysis.profile : Profile v_circ -- this routine assumes the disk is in the x-y plane\n"
     ]
    },
    {
     "name": "stdout",
     "output_type": "stream",
     "text": [
      "halo number 632 is done\n",
      "faceon has failed, trying backup\n",
      "hyb backup has failed\n",
      "ssc backup has failed\n",
      "com backup has failed\n",
      "pot backup has failed\n",
      "all backups have failed\n",
      "halo number 633 is done\n",
      "faceon has failed, trying backup\n",
      "hyb backup has failed\n",
      "ssc backup has failed\n"
     ]
    },
    {
     "name": "stderr",
     "output_type": "stream",
     "text": [
      "pynbody.analysis.profile : Profile v_circ -- this routine assumes the disk is in the x-y plane\n"
     ]
    },
    {
     "name": "stdout",
     "output_type": "stream",
     "text": [
      "halo number 634 is done\n",
      "faceon has failed, trying backup\n"
     ]
    },
    {
     "name": "stderr",
     "output_type": "stream",
     "text": [
      "pynbody.analysis.profile : Profile v_circ -- this routine assumes the disk is in the x-y plane\n"
     ]
    },
    {
     "name": "stdout",
     "output_type": "stream",
     "text": [
      "halo number 635 is done\n",
      "faceon has failed, trying backup\n",
      "hyb backup has failed\n",
      "ssc backup has failed\n"
     ]
    },
    {
     "name": "stderr",
     "output_type": "stream",
     "text": [
      "pynbody.analysis.profile : Profile v_circ -- this routine assumes the disk is in the x-y plane\n"
     ]
    },
    {
     "name": "stdout",
     "output_type": "stream",
     "text": [
      "halo number 636 is done\n",
      "faceon has failed, trying backup\n",
      "hyb backup has failed\n",
      "ssc backup has failed\n",
      "com backup has failed\n",
      "pot backup has failed\n",
      "all backups have failed\n",
      "halo number 637 is done\n",
      "faceon has failed, trying backup\n",
      "hyb backup has failed\n",
      "ssc backup has failed\n"
     ]
    },
    {
     "name": "stderr",
     "output_type": "stream",
     "text": [
      "pynbody.analysis.profile : Profile v_circ -- this routine assumes the disk is in the x-y plane\n"
     ]
    },
    {
     "name": "stdout",
     "output_type": "stream",
     "text": [
      "halo number 638 is done\n",
      "faceon has failed, trying backup\n"
     ]
    },
    {
     "name": "stderr",
     "output_type": "stream",
     "text": [
      "pynbody.analysis.profile : Profile v_circ -- this routine assumes the disk is in the x-y plane\n"
     ]
    },
    {
     "name": "stdout",
     "output_type": "stream",
     "text": [
      "halo number 639 is done\n",
      "faceon has failed, trying backup\n",
      "hyb backup has failed\n",
      "ssc backup has failed\n"
     ]
    },
    {
     "name": "stderr",
     "output_type": "stream",
     "text": [
      "pynbody.analysis.profile : Profile v_circ -- this routine assumes the disk is in the x-y plane\n"
     ]
    },
    {
     "name": "stdout",
     "output_type": "stream",
     "text": [
      "halo number 640 is done\n",
      "faceon has failed, trying backup\n",
      "hyb backup has failed\n",
      "ssc backup has failed\n"
     ]
    },
    {
     "name": "stderr",
     "output_type": "stream",
     "text": [
      "pynbody.analysis.profile : Profile v_circ -- this routine assumes the disk is in the x-y plane\n"
     ]
    },
    {
     "name": "stdout",
     "output_type": "stream",
     "text": [
      "halo number 641 is done\n",
      "faceon has failed, trying backup\n"
     ]
    },
    {
     "name": "stderr",
     "output_type": "stream",
     "text": [
      "pynbody.analysis.profile : Profile v_circ -- this routine assumes the disk is in the x-y plane\n"
     ]
    },
    {
     "name": "stdout",
     "output_type": "stream",
     "text": [
      "halo number 642 is done\n",
      "faceon has failed, trying backup\n",
      "hyb backup has failed\n",
      "ssc backup has failed\n",
      "com backup has failed\n",
      "pot backup has failed\n",
      "all backups have failed\n",
      "halo number 643 is done\n",
      "faceon has failed, trying backup\n"
     ]
    },
    {
     "name": "stderr",
     "output_type": "stream",
     "text": [
      "pynbody.analysis.profile : Profile v_circ -- this routine assumes the disk is in the x-y plane\n"
     ]
    },
    {
     "name": "stdout",
     "output_type": "stream",
     "text": [
      "halo number 644 is done\n",
      "faceon has failed, trying backup\n",
      "hyb backup has failed\n",
      "ssc backup has failed\n"
     ]
    },
    {
     "name": "stderr",
     "output_type": "stream",
     "text": [
      "pynbody.analysis.profile : Profile v_circ -- this routine assumes the disk is in the x-y plane\n"
     ]
    },
    {
     "name": "stdout",
     "output_type": "stream",
     "text": [
      "halo number 645 is done\n",
      "faceon has failed, trying backup\n",
      "hyb backup has failed\n",
      "ssc backup has failed\n",
      "com backup has failed\n",
      "pot backup has failed\n",
      "all backups have failed\n",
      "halo number 646 is done\n",
      "faceon has failed, trying backup\n",
      "hyb backup has failed\n",
      "ssc backup has failed\n"
     ]
    },
    {
     "name": "stderr",
     "output_type": "stream",
     "text": [
      "pynbody.analysis.profile : Profile v_circ -- this routine assumes the disk is in the x-y plane\n"
     ]
    },
    {
     "name": "stdout",
     "output_type": "stream",
     "text": [
      "halo number 647 is done\n",
      "faceon has failed, trying backup\n"
     ]
    },
    {
     "name": "stderr",
     "output_type": "stream",
     "text": [
      "pynbody.analysis.profile : Profile v_circ -- this routine assumes the disk is in the x-y plane\n"
     ]
    },
    {
     "name": "stdout",
     "output_type": "stream",
     "text": [
      "halo number 648 is done\n",
      "faceon has failed, trying backup\n",
      "hyb backup has failed\n",
      "ssc backup has failed\n"
     ]
    },
    {
     "name": "stderr",
     "output_type": "stream",
     "text": [
      "pynbody.analysis.profile : Profile v_circ -- this routine assumes the disk is in the x-y plane\n"
     ]
    },
    {
     "name": "stdout",
     "output_type": "stream",
     "text": [
      "halo number 649 is done\n",
      "faceon has failed, trying backup\n",
      "hyb backup has failed\n",
      "ssc backup has failed\n"
     ]
    },
    {
     "name": "stderr",
     "output_type": "stream",
     "text": [
      "pynbody.analysis.profile : Profile v_circ -- this routine assumes the disk is in the x-y plane\n"
     ]
    },
    {
     "name": "stdout",
     "output_type": "stream",
     "text": [
      "halo number 650 is done\n",
      "faceon has failed, trying backup\n"
     ]
    },
    {
     "name": "stderr",
     "output_type": "stream",
     "text": [
      "pynbody.analysis.profile : Profile v_circ -- this routine assumes the disk is in the x-y plane\n"
     ]
    },
    {
     "name": "stdout",
     "output_type": "stream",
     "text": [
      "halo number 651 is done\n",
      "faceon has failed, trying backup\n",
      "hyb backup has failed\n",
      "ssc backup has failed\n",
      "com backup has failed\n",
      "pot backup has failed\n",
      "all backups have failed\n",
      "halo number 652 is done\n",
      "faceon has failed, trying backup\n",
      "hyb backup has failed\n",
      "ssc backup has failed\n",
      "com backup has failed\n",
      "pot backup has failed\n",
      "all backups have failed\n",
      "halo number 653 is done\n",
      "faceon has failed, trying backup\n",
      "hyb backup has failed\n",
      "ssc backup has failed\n"
     ]
    },
    {
     "name": "stderr",
     "output_type": "stream",
     "text": [
      "pynbody.analysis.profile : Profile v_circ -- this routine assumes the disk is in the x-y plane\n"
     ]
    },
    {
     "name": "stdout",
     "output_type": "stream",
     "text": [
      "halo number 654 is done\n",
      "faceon has failed, trying backup\n",
      "hyb backup has failed\n",
      "ssc backup has failed\n",
      "com backup has failed\n",
      "pot backup has failed\n",
      "all backups have failed\n",
      "halo number 655 is done\n",
      "faceon has failed, trying backup\n",
      "hyb backup has failed\n",
      "ssc backup has failed\n"
     ]
    },
    {
     "name": "stderr",
     "output_type": "stream",
     "text": [
      "pynbody.analysis.profile : Profile v_circ -- this routine assumes the disk is in the x-y plane\n"
     ]
    },
    {
     "name": "stdout",
     "output_type": "stream",
     "text": [
      "halo number 656 is done\n",
      "faceon has failed, trying backup\n"
     ]
    },
    {
     "name": "stderr",
     "output_type": "stream",
     "text": [
      "pynbody.analysis.profile : Profile v_circ -- this routine assumes the disk is in the x-y plane\n"
     ]
    },
    {
     "name": "stdout",
     "output_type": "stream",
     "text": [
      "halo number 657 is done\n",
      "faceon has failed, trying backup\n",
      "hyb backup has failed\n",
      "ssc backup has failed\n",
      "com backup has failed\n",
      "pot backup has failed\n",
      "all backups have failed\n",
      "halo number 658 is done\n",
      "faceon has failed, trying backup\n"
     ]
    },
    {
     "name": "stderr",
     "output_type": "stream",
     "text": [
      "pynbody.analysis.profile : Profile v_circ -- this routine assumes the disk is in the x-y plane\n"
     ]
    },
    {
     "name": "stdout",
     "output_type": "stream",
     "text": [
      "hyb backup has failed\n",
      "ssc backup has failed\n",
      "halo number 659 is done\n",
      "faceon has failed, trying backup\n",
      "hyb backup has failed\n"
     ]
    },
    {
     "name": "stderr",
     "output_type": "stream",
     "text": [
      "pynbody.analysis.profile : Profile v_circ -- this routine assumes the disk is in the x-y plane\n"
     ]
    },
    {
     "name": "stdout",
     "output_type": "stream",
     "text": [
      "ssc backup has failed\n",
      "halo number 660 is done\n",
      "faceon has failed, trying backup\n",
      "hyb backup has failed\n",
      "ssc backup has failed\n"
     ]
    },
    {
     "name": "stderr",
     "output_type": "stream",
     "text": [
      "pynbody.analysis.profile : Profile v_circ -- this routine assumes the disk is in the x-y plane\n"
     ]
    },
    {
     "name": "stdout",
     "output_type": "stream",
     "text": [
      "halo number 661 is done\n",
      "faceon has failed, trying backup\n",
      "hyb backup has failed\n",
      "ssc backup has failed\n"
     ]
    },
    {
     "name": "stderr",
     "output_type": "stream",
     "text": [
      "pynbody.analysis.profile : Profile v_circ -- this routine assumes the disk is in the x-y plane\n"
     ]
    },
    {
     "name": "stdout",
     "output_type": "stream",
     "text": [
      "halo number 662 is done\n",
      "faceon has failed, trying backup\n",
      "hyb backup has failed\n",
      "ssc backup has failed\n",
      "com backup has failed\n",
      "pot backup has failed\n",
      "all backups have failed\n",
      "halo number 663 is done\n",
      "faceon has failed, trying backup\n"
     ]
    },
    {
     "name": "stderr",
     "output_type": "stream",
     "text": [
      "pynbody.analysis.profile : Profile v_circ -- this routine assumes the disk is in the x-y plane\n"
     ]
    },
    {
     "name": "stdout",
     "output_type": "stream",
     "text": [
      "halo number 664 is done\n",
      "faceon has failed, trying backup\n"
     ]
    },
    {
     "name": "stderr",
     "output_type": "stream",
     "text": [
      "pynbody.analysis.profile : Profile v_circ -- this routine assumes the disk is in the x-y plane\n"
     ]
    },
    {
     "name": "stdout",
     "output_type": "stream",
     "text": [
      "halo number 665 is done\n",
      "faceon has failed, trying backup\n",
      "hyb backup has failed\n",
      "ssc backup has failed\n"
     ]
    },
    {
     "name": "stderr",
     "output_type": "stream",
     "text": [
      "pynbody.analysis.profile : Profile v_circ -- this routine assumes the disk is in the x-y plane\n"
     ]
    },
    {
     "name": "stdout",
     "output_type": "stream",
     "text": [
      "halo number 666 is done\n",
      "faceon has failed, trying backup\n"
     ]
    },
    {
     "name": "stderr",
     "output_type": "stream",
     "text": [
      "pynbody.analysis.profile : Profile v_circ -- this routine assumes the disk is in the x-y plane\n"
     ]
    },
    {
     "name": "stdout",
     "output_type": "stream",
     "text": [
      "halo number 667 is done\n",
      "faceon has failed, trying backup\n",
      "hyb backup has failed\n",
      "ssc backup has failed\n",
      "com backup has failed\n",
      "pot backup has failed\n",
      "all backups have failed\n",
      "halo number 668 is done\n",
      "faceon has failed, trying backup\n",
      "hyb backup has failed\n",
      "ssc backup has failed\n",
      "com backup has failed\n",
      "pot backup has failed\n",
      "all backups have failed\n",
      "halo number 669 is done\n"
     ]
    },
    {
     "name": "stderr",
     "output_type": "stream",
     "text": [
      "pynbody.analysis.profile : Profile v_circ -- this routine assumes the disk is in the x-y plane\n"
     ]
    },
    {
     "name": "stdout",
     "output_type": "stream",
     "text": [
      "faceon has failed, trying backup\n",
      "halo number 670 is done\n",
      "faceon has failed, trying backup\n",
      "hyb backup has failed\n",
      "ssc backup has failed\n"
     ]
    },
    {
     "name": "stderr",
     "output_type": "stream",
     "text": [
      "pynbody.analysis.profile : Profile v_circ -- this routine assumes the disk is in the x-y plane\n"
     ]
    },
    {
     "name": "stdout",
     "output_type": "stream",
     "text": [
      "halo number 671 is done\n",
      "faceon has failed, trying backup\n",
      "hyb backup has failed\n",
      "ssc backup has failed\n",
      "com backup has failed\n",
      "pot backup has failed\n",
      "all backups have failed\n",
      "halo number 672 is done\n",
      "faceon has failed, trying backup\n",
      "hyb backup has failed\n",
      "ssc backup has failed\n"
     ]
    },
    {
     "name": "stderr",
     "output_type": "stream",
     "text": [
      "pynbody.analysis.profile : Profile v_circ -- this routine assumes the disk is in the x-y plane\n"
     ]
    },
    {
     "name": "stdout",
     "output_type": "stream",
     "text": [
      "halo number 673 is done\n",
      "faceon has failed, trying backup\n",
      "hyb backup has failed\n",
      "ssc backup has failed\n",
      "com backup has failed\n",
      "pot backup has failed\n",
      "all backups have failed\n",
      "halo number 674 is done\n",
      "faceon has failed, trying backup\n",
      "hyb backup has failed\n",
      "ssc backup has failed\n",
      "com backup has failed\n",
      "pot backup has failed\n",
      "all backups have failed\n",
      "halo number 675 is done\n",
      "faceon has failed, trying backup\n",
      "hyb backup has failed\n",
      "ssc backup has failed\n",
      "com backup has failed\n",
      "pot backup has failed\n",
      "all backups have failed\n",
      "halo number 676 is done\n",
      "faceon has failed, trying backup\n",
      "hyb backup has failed\n",
      "ssc backup has failed\n"
     ]
    },
    {
     "name": "stderr",
     "output_type": "stream",
     "text": [
      "pynbody.analysis.profile : Profile v_circ -- this routine assumes the disk is in the x-y plane\n"
     ]
    },
    {
     "name": "stdout",
     "output_type": "stream",
     "text": [
      "halo number 677 is done\n",
      "faceon has failed, trying backup\n"
     ]
    },
    {
     "name": "stderr",
     "output_type": "stream",
     "text": [
      "pynbody.analysis.profile : Profile v_circ -- this routine assumes the disk is in the x-y plane\n"
     ]
    },
    {
     "name": "stdout",
     "output_type": "stream",
     "text": [
      "halo number 678 is done\n",
      "faceon has failed, trying backup\n",
      "hyb backup has failed\n",
      "ssc backup has failed\n"
     ]
    },
    {
     "name": "stderr",
     "output_type": "stream",
     "text": [
      "pynbody.analysis.profile : Profile v_circ -- this routine assumes the disk is in the x-y plane\n"
     ]
    },
    {
     "name": "stdout",
     "output_type": "stream",
     "text": [
      "halo number 679 is done\n",
      "faceon has failed, trying backup\n",
      "hyb backup has failed\n",
      "ssc backup has failed\n"
     ]
    },
    {
     "name": "stderr",
     "output_type": "stream",
     "text": [
      "pynbody.analysis.profile : Profile v_circ -- this routine assumes the disk is in the x-y plane\n"
     ]
    },
    {
     "name": "stdout",
     "output_type": "stream",
     "text": [
      "halo number 680 is done\n",
      "faceon has failed, trying backup\n",
      "hyb backup has failed\n",
      "ssc backup has failed\n",
      "com backup has failed\n",
      "pot backup has failed\n",
      "all backups have failed\n",
      "halo number 681 is done\n",
      "faceon has failed, trying backup\n",
      "hyb backup has failed\n",
      "ssc backup has failed\n",
      "com backup has failed\n",
      "pot backup has failed\n",
      "all backups have failed\n",
      "halo number 682 is done\n",
      "faceon has failed, trying backup\n",
      "hyb backup has failed\n",
      "ssc backup has failed\n"
     ]
    },
    {
     "name": "stderr",
     "output_type": "stream",
     "text": [
      "pynbody.analysis.profile : Profile v_circ -- this routine assumes the disk is in the x-y plane\n"
     ]
    },
    {
     "name": "stdout",
     "output_type": "stream",
     "text": [
      "halo number 683 is done\n",
      "faceon has failed, trying backup\n"
     ]
    },
    {
     "name": "stderr",
     "output_type": "stream",
     "text": [
      "pynbody.analysis.profile : Profile v_circ -- this routine assumes the disk is in the x-y plane\n"
     ]
    },
    {
     "name": "stdout",
     "output_type": "stream",
     "text": [
      "halo number 684 is done\n",
      "faceon has failed, trying backup\n",
      "hyb backup has failed\n",
      "ssc backup has failed\n",
      "com backup has failed\n",
      "pot backup has failed\n",
      "all backups have failed\n",
      "halo number 685 is done\n",
      "faceon has failed, trying backup\n",
      "hyb backup has failed\n",
      "ssc backup has failed\n"
     ]
    },
    {
     "name": "stderr",
     "output_type": "stream",
     "text": [
      "pynbody.analysis.profile : Profile v_circ -- this routine assumes the disk is in the x-y plane\n"
     ]
    },
    {
     "name": "stdout",
     "output_type": "stream",
     "text": [
      "halo number 686 is done\n",
      "faceon has failed, trying backup\n"
     ]
    },
    {
     "name": "stderr",
     "output_type": "stream",
     "text": [
      "pynbody.analysis.profile : Profile v_circ -- this routine assumes the disk is in the x-y plane\n"
     ]
    },
    {
     "name": "stdout",
     "output_type": "stream",
     "text": [
      "halo number 687 is done\n",
      "faceon has failed, trying backup\n"
     ]
    },
    {
     "name": "stderr",
     "output_type": "stream",
     "text": [
      "pynbody.analysis.profile : Profile v_circ -- this routine assumes the disk is in the x-y plane\n"
     ]
    },
    {
     "name": "stdout",
     "output_type": "stream",
     "text": [
      "halo number 688 is done\n",
      "faceon has failed, trying backup\n"
     ]
    },
    {
     "name": "stderr",
     "output_type": "stream",
     "text": [
      "pynbody.analysis.profile : Profile v_circ -- this routine assumes the disk is in the x-y plane\n"
     ]
    },
    {
     "name": "stdout",
     "output_type": "stream",
     "text": [
      "halo number 689 is done\n",
      "faceon has failed, trying backup\n",
      "hyb backup has failed\n",
      "ssc backup has failed\n",
      "com backup has failed\n",
      "pot backup has failed\n",
      "all backups have failed\n",
      "halo number 690 is done\n",
      "faceon has failed, trying backup\n",
      "hyb backup has failed\n",
      "ssc backup has failed\n",
      "com backup has failed\n",
      "pot backup has failed\n",
      "all backups have failed\n",
      "halo number 691 is done\n",
      "faceon has failed, trying backup\n",
      "hyb backup has failed\n",
      "ssc backup has failed\n"
     ]
    },
    {
     "name": "stderr",
     "output_type": "stream",
     "text": [
      "pynbody.analysis.profile : Profile v_circ -- this routine assumes the disk is in the x-y plane\n"
     ]
    },
    {
     "name": "stdout",
     "output_type": "stream",
     "text": [
      "halo number 692 is done\n",
      "faceon has failed, trying backup\n"
     ]
    },
    {
     "name": "stderr",
     "output_type": "stream",
     "text": [
      "pynbody.analysis.profile : Profile v_circ -- this routine assumes the disk is in the x-y plane\n"
     ]
    },
    {
     "name": "stdout",
     "output_type": "stream",
     "text": [
      "hyb backup has failed\n",
      "halo number 693 is done\n",
      "faceon has failed, trying backup\n",
      "hyb backup has failed\n",
      "ssc backup has failed\n"
     ]
    },
    {
     "name": "stderr",
     "output_type": "stream",
     "text": [
      "pynbody.analysis.profile : Profile v_circ -- this routine assumes the disk is in the x-y plane\n"
     ]
    },
    {
     "name": "stdout",
     "output_type": "stream",
     "text": [
      "halo number 694 is done\n",
      "faceon has failed, trying backup\n",
      "hyb backup has failed\n",
      "ssc backup has failed\n"
     ]
    },
    {
     "name": "stderr",
     "output_type": "stream",
     "text": [
      "pynbody.analysis.profile : Profile v_circ -- this routine assumes the disk is in the x-y plane\n"
     ]
    },
    {
     "name": "stdout",
     "output_type": "stream",
     "text": [
      "halo number 695 is done\n",
      "faceon has failed, trying backup\n",
      "hyb backup has failed\n",
      "ssc backup has failed\n"
     ]
    },
    {
     "name": "stderr",
     "output_type": "stream",
     "text": [
      "pynbody.analysis.profile : Profile v_circ -- this routine assumes the disk is in the x-y plane\n"
     ]
    },
    {
     "name": "stdout",
     "output_type": "stream",
     "text": [
      "halo number 696 is done\n",
      "faceon has failed, trying backup\n"
     ]
    },
    {
     "name": "stderr",
     "output_type": "stream",
     "text": [
      "pynbody.analysis.profile : Profile v_circ -- this routine assumes the disk is in the x-y plane\n"
     ]
    },
    {
     "name": "stdout",
     "output_type": "stream",
     "text": [
      "halo number 697 is done\n",
      "faceon has failed, trying backup\n",
      "hyb backup has failed\n",
      "ssc backup has failed\n",
      "com backup has failed\n",
      "pot backup has failed\n",
      "all backups have failed\n",
      "halo number 698 is done\n",
      "faceon has failed, trying backup\n",
      "hyb backup has failed\n",
      "ssc backup has failed\n",
      "com backup has failed\n",
      "pot backup has failed\n",
      "all backups have failed\n",
      "halo number 699 is done\n",
      "faceon has failed, trying backup\n",
      "hyb backup has failed\n",
      "ssc backup has failed\n",
      "com backup has failed\n",
      "pot backup has failed\n",
      "all backups have failed\n",
      "halo number 700 is done\n",
      "faceon has failed, trying backup\n"
     ]
    },
    {
     "name": "stderr",
     "output_type": "stream",
     "text": [
      "pynbody.analysis.profile : Profile v_circ -- this routine assumes the disk is in the x-y plane\n"
     ]
    },
    {
     "name": "stdout",
     "output_type": "stream",
     "text": [
      "halo number 701 is done\n",
      "faceon has failed, trying backup\n"
     ]
    },
    {
     "name": "stderr",
     "output_type": "stream",
     "text": [
      "pynbody.analysis.profile : Profile v_circ -- this routine assumes the disk is in the x-y plane\n"
     ]
    },
    {
     "name": "stdout",
     "output_type": "stream",
     "text": [
      "halo number 702 is done\n",
      "faceon has failed, trying backup\n",
      "hyb backup has failed\n",
      "ssc backup has failed\n"
     ]
    },
    {
     "name": "stderr",
     "output_type": "stream",
     "text": [
      "pynbody.analysis.profile : Profile v_circ -- this routine assumes the disk is in the x-y plane\n"
     ]
    },
    {
     "name": "stdout",
     "output_type": "stream",
     "text": [
      "halo number 703 is done\n",
      "faceon has failed, trying backup\n",
      "hyb backup has failed\n",
      "ssc backup has failed\n",
      "com backup has failed\n",
      "pot backup has failed\n",
      "all backups have failed\n",
      "halo number 704 is done\n",
      "faceon has failed, trying backup\n",
      "hyb backup has failed\n",
      "ssc backup has failed\n",
      "com backup has failed\n",
      "pot backup has failed\n",
      "all backups have failed\n",
      "halo number 705 is done\n",
      "faceon has failed, trying backup\n",
      "hyb backup has failed\n",
      "ssc backup has failed\n",
      "com backup has failed\n",
      "pot backup has failed\n",
      "all backups have failed\n",
      "halo number 706 is done\n",
      "faceon has failed, trying backup\n",
      "hyb backup has failed\n",
      "ssc backup has failed\n",
      "com backup has failed\n",
      "pot backup has failed\n",
      "all backups have failed\n",
      "halo number 707 is done\n",
      "faceon has failed, trying backup\n",
      "hyb backup has failed\n",
      "ssc backup has failed\n",
      "com backup has failed\n",
      "pot backup has failed\n",
      "all backups have failed\n",
      "halo number 708 is done\n",
      "faceon has failed, trying backup\n",
      "hyb backup has failed\n",
      "ssc backup has failed\n"
     ]
    },
    {
     "name": "stderr",
     "output_type": "stream",
     "text": [
      "pynbody.analysis.profile : Profile v_circ -- this routine assumes the disk is in the x-y plane\n"
     ]
    },
    {
     "name": "stdout",
     "output_type": "stream",
     "text": [
      "halo number 709 is done\n",
      "faceon has failed, trying backup\n",
      "hyb backup has failed\n",
      "ssc backup has failed\n"
     ]
    },
    {
     "name": "stderr",
     "output_type": "stream",
     "text": [
      "pynbody.analysis.profile : Profile v_circ -- this routine assumes the disk is in the x-y plane\n"
     ]
    },
    {
     "name": "stdout",
     "output_type": "stream",
     "text": [
      "halo number 710 is done\n",
      "faceon has failed, trying backup\n",
      "hyb backup has failed\n",
      "ssc backup has failed\n",
      "com backup has failed\n",
      "pot backup has failed\n",
      "all backups have failed\n",
      "halo number 711 is done\n",
      "faceon has failed, trying backup\n"
     ]
    },
    {
     "name": "stderr",
     "output_type": "stream",
     "text": [
      "pynbody.analysis.profile : Profile v_circ -- this routine assumes the disk is in the x-y plane\n"
     ]
    },
    {
     "name": "stdout",
     "output_type": "stream",
     "text": [
      "halo number 712 is done\n",
      "faceon has failed, trying backup\n"
     ]
    },
    {
     "name": "stderr",
     "output_type": "stream",
     "text": [
      "pynbody.analysis.profile : Profile v_circ -- this routine assumes the disk is in the x-y plane\n"
     ]
    },
    {
     "name": "stdout",
     "output_type": "stream",
     "text": [
      "halo number 713 is done\n",
      "faceon has failed, trying backup\n"
     ]
    },
    {
     "name": "stderr",
     "output_type": "stream",
     "text": [
      "pynbody.analysis.profile : Profile v_circ -- this routine assumes the disk is in the x-y plane\n"
     ]
    },
    {
     "name": "stdout",
     "output_type": "stream",
     "text": [
      "halo number 714 is done\n",
      "faceon has failed, trying backup\n",
      "hyb backup has failed\n",
      "ssc backup has failed\n"
     ]
    },
    {
     "name": "stderr",
     "output_type": "stream",
     "text": [
      "pynbody.analysis.profile : Profile v_circ -- this routine assumes the disk is in the x-y plane\n"
     ]
    },
    {
     "name": "stdout",
     "output_type": "stream",
     "text": [
      "halo number 715 is done\n",
      "faceon has failed, trying backup\n"
     ]
    },
    {
     "name": "stderr",
     "output_type": "stream",
     "text": [
      "pynbody.analysis.profile : Profile v_circ -- this routine assumes the disk is in the x-y plane\n"
     ]
    },
    {
     "name": "stdout",
     "output_type": "stream",
     "text": [
      "halo number 716 is done\n",
      "faceon has failed, trying backup\n",
      "hyb backup has failed\n",
      "ssc backup has failed\n"
     ]
    },
    {
     "name": "stderr",
     "output_type": "stream",
     "text": [
      "pynbody.analysis.profile : Profile v_circ -- this routine assumes the disk is in the x-y plane\n"
     ]
    },
    {
     "name": "stdout",
     "output_type": "stream",
     "text": [
      "halo number 717 is done\n",
      "faceon has failed, trying backup\n",
      "hyb backup has failed\n",
      "ssc backup has failed\n"
     ]
    },
    {
     "name": "stderr",
     "output_type": "stream",
     "text": [
      "pynbody.analysis.profile : Profile v_circ -- this routine assumes the disk is in the x-y plane\n"
     ]
    },
    {
     "name": "stdout",
     "output_type": "stream",
     "text": [
      "halo number 718 is done\n",
      "faceon has failed, trying backup\n",
      "hyb backup has failed\n",
      "ssc backup has failed\n",
      "com backup has failed\n",
      "pot backup has failed\n",
      "all backups have failed\n",
      "halo number 719 is done\n",
      "faceon has failed, trying backup\n",
      "hyb backup has failed\n",
      "ssc backup has failed\n"
     ]
    },
    {
     "name": "stderr",
     "output_type": "stream",
     "text": [
      "pynbody.analysis.profile : Profile v_circ -- this routine assumes the disk is in the x-y plane\n"
     ]
    },
    {
     "name": "stdout",
     "output_type": "stream",
     "text": [
      "halo number 720 is done\n",
      "faceon has failed, trying backup\n"
     ]
    },
    {
     "name": "stderr",
     "output_type": "stream",
     "text": [
      "pynbody.analysis.profile : Profile v_circ -- this routine assumes the disk is in the x-y plane\n"
     ]
    },
    {
     "name": "stdout",
     "output_type": "stream",
     "text": [
      "hyb backup has failed\n",
      "halo number 721 is done\n",
      "faceon has failed, trying backup\n"
     ]
    },
    {
     "name": "stderr",
     "output_type": "stream",
     "text": [
      "pynbody.analysis.profile : Profile v_circ -- this routine assumes the disk is in the x-y plane\n"
     ]
    },
    {
     "name": "stdout",
     "output_type": "stream",
     "text": [
      "halo number 722 is done\n",
      "faceon has failed, trying backup\n"
     ]
    },
    {
     "name": "stderr",
     "output_type": "stream",
     "text": [
      "pynbody.analysis.profile : Profile v_circ -- this routine assumes the disk is in the x-y plane\n"
     ]
    },
    {
     "name": "stdout",
     "output_type": "stream",
     "text": [
      "halo number 723 is done\n",
      "faceon has failed, trying backup\n",
      "hyb backup has failed\n",
      "ssc backup has failed\n"
     ]
    },
    {
     "name": "stderr",
     "output_type": "stream",
     "text": [
      "pynbody.analysis.profile : Profile v_circ -- this routine assumes the disk is in the x-y plane\n"
     ]
    },
    {
     "name": "stdout",
     "output_type": "stream",
     "text": [
      "halo number 724 is done\n",
      "faceon has failed, trying backup\n"
     ]
    },
    {
     "name": "stderr",
     "output_type": "stream",
     "text": [
      "pynbody.analysis.profile : Profile v_circ -- this routine assumes the disk is in the x-y plane\n"
     ]
    },
    {
     "name": "stdout",
     "output_type": "stream",
     "text": [
      "halo number 725 is done\n",
      "faceon has failed, trying backup\n",
      "hyb backup has failed\n",
      "ssc backup has failed\n",
      "com backup has failed\n",
      "pot backup has failed\n",
      "all backups have failed\n",
      "halo number 726 is done\n",
      "faceon has failed, trying backup\n",
      "hyb backup has failed\n",
      "ssc backup has failed\n",
      "com backup has failed\n",
      "pot backup has failed\n",
      "all backups have failed\n",
      "halo number 727 is done\n",
      "faceon has failed, trying backup\n",
      "hyb backup has failed\n",
      "ssc backup has failed\n"
     ]
    },
    {
     "name": "stderr",
     "output_type": "stream",
     "text": [
      "pynbody.analysis.profile : Profile v_circ -- this routine assumes the disk is in the x-y plane\n"
     ]
    },
    {
     "name": "stdout",
     "output_type": "stream",
     "text": [
      "halo number 728 is done\n",
      "faceon has failed, trying backup\n"
     ]
    },
    {
     "name": "stderr",
     "output_type": "stream",
     "text": [
      "pynbody.analysis.profile : Profile v_circ -- this routine assumes the disk is in the x-y plane\n"
     ]
    },
    {
     "name": "stdout",
     "output_type": "stream",
     "text": [
      "halo number 729 is done\n",
      "faceon has failed, trying backup\n",
      "hyb backup has failed\n",
      "ssc backup has failed\n",
      "com backup has failed\n",
      "pot backup has failed\n",
      "all backups have failed\n",
      "halo number 730 is done\n",
      "faceon has failed, trying backup\n",
      "hyb backup has failed\n",
      "ssc backup has failed\n"
     ]
    },
    {
     "name": "stderr",
     "output_type": "stream",
     "text": [
      "pynbody.analysis.profile : Profile v_circ -- this routine assumes the disk is in the x-y plane\n"
     ]
    },
    {
     "name": "stdout",
     "output_type": "stream",
     "text": [
      "halo number 731 is done\n",
      "faceon has failed, trying backup\n",
      "hyb backup has failed\n",
      "ssc backup has failed\n"
     ]
    },
    {
     "name": "stderr",
     "output_type": "stream",
     "text": [
      "pynbody.analysis.profile : Profile v_circ -- this routine assumes the disk is in the x-y plane\n"
     ]
    },
    {
     "name": "stdout",
     "output_type": "stream",
     "text": [
      "halo number 732 is done\n",
      "faceon has failed, trying backup\n",
      "hyb backup has failed\n",
      "ssc backup has failed\n"
     ]
    },
    {
     "name": "stderr",
     "output_type": "stream",
     "text": [
      "pynbody.analysis.profile : Profile v_circ -- this routine assumes the disk is in the x-y plane\n"
     ]
    },
    {
     "name": "stdout",
     "output_type": "stream",
     "text": [
      "halo number 733 is done\n",
      "faceon has failed, trying backup\n",
      "hyb backup has failed\n",
      "ssc backup has failed\n",
      "com backup has failed\n",
      "pot backup has failed\n",
      "all backups have failed\n",
      "halo number 734 is done\n",
      "faceon has failed, trying backup\n",
      "hyb backup has failed\n",
      "ssc backup has failed\n",
      "com backup has failed\n",
      "pot backup has failed\n",
      "all backups have failed\n",
      "halo number 735 is done\n",
      "faceon has failed, trying backup\n",
      "hyb backup has failed\n",
      "ssc backup has failed\n"
     ]
    },
    {
     "name": "stderr",
     "output_type": "stream",
     "text": [
      "pynbody.analysis.profile : Profile v_circ -- this routine assumes the disk is in the x-y plane\n"
     ]
    },
    {
     "name": "stdout",
     "output_type": "stream",
     "text": [
      "halo number 736 is done\n",
      "faceon has failed, trying backup\n",
      "hyb backup has failed\n",
      "ssc backup has failed\n",
      "com backup has failed\n",
      "pot backup has failed\n",
      "all backups have failed\n",
      "halo number 737 is done\n",
      "faceon has failed, trying backup\n"
     ]
    },
    {
     "name": "stderr",
     "output_type": "stream",
     "text": [
      "pynbody.analysis.profile : Profile v_circ -- this routine assumes the disk is in the x-y plane\n"
     ]
    },
    {
     "name": "stdout",
     "output_type": "stream",
     "text": [
      "halo number 738 is done\n",
      "faceon has failed, trying backup\n",
      "hyb backup has failed\n",
      "ssc backup has failed\n",
      "com backup has failed\n",
      "pot backup has failed\n",
      "all backups have failed\n",
      "halo number 739 is done\n",
      "faceon has failed, trying backup\n",
      "hyb backup has failed\n",
      "ssc backup has failed\n",
      "com backup has failed\n",
      "pot backup has failed\n",
      "all backups have failed\n",
      "halo number 740 is done\n",
      "faceon has failed, trying backup\n",
      "hyb backup has failed\n",
      "ssc backup has failed\n",
      "com backup has failed\n",
      "pot backup has failed\n",
      "all backups have failed\n",
      "halo number 741 is done\n",
      "faceon has failed, trying backup\n"
     ]
    },
    {
     "name": "stderr",
     "output_type": "stream",
     "text": [
      "pynbody.analysis.profile : Profile v_circ -- this routine assumes the disk is in the x-y plane\n"
     ]
    },
    {
     "name": "stdout",
     "output_type": "stream",
     "text": [
      "halo number 742 is done\n",
      "faceon has failed, trying backup\n",
      "hyb backup has failed\n",
      "ssc backup has failed\n"
     ]
    },
    {
     "name": "stderr",
     "output_type": "stream",
     "text": [
      "pynbody.analysis.profile : Profile v_circ -- this routine assumes the disk is in the x-y plane\n"
     ]
    },
    {
     "name": "stdout",
     "output_type": "stream",
     "text": [
      "halo number 743 is done\n",
      "faceon has failed, trying backup\n",
      "hyb backup has failed\n",
      "ssc backup has failed\n",
      "com backup has failed\n",
      "pot backup has failed\n",
      "all backups have failed\n",
      "halo number 744 is done\n",
      "faceon has failed, trying backup\n",
      "hyb backup has failed\n",
      "ssc backup has failed\n",
      "com backup has failed\n",
      "pot backup has failed\n",
      "all backups have failed\n",
      "halo number 745 is done\n",
      "faceon has failed, trying backup\n",
      "hyb backup has failed\n",
      "ssc backup has failed\n"
     ]
    },
    {
     "name": "stderr",
     "output_type": "stream",
     "text": [
      "pynbody.analysis.profile : Profile v_circ -- this routine assumes the disk is in the x-y plane\n"
     ]
    },
    {
     "name": "stdout",
     "output_type": "stream",
     "text": [
      "halo number 746 is done\n",
      "faceon has failed, trying backup\n",
      "hyb backup has failed\n",
      "ssc backup has failed\n",
      "com backup has failed\n",
      "pot backup has failed\n",
      "all backups have failed\n",
      "halo number 747 is done\n",
      "faceon has failed, trying backup\n",
      "hyb backup has failed\n",
      "ssc backup has failed\n",
      "com backup has failed\n",
      "pot backup has failed\n",
      "all backups have failed\n",
      "halo number 748 is done\n",
      "faceon has failed, trying backup\n"
     ]
    },
    {
     "name": "stderr",
     "output_type": "stream",
     "text": [
      "pynbody.analysis.profile : Profile v_circ -- this routine assumes the disk is in the x-y plane\n"
     ]
    },
    {
     "name": "stdout",
     "output_type": "stream",
     "text": [
      "halo number 749 is done\n",
      "faceon has failed, trying backup\n",
      "hyb backup has failed\n",
      "ssc backup has failed\n"
     ]
    },
    {
     "name": "stderr",
     "output_type": "stream",
     "text": [
      "pynbody.analysis.profile : Profile v_circ -- this routine assumes the disk is in the x-y plane\n"
     ]
    },
    {
     "name": "stdout",
     "output_type": "stream",
     "text": [
      "halo number 750 is done\n",
      "faceon has failed, trying backup\n",
      "hyb backup has failed\n",
      "ssc backup has failed\n"
     ]
    },
    {
     "name": "stderr",
     "output_type": "stream",
     "text": [
      "pynbody.analysis.profile : Profile v_circ -- this routine assumes the disk is in the x-y plane\n"
     ]
    },
    {
     "name": "stdout",
     "output_type": "stream",
     "text": [
      "halo number 751 is done\n",
      "faceon has failed, trying backup\n",
      "hyb backup has failed\n",
      "ssc backup has failed\n",
      "com backup has failed\n",
      "pot backup has failed\n",
      "all backups have failed\n",
      "halo number 752 is done\n",
      "faceon has failed, trying backup\n"
     ]
    },
    {
     "name": "stderr",
     "output_type": "stream",
     "text": [
      "pynbody.analysis.profile : Profile v_circ -- this routine assumes the disk is in the x-y plane\n"
     ]
    },
    {
     "name": "stdout",
     "output_type": "stream",
     "text": [
      "halo number 753 is done\n",
      "faceon has failed, trying backup\n",
      "hyb backup has failed\n",
      "ssc backup has failed\n",
      "com backup has failed\n",
      "pot backup has failed\n",
      "all backups have failed\n",
      "halo number 754 is done\n",
      "faceon has failed, trying backup\n",
      "hyb backup has failed\n",
      "ssc backup has failed\n"
     ]
    },
    {
     "name": "stderr",
     "output_type": "stream",
     "text": [
      "pynbody.analysis.profile : Profile v_circ -- this routine assumes the disk is in the x-y plane\n"
     ]
    },
    {
     "name": "stdout",
     "output_type": "stream",
     "text": [
      "halo number 755 is done\n",
      "faceon has failed, trying backup\n"
     ]
    },
    {
     "name": "stderr",
     "output_type": "stream",
     "text": [
      "pynbody.analysis.profile : Profile v_circ -- this routine assumes the disk is in the x-y plane\n"
     ]
    },
    {
     "name": "stdout",
     "output_type": "stream",
     "text": [
      "halo number 756 is done\n",
      "faceon has failed, trying backup\n"
     ]
    },
    {
     "name": "stderr",
     "output_type": "stream",
     "text": [
      "pynbody.analysis.profile : Profile v_circ -- this routine assumes the disk is in the x-y plane\n"
     ]
    },
    {
     "name": "stdout",
     "output_type": "stream",
     "text": [
      "halo number 757 is done\n",
      "faceon has failed, trying backup\n",
      "hyb backup has failed\n",
      "ssc backup has failed\n",
      "com backup has failed\n",
      "pot backup has failed\n",
      "all backups have failed\n",
      "halo number 758 is done\n",
      "faceon has failed, trying backup\n",
      "hyb backup has failed\n",
      "ssc backup has failed\n"
     ]
    },
    {
     "name": "stderr",
     "output_type": "stream",
     "text": [
      "pynbody.analysis.profile : Profile v_circ -- this routine assumes the disk is in the x-y plane\n"
     ]
    },
    {
     "name": "stdout",
     "output_type": "stream",
     "text": [
      "halo number 759 is done\n",
      "faceon has failed, trying backup\n",
      "hyb backup has failed\n",
      "ssc backup has failed\n",
      "com backup has failed\n",
      "pot backup has failed\n",
      "all backups have failed\n",
      "halo number 760 is done\n",
      "faceon has failed, trying backup\n",
      "hyb backup has failed\n",
      "ssc backup has failed\n",
      "com backup has failed\n",
      "pot backup has failed\n",
      "all backups have failed\n",
      "halo number 761 is done\n",
      "faceon has failed, trying backup\n",
      "hyb backup has failed\n",
      "ssc backup has failed\n"
     ]
    },
    {
     "name": "stderr",
     "output_type": "stream",
     "text": [
      "pynbody.analysis.profile : Profile v_circ -- this routine assumes the disk is in the x-y plane\n"
     ]
    },
    {
     "name": "stdout",
     "output_type": "stream",
     "text": [
      "halo number 762 is done\n",
      "faceon has failed, trying backup\n"
     ]
    },
    {
     "name": "stderr",
     "output_type": "stream",
     "text": [
      "pynbody.analysis.profile : Profile v_circ -- this routine assumes the disk is in the x-y plane\n"
     ]
    },
    {
     "name": "stdout",
     "output_type": "stream",
     "text": [
      "halo number 763 is done\n",
      "faceon has failed, trying backup\n"
     ]
    },
    {
     "name": "stderr",
     "output_type": "stream",
     "text": [
      "pynbody.analysis.profile : Profile v_circ -- this routine assumes the disk is in the x-y plane\n"
     ]
    },
    {
     "name": "stdout",
     "output_type": "stream",
     "text": [
      "halo number 764 is done\n",
      "faceon has failed, trying backup\n"
     ]
    },
    {
     "name": "stderr",
     "output_type": "stream",
     "text": [
      "pynbody.analysis.profile : Profile v_circ -- this routine assumes the disk is in the x-y plane\n"
     ]
    },
    {
     "name": "stdout",
     "output_type": "stream",
     "text": [
      "halo number 765 is done\n",
      "faceon has failed, trying backup\n"
     ]
    },
    {
     "name": "stderr",
     "output_type": "stream",
     "text": [
      "pynbody.analysis.profile : Profile v_circ -- this routine assumes the disk is in the x-y plane\n"
     ]
    },
    {
     "name": "stdout",
     "output_type": "stream",
     "text": [
      "halo number 766 is done\n",
      "faceon has failed, trying backup\n"
     ]
    },
    {
     "name": "stderr",
     "output_type": "stream",
     "text": [
      "pynbody.analysis.profile : Profile v_circ -- this routine assumes the disk is in the x-y plane\n"
     ]
    },
    {
     "name": "stdout",
     "output_type": "stream",
     "text": [
      "halo number 767 is done\n",
      "faceon has failed, trying backup\n",
      "hyb backup has failed\n",
      "ssc backup has failed\n"
     ]
    },
    {
     "name": "stderr",
     "output_type": "stream",
     "text": [
      "pynbody.analysis.profile : Profile v_circ -- this routine assumes the disk is in the x-y plane\n"
     ]
    },
    {
     "name": "stdout",
     "output_type": "stream",
     "text": [
      "halo number 768 is done\n",
      "faceon has failed, trying backup\n",
      "hyb backup has failed\n",
      "ssc backup has failed\n"
     ]
    },
    {
     "name": "stderr",
     "output_type": "stream",
     "text": [
      "pynbody.analysis.profile : Profile v_circ -- this routine assumes the disk is in the x-y plane\n"
     ]
    },
    {
     "name": "stdout",
     "output_type": "stream",
     "text": [
      "halo number 769 is done\n",
      "faceon has failed, trying backup\n",
      "hyb backup has failed\n",
      "ssc backup has failed\n"
     ]
    },
    {
     "name": "stderr",
     "output_type": "stream",
     "text": [
      "pynbody.analysis.profile : Profile v_circ -- this routine assumes the disk is in the x-y plane\n"
     ]
    },
    {
     "name": "stdout",
     "output_type": "stream",
     "text": [
      "halo number 770 is done\n",
      "faceon has failed, trying backup\n",
      "hyb backup has failed\n",
      "ssc backup has failed\n"
     ]
    },
    {
     "name": "stderr",
     "output_type": "stream",
     "text": [
      "pynbody.analysis.profile : Profile v_circ -- this routine assumes the disk is in the x-y plane\n"
     ]
    },
    {
     "name": "stdout",
     "output_type": "stream",
     "text": [
      "halo number 771 is done\n",
      "faceon has failed, trying backup\n"
     ]
    },
    {
     "name": "stderr",
     "output_type": "stream",
     "text": [
      "pynbody.analysis.profile : Profile v_circ -- this routine assumes the disk is in the x-y plane\n"
     ]
    },
    {
     "name": "stdout",
     "output_type": "stream",
     "text": [
      "halo number 772 is done\n",
      "faceon has failed, trying backup\n",
      "hyb backup has failed\n",
      "ssc backup has failed\n"
     ]
    },
    {
     "name": "stderr",
     "output_type": "stream",
     "text": [
      "pynbody.analysis.profile : Profile v_circ -- this routine assumes the disk is in the x-y plane\n"
     ]
    },
    {
     "name": "stdout",
     "output_type": "stream",
     "text": [
      "halo number 773 is done\n",
      "faceon has failed, trying backup\n",
      "hyb backup has failed\n",
      "ssc backup has failed\n",
      "com backup has failed\n",
      "pot backup has failed\n",
      "all backups have failed\n",
      "halo number 774 is done\n",
      "faceon has failed, trying backup\n"
     ]
    },
    {
     "name": "stderr",
     "output_type": "stream",
     "text": [
      "pynbody.analysis.profile : Profile v_circ -- this routine assumes the disk is in the x-y plane\n"
     ]
    },
    {
     "name": "stdout",
     "output_type": "stream",
     "text": [
      "halo number 775 is done\n",
      "faceon has failed, trying backup\n",
      "hyb backup has failed\n",
      "ssc backup has failed\n"
     ]
    },
    {
     "name": "stderr",
     "output_type": "stream",
     "text": [
      "pynbody.analysis.profile : Profile v_circ -- this routine assumes the disk is in the x-y plane\n"
     ]
    },
    {
     "name": "stdout",
     "output_type": "stream",
     "text": [
      "halo number 776 is done\n",
      "faceon has failed, trying backup\n",
      "hyb backup has failed\n",
      "ssc backup has failed\n",
      "com backup has failed\n",
      "pot backup has failed\n",
      "all backups have failed\n",
      "halo number 777 is done\n",
      "faceon has failed, trying backup\n",
      "hyb backup has failed\n",
      "ssc backup has failed\n",
      "com backup has failed\n",
      "pot backup has failed\n",
      "all backups have failed\n",
      "halo number 778 is done\n",
      "faceon has failed, trying backup\n",
      "hyb backup has failed\n",
      "ssc backup has failed\n"
     ]
    },
    {
     "name": "stderr",
     "output_type": "stream",
     "text": [
      "pynbody.analysis.profile : Profile v_circ -- this routine assumes the disk is in the x-y plane\n"
     ]
    },
    {
     "name": "stdout",
     "output_type": "stream",
     "text": [
      "halo number 779 is done\n",
      "faceon has failed, trying backup\n"
     ]
    },
    {
     "name": "stderr",
     "output_type": "stream",
     "text": [
      "pynbody.analysis.profile : Profile v_circ -- this routine assumes the disk is in the x-y plane\n"
     ]
    },
    {
     "name": "stdout",
     "output_type": "stream",
     "text": [
      "halo number 780 is done\n",
      "faceon has failed, trying backup\n",
      "hyb backup has failed\n",
      "ssc backup has failed\n"
     ]
    },
    {
     "name": "stderr",
     "output_type": "stream",
     "text": [
      "pynbody.analysis.profile : Profile v_circ -- this routine assumes the disk is in the x-y plane\n"
     ]
    },
    {
     "name": "stdout",
     "output_type": "stream",
     "text": [
      "halo number 781 is done\n",
      "faceon has failed, trying backup\n",
      "hyb backup has failed\n",
      "ssc backup has failed\n",
      "com backup has failed\n",
      "pot backup has failed\n",
      "all backups have failed\n",
      "halo number 782 is done\n",
      "faceon has failed, trying backup\n"
     ]
    },
    {
     "name": "stderr",
     "output_type": "stream",
     "text": [
      "pynbody.analysis.profile : Profile v_circ -- this routine assumes the disk is in the x-y plane\n"
     ]
    },
    {
     "name": "stdout",
     "output_type": "stream",
     "text": [
      "halo number 783 is done\n",
      "faceon has failed, trying backup\n",
      "hyb backup has failed\n",
      "ssc backup has failed\n",
      "com backup has failed\n",
      "pot backup has failed\n",
      "all backups have failed\n",
      "halo number 784 is done\n",
      "faceon has failed, trying backup\n"
     ]
    },
    {
     "name": "stderr",
     "output_type": "stream",
     "text": [
      "pynbody.analysis.profile : Profile v_circ -- this routine assumes the disk is in the x-y plane\n"
     ]
    },
    {
     "name": "stdout",
     "output_type": "stream",
     "text": [
      "halo number 785 is done\n",
      "faceon has failed, trying backup\n",
      "hyb backup has failed\n",
      "ssc backup has failed\n",
      "com backup has failed\n",
      "pot backup has failed\n",
      "all backups have failed\n",
      "halo number 786 is done\n",
      "faceon has failed, trying backup\n",
      "hyb backup has failed\n",
      "ssc backup has failed\n",
      "com backup has failed\n",
      "pot backup has failed\n",
      "all backups have failed\n",
      "halo number 787 is done\n",
      "faceon has failed, trying backup\n",
      "hyb backup has failed\n",
      "ssc backup has failed\n"
     ]
    },
    {
     "name": "stderr",
     "output_type": "stream",
     "text": [
      "pynbody.analysis.profile : Profile v_circ -- this routine assumes the disk is in the x-y plane\n"
     ]
    },
    {
     "name": "stdout",
     "output_type": "stream",
     "text": [
      "halo number 788 is done\n",
      "faceon has failed, trying backup\n"
     ]
    },
    {
     "name": "stderr",
     "output_type": "stream",
     "text": [
      "pynbody.analysis.profile : Profile v_circ -- this routine assumes the disk is in the x-y plane\n"
     ]
    },
    {
     "name": "stdout",
     "output_type": "stream",
     "text": [
      "halo number 789 is done\n",
      "faceon has failed, trying backup\n",
      "hyb backup has failed\n",
      "ssc backup has failed\n",
      "com backup has failed\n",
      "pot backup has failed\n",
      "all backups have failed\n",
      "halo number 790 is done\n",
      "faceon has failed, trying backup\n",
      "hyb backup has failed\n",
      "ssc backup has failed\n",
      "com backup has failed\n",
      "pot backup has failed\n",
      "all backups have failed\n",
      "halo number 791 is done\n",
      "faceon has failed, trying backup\n",
      "hyb backup has failed\n",
      "ssc backup has failed\n"
     ]
    },
    {
     "name": "stderr",
     "output_type": "stream",
     "text": [
      "pynbody.analysis.profile : Profile v_circ -- this routine assumes the disk is in the x-y plane\n"
     ]
    },
    {
     "name": "stdout",
     "output_type": "stream",
     "text": [
      "halo number 792 is done\n",
      "faceon has failed, trying backup\n",
      "hyb backup has failed\n",
      "ssc backup has failed\n"
     ]
    },
    {
     "name": "stderr",
     "output_type": "stream",
     "text": [
      "pynbody.analysis.profile : Profile v_circ -- this routine assumes the disk is in the x-y plane\n"
     ]
    },
    {
     "name": "stdout",
     "output_type": "stream",
     "text": [
      "halo number 793 is done\n",
      "faceon has failed, trying backup\n",
      "hyb backup has failed\n",
      "ssc backup has failed\n"
     ]
    },
    {
     "name": "stderr",
     "output_type": "stream",
     "text": [
      "pynbody.analysis.profile : Profile v_circ -- this routine assumes the disk is in the x-y plane\n"
     ]
    },
    {
     "name": "stdout",
     "output_type": "stream",
     "text": [
      "halo number 794 is done\n",
      "faceon has failed, trying backup\n"
     ]
    },
    {
     "name": "stderr",
     "output_type": "stream",
     "text": [
      "pynbody.analysis.profile : Profile v_circ -- this routine assumes the disk is in the x-y plane\n"
     ]
    },
    {
     "name": "stdout",
     "output_type": "stream",
     "text": [
      "halo number 795 is done\n",
      "faceon has failed, trying backup\n",
      "hyb backup has failed\n",
      "ssc backup has failed\n",
      "com backup has failed\n",
      "pot backup has failed\n",
      "all backups have failed\n",
      "halo number 796 is done\n",
      "faceon has failed, trying backup\n",
      "hyb backup has failed\n",
      "ssc backup has failed\n"
     ]
    },
    {
     "name": "stderr",
     "output_type": "stream",
     "text": [
      "pynbody.analysis.profile : Profile v_circ -- this routine assumes the disk is in the x-y plane\n"
     ]
    },
    {
     "name": "stdout",
     "output_type": "stream",
     "text": [
      "halo number 797 is done\n",
      "faceon has failed, trying backup\n",
      "hyb backup has failed\n",
      "ssc backup has failed\n",
      "com backup has failed\n",
      "pot backup has failed\n",
      "all backups have failed\n",
      "halo number 798 is done\n",
      "faceon has failed, trying backup\n"
     ]
    },
    {
     "name": "stderr",
     "output_type": "stream",
     "text": [
      "pynbody.analysis.profile : Profile v_circ -- this routine assumes the disk is in the x-y plane\n"
     ]
    },
    {
     "name": "stdout",
     "output_type": "stream",
     "text": [
      "halo number 799 is done\n",
      "faceon has failed, trying backup\n"
     ]
    },
    {
     "name": "stderr",
     "output_type": "stream",
     "text": [
      "pynbody.analysis.profile : Profile v_circ -- this routine assumes the disk is in the x-y plane\n"
     ]
    },
    {
     "name": "stdout",
     "output_type": "stream",
     "text": [
      "halo number 800 is done\n",
      "faceon has failed, trying backup\n",
      "hyb backup has failed\n",
      "ssc backup has failed\n",
      "com backup has failed\n",
      "pot backup has failed\n",
      "all backups have failed\n",
      "halo number 801 is done\n",
      "faceon has failed, trying backup\n",
      "hyb backup has failed\n",
      "ssc backup has failed\n",
      "com backup has failed\n",
      "pot backup has failed\n",
      "all backups have failed\n",
      "halo number 802 is done\n",
      "faceon has failed, trying backup\n",
      "hyb backup has failed\n",
      "ssc backup has failed\n",
      "com backup has failed\n",
      "pot backup has failed\n",
      "all backups have failed\n",
      "halo number 803 is done\n",
      "faceon has failed, trying backup\n",
      "hyb backup has failed\n",
      "ssc backup has failed\n"
     ]
    },
    {
     "name": "stderr",
     "output_type": "stream",
     "text": [
      "pynbody.analysis.profile : Profile v_circ -- this routine assumes the disk is in the x-y plane\n"
     ]
    },
    {
     "name": "stdout",
     "output_type": "stream",
     "text": [
      "halo number 804 is done\n",
      "faceon has failed, trying backup\n"
     ]
    },
    {
     "name": "stderr",
     "output_type": "stream",
     "text": [
      "pynbody.analysis.profile : Profile v_circ -- this routine assumes the disk is in the x-y plane\n"
     ]
    },
    {
     "name": "stdout",
     "output_type": "stream",
     "text": [
      "halo number 805 is done\n",
      "faceon has failed, trying backup\n"
     ]
    },
    {
     "name": "stderr",
     "output_type": "stream",
     "text": [
      "pynbody.analysis.profile : Profile v_circ -- this routine assumes the disk is in the x-y plane\n"
     ]
    },
    {
     "name": "stdout",
     "output_type": "stream",
     "text": [
      "halo number 806 is done\n",
      "faceon has failed, trying backup\n",
      "hyb backup has failed\n",
      "ssc backup has failed\n",
      "com backup has failed\n",
      "pot backup has failed\n",
      "all backups have failed\n",
      "halo number 807 is done\n",
      "faceon has failed, trying backup\n",
      "hyb backup has failed\n",
      "ssc backup has failed\n"
     ]
    },
    {
     "name": "stderr",
     "output_type": "stream",
     "text": [
      "pynbody.analysis.profile : Profile v_circ -- this routine assumes the disk is in the x-y plane\n"
     ]
    },
    {
     "name": "stdout",
     "output_type": "stream",
     "text": [
      "halo number 808 is done\n",
      "faceon has failed, trying backup\n",
      "hyb backup has failed\n",
      "ssc backup has failed\n",
      "com backup has failed\n",
      "pot backup has failed\n",
      "all backups have failed\n",
      "halo number 809 is done\n",
      "faceon has failed, trying backup\n",
      "hyb backup has failed\n",
      "ssc backup has failed\n"
     ]
    },
    {
     "name": "stderr",
     "output_type": "stream",
     "text": [
      "pynbody.analysis.profile : Profile v_circ -- this routine assumes the disk is in the x-y plane\n"
     ]
    },
    {
     "name": "stdout",
     "output_type": "stream",
     "text": [
      "halo number 810 is done\n",
      "faceon has failed, trying backup\n",
      "hyb backup has failed\n",
      "ssc backup has failed\n",
      "com backup has failed\n",
      "pot backup has failed\n",
      "all backups have failed\n",
      "halo number 811 is done\n",
      "faceon has failed, trying backup\n",
      "hyb backup has failed\n",
      "ssc backup has failed\n"
     ]
    },
    {
     "name": "stderr",
     "output_type": "stream",
     "text": [
      "pynbody.analysis.profile : Profile v_circ -- this routine assumes the disk is in the x-y plane\n"
     ]
    },
    {
     "name": "stdout",
     "output_type": "stream",
     "text": [
      "halo number 812 is done\n",
      "faceon has failed, trying backup\n"
     ]
    },
    {
     "name": "stderr",
     "output_type": "stream",
     "text": [
      "pynbody.analysis.profile : Profile v_circ -- this routine assumes the disk is in the x-y plane\n"
     ]
    },
    {
     "name": "stdout",
     "output_type": "stream",
     "text": [
      "halo number 813 is done\n",
      "faceon has failed, trying backup\n",
      "hyb backup has failed\n",
      "ssc backup has failed\n",
      "com backup has failed\n",
      "pot backup has failed\n",
      "all backups have failed\n",
      "halo number 814 is done\n",
      "faceon has failed, trying backup\n",
      "hyb backup has failed\n",
      "ssc backup has failed\n"
     ]
    },
    {
     "name": "stderr",
     "output_type": "stream",
     "text": [
      "pynbody.analysis.profile : Profile v_circ -- this routine assumes the disk is in the x-y plane\n"
     ]
    },
    {
     "name": "stdout",
     "output_type": "stream",
     "text": [
      "halo number 815 is done\n",
      "faceon has failed, trying backup\n",
      "hyb backup has failed\n",
      "ssc backup has failed\n",
      "com backup has failed\n",
      "pot backup has failed\n",
      "all backups have failed\n",
      "halo number 816 is done\n",
      "faceon has failed, trying backup\n",
      "hyb backup has failed\n",
      "ssc backup has failed\n",
      "com backup has failed\n",
      "pot backup has failed\n",
      "all backups have failed\n",
      "halo number 817 is done\n",
      "faceon has failed, trying backup\n"
     ]
    },
    {
     "name": "stderr",
     "output_type": "stream",
     "text": [
      "pynbody.analysis.profile : Profile v_circ -- this routine assumes the disk is in the x-y plane\n"
     ]
    },
    {
     "name": "stdout",
     "output_type": "stream",
     "text": [
      "hyb backup has failed\n",
      "ssc backup has failed\n",
      "halo number 818 is done\n",
      "faceon has failed, trying backup\n",
      "hyb backup has failed\n",
      "ssc backup has failed\n",
      "com backup has failed\n",
      "pot backup has failed\n",
      "all backups have failed\n",
      "halo number 819 is done\n",
      "faceon has failed, trying backup\n",
      "hyb backup has failed\n",
      "ssc backup has failed\n",
      "com backup has failed\n",
      "pot backup has failed\n",
      "all backups have failed\n",
      "halo number 820 is done\n",
      "faceon has failed, trying backup\n",
      "hyb backup has failed\n",
      "ssc backup has failed\n",
      "com backup has failed\n",
      "pot backup has failed\n",
      "all backups have failed\n",
      "halo number 821 is done\n",
      "faceon has failed, trying backup\n",
      "hyb backup has failed\n",
      "ssc backup has failed\n"
     ]
    },
    {
     "name": "stderr",
     "output_type": "stream",
     "text": [
      "pynbody.analysis.profile : Profile v_circ -- this routine assumes the disk is in the x-y plane\n"
     ]
    },
    {
     "name": "stdout",
     "output_type": "stream",
     "text": [
      "halo number 822 is done\n",
      "faceon has failed, trying backup\n",
      "hyb backup has failed\n",
      "ssc backup has failed\n"
     ]
    },
    {
     "name": "stderr",
     "output_type": "stream",
     "text": [
      "pynbody.analysis.profile : Profile v_circ -- this routine assumes the disk is in the x-y plane\n"
     ]
    },
    {
     "name": "stdout",
     "output_type": "stream",
     "text": [
      "halo number 823 is done\n",
      "faceon has failed, trying backup\n",
      "hyb backup has failed\n",
      "ssc backup has failed\n",
      "com backup has failed\n",
      "pot backup has failed\n",
      "all backups have failed\n",
      "halo number 824 is done\n",
      "faceon has failed, trying backup\n",
      "hyb backup has failed\n",
      "ssc backup has failed\n",
      "com backup has failed\n",
      "pot backup has failed\n",
      "all backups have failed\n",
      "halo number 825 is done\n",
      "faceon has failed, trying backup\n",
      "hyb backup has failed\n",
      "ssc backup has failed\n"
     ]
    },
    {
     "name": "stderr",
     "output_type": "stream",
     "text": [
      "pynbody.analysis.profile : Profile v_circ -- this routine assumes the disk is in the x-y plane\n"
     ]
    },
    {
     "name": "stdout",
     "output_type": "stream",
     "text": [
      "halo number 826 is done\n",
      "faceon has failed, trying backup\n",
      "hyb backup has failed\n",
      "ssc backup has failed\n",
      "com backup has failed\n",
      "pot backup has failed\n",
      "all backups have failed\n",
      "halo number 827 is done\n",
      "faceon has failed, trying backup\n",
      "hyb backup has failed\n",
      "ssc backup has failed\n",
      "com backup has failed\n",
      "pot backup has failed\n",
      "all backups have failed\n",
      "halo number 828 is done\n",
      "faceon has failed, trying backup\n",
      "hyb backup has failed\n",
      "ssc backup has failed\n",
      "com backup has failed\n",
      "pot backup has failed\n",
      "all backups have failed\n",
      "halo number 829 is done\n",
      "faceon has failed, trying backup\n",
      "hyb backup has failed\n",
      "ssc backup has failed\n",
      "com backup has failed\n",
      "pot backup has failed\n",
      "all backups have failed\n",
      "halo number 830 is done\n",
      "faceon has failed, trying backup\n",
      "hyb backup has failed\n",
      "ssc backup has failed\n",
      "com backup has failed\n",
      "pot backup has failed\n",
      "all backups have failed\n",
      "halo number 831 is done\n",
      "faceon has failed, trying backup\n",
      "hyb backup has failed\n",
      "ssc backup has failed\n"
     ]
    },
    {
     "name": "stderr",
     "output_type": "stream",
     "text": [
      "pynbody.analysis.profile : Profile v_circ -- this routine assumes the disk is in the x-y plane\n"
     ]
    },
    {
     "name": "stdout",
     "output_type": "stream",
     "text": [
      "halo number 832 is done\n",
      "faceon has failed, trying backup\n",
      "hyb backup has failed\n",
      "ssc backup has failed\n",
      "com backup has failed\n",
      "pot backup has failed\n",
      "all backups have failed\n",
      "halo number 833 is done\n",
      "faceon has failed, trying backup\n"
     ]
    },
    {
     "name": "stderr",
     "output_type": "stream",
     "text": [
      "pynbody.analysis.profile : Profile v_circ -- this routine assumes the disk is in the x-y plane\n"
     ]
    },
    {
     "name": "stdout",
     "output_type": "stream",
     "text": [
      "halo number 834 is done\n",
      "faceon has failed, trying backup\n",
      "hyb backup has failed\n",
      "ssc backup has failed\n",
      "com backup has failed\n",
      "pot backup has failed\n",
      "all backups have failed\n",
      "halo number 835 is done\n",
      "faceon has failed, trying backup\n",
      "hyb backup has failed\n",
      "ssc backup has failed\n"
     ]
    },
    {
     "name": "stderr",
     "output_type": "stream",
     "text": [
      "pynbody.analysis.profile : Profile v_circ -- this routine assumes the disk is in the x-y plane\n"
     ]
    },
    {
     "name": "stdout",
     "output_type": "stream",
     "text": [
      "halo number 836 is done\n",
      "faceon has failed, trying backup\n",
      "hyb backup has failed\n",
      "ssc backup has failed\n"
     ]
    },
    {
     "name": "stderr",
     "output_type": "stream",
     "text": [
      "pynbody.analysis.profile : Profile v_circ -- this routine assumes the disk is in the x-y plane\n"
     ]
    },
    {
     "name": "stdout",
     "output_type": "stream",
     "text": [
      "halo number 837 is done\n",
      "faceon has failed, trying backup\n",
      "hyb backup has failed\n",
      "ssc backup has failed\n",
      "com backup has failed\n",
      "pot backup has failed\n",
      "all backups have failed\n",
      "halo number 838 is done\n",
      "faceon has failed, trying backup\n",
      "hyb backup has failed\n",
      "ssc backup has failed\n",
      "com backup has failed\n",
      "pot backup has failed\n",
      "all backups have failed\n",
      "halo number 839 is done\n",
      "faceon has failed, trying backup\n",
      "hyb backup has failed\n",
      "ssc backup has failed\n"
     ]
    },
    {
     "name": "stderr",
     "output_type": "stream",
     "text": [
      "pynbody.analysis.profile : Profile v_circ -- this routine assumes the disk is in the x-y plane\n"
     ]
    },
    {
     "name": "stdout",
     "output_type": "stream",
     "text": [
      "halo number 840 is done\n",
      "faceon has failed, trying backup\n",
      "hyb backup has failed\n",
      "ssc backup has failed\n"
     ]
    },
    {
     "name": "stderr",
     "output_type": "stream",
     "text": [
      "pynbody.analysis.profile : Profile v_circ -- this routine assumes the disk is in the x-y plane\n"
     ]
    },
    {
     "name": "stdout",
     "output_type": "stream",
     "text": [
      "halo number 841 is done\n",
      "faceon has failed, trying backup\n",
      "hyb backup has failed\n",
      "ssc backup has failed\n"
     ]
    },
    {
     "name": "stderr",
     "output_type": "stream",
     "text": [
      "pynbody.analysis.profile : Profile v_circ -- this routine assumes the disk is in the x-y plane\n"
     ]
    },
    {
     "name": "stdout",
     "output_type": "stream",
     "text": [
      "halo number 842 is done\n",
      "faceon has failed, trying backup\n",
      "hyb backup has failed\n",
      "ssc backup has failed\n",
      "com backup has failed\n",
      "pot backup has failed\n",
      "all backups have failed\n",
      "halo number 843 is done\n",
      "faceon has failed, trying backup\n",
      "hyb backup has failed\n",
      "ssc backup has failed\n"
     ]
    },
    {
     "name": "stderr",
     "output_type": "stream",
     "text": [
      "pynbody.analysis.profile : Profile v_circ -- this routine assumes the disk is in the x-y plane\n"
     ]
    },
    {
     "name": "stdout",
     "output_type": "stream",
     "text": [
      "halo number 844 is done\n",
      "faceon has failed, trying backup\n",
      "hyb backup has failed\n",
      "ssc backup has failed\n",
      "com backup has failed\n",
      "pot backup has failed\n",
      "all backups have failed\n",
      "halo number 845 is done\n",
      "faceon has failed, trying backup\n",
      "hyb backup has failed\n",
      "ssc backup has failed\n"
     ]
    },
    {
     "name": "stderr",
     "output_type": "stream",
     "text": [
      "pynbody.analysis.profile : Profile v_circ -- this routine assumes the disk is in the x-y plane\n"
     ]
    },
    {
     "name": "stdout",
     "output_type": "stream",
     "text": [
      "halo number 846 is done\n",
      "faceon has failed, trying backup\n"
     ]
    },
    {
     "name": "stderr",
     "output_type": "stream",
     "text": [
      "pynbody.analysis.profile : Profile v_circ -- this routine assumes the disk is in the x-y plane\n"
     ]
    },
    {
     "name": "stdout",
     "output_type": "stream",
     "text": [
      "halo number 847 is done\n",
      "faceon has failed, trying backup\n",
      "hyb backup has failed\n",
      "ssc backup has failed\n",
      "com backup has failed\n",
      "pot backup has failed\n",
      "all backups have failed\n",
      "halo number 848 is done\n",
      "faceon has failed, trying backup\n"
     ]
    },
    {
     "name": "stderr",
     "output_type": "stream",
     "text": [
      "pynbody.analysis.profile : Profile v_circ -- this routine assumes the disk is in the x-y plane\n"
     ]
    },
    {
     "name": "stdout",
     "output_type": "stream",
     "text": [
      "halo number 849 is done\n",
      "faceon has failed, trying backup\n",
      "hyb backup has failed\n",
      "ssc backup has failed\n",
      "com backup has failed\n",
      "pot backup has failed\n",
      "all backups have failed\n",
      "halo number 850 is done\n",
      "faceon has failed, trying backup\n",
      "hyb backup has failed\n",
      "ssc backup has failed\n"
     ]
    },
    {
     "name": "stderr",
     "output_type": "stream",
     "text": [
      "pynbody.analysis.profile : Profile v_circ -- this routine assumes the disk is in the x-y plane\n"
     ]
    },
    {
     "name": "stdout",
     "output_type": "stream",
     "text": [
      "halo number 851 is done\n",
      "faceon has failed, trying backup\n"
     ]
    },
    {
     "name": "stderr",
     "output_type": "stream",
     "text": [
      "pynbody.analysis.profile : Profile v_circ -- this routine assumes the disk is in the x-y plane\n"
     ]
    },
    {
     "name": "stdout",
     "output_type": "stream",
     "text": [
      "halo number 852 is done\n",
      "faceon has failed, trying backup\n",
      "hyb backup has failed\n",
      "ssc backup has failed\n"
     ]
    },
    {
     "name": "stderr",
     "output_type": "stream",
     "text": [
      "pynbody.analysis.profile : Profile v_circ -- this routine assumes the disk is in the x-y plane\n"
     ]
    },
    {
     "name": "stdout",
     "output_type": "stream",
     "text": [
      "halo number 853 is done\n",
      "faceon has failed, trying backup\n",
      "hyb backup has failed\n",
      "ssc backup has failed\n"
     ]
    },
    {
     "name": "stderr",
     "output_type": "stream",
     "text": [
      "pynbody.analysis.profile : Profile v_circ -- this routine assumes the disk is in the x-y plane\n"
     ]
    },
    {
     "name": "stdout",
     "output_type": "stream",
     "text": [
      "halo number 854 is done\n",
      "faceon has failed, trying backup\n"
     ]
    },
    {
     "name": "stderr",
     "output_type": "stream",
     "text": [
      "pynbody.analysis.profile : Profile v_circ -- this routine assumes the disk is in the x-y plane\n"
     ]
    },
    {
     "name": "stdout",
     "output_type": "stream",
     "text": [
      "halo number 855 is done\n",
      "faceon has failed, trying backup\n",
      "hyb backup has failed\n",
      "ssc backup has failed\n",
      "com backup has failed\n",
      "pot backup has failed\n",
      "all backups have failed\n",
      "halo number 856 is done\n",
      "faceon has failed, trying backup\n",
      "hyb backup has failed\n",
      "ssc backup has failed\n",
      "com backup has failed\n",
      "pot backup has failed\n",
      "all backups have failed\n",
      "halo number 857 is done\n",
      "faceon has failed, trying backup\n",
      "hyb backup has failed\n",
      "ssc backup has failed\n",
      "com backup has failed\n",
      "pot backup has failed\n",
      "all backups have failed\n",
      "halo number 858 is done\n",
      "faceon has failed, trying backup\n",
      "hyb backup has failed\n",
      "ssc backup has failed\n",
      "com backup has failed\n",
      "pot backup has failed\n",
      "all backups have failed\n",
      "halo number 859 is done\n",
      "faceon has failed, trying backup\n",
      "hyb backup has failed\n",
      "ssc backup has failed\n",
      "com backup has failed\n",
      "pot backup has failed\n",
      "all backups have failed\n",
      "halo number 860 is done\n",
      "faceon has failed, trying backup\n",
      "hyb backup has failed\n",
      "ssc backup has failed\n",
      "com backup has failed\n",
      "pot backup has failed\n",
      "all backups have failed\n",
      "halo number 861 is done\n"
     ]
    },
    {
     "name": "stderr",
     "output_type": "stream",
     "text": [
      "pynbody.analysis.profile : Profile v_circ -- this routine assumes the disk is in the x-y plane\n"
     ]
    },
    {
     "name": "stdout",
     "output_type": "stream",
     "text": [
      "faceon has failed, trying backup\n",
      "halo number 862 is done\n",
      "faceon has failed, trying backup\n",
      "hyb backup has failed\n",
      "ssc backup has failed\n",
      "com backup has failed\n",
      "pot backup has failed\n",
      "all backups have failed\n",
      "halo number 863 is done\n",
      "faceon has failed, trying backup\n"
     ]
    },
    {
     "name": "stderr",
     "output_type": "stream",
     "text": [
      "pynbody.analysis.profile : Profile v_circ -- this routine assumes the disk is in the x-y plane\n"
     ]
    },
    {
     "name": "stdout",
     "output_type": "stream",
     "text": [
      "halo number 864 is done\n",
      "faceon has failed, trying backup\n",
      "hyb backup has failed\n",
      "ssc backup has failed\n",
      "com backup has failed\n",
      "pot backup has failed\n",
      "all backups have failed\n",
      "halo number 865 is done\n",
      "faceon has failed, trying backup\n",
      "hyb backup has failed\n",
      "ssc backup has failed\n"
     ]
    },
    {
     "name": "stderr",
     "output_type": "stream",
     "text": [
      "pynbody.analysis.profile : Profile v_circ -- this routine assumes the disk is in the x-y plane\n"
     ]
    },
    {
     "name": "stdout",
     "output_type": "stream",
     "text": [
      "halo number 866 is done\n",
      "faceon has failed, trying backup\n",
      "hyb backup has failed\n",
      "ssc backup has failed\n",
      "com backup has failed\n",
      "pot backup has failed\n",
      "all backups have failed\n",
      "halo number 867 is done\n",
      "faceon has failed, trying backup\n",
      "hyb backup has failed\n",
      "ssc backup has failed\n",
      "com backup has failed\n",
      "pot backup has failed\n",
      "all backups have failed\n",
      "halo number 868 is done\n",
      "faceon has failed, trying backup\n",
      "hyb backup has failed\n",
      "ssc backup has failed\n",
      "com backup has failed\n",
      "pot backup has failed\n",
      "all backups have failed\n",
      "halo number 869 is done\n",
      "faceon has failed, trying backup\n"
     ]
    },
    {
     "name": "stderr",
     "output_type": "stream",
     "text": [
      "pynbody.analysis.profile : Profile v_circ -- this routine assumes the disk is in the x-y plane\n"
     ]
    },
    {
     "name": "stdout",
     "output_type": "stream",
     "text": [
      "halo number 870 is done\n",
      "faceon has failed, trying backup\n",
      "hyb backup has failed\n",
      "ssc backup has failed\n",
      "com backup has failed\n",
      "pot backup has failed\n",
      "all backups have failed\n",
      "halo number 871 is done\n",
      "faceon has failed, trying backup\n"
     ]
    },
    {
     "name": "stderr",
     "output_type": "stream",
     "text": [
      "pynbody.analysis.profile : Profile v_circ -- this routine assumes the disk is in the x-y plane\n"
     ]
    },
    {
     "name": "stdout",
     "output_type": "stream",
     "text": [
      "halo number 872 is done\n",
      "faceon has failed, trying backup\n",
      "hyb backup has failed\n",
      "ssc backup has failed\n",
      "com backup has failed\n",
      "pot backup has failed\n",
      "all backups have failed\n",
      "halo number 873 is done\n",
      "faceon has failed, trying backup\n"
     ]
    },
    {
     "name": "stderr",
     "output_type": "stream",
     "text": [
      "pynbody.analysis.profile : Profile v_circ -- this routine assumes the disk is in the x-y plane\n"
     ]
    },
    {
     "name": "stdout",
     "output_type": "stream",
     "text": [
      "halo number 874 is done\n",
      "faceon has failed, trying backup\n",
      "hyb backup has failed\n",
      "ssc backup has failed\n",
      "com backup has failed\n",
      "pot backup has failed\n",
      "all backups have failed\n",
      "halo number 875 is done\n",
      "faceon has failed, trying backup\n"
     ]
    },
    {
     "name": "stderr",
     "output_type": "stream",
     "text": [
      "pynbody.analysis.profile : Profile v_circ -- this routine assumes the disk is in the x-y plane\n"
     ]
    },
    {
     "name": "stdout",
     "output_type": "stream",
     "text": [
      "hyb backup has failed\n",
      "halo number 876 is done\n",
      "faceon has failed, trying backup\n"
     ]
    },
    {
     "name": "stderr",
     "output_type": "stream",
     "text": [
      "pynbody.analysis.profile : Profile v_circ -- this routine assumes the disk is in the x-y plane\n"
     ]
    },
    {
     "name": "stdout",
     "output_type": "stream",
     "text": [
      "halo number 877 is done\n",
      "faceon has failed, trying backup\n"
     ]
    },
    {
     "name": "stderr",
     "output_type": "stream",
     "text": [
      "pynbody.analysis.profile : Profile v_circ -- this routine assumes the disk is in the x-y plane\n"
     ]
    },
    {
     "name": "stdout",
     "output_type": "stream",
     "text": [
      "halo number 878 is done\n",
      "faceon has failed, trying backup\n",
      "hyb backup has failed\n",
      "ssc backup has failed\n"
     ]
    },
    {
     "name": "stderr",
     "output_type": "stream",
     "text": [
      "pynbody.analysis.profile : Profile v_circ -- this routine assumes the disk is in the x-y plane\n"
     ]
    },
    {
     "name": "stdout",
     "output_type": "stream",
     "text": [
      "halo number 879 is done\n",
      "faceon has failed, trying backup\n",
      "hyb backup has failed\n",
      "ssc backup has failed\n"
     ]
    },
    {
     "name": "stderr",
     "output_type": "stream",
     "text": [
      "pynbody.analysis.profile : Profile v_circ -- this routine assumes the disk is in the x-y plane\n"
     ]
    },
    {
     "name": "stdout",
     "output_type": "stream",
     "text": [
      "halo number 880 is done\n",
      "faceon has failed, trying backup\n"
     ]
    },
    {
     "name": "stderr",
     "output_type": "stream",
     "text": [
      "pynbody.analysis.profile : Profile v_circ -- this routine assumes the disk is in the x-y plane\n"
     ]
    },
    {
     "name": "stdout",
     "output_type": "stream",
     "text": [
      "halo number 881 is done\n",
      "faceon has failed, trying backup\n"
     ]
    },
    {
     "name": "stderr",
     "output_type": "stream",
     "text": [
      "pynbody.analysis.profile : Profile v_circ -- this routine assumes the disk is in the x-y plane\n"
     ]
    },
    {
     "name": "stdout",
     "output_type": "stream",
     "text": [
      "halo number 882 is done\n",
      "faceon has failed, trying backup\n",
      "hyb backup has failed\n",
      "ssc backup has failed\n",
      "com backup has failed\n",
      "pot backup has failed\n",
      "all backups have failed\n",
      "halo number 883 is done\n",
      "faceon has failed, trying backup\n",
      "hyb backup has failed\n",
      "ssc backup has failed\n",
      "com backup has failed\n",
      "pot backup has failed\n",
      "all backups have failed\n",
      "halo number 884 is done\n",
      "faceon has failed, trying backup\n",
      "hyb backup has failed\n",
      "ssc backup has failed\n",
      "com backup has failed\n",
      "pot backup has failed\n",
      "all backups have failed\n",
      "halo number 885 is done\n",
      "faceon has failed, trying backup\n"
     ]
    },
    {
     "name": "stderr",
     "output_type": "stream",
     "text": [
      "pynbody.analysis.profile : Profile v_circ -- this routine assumes the disk is in the x-y plane\n"
     ]
    },
    {
     "name": "stdout",
     "output_type": "stream",
     "text": [
      "halo number 886 is done\n",
      "faceon has failed, trying backup\n",
      "hyb backup has failed\n",
      "ssc backup has failed\n",
      "com backup has failed\n",
      "pot backup has failed\n",
      "all backups have failed\n",
      "halo number 887 is done\n",
      "faceon has failed, trying backup\n"
     ]
    },
    {
     "name": "stderr",
     "output_type": "stream",
     "text": [
      "pynbody.analysis.profile : Profile v_circ -- this routine assumes the disk is in the x-y plane\n"
     ]
    },
    {
     "name": "stdout",
     "output_type": "stream",
     "text": [
      "halo number 888 is done\n",
      "faceon has failed, trying backup\n",
      "hyb backup has failed\n",
      "ssc backup has failed\n",
      "com backup has failed\n",
      "pot backup has failed\n",
      "all backups have failed\n",
      "halo number 889 is done\n",
      "faceon has failed, trying backup\n",
      "hyb backup has failed\n",
      "ssc backup has failed\n"
     ]
    },
    {
     "name": "stderr",
     "output_type": "stream",
     "text": [
      "pynbody.analysis.profile : Profile v_circ -- this routine assumes the disk is in the x-y plane\n"
     ]
    },
    {
     "name": "stdout",
     "output_type": "stream",
     "text": [
      "halo number 890 is done\n",
      "faceon has failed, trying backup\n",
      "hyb backup has failed\n",
      "ssc backup has failed\n",
      "com backup has failed\n",
      "pot backup has failed\n",
      "all backups have failed\n",
      "halo number 891 is done\n",
      "faceon has failed, trying backup\n",
      "hyb backup has failed\n",
      "ssc backup has failed\n",
      "com backup has failed\n",
      "pot backup has failed\n",
      "all backups have failed\n",
      "halo number 892 is done\n",
      "faceon has failed, trying backup\n",
      "hyb backup has failed\n",
      "ssc backup has failed\n",
      "com backup has failed\n",
      "pot backup has failed\n",
      "all backups have failed\n",
      "halo number 893 is done\n",
      "faceon has failed, trying backup\n"
     ]
    },
    {
     "name": "stderr",
     "output_type": "stream",
     "text": [
      "pynbody.analysis.profile : Profile v_circ -- this routine assumes the disk is in the x-y plane\n"
     ]
    },
    {
     "name": "stdout",
     "output_type": "stream",
     "text": [
      "halo number 894 is done\n",
      "faceon has failed, trying backup\n"
     ]
    },
    {
     "name": "stderr",
     "output_type": "stream",
     "text": [
      "pynbody.analysis.profile : Profile v_circ -- this routine assumes the disk is in the x-y plane\n"
     ]
    },
    {
     "name": "stdout",
     "output_type": "stream",
     "text": [
      "halo number 895 is done\n",
      "faceon has failed, trying backup\n",
      "hyb backup has failed\n",
      "ssc backup has failed\n",
      "com backup has failed\n",
      "pot backup has failed\n",
      "all backups have failed\n",
      "halo number 896 is done\n",
      "faceon has failed, trying backup\n"
     ]
    },
    {
     "name": "stderr",
     "output_type": "stream",
     "text": [
      "pynbody.analysis.profile : Profile v_circ -- this routine assumes the disk is in the x-y plane\n"
     ]
    },
    {
     "name": "stdout",
     "output_type": "stream",
     "text": [
      "halo number 897 is done\n",
      "faceon has failed, trying backup\n",
      "hyb backup has failed\n",
      "ssc backup has failed\n"
     ]
    },
    {
     "name": "stderr",
     "output_type": "stream",
     "text": [
      "pynbody.analysis.profile : Profile v_circ -- this routine assumes the disk is in the x-y plane\n"
     ]
    },
    {
     "name": "stdout",
     "output_type": "stream",
     "text": [
      "halo number 898 is done\n",
      "faceon has failed, trying backup\n",
      "hyb backup has failed\n",
      "ssc backup has failed\n",
      "com backup has failed\n",
      "pot backup has failed\n",
      "all backups have failed\n",
      "halo number 899 is done\n",
      "faceon has failed, trying backup\n",
      "hyb backup has failed\n",
      "ssc backup has failed\n",
      "com backup has failed\n",
      "pot backup has failed\n",
      "all backups have failed\n",
      "halo number 900 is done\n",
      "faceon has failed, trying backup\n",
      "hyb backup has failed\n",
      "ssc backup has failed\n"
     ]
    },
    {
     "name": "stderr",
     "output_type": "stream",
     "text": [
      "pynbody.analysis.profile : Profile v_circ -- this routine assumes the disk is in the x-y plane\n"
     ]
    },
    {
     "name": "stdout",
     "output_type": "stream",
     "text": [
      "halo number 901 is done\n",
      "faceon has failed, trying backup\n",
      "hyb backup has failed\n",
      "ssc backup has failed\n",
      "com backup has failed\n",
      "pot backup has failed\n",
      "all backups have failed\n",
      "halo number 902 is done\n",
      "faceon has failed, trying backup\n",
      "hyb backup has failed\n",
      "ssc backup has failed\n",
      "com backup has failed\n",
      "pot backup has failed\n",
      "all backups have failed\n",
      "halo number 903 is done\n",
      "faceon has failed, trying backup\n",
      "hyb backup has failed\n",
      "ssc backup has failed\n",
      "com backup has failed\n",
      "pot backup has failed\n",
      "all backups have failed\n",
      "halo number 904 is done\n",
      "faceon has failed, trying backup\n",
      "hyb backup has failed\n",
      "ssc backup has failed\n",
      "com backup has failed\n",
      "pot backup has failed\n",
      "all backups have failed\n",
      "halo number 905 is done\n",
      "faceon has failed, trying backup\n",
      "hyb backup has failed\n",
      "ssc backup has failed\n",
      "com backup has failed\n",
      "pot backup has failed\n",
      "all backups have failed\n",
      "halo number 906 is done\n",
      "faceon has failed, trying backup\n"
     ]
    },
    {
     "name": "stderr",
     "output_type": "stream",
     "text": [
      "pynbody.analysis.profile : Profile v_circ -- this routine assumes the disk is in the x-y plane\n"
     ]
    },
    {
     "name": "stdout",
     "output_type": "stream",
     "text": [
      "halo number 907 is done\n",
      "faceon has failed, trying backup\n",
      "hyb backup has failed\n",
      "ssc backup has failed\n",
      "com backup has failed\n",
      "pot backup has failed\n",
      "all backups have failed\n",
      "halo number 908 is done\n",
      "faceon has failed, trying backup\n",
      "hyb backup has failed\n",
      "ssc backup has failed\n",
      "com backup has failed\n",
      "pot backup has failed\n",
      "all backups have failed\n",
      "halo number 909 is done\n"
     ]
    },
    {
     "name": "stderr",
     "output_type": "stream",
     "text": [
      "pynbody.analysis.profile : Profile v_circ -- this routine assumes the disk is in the x-y plane\n"
     ]
    },
    {
     "name": "stdout",
     "output_type": "stream",
     "text": [
      "faceon has failed, trying backup\n",
      "halo number 910 is done\n",
      "faceon has failed, trying backup\n",
      "hyb backup has failed\n",
      "ssc backup has failed\n",
      "com backup has failed\n",
      "pot backup has failed\n",
      "all backups have failed\n",
      "halo number 911 is done\n",
      "faceon has failed, trying backup\n",
      "hyb backup has failed\n",
      "ssc backup has failed\n",
      "com backup has failed\n",
      "pot backup has failed\n",
      "all backups have failed\n",
      "halo number 912 is done\n",
      "faceon has failed, trying backup\n",
      "hyb backup has failed\n",
      "ssc backup has failed\n"
     ]
    },
    {
     "name": "stderr",
     "output_type": "stream",
     "text": [
      "pynbody.analysis.profile : Profile v_circ -- this routine assumes the disk is in the x-y plane\n"
     ]
    },
    {
     "name": "stdout",
     "output_type": "stream",
     "text": [
      "halo number 913 is done\n",
      "faceon has failed, trying backup\n"
     ]
    },
    {
     "name": "stderr",
     "output_type": "stream",
     "text": [
      "pynbody.analysis.profile : Profile v_circ -- this routine assumes the disk is in the x-y plane\n"
     ]
    },
    {
     "name": "stdout",
     "output_type": "stream",
     "text": [
      "halo number 914 is done\n",
      "faceon has failed, trying backup\n"
     ]
    },
    {
     "name": "stderr",
     "output_type": "stream",
     "text": [
      "pynbody.analysis.profile : Profile v_circ -- this routine assumes the disk is in the x-y plane\n"
     ]
    },
    {
     "name": "stdout",
     "output_type": "stream",
     "text": [
      "halo number 915 is done\n",
      "faceon has failed, trying backup\n",
      "hyb backup has failed\n",
      "ssc backup has failed\n",
      "com backup has failed\n",
      "pot backup has failed\n",
      "all backups have failed\n",
      "halo number 916 is done\n",
      "faceon has failed, trying backup\n",
      "hyb backup has failed\n",
      "ssc backup has failed\n",
      "com backup has failed\n",
      "pot backup has failed\n",
      "all backups have failed\n",
      "halo number 917 is done\n",
      "faceon has failed, trying backup\n",
      "hyb backup has failed\n",
      "ssc backup has failed\n",
      "com backup has failed\n",
      "pot backup has failed\n",
      "all backups have failed\n",
      "halo number 918 is done\n",
      "faceon has failed, trying backup\n",
      "hyb backup has failed\n",
      "ssc backup has failed\n"
     ]
    },
    {
     "name": "stderr",
     "output_type": "stream",
     "text": [
      "pynbody.analysis.profile : Profile v_circ -- this routine assumes the disk is in the x-y plane\n"
     ]
    },
    {
     "name": "stdout",
     "output_type": "stream",
     "text": [
      "halo number 919 is done\n",
      "faceon has failed, trying backup\n",
      "hyb backup has failed\n",
      "ssc backup has failed\n",
      "com backup has failed\n",
      "pot backup has failed\n",
      "all backups have failed\n",
      "halo number 920 is done\n",
      "faceon has failed, trying backup\n"
     ]
    },
    {
     "name": "stderr",
     "output_type": "stream",
     "text": [
      "pynbody.analysis.profile : Profile v_circ -- this routine assumes the disk is in the x-y plane\n"
     ]
    },
    {
     "name": "stdout",
     "output_type": "stream",
     "text": [
      "halo number 921 is done\n",
      "faceon has failed, trying backup\n",
      "hyb backup has failed\n",
      "ssc backup has failed\n"
     ]
    },
    {
     "name": "stderr",
     "output_type": "stream",
     "text": [
      "pynbody.analysis.profile : Profile v_circ -- this routine assumes the disk is in the x-y plane\n"
     ]
    },
    {
     "name": "stdout",
     "output_type": "stream",
     "text": [
      "halo number 922 is done\n",
      "faceon has failed, trying backup\n",
      "hyb backup has failed\n",
      "ssc backup has failed\n",
      "com backup has failed\n",
      "pot backup has failed\n",
      "all backups have failed\n",
      "halo number 923 is done\n",
      "faceon has failed, trying backup\n",
      "hyb backup has failed\n",
      "ssc backup has failed\n",
      "com backup has failed\n",
      "pot backup has failed\n",
      "all backups have failed\n",
      "halo number 924 is done\n",
      "faceon has failed, trying backup\n",
      "hyb backup has failed\n",
      "ssc backup has failed\n"
     ]
    },
    {
     "name": "stderr",
     "output_type": "stream",
     "text": [
      "pynbody.analysis.profile : Profile v_circ -- this routine assumes the disk is in the x-y plane\n"
     ]
    },
    {
     "name": "stdout",
     "output_type": "stream",
     "text": [
      "halo number 925 is done\n",
      "faceon has failed, trying backup\n",
      "hyb backup has failed\n",
      "ssc backup has failed\n"
     ]
    },
    {
     "name": "stderr",
     "output_type": "stream",
     "text": [
      "pynbody.analysis.profile : Profile v_circ -- this routine assumes the disk is in the x-y plane\n"
     ]
    },
    {
     "name": "stdout",
     "output_type": "stream",
     "text": [
      "halo number 926 is done\n",
      "faceon has failed, trying backup\n",
      "hyb backup has failed\n",
      "ssc backup has failed\n",
      "com backup has failed\n",
      "pot backup has failed\n",
      "all backups have failed\n",
      "halo number 927 is done\n",
      "faceon has failed, trying backup\n",
      "hyb backup has failed\n",
      "ssc backup has failed\n",
      "com backup has failed\n",
      "pot backup has failed\n",
      "all backups have failed\n",
      "halo number 928 is done\n",
      "faceon has failed, trying backup\n",
      "hyb backup has failed\n",
      "ssc backup has failed\n",
      "com backup has failed\n",
      "pot backup has failed\n",
      "all backups have failed\n",
      "halo number 929 is done\n",
      "faceon has failed, trying backup\n"
     ]
    },
    {
     "name": "stderr",
     "output_type": "stream",
     "text": [
      "pynbody.analysis.profile : Profile v_circ -- this routine assumes the disk is in the x-y plane\n"
     ]
    },
    {
     "name": "stdout",
     "output_type": "stream",
     "text": [
      "halo number 930 is done\n",
      "faceon has failed, trying backup\n",
      "hyb backup has failed\n",
      "ssc backup has failed\n"
     ]
    },
    {
     "name": "stderr",
     "output_type": "stream",
     "text": [
      "pynbody.analysis.profile : Profile v_circ -- this routine assumes the disk is in the x-y plane\n"
     ]
    },
    {
     "name": "stdout",
     "output_type": "stream",
     "text": [
      "halo number 931 is done\n",
      "faceon has failed, trying backup\n",
      "hyb backup has failed\n",
      "ssc backup has failed\n",
      "com backup has failed\n",
      "pot backup has failed\n",
      "all backups have failed\n",
      "halo number 932 is done\n",
      "faceon has failed, trying backup\n"
     ]
    },
    {
     "name": "stderr",
     "output_type": "stream",
     "text": [
      "pynbody.analysis.profile : Profile v_circ -- this routine assumes the disk is in the x-y plane\n"
     ]
    },
    {
     "name": "stdout",
     "output_type": "stream",
     "text": [
      "halo number 933 is done\n",
      "faceon has failed, trying backup\n",
      "hyb backup has failed\n",
      "ssc backup has failed\n",
      "com backup has failed\n",
      "pot backup has failed\n",
      "all backups have failed\n",
      "halo number 934 is done\n",
      "faceon has failed, trying backup\n",
      "hyb backup has failed\n",
      "ssc backup has failed\n"
     ]
    },
    {
     "name": "stderr",
     "output_type": "stream",
     "text": [
      "pynbody.analysis.profile : Profile v_circ -- this routine assumes the disk is in the x-y plane\n"
     ]
    },
    {
     "name": "stdout",
     "output_type": "stream",
     "text": [
      "halo number 935 is done\n",
      "faceon has failed, trying backup\n",
      "hyb backup has failed\n",
      "ssc backup has failed\n",
      "com backup has failed\n",
      "pot backup has failed\n",
      "all backups have failed\n",
      "halo number 936 is done\n",
      "faceon has failed, trying backup\n",
      "hyb backup has failed\n",
      "ssc backup has failed\n",
      "com backup has failed\n",
      "pot backup has failed\n",
      "all backups have failed\n",
      "halo number 937 is done\n",
      "faceon has failed, trying backup\n",
      "hyb backup has failed\n",
      "ssc backup has failed\n"
     ]
    },
    {
     "name": "stderr",
     "output_type": "stream",
     "text": [
      "pynbody.analysis.profile : Profile v_circ -- this routine assumes the disk is in the x-y plane\n"
     ]
    },
    {
     "name": "stdout",
     "output_type": "stream",
     "text": [
      "halo number 938 is done\n",
      "faceon has failed, trying backup\n"
     ]
    },
    {
     "name": "stderr",
     "output_type": "stream",
     "text": [
      "pynbody.analysis.profile : Profile v_circ -- this routine assumes the disk is in the x-y plane\n"
     ]
    },
    {
     "name": "stdout",
     "output_type": "stream",
     "text": [
      "halo number 939 is done\n",
      "faceon has failed, trying backup\n",
      "hyb backup has failed\n",
      "ssc backup has failed\n"
     ]
    },
    {
     "name": "stderr",
     "output_type": "stream",
     "text": [
      "pynbody.analysis.profile : Profile v_circ -- this routine assumes the disk is in the x-y plane\n"
     ]
    },
    {
     "name": "stdout",
     "output_type": "stream",
     "text": [
      "halo number 940 is done\n",
      "faceon has failed, trying backup\n",
      "hyb backup has failed\n",
      "ssc backup has failed\n",
      "com backup has failed\n",
      "pot backup has failed\n",
      "all backups have failed\n",
      "halo number 941 is done\n",
      "faceon has failed, trying backup\n"
     ]
    },
    {
     "name": "stderr",
     "output_type": "stream",
     "text": [
      "pynbody.analysis.profile : Profile v_circ -- this routine assumes the disk is in the x-y plane\n"
     ]
    },
    {
     "name": "stdout",
     "output_type": "stream",
     "text": [
      "halo number 942 is done\n",
      "faceon has failed, trying backup\n"
     ]
    },
    {
     "name": "stderr",
     "output_type": "stream",
     "text": [
      "pynbody.analysis.profile : Profile v_circ -- this routine assumes the disk is in the x-y plane\n"
     ]
    },
    {
     "name": "stdout",
     "output_type": "stream",
     "text": [
      "halo number 943 is done\n",
      "faceon has failed, trying backup\n"
     ]
    },
    {
     "name": "stderr",
     "output_type": "stream",
     "text": [
      "pynbody.analysis.profile : Profile v_circ -- this routine assumes the disk is in the x-y plane\n"
     ]
    },
    {
     "name": "stdout",
     "output_type": "stream",
     "text": [
      "halo number 944 is done\n",
      "faceon has failed, trying backup\n"
     ]
    },
    {
     "name": "stderr",
     "output_type": "stream",
     "text": [
      "pynbody.analysis.profile : Profile v_circ -- this routine assumes the disk is in the x-y plane\n"
     ]
    },
    {
     "name": "stdout",
     "output_type": "stream",
     "text": [
      "halo number 945 is done\n",
      "faceon has failed, trying backup\n"
     ]
    },
    {
     "name": "stderr",
     "output_type": "stream",
     "text": [
      "pynbody.analysis.profile : Profile v_circ -- this routine assumes the disk is in the x-y plane\n"
     ]
    },
    {
     "name": "stdout",
     "output_type": "stream",
     "text": [
      "halo number 946 is done\n",
      "faceon has failed, trying backup\n",
      "hyb backup has failed\n",
      "ssc backup has failed\n"
     ]
    },
    {
     "name": "stderr",
     "output_type": "stream",
     "text": [
      "pynbody.analysis.profile : Profile v_circ -- this routine assumes the disk is in the x-y plane\n"
     ]
    },
    {
     "name": "stdout",
     "output_type": "stream",
     "text": [
      "halo number 947 is done\n",
      "faceon has failed, trying backup\n",
      "hyb backup has failed\n",
      "ssc backup has failed\n"
     ]
    },
    {
     "name": "stderr",
     "output_type": "stream",
     "text": [
      "pynbody.analysis.profile : Profile v_circ -- this routine assumes the disk is in the x-y plane\n"
     ]
    },
    {
     "name": "stdout",
     "output_type": "stream",
     "text": [
      "halo number 948 is done\n",
      "faceon has failed, trying backup\n",
      "hyb backup has failed\n",
      "ssc backup has failed\n",
      "com backup has failed\n",
      "pot backup has failed\n",
      "all backups have failed\n",
      "halo number 949 is done\n",
      "faceon has failed, trying backup\n"
     ]
    },
    {
     "name": "stderr",
     "output_type": "stream",
     "text": [
      "pynbody.analysis.profile : Profile v_circ -- this routine assumes the disk is in the x-y plane\n"
     ]
    },
    {
     "name": "stdout",
     "output_type": "stream",
     "text": [
      "halo number 950 is done\n",
      "faceon has failed, trying backup\n"
     ]
    },
    {
     "name": "stderr",
     "output_type": "stream",
     "text": [
      "pynbody.analysis.profile : Profile v_circ -- this routine assumes the disk is in the x-y plane\n"
     ]
    },
    {
     "name": "stdout",
     "output_type": "stream",
     "text": [
      "halo number 951 is done\n",
      "faceon has failed, trying backup\n",
      "hyb backup has failed\n",
      "ssc backup has failed\n",
      "com backup has failed\n",
      "pot backup has failed\n",
      "all backups have failed\n",
      "halo number 952 is done\n",
      "faceon has failed, trying backup\n",
      "hyb backup has failed\n",
      "ssc backup has failed\n",
      "com backup has failed\n",
      "pot backup has failed\n",
      "all backups have failed\n",
      "halo number 953 is done\n",
      "faceon has failed, trying backup\n"
     ]
    },
    {
     "name": "stderr",
     "output_type": "stream",
     "text": [
      "pynbody.analysis.profile : Profile v_circ -- this routine assumes the disk is in the x-y plane\n"
     ]
    },
    {
     "name": "stdout",
     "output_type": "stream",
     "text": [
      "halo number 954 is done\n",
      "faceon has failed, trying backup\n",
      "hyb backup has failed\n",
      "ssc backup has failed\n",
      "com backup has failed\n",
      "pot backup has failed\n",
      "all backups have failed\n",
      "halo number 955 is done\n",
      "faceon has failed, trying backup\n"
     ]
    },
    {
     "name": "stderr",
     "output_type": "stream",
     "text": [
      "pynbody.analysis.profile : Profile v_circ -- this routine assumes the disk is in the x-y plane\n"
     ]
    },
    {
     "name": "stdout",
     "output_type": "stream",
     "text": [
      "halo number 956 is done\n",
      "faceon has failed, trying backup\n",
      "hyb backup has failed\n",
      "ssc backup has failed\n"
     ]
    },
    {
     "name": "stderr",
     "output_type": "stream",
     "text": [
      "pynbody.analysis.profile : Profile v_circ -- this routine assumes the disk is in the x-y plane\n"
     ]
    },
    {
     "name": "stdout",
     "output_type": "stream",
     "text": [
      "halo number 957 is done\n",
      "faceon has failed, trying backup\n",
      "hyb backup has failed\n",
      "ssc backup has failed\n",
      "com backup has failed\n",
      "pot backup has failed\n",
      "all backups have failed\n",
      "halo number 958 is done\n",
      "faceon has failed, trying backup\n"
     ]
    },
    {
     "name": "stderr",
     "output_type": "stream",
     "text": [
      "pynbody.analysis.profile : Profile v_circ -- this routine assumes the disk is in the x-y plane\n"
     ]
    },
    {
     "name": "stdout",
     "output_type": "stream",
     "text": [
      "halo number 959 is done\n",
      "faceon has failed, trying backup\n",
      "hyb backup has failed\n",
      "ssc backup has failed\n"
     ]
    },
    {
     "name": "stderr",
     "output_type": "stream",
     "text": [
      "pynbody.analysis.profile : Profile v_circ -- this routine assumes the disk is in the x-y plane\n"
     ]
    },
    {
     "name": "stdout",
     "output_type": "stream",
     "text": [
      "halo number 960 is done\n",
      "faceon has failed, trying backup\n",
      "hyb backup has failed\n",
      "ssc backup has failed\n",
      "com backup has failed\n",
      "pot backup has failed\n",
      "all backups have failed\n",
      "halo number 961 is done\n",
      "faceon has failed, trying backup\n"
     ]
    },
    {
     "name": "stderr",
     "output_type": "stream",
     "text": [
      "pynbody.analysis.profile : Profile v_circ -- this routine assumes the disk is in the x-y plane\n"
     ]
    },
    {
     "name": "stdout",
     "output_type": "stream",
     "text": [
      "halo number 962 is done\n",
      "faceon has failed, trying backup\n",
      "hyb backup has failed\n",
      "ssc backup has failed\n",
      "com backup has failed\n",
      "pot backup has failed\n",
      "all backups have failed\n",
      "halo number 963 is done\n",
      "faceon has failed, trying backup\n",
      "hyb backup has failed\n",
      "ssc backup has failed\n",
      "com backup has failed\n",
      "pot backup has failed\n",
      "all backups have failed\n",
      "halo number 964 is done\n",
      "faceon has failed, trying backup\n",
      "hyb backup has failed\n",
      "ssc backup has failed\n"
     ]
    },
    {
     "name": "stderr",
     "output_type": "stream",
     "text": [
      "pynbody.analysis.profile : Profile v_circ -- this routine assumes the disk is in the x-y plane\n"
     ]
    },
    {
     "name": "stdout",
     "output_type": "stream",
     "text": [
      "halo number 965 is done\n",
      "faceon has failed, trying backup\n",
      "hyb backup has failed\n",
      "ssc backup has failed\n"
     ]
    },
    {
     "name": "stderr",
     "output_type": "stream",
     "text": [
      "pynbody.analysis.profile : Profile v_circ -- this routine assumes the disk is in the x-y plane\n"
     ]
    },
    {
     "name": "stdout",
     "output_type": "stream",
     "text": [
      "halo number 966 is done\n",
      "faceon has failed, trying backup\n"
     ]
    },
    {
     "name": "stderr",
     "output_type": "stream",
     "text": [
      "pynbody.analysis.profile : Profile v_circ -- this routine assumes the disk is in the x-y plane\n"
     ]
    },
    {
     "name": "stdout",
     "output_type": "stream",
     "text": [
      "halo number 967 is done\n",
      "faceon has failed, trying backup\n",
      "hyb backup has failed\n",
      "ssc backup has failed\n"
     ]
    },
    {
     "name": "stderr",
     "output_type": "stream",
     "text": [
      "pynbody.analysis.profile : Profile v_circ -- this routine assumes the disk is in the x-y plane\n"
     ]
    },
    {
     "name": "stdout",
     "output_type": "stream",
     "text": [
      "halo number 968 is done\n",
      "faceon has failed, trying backup\n",
      "hyb backup has failed\n",
      "ssc backup has failed\n",
      "com backup has failed\n",
      "pot backup has failed\n",
      "all backups have failed\n",
      "halo number 969 is done\n",
      "faceon has failed, trying backup\n",
      "hyb backup has failed\n",
      "ssc backup has failed\n"
     ]
    },
    {
     "name": "stderr",
     "output_type": "stream",
     "text": [
      "pynbody.analysis.profile : Profile v_circ -- this routine assumes the disk is in the x-y plane\n"
     ]
    },
    {
     "name": "stdout",
     "output_type": "stream",
     "text": [
      "halo number 970 is done\n",
      "faceon has failed, trying backup\n"
     ]
    },
    {
     "name": "stderr",
     "output_type": "stream",
     "text": [
      "pynbody.analysis.profile : Profile v_circ -- this routine assumes the disk is in the x-y plane\n"
     ]
    },
    {
     "name": "stdout",
     "output_type": "stream",
     "text": [
      "halo number 971 is done\n",
      "faceon has failed, trying backup\n",
      "hyb backup has failed\n",
      "ssc backup has failed\n",
      "com backup has failed\n",
      "pot backup has failed\n",
      "all backups have failed\n",
      "halo number 972 is done\n",
      "faceon has failed, trying backup\n",
      "hyb backup has failed\n",
      "ssc backup has failed\n",
      "com backup has failed\n",
      "pot backup has failed\n",
      "all backups have failed\n",
      "halo number 973 is done\n",
      "faceon has failed, trying backup\n",
      "hyb backup has failed\n",
      "ssc backup has failed\n"
     ]
    },
    {
     "name": "stderr",
     "output_type": "stream",
     "text": [
      "pynbody.analysis.profile : Profile v_circ -- this routine assumes the disk is in the x-y plane\n"
     ]
    },
    {
     "name": "stdout",
     "output_type": "stream",
     "text": [
      "halo number 974 is done\n",
      "faceon has failed, trying backup\n",
      "hyb backup has failed\n",
      "ssc backup has failed\n"
     ]
    },
    {
     "name": "stderr",
     "output_type": "stream",
     "text": [
      "pynbody.analysis.profile : Profile v_circ -- this routine assumes the disk is in the x-y plane\n"
     ]
    },
    {
     "name": "stdout",
     "output_type": "stream",
     "text": [
      "halo number 975 is done\n",
      "faceon has failed, trying backup\n",
      "hyb backup has failed\n",
      "ssc backup has failed\n",
      "com backup has failed\n",
      "pot backup has failed\n",
      "all backups have failed\n",
      "halo number 976 is done\n",
      "faceon has failed, trying backup\n"
     ]
    },
    {
     "name": "stderr",
     "output_type": "stream",
     "text": [
      "pynbody.analysis.profile : Profile v_circ -- this routine assumes the disk is in the x-y plane\n"
     ]
    },
    {
     "name": "stdout",
     "output_type": "stream",
     "text": [
      "halo number 977 is done\n",
      "faceon has failed, trying backup\n",
      "hyb backup has failed\n",
      "ssc backup has failed\n",
      "com backup has failed\n",
      "pot backup has failed\n",
      "all backups have failed\n",
      "halo number 978 is done\n",
      "faceon has failed, trying backup\n",
      "hyb backup has failed\n",
      "ssc backup has failed\n",
      "com backup has failed\n",
      "pot backup has failed\n",
      "all backups have failed\n",
      "halo number 979 is done\n",
      "faceon has failed, trying backup\n",
      "hyb backup has failed\n",
      "ssc backup has failed\n",
      "com backup has failed\n",
      "pot backup has failed\n",
      "all backups have failed\n",
      "halo number 980 is done\n",
      "faceon has failed, trying backup\n"
     ]
    },
    {
     "name": "stderr",
     "output_type": "stream",
     "text": [
      "pynbody.analysis.profile : Profile v_circ -- this routine assumes the disk is in the x-y plane\n"
     ]
    },
    {
     "name": "stdout",
     "output_type": "stream",
     "text": [
      "halo number 981 is done\n",
      "faceon has failed, trying backup\n",
      "hyb backup has failed\n",
      "ssc backup has failed\n"
     ]
    },
    {
     "name": "stderr",
     "output_type": "stream",
     "text": [
      "pynbody.analysis.profile : Profile v_circ -- this routine assumes the disk is in the x-y plane\n"
     ]
    },
    {
     "name": "stdout",
     "output_type": "stream",
     "text": [
      "halo number 982 is done\n",
      "faceon has failed, trying backup\n",
      "hyb backup has failed\n",
      "ssc backup has failed\n",
      "com backup has failed\n",
      "pot backup has failed\n",
      "all backups have failed\n",
      "halo number 983 is done\n",
      "faceon has failed, trying backup\n",
      "hyb backup has failed\n",
      "ssc backup has failed\n"
     ]
    },
    {
     "name": "stderr",
     "output_type": "stream",
     "text": [
      "pynbody.analysis.profile : Profile v_circ -- this routine assumes the disk is in the x-y plane\n"
     ]
    },
    {
     "name": "stdout",
     "output_type": "stream",
     "text": [
      "halo number 984 is done\n",
      "faceon has failed, trying backup\n",
      "hyb backup has failed\n",
      "ssc backup has failed\n",
      "com backup has failed\n",
      "pot backup has failed\n",
      "all backups have failed\n",
      "halo number 985 is done\n",
      "faceon has failed, trying backup\n",
      "hyb backup has failed\n",
      "ssc backup has failed\n",
      "com backup has failed\n",
      "pot backup has failed\n",
      "all backups have failed\n",
      "halo number 986 is done\n",
      "faceon has failed, trying backup\n",
      "hyb backup has failed\n",
      "ssc backup has failed\n"
     ]
    },
    {
     "name": "stderr",
     "output_type": "stream",
     "text": [
      "pynbody.analysis.profile : Profile v_circ -- this routine assumes the disk is in the x-y plane\n"
     ]
    },
    {
     "name": "stdout",
     "output_type": "stream",
     "text": [
      "halo number 987 is done\n",
      "faceon has failed, trying backup\n"
     ]
    },
    {
     "name": "stderr",
     "output_type": "stream",
     "text": [
      "pynbody.analysis.profile : Profile v_circ -- this routine assumes the disk is in the x-y plane\n"
     ]
    },
    {
     "name": "stdout",
     "output_type": "stream",
     "text": [
      "halo number 988 is done\n",
      "faceon has failed, trying backup\n",
      "hyb backup has failed\n",
      "ssc backup has failed\n"
     ]
    },
    {
     "name": "stderr",
     "output_type": "stream",
     "text": [
      "pynbody.analysis.profile : Profile v_circ -- this routine assumes the disk is in the x-y plane\n"
     ]
    },
    {
     "name": "stdout",
     "output_type": "stream",
     "text": [
      "halo number 989 is done\n",
      "faceon has failed, trying backup\n"
     ]
    },
    {
     "name": "stderr",
     "output_type": "stream",
     "text": [
      "pynbody.analysis.profile : Profile v_circ -- this routine assumes the disk is in the x-y plane\n"
     ]
    },
    {
     "name": "stdout",
     "output_type": "stream",
     "text": [
      "halo number 990 is done\n",
      "faceon has failed, trying backup\n",
      "hyb backup has failed\n",
      "ssc backup has failed\n",
      "com backup has failed\n",
      "pot backup has failed\n",
      "all backups have failed\n",
      "halo number 991 is done\n",
      "faceon has failed, trying backup\n"
     ]
    },
    {
     "name": "stderr",
     "output_type": "stream",
     "text": [
      "pynbody.analysis.profile : Profile v_circ -- this routine assumes the disk is in the x-y plane\n"
     ]
    },
    {
     "name": "stdout",
     "output_type": "stream",
     "text": [
      "halo number 992 is done\n",
      "faceon has failed, trying backup\n",
      "hyb backup has failed\n",
      "ssc backup has failed\n",
      "com backup has failed\n",
      "pot backup has failed\n",
      "all backups have failed\n",
      "halo number 993 is done\n",
      "faceon has failed, trying backup\n",
      "hyb backup has failed\n",
      "ssc backup has failed\n",
      "com backup has failed\n",
      "pot backup has failed\n",
      "all backups have failed\n",
      "halo number 994 is done\n",
      "faceon has failed, trying backup\n",
      "hyb backup has failed\n",
      "ssc backup has failed\n"
     ]
    },
    {
     "name": "stderr",
     "output_type": "stream",
     "text": [
      "pynbody.analysis.profile : Profile v_circ -- this routine assumes the disk is in the x-y plane\n"
     ]
    },
    {
     "name": "stdout",
     "output_type": "stream",
     "text": [
      "halo number 995 is done\n",
      "faceon has failed, trying backup\n"
     ]
    },
    {
     "name": "stderr",
     "output_type": "stream",
     "text": [
      "pynbody.analysis.profile : Profile v_circ -- this routine assumes the disk is in the x-y plane\n"
     ]
    },
    {
     "name": "stdout",
     "output_type": "stream",
     "text": [
      "halo number 996 is done\n",
      "faceon has failed, trying backup\n"
     ]
    },
    {
     "name": "stderr",
     "output_type": "stream",
     "text": [
      "pynbody.analysis.profile : Profile v_circ -- this routine assumes the disk is in the x-y plane\n"
     ]
    },
    {
     "name": "stdout",
     "output_type": "stream",
     "text": [
      "halo number 997 is done\n",
      "faceon has failed, trying backup\n",
      "hyb backup has failed\n",
      "ssc backup has failed\n",
      "com backup has failed\n",
      "pot backup has failed\n",
      "all backups have failed\n",
      "halo number 998 is done\n",
      "faceon has failed, trying backup\n",
      "hyb backup has failed\n",
      "ssc backup has failed\n",
      "com backup has failed\n",
      "pot backup has failed\n",
      "all backups have failed\n",
      "halo number 999 is done\n",
      "faceon has failed, trying backup\n",
      "hyb backup has failed\n",
      "ssc backup has failed\n",
      "com backup has failed\n",
      "pot backup has failed\n",
      "all backups have failed\n",
      "halo number 1000 is done\n"
     ]
    },
    {
     "name": "stderr",
     "output_type": "stream",
     "text": [
      "pynbody.analysis.profile : Profile v_circ -- this routine assumes the disk is in the x-y plane\n"
     ]
    },
    {
     "name": "stdout",
     "output_type": "stream",
     "text": [
      "faceon has failed, trying backup\n",
      "halo number 1001 is done\n",
      "faceon has failed, trying backup\n",
      "hyb backup has failed\n",
      "ssc backup has failed\n",
      "com backup has failed\n",
      "pot backup has failed\n",
      "all backups have failed\n",
      "halo number 1002 is done\n",
      "faceon has failed, trying backup\n"
     ]
    },
    {
     "name": "stderr",
     "output_type": "stream",
     "text": [
      "pynbody.analysis.profile : Profile v_circ -- this routine assumes the disk is in the x-y plane\n"
     ]
    },
    {
     "name": "stdout",
     "output_type": "stream",
     "text": [
      "halo number 1003 is done\n",
      "faceon has failed, trying backup\n",
      "hyb backup has failed\n",
      "ssc backup has failed\n",
      "com backup has failed\n",
      "pot backup has failed\n",
      "all backups have failed\n",
      "halo number 1004 is done\n",
      "faceon has failed, trying backup\n",
      "hyb backup has failed\n",
      "ssc backup has failed\n",
      "com backup has failed\n",
      "pot backup has failed\n",
      "all backups have failed\n",
      "halo number 1005 is done\n",
      "faceon has failed, trying backup\n",
      "hyb backup has failed\n",
      "ssc backup has failed\n"
     ]
    },
    {
     "name": "stderr",
     "output_type": "stream",
     "text": [
      "pynbody.analysis.profile : Profile v_circ -- this routine assumes the disk is in the x-y plane\n"
     ]
    },
    {
     "name": "stdout",
     "output_type": "stream",
     "text": [
      "halo number 1006 is done\n",
      "faceon has failed, trying backup\n",
      "hyb backup has failed\n",
      "ssc backup has failed\n",
      "com backup has failed\n",
      "pot backup has failed\n",
      "all backups have failed\n",
      "halo number 1007 is done\n",
      "faceon has failed, trying backup\n"
     ]
    },
    {
     "name": "stderr",
     "output_type": "stream",
     "text": [
      "pynbody.analysis.profile : Profile v_circ -- this routine assumes the disk is in the x-y plane\n"
     ]
    },
    {
     "name": "stdout",
     "output_type": "stream",
     "text": [
      "hyb backup has failed\n",
      "ssc backup has failed\n",
      "halo number 1008 is done\n",
      "faceon has failed, trying backup\n",
      "hyb backup has failed\n",
      "ssc backup has failed\n",
      "com backup has failed\n",
      "pot backup has failed\n",
      "all backups have failed\n",
      "halo number 1009 is done\n",
      "faceon has failed, trying backup\n",
      "hyb backup has failed\n",
      "ssc backup has failed\n"
     ]
    },
    {
     "name": "stderr",
     "output_type": "stream",
     "text": [
      "pynbody.analysis.profile : Profile v_circ -- this routine assumes the disk is in the x-y plane\n"
     ]
    },
    {
     "name": "stdout",
     "output_type": "stream",
     "text": [
      "halo number 1010 is done\n",
      "faceon has failed, trying backup\n",
      "hyb backup has failed\n",
      "ssc backup has failed\n"
     ]
    },
    {
     "name": "stderr",
     "output_type": "stream",
     "text": [
      "pynbody.analysis.profile : Profile v_circ -- this routine assumes the disk is in the x-y plane\n"
     ]
    },
    {
     "name": "stdout",
     "output_type": "stream",
     "text": [
      "halo number 1011 is done\n",
      "faceon has failed, trying backup\n"
     ]
    },
    {
     "name": "stderr",
     "output_type": "stream",
     "text": [
      "pynbody.analysis.profile : Profile v_circ -- this routine assumes the disk is in the x-y plane\n"
     ]
    },
    {
     "name": "stdout",
     "output_type": "stream",
     "text": [
      "halo number 1012 is done\n",
      "faceon has failed, trying backup\n"
     ]
    },
    {
     "name": "stderr",
     "output_type": "stream",
     "text": [
      "pynbody.analysis.profile : Profile v_circ -- this routine assumes the disk is in the x-y plane\n"
     ]
    },
    {
     "name": "stdout",
     "output_type": "stream",
     "text": [
      "halo number 1013 is done\n",
      "faceon has failed, trying backup\n"
     ]
    },
    {
     "name": "stderr",
     "output_type": "stream",
     "text": [
      "pynbody.analysis.profile : Profile v_circ -- this routine assumes the disk is in the x-y plane\n"
     ]
    },
    {
     "name": "stdout",
     "output_type": "stream",
     "text": [
      "halo number 1014 is done\n",
      "faceon has failed, trying backup\n",
      "hyb backup has failed\n",
      "ssc backup has failed\n",
      "com backup has failed\n",
      "pot backup has failed\n",
      "all backups have failed\n",
      "halo number 1015 is done\n",
      "faceon has failed, trying backup\n",
      "hyb backup has failed\n",
      "ssc backup has failed\n",
      "com backup has failed\n",
      "pot backup has failed\n",
      "all backups have failed\n",
      "halo number 1016 is done\n"
     ]
    },
    {
     "name": "stderr",
     "output_type": "stream",
     "text": [
      "pynbody.analysis.profile : Profile v_circ -- this routine assumes the disk is in the x-y plane\n"
     ]
    },
    {
     "name": "stdout",
     "output_type": "stream",
     "text": [
      "faceon has failed, trying backup\n",
      "halo number 1017 is done\n",
      "faceon has failed, trying backup\n",
      "hyb backup has failed\n",
      "ssc backup has failed\n"
     ]
    },
    {
     "name": "stderr",
     "output_type": "stream",
     "text": [
      "pynbody.analysis.profile : Profile v_circ -- this routine assumes the disk is in the x-y plane\n"
     ]
    },
    {
     "name": "stdout",
     "output_type": "stream",
     "text": [
      "halo number 1018 is done\n",
      "faceon has failed, trying backup\n",
      "hyb backup has failed\n",
      "ssc backup has failed\n"
     ]
    },
    {
     "name": "stderr",
     "output_type": "stream",
     "text": [
      "pynbody.analysis.profile : Profile v_circ -- this routine assumes the disk is in the x-y plane\n"
     ]
    },
    {
     "name": "stdout",
     "output_type": "stream",
     "text": [
      "halo number 1019 is done\n",
      "faceon has failed, trying backup\n",
      "hyb backup has failed\n",
      "ssc backup has failed\n",
      "com backup has failed\n",
      "pot backup has failed\n",
      "all backups have failed\n",
      "halo number 1020 is done\n",
      "faceon has failed, trying backup\n",
      "hyb backup has failed\n",
      "ssc backup has failed\n",
      "com backup has failed\n",
      "pot backup has failed\n",
      "all backups have failed\n",
      "halo number 1021 is done\n",
      "faceon has failed, trying backup\n",
      "hyb backup has failed\n",
      "ssc backup has failed\n",
      "com backup has failed\n",
      "pot backup has failed\n",
      "all backups have failed\n",
      "halo number 1022 is done\n",
      "faceon has failed, trying backup\n",
      "hyb backup has failed\n",
      "ssc backup has failed\n",
      "com backup has failed\n",
      "pot backup has failed\n",
      "all backups have failed\n",
      "halo number 1023 is done\n",
      "faceon has failed, trying backup\n",
      "hyb backup has failed\n",
      "ssc backup has failed\n",
      "com backup has failed\n",
      "pot backup has failed\n",
      "all backups have failed\n",
      "halo number 1024 is done\n",
      "faceon has failed, trying backup\n",
      "hyb backup has failed\n",
      "ssc backup has failed\n",
      "com backup has failed\n",
      "pot backup has failed\n",
      "all backups have failed\n",
      "halo number 1025 is done\n",
      "faceon has failed, trying backup\n"
     ]
    },
    {
     "name": "stderr",
     "output_type": "stream",
     "text": [
      "pynbody.analysis.profile : Profile v_circ -- this routine assumes the disk is in the x-y plane\n"
     ]
    },
    {
     "name": "stdout",
     "output_type": "stream",
     "text": [
      "halo number 1026 is done\n",
      "faceon has failed, trying backup\n",
      "hyb backup has failed\n",
      "ssc backup has failed\n",
      "com backup has failed\n",
      "pot backup has failed\n",
      "all backups have failed\n",
      "halo number 1027 is done\n",
      "faceon has failed, trying backup\n"
     ]
    },
    {
     "name": "stderr",
     "output_type": "stream",
     "text": [
      "pynbody.analysis.profile : Profile v_circ -- this routine assumes the disk is in the x-y plane\n"
     ]
    },
    {
     "name": "stdout",
     "output_type": "stream",
     "text": [
      "halo number 1028 is done\n",
      "faceon has failed, trying backup\n",
      "hyb backup has failed\n",
      "ssc backup has failed\n",
      "com backup has failed\n",
      "pot backup has failed\n",
      "all backups have failed\n",
      "halo number 1029 is done\n",
      "faceon has failed, trying backup\n",
      "hyb backup has failed\n",
      "ssc backup has failed\n",
      "com backup has failed\n",
      "pot backup has failed\n",
      "all backups have failed\n",
      "halo number 1030 is done\n",
      "faceon has failed, trying backup\n",
      "hyb backup has failed\n",
      "ssc backup has failed\n",
      "com backup has failed\n",
      "pot backup has failed\n",
      "all backups have failed\n",
      "halo number 1031 is done\n",
      "faceon has failed, trying backup\n",
      "hyb backup has failed\n",
      "ssc backup has failed\n",
      "com backup has failed\n",
      "pot backup has failed\n",
      "all backups have failed\n",
      "halo number 1032 is done\n",
      "faceon has failed, trying backup\n",
      "hyb backup has failed\n",
      "ssc backup has failed\n",
      "com backup has failed\n",
      "pot backup has failed\n",
      "all backups have failed\n",
      "halo number 1033 is done\n",
      "faceon has failed, trying backup\n",
      "hyb backup has failed\n",
      "ssc backup has failed\n",
      "com backup has failed\n",
      "pot backup has failed\n",
      "all backups have failed\n",
      "halo number 1034 is done\n"
     ]
    },
    {
     "name": "stderr",
     "output_type": "stream",
     "text": [
      "pynbody.analysis.profile : Profile v_circ -- this routine assumes the disk is in the x-y plane\n"
     ]
    },
    {
     "name": "stdout",
     "output_type": "stream",
     "text": [
      "faceon has failed, trying backup\n",
      "halo number 1035 is done\n",
      "faceon has failed, trying backup\n"
     ]
    },
    {
     "name": "stderr",
     "output_type": "stream",
     "text": [
      "pynbody.analysis.profile : Profile v_circ -- this routine assumes the disk is in the x-y plane\n"
     ]
    },
    {
     "name": "stdout",
     "output_type": "stream",
     "text": [
      "halo number 1036 is done\n",
      "faceon has failed, trying backup\n",
      "hyb backup has failed\n",
      "ssc backup has failed\n",
      "com backup has failed\n",
      "pot backup has failed\n",
      "all backups have failed\n",
      "halo number 1037 is done\n",
      "faceon has failed, trying backup\n"
     ]
    },
    {
     "name": "stderr",
     "output_type": "stream",
     "text": [
      "pynbody.analysis.profile : Profile v_circ -- this routine assumes the disk is in the x-y plane\n"
     ]
    },
    {
     "name": "stdout",
     "output_type": "stream",
     "text": [
      "halo number 1038 is done\n",
      "faceon has failed, trying backup\n",
      "hyb backup has failed\n",
      "ssc backup has failed\n",
      "com backup has failed\n",
      "pot backup has failed\n",
      "all backups have failed\n",
      "halo number 1039 is done\n",
      "faceon has failed, trying backup\n"
     ]
    },
    {
     "name": "stderr",
     "output_type": "stream",
     "text": [
      "pynbody.analysis.profile : Profile v_circ -- this routine assumes the disk is in the x-y plane\n"
     ]
    },
    {
     "name": "stdout",
     "output_type": "stream",
     "text": [
      "halo number 1040 is done\n",
      "faceon has failed, trying backup\n",
      "hyb backup has failed\n",
      "ssc backup has failed\n"
     ]
    },
    {
     "name": "stderr",
     "output_type": "stream",
     "text": [
      "pynbody.analysis.profile : Profile v_circ -- this routine assumes the disk is in the x-y plane\n"
     ]
    },
    {
     "name": "stdout",
     "output_type": "stream",
     "text": [
      "halo number 1041 is done\n",
      "faceon has failed, trying backup\n",
      "hyb backup has failed\n",
      "ssc backup has failed\n",
      "com backup has failed\n",
      "pot backup has failed\n",
      "all backups have failed\n",
      "halo number 1042 is done\n",
      "faceon has failed, trying backup\n",
      "hyb backup has failed\n",
      "ssc backup has failed\n",
      "com backup has failed\n",
      "pot backup has failed\n",
      "all backups have failed\n",
      "halo number 1043 is done\n"
     ]
    },
    {
     "name": "stderr",
     "output_type": "stream",
     "text": [
      "pynbody.analysis.profile : Profile v_circ -- this routine assumes the disk is in the x-y plane\n"
     ]
    },
    {
     "name": "stdout",
     "output_type": "stream",
     "text": [
      "faceon has failed, trying backup\n",
      "halo number 1044 is done\n",
      "faceon has failed, trying backup\n",
      "hyb backup has failed\n",
      "ssc backup has failed\n",
      "com backup has failed\n",
      "pot backup has failed\n",
      "all backups have failed\n",
      "halo number 1045 is done\n",
      "faceon has failed, trying backup\n",
      "hyb backup has failed\n",
      "ssc backup has failed\n"
     ]
    },
    {
     "name": "stderr",
     "output_type": "stream",
     "text": [
      "pynbody.analysis.profile : Profile v_circ -- this routine assumes the disk is in the x-y plane\n"
     ]
    },
    {
     "name": "stdout",
     "output_type": "stream",
     "text": [
      "halo number 1046 is done\n",
      "faceon has failed, trying backup\n",
      "hyb backup has failed\n",
      "ssc backup has failed\n",
      "com backup has failed\n",
      "pot backup has failed\n",
      "all backups have failed\n",
      "halo number 1047 is done\n",
      "faceon has failed, trying backup\n",
      "hyb backup has failed\n",
      "ssc backup has failed\n",
      "com backup has failed\n",
      "pot backup has failed\n",
      "all backups have failed\n",
      "halo number 1048 is done\n",
      "faceon has failed, trying backup\n",
      "hyb backup has failed\n",
      "ssc backup has failed\n",
      "com backup has failed\n",
      "pot backup has failed\n",
      "all backups have failed\n",
      "halo number 1049 is done\n",
      "faceon has failed, trying backup\n",
      "hyb backup has failed\n",
      "ssc backup has failed\n"
     ]
    },
    {
     "name": "stderr",
     "output_type": "stream",
     "text": [
      "pynbody.analysis.profile : Profile v_circ -- this routine assumes the disk is in the x-y plane\n"
     ]
    },
    {
     "name": "stdout",
     "output_type": "stream",
     "text": [
      "halo number 1050 is done\n",
      "faceon has failed, trying backup\n"
     ]
    },
    {
     "name": "stderr",
     "output_type": "stream",
     "text": [
      "pynbody.analysis.profile : Profile v_circ -- this routine assumes the disk is in the x-y plane\n"
     ]
    },
    {
     "name": "stdout",
     "output_type": "stream",
     "text": [
      "halo number 1051 is done\n",
      "faceon has failed, trying backup\n",
      "hyb backup has failed\n",
      "ssc backup has failed\n"
     ]
    },
    {
     "name": "stderr",
     "output_type": "stream",
     "text": [
      "pynbody.analysis.profile : Profile v_circ -- this routine assumes the disk is in the x-y plane\n"
     ]
    },
    {
     "name": "stdout",
     "output_type": "stream",
     "text": [
      "halo number 1052 is done\n",
      "faceon has failed, trying backup\n",
      "hyb backup has failed\n",
      "ssc backup has failed\n"
     ]
    },
    {
     "name": "stderr",
     "output_type": "stream",
     "text": [
      "pynbody.analysis.profile : Profile v_circ -- this routine assumes the disk is in the x-y plane\n"
     ]
    },
    {
     "name": "stdout",
     "output_type": "stream",
     "text": [
      "halo number 1053 is done\n",
      "faceon has failed, trying backup\n",
      "hyb backup has failed\n",
      "ssc backup has failed\n",
      "com backup has failed\n",
      "pot backup has failed\n",
      "all backups have failed\n",
      "halo number 1054 is done\n",
      "faceon has failed, trying backup\n"
     ]
    },
    {
     "name": "stderr",
     "output_type": "stream",
     "text": [
      "pynbody.analysis.profile : Profile v_circ -- this routine assumes the disk is in the x-y plane\n"
     ]
    },
    {
     "name": "stdout",
     "output_type": "stream",
     "text": [
      "halo number 1055 is done\n",
      "faceon has failed, trying backup\n",
      "hyb backup has failed\n",
      "ssc backup has failed\n",
      "com backup has failed\n",
      "pot backup has failed\n",
      "all backups have failed\n",
      "halo number 1056 is done\n",
      "faceon has failed, trying backup\n",
      "hyb backup has failed\n",
      "ssc backup has failed\n"
     ]
    },
    {
     "name": "stderr",
     "output_type": "stream",
     "text": [
      "pynbody.analysis.profile : Profile v_circ -- this routine assumes the disk is in the x-y plane\n"
     ]
    },
    {
     "name": "stdout",
     "output_type": "stream",
     "text": [
      "halo number 1057 is done\n",
      "faceon has failed, trying backup\n",
      "hyb backup has failed\n",
      "ssc backup has failed\n"
     ]
    },
    {
     "name": "stderr",
     "output_type": "stream",
     "text": [
      "pynbody.analysis.profile : Profile v_circ -- this routine assumes the disk is in the x-y plane\n"
     ]
    },
    {
     "name": "stdout",
     "output_type": "stream",
     "text": [
      "halo number 1058 is done\n",
      "faceon has failed, trying backup\n",
      "hyb backup has failed\n",
      "ssc backup has failed\n",
      "com backup has failed\n",
      "pot backup has failed\n",
      "all backups have failed\n",
      "halo number 1059 is done\n",
      "faceon has failed, trying backup\n"
     ]
    },
    {
     "name": "stderr",
     "output_type": "stream",
     "text": [
      "pynbody.analysis.profile : Profile v_circ -- this routine assumes the disk is in the x-y plane\n"
     ]
    },
    {
     "name": "stdout",
     "output_type": "stream",
     "text": [
      "halo number 1060 is done\n",
      "faceon has failed, trying backup\n",
      "hyb backup has failed\n",
      "ssc backup has failed\n",
      "com backup has failed\n",
      "pot backup has failed\n",
      "all backups have failed\n",
      "halo number 1061 is done\n",
      "faceon has failed, trying backup\n"
     ]
    },
    {
     "name": "stderr",
     "output_type": "stream",
     "text": [
      "pynbody.analysis.profile : Profile v_circ -- this routine assumes the disk is in the x-y plane\n"
     ]
    },
    {
     "name": "stdout",
     "output_type": "stream",
     "text": [
      "halo number 1062 is done\n",
      "faceon has failed, trying backup\n"
     ]
    },
    {
     "name": "stderr",
     "output_type": "stream",
     "text": [
      "pynbody.analysis.profile : Profile v_circ -- this routine assumes the disk is in the x-y plane\n"
     ]
    },
    {
     "name": "stdout",
     "output_type": "stream",
     "text": [
      "halo number 1063 is done\n",
      "faceon has failed, trying backup\n",
      "hyb backup has failed\n",
      "ssc backup has failed\n",
      "com backup has failed\n",
      "pot backup has failed\n",
      "all backups have failed\n",
      "halo number 1064 is done\n",
      "faceon has failed, trying backup\n",
      "hyb backup has failed\n",
      "ssc backup has failed\n",
      "com backup has failed\n",
      "pot backup has failed\n",
      "all backups have failed\n",
      "halo number 1065 is done\n",
      "faceon has failed, trying backup\n",
      "hyb backup has failed\n",
      "ssc backup has failed\n"
     ]
    },
    {
     "name": "stderr",
     "output_type": "stream",
     "text": [
      "pynbody.analysis.profile : Profile v_circ -- this routine assumes the disk is in the x-y plane\n"
     ]
    },
    {
     "name": "stdout",
     "output_type": "stream",
     "text": [
      "halo number 1066 is done\n",
      "faceon has failed, trying backup\n",
      "hyb backup has failed\n",
      "ssc backup has failed\n",
      "com backup has failed\n",
      "pot backup has failed\n",
      "all backups have failed\n",
      "halo number 1067 is done\n",
      "faceon has failed, trying backup\n",
      "hyb backup has failed\n",
      "ssc backup has failed\n",
      "com backup has failed\n",
      "pot backup has failed\n",
      "all backups have failed\n",
      "halo number 1068 is done\n",
      "faceon has failed, trying backup\n",
      "hyb backup has failed\n",
      "ssc backup has failed\n",
      "com backup has failed\n",
      "pot backup has failed\n",
      "all backups have failed\n",
      "halo number 1069 is done\n",
      "faceon has failed, trying backup\n"
     ]
    },
    {
     "name": "stderr",
     "output_type": "stream",
     "text": [
      "pynbody.analysis.profile : Profile v_circ -- this routine assumes the disk is in the x-y plane\n"
     ]
    },
    {
     "name": "stdout",
     "output_type": "stream",
     "text": [
      "halo number 1070 is done\n",
      "faceon has failed, trying backup\n"
     ]
    },
    {
     "name": "stderr",
     "output_type": "stream",
     "text": [
      "pynbody.analysis.profile : Profile v_circ -- this routine assumes the disk is in the x-y plane\n"
     ]
    },
    {
     "name": "stdout",
     "output_type": "stream",
     "text": [
      "halo number 1071 is done\n",
      "faceon has failed, trying backup\n",
      "hyb backup has failed\n",
      "ssc backup has failed\n",
      "com backup has failed\n",
      "pot backup has failed\n",
      "all backups have failed\n",
      "halo number 1072 is done\n",
      "faceon has failed, trying backup\n"
     ]
    },
    {
     "name": "stderr",
     "output_type": "stream",
     "text": [
      "pynbody.analysis.profile : Profile v_circ -- this routine assumes the disk is in the x-y plane\n"
     ]
    },
    {
     "name": "stdout",
     "output_type": "stream",
     "text": [
      "halo number 1073 is done\n",
      "faceon has failed, trying backup\n",
      "hyb backup has failed\n",
      "ssc backup has failed\n"
     ]
    },
    {
     "name": "stderr",
     "output_type": "stream",
     "text": [
      "pynbody.analysis.profile : Profile v_circ -- this routine assumes the disk is in the x-y plane\n"
     ]
    },
    {
     "name": "stdout",
     "output_type": "stream",
     "text": [
      "halo number 1074 is done\n",
      "faceon has failed, trying backup\n"
     ]
    },
    {
     "name": "stderr",
     "output_type": "stream",
     "text": [
      "pynbody.analysis.profile : Profile v_circ -- this routine assumes the disk is in the x-y plane\n"
     ]
    },
    {
     "name": "stdout",
     "output_type": "stream",
     "text": [
      "halo number 1075 is done\n",
      "faceon has failed, trying backup\n"
     ]
    },
    {
     "name": "stderr",
     "output_type": "stream",
     "text": [
      "pynbody.analysis.profile : Profile v_circ -- this routine assumes the disk is in the x-y plane\n"
     ]
    },
    {
     "name": "stdout",
     "output_type": "stream",
     "text": [
      "halo number 1076 is done\n",
      "faceon has failed, trying backup\n",
      "hyb backup has failed\n",
      "ssc backup has failed\n",
      "com backup has failed\n",
      "pot backup has failed\n",
      "all backups have failed\n",
      "halo number 1077 is done\n",
      "faceon has failed, trying backup\n"
     ]
    },
    {
     "name": "stderr",
     "output_type": "stream",
     "text": [
      "pynbody.analysis.profile : Profile v_circ -- this routine assumes the disk is in the x-y plane\n"
     ]
    },
    {
     "name": "stdout",
     "output_type": "stream",
     "text": [
      "halo number 1078 is done\n",
      "faceon has failed, trying backup\n",
      "hyb backup has failed\n",
      "ssc backup has failed\n"
     ]
    },
    {
     "name": "stderr",
     "output_type": "stream",
     "text": [
      "pynbody.analysis.profile : Profile v_circ -- this routine assumes the disk is in the x-y plane\n"
     ]
    },
    {
     "name": "stdout",
     "output_type": "stream",
     "text": [
      "halo number 1079 is done\n",
      "faceon has failed, trying backup\n",
      "hyb backup has failed\n",
      "ssc backup has failed\n",
      "com backup has failed\n",
      "pot backup has failed\n",
      "all backups have failed\n",
      "halo number 1080 is done\n",
      "faceon has failed, trying backup\n",
      "hyb backup has failed\n",
      "ssc backup has failed\n",
      "com backup has failed\n",
      "pot backup has failed\n",
      "all backups have failed\n",
      "halo number 1081 is done\n",
      "faceon has failed, trying backup\n",
      "hyb backup has failed\n",
      "ssc backup has failed\n",
      "com backup has failed\n",
      "pot backup has failed\n",
      "all backups have failed\n",
      "halo number 1082 is done\n",
      "faceon has failed, trying backup\n",
      "hyb backup has failed\n",
      "ssc backup has failed\n",
      "com backup has failed\n",
      "pot backup has failed\n",
      "all backups have failed\n",
      "halo number 1083 is done\n",
      "faceon has failed, trying backup\n",
      "hyb backup has failed\n",
      "ssc backup has failed\n",
      "com backup has failed\n",
      "pot backup has failed\n",
      "all backups have failed\n",
      "halo number 1084 is done\n",
      "faceon has failed, trying backup\n",
      "hyb backup has failed\n",
      "ssc backup has failed\n",
      "com backup has failed\n",
      "pot backup has failed\n",
      "all backups have failed\n",
      "halo number 1085 is done\n",
      "faceon has failed, trying backup\n",
      "hyb backup has failed\n",
      "ssc backup has failed\n",
      "com backup has failed\n",
      "pot backup has failed\n",
      "all backups have failed\n",
      "halo number 1086 is done\n",
      "faceon has failed, trying backup\n",
      "hyb backup has failed\n",
      "ssc backup has failed\n",
      "com backup has failed\n",
      "pot backup has failed\n",
      "all backups have failed\n",
      "halo number 1087 is done\n",
      "faceon has failed, trying backup\n",
      "hyb backup has failed\n",
      "ssc backup has failed\n",
      "com backup has failed\n",
      "pot backup has failed\n",
      "all backups have failed\n",
      "halo number 1088 is done\n",
      "faceon has failed, trying backup\n",
      "hyb backup has failed\n",
      "ssc backup has failed\n",
      "com backup has failed\n",
      "pot backup has failed\n",
      "all backups have failed\n",
      "halo number 1089 is done\n",
      "faceon has failed, trying backup\n"
     ]
    },
    {
     "name": "stderr",
     "output_type": "stream",
     "text": [
      "pynbody.analysis.profile : Profile v_circ -- this routine assumes the disk is in the x-y plane\n"
     ]
    },
    {
     "name": "stdout",
     "output_type": "stream",
     "text": [
      "halo number 1090 is done\n",
      "faceon has failed, trying backup\n"
     ]
    },
    {
     "name": "stderr",
     "output_type": "stream",
     "text": [
      "pynbody.analysis.profile : Profile v_circ -- this routine assumes the disk is in the x-y plane\n"
     ]
    },
    {
     "name": "stdout",
     "output_type": "stream",
     "text": [
      "halo number 1091 is done\n",
      "faceon has failed, trying backup\n"
     ]
    },
    {
     "name": "stderr",
     "output_type": "stream",
     "text": [
      "pynbody.analysis.profile : Profile v_circ -- this routine assumes the disk is in the x-y plane\n"
     ]
    },
    {
     "name": "stdout",
     "output_type": "stream",
     "text": [
      "halo number 1092 is done\n",
      "faceon has failed, trying backup\n",
      "hyb backup has failed\n",
      "ssc backup has failed\n",
      "com backup has failed\n",
      "pot backup has failed\n",
      "all backups have failed\n",
      "halo number 1093 is done\n",
      "faceon has failed, trying backup\n"
     ]
    },
    {
     "name": "stderr",
     "output_type": "stream",
     "text": [
      "pynbody.analysis.profile : Profile v_circ -- this routine assumes the disk is in the x-y plane\n"
     ]
    },
    {
     "name": "stdout",
     "output_type": "stream",
     "text": [
      "halo number 1094 is done\n",
      "faceon has failed, trying backup\n",
      "hyb backup has failed\n",
      "ssc backup has failed\n",
      "com backup has failed\n",
      "pot backup has failed\n",
      "all backups have failed\n",
      "halo number 1095 is done\n",
      "faceon has failed, trying backup\n",
      "hyb backup has failed\n",
      "ssc backup has failed\n",
      "com backup has failed\n",
      "pot backup has failed\n",
      "all backups have failed\n",
      "halo number 1096 is done\n",
      "faceon has failed, trying backup\n"
     ]
    },
    {
     "name": "stderr",
     "output_type": "stream",
     "text": [
      "pynbody.analysis.profile : Profile v_circ -- this routine assumes the disk is in the x-y plane\n"
     ]
    },
    {
     "name": "stdout",
     "output_type": "stream",
     "text": [
      "halo number 1097 is done\n",
      "faceon has failed, trying backup\n"
     ]
    },
    {
     "name": "stderr",
     "output_type": "stream",
     "text": [
      "pynbody.analysis.profile : Profile v_circ -- this routine assumes the disk is in the x-y plane\n"
     ]
    },
    {
     "name": "stdout",
     "output_type": "stream",
     "text": [
      "halo number 1098 is done\n",
      "faceon has failed, trying backup\n"
     ]
    },
    {
     "name": "stderr",
     "output_type": "stream",
     "text": [
      "pynbody.analysis.profile : Profile v_circ -- this routine assumes the disk is in the x-y plane\n"
     ]
    },
    {
     "name": "stdout",
     "output_type": "stream",
     "text": [
      "halo number 1099 is done\n",
      "faceon has failed, trying backup\n",
      "hyb backup has failed\n",
      "ssc backup has failed\n",
      "com backup has failed\n",
      "pot backup has failed\n",
      "all backups have failed\n",
      "halo number 1100 is done\n",
      "faceon has failed, trying backup\n",
      "hyb backup has failed\n",
      "ssc backup has failed\n",
      "com backup has failed\n",
      "pot backup has failed\n",
      "all backups have failed\n",
      "halo number 1101 is done\n",
      "faceon has failed, trying backup\n",
      "hyb backup has failed\n",
      "ssc backup has failed\n",
      "com backup has failed\n",
      "pot backup has failed\n",
      "all backups have failed\n",
      "halo number 1102 is done\n"
     ]
    },
    {
     "name": "stderr",
     "output_type": "stream",
     "text": [
      "pynbody.analysis.profile : Profile v_circ -- this routine assumes the disk is in the x-y plane\n"
     ]
    },
    {
     "name": "stdout",
     "output_type": "stream",
     "text": [
      "faceon has failed, trying backup\n",
      "halo number 1103 is done\n",
      "faceon has failed, trying backup\n",
      "hyb backup has failed\n",
      "ssc backup has failed\n",
      "com backup has failed\n",
      "pot backup has failed\n",
      "all backups have failed\n",
      "halo number 1104 is done\n",
      "faceon has failed, trying backup\n"
     ]
    },
    {
     "name": "stderr",
     "output_type": "stream",
     "text": [
      "pynbody.analysis.profile : Profile v_circ -- this routine assumes the disk is in the x-y plane\n"
     ]
    },
    {
     "name": "stdout",
     "output_type": "stream",
     "text": [
      "halo number 1105 is done\n",
      "faceon has failed, trying backup\n",
      "hyb backup has failed\n",
      "ssc backup has failed\n",
      "com backup has failed\n",
      "pot backup has failed\n",
      "all backups have failed\n",
      "halo number 1106 is done\n",
      "faceon has failed, trying backup\n"
     ]
    },
    {
     "name": "stderr",
     "output_type": "stream",
     "text": [
      "pynbody.analysis.profile : Profile v_circ -- this routine assumes the disk is in the x-y plane\n"
     ]
    },
    {
     "name": "stdout",
     "output_type": "stream",
     "text": [
      "halo number 1107 is done\n",
      "faceon has failed, trying backup\n",
      "hyb backup has failed\n",
      "ssc backup has failed\n",
      "com backup has failed\n",
      "pot backup has failed\n",
      "all backups have failed\n",
      "halo number 1108 is done\n",
      "faceon has failed, trying backup\n",
      "hyb backup has failed\n",
      "ssc backup has failed\n",
      "com backup has failed\n",
      "pot backup has failed\n",
      "all backups have failed\n",
      "halo number 1109 is done\n",
      "faceon has failed, trying backup\n",
      "hyb backup has failed\n",
      "ssc backup has failed\n",
      "com backup has failed\n",
      "pot backup has failed\n",
      "all backups have failed\n",
      "halo number 1110 is done\n",
      "faceon has failed, trying backup\n",
      "hyb backup has failed\n",
      "ssc backup has failed\n",
      "com backup has failed\n",
      "pot backup has failed\n",
      "all backups have failed\n",
      "halo number 1111 is done\n",
      "faceon has failed, trying backup\n",
      "hyb backup has failed\n",
      "ssc backup has failed\n",
      "com backup has failed\n",
      "pot backup has failed\n",
      "all backups have failed\n",
      "halo number 1112 is done\n",
      "faceon has failed, trying backup\n",
      "hyb backup has failed\n",
      "ssc backup has failed\n",
      "com backup has failed\n",
      "pot backup has failed\n",
      "all backups have failed\n",
      "halo number 1113 is done\n",
      "faceon has failed, trying backup\n",
      "hyb backup has failed\n"
     ]
    },
    {
     "name": "stderr",
     "output_type": "stream",
     "text": [
      "pynbody.analysis.profile : Profile v_circ -- this routine assumes the disk is in the x-y plane\n"
     ]
    },
    {
     "name": "stdout",
     "output_type": "stream",
     "text": [
      "ssc backup has failed\n",
      "halo number 1114 is done\n",
      "faceon has failed, trying backup\n",
      "hyb backup has failed\n"
     ]
    },
    {
     "name": "stderr",
     "output_type": "stream",
     "text": [
      "pynbody.analysis.profile : Profile v_circ -- this routine assumes the disk is in the x-y plane\n"
     ]
    },
    {
     "name": "stdout",
     "output_type": "stream",
     "text": [
      "halo number 1115 is done\n",
      "faceon has failed, trying backup\n",
      "hyb backup has failed\n",
      "ssc backup has failed\n",
      "com backup has failed\n",
      "pot backup has failed\n",
      "all backups have failed\n",
      "halo number 1116 is done\n",
      "faceon has failed, trying backup\n"
     ]
    },
    {
     "name": "stderr",
     "output_type": "stream",
     "text": [
      "pynbody.analysis.profile : Profile v_circ -- this routine assumes the disk is in the x-y plane\n"
     ]
    },
    {
     "name": "stdout",
     "output_type": "stream",
     "text": [
      "halo number 1117 is done\n",
      "faceon has failed, trying backup\n"
     ]
    },
    {
     "name": "stderr",
     "output_type": "stream",
     "text": [
      "pynbody.analysis.profile : Profile v_circ -- this routine assumes the disk is in the x-y plane\n"
     ]
    },
    {
     "name": "stdout",
     "output_type": "stream",
     "text": [
      "halo number 1118 is done\n",
      "faceon has failed, trying backup\n",
      "hyb backup has failed\n",
      "ssc backup has failed\n",
      "com backup has failed\n",
      "pot backup has failed\n",
      "all backups have failed\n",
      "halo number 1119 is done\n",
      "faceon has failed, trying backup\n",
      "hyb backup has failed\n",
      "ssc backup has failed\n",
      "com backup has failed\n",
      "pot backup has failed\n",
      "all backups have failed\n",
      "halo number 1120 is done\n",
      "faceon has failed, trying backup\n"
     ]
    },
    {
     "name": "stderr",
     "output_type": "stream",
     "text": [
      "pynbody.analysis.profile : Profile v_circ -- this routine assumes the disk is in the x-y plane\n"
     ]
    },
    {
     "name": "stdout",
     "output_type": "stream",
     "text": [
      "halo number 1121 is done\n",
      "faceon has failed, trying backup\n",
      "hyb backup has failed\n",
      "ssc backup has failed\n",
      "com backup has failed\n",
      "pot backup has failed\n",
      "all backups have failed\n",
      "halo number 1122 is done\n",
      "faceon has failed, trying backup\n",
      "hyb backup has failed\n",
      "ssc backup has failed\n",
      "com backup has failed\n",
      "pot backup has failed\n",
      "all backups have failed\n",
      "halo number 1123 is done\n",
      "faceon has failed, trying backup\n",
      "hyb backup has failed\n",
      "ssc backup has failed\n",
      "com backup has failed\n",
      "pot backup has failed\n",
      "all backups have failed\n",
      "halo number 1124 is done\n",
      "faceon has failed, trying backup\n",
      "hyb backup has failed\n",
      "ssc backup has failed\n",
      "com backup has failed\n",
      "pot backup has failed\n",
      "all backups have failed\n",
      "halo number 1125 is done\n",
      "faceon has failed, trying backup\n",
      "hyb backup has failed\n",
      "ssc backup has failed\n",
      "com backup has failed\n",
      "pot backup has failed\n",
      "all backups have failed\n",
      "halo number 1126 is done\n",
      "faceon has failed, trying backup\n",
      "hyb backup has failed\n",
      "ssc backup has failed\n",
      "com backup has failed\n",
      "pot backup has failed\n",
      "all backups have failed\n",
      "halo number 1127 is done\n",
      "faceon has failed, trying backup\n",
      "hyb backup has failed\n",
      "ssc backup has failed\n",
      "com backup has failed\n",
      "pot backup has failed\n",
      "all backups have failed\n",
      "halo number 1128 is done\n",
      "faceon has failed, trying backup\n",
      "hyb backup has failed\n",
      "ssc backup has failed\n",
      "com backup has failed\n",
      "pot backup has failed\n",
      "all backups have failed\n",
      "halo number 1129 is done\n",
      "faceon has failed, trying backup\n",
      "hyb backup has failed\n",
      "ssc backup has failed\n",
      "com backup has failed\n",
      "pot backup has failed\n",
      "all backups have failed\n",
      "halo number 1130 is done\n",
      "faceon has failed, trying backup\n",
      "hyb backup has failed\n",
      "ssc backup has failed\n",
      "com backup has failed\n",
      "pot backup has failed\n",
      "all backups have failed\n",
      "halo number 1131 is done\n",
      "faceon has failed, trying backup\n",
      "hyb backup has failed\n",
      "ssc backup has failed\n"
     ]
    },
    {
     "name": "stderr",
     "output_type": "stream",
     "text": [
      "pynbody.analysis.profile : Profile v_circ -- this routine assumes the disk is in the x-y plane\n"
     ]
    },
    {
     "name": "stdout",
     "output_type": "stream",
     "text": [
      "halo number 1132 is done\n",
      "faceon has failed, trying backup\n",
      "hyb backup has failed\n",
      "ssc backup has failed\n"
     ]
    },
    {
     "name": "stderr",
     "output_type": "stream",
     "text": [
      "pynbody.analysis.profile : Profile v_circ -- this routine assumes the disk is in the x-y plane\n"
     ]
    },
    {
     "name": "stdout",
     "output_type": "stream",
     "text": [
      "halo number 1133 is done\n",
      "faceon has failed, trying backup\n",
      "hyb backup has failed\n",
      "ssc backup has failed\n"
     ]
    },
    {
     "name": "stderr",
     "output_type": "stream",
     "text": [
      "pynbody.analysis.profile : Profile v_circ -- this routine assumes the disk is in the x-y plane\n"
     ]
    },
    {
     "name": "stdout",
     "output_type": "stream",
     "text": [
      "halo number 1134 is done\n",
      "faceon has failed, trying backup\n",
      "hyb backup has failed\n",
      "ssc backup has failed\n",
      "com backup has failed\n",
      "pot backup has failed\n",
      "all backups have failed\n",
      "halo number 1135 is done\n",
      "faceon has failed, trying backup\n"
     ]
    },
    {
     "name": "stderr",
     "output_type": "stream",
     "text": [
      "pynbody.analysis.profile : Profile v_circ -- this routine assumes the disk is in the x-y plane\n"
     ]
    },
    {
     "name": "stdout",
     "output_type": "stream",
     "text": [
      "halo number 1136 is done\n",
      "faceon has failed, trying backup\n",
      "hyb backup has failed\n",
      "ssc backup has failed\n",
      "com backup has failed\n",
      "pot backup has failed\n",
      "all backups have failed\n",
      "halo number 1137 is done\n",
      "faceon has failed, trying backup\n",
      "hyb backup has failed\n",
      "ssc backup has failed\n",
      "com backup has failed\n",
      "pot backup has failed\n",
      "all backups have failed\n",
      "halo number 1138 is done\n",
      "faceon has failed, trying backup\n",
      "hyb backup has failed\n",
      "ssc backup has failed\n",
      "com backup has failed\n",
      "pot backup has failed\n",
      "all backups have failed\n",
      "halo number 1139 is done\n",
      "faceon has failed, trying backup\n",
      "hyb backup has failed\n",
      "ssc backup has failed\n",
      "com backup has failed\n",
      "pot backup has failed\n",
      "all backups have failed\n",
      "halo number 1140 is done\n",
      "faceon has failed, trying backup\n",
      "hyb backup has failed\n",
      "ssc backup has failed\n",
      "com backup has failed\n",
      "pot backup has failed\n",
      "all backups have failed\n",
      "halo number 1141 is done\n",
      "faceon has failed, trying backup\n",
      "hyb backup has failed\n",
      "ssc backup has failed\n",
      "com backup has failed\n",
      "pot backup has failed\n",
      "all backups have failed\n",
      "halo number 1142 is done\n",
      "faceon has failed, trying backup\n"
     ]
    },
    {
     "name": "stderr",
     "output_type": "stream",
     "text": [
      "pynbody.analysis.profile : Profile v_circ -- this routine assumes the disk is in the x-y plane\n"
     ]
    },
    {
     "name": "stdout",
     "output_type": "stream",
     "text": [
      "halo number 1143 is done\n",
      "faceon has failed, trying backup\n",
      "hyb backup has failed\n",
      "ssc backup has failed\n"
     ]
    },
    {
     "name": "stderr",
     "output_type": "stream",
     "text": [
      "pynbody.analysis.profile : Profile v_circ -- this routine assumes the disk is in the x-y plane\n"
     ]
    },
    {
     "name": "stdout",
     "output_type": "stream",
     "text": [
      "halo number 1144 is done\n",
      "faceon has failed, trying backup\n"
     ]
    },
    {
     "name": "stderr",
     "output_type": "stream",
     "text": [
      "pynbody.analysis.profile : Profile v_circ -- this routine assumes the disk is in the x-y plane\n"
     ]
    },
    {
     "name": "stdout",
     "output_type": "stream",
     "text": [
      "halo number 1145 is done\n",
      "faceon has failed, trying backup\n",
      "hyb backup has failed\n",
      "ssc backup has failed\n",
      "com backup has failed\n",
      "pot backup has failed\n",
      "all backups have failed\n",
      "halo number 1146 is done\n",
      "faceon has failed, trying backup\n",
      "hyb backup has failed\n",
      "ssc backup has failed\n",
      "com backup has failed\n",
      "pot backup has failed\n",
      "all backups have failed\n",
      "halo number 1147 is done\n",
      "faceon has failed, trying backup\n",
      "hyb backup has failed\n",
      "ssc backup has failed\n",
      "com backup has failed\n",
      "pot backup has failed\n",
      "all backups have failed\n",
      "halo number 1148 is done\n",
      "faceon has failed, trying backup\n",
      "hyb backup has failed\n",
      "ssc backup has failed\n",
      "com backup has failed\n",
      "pot backup has failed\n",
      "all backups have failed\n",
      "halo number 1149 is done\n",
      "faceon has failed, trying backup\n"
     ]
    },
    {
     "name": "stderr",
     "output_type": "stream",
     "text": [
      "pynbody.analysis.profile : Profile v_circ -- this routine assumes the disk is in the x-y plane\n"
     ]
    },
    {
     "name": "stdout",
     "output_type": "stream",
     "text": [
      "halo number 1150 is done\n",
      "faceon has failed, trying backup\n",
      "hyb backup has failed\n",
      "ssc backup has failed\n",
      "com backup has failed\n",
      "pot backup has failed\n",
      "all backups have failed\n",
      "halo number 1151 is done\n",
      "faceon has failed, trying backup\n",
      "hyb backup has failed\n",
      "ssc backup has failed\n",
      "com backup has failed\n",
      "pot backup has failed\n",
      "all backups have failed\n",
      "halo number 1152 is done\n",
      "faceon has failed, trying backup\n",
      "hyb backup has failed\n",
      "ssc backup has failed\n",
      "com backup has failed\n",
      "pot backup has failed\n",
      "all backups have failed\n",
      "halo number 1153 is done\n",
      "faceon has failed, trying backup\n",
      "hyb backup has failed\n",
      "ssc backup has failed\n",
      "com backup has failed\n",
      "pot backup has failed\n",
      "all backups have failed\n",
      "halo number 1154 is done\n",
      "faceon has failed, trying backup\n",
      "hyb backup has failed\n",
      "ssc backup has failed\n",
      "com backup has failed\n",
      "pot backup has failed\n",
      "all backups have failed\n",
      "halo number 1155 is done\n",
      "faceon has failed, trying backup\n",
      "hyb backup has failed\n",
      "ssc backup has failed\n",
      "com backup has failed\n",
      "pot backup has failed\n",
      "all backups have failed\n",
      "halo number 1156 is done\n",
      "faceon has failed, trying backup\n"
     ]
    },
    {
     "name": "stderr",
     "output_type": "stream",
     "text": [
      "pynbody.analysis.profile : Profile v_circ -- this routine assumes the disk is in the x-y plane\n"
     ]
    },
    {
     "name": "stdout",
     "output_type": "stream",
     "text": [
      "halo number 1157 is done\n",
      "faceon has failed, trying backup\n"
     ]
    },
    {
     "name": "stderr",
     "output_type": "stream",
     "text": [
      "pynbody.analysis.profile : Profile v_circ -- this routine assumes the disk is in the x-y plane\n"
     ]
    },
    {
     "name": "stdout",
     "output_type": "stream",
     "text": [
      "halo number 1158 is done\n",
      "faceon has failed, trying backup\n",
      "hyb backup has failed\n",
      "ssc backup has failed\n",
      "com backup has failed\n",
      "pot backup has failed\n",
      "all backups have failed\n",
      "halo number 1159 is done\n",
      "faceon has failed, trying backup\n"
     ]
    },
    {
     "name": "stderr",
     "output_type": "stream",
     "text": [
      "pynbody.analysis.profile : Profile v_circ -- this routine assumes the disk is in the x-y plane\n"
     ]
    },
    {
     "name": "stdout",
     "output_type": "stream",
     "text": [
      "halo number 1160 is done\n",
      "faceon has failed, trying backup\n"
     ]
    },
    {
     "name": "stderr",
     "output_type": "stream",
     "text": [
      "pynbody.analysis.profile : Profile v_circ -- this routine assumes the disk is in the x-y plane\n"
     ]
    },
    {
     "name": "stdout",
     "output_type": "stream",
     "text": [
      "halo number 1161 is done\n",
      "faceon has failed, trying backup\n",
      "hyb backup has failed\n",
      "ssc backup has failed\n",
      "com backup has failed\n",
      "pot backup has failed\n",
      "all backups have failed\n",
      "halo number 1162 is done\n",
      "faceon has failed, trying backup\n",
      "hyb backup has failed\n",
      "ssc backup has failed\n",
      "com backup has failed\n",
      "pot backup has failed\n",
      "all backups have failed\n",
      "halo number 1163 is done\n",
      "faceon has failed, trying backup\n",
      "hyb backup has failed\n",
      "ssc backup has failed\n",
      "com backup has failed\n",
      "pot backup has failed\n",
      "all backups have failed\n",
      "halo number 1164 is done\n",
      "faceon has failed, trying backup\n",
      "hyb backup has failed\n",
      "ssc backup has failed\n",
      "com backup has failed\n",
      "pot backup has failed\n",
      "all backups have failed\n",
      "halo number 1165 is done\n",
      "faceon has failed, trying backup\n",
      "hyb backup has failed\n",
      "ssc backup has failed\n"
     ]
    },
    {
     "name": "stderr",
     "output_type": "stream",
     "text": [
      "pynbody.analysis.profile : Profile v_circ -- this routine assumes the disk is in the x-y plane\n"
     ]
    },
    {
     "name": "stdout",
     "output_type": "stream",
     "text": [
      "halo number 1166 is done\n",
      "faceon has failed, trying backup\n",
      "hyb backup has failed\n",
      "ssc backup has failed\n",
      "com backup has failed\n",
      "pot backup has failed\n",
      "all backups have failed\n",
      "halo number 1167 is done\n",
      "faceon has failed, trying backup\n",
      "hyb backup has failed\n",
      "ssc backup has failed\n",
      "com backup has failed\n",
      "pot backup has failed\n",
      "all backups have failed\n",
      "halo number 1168 is done\n",
      "faceon has failed, trying backup\n",
      "hyb backup has failed\n",
      "ssc backup has failed\n",
      "com backup has failed\n",
      "pot backup has failed\n",
      "all backups have failed\n",
      "halo number 1169 is done\n",
      "faceon has failed, trying backup\n"
     ]
    },
    {
     "name": "stderr",
     "output_type": "stream",
     "text": [
      "pynbody.analysis.profile : Profile v_circ -- this routine assumes the disk is in the x-y plane\n"
     ]
    },
    {
     "name": "stdout",
     "output_type": "stream",
     "text": [
      "halo number 1170 is done\n",
      "faceon has failed, trying backup\n",
      "hyb backup has failed\n",
      "ssc backup has failed\n",
      "com backup has failed\n",
      "pot backup has failed\n",
      "all backups have failed\n",
      "halo number 1171 is done\n",
      "faceon has failed, trying backup\n",
      "hyb backup has failed\n",
      "ssc backup has failed\n",
      "com backup has failed\n",
      "pot backup has failed\n",
      "all backups have failed\n",
      "halo number 1172 is done\n",
      "faceon has failed, trying backup\n",
      "hyb backup has failed\n",
      "ssc backup has failed\n",
      "com backup has failed\n",
      "pot backup has failed\n",
      "all backups have failed\n",
      "halo number 1173 is done\n"
     ]
    },
    {
     "name": "stderr",
     "output_type": "stream",
     "text": [
      "pynbody.analysis.profile : Profile v_circ -- this routine assumes the disk is in the x-y plane\n"
     ]
    },
    {
     "name": "stdout",
     "output_type": "stream",
     "text": [
      "faceon has failed, trying backup\n",
      "halo number 1174 is done\n",
      "faceon has failed, trying backup\n",
      "hyb backup has failed\n",
      "ssc backup has failed\n"
     ]
    },
    {
     "name": "stderr",
     "output_type": "stream",
     "text": [
      "pynbody.analysis.profile : Profile v_circ -- this routine assumes the disk is in the x-y plane\n"
     ]
    },
    {
     "name": "stdout",
     "output_type": "stream",
     "text": [
      "halo number 1175 is done\n",
      "faceon has failed, trying backup\n",
      "hyb backup has failed\n",
      "ssc backup has failed\n",
      "com backup has failed\n",
      "pot backup has failed\n",
      "all backups have failed\n",
      "halo number 1176 is done\n",
      "faceon has failed, trying backup\n",
      "hyb backup has failed\n",
      "ssc backup has failed\n",
      "com backup has failed\n",
      "pot backup has failed\n",
      "all backups have failed\n",
      "halo number 1177 is done\n",
      "faceon has failed, trying backup\n",
      "hyb backup has failed\n",
      "ssc backup has failed\n",
      "com backup has failed\n",
      "pot backup has failed\n",
      "all backups have failed\n",
      "halo number 1178 is done\n",
      "faceon has failed, trying backup\n",
      "hyb backup has failed\n",
      "ssc backup has failed\n",
      "com backup has failed\n",
      "pot backup has failed\n",
      "all backups have failed\n",
      "halo number 1179 is done\n"
     ]
    },
    {
     "name": "stderr",
     "output_type": "stream",
     "text": [
      "pynbody.analysis.profile : Profile v_circ -- this routine assumes the disk is in the x-y plane\n"
     ]
    },
    {
     "name": "stdout",
     "output_type": "stream",
     "text": [
      "faceon has failed, trying backup\n",
      "halo number 1180 is done\n",
      "faceon has failed, trying backup\n",
      "hyb backup has failed\n",
      "ssc backup has failed\n",
      "com backup has failed\n",
      "pot backup has failed\n",
      "all backups have failed\n",
      "halo number 1181 is done\n",
      "faceon has failed, trying backup\n",
      "hyb backup has failed\n",
      "ssc backup has failed\n",
      "com backup has failed\n",
      "pot backup has failed\n",
      "all backups have failed\n",
      "halo number 1182 is done\n",
      "faceon has failed, trying backup\n"
     ]
    },
    {
     "name": "stderr",
     "output_type": "stream",
     "text": [
      "pynbody.analysis.profile : Profile v_circ -- this routine assumes the disk is in the x-y plane\n"
     ]
    },
    {
     "name": "stdout",
     "output_type": "stream",
     "text": [
      "halo number 1183 is done\n",
      "faceon has failed, trying backup\n"
     ]
    },
    {
     "name": "stderr",
     "output_type": "stream",
     "text": [
      "pynbody.analysis.profile : Profile v_circ -- this routine assumes the disk is in the x-y plane\n"
     ]
    },
    {
     "name": "stdout",
     "output_type": "stream",
     "text": [
      "halo number 1184 is done\n",
      "faceon has failed, trying backup\n",
      "hyb backup has failed\n",
      "ssc backup has failed\n",
      "com backup has failed\n",
      "pot backup has failed\n",
      "all backups have failed\n",
      "halo number 1185 is done\n",
      "faceon has failed, trying backup\n",
      "hyb backup has failed\n",
      "ssc backup has failed\n",
      "com backup has failed\n",
      "pot backup has failed\n",
      "all backups have failed\n",
      "halo number 1186 is done\n",
      "faceon has failed, trying backup\n"
     ]
    },
    {
     "name": "stderr",
     "output_type": "stream",
     "text": [
      "pynbody.analysis.profile : Profile v_circ -- this routine assumes the disk is in the x-y plane\n"
     ]
    },
    {
     "name": "stdout",
     "output_type": "stream",
     "text": [
      "halo number 1187 is done\n",
      "faceon has failed, trying backup\n",
      "hyb backup has failed\n",
      "ssc backup has failed\n",
      "com backup has failed\n",
      "pot backup has failed\n",
      "all backups have failed\n",
      "halo number 1188 is done\n",
      "faceon has failed, trying backup\n",
      "hyb backup has failed\n",
      "ssc backup has failed\n",
      "com backup has failed\n",
      "pot backup has failed\n",
      "all backups have failed\n",
      "halo number 1189 is done\n",
      "faceon has failed, trying backup\n",
      "hyb backup has failed\n",
      "ssc backup has failed\n",
      "com backup has failed\n",
      "pot backup has failed\n",
      "all backups have failed\n",
      "halo number 1190 is done\n",
      "faceon has failed, trying backup\n",
      "hyb backup has failed\n",
      "ssc backup has failed\n",
      "com backup has failed\n",
      "pot backup has failed\n",
      "all backups have failed\n",
      "halo number 1191 is done\n",
      "faceon has failed, trying backup\n",
      "hyb backup has failed\n",
      "ssc backup has failed\n",
      "com backup has failed\n",
      "pot backup has failed\n",
      "all backups have failed\n",
      "halo number 1192 is done\n",
      "faceon has failed, trying backup\n",
      "hyb backup has failed\n",
      "ssc backup has failed\n",
      "com backup has failed\n",
      "pot backup has failed\n",
      "all backups have failed\n",
      "halo number 1193 is done\n"
     ]
    },
    {
     "name": "stderr",
     "output_type": "stream",
     "text": [
      "pynbody.analysis.profile : Profile v_circ -- this routine assumes the disk is in the x-y plane\n"
     ]
    },
    {
     "name": "stdout",
     "output_type": "stream",
     "text": [
      "faceon has failed, trying backup\n",
      "halo number 1194 is done\n",
      "faceon has failed, trying backup\n",
      "hyb backup has failed\n",
      "ssc backup has failed\n",
      "com backup has failed\n",
      "pot backup has failed\n",
      "all backups have failed\n",
      "halo number 1195 is done\n",
      "faceon has failed, trying backup\n",
      "hyb backup has failed\n",
      "ssc backup has failed\n",
      "com backup has failed\n",
      "pot backup has failed\n",
      "all backups have failed\n",
      "halo number 1196 is done\n",
      "faceon has failed, trying backup\n",
      "hyb backup has failed\n",
      "ssc backup has failed\n",
      "com backup has failed\n",
      "pot backup has failed\n",
      "all backups have failed\n",
      "halo number 1197 is done\n"
     ]
    },
    {
     "name": "stderr",
     "output_type": "stream",
     "text": [
      "pynbody.analysis.profile : Profile v_circ -- this routine assumes the disk is in the x-y plane\n"
     ]
    },
    {
     "name": "stdout",
     "output_type": "stream",
     "text": [
      "faceon has failed, trying backup\n",
      "halo number 1198 is done\n",
      "faceon has failed, trying backup\n",
      "hyb backup has failed\n",
      "ssc backup has failed\n",
      "com backup has failed\n",
      "pot backup has failed\n",
      "all backups have failed\n",
      "halo number 1199 is done\n",
      "faceon has failed, trying backup\n",
      "hyb backup has failed\n",
      "ssc backup has failed\n",
      "com backup has failed\n",
      "pot backup has failed\n",
      "all backups have failed\n",
      "halo number 1200 is done\n",
      "faceon has failed, trying backup\n",
      "hyb backup has failed\n",
      "ssc backup has failed\n",
      "com backup has failed\n",
      "pot backup has failed\n",
      "all backups have failed\n",
      "halo number 1201 is done\n",
      "faceon has failed, trying backup\n",
      "hyb backup has failed\n",
      "ssc backup has failed\n",
      "com backup has failed\n",
      "pot backup has failed\n",
      "all backups have failed\n",
      "halo number 1202 is done\n",
      "faceon has failed, trying backup\n",
      "hyb backup has failed\n",
      "ssc backup has failed\n",
      "com backup has failed\n",
      "pot backup has failed\n",
      "all backups have failed\n",
      "halo number 1203 is done\n",
      "faceon has failed, trying backup\n",
      "hyb backup has failed\n",
      "ssc backup has failed\n",
      "com backup has failed\n",
      "pot backup has failed\n",
      "all backups have failed\n",
      "halo number 1204 is done\n",
      "faceon has failed, trying backup\n",
      "hyb backup has failed\n",
      "ssc backup has failed\n",
      "com backup has failed\n",
      "pot backup has failed\n",
      "all backups have failed\n",
      "halo number 1205 is done\n",
      "faceon has failed, trying backup\n"
     ]
    },
    {
     "name": "stderr",
     "output_type": "stream",
     "text": [
      "pynbody.analysis.profile : Profile v_circ -- this routine assumes the disk is in the x-y plane\n"
     ]
    },
    {
     "name": "stdout",
     "output_type": "stream",
     "text": [
      "halo number 1206 is done\n",
      "faceon has failed, trying backup\n",
      "hyb backup has failed\n",
      "ssc backup has failed\n",
      "com backup has failed\n",
      "pot backup has failed\n",
      "all backups have failed\n",
      "halo number 1207 is done\n",
      "faceon has failed, trying backup\n",
      "hyb backup has failed\n",
      "ssc backup has failed\n",
      "com backup has failed\n",
      "pot backup has failed\n",
      "all backups have failed\n",
      "halo number 1208 is done\n",
      "faceon has failed, trying backup\n",
      "hyb backup has failed\n",
      "ssc backup has failed\n",
      "com backup has failed\n",
      "pot backup has failed\n",
      "all backups have failed\n",
      "halo number 1209 is done\n",
      "faceon has failed, trying backup\n",
      "hyb backup has failed\n",
      "ssc backup has failed\n",
      "com backup has failed\n",
      "pot backup has failed\n",
      "all backups have failed\n",
      "halo number 1210 is done\n",
      "faceon has failed, trying backup\n",
      "hyb backup has failed\n",
      "ssc backup has failed\n",
      "com backup has failed\n",
      "pot backup has failed\n",
      "all backups have failed\n",
      "halo number 1211 is done\n",
      "faceon has failed, trying backup\n",
      "hyb backup has failed\n",
      "ssc backup has failed\n",
      "com backup has failed\n",
      "pot backup has failed\n",
      "all backups have failed\n",
      "halo number 1212 is done\n",
      "faceon has failed, trying backup\n"
     ]
    },
    {
     "name": "stderr",
     "output_type": "stream",
     "text": [
      "pynbody.analysis.profile : Profile v_circ -- this routine assumes the disk is in the x-y plane\n"
     ]
    },
    {
     "name": "stdout",
     "output_type": "stream",
     "text": [
      "halo number 1213 is done\n",
      "faceon has failed, trying backup\n",
      "hyb backup has failed\n",
      "ssc backup has failed\n",
      "com backup has failed\n",
      "pot backup has failed\n",
      "all backups have failed\n",
      "halo number 1214 is done\n",
      "faceon has failed, trying backup\n",
      "hyb backup has failed\n",
      "ssc backup has failed\n",
      "com backup has failed\n",
      "pot backup has failed\n",
      "all backups have failed\n",
      "halo number 1215 is done\n"
     ]
    },
    {
     "name": "stderr",
     "output_type": "stream",
     "text": [
      "pynbody.analysis.profile : Profile v_circ -- this routine assumes the disk is in the x-y plane\n"
     ]
    },
    {
     "name": "stdout",
     "output_type": "stream",
     "text": [
      "faceon has failed, trying backup\n",
      "halo number 1216 is done\n",
      "faceon has failed, trying backup\n",
      "hyb backup has failed\n",
      "ssc backup has failed\n",
      "com backup has failed\n",
      "pot backup has failed\n",
      "all backups have failed\n",
      "halo number 1217 is done\n",
      "faceon has failed, trying backup\n",
      "hyb backup has failed\n",
      "ssc backup has failed\n",
      "com backup has failed\n",
      "pot backup has failed\n",
      "all backups have failed\n",
      "halo number 1218 is done\n",
      "faceon has failed, trying backup\n",
      "hyb backup has failed\n",
      "ssc backup has failed\n",
      "com backup has failed\n",
      "pot backup has failed\n",
      "all backups have failed\n",
      "halo number 1219 is done\n"
     ]
    },
    {
     "name": "stderr",
     "output_type": "stream",
     "text": [
      "pynbody.analysis.profile : Profile v_circ -- this routine assumes the disk is in the x-y plane\n"
     ]
    },
    {
     "name": "stdout",
     "output_type": "stream",
     "text": [
      "faceon has failed, trying backup\n",
      "halo number 1220 is done\n",
      "faceon has failed, trying backup\n",
      "hyb backup has failed\n",
      "ssc backup has failed\n",
      "com backup has failed\n",
      "pot backup has failed\n",
      "all backups have failed\n",
      "halo number 1221 is done\n",
      "faceon has failed, trying backup\n"
     ]
    },
    {
     "name": "stderr",
     "output_type": "stream",
     "text": [
      "pynbody.analysis.profile : Profile v_circ -- this routine assumes the disk is in the x-y plane\n"
     ]
    },
    {
     "name": "stdout",
     "output_type": "stream",
     "text": [
      "halo number 1222 is done\n",
      "faceon has failed, trying backup\n"
     ]
    },
    {
     "name": "stderr",
     "output_type": "stream",
     "text": [
      "pynbody.analysis.profile : Profile v_circ -- this routine assumes the disk is in the x-y plane\n"
     ]
    },
    {
     "name": "stdout",
     "output_type": "stream",
     "text": [
      "halo number 1223 is done\n",
      "faceon has failed, trying backup\n",
      "hyb backup has failed\n",
      "ssc backup has failed\n",
      "com backup has failed\n",
      "pot backup has failed\n",
      "all backups have failed\n",
      "halo number 1224 is done\n",
      "faceon has failed, trying backup\n"
     ]
    },
    {
     "name": "stderr",
     "output_type": "stream",
     "text": [
      "pynbody.analysis.profile : Profile v_circ -- this routine assumes the disk is in the x-y plane\n"
     ]
    },
    {
     "name": "stdout",
     "output_type": "stream",
     "text": [
      "halo number 1225 is done\n",
      "faceon has failed, trying backup\n",
      "hyb backup has failed\n",
      "ssc backup has failed\n",
      "com backup has failed\n",
      "pot backup has failed\n",
      "all backups have failed\n",
      "halo number 1226 is done\n",
      "faceon has failed, trying backup\n"
     ]
    },
    {
     "name": "stderr",
     "output_type": "stream",
     "text": [
      "pynbody.analysis.profile : Profile v_circ -- this routine assumes the disk is in the x-y plane\n"
     ]
    },
    {
     "name": "stdout",
     "output_type": "stream",
     "text": [
      "halo number 1227 is done\n",
      "faceon has failed, trying backup\n"
     ]
    },
    {
     "name": "stderr",
     "output_type": "stream",
     "text": [
      "pynbody.analysis.profile : Profile v_circ -- this routine assumes the disk is in the x-y plane\n"
     ]
    },
    {
     "name": "stdout",
     "output_type": "stream",
     "text": [
      "halo number 1228 is done\n",
      "faceon has failed, trying backup\n",
      "hyb backup has failed\n",
      "ssc backup has failed\n",
      "com backup has failed\n",
      "pot backup has failed\n",
      "all backups have failed\n",
      "halo number 1229 is done\n",
      "faceon has failed, trying backup\n",
      "hyb backup has failed\n",
      "ssc backup has failed\n",
      "com backup has failed\n",
      "pot backup has failed\n",
      "all backups have failed\n",
      "halo number 1230 is done\n",
      "faceon has failed, trying backup\n"
     ]
    },
    {
     "name": "stderr",
     "output_type": "stream",
     "text": [
      "pynbody.analysis.profile : Profile v_circ -- this routine assumes the disk is in the x-y plane\n"
     ]
    },
    {
     "name": "stdout",
     "output_type": "stream",
     "text": [
      "halo number 1231 is done\n",
      "faceon has failed, trying backup\n",
      "hyb backup has failed\n",
      "ssc backup has failed\n",
      "com backup has failed\n",
      "pot backup has failed\n",
      "all backups have failed\n",
      "halo number 1232 is done\n",
      "faceon has failed, trying backup\n",
      "hyb backup has failed\n",
      "ssc backup has failed\n",
      "com backup has failed\n",
      "pot backup has failed\n",
      "all backups have failed\n",
      "halo number 1233 is done\n",
      "faceon has failed, trying backup\n"
     ]
    },
    {
     "name": "stderr",
     "output_type": "stream",
     "text": [
      "pynbody.analysis.profile : Profile v_circ -- this routine assumes the disk is in the x-y plane\n"
     ]
    },
    {
     "name": "stdout",
     "output_type": "stream",
     "text": [
      "halo number 1234 is done\n",
      "faceon has failed, trying backup\n"
     ]
    },
    {
     "name": "stderr",
     "output_type": "stream",
     "text": [
      "pynbody.analysis.profile : Profile v_circ -- this routine assumes the disk is in the x-y plane\n"
     ]
    },
    {
     "name": "stdout",
     "output_type": "stream",
     "text": [
      "halo number 1235 is done\n",
      "faceon has failed, trying backup\n",
      "hyb backup has failed\n",
      "ssc backup has failed\n",
      "com backup has failed\n",
      "pot backup has failed\n",
      "all backups have failed\n",
      "halo number 1236 is done\n",
      "faceon has failed, trying backup\n"
     ]
    },
    {
     "name": "stderr",
     "output_type": "stream",
     "text": [
      "pynbody.analysis.profile : Profile v_circ -- this routine assumes the disk is in the x-y plane\n"
     ]
    },
    {
     "name": "stdout",
     "output_type": "stream",
     "text": [
      "halo number 1237 is done\n",
      "faceon has failed, trying backup\n"
     ]
    },
    {
     "name": "stderr",
     "output_type": "stream",
     "text": [
      "pynbody.analysis.profile : Profile v_circ -- this routine assumes the disk is in the x-y plane\n"
     ]
    },
    {
     "name": "stdout",
     "output_type": "stream",
     "text": [
      "halo number 1238 is done\n",
      "faceon has failed, trying backup\n",
      "hyb backup has failed\n",
      "ssc backup has failed\n"
     ]
    },
    {
     "name": "stderr",
     "output_type": "stream",
     "text": [
      "pynbody.analysis.profile : Profile v_circ -- this routine assumes the disk is in the x-y plane\n"
     ]
    },
    {
     "name": "stdout",
     "output_type": "stream",
     "text": [
      "halo number 1239 is done\n",
      "faceon has failed, trying backup\n",
      "hyb backup has failed\n",
      "ssc backup has failed\n",
      "com backup has failed\n",
      "pot backup has failed\n",
      "all backups have failed\n",
      "halo number 1240 is done\n",
      "faceon has failed, trying backup\n",
      "hyb backup has failed\n",
      "ssc backup has failed\n",
      "com backup has failed\n",
      "pot backup has failed\n",
      "all backups have failed\n",
      "halo number 1241 is done\n"
     ]
    },
    {
     "name": "stderr",
     "output_type": "stream",
     "text": [
      "pynbody.analysis.profile : Profile v_circ -- this routine assumes the disk is in the x-y plane\n"
     ]
    },
    {
     "name": "stdout",
     "output_type": "stream",
     "text": [
      "faceon has failed, trying backup\n",
      "halo number 1242 is done\n",
      "faceon has failed, trying backup\n"
     ]
    },
    {
     "name": "stderr",
     "output_type": "stream",
     "text": [
      "pynbody.analysis.profile : Profile v_circ -- this routine assumes the disk is in the x-y plane\n"
     ]
    },
    {
     "name": "stdout",
     "output_type": "stream",
     "text": [
      "halo number 1243 is done\n",
      "faceon has failed, trying backup\n",
      "hyb backup has failed\n",
      "ssc backup has failed\n",
      "com backup has failed\n",
      "pot backup has failed\n",
      "all backups have failed\n",
      "halo number 1244 is done\n",
      "faceon has failed, trying backup\n",
      "hyb backup has failed\n",
      "ssc backup has failed\n",
      "com backup has failed\n",
      "pot backup has failed\n",
      "all backups have failed\n",
      "halo number 1245 is done\n"
     ]
    },
    {
     "name": "stderr",
     "output_type": "stream",
     "text": [
      "pynbody.analysis.profile : Profile v_circ -- this routine assumes the disk is in the x-y plane\n"
     ]
    },
    {
     "name": "stdout",
     "output_type": "stream",
     "text": [
      "faceon has failed, trying backup\n",
      "halo number 1246 is done\n",
      "faceon has failed, trying backup\n",
      "hyb backup has failed\n",
      "ssc backup has failed\n",
      "com backup has failed\n",
      "pot backup has failed\n",
      "all backups have failed\n",
      "halo number 1247 is done\n",
      "faceon has failed, trying backup\n",
      "hyb backup has failed\n",
      "ssc backup has failed\n",
      "com backup has failed\n",
      "pot backup has failed\n",
      "all backups have failed\n",
      "halo number 1248 is done\n"
     ]
    },
    {
     "name": "stderr",
     "output_type": "stream",
     "text": [
      "pynbody.analysis.profile : Profile v_circ -- this routine assumes the disk is in the x-y plane\n"
     ]
    },
    {
     "name": "stdout",
     "output_type": "stream",
     "text": [
      "faceon has failed, trying backup\n",
      "halo number 1249 is done\n",
      "faceon has failed, trying backup\n",
      "hyb backup has failed\n",
      "ssc backup has failed\n",
      "com backup has failed\n",
      "pot backup has failed\n",
      "all backups have failed\n",
      "halo number 1250 is done\n",
      "faceon has failed, trying backup\n",
      "hyb backup has failed\n",
      "ssc backup has failed\n"
     ]
    },
    {
     "name": "stderr",
     "output_type": "stream",
     "text": [
      "pynbody.analysis.profile : Profile v_circ -- this routine assumes the disk is in the x-y plane\n"
     ]
    },
    {
     "name": "stdout",
     "output_type": "stream",
     "text": [
      "halo number 1251 is done\n",
      "faceon has failed, trying backup\n",
      "hyb backup has failed\n",
      "ssc backup has failed\n",
      "com backup has failed\n",
      "pot backup has failed\n",
      "all backups have failed\n",
      "halo number 1252 is done\n",
      "faceon has failed, trying backup\n"
     ]
    },
    {
     "name": "stderr",
     "output_type": "stream",
     "text": [
      "pynbody.analysis.profile : Profile v_circ -- this routine assumes the disk is in the x-y plane\n"
     ]
    },
    {
     "name": "stdout",
     "output_type": "stream",
     "text": [
      "halo number 1253 is done\n",
      "faceon has failed, trying backup\n",
      "hyb backup has failed\n",
      "ssc backup has failed\n",
      "com backup has failed\n",
      "pot backup has failed\n",
      "all backups have failed\n",
      "halo number 1254 is done\n",
      "faceon has failed, trying backup\n",
      "hyb backup has failed\n",
      "ssc backup has failed\n",
      "com backup has failed\n",
      "pot backup has failed\n",
      "all backups have failed\n",
      "halo number 1255 is done\n",
      "faceon has failed, trying backup\n"
     ]
    },
    {
     "name": "stderr",
     "output_type": "stream",
     "text": [
      "pynbody.analysis.profile : Profile v_circ -- this routine assumes the disk is in the x-y plane\n"
     ]
    },
    {
     "name": "stdout",
     "output_type": "stream",
     "text": [
      "halo number 1256 is done\n",
      "faceon has failed, trying backup\n"
     ]
    },
    {
     "name": "stderr",
     "output_type": "stream",
     "text": [
      "pynbody.analysis.profile : Profile v_circ -- this routine assumes the disk is in the x-y plane\n"
     ]
    },
    {
     "name": "stdout",
     "output_type": "stream",
     "text": [
      "halo number 1257 is done\n",
      "faceon has failed, trying backup\n",
      "hyb backup has failed\n",
      "ssc backup has failed\n"
     ]
    },
    {
     "name": "stderr",
     "output_type": "stream",
     "text": [
      "pynbody.analysis.profile : Profile v_circ -- this routine assumes the disk is in the x-y plane\n"
     ]
    },
    {
     "name": "stdout",
     "output_type": "stream",
     "text": [
      "halo number 1258 is done\n",
      "faceon has failed, trying backup\n",
      "hyb backup has failed\n",
      "ssc backup has failed\n",
      "com backup has failed\n",
      "pot backup has failed\n",
      "all backups have failed\n",
      "halo number 1259 is done\n",
      "faceon has failed, trying backup\n",
      "hyb backup has failed\n",
      "ssc backup has failed\n",
      "com backup has failed\n",
      "pot backup has failed\n",
      "all backups have failed\n",
      "halo number 1260 is done\n",
      "faceon has failed, trying backup\n",
      "hyb backup has failed\n",
      "ssc backup has failed\n",
      "com backup has failed\n",
      "pot backup has failed\n",
      "all backups have failed\n",
      "halo number 1261 is done\n",
      "faceon has failed, trying backup\n",
      "hyb backup has failed\n",
      "ssc backup has failed\n",
      "com backup has failed\n",
      "pot backup has failed\n",
      "all backups have failed\n",
      "halo number 1262 is done\n",
      "faceon has failed, trying backup\n",
      "hyb backup has failed\n",
      "ssc backup has failed\n",
      "com backup has failed\n",
      "pot backup has failed\n",
      "all backups have failed\n",
      "halo number 1263 is done\n",
      "faceon has failed, trying backup\n",
      "hyb backup has failed\n",
      "ssc backup has failed\n"
     ]
    },
    {
     "name": "stderr",
     "output_type": "stream",
     "text": [
      "pynbody.analysis.profile : Profile v_circ -- this routine assumes the disk is in the x-y plane\n"
     ]
    },
    {
     "name": "stdout",
     "output_type": "stream",
     "text": [
      "halo number 1264 is done\n",
      "faceon has failed, trying backup\n",
      "hyb backup has failed\n",
      "ssc backup has failed\n",
      "com backup has failed\n",
      "pot backup has failed\n",
      "all backups have failed\n",
      "halo number 1265 is done\n",
      "faceon has failed, trying backup\n"
     ]
    },
    {
     "name": "stderr",
     "output_type": "stream",
     "text": [
      "pynbody.analysis.profile : Profile v_circ -- this routine assumes the disk is in the x-y plane\n"
     ]
    },
    {
     "name": "stdout",
     "output_type": "stream",
     "text": [
      "halo number 1266 is done\n",
      "faceon has failed, trying backup\n"
     ]
    },
    {
     "name": "stderr",
     "output_type": "stream",
     "text": [
      "pynbody.analysis.profile : Profile v_circ -- this routine assumes the disk is in the x-y plane\n"
     ]
    },
    {
     "name": "stdout",
     "output_type": "stream",
     "text": [
      "halo number 1267 is done\n",
      "faceon has failed, trying backup\n",
      "hyb backup has failed\n",
      "ssc backup has failed\n",
      "com backup has failed\n",
      "pot backup has failed\n",
      "all backups have failed\n",
      "halo number 1268 is done\n",
      "faceon has failed, trying backup\n",
      "hyb backup has failed\n",
      "ssc backup has failed\n",
      "com backup has failed\n",
      "pot backup has failed\n",
      "all backups have failed\n",
      "halo number 1269 is done\n"
     ]
    },
    {
     "name": "stderr",
     "output_type": "stream",
     "text": [
      "pynbody.analysis.profile : Profile v_circ -- this routine assumes the disk is in the x-y plane\n"
     ]
    },
    {
     "name": "stdout",
     "output_type": "stream",
     "text": [
      "faceon has failed, trying backup\n",
      "halo number 1270 is done\n",
      "faceon has failed, trying backup\n",
      "hyb backup has failed\n",
      "ssc backup has failed\n"
     ]
    },
    {
     "name": "stderr",
     "output_type": "stream",
     "text": [
      "pynbody.analysis.profile : Profile v_circ -- this routine assumes the disk is in the x-y plane\n"
     ]
    },
    {
     "name": "stdout",
     "output_type": "stream",
     "text": [
      "halo number 1271 is done\n",
      "faceon has failed, trying backup\n",
      "hyb backup has failed\n",
      "ssc backup has failed\n",
      "com backup has failed\n",
      "pot backup has failed\n",
      "all backups have failed\n",
      "halo number 1272 is done\n",
      "faceon has failed, trying backup\n",
      "hyb backup has failed\n",
      "ssc backup has failed\n",
      "com backup has failed\n",
      "pot backup has failed\n",
      "all backups have failed\n",
      "halo number 1273 is done\n",
      "faceon has failed, trying backup\n",
      "hyb backup has failed\n",
      "ssc backup has failed\n",
      "com backup has failed\n",
      "pot backup has failed\n",
      "all backups have failed\n",
      "halo number 1274 is done\n",
      "faceon has failed, trying backup\n",
      "hyb backup has failed\n",
      "ssc backup has failed\n",
      "com backup has failed\n",
      "pot backup has failed\n",
      "all backups have failed\n",
      "halo number 1275 is done\n",
      "faceon has failed, trying backup\n",
      "hyb backup has failed\n",
      "ssc backup has failed\n",
      "com backup has failed\n",
      "pot backup has failed\n",
      "all backups have failed\n",
      "halo number 1276 is done\n",
      "faceon has failed, trying backup\n",
      "hyb backup has failed\n",
      "ssc backup has failed\n",
      "com backup has failed\n",
      "pot backup has failed\n",
      "all backups have failed\n",
      "halo number 1277 is done\n",
      "faceon has failed, trying backup\n",
      "hyb backup has failed\n",
      "ssc backup has failed\n",
      "com backup has failed\n",
      "pot backup has failed\n",
      "all backups have failed\n",
      "halo number 1278 is done\n",
      "faceon has failed, trying backup\n",
      "hyb backup has failed\n",
      "ssc backup has failed\n",
      "com backup has failed\n",
      "pot backup has failed\n",
      "all backups have failed\n",
      "halo number 1279 is done\n"
     ]
    },
    {
     "name": "stderr",
     "output_type": "stream",
     "text": [
      "pynbody.analysis.profile : Profile v_circ -- this routine assumes the disk is in the x-y plane\n"
     ]
    },
    {
     "name": "stdout",
     "output_type": "stream",
     "text": [
      "faceon has failed, trying backup\n",
      "halo number 1280 is done\n",
      "faceon has failed, trying backup\n",
      "hyb backup has failed\n",
      "ssc backup has failed\n",
      "com backup has failed\n",
      "pot backup has failed\n",
      "all backups have failed\n",
      "halo number 1281 is done\n",
      "faceon has failed, trying backup\n",
      "hyb backup has failed\n",
      "ssc backup has failed\n",
      "com backup has failed\n",
      "pot backup has failed\n",
      "all backups have failed\n",
      "halo number 1282 is done\n",
      "faceon has failed, trying backup\n",
      "hyb backup has failed\n",
      "ssc backup has failed\n",
      "com backup has failed\n",
      "pot backup has failed\n",
      "all backups have failed\n",
      "halo number 1283 is done\n",
      "faceon has failed, trying backup\n",
      "hyb backup has failed\n",
      "ssc backup has failed\n",
      "com backup has failed\n",
      "pot backup has failed\n",
      "all backups have failed\n",
      "halo number 1284 is done\n",
      "faceon has failed, trying backup\n"
     ]
    },
    {
     "name": "stderr",
     "output_type": "stream",
     "text": [
      "pynbody.analysis.profile : Profile v_circ -- this routine assumes the disk is in the x-y plane\n"
     ]
    },
    {
     "name": "stdout",
     "output_type": "stream",
     "text": [
      "halo number 1285 is done\n",
      "faceon has failed, trying backup\n",
      "hyb backup has failed\n",
      "ssc backup has failed\n",
      "com backup has failed\n",
      "pot backup has failed\n",
      "all backups have failed\n",
      "halo number 1286 is done\n",
      "faceon has failed, trying backup\n",
      "hyb backup has failed\n",
      "ssc backup has failed\n",
      "com backup has failed\n",
      "pot backup has failed\n",
      "all backups have failed\n",
      "halo number 1287 is done\n",
      "faceon has failed, trying backup\n",
      "hyb backup has failed\n",
      "ssc backup has failed\n",
      "com backup has failed\n",
      "pot backup has failed\n",
      "all backups have failed\n",
      "halo number 1288 is done\n",
      "faceon has failed, trying backup\n"
     ]
    },
    {
     "name": "stderr",
     "output_type": "stream",
     "text": [
      "pynbody.analysis.profile : Profile v_circ -- this routine assumes the disk is in the x-y plane\n"
     ]
    },
    {
     "name": "stdout",
     "output_type": "stream",
     "text": [
      "halo number 1289 is done\n",
      "faceon has failed, trying backup\n",
      "hyb backup has failed\n",
      "ssc backup has failed\n",
      "com backup has failed\n",
      "pot backup has failed\n",
      "all backups have failed\n",
      "halo number 1290 is done\n",
      "faceon has failed, trying backup\n",
      "hyb backup has failed\n",
      "ssc backup has failed\n",
      "com backup has failed\n",
      "pot backup has failed\n",
      "all backups have failed\n",
      "halo number 1291 is done\n"
     ]
    },
    {
     "name": "stderr",
     "output_type": "stream",
     "text": [
      "pynbody.analysis.profile : Profile v_circ -- this routine assumes the disk is in the x-y plane\n"
     ]
    },
    {
     "name": "stdout",
     "output_type": "stream",
     "text": [
      "faceon has failed, trying backup\n",
      "halo number 1292 is done\n",
      "faceon has failed, trying backup\n",
      "hyb backup has failed\n",
      "ssc backup has failed\n",
      "com backup has failed\n",
      "pot backup has failed\n",
      "all backups have failed\n",
      "halo number 1293 is done\n",
      "faceon has failed, trying backup\n",
      "hyb backup has failed\n",
      "ssc backup has failed\n",
      "com backup has failed\n",
      "pot backup has failed\n",
      "all backups have failed\n",
      "halo number 1294 is done\n",
      "faceon has failed, trying backup\n",
      "hyb backup has failed\n",
      "ssc backup has failed\n",
      "com backup has failed\n",
      "pot backup has failed\n",
      "all backups have failed\n",
      "halo number 1295 is done\n",
      "faceon has failed, trying backup\n",
      "hyb backup has failed\n",
      "ssc backup has failed\n",
      "com backup has failed\n",
      "pot backup has failed\n",
      "all backups have failed\n",
      "halo number 1296 is done\n",
      "faceon has failed, trying backup\n",
      "hyb backup has failed\n",
      "ssc backup has failed\n",
      "com backup has failed\n",
      "pot backup has failed\n",
      "all backups have failed\n",
      "halo number 1297 is done\n",
      "faceon has failed, trying backup\n",
      "hyb backup has failed\n",
      "ssc backup has failed\n",
      "com backup has failed\n",
      "pot backup has failed\n",
      "all backups have failed\n",
      "halo number 1298 is done\n",
      "faceon has failed, trying backup\n",
      "hyb backup has failed\n",
      "ssc backup has failed\n"
     ]
    },
    {
     "name": "stderr",
     "output_type": "stream",
     "text": [
      "pynbody.analysis.profile : Profile v_circ -- this routine assumes the disk is in the x-y plane\n"
     ]
    },
    {
     "name": "stdout",
     "output_type": "stream",
     "text": [
      "halo number 1299 is done\n",
      "faceon has failed, trying backup\n",
      "hyb backup has failed\n",
      "ssc backup has failed\n",
      "com backup has failed\n",
      "pot backup has failed\n",
      "all backups have failed\n",
      "halo number 1300 is done\n",
      "faceon has failed, trying backup\n",
      "hyb backup has failed\n",
      "ssc backup has failed\n",
      "com backup has failed\n",
      "pot backup has failed\n",
      "all backups have failed\n",
      "halo number 1301 is done\n",
      "faceon has failed, trying backup\n"
     ]
    },
    {
     "name": "stderr",
     "output_type": "stream",
     "text": [
      "pynbody.analysis.profile : Profile v_circ -- this routine assumes the disk is in the x-y plane\n"
     ]
    },
    {
     "name": "stdout",
     "output_type": "stream",
     "text": [
      "halo number 1302 is done\n",
      "faceon has failed, trying backup\n"
     ]
    },
    {
     "name": "stderr",
     "output_type": "stream",
     "text": [
      "pynbody.analysis.profile : Profile v_circ -- this routine assumes the disk is in the x-y plane\n"
     ]
    },
    {
     "name": "stdout",
     "output_type": "stream",
     "text": [
      "halo number 1303 is done\n",
      "faceon has failed, trying backup\n"
     ]
    },
    {
     "name": "stderr",
     "output_type": "stream",
     "text": [
      "pynbody.analysis.profile : Profile v_circ -- this routine assumes the disk is in the x-y plane\n"
     ]
    },
    {
     "name": "stdout",
     "output_type": "stream",
     "text": [
      "halo number 1304 is done\n",
      "faceon has failed, trying backup\n",
      "hyb backup has failed\n",
      "ssc backup has failed\n",
      "com backup has failed\n",
      "pot backup has failed\n",
      "all backups have failed\n",
      "halo number 1305 is done\n",
      "faceon has failed, trying backup\n",
      "hyb backup has failed\n",
      "ssc backup has failed\n",
      "com backup has failed\n",
      "pot backup has failed\n",
      "all backups have failed\n",
      "halo number 1306 is done\n",
      "faceon has failed, trying backup\n",
      "hyb backup has failed\n",
      "ssc backup has failed\n",
      "com backup has failed\n",
      "pot backup has failed\n",
      "all backups have failed\n",
      "halo number 1307 is done\n",
      "faceon has failed, trying backup\n"
     ]
    },
    {
     "name": "stderr",
     "output_type": "stream",
     "text": [
      "pynbody.analysis.profile : Profile v_circ -- this routine assumes the disk is in the x-y plane\n"
     ]
    },
    {
     "name": "stdout",
     "output_type": "stream",
     "text": [
      "halo number 1308 is done\n",
      "faceon has failed, trying backup\n",
      "hyb backup has failed\n",
      "ssc backup has failed\n",
      "com backup has failed\n",
      "pot backup has failed\n",
      "all backups have failed\n",
      "halo number 1309 is done\n",
      "faceon has failed, trying backup\n"
     ]
    },
    {
     "name": "stderr",
     "output_type": "stream",
     "text": [
      "pynbody.analysis.profile : Profile v_circ -- this routine assumes the disk is in the x-y plane\n"
     ]
    },
    {
     "name": "stdout",
     "output_type": "stream",
     "text": [
      "halo number 1310 is done\n",
      "faceon has failed, trying backup\n",
      "hyb backup has failed\n",
      "ssc backup has failed\n",
      "com backup has failed\n",
      "pot backup has failed\n",
      "all backups have failed\n",
      "halo number 1311 is done\n",
      "faceon has failed, trying backup\n",
      "hyb backup has failed\n",
      "ssc backup has failed\n",
      "com backup has failed\n",
      "pot backup has failed\n",
      "all backups have failed\n",
      "halo number 1312 is done\n",
      "faceon has failed, trying backup\n"
     ]
    },
    {
     "name": "stderr",
     "output_type": "stream",
     "text": [
      "pynbody.analysis.profile : Profile v_circ -- this routine assumes the disk is in the x-y plane\n"
     ]
    },
    {
     "name": "stdout",
     "output_type": "stream",
     "text": [
      "halo number 1313 is done\n",
      "faceon has failed, trying backup\n",
      "hyb backup has failed\n",
      "ssc backup has failed\n",
      "com backup has failed\n",
      "pot backup has failed\n",
      "all backups have failed\n",
      "halo number 1314 is done\n",
      "faceon has failed, trying backup\n",
      "hyb backup has failed\n",
      "ssc backup has failed\n",
      "com backup has failed\n",
      "pot backup has failed\n",
      "all backups have failed\n",
      "halo number 1315 is done\n",
      "faceon has failed, trying backup\n",
      "hyb backup has failed\n",
      "ssc backup has failed\n",
      "com backup has failed\n",
      "pot backup has failed\n",
      "all backups have failed\n",
      "halo number 1316 is done\n",
      "faceon has failed, trying backup\n",
      "hyb backup has failed\n",
      "ssc backup has failed\n",
      "com backup has failed\n",
      "pot backup has failed\n",
      "all backups have failed\n",
      "halo number 1317 is done\n",
      "faceon has failed, trying backup\n",
      "hyb backup has failed\n",
      "ssc backup has failed\n",
      "com backup has failed\n",
      "pot backup has failed\n",
      "all backups have failed\n",
      "halo number 1318 is done\n",
      "faceon has failed, trying backup\n",
      "hyb backup has failed\n",
      "ssc backup has failed\n",
      "com backup has failed\n",
      "pot backup has failed\n",
      "all backups have failed\n",
      "halo number 1319 is done\n",
      "faceon has failed, trying backup\n",
      "hyb backup has failed\n",
      "ssc backup has failed\n",
      "com backup has failed\n",
      "pot backup has failed\n",
      "all backups have failed\n",
      "halo number 1320 is done\n",
      "faceon has failed, trying backup\n",
      "hyb backup has failed\n",
      "ssc backup has failed\n",
      "com backup has failed\n",
      "pot backup has failed\n",
      "all backups have failed\n",
      "halo number 1321 is done\n",
      "faceon has failed, trying backup\n",
      "hyb backup has failed\n",
      "ssc backup has failed\n",
      "com backup has failed\n",
      "pot backup has failed\n",
      "all backups have failed\n",
      "halo number 1322 is done\n",
      "faceon has failed, trying backup\n",
      "hyb backup has failed\n",
      "ssc backup has failed\n",
      "com backup has failed\n",
      "pot backup has failed\n",
      "all backups have failed\n",
      "halo number 1323 is done\n",
      "faceon has failed, trying backup\n",
      "hyb backup has failed\n",
      "ssc backup has failed\n",
      "com backup has failed\n",
      "pot backup has failed\n",
      "all backups have failed\n",
      "halo number 1324 is done\n",
      "faceon has failed, trying backup\n",
      "hyb backup has failed\n",
      "ssc backup has failed\n",
      "com backup has failed\n",
      "pot backup has failed\n",
      "all backups have failed\n",
      "halo number 1325 is done\n",
      "faceon has failed, trying backup\n",
      "hyb backup has failed\n",
      "ssc backup has failed\n",
      "com backup has failed\n",
      "pot backup has failed\n",
      "all backups have failed\n",
      "halo number 1326 is done\n",
      "faceon has failed, trying backup\n",
      "hyb backup has failed\n",
      "ssc backup has failed\n",
      "com backup has failed\n",
      "pot backup has failed\n",
      "all backups have failed\n",
      "halo number 1327 is done\n",
      "faceon has failed, trying backup\n",
      "hyb backup has failed\n",
      "ssc backup has failed\n",
      "com backup has failed\n",
      "pot backup has failed\n",
      "all backups have failed\n",
      "halo number 1328 is done\n",
      "faceon has failed, trying backup\n"
     ]
    },
    {
     "name": "stderr",
     "output_type": "stream",
     "text": [
      "pynbody.analysis.profile : Profile v_circ -- this routine assumes the disk is in the x-y plane\n"
     ]
    },
    {
     "name": "stdout",
     "output_type": "stream",
     "text": [
      "halo number 1329 is done\n",
      "faceon has failed, trying backup\n",
      "hyb backup has failed\n",
      "ssc backup has failed\n",
      "com backup has failed\n",
      "pot backup has failed\n",
      "all backups have failed\n",
      "halo number 1330 is done\n",
      "faceon has failed, trying backup\n"
     ]
    },
    {
     "name": "stderr",
     "output_type": "stream",
     "text": [
      "pynbody.analysis.profile : Profile v_circ -- this routine assumes the disk is in the x-y plane\n"
     ]
    },
    {
     "name": "stdout",
     "output_type": "stream",
     "text": [
      "halo number 1331 is done\n",
      "faceon has failed, trying backup\n",
      "hyb backup has failed\n",
      "ssc backup has failed\n",
      "com backup has failed\n",
      "pot backup has failed\n",
      "all backups have failed\n",
      "halo number 1332 is done\n"
     ]
    },
    {
     "name": "stderr",
     "output_type": "stream",
     "text": [
      "pynbody.analysis.profile : Profile v_circ -- this routine assumes the disk is in the x-y plane\n"
     ]
    },
    {
     "name": "stdout",
     "output_type": "stream",
     "text": [
      "faceon has failed, trying backup\n",
      "halo number 1333 is done\n",
      "faceon has failed, trying backup\n"
     ]
    },
    {
     "name": "stderr",
     "output_type": "stream",
     "text": [
      "pynbody.analysis.profile : Profile v_circ -- this routine assumes the disk is in the x-y plane\n"
     ]
    },
    {
     "name": "stdout",
     "output_type": "stream",
     "text": [
      "halo number 1334 is done\n",
      "faceon has failed, trying backup\n"
     ]
    },
    {
     "name": "stderr",
     "output_type": "stream",
     "text": [
      "pynbody.analysis.profile : Profile v_circ -- this routine assumes the disk is in the x-y plane\n"
     ]
    },
    {
     "name": "stdout",
     "output_type": "stream",
     "text": [
      "halo number 1335 is done\n",
      "faceon has failed, trying backup\n",
      "hyb backup has failed\n",
      "ssc backup has failed\n",
      "com backup has failed\n",
      "pot backup has failed\n",
      "all backups have failed\n",
      "halo number 1336 is done\n",
      "faceon has failed, trying backup\n",
      "hyb backup has failed\n",
      "ssc backup has failed\n",
      "com backup has failed\n",
      "pot backup has failed\n",
      "all backups have failed\n",
      "halo number 1337 is done\n"
     ]
    },
    {
     "name": "stderr",
     "output_type": "stream",
     "text": [
      "pynbody.analysis.profile : Profile v_circ -- this routine assumes the disk is in the x-y plane\n"
     ]
    },
    {
     "name": "stdout",
     "output_type": "stream",
     "text": [
      "faceon has failed, trying backup\n",
      "halo number 1338 is done\n",
      "faceon has failed, trying backup\n",
      "hyb backup has failed\n",
      "ssc backup has failed\n",
      "com backup has failed\n",
      "pot backup has failed\n",
      "all backups have failed\n",
      "halo number 1339 is done\n",
      "faceon has failed, trying backup\n",
      "hyb backup has failed\n",
      "ssc backup has failed\n",
      "com backup has failed\n",
      "pot backup has failed\n",
      "all backups have failed\n",
      "halo number 1340 is done\n",
      "faceon has failed, trying backup\n",
      "hyb backup has failed\n",
      "ssc backup has failed\n",
      "com backup has failed\n",
      "pot backup has failed\n",
      "all backups have failed\n",
      "halo number 1341 is done\n",
      "faceon has failed, trying backup\n",
      "hyb backup has failed\n",
      "ssc backup has failed\n",
      "com backup has failed\n",
      "pot backup has failed\n",
      "all backups have failed\n",
      "halo number 1342 is done\n",
      "faceon has failed, trying backup\n",
      "hyb backup has failed\n",
      "ssc backup has failed\n",
      "com backup has failed\n",
      "pot backup has failed\n",
      "all backups have failed\n",
      "halo number 1343 is done\n",
      "faceon has failed, trying backup\n",
      "hyb backup has failed\n",
      "ssc backup has failed\n",
      "com backup has failed\n",
      "pot backup has failed\n",
      "all backups have failed\n",
      "halo number 1344 is done\n",
      "faceon has failed, trying backup\n"
     ]
    },
    {
     "name": "stderr",
     "output_type": "stream",
     "text": [
      "pynbody.analysis.profile : Profile v_circ -- this routine assumes the disk is in the x-y plane\n"
     ]
    },
    {
     "name": "stdout",
     "output_type": "stream",
     "text": [
      "halo number 1345 is done\n",
      "faceon has failed, trying backup\n",
      "hyb backup has failed\n",
      "ssc backup has failed\n",
      "com backup has failed\n",
      "pot backup has failed\n",
      "all backups have failed\n",
      "halo number 1346 is done\n",
      "faceon has failed, trying backup\n",
      "hyb backup has failed\n",
      "ssc backup has failed\n",
      "com backup has failed\n",
      "pot backup has failed\n",
      "all backups have failed\n",
      "halo number 1347 is done\n",
      "faceon has failed, trying backup\n",
      "hyb backup has failed\n",
      "ssc backup has failed\n",
      "com backup has failed\n",
      "pot backup has failed\n",
      "all backups have failed\n",
      "halo number 1348 is done\n",
      "faceon has failed, trying backup\n",
      "hyb backup has failed\n",
      "ssc backup has failed\n",
      "com backup has failed\n",
      "pot backup has failed\n",
      "all backups have failed\n",
      "halo number 1349 is done\n",
      "faceon has failed, trying backup\n",
      "hyb backup has failed\n",
      "ssc backup has failed\n",
      "com backup has failed\n",
      "pot backup has failed\n",
      "all backups have failed\n",
      "halo number 1350 is done\n",
      "faceon has failed, trying backup\n",
      "hyb backup has failed\n",
      "ssc backup has failed\n",
      "com backup has failed\n",
      "pot backup has failed\n",
      "all backups have failed\n",
      "halo number 1351 is done\n",
      "faceon has failed, trying backup\n",
      "hyb backup has failed\n",
      "ssc backup has failed\n",
      "com backup has failed\n",
      "pot backup has failed\n",
      "all backups have failed\n",
      "halo number 1352 is done\n",
      "faceon has failed, trying backup\n"
     ]
    },
    {
     "name": "stderr",
     "output_type": "stream",
     "text": [
      "pynbody.analysis.profile : Profile v_circ -- this routine assumes the disk is in the x-y plane\n"
     ]
    },
    {
     "name": "stdout",
     "output_type": "stream",
     "text": [
      "halo number 1353 is done\n",
      "faceon has failed, trying backup\n",
      "hyb backup has failed\n",
      "ssc backup has failed\n",
      "com backup has failed\n",
      "pot backup has failed\n",
      "all backups have failed\n",
      "halo number 1354 is done\n",
      "faceon has failed, trying backup\n",
      "hyb backup has failed\n",
      "ssc backup has failed\n",
      "com backup has failed\n",
      "pot backup has failed\n",
      "all backups have failed\n",
      "halo number 1355 is done\n",
      "faceon has failed, trying backup\n"
     ]
    },
    {
     "name": "stderr",
     "output_type": "stream",
     "text": [
      "pynbody.analysis.profile : Profile v_circ -- this routine assumes the disk is in the x-y plane\n"
     ]
    },
    {
     "name": "stdout",
     "output_type": "stream",
     "text": [
      "halo number 1356 is done\n",
      "faceon has failed, trying backup\n",
      "hyb backup has failed\n",
      "ssc backup has failed\n",
      "com backup has failed\n",
      "pot backup has failed\n",
      "all backups have failed\n",
      "halo number 1357 is done\n",
      "faceon has failed, trying backup\n",
      "hyb backup has failed\n",
      "ssc backup has failed\n"
     ]
    },
    {
     "name": "stderr",
     "output_type": "stream",
     "text": [
      "pynbody.analysis.profile : Profile v_circ -- this routine assumes the disk is in the x-y plane\n"
     ]
    },
    {
     "name": "stdout",
     "output_type": "stream",
     "text": [
      "halo number 1358 is done\n",
      "faceon has failed, trying backup\n",
      "hyb backup has failed\n",
      "ssc backup has failed\n",
      "com backup has failed\n",
      "pot backup has failed\n",
      "all backups have failed\n",
      "halo number 1359 is done\n",
      "faceon has failed, trying backup\n",
      "hyb backup has failed\n",
      "ssc backup has failed\n",
      "com backup has failed\n",
      "pot backup has failed\n",
      "all backups have failed\n",
      "halo number 1360 is done\n"
     ]
    },
    {
     "name": "stderr",
     "output_type": "stream",
     "text": [
      "pynbody.analysis.profile : Profile v_circ -- this routine assumes the disk is in the x-y plane\n"
     ]
    },
    {
     "name": "stdout",
     "output_type": "stream",
     "text": [
      "faceon has failed, trying backup\n",
      "halo number 1361 is done\n",
      "faceon has failed, trying backup\n"
     ]
    },
    {
     "name": "stderr",
     "output_type": "stream",
     "text": [
      "pynbody.analysis.profile : Profile v_circ -- this routine assumes the disk is in the x-y plane\n"
     ]
    },
    {
     "name": "stdout",
     "output_type": "stream",
     "text": [
      "halo number 1362 is done\n",
      "faceon has failed, trying backup\n",
      "hyb backup has failed\n",
      "ssc backup has failed\n",
      "com backup has failed\n",
      "pot backup has failed\n",
      "all backups have failed\n",
      "halo number 1363 is done\n",
      "faceon has failed, trying backup\n"
     ]
    },
    {
     "name": "stderr",
     "output_type": "stream",
     "text": [
      "pynbody.analysis.profile : Profile v_circ -- this routine assumes the disk is in the x-y plane\n"
     ]
    },
    {
     "name": "stdout",
     "output_type": "stream",
     "text": [
      "halo number 1364 is done\n",
      "faceon has failed, trying backup\n",
      "hyb backup has failed\n",
      "ssc backup has failed\n",
      "com backup has failed\n",
      "pot backup has failed\n",
      "all backups have failed\n",
      "halo number 1365 is done\n",
      "faceon has failed, trying backup\n",
      "hyb backup has failed\n",
      "ssc backup has failed\n",
      "com backup has failed\n",
      "pot backup has failed\n",
      "all backups have failed\n",
      "halo number 1366 is done\n",
      "faceon has failed, trying backup\n",
      "hyb backup has failed\n",
      "ssc backup has failed\n",
      "com backup has failed\n",
      "pot backup has failed\n",
      "all backups have failed\n",
      "halo number 1367 is done\n",
      "faceon has failed, trying backup\n",
      "hyb backup has failed\n",
      "ssc backup has failed\n",
      "com backup has failed\n",
      "pot backup has failed\n",
      "all backups have failed\n",
      "halo number 1368 is done\n",
      "faceon has failed, trying backup\n"
     ]
    },
    {
     "name": "stderr",
     "output_type": "stream",
     "text": [
      "pynbody.analysis.profile : Profile v_circ -- this routine assumes the disk is in the x-y plane\n"
     ]
    },
    {
     "name": "stdout",
     "output_type": "stream",
     "text": [
      "halo number 1369 is done\n",
      "faceon has failed, trying backup\n",
      "hyb backup has failed\n",
      "ssc backup has failed\n",
      "com backup has failed\n",
      "pot backup has failed\n",
      "all backups have failed\n",
      "halo number 1370 is done\n",
      "faceon has failed, trying backup\n",
      "hyb backup has failed\n",
      "ssc backup has failed\n",
      "com backup has failed\n",
      "pot backup has failed\n",
      "all backups have failed\n",
      "halo number 1371 is done\n",
      "faceon has failed, trying backup\n",
      "hyb backup has failed\n",
      "ssc backup has failed\n",
      "com backup has failed\n",
      "pot backup has failed\n",
      "all backups have failed\n",
      "halo number 1372 is done\n",
      "faceon has failed, trying backup\n",
      "hyb backup has failed\n",
      "ssc backup has failed\n",
      "com backup has failed\n",
      "pot backup has failed\n",
      "all backups have failed\n",
      "halo number 1373 is done\n",
      "faceon has failed, trying backup\n",
      "hyb backup has failed\n",
      "ssc backup has failed\n",
      "com backup has failed\n",
      "pot backup has failed\n",
      "all backups have failed\n",
      "halo number 1374 is done\n",
      "faceon has failed, trying backup\n",
      "hyb backup has failed\n",
      "ssc backup has failed\n",
      "com backup has failed\n",
      "pot backup has failed\n",
      "all backups have failed\n",
      "halo number 1375 is done\n",
      "faceon has failed, trying backup\n",
      "hyb backup has failed\n",
      "ssc backup has failed\n",
      "com backup has failed\n",
      "pot backup has failed\n",
      "all backups have failed\n",
      "halo number 1376 is done\n",
      "faceon has failed, trying backup\n",
      "hyb backup has failed\n",
      "ssc backup has failed\n"
     ]
    },
    {
     "name": "stderr",
     "output_type": "stream",
     "text": [
      "pynbody.analysis.profile : Profile v_circ -- this routine assumes the disk is in the x-y plane\n"
     ]
    },
    {
     "name": "stdout",
     "output_type": "stream",
     "text": [
      "halo number 1377 is done\n",
      "faceon has failed, trying backup\n",
      "hyb backup has failed\n",
      "ssc backup has failed\n",
      "com backup has failed\n",
      "pot backup has failed\n",
      "all backups have failed\n",
      "halo number 1378 is done\n",
      "faceon has failed, trying backup\n",
      "hyb backup has failed\n",
      "ssc backup has failed\n",
      "com backup has failed\n",
      "pot backup has failed\n",
      "all backups have failed\n",
      "halo number 1379 is done\n",
      "faceon has failed, trying backup\n",
      "hyb backup has failed\n",
      "ssc backup has failed\n",
      "com backup has failed\n",
      "pot backup has failed\n",
      "all backups have failed\n",
      "halo number 1380 is done\n",
      "faceon has failed, trying backup\n"
     ]
    },
    {
     "name": "stderr",
     "output_type": "stream",
     "text": [
      "pynbody.analysis.profile : Profile v_circ -- this routine assumes the disk is in the x-y plane\n"
     ]
    },
    {
     "name": "stdout",
     "output_type": "stream",
     "text": [
      "halo number 1381 is done\n",
      "faceon has failed, trying backup\n",
      "hyb backup has failed\n",
      "ssc backup has failed\n",
      "com backup has failed\n",
      "pot backup has failed\n",
      "all backups have failed\n",
      "halo number 1382 is done\n",
      "faceon has failed, trying backup\n",
      "hyb backup has failed\n",
      "ssc backup has failed\n",
      "com backup has failed\n",
      "pot backup has failed\n",
      "all backups have failed\n",
      "halo number 1383 is done\n",
      "faceon has failed, trying backup\n"
     ]
    },
    {
     "name": "stderr",
     "output_type": "stream",
     "text": [
      "pynbody.analysis.profile : Profile v_circ -- this routine assumes the disk is in the x-y plane\n"
     ]
    },
    {
     "name": "stdout",
     "output_type": "stream",
     "text": [
      "halo number 1384 is done\n",
      "faceon has failed, trying backup\n",
      "hyb backup has failed\n",
      "ssc backup has failed\n",
      "com backup has failed\n",
      "pot backup has failed\n",
      "all backups have failed\n",
      "halo number 1385 is done\n",
      "faceon has failed, trying backup\n"
     ]
    },
    {
     "name": "stderr",
     "output_type": "stream",
     "text": [
      "pynbody.analysis.profile : Profile v_circ -- this routine assumes the disk is in the x-y plane\n"
     ]
    },
    {
     "name": "stdout",
     "output_type": "stream",
     "text": [
      "halo number 1386 is done\n",
      "faceon has failed, trying backup\n",
      "hyb backup has failed\n",
      "ssc backup has failed\n",
      "com backup has failed\n",
      "pot backup has failed\n",
      "all backups have failed\n",
      "halo number 1387 is done\n",
      "faceon has failed, trying backup\n",
      "hyb backup has failed\n",
      "ssc backup has failed\n",
      "com backup has failed\n",
      "pot backup has failed\n",
      "all backups have failed\n",
      "halo number 1388 is done\n",
      "faceon has failed, trying backup\n",
      "hyb backup has failed\n",
      "ssc backup has failed\n",
      "com backup has failed\n",
      "pot backup has failed\n",
      "all backups have failed\n",
      "halo number 1389 is done\n"
     ]
    },
    {
     "name": "stderr",
     "output_type": "stream",
     "text": [
      "pynbody.analysis.profile : Profile v_circ -- this routine assumes the disk is in the x-y plane\n"
     ]
    },
    {
     "name": "stdout",
     "output_type": "stream",
     "text": [
      "faceon has failed, trying backup\n",
      "halo number 1390 is done\n",
      "faceon has failed, trying backup\n",
      "hyb backup has failed\n",
      "ssc backup has failed\n",
      "com backup has failed\n",
      "pot backup has failed\n",
      "all backups have failed\n",
      "halo number 1391 is done\n",
      "faceon has failed, trying backup\n",
      "hyb backup has failed\n",
      "ssc backup has failed\n",
      "com backup has failed\n",
      "pot backup has failed\n",
      "all backups have failed\n",
      "halo number 1392 is done\n",
      "faceon has failed, trying backup\n"
     ]
    },
    {
     "name": "stderr",
     "output_type": "stream",
     "text": [
      "pynbody.analysis.profile : Profile v_circ -- this routine assumes the disk is in the x-y plane\n"
     ]
    },
    {
     "name": "stdout",
     "output_type": "stream",
     "text": [
      "halo number 1393 is done\n",
      "faceon has failed, trying backup\n"
     ]
    },
    {
     "name": "stderr",
     "output_type": "stream",
     "text": [
      "pynbody.analysis.profile : Profile v_circ -- this routine assumes the disk is in the x-y plane\n"
     ]
    },
    {
     "name": "stdout",
     "output_type": "stream",
     "text": [
      "halo number 1394 is done\n",
      "faceon has failed, trying backup\n",
      "hyb backup has failed\n",
      "ssc backup has failed\n"
     ]
    },
    {
     "name": "stderr",
     "output_type": "stream",
     "text": [
      "pynbody.analysis.profile : Profile v_circ -- this routine assumes the disk is in the x-y plane\n"
     ]
    },
    {
     "name": "stdout",
     "output_type": "stream",
     "text": [
      "halo number 1395 is done\n",
      "faceon has failed, trying backup\n",
      "hyb backup has failed\n",
      "ssc backup has failed\n",
      "com backup has failed\n",
      "pot backup has failed\n",
      "all backups have failed\n",
      "halo number 1396 is done\n",
      "faceon has failed, trying backup\n",
      "hyb backup has failed\n",
      "ssc backup has failed\n",
      "com backup has failed\n",
      "pot backup has failed\n",
      "all backups have failed\n",
      "halo number 1397 is done\n",
      "faceon has failed, trying backup\n",
      "hyb backup has failed\n",
      "ssc backup has failed\n",
      "com backup has failed\n",
      "pot backup has failed\n",
      "all backups have failed\n",
      "halo number 1398 is done\n",
      "faceon has failed, trying backup\n",
      "hyb backup has failed\n",
      "ssc backup has failed\n",
      "com backup has failed\n",
      "pot backup has failed\n",
      "all backups have failed\n",
      "halo number 1399 is done\n",
      "faceon has failed, trying backup\n",
      "hyb backup has failed\n",
      "ssc backup has failed\n",
      "com backup has failed\n",
      "pot backup has failed\n",
      "all backups have failed\n",
      "halo number 1400 is done\n",
      "faceon has failed, trying backup\n"
     ]
    },
    {
     "name": "stderr",
     "output_type": "stream",
     "text": [
      "pynbody.analysis.profile : Profile v_circ -- this routine assumes the disk is in the x-y plane\n"
     ]
    },
    {
     "name": "stdout",
     "output_type": "stream",
     "text": [
      "halo number 1401 is done\n",
      "faceon has failed, trying backup\n",
      "hyb backup has failed\n",
      "ssc backup has failed\n",
      "com backup has failed\n",
      "pot backup has failed\n",
      "all backups have failed\n",
      "halo number 1402 is done\n",
      "faceon has failed, trying backup\n",
      "hyb backup has failed\n",
      "ssc backup has failed\n",
      "com backup has failed\n",
      "pot backup has failed\n",
      "all backups have failed\n",
      "halo number 1403 is done\n",
      "faceon has failed, trying backup\n",
      "hyb backup has failed\n",
      "ssc backup has failed\n",
      "com backup has failed\n",
      "pot backup has failed\n",
      "all backups have failed\n",
      "halo number 1404 is done\n",
      "faceon has failed, trying backup\n",
      "hyb backup has failed\n",
      "ssc backup has failed\n",
      "com backup has failed\n",
      "pot backup has failed\n",
      "all backups have failed\n",
      "halo number 1405 is done\n",
      "faceon has failed, trying backup\n",
      "hyb backup has failed\n",
      "ssc backup has failed\n",
      "com backup has failed\n",
      "pot backup has failed\n",
      "all backups have failed\n",
      "halo number 1406 is done\n",
      "faceon has failed, trying backup\n",
      "hyb backup has failed\n",
      "ssc backup has failed\n",
      "com backup has failed\n",
      "pot backup has failed\n",
      "all backups have failed\n",
      "halo number 1407 is done\n",
      "faceon has failed, trying backup\n",
      "hyb backup has failed\n",
      "ssc backup has failed\n",
      "com backup has failed\n",
      "pot backup has failed\n",
      "all backups have failed\n",
      "halo number 1408 is done\n",
      "faceon has failed, trying backup\n"
     ]
    },
    {
     "name": "stderr",
     "output_type": "stream",
     "text": [
      "pynbody.analysis.profile : Profile v_circ -- this routine assumes the disk is in the x-y plane\n"
     ]
    },
    {
     "name": "stdout",
     "output_type": "stream",
     "text": [
      "halo number 1409 is done\n",
      "faceon has failed, trying backup\n",
      "hyb backup has failed\n",
      "ssc backup has failed\n",
      "com backup has failed\n",
      "pot backup has failed\n",
      "all backups have failed\n",
      "halo number 1410 is done\n",
      "[203, 205, 214, 218, 219, 223, 238, 244, 281, 288, 292, 308, 317, 326, 327, 332, 337, 352, 355, 378, 382, 391, 401, 404, 407, 430, 439, 440, 442, 443, 448, 452, 455, 463, 469, 486, 496, 508, 514, 518, 519, 523, 527, 528, 534, 537, 544, 546, 547, 549, 555, 560, 561, 572, 575, 576, 580, 582, 583, 586, 588, 591, 603, 605, 608, 610, 612, 615, 617, 618, 623, 628, 631, 633, 637, 643, 646, 652, 653, 655, 658, 663, 668, 669, 672, 674, 675, 676, 681, 682, 685, 690, 691, 698, 699, 700, 704, 705, 706, 707, 708, 711, 719, 726, 727, 730, 734, 735, 737, 739, 740, 741, 744, 745, 747, 748, 752, 754, 758, 760, 761, 774, 777, 778, 782, 784, 786, 787, 790, 791, 796, 798, 801, 802, 803, 807, 809, 811, 814, 816, 817, 819, 820, 821, 824, 825, 827, 828, 829, 830, 831, 833, 835, 838, 839, 843, 845, 848, 850, 856, 857, 858, 859, 860, 861, 863, 865, 867, 868, 869, 871, 873, 875, 883, 884, 885, 887, 889, 891, 892, 893, 896, 899, 900, 902, 903, 904, 905, 906, 908, 909, 911, 912, 916, 917, 918, 920, 923, 924, 927, 928, 929, 932, 934, 936, 937, 941, 949, 952, 953, 955, 958, 961, 963, 964, 969, 972, 973, 976, 978, 979, 980, 983, 985, 986, 991, 993, 994, 998, 999, 1000, 1002, 1004, 1005, 1007, 1009, 1015, 1016, 1020, 1021, 1022, 1023, 1024, 1025, 1027, 1029, 1030, 1031, 1032, 1033, 1034, 1037, 1039, 1042, 1043, 1045, 1047, 1048, 1049, 1054, 1056, 1059, 1061, 1064, 1065, 1067, 1068, 1069, 1072, 1077, 1080, 1081, 1082, 1083, 1084, 1085, 1086, 1087, 1088, 1089, 1093, 1095, 1096, 1100, 1101, 1102, 1104, 1106, 1108, 1109, 1110, 1111, 1112, 1113, 1116, 1119, 1120, 1122, 1123, 1124, 1125, 1126, 1127, 1128, 1129, 1130, 1131, 1135, 1137, 1138, 1139, 1140, 1141, 1142, 1146, 1147, 1148, 1149, 1151, 1152, 1153, 1154, 1155, 1156, 1159, 1162, 1163, 1164, 1165, 1167, 1168, 1169, 1171, 1172, 1173, 1176, 1177, 1178, 1179, 1181, 1182, 1185, 1186, 1188, 1189, 1190, 1191, 1192, 1193, 1195, 1196, 1197, 1199, 1200, 1201, 1202, 1203, 1204, 1205, 1207, 1208, 1209, 1210, 1211, 1212, 1214, 1215, 1217, 1218, 1219, 1221, 1224, 1226, 1229, 1230, 1232, 1233, 1236, 1240, 1241, 1244, 1245, 1247, 1248, 1250, 1252, 1254, 1255, 1259, 1260, 1261, 1262, 1263, 1265, 1268, 1269, 1272, 1273, 1274, 1275, 1276, 1277, 1278, 1279, 1281, 1282, 1283, 1284, 1286, 1287, 1288, 1290, 1291, 1293, 1294, 1295, 1296, 1297, 1298, 1300, 1301, 1305, 1306, 1307, 1309, 1311, 1312, 1314, 1315, 1316, 1317, 1318, 1319, 1320, 1321, 1322, 1323, 1324, 1325, 1326, 1327, 1328, 1330, 1332, 1336, 1337, 1339, 1340, 1341, 1342, 1343, 1344, 1346, 1347, 1348, 1349, 1350, 1351, 1352, 1354, 1355, 1357, 1359, 1360, 1363, 1365, 1366, 1367, 1368, 1370, 1371, 1372, 1373, 1374, 1375, 1376, 1378, 1379, 1380, 1382, 1383, 1385, 1387, 1388, 1389, 1391, 1392, 1396, 1397, 1398, 1399, 1400, 1402, 1403, 1404, 1405, 1406, 1407, 1408, 1410]\n"
     ]
    }
   ],
   "source": [
    "bad_halos = []\n",
    "for i in range(201,len(h)):\n",
    "    output = halos_CM(h[i])\n",
    "    if output == ('failure'):\n",
    "        bad_halos.append(i)\n",
    "    print('halo number ' + str(i) + ' is done')\n",
    "print(bad_halos)"
   ]
  },
  {
   "cell_type": "code",
   "execution_count": 9,
   "metadata": {},
   "outputs": [
    {
     "name": "stdout",
     "output_type": "stream",
     "text": [
      "802.2402184009552\n"
     ]
    }
   ],
   "source": [
    "print(time.time() - start_time) # so it took 15 seconds for 10 halos (can I do better than that?)"
   ]
  },
  {
   "cell_type": "code",
   "execution_count": 10,
   "metadata": {},
   "outputs": [],
   "source": [
    "# so apparently there is a lot of noise close to the center\n",
    "# also those halos that are out of NIHAO mass range are creating problems"
   ]
  },
  {
   "cell_type": "code",
   "execution_count": 11,
   "metadata": {},
   "outputs": [],
   "source": [
    "# m_i = []\n",
    "# for i in range(1,101):\n",
    "#     mass = (float ( ( h[i]['mass'].sum() ) ) )\n",
    "# #     print(float(mass))\n",
    "#     if not ( 5*10**9 < mass and mass < 2*10**12):\n",
    "#         m_i.append(i)\n",
    "# #     print(not ( 5*10**9 < mass and mass < 2*10**12))"
   ]
  },
  {
   "cell_type": "code",
   "execution_count": 12,
   "metadata": {},
   "outputs": [],
   "source": [
    "# [49, 55, 67, 91, 96, 149, 175]"
   ]
  },
  {
   "cell_type": "code",
   "execution_count": 13,
   "metadata": {},
   "outputs": [
    {
     "data": {
      "text/plain": [
       "SimArray(2.12457771e+08, 'Msol')"
      ]
     },
     "execution_count": 13,
     "metadata": {},
     "output_type": "execute_result"
    }
   ],
   "source": [
    "h[1410]['mass'].sum()"
   ]
  },
  {
   "cell_type": "code",
   "execution_count": null,
   "metadata": {},
   "outputs": [],
   "source": []
  }
 ],
 "metadata": {
  "kernelspec": {
   "display_name": "Python 3",
   "language": "python",
   "name": "python3"
  },
  "language_info": {
   "codemirror_mode": {
    "name": "ipython",
    "version": 3
   },
   "file_extension": ".py",
   "mimetype": "text/x-python",
   "name": "python",
   "nbconvert_exporter": "python",
   "pygments_lexer": "ipython3",
   "version": "3.6.9"
  }
 },
 "nbformat": 4,
 "nbformat_minor": 4
}
