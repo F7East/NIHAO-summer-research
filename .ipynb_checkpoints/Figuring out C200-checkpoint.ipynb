{
 "cells": [
  {
   "cell_type": "code",
   "execution_count": 1,
   "metadata": {},
   "outputs": [],
   "source": [
    "# So what questions do I have so far?\n",
    "# 1. Should I use rho(r) to find r_s (so after long debate with my self I say no because does not help) [turns out yes! cause it makes better graphs]\n",
    "# 2. Should I use V(r) to find V_200 and C_200 (better find r_s and C200  {actually better to find V_200, see pont 1})\n",
    "# 3. If 1 and 2 then I get two values for r_s (yeah how different are they?)\n",
    "# 4. it seems that r_s obtained from rho(r) is more presize \n",
    "# 5. Should I find r_200 just from rho_enc (probably not [don't think so any more])\n",
    "# 6. should I find M_200 from mass profile from paper or by using mass_enc (assume paper [yeah paper, coz than  you could just use rho_200 but professor told to fit   the halos)"
   ]
  },
  {
   "cell_type": "code",
   "execution_count": 2,
   "metadata": {},
   "outputs": [],
   "source": [
    "import time\n",
    "import pynbody as pyn\n",
    "import scipy, numpy, DM_Profiles\n",
    "from matplotlib import pylab as plt\n",
    "s = pyn.load('/media/tengiz/81498267-fb7c-4587-88ea-5c63aaf2cb66/Pynbody/testdata/g15784.lr.01024.gz')\n",
    "s.physical_units()\n",
    "h = s.halos()\n",
    "# rho_crit = pyn.analysis.cosmology.rho_crit(s)*200\n",
    "# H = float(pyn.analysis.cosmology.H(s))\n",
    "# tmass = h[1]['mass'].sum()"
   ]
  },
  {
   "cell_type": "code",
   "execution_count": 3,
   "metadata": {
    "scrolled": true
   },
   "outputs": [],
   "source": [
    "def halos_CM(halo, to_graph = False):\n",
    "    # well this is very poorely written | not anymore\n",
    "    modes = ['hyb', 'ssc', 'com','pot']\n",
    "    output = ()\n",
    "    try: \n",
    "        with pyn.analysis.angmom.faceon(halo, cen_size  =  '10 kpc'):\n",
    "            output = halos_exec(halo, to_graph)\n",
    "#             pyn.plot.image(halo.g, width=100, cmap='Blues')\n",
    "    except (ValueError, RuntimeError):\n",
    "        print('faceon has failed, trying backup')\n",
    "        for i in range(5):\n",
    "            if i == 4:\n",
    "                print('all backups have failed')\n",
    "                output = ('failure')\n",
    "                break\n",
    "            try:\n",
    "                with pyn.analysis.halo.center(halo, mode = modes[i], cen_size = '20 kpc'):\n",
    "                    output = halos_exec(halo, to_graph)\n",
    "#                     pyn.plot.image(halo.g, width=1000, cmap='Blues')\n",
    "                break\n",
    "            except (ValueError, RuntimeError):\n",
    "                print(modes[i] + ' backup has failed')\n",
    "\n",
    "    return output"
   ]
  },
  {
   "cell_type": "code",
   "execution_count": 4,
   "metadata": {},
   "outputs": [],
   "source": [
    "def halos_exec(halo, to_graph = False):\n",
    "    #takes in halo and boolean whether to graph \n",
    "    # outputs mass and concentration\n",
    "    \n",
    "    p = pyn.analysis.profile.Profile(halo, min = 0.01, max = 50, ndim = 3, type = 'lin', nbins = 100)\n",
    "    radii = p['rbins']\n",
    "    den = p['density']\n",
    "    vel = p['v_circ']\n",
    "    hp = DM_Profiles.DM_Profile(radii, den, vel, s)\n",
    "    hp.fits_pISO() \n",
    "    output = hp.pISO()\n",
    "    if to_graph:\n",
    "        den_plot(radii, den, output[2], hp)\n",
    "        vel_plot(radii, vel, output[3], hp)\n",
    "        \n",
    "    return output[0], output[1]"
   ]
  },
  {
   "cell_type": "code",
   "execution_count": 5,
   "metadata": {},
   "outputs": [],
   "source": [
    "# den plot\n",
    "def den_plot(radii, den, param, halo_profile):\n",
    "    # takes radii, den, param and DM_Profile object from DM_Profiles and outputs den profile with p_ISO curve_fit\n",
    "    import DM_Profiles\n",
    "    from matplotlib import pylab as plt\n",
    "    fig, ax = plt.subplots() \n",
    "    ax.semilogy(radii, den, 'g--')\n",
    "    ax.semilogy(radii, halo_profile.rho_pISO(radii, *param), 'r-')\n",
    "    ax.grid()\n",
    "    ax.legend(('data','fit'))\n",
    "    ax.set_title('data den vs r')\n",
    "    ax.set_xlabel(radii.units)\n",
    "    ax.set_ylabel(den.units)\n",
    "    plt.show()\n",
    "#     halo_profile.chisq_pISO()\n",
    "#     print(halo_profile.den_chisq)"
   ]
  },
  {
   "cell_type": "code",
   "execution_count": 6,
   "metadata": {},
   "outputs": [],
   "source": [
    "# vel plot\n",
    "def vel_plot(r, vel, param1, halo_profile):\n",
    "    # takes radii, den, param and DM_Profile object from DM_Profiles and outputs vel profile with p_ISO curve_fit\n",
    "    import DM_Profiles\n",
    "    from matplotlib import pylab as plt\n",
    "    fig1, ax1 = plt.subplots()\n",
    "    ax1.plot(r, vel, 'g--')\n",
    "    ax1.plot(r, halo_profile.V_pISO(r, *param1), 'r-')\n",
    "    ax1.grid()\n",
    "    ax1.legend(('data','fit'))\n",
    "    ax1.set_title('data vel vs r')\n",
    "    ax1.set_xlabel(s['pos'].units)\n",
    "    ax1.set_ylabel(vel.units)\n",
    "    plt.show()\n",
    "#     halo_profile.chisq_pISO()\n",
    "#     print(halo_profile.vel_chisq)"
   ]
  },
  {
   "cell_type": "code",
   "execution_count": 7,
   "metadata": {},
   "outputs": [],
   "source": [
    "# I leave this code here for debugging coz lazy\n",
    "# def rho_pISO(r, rho_s,r_s): \n",
    "#     # r200 is the radius inside of which the average halo (bg paper)\n",
    "#     return rho_s/(1+(r/r_s)**2)\n",
    "# def V_pISO(r, C_200):\n",
    "# #     if param == []: raise CustomError('rho_pISO has not been fitted yet')\n",
    "#     H = float(pyn.analysis.cosmology.H(s))\n",
    "#     return 10*H*param[1]*C_200*((1-numpy.arctan((r/param[1]))/(r/param[1]))/(1-numpy.arctan(C_200)/C_200))**0.5\n",
    "\n",
    "# pyn.analysis.halo.center(h[1], mode = 'hyb', cen_size = '10 kpc')\n",
    "# pyn.analysis.angmom.faceon(h[1])\n",
    "# initial_guess = [10**10, 0.01]\n",
    "# p = pyn.analysis.profile.Profile(h[1], min = 0.01, max = 50, ndim = 3, type = 'log', nbins = 50)\n",
    "# radii = p['rbins']\n",
    "# den = p['density']\n",
    "# vel = p['v_circ']\n",
    "# param, covar = fit(rho_pISO, radii, den, p0 = initial_guess, bounds = (0,numpy.inf))\n",
    "# param1, covar1 = fit(V_pISO, radii, vel, bounds = (0, numpy.inf))\n"
   ]
  },
  {
   "cell_type": "code",
   "execution_count": 8,
   "metadata": {},
   "outputs": [],
   "source": [
    "# bad_halos = []\n",
    "# for i in range(201,len(h)):\n",
    "#     output = halos_CM(h[i])\n",
    "#     if output == ('failure'):\n",
    "#         bad_halos.append(i)\n",
    "#     print('halo number ' + str(i) + ' is done')\n",
    "# print(bad_halos)"
   ]
  },
  {
   "cell_type": "code",
   "execution_count": 18,
   "metadata": {},
   "outputs": [
    {
     "name": "stderr",
     "output_type": "stream",
     "text": [
      "pynbody.analysis.profile : Profile v_circ -- this routine assumes the disk is in the x-y plane\n"
     ]
    },
    {
     "name": "stdout",
     "output_type": "stream",
     "text": [
      "halo number 1 is done\n"
     ]
    },
    {
     "name": "stderr",
     "output_type": "stream",
     "text": [
      "pynbody.analysis.profile : Profile v_circ -- this routine assumes the disk is in the x-y plane\n"
     ]
    },
    {
     "name": "stdout",
     "output_type": "stream",
     "text": [
      "halo number 2 is done\n"
     ]
    },
    {
     "name": "stderr",
     "output_type": "stream",
     "text": [
      "pynbody.analysis.profile : Profile v_circ -- this routine assumes the disk is in the x-y plane\n"
     ]
    },
    {
     "name": "stdout",
     "output_type": "stream",
     "text": [
      "halo number 3 is done\n"
     ]
    },
    {
     "name": "stderr",
     "output_type": "stream",
     "text": [
      "pynbody.analysis.profile : Profile v_circ -- this routine assumes the disk is in the x-y plane\n"
     ]
    },
    {
     "name": "stdout",
     "output_type": "stream",
     "text": [
      "halo number 4 is done\n"
     ]
    },
    {
     "name": "stderr",
     "output_type": "stream",
     "text": [
      "pynbody.analysis.profile : Profile v_circ -- this routine assumes the disk is in the x-y plane\n"
     ]
    },
    {
     "name": "stdout",
     "output_type": "stream",
     "text": [
      "halo number 5 is done\n"
     ]
    },
    {
     "name": "stderr",
     "output_type": "stream",
     "text": [
      "pynbody.analysis.profile : Profile v_circ -- this routine assumes the disk is in the x-y plane\n"
     ]
    },
    {
     "name": "stdout",
     "output_type": "stream",
     "text": [
      "halo number 6 is done\n"
     ]
    },
    {
     "name": "stderr",
     "output_type": "stream",
     "text": [
      "pynbody.analysis.profile : Profile v_circ -- this routine assumes the disk is in the x-y plane\n"
     ]
    },
    {
     "name": "stdout",
     "output_type": "stream",
     "text": [
      "halo number 7 is done\n"
     ]
    },
    {
     "name": "stderr",
     "output_type": "stream",
     "text": [
      "pynbody.analysis.profile : Profile v_circ -- this routine assumes the disk is in the x-y plane\n"
     ]
    },
    {
     "name": "stdout",
     "output_type": "stream",
     "text": [
      "halo number 8 is done\n"
     ]
    },
    {
     "name": "stderr",
     "output_type": "stream",
     "text": [
      "pynbody.analysis.profile : Profile v_circ -- this routine assumes the disk is in the x-y plane\n"
     ]
    },
    {
     "name": "stdout",
     "output_type": "stream",
     "text": [
      "halo number 9 is done\n"
     ]
    },
    {
     "name": "stderr",
     "output_type": "stream",
     "text": [
      "pynbody.analysis.profile : Profile v_circ -- this routine assumes the disk is in the x-y plane\n"
     ]
    },
    {
     "name": "stdout",
     "output_type": "stream",
     "text": [
      "halo number 10 is done\n"
     ]
    },
    {
     "name": "stderr",
     "output_type": "stream",
     "text": [
      "pynbody.analysis.profile : Profile v_circ -- this routine assumes the disk is in the x-y plane\n"
     ]
    },
    {
     "name": "stdout",
     "output_type": "stream",
     "text": [
      "halo number 11 is done\n"
     ]
    },
    {
     "name": "stderr",
     "output_type": "stream",
     "text": [
      "pynbody.analysis.profile : Profile v_circ -- this routine assumes the disk is in the x-y plane\n"
     ]
    },
    {
     "name": "stdout",
     "output_type": "stream",
     "text": [
      "halo number 12 is done\n"
     ]
    },
    {
     "name": "stderr",
     "output_type": "stream",
     "text": [
      "pynbody.analysis.profile : Profile v_circ -- this routine assumes the disk is in the x-y plane\n"
     ]
    },
    {
     "name": "stdout",
     "output_type": "stream",
     "text": [
      "halo number 13 is done\n"
     ]
    },
    {
     "name": "stderr",
     "output_type": "stream",
     "text": [
      "pynbody.analysis.profile : Profile v_circ -- this routine assumes the disk is in the x-y plane\n"
     ]
    },
    {
     "name": "stdout",
     "output_type": "stream",
     "text": [
      "faceon has failed, trying backup\n",
      "hyb backup has failed\n"
     ]
    },
    {
     "name": "stderr",
     "output_type": "stream",
     "text": [
      "pynbody.analysis.profile : Profile v_circ -- this routine assumes the disk is in the x-y plane\n",
      "pynbody.analysis.profile : Profile v_circ -- this routine assumes the disk is in the x-y plane\n"
     ]
    },
    {
     "name": "stdout",
     "output_type": "stream",
     "text": [
      "ssc backup has failed\n",
      "halo number 14 is done\n"
     ]
    },
    {
     "name": "stderr",
     "output_type": "stream",
     "text": [
      "pynbody.analysis.profile : Profile v_circ -- this routine assumes the disk is in the x-y plane\n"
     ]
    },
    {
     "name": "stdout",
     "output_type": "stream",
     "text": [
      "halo number 15 is done\n"
     ]
    },
    {
     "name": "stderr",
     "output_type": "stream",
     "text": [
      "pynbody.analysis.profile : Profile v_circ -- this routine assumes the disk is in the x-y plane\n"
     ]
    },
    {
     "name": "stdout",
     "output_type": "stream",
     "text": [
      "halo number 16 is done\n"
     ]
    },
    {
     "name": "stderr",
     "output_type": "stream",
     "text": [
      "pynbody.analysis.profile : Profile v_circ -- this routine assumes the disk is in the x-y plane\n"
     ]
    },
    {
     "name": "stdout",
     "output_type": "stream",
     "text": [
      "halo number 17 is done\n"
     ]
    },
    {
     "name": "stderr",
     "output_type": "stream",
     "text": [
      "pynbody.analysis.profile : Profile v_circ -- this routine assumes the disk is in the x-y plane\n"
     ]
    },
    {
     "name": "stdout",
     "output_type": "stream",
     "text": [
      "halo number 18 is done\n"
     ]
    },
    {
     "name": "stderr",
     "output_type": "stream",
     "text": [
      "pynbody.analysis.profile : Profile v_circ -- this routine assumes the disk is in the x-y plane\n"
     ]
    },
    {
     "name": "stdout",
     "output_type": "stream",
     "text": [
      "halo number 19 is done\n"
     ]
    },
    {
     "name": "stderr",
     "output_type": "stream",
     "text": [
      "pynbody.analysis.profile : Profile v_circ -- this routine assumes the disk is in the x-y plane\n"
     ]
    },
    {
     "name": "stdout",
     "output_type": "stream",
     "text": [
      "halo number 20 is done\n"
     ]
    },
    {
     "name": "stderr",
     "output_type": "stream",
     "text": [
      "pynbody.analysis.profile : Profile v_circ -- this routine assumes the disk is in the x-y plane\n"
     ]
    },
    {
     "name": "stdout",
     "output_type": "stream",
     "text": [
      "halo number 21 is done\n",
      "faceon has failed, trying backup\n"
     ]
    },
    {
     "name": "stderr",
     "output_type": "stream",
     "text": [
      "pynbody.analysis.profile : Profile v_circ -- this routine assumes the disk is in the x-y plane\n"
     ]
    },
    {
     "name": "stdout",
     "output_type": "stream",
     "text": [
      "halo number 22 is done\n"
     ]
    },
    {
     "name": "stderr",
     "output_type": "stream",
     "text": [
      "pynbody.analysis.profile : Profile v_circ -- this routine assumes the disk is in the x-y plane\n"
     ]
    },
    {
     "name": "stdout",
     "output_type": "stream",
     "text": [
      "halo number 23 is done\n"
     ]
    },
    {
     "name": "stderr",
     "output_type": "stream",
     "text": [
      "pynbody.analysis.profile : Profile v_circ -- this routine assumes the disk is in the x-y plane\n"
     ]
    },
    {
     "name": "stdout",
     "output_type": "stream",
     "text": [
      "halo number 24 is done\n"
     ]
    },
    {
     "name": "stderr",
     "output_type": "stream",
     "text": [
      "pynbody.analysis.profile : Profile v_circ -- this routine assumes the disk is in the x-y plane\n"
     ]
    },
    {
     "name": "stdout",
     "output_type": "stream",
     "text": [
      "halo number 25 is done\n",
      "faceon has failed, trying backup\n"
     ]
    },
    {
     "name": "stderr",
     "output_type": "stream",
     "text": [
      "pynbody.analysis.profile : Profile v_circ -- this routine assumes the disk is in the x-y plane\n"
     ]
    },
    {
     "name": "stdout",
     "output_type": "stream",
     "text": [
      "halo number 26 is done\n"
     ]
    },
    {
     "name": "stderr",
     "output_type": "stream",
     "text": [
      "pynbody.analysis.profile : Profile v_circ -- this routine assumes the disk is in the x-y plane\n"
     ]
    },
    {
     "name": "stdout",
     "output_type": "stream",
     "text": [
      "halo number 27 is done\n"
     ]
    },
    {
     "name": "stderr",
     "output_type": "stream",
     "text": [
      "pynbody.analysis.profile : Profile v_circ -- this routine assumes the disk is in the x-y plane\n"
     ]
    },
    {
     "name": "stdout",
     "output_type": "stream",
     "text": [
      "halo number 28 is done\n"
     ]
    },
    {
     "name": "stderr",
     "output_type": "stream",
     "text": [
      "pynbody.analysis.profile : Profile v_circ -- this routine assumes the disk is in the x-y plane\n"
     ]
    },
    {
     "name": "stdout",
     "output_type": "stream",
     "text": [
      "halo number 29 is done\n"
     ]
    },
    {
     "name": "stderr",
     "output_type": "stream",
     "text": [
      "pynbody.analysis.profile : Profile v_circ -- this routine assumes the disk is in the x-y plane\n"
     ]
    },
    {
     "name": "stdout",
     "output_type": "stream",
     "text": [
      "halo number 30 is done\n"
     ]
    },
    {
     "name": "stderr",
     "output_type": "stream",
     "text": [
      "pynbody.analysis.profile : Profile v_circ -- this routine assumes the disk is in the x-y plane\n"
     ]
    },
    {
     "name": "stdout",
     "output_type": "stream",
     "text": [
      "halo number 31 is done\n"
     ]
    },
    {
     "name": "stderr",
     "output_type": "stream",
     "text": [
      "pynbody.analysis.profile : Profile v_circ -- this routine assumes the disk is in the x-y plane\n"
     ]
    },
    {
     "name": "stdout",
     "output_type": "stream",
     "text": [
      "halo number 32 is done\n"
     ]
    },
    {
     "name": "stderr",
     "output_type": "stream",
     "text": [
      "pynbody.analysis.profile : Profile v_circ -- this routine assumes the disk is in the x-y plane\n"
     ]
    },
    {
     "name": "stdout",
     "output_type": "stream",
     "text": [
      "halo number 33 is done\n"
     ]
    },
    {
     "name": "stderr",
     "output_type": "stream",
     "text": [
      "pynbody.analysis.profile : Profile v_circ -- this routine assumes the disk is in the x-y plane\n"
     ]
    },
    {
     "name": "stdout",
     "output_type": "stream",
     "text": [
      "halo number 34 is done\n",
      "faceon has failed, trying backup\n",
      "hyb backup has failed\n"
     ]
    },
    {
     "name": "stderr",
     "output_type": "stream",
     "text": [
      "pynbody.analysis.profile : Profile v_circ -- this routine assumes the disk is in the x-y plane\n"
     ]
    },
    {
     "name": "stdout",
     "output_type": "stream",
     "text": [
      "halo number 35 is done\n"
     ]
    },
    {
     "name": "stderr",
     "output_type": "stream",
     "text": [
      "pynbody.analysis.profile : Profile v_circ -- this routine assumes the disk is in the x-y plane\n"
     ]
    },
    {
     "name": "stdout",
     "output_type": "stream",
     "text": [
      "halo number 36 is done\n"
     ]
    },
    {
     "name": "stderr",
     "output_type": "stream",
     "text": [
      "pynbody.analysis.profile : Profile v_circ -- this routine assumes the disk is in the x-y plane\n"
     ]
    },
    {
     "name": "stdout",
     "output_type": "stream",
     "text": [
      "halo number 37 is done\n"
     ]
    },
    {
     "name": "stderr",
     "output_type": "stream",
     "text": [
      "pynbody.analysis.profile : Profile v_circ -- this routine assumes the disk is in the x-y plane\n"
     ]
    },
    {
     "name": "stdout",
     "output_type": "stream",
     "text": [
      "halo number 38 is done\n"
     ]
    },
    {
     "name": "stderr",
     "output_type": "stream",
     "text": [
      "pynbody.analysis.profile : Profile v_circ -- this routine assumes the disk is in the x-y plane\n"
     ]
    },
    {
     "name": "stdout",
     "output_type": "stream",
     "text": [
      "halo number 39 is done\n"
     ]
    },
    {
     "name": "stderr",
     "output_type": "stream",
     "text": [
      "pynbody.analysis.profile : Profile v_circ -- this routine assumes the disk is in the x-y plane\n"
     ]
    },
    {
     "name": "stdout",
     "output_type": "stream",
     "text": [
      "halo number 40 is done\n"
     ]
    },
    {
     "name": "stderr",
     "output_type": "stream",
     "text": [
      "pynbody.analysis.profile : Profile v_circ -- this routine assumes the disk is in the x-y plane\n"
     ]
    },
    {
     "name": "stdout",
     "output_type": "stream",
     "text": [
      "halo number 41 is done\n"
     ]
    },
    {
     "name": "stderr",
     "output_type": "stream",
     "text": [
      "pynbody.analysis.profile : Profile v_circ -- this routine assumes the disk is in the x-y plane\n",
      "pynbody.analysis.profile : Profile v_circ -- this routine assumes the disk is in the x-y plane\n"
     ]
    },
    {
     "name": "stdout",
     "output_type": "stream",
     "text": [
      "faceon has failed, trying backup\n",
      "halo number 42 is done\n"
     ]
    },
    {
     "name": "stderr",
     "output_type": "stream",
     "text": [
      "pynbody.analysis.profile : Profile v_circ -- this routine assumes the disk is in the x-y plane\n"
     ]
    },
    {
     "name": "stdout",
     "output_type": "stream",
     "text": [
      "halo number 43 is done\n",
      "faceon has failed, trying backup\n"
     ]
    },
    {
     "name": "stderr",
     "output_type": "stream",
     "text": [
      "pynbody.analysis.profile : Profile v_circ -- this routine assumes the disk is in the x-y plane\n"
     ]
    },
    {
     "name": "stdout",
     "output_type": "stream",
     "text": [
      "hyb backup has failed\n",
      "halo number 44 is done\n"
     ]
    },
    {
     "name": "stderr",
     "output_type": "stream",
     "text": [
      "pynbody.analysis.profile : Profile v_circ -- this routine assumes the disk is in the x-y plane\n"
     ]
    },
    {
     "name": "stdout",
     "output_type": "stream",
     "text": [
      "halo number 45 is done\n"
     ]
    },
    {
     "name": "stderr",
     "output_type": "stream",
     "text": [
      "pynbody.analysis.profile : Profile v_circ -- this routine assumes the disk is in the x-y plane\n"
     ]
    },
    {
     "name": "stdout",
     "output_type": "stream",
     "text": [
      "halo number 46 is done\n"
     ]
    },
    {
     "name": "stderr",
     "output_type": "stream",
     "text": [
      "pynbody.analysis.profile : Profile v_circ -- this routine assumes the disk is in the x-y plane\n"
     ]
    },
    {
     "name": "stdout",
     "output_type": "stream",
     "text": [
      "halo number 47 is done\n"
     ]
    },
    {
     "name": "stderr",
     "output_type": "stream",
     "text": [
      "pynbody.analysis.profile : Profile v_circ -- this routine assumes the disk is in the x-y plane\n"
     ]
    },
    {
     "name": "stdout",
     "output_type": "stream",
     "text": [
      "halo number 48 is done\n",
      "faceon has failed, trying backup\n",
      "hyb backup has failed\n",
      "ssc backup has failed\n",
      "com backup has failed\n",
      "pot backup has failed\n",
      "all backups have failed\n",
      "halo number 49 is done\n"
     ]
    },
    {
     "name": "stderr",
     "output_type": "stream",
     "text": [
      "pynbody.analysis.profile : Profile v_circ -- this routine assumes the disk is in the x-y plane\n"
     ]
    },
    {
     "name": "stdout",
     "output_type": "stream",
     "text": [
      "halo number 50 is done\n"
     ]
    },
    {
     "name": "stderr",
     "output_type": "stream",
     "text": [
      "pynbody.analysis.profile : Profile v_circ -- this routine assumes the disk is in the x-y plane\n"
     ]
    },
    {
     "name": "stdout",
     "output_type": "stream",
     "text": [
      "halo number 51 is done\n"
     ]
    },
    {
     "name": "stderr",
     "output_type": "stream",
     "text": [
      "pynbody.analysis.profile : Profile v_circ -- this routine assumes the disk is in the x-y plane\n"
     ]
    },
    {
     "name": "stdout",
     "output_type": "stream",
     "text": [
      "halo number 52 is done\n"
     ]
    },
    {
     "name": "stderr",
     "output_type": "stream",
     "text": [
      "pynbody.analysis.profile : Profile v_circ -- this routine assumes the disk is in the x-y plane\n"
     ]
    },
    {
     "name": "stdout",
     "output_type": "stream",
     "text": [
      "halo number 53 is done\n"
     ]
    },
    {
     "name": "stderr",
     "output_type": "stream",
     "text": [
      "pynbody.analysis.profile : Profile v_circ -- this routine assumes the disk is in the x-y plane\n"
     ]
    },
    {
     "name": "stdout",
     "output_type": "stream",
     "text": [
      "halo number 54 is done\n",
      "faceon has failed, trying backup\n",
      "hyb backup has failed\n",
      "ssc backup has failed\n",
      "com backup has failed\n",
      "pot backup has failed\n",
      "all backups have failed\n",
      "halo number 55 is done\n"
     ]
    },
    {
     "name": "stderr",
     "output_type": "stream",
     "text": [
      "pynbody.analysis.profile : Profile v_circ -- this routine assumes the disk is in the x-y plane\n"
     ]
    },
    {
     "name": "stdout",
     "output_type": "stream",
     "text": [
      "halo number 56 is done\n"
     ]
    },
    {
     "name": "stderr",
     "output_type": "stream",
     "text": [
      "pynbody.analysis.profile : Profile v_circ -- this routine assumes the disk is in the x-y plane\n"
     ]
    },
    {
     "name": "stdout",
     "output_type": "stream",
     "text": [
      "halo number 57 is done\n"
     ]
    },
    {
     "name": "stderr",
     "output_type": "stream",
     "text": [
      "pynbody.analysis.profile : Profile v_circ -- this routine assumes the disk is in the x-y plane\n"
     ]
    },
    {
     "name": "stdout",
     "output_type": "stream",
     "text": [
      "halo number 58 is done\n"
     ]
    },
    {
     "name": "stderr",
     "output_type": "stream",
     "text": [
      "pynbody.analysis.profile : Profile v_circ -- this routine assumes the disk is in the x-y plane\n"
     ]
    },
    {
     "name": "stdout",
     "output_type": "stream",
     "text": [
      "halo number 59 is done\n"
     ]
    },
    {
     "name": "stderr",
     "output_type": "stream",
     "text": [
      "pynbody.analysis.profile : Profile v_circ -- this routine assumes the disk is in the x-y plane\n"
     ]
    },
    {
     "name": "stdout",
     "output_type": "stream",
     "text": [
      "halo number 60 is done\n"
     ]
    },
    {
     "name": "stderr",
     "output_type": "stream",
     "text": [
      "pynbody.analysis.profile : Profile v_circ -- this routine assumes the disk is in the x-y plane\n"
     ]
    },
    {
     "name": "stdout",
     "output_type": "stream",
     "text": [
      "halo number 61 is done\n"
     ]
    },
    {
     "name": "stderr",
     "output_type": "stream",
     "text": [
      "pynbody.analysis.profile : Profile v_circ -- this routine assumes the disk is in the x-y plane\n"
     ]
    },
    {
     "name": "stdout",
     "output_type": "stream",
     "text": [
      "halo number 62 is done\n"
     ]
    },
    {
     "name": "stderr",
     "output_type": "stream",
     "text": [
      "pynbody.analysis.profile : Profile v_circ -- this routine assumes the disk is in the x-y plane\n"
     ]
    },
    {
     "name": "stdout",
     "output_type": "stream",
     "text": [
      "halo number 63 is done\n"
     ]
    },
    {
     "name": "stderr",
     "output_type": "stream",
     "text": [
      "pynbody.analysis.profile : Profile v_circ -- this routine assumes the disk is in the x-y plane\n"
     ]
    },
    {
     "name": "stdout",
     "output_type": "stream",
     "text": [
      "halo number 64 is done\n"
     ]
    },
    {
     "name": "stderr",
     "output_type": "stream",
     "text": [
      "pynbody.analysis.profile : Profile v_circ -- this routine assumes the disk is in the x-y plane\n"
     ]
    },
    {
     "name": "stdout",
     "output_type": "stream",
     "text": [
      "halo number 65 is done\n"
     ]
    },
    {
     "name": "stderr",
     "output_type": "stream",
     "text": [
      "pynbody.analysis.profile : Profile v_circ -- this routine assumes the disk is in the x-y plane\n"
     ]
    },
    {
     "name": "stdout",
     "output_type": "stream",
     "text": [
      "halo number 66 is done\n",
      "faceon has failed, trying backup\n",
      "hyb backup has failed\n",
      "ssc backup has failed\n",
      "com backup has failed\n",
      "pot backup has failed\n",
      "all backups have failed\n",
      "halo number 67 is done\n"
     ]
    },
    {
     "name": "stderr",
     "output_type": "stream",
     "text": [
      "pynbody.analysis.profile : Profile v_circ -- this routine assumes the disk is in the x-y plane\n"
     ]
    },
    {
     "name": "stdout",
     "output_type": "stream",
     "text": [
      "faceon has failed, trying backup\n",
      "halo number 68 is done\n"
     ]
    },
    {
     "name": "stderr",
     "output_type": "stream",
     "text": [
      "pynbody.analysis.profile : Profile v_circ -- this routine assumes the disk is in the x-y plane\n"
     ]
    },
    {
     "name": "stdout",
     "output_type": "stream",
     "text": [
      "halo number 69 is done\n"
     ]
    },
    {
     "name": "stderr",
     "output_type": "stream",
     "text": [
      "pynbody.analysis.profile : Profile v_circ -- this routine assumes the disk is in the x-y plane\n"
     ]
    },
    {
     "name": "stdout",
     "output_type": "stream",
     "text": [
      "halo number 70 is done\n"
     ]
    },
    {
     "name": "stderr",
     "output_type": "stream",
     "text": [
      "pynbody.analysis.profile : Profile v_circ -- this routine assumes the disk is in the x-y plane\n"
     ]
    },
    {
     "name": "stdout",
     "output_type": "stream",
     "text": [
      "halo number 71 is done\n"
     ]
    },
    {
     "name": "stderr",
     "output_type": "stream",
     "text": [
      "pynbody.analysis.profile : Profile v_circ -- this routine assumes the disk is in the x-y plane\n"
     ]
    },
    {
     "name": "stdout",
     "output_type": "stream",
     "text": [
      "halo number 72 is done\n"
     ]
    },
    {
     "name": "stderr",
     "output_type": "stream",
     "text": [
      "pynbody.analysis.profile : Profile v_circ -- this routine assumes the disk is in the x-y plane\n"
     ]
    },
    {
     "name": "stdout",
     "output_type": "stream",
     "text": [
      "halo number 73 is done\n"
     ]
    },
    {
     "name": "stderr",
     "output_type": "stream",
     "text": [
      "pynbody.analysis.profile : Profile v_circ -- this routine assumes the disk is in the x-y plane\n"
     ]
    },
    {
     "name": "stdout",
     "output_type": "stream",
     "text": [
      "halo number 74 is done\n"
     ]
    },
    {
     "name": "stderr",
     "output_type": "stream",
     "text": [
      "pynbody.analysis.profile : Profile v_circ -- this routine assumes the disk is in the x-y plane\n"
     ]
    },
    {
     "name": "stdout",
     "output_type": "stream",
     "text": [
      "halo number 75 is done\n"
     ]
    },
    {
     "name": "stderr",
     "output_type": "stream",
     "text": [
      "pynbody.analysis.profile : Profile v_circ -- this routine assumes the disk is in the x-y plane\n"
     ]
    },
    {
     "name": "stdout",
     "output_type": "stream",
     "text": [
      "halo number 76 is done\n",
      "faceon has failed, trying backup\n"
     ]
    },
    {
     "name": "stderr",
     "output_type": "stream",
     "text": [
      "pynbody.analysis.profile : Profile v_circ -- this routine assumes the disk is in the x-y plane\n"
     ]
    },
    {
     "name": "stdout",
     "output_type": "stream",
     "text": [
      "halo number 77 is done\n"
     ]
    },
    {
     "name": "stderr",
     "output_type": "stream",
     "text": [
      "pynbody.analysis.profile : Profile v_circ -- this routine assumes the disk is in the x-y plane\n"
     ]
    },
    {
     "name": "stdout",
     "output_type": "stream",
     "text": [
      "halo number 78 is done\n"
     ]
    },
    {
     "name": "stderr",
     "output_type": "stream",
     "text": [
      "pynbody.analysis.profile : Profile v_circ -- this routine assumes the disk is in the x-y plane\n"
     ]
    },
    {
     "name": "stdout",
     "output_type": "stream",
     "text": [
      "halo number 79 is done\n"
     ]
    },
    {
     "name": "stderr",
     "output_type": "stream",
     "text": [
      "pynbody.analysis.profile : Profile v_circ -- this routine assumes the disk is in the x-y plane\n"
     ]
    },
    {
     "name": "stdout",
     "output_type": "stream",
     "text": [
      "halo number 80 is done\n"
     ]
    },
    {
     "name": "stderr",
     "output_type": "stream",
     "text": [
      "pynbody.analysis.profile : Profile v_circ -- this routine assumes the disk is in the x-y plane\n"
     ]
    },
    {
     "name": "stdout",
     "output_type": "stream",
     "text": [
      "halo number 81 is done\n"
     ]
    },
    {
     "name": "stderr",
     "output_type": "stream",
     "text": [
      "pynbody.analysis.profile : Profile v_circ -- this routine assumes the disk is in the x-y plane\n"
     ]
    },
    {
     "name": "stdout",
     "output_type": "stream",
     "text": [
      "halo number 82 is done\n"
     ]
    },
    {
     "name": "stderr",
     "output_type": "stream",
     "text": [
      "pynbody.analysis.profile : Profile v_circ -- this routine assumes the disk is in the x-y plane\n"
     ]
    },
    {
     "name": "stdout",
     "output_type": "stream",
     "text": [
      "halo number 83 is done\n"
     ]
    },
    {
     "name": "stderr",
     "output_type": "stream",
     "text": [
      "pynbody.analysis.profile : Profile v_circ -- this routine assumes the disk is in the x-y plane\n"
     ]
    },
    {
     "name": "stdout",
     "output_type": "stream",
     "text": [
      "halo number 84 is done\n"
     ]
    },
    {
     "name": "stderr",
     "output_type": "stream",
     "text": [
      "pynbody.analysis.profile : Profile v_circ -- this routine assumes the disk is in the x-y plane\n"
     ]
    },
    {
     "name": "stdout",
     "output_type": "stream",
     "text": [
      "halo number 85 is done\n"
     ]
    },
    {
     "name": "stderr",
     "output_type": "stream",
     "text": [
      "pynbody.analysis.profile : Profile v_circ -- this routine assumes the disk is in the x-y plane\n"
     ]
    },
    {
     "name": "stdout",
     "output_type": "stream",
     "text": [
      "faceon has failed, trying backup\n",
      "halo number 86 is done\n"
     ]
    },
    {
     "name": "stderr",
     "output_type": "stream",
     "text": [
      "pynbody.analysis.profile : Profile v_circ -- this routine assumes the disk is in the x-y plane\n"
     ]
    },
    {
     "name": "stdout",
     "output_type": "stream",
     "text": [
      "halo number 87 is done\n"
     ]
    },
    {
     "name": "stderr",
     "output_type": "stream",
     "text": [
      "pynbody.analysis.profile : Profile v_circ -- this routine assumes the disk is in the x-y plane\n"
     ]
    },
    {
     "name": "stdout",
     "output_type": "stream",
     "text": [
      "halo number 88 is done\n"
     ]
    },
    {
     "name": "stderr",
     "output_type": "stream",
     "text": [
      "pynbody.analysis.profile : Profile v_circ -- this routine assumes the disk is in the x-y plane\n"
     ]
    },
    {
     "name": "stdout",
     "output_type": "stream",
     "text": [
      "halo number 89 is done\n"
     ]
    },
    {
     "name": "stderr",
     "output_type": "stream",
     "text": [
      "pynbody.analysis.profile : Profile v_circ -- this routine assumes the disk is in the x-y plane\n"
     ]
    },
    {
     "name": "stdout",
     "output_type": "stream",
     "text": [
      "halo number 90 is done\n",
      "faceon has failed, trying backup\n",
      "hyb backup has failed\n",
      "ssc backup has failed\n",
      "com backup has failed\n",
      "pot backup has failed\n",
      "all backups have failed\n",
      "halo number 91 is done\n"
     ]
    },
    {
     "name": "stderr",
     "output_type": "stream",
     "text": [
      "pynbody.analysis.profile : Profile v_circ -- this routine assumes the disk is in the x-y plane\n"
     ]
    },
    {
     "name": "stdout",
     "output_type": "stream",
     "text": [
      "halo number 92 is done\n"
     ]
    },
    {
     "name": "stderr",
     "output_type": "stream",
     "text": [
      "pynbody.analysis.profile : Profile v_circ -- this routine assumes the disk is in the x-y plane\n"
     ]
    },
    {
     "name": "stdout",
     "output_type": "stream",
     "text": [
      "halo number 93 is done\n"
     ]
    },
    {
     "name": "stderr",
     "output_type": "stream",
     "text": [
      "pynbody.analysis.profile : Profile v_circ -- this routine assumes the disk is in the x-y plane\n"
     ]
    },
    {
     "name": "stdout",
     "output_type": "stream",
     "text": [
      "halo number 94 is done\n"
     ]
    },
    {
     "name": "stderr",
     "output_type": "stream",
     "text": [
      "pynbody.analysis.profile : Profile v_circ -- this routine assumes the disk is in the x-y plane\n"
     ]
    },
    {
     "name": "stdout",
     "output_type": "stream",
     "text": [
      "halo number 95 is done\n",
      "faceon has failed, trying backup\n",
      "hyb backup has failed\n",
      "ssc backup has failed\n",
      "com backup has failed\n",
      "pot backup has failed\n",
      "all backups have failed\n",
      "halo number 96 is done\n"
     ]
    },
    {
     "name": "stderr",
     "output_type": "stream",
     "text": [
      "pynbody.analysis.profile : Profile v_circ -- this routine assumes the disk is in the x-y plane\n"
     ]
    },
    {
     "name": "stdout",
     "output_type": "stream",
     "text": [
      "halo number 97 is done\n",
      "faceon has failed, trying backup\n"
     ]
    },
    {
     "name": "stderr",
     "output_type": "stream",
     "text": [
      "pynbody.analysis.profile : Profile v_circ -- this routine assumes the disk is in the x-y plane\n"
     ]
    },
    {
     "name": "stdout",
     "output_type": "stream",
     "text": [
      "halo number 98 is done\n"
     ]
    },
    {
     "name": "stderr",
     "output_type": "stream",
     "text": [
      "pynbody.analysis.profile : Profile v_circ -- this routine assumes the disk is in the x-y plane\n"
     ]
    },
    {
     "name": "stdout",
     "output_type": "stream",
     "text": [
      "halo number 99 is done\n",
      "[(318305372.7233516, 0.06898664491101353), (347132880.63128895, 0.07123589712595242), (39650213.59125821, 0.08365374412152043), (988382195.6749358, 0.10426731845654655), (66332819.285883196, 0.1982521925053725), (271747583.8596308, 0.14086068794558834), (1240337795.9036548, 0.08087079045722252), (4387724746.628156, 0.05032205631492428), (413396092.93922323, 0.09257410349796902), (28348453.489650093, 0.17775054053041686), (639415095.4399328, 0.0954318347713462), (310157126.3739327, 0.13480302630139346), (8932138.274673428, 0.10522186035848442), (1438653548.981815, 0.08880650480904509), (4371468243.074084, 0.0614697381238631), (853630374.2805763, 0.09390621349315488), (1728014509.9640987, 0.07665199149952984), (1297853652.3375204, 0.1201289921740278), (563932156.404028, 0.07070807019095468), (6554657.951552507, 0.12942979088574344), (50076747.57988366, 0.2880997643206443), (384806012.47048885, 0.09110156217076647), (574381275.9010348, 0.12701863833861132), (895372532.6944143, 0.11112936465000163), (993407816.255541, 0.10007772165276395), (2392062256.7166886, 0.06108517811985391), (865884870.9179159, 0.10674950834321838), (665133988.1092818, 0.11368434322374119), (112432269.46353756, 0.20185647108081825), (2175295813.050472, 0.08465552661738651), (944261132.7924008, 0.10965053759851381), (918724684.72411, 0.08345641697679589), (230315614.64741734, 0.1404270562402058), (351250852.18983656, 0.14696615645372896), (177514908.80980423, 0.1950429144899529), (5403429.773978575, 0.21137424983698372), (501868402.6523581, 0.13626325277117185), (511260624.2593348, 0.13093080825590947), (219641337.77079687, 0.1299347932459038), (18517012.527395435, 0.28447379081923296), (770641826.2942842, 0.11919720433318569), (292375783.48139554, 0.12687451225796745), (391431063.4788428, 0.11546666267550114), (175.46422563761027, 0.03882908055015172), (313095638.8963755, 0.1345616154218652), (751633132.8429323, 0.07051110911664846), (9152616.82645868, 0.29700128309310364), (577013962.5059695, 0.11125494928431628), 'failure', (570123228.6652712, 0.11963018288921215), (906360931.315205, 0.11859549879792912), (445566428.5708071, 0.13862377258364678), (1244738586.367553, 0.1274468349290031), (1287474668.018889, 0.11207810023462313), 'failure', (186337632.55962008, 0.1484353312879657), (285399535.4729392, 0.1451268545716709), (1284496728.976835, 0.11938782203047937), (2563235310.0903544, 0.08156772530354836), (393660260.240304, 0.14263977110918838), (391691424.3986638, 0.21576812667713202), (25481870.121839143, 0.2931469523434287), (56879730.342796765, 0.1203084587253675), (870003768.8193908, 0.09292432344522793), (380768813.22569877, 0.13368275228629176), (881200415.5350823, 0.10577070870185715), 'failure', (8018105529.888905, 0.0457506921237454), (691908138.9391482, 0.14101244823125864), (2499766305.449453, 0.08539938157695606), (306841148.280081, 0.16773777919874983), (199033879.78217632, 0.12385331236628598), (475219743.0167205, 0.1894490235861178), (589000348.5047189, 0.15128986489360743), (777332288.978072, 0.14081105123235446), (408426834.9660036, 0.15501286776272244), (2756366008.6775475, 0.06174876707623769), (251873401.60091177, 0.17839548756106358), (594734067.072295, 0.1619989468448258), (297768903.5434099, 0.1623360356621994), (53672063.05374585, 0.1819847852713595), (271426100.0114822, 0.15370026326851766), (2199769023.391493, 0.06520238009947295), (1248915675.9854991, 0.10113377037827387), (389854783.4631109, 0.14957764793207393), (13855823483.752996, 0.0219059523446663), (380127098.34691095, 0.16553121365166912), (442266.19918944617, 0.3768281081275714), (17195085.213164337, 0.47400232237797774), (200158982.3440337, 0.16388558359736818), 'failure', (222613719.95007932, 0.23303194704847835), (189933461.34251332, 0.1680081587138303), (641017663.5714792, 0.14626240074072405), (2359326427.2590666, 0.08850565273226414), 'failure', (24676148.066538222, 0.3710046840476817), (7426113646.333217, 0.043656550781805775), (331170517.60771346, 0.18647016202869038)]\n",
      "105.59739995002747\n"
     ]
    }
   ],
   "source": [
    "start_time = time.time()\n",
    "CM =[]\n",
    "for i in range(1,100):\n",
    "    CM.append(halos_CM(h[i], to_graph = False))\n",
    "    print('halo number ' + str(i) + ' is done')\n",
    "print(CM)\n",
    "print(time.time() - start_time)"
   ]
  },
  {
   "cell_type": "code",
   "execution_count": 11,
   "metadata": {},
   "outputs": [],
   "source": [
    "# so apparently there is a lot of noise close to the center [only if its logarithmic profile which it is  not  assumed   by papaer model]\n",
    "# also those halos that are out of NIHAO mass range are creating problems [w]ill  see about that"
   ]
  },
  {
   "cell_type": "code",
   "execution_count": 12,
   "metadata": {},
   "outputs": [],
   "source": [
    "# m_i = []\n",
    "# for i in range(1,101):\n",
    "#     mass = (float ( ( h[i]['mass'].sum() ) ) )\n",
    "# #     print(float(mass))\n",
    "#     if not ( 5*10**9 < mass and mass < 2*10**12):\n",
    "#         m_i.append(i)\n",
    "# #     print(not ( 5*10**9 < mass and mass < 2*10**12))"
   ]
  },
  {
   "cell_type": "code",
   "execution_count": 13,
   "metadata": {},
   "outputs": [],
   "source": [
    "# [49, 55, 67, 91, 96, 149, 175]\n",
    "# [203, 205, 214, 218, 219, 223, 238, 244, 281, 288, 292, 308, 317, 326, 327, 332, 337, 352, 355, 378, 382, 391, 401, 404, 407, 430, 439, 440, 442, 443, 448, 452, 455, 463, 469, 486, 496, 508, 514, 518, 519, 523, 527, 528, 534, 537, 544, 546, 547, 549, 555, 560, 561, 572, 575, 576, 580, 582, 583, 586, 588, 591, 603, 605, 608, 610, 612, 615, 617, 618, 623, 628, 631, 633, 637, 643, 646, 652, 653, 655, 658, 663, 668, 669, 672, 674, 675, 676, 681, 682, 685, 690, 691, 698, 699, 700, 704, 705, 706, 707, 708, 711, 719, 726, 727, 730, 734, 735, 737, 739, 740, 741, 744, 745, 747, 748, 752, 754, 758, 760, 761, 774, 777, 778, 782, 784, 786, 787, 790, 791, 796, 798, 801, 802, 803, 807, 809, 811, 814, 816, 817, 819, 820, 821, 824, 825, 827, 828, 829, 830, 831, 833, 835, 838, 839, 843, 845, 848, 850, 856, 857, 858, 859, 860, 861, 863, 865, 867, 868, 869, 871, 873, 875, 883, 884, 885, 887, 889, 891, 892, 893, 896, 899, 900, 902, 903, 904, 905, 906, 908, 909, 911, 912, 916, 917, 918, 920, 923, 924, 927, 928, 929, 932, 934, 936, 937, 941, 949, 952, 953, 955, 958, 961, 963, 964, 969, 972, 973, 976, 978, 979, 980, 983, 985, 986, 991, 993, 994, 998, 999, 1000, 1002, 1004, 1005, 1007, 1009, 1015, 1016, 1020, 1021, 1022, 1023, 1024, 1025, 1027, 1029, 1030, 1031, 1032, 1033, 1034, 1037, 1039, 1042, 1043, 1045, 1047, 1048, 1049, 1054, 1056, 1059, 1061, 1064, 1065, 1067, 1068, 1069, 1072, 1077, 1080, 1081, 1082, 1083, 1084, 1085, 1086, 1087, 1088, 1089, 1093, 1095, 1096, 1100, 1101, 1102, 1104, 1106, 1108, 1109, 1110, 1111, 1112, 1113, 1116, 1119, 1120, 1122, 1123, 1124, 1125, 1126, 1127, 1128, 1129, 1130, 1131, 1135, 1137, 1138, 1139, 1140, 1141, 1142, 1146, 1147, 1148, 1149, 1151, 1152, 1153, 1154, 1155, 1156, 1159, 1162, 1163, 1164, 1165, 1167, 1168, 1169, 1171, 1172, 1173, 1176, 1177, 1178, 1179, 1181, 1182, 1185, 1186, 1188, 1189, 1190, 1191, 1192, 1193, 1195, 1196, 1197, 1199, 1200, 1201, 1202, 1203, 1204, 1205, 1207, 1208, 1209, 1210, 1211, 1212, 1214, 1215, 1217, 1218, 1219, 1221, 1224, 1226, 1229, 1230, 1232, 1233, 1236, 1240, 1241, 1244, 1245, 1247, 1248, 1250, 1252, 1254, 1255, 1259, 1260, 1261, 1262, 1263, 1265, 1268, 1269, 1272, 1273, 1274, 1275, 1276, 1277, 1278, 1279, 1281, 1282, 1283, 1284, 1286, 1287, 1288, 1290, 1291, 1293, 1294, 1295, 1296, 1297, 1298, 1300, 1301, 1305, 1306, 1307, 1309, 1311, 1312, 1314, 1315, 1316, 1317, 1318, 1319, 1320, 1321, 1322, 1323, 1324, 1325, 1326, 1327, 1328, 1330, 1332, 1336, 1337, 1339, 1340, 1341, 1342, 1343, 1344, 1346, 1347, 1348, 1349, 1350, 1351, 1352, 1354, 1355, 1357, 1359, 1360, 1363, 1365, 1366, 1367, 1368, 1370, 1371, 1372, 1373, 1374, 1375, 1376, 1378, 1379, 1380, 1382, 1383, 1385, 1387, 1388, 1389, 1391, 1392, 1396, 1397, 1398, 1399, 1400, 1402, 1403, 1404, 1405, 1406, 1407, 1408, 1410]"
   ]
  },
  {
   "cell_type": "code",
   "execution_count": 14,
   "metadata": {},
   "outputs": [],
   "source": [
    "# halo = 1402\n",
    "# size = [100, 100, 10, 1]\n",
    "# for i in size:\n",
    "#     cs = str(i) + ' kpc'\n",
    "#     print(cs)\n",
    "#     center = pyn.analysis.halo.center(h[halo], mode = 'ssc', cen_size = cs, retcen = True)\n",
    "#     print(center)\n",
    "#     pyn.analysis.halo.center(h[halo], mode = 'ssc', cen_size = cs)"
   ]
  },
  {
   "cell_type": "code",
   "execution_count": 15,
   "metadata": {},
   "outputs": [],
   "source": [
    "# halos_CM(h[25], to_graph = True)"
   ]
  },
  {
   "cell_type": "code",
   "execution_count": 16,
   "metadata": {},
   "outputs": [],
   "source": [
    "# for i in range(1, len(h) + 1):\n",
    "#     if len(h[i]) < 1000:\n",
    "#         print(i)\n",
    "#         break"
   ]
  },
  {
   "cell_type": "code",
   "execution_count": 17,
   "metadata": {},
   "outputs": [],
   "source": [
    "# j  =  2\n",
    "# center = \n",
    "# pyn.analysis.halo.center(h[j], mode =  'ssc', cen_size = '10 kpc')\n",
    "# pyn.analysis.angmom.faceon(h[j], cen = center, cen_size)\n",
    "# pyn.plot.image(h[j].g, width=100, cmap='Blues')"
   ]
  },
  {
   "cell_type": "code",
   "execution_count": null,
   "metadata": {},
   "outputs": [],
   "source": []
  }
 ],
 "metadata": {
  "kernelspec": {
   "display_name": "Python 3",
   "language": "python",
   "name": "python3"
  },
  "language_info": {
   "codemirror_mode": {
    "name": "ipython",
    "version": 3
   },
   "file_extension": ".py",
   "mimetype": "text/x-python",
   "name": "python",
   "nbconvert_exporter": "python",
   "pygments_lexer": "ipython3",
   "version": "3.6.9"
  }
 },
 "nbformat": 4,
 "nbformat_minor": 4
}
