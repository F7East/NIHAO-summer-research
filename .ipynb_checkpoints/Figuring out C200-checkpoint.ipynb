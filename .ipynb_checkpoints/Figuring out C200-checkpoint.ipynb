{
 "cells": [
  {
   "cell_type": "code",
   "execution_count": null,
   "metadata": {},
   "outputs": [],
   "source": [
    "import time\n",
    "import pynbody as pyn\n",
    "import scipy, numpy, DM_Profiles\n",
    "from matplotlib import pylab as plt\n",
    "s = pyn.load('/media/tengiz/81498267-fb7c-4587-88ea-5c63aaf2cb66/Pynbody/testdata/g15784.lr.01024.gz')\n",
    "s.physical_units()\n",
    "h = s.halos()\n",
    "# rho_crit = pyn.analysis.cosmology.rho_crit(s)\n",
    "# H = float(pyn.analysis.cosmology.H(s))\n",
    "# tmass = h[1]['mass'].sum()"
   ]
  },
  {
   "cell_type": "code",
   "execution_count": null,
   "metadata": {
    "scrolled": true
   },
   "outputs": [],
   "source": [
    "def halos_CM(halo, to_graph = False, to_save = False):\n",
    "    # well this is very poorely written | not anymore\n",
    "#     modes = ['hyb', 'ssc', 'com','pot']\n",
    "    output = ()\n",
    "    with pyn.analysis.angmom.faceon(h[halo], cen_size  =  '10 kpc'):\n",
    "#         r_200 = pyn.analysis.halo.virial_radius(h[halo], overden = 200)\n",
    "        output = halos_exec(halo, to_graph, to_save)\n",
    "#     try: \n",
    "#         with pyn.analysis.angmom.faceon(h[halo], cen_size  =  '10 kpc'):\n",
    "#             output = halos_exec(halo, to_graph, to_save)  \n",
    "#     except (ValueError, RuntimeError):\n",
    "#         print('faceon has failed, trying backup')\n",
    "#         try:\n",
    "#             with pyn.analysis.halo.center(h[halo], vel = False, cen_size = '10 kpc'):\n",
    "#                 output = halos_exec(halo, to_graph, to_save)\n",
    "# #                     pyn.plot.image(halo.g, width=1000, cmap='Blues')\n",
    "#         except (ValueError, RuntimeError):\n",
    "#             output = 'failure'\n",
    "# #             pyn.plot.image(halo.g, width=100, cmap='Blues')\n",
    "        \n",
    "        '''\n",
    "        this is for the case  if you need other centerings\n",
    "        for i in range(5):\n",
    "            if i == 4:\n",
    "                print('all backups have failed')\n",
    "                try:\n",
    "                    with pyn.analysis.halo.center(halo, mode = modes[3], vel = False, cen_size = '20 kpc'):\n",
    "                        output = halos_exec(halo, to_graph)\n",
    "                        break\n",
    "    #                     pyn.plot.image(halo.g, width=1000, cmap='Blues')\n",
    "                except ValueError:\n",
    "                    output = 'failure'\n",
    "                    break\n",
    "            try:\n",
    "                with pyn.analysis.halo.center(halo, mode = modes[i], vel = True, cen_size = '20 kpc'):\n",
    "                    pyn.analysis.angmom.faceon(halo, cen =  halo['pos'][0], vel = halo['vel'][0])\n",
    "                    output = halos_exec(halo, to_graph)\n",
    "#                     pyn.plot.image(halo.g, width=1000, cmap='Blues')\n",
    "                break\n",
    "            except (ValueError, RuntimeError):\n",
    "                print(modes[i] + ' backup has failed')\n",
    "        '''\n",
    "\n",
    "    return output"
   ]
  },
  {
   "cell_type": "code",
   "execution_count": null,
   "metadata": {},
   "outputs": [],
   "source": [
    "def halos_exec(halo, to_graph = False, to_save = False):\n",
    "    #takes in halo and boolean whether to graph \n",
    "    # outputs mass and concentration\n",
    "    r_200 = pyn.analysis.halo.virial_radius(h[halo].d, overden = 200)/pyn.array.SimArray(1, s['pos'].units)\n",
    "    p = pyn.analysis.profile.Profile(h[halo].d, min = 2*max(h[halo].d['eps']), max = r_200, ndim = 3, type = 'log', nbins = 40)\n",
    "#     print(2*max(h[halo]['eps']), r_200)\n",
    "#     radii = p['rbins'] # try to put this to dm profiles\n",
    "#     den = p['density']\n",
    "#     vel = p['v_circ']\n",
    "#     n = p['n']\n",
    "#     den_errors = []\n",
    "#     for i in len(radii):\n",
    "#         den_error.append(den[i]/numpy.sqrt(n[i]))\n",
    "    hp = DM_Profiles.DM_Profile(p, s, halo, r_200)\n",
    "    hp.fits_pISO() \n",
    "    output = hp.pISO()\n",
    "    for i in range(len(hp.radii)):\n",
    "        print(numpy.log10(hp.radii[i]), ',', hp.den[i])\n",
    "    if to_graph:\n",
    "        den_plot(hp, to_save)\n",
    "        vel_plot(hp, to_save)\n",
    "        \n",
    "    return output"
   ]
  },
  {
   "cell_type": "code",
   "execution_count": null,
   "metadata": {},
   "outputs": [],
   "source": [
    "# den plot\n",
    "def den_plot(halo_profile, to_save = False):\n",
    "    \n",
    "    # takes radii, den, param and DM_Profile object from DM_Profiles and outputs den profile with p_ISO curve_fit\n",
    "    fig, ax = plt.subplots() \n",
    "    ax.plot(halo_profile.radii, numpy.power(10, halo_profile.log_den), 'g.')\n",
    "    ax.plot(halo_profile.radii, numpy.power(10, halo_profile.log_rho(numpy.array(halo_profile.radii), *halo_profile.params)), 'r-')\n",
    "    ax.grid()\n",
    "    ax.legend(('data','fit'))\n",
    "    ax.set_title(halo_profile.name + ' ' + halo_profile.pmodel + ' density profile')\n",
    "    ax.set_xlabel('$R$ [kpc]')\n",
    "    ax.set_ylabel(r'$\\rho$ [M$_{\\odot}$ /kpc$^{3}$]')\n",
    "    plt.errorbar(halo_profile.radii, numpy.power(10, halo_profile.log_den) , yerr = numpy.array(halo_profile.den_error), fmt = 'none')\n",
    "    ax.set_yscale('log')\n",
    "    ax.set_xscale('log')\n",
    "    if to_save:\n",
    "        plt.savefig('../Graphs/density_plot' + haloprofile.name +  '_density.jpg')\n",
    "    plt.show()"
   ]
  },
  {
   "cell_type": "code",
   "execution_count": null,
   "metadata": {},
   "outputs": [],
   "source": [
    "# # vel plot\n",
    "# def vel_plot(halo_profile, to_save = False):\n",
    "#     # takes radii, den, param and DM_Profile object from DM_Profiles and outputs vel profile with p_ISO curve_fit\n",
    "#     import DM_Profiles\n",
    "#     from matplotlib import pylab as plt\n",
    "#     fig1, ax1 = plt.subplots()\n",
    "#     ax1.plot(halo_profile.radii, halo_profile.vel, 'g.')\n",
    "#     ax1.plot(halo_profile.radii, halo_profile.V_pISO(halo_profile.radii), 'r-')\n",
    "#     ax1.grid()\n",
    "#     ax1.legend(('data','fit'))\n",
    "#     ax1.set_title('halo_' +  str(halo_profile.number) + ' velocity rotation curve')\n",
    "#     ax1.set_xlabel('$R$ [kpc]')\n",
    "#     ax1.set_ylabel('V$_{pISO}$ [km/s] ')\n",
    "#     if to_save:\n",
    "#         plt.savefig('../Graphs/velocity_plot' + str(halo_profile.number) + '.jpg')\n",
    "#     plt.show()\n",
    "\n",
    "# #     halo_profile.chisq_pISO()\n",
    "# #     print(halo_profile.vel_chisq)"
   ]
  },
  {
   "cell_type": "code",
   "execution_count": null,
   "metadata": {},
   "outputs": [],
   "source": [
    "# start_time = time.time()\n",
    "# CM =[]\n",
    "# for halo in range(1, 2):\n",
    "#     CM.append(halos_CM(halo, to_graph = 1, to_save = False))\n",
    "#     print('halo number ' + str(halo) + ' is done')\n",
    "# print(CM)\n",
    "# print(time.time() - start_time)"
   ]
  },
  {
   "cell_type": "code",
   "execution_count": null,
   "metadata": {},
   "outputs": [],
   "source": [
    "# trying out new class\n",
    "halo = 1\n",
    "pyn.analysis.angmom.faceon(h[halo], cen_size  =  '10 kpc')"
   ]
  },
  {
   "cell_type": "code",
   "execution_count": null,
   "metadata": {},
   "outputs": [],
   "source": [
    "r_200 = pyn.analysis.halo.virial_radius(h[halo].d, overden = 200)/pyn.array.SimArray(1, s['pos'].units)\n",
    "p = pyn.analysis.profile.Profile(h[halo].d, min = 2*max(h[halo].d['eps']), max = r_200, ndim = 3, type = 'log', nbins = 40)"
   ]
  },
  {
   "cell_type": "code",
   "execution_count": null,
   "metadata": {},
   "outputs": [],
   "source": [
    "hp = DM_Profiles.model(p, 'halo_' +  str(halo), pmodel = 'NFW')"
   ]
  },
  {
   "cell_type": "code",
   "execution_count": null,
   "metadata": {},
   "outputs": [],
   "source": [
    "print(hp.output())"
   ]
  },
  {
   "cell_type": "code",
   "execution_count": null,
   "metadata": {},
   "outputs": [],
   "source": [
    "den_plot(hp)"
   ]
  },
  {
   "cell_type": "code",
   "execution_count": null,
   "metadata": {},
   "outputs": [],
   "source": []
  }
 ],
 "metadata": {
  "kernelspec": {
   "display_name": "Python 3",
   "language": "python",
   "name": "python3"
  },
  "language_info": {
   "codemirror_mode": {
    "name": "ipython",
    "version": 3
   },
   "file_extension": ".py",
   "mimetype": "text/x-python",
   "name": "python",
   "nbconvert_exporter": "python",
   "pygments_lexer": "ipython3",
   "version": "3.6.9"
  }
 },
 "nbformat": 4,
 "nbformat_minor": 4
}
