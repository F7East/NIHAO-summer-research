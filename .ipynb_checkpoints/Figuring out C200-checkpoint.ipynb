{
 "cells": [
  {
   "cell_type": "code",
   "execution_count": 1,
   "metadata": {},
   "outputs": [],
   "source": [
    "# So what questions do I have so far?\n",
    "# 1. Should I use rho(r) to find r_s\n",
    "# 2. Should I use V(r) to find V_200 and C_200\n",
    "# 3. If 1 and 2 then I get two values for r_s\n",
    "# 4. it seems that r_s obtained from rho(r) is more presize \n",
    "# 5. Should I find r_200 just from rho_enc (probably not)\n",
    "# 6. should I find M_200 from mass profile from paper or by using mass_enc (assume paper)"
   ]
  },
  {
   "cell_type": "code",
   "execution_count": 2,
   "metadata": {},
   "outputs": [],
   "source": [
    "import pynbody as pyn\n",
    "import scipy, numpy, DM_Profiles\n",
    "from matplotlib import pylab as plt\n",
    "s = pyn.load('/media/tengiz/81498267-fb7c-4587-88ea-5c63aaf2cb66/Pynbody/testdata/g15784.lr.01024.gz')\n",
    "s.physical_units()\n",
    "h = s.halos()\n",
    "# rho_crit = pyn.analysis.cosmology.rho_crit(s)*200\n",
    "# H = float(pyn.analysis.cosmology.H(s))\n",
    "# tmass = h[1]['mass'].sum()"
   ]
  },
  {
   "cell_type": "code",
   "execution_count": 16,
   "metadata": {},
   "outputs": [],
   "source": [
    "def halos_CM(halo):\n",
    "        with pyn.analysis.halo.center(halo):\n",
    "            pyn.analysis.angmom.faceon(halo)\n",
    "            p = pyn.analysis.profile.Profile(halo, min = 0.01, max = 50, ndim = 3, type = 'log', nbins = 50)\n",
    "            radii = p['rbins']\n",
    "            den = p['density']\n",
    "            vel = p['v_circ']\n",
    "        return DM_Profiles.pISO(radii, den, vel)"
   ]
  },
  {
   "cell_type": "code",
   "execution_count": 4,
   "metadata": {},
   "outputs": [],
   "source": [
    "#p = pyn.analysis.profile.Profile(h[1], min = 0.01, max = 50, ndim = 3, type = 'log', nbins = 50)"
   ]
  },
  {
   "cell_type": "code",
   "execution_count": 5,
   "metadata": {},
   "outputs": [],
   "source": [
    "# radii = p['rbins']\n",
    "# vel = p['v_circ']\n",
    "# den = p['density']"
   ]
  },
  {
   "cell_type": "code",
   "execution_count": 6,
   "metadata": {},
   "outputs": [],
   "source": [
    "# den plot\n",
    "def den_plot(radii, den):\n",
    "    import DM_Profiles\n",
    "    from matplotlib import pylab as plt\n",
    "    fig, ax = plt.subplots() \n",
    "    ax.semilogy(radii, den, 'g--')\n",
    "    ax.semilogy(radii, DM_Profiles.rho_pISO(radii, *param), 'r-')\n",
    "    ax.grid()\n",
    "    ax.legend(('data','fit'))\n",
    "    ax.set_title('data den vs r')\n",
    "    ax.set_xlabel(radii.units)\n",
    "    ax.set_ylabel(den.units)\n",
    "    plt.show()"
   ]
  },
  {
   "cell_type": "code",
   "execution_count": 7,
   "metadata": {},
   "outputs": [],
   "source": [
    "# vel plot\n",
    "def vel_plot(x, vel):\n",
    "    import DM_Profiles\n",
    "    from matplotlib import pylab as plt\n",
    "    fig1, ax1 = plt.subplots()\n",
    "    ax1.plot(x, vel, 'g--')\n",
    "    ax1.plot(x, DM_Profiles.V_pISO(x, *param1), 'r-')\n",
    "    ax1.grid()\n",
    "    ax1.legend(('data','fit'))\n",
    "    ax1.set_title('data vel vs x')\n",
    "    ax1.set_xlabel('$r_{s}$')\n",
    "    ax1.set_ylabel(vel.units)\n",
    "    plt.show()\n"
   ]
  },
  {
   "cell_type": "code",
   "execution_count": 8,
   "metadata": {},
   "outputs": [],
   "source": [
    "#CM = []\n",
    "# for i in range(2, 3):\n",
    "#     CM.append(halos_CM(h[i]))"
   ]
  },
  {
   "cell_type": "code",
   "execution_count": 19,
   "metadata": {},
   "outputs": [
    {
     "name": "stderr",
     "output_type": "stream",
     "text": [
      "pynbody.analysis.profile : Profile v_circ -- this routine assumes the disk is in the x-y plane\n",
      "/media/tengiz/81498267-fb7c-4587-88ea-5c63aaf2cb66/Pynbody/commits/DM_Profiles.py:24: RuntimeWarning: invalid value encountered in double_scalars\n",
      "  return 4*numpy.pi*rho_s*(r_s**3)*(r-numpy.arctan(r))**0.5\n"
     ]
    },
    {
     "data": {
      "text/plain": [
       "(nan, -4.392295328303068)"
      ]
     },
     "execution_count": 19,
     "metadata": {},
     "output_type": "execute_result"
    }
   ],
   "source": [
    "halos_CM(h[1])"
   ]
  },
  {
   "cell_type": "code",
   "execution_count": 10,
   "metadata": {},
   "outputs": [],
   "source": [
    "#len(h[2])"
   ]
  },
  {
   "cell_type": "code",
   "execution_count": 11,
   "metadata": {},
   "outputs": [],
   "source": [
    "#pyn.analysis.halo.center(h[2], mode = 'hyb', move_all = False)"
   ]
  },
  {
   "cell_type": "code",
   "execution_count": 12,
   "metadata": {},
   "outputs": [
    {
     "data": {
      "text/plain": [
       "SimArray([ 1612.48349829, -2366.71869028, -8636.70597822], 'kpc')"
      ]
     },
     "execution_count": 12,
     "metadata": {},
     "output_type": "execute_result"
    }
   ],
   "source": [
    "h[1]['pos'][0]"
   ]
  },
  {
   "cell_type": "code",
   "execution_count": 13,
   "metadata": {},
   "outputs": [],
   "source": [
    "# transform = pyn.analysis.halo.center(h[1], mode = 'hyb', move_all = False)"
   ]
  },
  {
   "cell_type": "code",
   "execution_count": 14,
   "metadata": {},
   "outputs": [
    {
     "name": "stdout",
     "output_type": "stream",
     "text": [
      "[ -62.60027403  -30.16621916 -250.65650054]\n"
     ]
    }
   ],
   "source": [
    "with pyn.analysis.halo.center(h[1], mode='hyb'): print(h[1]['pos'][0])"
   ]
  },
  {
   "cell_type": "code",
   "execution_count": 15,
   "metadata": {},
   "outputs": [
    {
     "data": {
      "text/plain": [
       "SimArray([ 1612.48349829, -2366.71869028, -8636.70597822], 'kpc')"
      ]
     },
     "execution_count": 15,
     "metadata": {},
     "output_type": "execute_result"
    }
   ],
   "source": [
    "h[1]['pos'][0]"
   ]
  }
 ],
 "metadata": {
  "kernelspec": {
   "display_name": "Python 3",
   "language": "python",
   "name": "python3"
  },
  "language_info": {
   "codemirror_mode": {
    "name": "ipython",
    "version": 3
   },
   "file_extension": ".py",
   "mimetype": "text/x-python",
   "name": "python",
   "nbconvert_exporter": "python",
   "pygments_lexer": "ipython3",
   "version": "3.6.9"
  }
 },
 "nbformat": 4,
 "nbformat_minor": 4
}
