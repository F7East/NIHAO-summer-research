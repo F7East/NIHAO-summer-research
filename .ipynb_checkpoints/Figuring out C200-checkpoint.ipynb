{
 "cells": [
  {
   "cell_type": "code",
   "execution_count": 1,
   "metadata": {},
   "outputs": [],
   "source": [
    "# So what questions do I have so far?\n",
    "# 1. Should I use rho(r) to find r_s (so after long debate with my self I say no because does not help) [turns out yes! cause it makes better graphs]\n",
    "# 2. Should I use V(r) to find V_200 and C_200 (better find r_s and C200  {actually better to find V_200, see pont 1})\n",
    "# 3. If 1 and 2 then I get two values for r_s (yeah how different are they?)\n",
    "# 4. it seems that r_s obtained from rho(r) is more presize \n",
    "# 5. Should I find r_200 just from rho_enc (probably not [don't think so any more])\n",
    "# 6. should I find M_200 from mass profile from paper or by using mass_enc (assume paper [yeah paper, coz than  you could just use rho_200 but professor told to fit   the halos)"
   ]
  },
  {
   "cell_type": "code",
   "execution_count": 2,
   "metadata": {},
   "outputs": [],
   "source": [
    "import time\n",
    "import pynbody as pyn\n",
    "import scipy, numpy, DM_Profiles, os\n",
    "from matplotlib import pylab as plt\n",
    "s = pyn.load('/media/tengiz/81498267-fb7c-4587-88ea-5c63aaf2cb66/Pynbody/testdata/g15784.lr.01024.gz')\n",
    "s.physical_units()\n",
    "h = s.halos()\n",
    "# rho_crit = pyn.analysis.cosmology.rho_crit(s)\n",
    "# H = float(pyn.analysis.cosmology.H(s))\n",
    "# tmass = h[1]['mass'].sum()"
   ]
  },
  {
   "cell_type": "code",
   "execution_count": 3,
   "metadata": {
    "scrolled": true
   },
   "outputs": [],
   "source": [
    "def halos_CM(halo, to_graph = False, to_save = False):\n",
    "    # well this is very poorely written | not anymore\n",
    "#     modes = ['hyb', 'ssc', 'com','pot']\n",
    "    output = ()\n",
    "    with pyn.analysis.angmom.faceon(h[halo], cen_size  =  '10 kpc'):\n",
    "#         r_200 = pyn.analysis.halo.virial_radius(h[halo], overden = 200)\n",
    "        output = halos_exec(halo, to_graph, to_save)\n",
    "#     try: \n",
    "#         with pyn.analysis.angmom.faceon(h[halo], cen_size  =  '10 kpc'):\n",
    "#             output = halos_exec(halo, to_graph, to_save)  \n",
    "#     except (ValueError, RuntimeError):\n",
    "#         print('faceon has failed, trying backup')\n",
    "#         try:\n",
    "#             with pyn.analysis.halo.center(h[halo], vel = False, cen_size = '10 kpc'):\n",
    "#                 output = halos_exec(halo, to_graph, to_save)\n",
    "# #                     pyn.plot.image(halo.g, width=1000, cmap='Blues')\n",
    "#         except (ValueError, RuntimeError):\n",
    "#             output = 'failure'\n",
    "# #             pyn.plot.image(halo.g, width=100, cmap='Blues')\n",
    "        \n",
    "        '''\n",
    "        this is for the case  if you need other centerings\n",
    "        for i in range(5):\n",
    "            if i == 4:\n",
    "                print('all backups have failed')\n",
    "                try:\n",
    "                    with pyn.analysis.halo.center(halo, mode = modes[3], vel = False, cen_size = '20 kpc'):\n",
    "                        output = halos_exec(halo, to_graph)\n",
    "                        break\n",
    "    #                     pyn.plot.image(halo.g, width=1000, cmap='Blues')\n",
    "                except ValueError:\n",
    "                    output = 'failure'\n",
    "                    break\n",
    "            try:\n",
    "                with pyn.analysis.halo.center(halo, mode = modes[i], vel = True, cen_size = '20 kpc'):\n",
    "                    pyn.analysis.angmom.faceon(halo, cen =  halo['pos'][0], vel = halo['vel'][0])\n",
    "                    output = halos_exec(halo, to_graph)\n",
    "#                     pyn.plot.image(halo.g, width=1000, cmap='Blues')\n",
    "                break\n",
    "            except (ValueError, RuntimeError):\n",
    "                print(modes[i] + ' backup has failed')\n",
    "        '''\n",
    "\n",
    "    return output"
   ]
  },
  {
   "cell_type": "code",
   "execution_count": 4,
   "metadata": {},
   "outputs": [],
   "source": [
    "def halos_exec(halo, to_graph = False, to_save = False):\n",
    "    #takes in halo and boolean whether to graph \n",
    "    # outputs mass and concentration\n",
    "    r_200 = pyn.analysis.halo.virial_radius(h[halo], overden = 200)/pyn.array.SimArray(1, s['pos'].units)\n",
    "    p = pyn.analysis.profile.Profile(h[halo], min = 2*max(h[halo]['eps']), max = r_200, ndim = 3, type = 'log', nbins = 40)\n",
    "    print(2*max(h[halo]['eps']), r_200)\n",
    "#     radii = p['rbins'] # try to put this to dm profiles\n",
    "#     den = p['density']\n",
    "#     vel = p['v_circ']\n",
    "#     n = p['n']\n",
    "#     den_errors = []\n",
    "#     for i in len(radii):\n",
    "#         den_error.append(den[i]/numpy.sqrt(n[i]))\n",
    "    hp = DM_Profiles.DM_Profile(p, s, halo, r_200)\n",
    "    hp.fits_pISO() \n",
    "    output = hp.pISO()\n",
    "    if to_graph:\n",
    "        den_plot(hp, to_save)\n",
    "        vel_plot(hp, to_save)\n",
    "        \n",
    "    return output"
   ]
  },
  {
   "cell_type": "code",
   "execution_count": 5,
   "metadata": {},
   "outputs": [],
   "source": [
    "# den plot\n",
    "def den_plot(halo_profile, to_save = False):\n",
    "    # takes radii, den, param and DM_Profile object from DM_Profiles and outputs den profile with p_ISO curve_fit\n",
    "#     import DM_Profiles\n",
    "#     from matplotlib import pylab as plt\n",
    "    fig, ax = plt.subplots() \n",
    "    ax.plot(halo_profile.radii, numpy.power(10, halo_profile.den), 'g.')\n",
    "    ax.plot(halo_profile.radii, numpy.power(10, halo_profile.rho_pISO(halo_profile.radii, *halo_profile.param)), 'r-')\n",
    "    ax.grid()\n",
    "    ax.legend(('data','fit'))\n",
    "    ax.set_title('halo_' +  str(halo_profile.number) + ' density profile')\n",
    "    ax.set_xlabel('$R$ [kpc]')\n",
    "    ax.set_ylabel(r'$\\rho_{pISO}$ [M$_{\\odot}$ /kpc$^{3}$]')\n",
    "    plt.errorbar(halo_profile.radii, numpy.power(10, halo_profile.den) , yerr = numpy.array(halo_profile.den_error), fmt = 'none')\n",
    "    ax.set_yscale('log')\n",
    "    ax.set_xscale('log')\n",
    "    if to_save:\n",
    "        plt.savefig('../Graphs/density_plot' + str(halo_profile.number) +  '.jpg')\n",
    "    plt.show()\n",
    "    print(halo_profile.den_error)\n",
    "\n",
    "#     halo_profile.chisq_pISO()\n",
    "#     print(halo_profile.den_chisq)"
   ]
  },
  {
   "cell_type": "code",
   "execution_count": 6,
   "metadata": {},
   "outputs": [],
   "source": [
    "# vel plot\n",
    "def vel_plot(halo_profile, to_save = False):\n",
    "    # takes radii, den, param and DM_Profile object from DM_Profiles and outputs vel profile with p_ISO curve_fit\n",
    "    import DM_Profiles\n",
    "    from matplotlib import pylab as plt\n",
    "    fig1, ax1 = plt.subplots()\n",
    "    ax1.plot(halo_profile.radii, halo_profile.vel, 'g.')\n",
    "    ax1.plot(halo_profile.radii, halo_profile.V_pISO(halo_profile.radii), 'r-')\n",
    "    ax1.grid()\n",
    "    ax1.legend(('data','fit'))\n",
    "    ax1.set_title('halo_' +  str(halo_profile.number) + ' velocity rotation curve')\n",
    "    ax1.set_xlabel('$R$ [kpc]')\n",
    "    ax1.set_ylabel('V$_{pISO}$ [km/s] ')\n",
    "    if to_save:\n",
    "        plt.savefig('../Graphs/velocity_plot' + str(halo_profile.number) + '.jpg')\n",
    "    plt.show()\n",
    "\n",
    "#     halo_profile.chisq_pISO()\n",
    "#     print(halo_profile.vel_chisq)"
   ]
  },
  {
   "cell_type": "code",
   "execution_count": 7,
   "metadata": {},
   "outputs": [
    {
     "name": "stderr",
     "output_type": "stream",
     "text": [
      "/home/tengiz/.local/lib/python3.6/site-packages/pynbody/array.py:865: FutureWarning: Using a non-tuple sequence for multidimensional indexing is deprecated; use `arr[tuple(seq)]` instead of `arr[seq]`. In the future this will be interpreted as an array index, `arr[np.array(seq)]`, which will result either in an error or a different result.\n",
      "  return self.base[self._reexpress_index(item)]\n",
      "pynbody.analysis.profile : Profile v_circ -- this routine assumes the disk is in the x-y plane\n"
     ]
    },
    {
     "name": "stdout",
     "output_type": "stream",
     "text": [
      "1.2500009494047732 384.9563774488248\n"
     ]
    },
    {
     "data": {
      "image/png": "[encoded data removed]",
      "text/plain": [
       "<Figure size 432x288 with 1 Axes>"
      ]
     },
     "metadata": {
      "needs_background": "light"
     },
     "output_type": "display_data"
    },
    {
     "name": "stdout",
     "output_type": "stream",
     "text": [
      "[14796602.816520562, 10019934.785569573, 6677256.1296517905, 4625555.737107099, 3186924.691905108, 2287457.8590939865, 1551578.8439882863, 1112531.7185666726, 789846.6028114572, 557372.65976269, 394403.50082573097, 288305.03831356147, 220128.7496564267, 162102.11546211474, 115410.33169433134, 83614.26336374329, 62671.53670986008, 45925.50798023858, 34993.68119420161, 24564.162241338305, 17103.23789222651, 12429.912057362835, 8798.691720227427, 6180.4107600625575, 4253.359714493231, 2878.72244254307, 1898.3123638726204, 1268.8481501313347, 803.8458410324638, 573.0703701668499, 387.46741774231816, 227.63322996321813, 178.76451654749317, 122.11918691449733, 78.87068517001418, 53.64036222849891, 33.30938817800234, 19.207262718940694, 11.23665165623844, 3.1210120690294683]\n"
     ]
    },
    {
     "data": {
      "image/png": "[encoded data removed]",
      "text/plain": [
       "<Figure size 432x288 with 1 Axes>"
      ]
     },
     "metadata": {
      "needs_background": "light"
     },
     "output_type": "display_data"
    },
    {
     "name": "stdout",
     "output_type": "stream",
     "text": [
      "halo number 1 is done\n",
      "[(1662724002503.3809, 439873.2667298099, array([1.49773039e+01, 8.75152928e-04]), array([[ 4.41319767e+07, -4.44658646e+04],\n",
      "       [-4.44658646e+04,  4.48022786e+01]]))]\n",
      "12.942110061645508\n"
     ]
    }
   ],
   "source": [
    "start_time = time.time()\n",
    "CM =[]\n",
    "for halo in range(1, 2):\n",
    "    CM.append(halos_CM(halo, to_graph = True, to_save = False))\n",
    "    print('halo number ' + str(halo) + ' is done')\n",
    "print(CM)\n",
    "print(time.time() - start_time)"
   ]
  },
  {
   "cell_type": "code",
   "execution_count": null,
   "metadata": {},
   "outputs": [],
   "source": []
  }
 ],
 "metadata": {
  "kernelspec": {
   "display_name": "Python 3",
   "language": "python",
   "name": "python3"
  },
  "language_info": {
   "codemirror_mode": {
    "name": "ipython",
    "version": 3
   },
   "file_extension": ".py",
   "mimetype": "text/x-python",
   "name": "python",
   "nbconvert_exporter": "python",
   "pygments_lexer": "ipython3",
   "version": "3.6.9"
  }
 },
 "nbformat": 4,
 "nbformat_minor": 4
}
