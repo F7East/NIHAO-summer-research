{
 "cells": [
  {
   "cell_type": "code",
   "execution_count": null,
   "metadata": {},
   "outputs": [],
   "source": [
    "import time, DM_Profiles, numpy, scipy\n",
    "import pynbody as pyn\n",
    "from pynbody import units\n",
    "from matplotlib import pylab as plt\n",
    "s = pyn.load('/media/tengiz/81498267-fb7c-4587-88ea-5c63aaf2cb66/Pynbody/testdata/g15784.lr.01024.gz')\n",
    "s.physical_units()\n",
    "h = s.halos()"
   ]
  },
  {
   "cell_type": "code",
   "execution_count": null,
   "metadata": {},
   "outputs": [],
   "source": [
    "def model_prep(halo):\n",
    "    \"\"\"\n",
    "    This prepares profile for model to take in\n",
    "    \"\"\"\n",
    "    # centering to generate profile and placing particles back \n",
    "    with pyn.analysis.angmom.faceon(halo, cen_size  =  '1 kpc'):\n",
    "        r_200 = float(pyn.analysis.halo.virial_radius(halo.d, overden = 200))\n",
    "        stellar_profile = pyn.analysis.profile.Profile(halo.s, min = 0.01, max = r_200, ndim = 2, type = 'equaln', nbins = 10000)\n",
    "        shm_radius = stellar_profile['rbins'][len(stellar_profile['rbins'])//2]\n",
    "#         profile = pyn.analysis.profile.Profile(halo.d, min = 2*max(halo.d['eps']), max = 0.2*r_200, ndim = 3, type = 'log', nbins = 50)\n",
    "        profile = pyn.analysis.profile.Profile(halo.d, min = 10, max = 0.2*r_200, ndim = 3, type = 'log', nbins = 50)\n",
    "    \n",
    "    # calculating steallar and halo mass\n",
    "    \n",
    "    sm = halo.s['mass'].sum()\n",
    "    hm = halo['mass'].sum()\n",
    "    t_sf = halo.properties['time'].in_units('Gyr')\n",
    "        \n",
    "    return profile, sm, hm, shm_radius, r_200, t_sf"
   ]
  },
  {
   "cell_type": "code",
   "execution_count": null,
   "metadata": {},
   "outputs": [],
   "source": [
    "def den_plot(halo_profile, to_save = False):\n",
    "    '''\n",
    "    takes model profile object from DM_Profiles and plots den profile with a curve_fit\n",
    "    '''\n",
    "    \n",
    "    fig, ax = plt.subplots() \n",
    "    ax.plot(halo_profile.radii, numpy.power(10, halo_profile.log_den), 'g--')\n",
    "    ax.plot(halo_profile.radii, numpy.power(10, halo_profile.log_rho(numpy.array(halo_profile.radii), *halo_profile.params)), 'r-')\n",
    "    ax.grid()\n",
    "    ax.legend(('data','fit'))\n",
    "    ax.set_title(halo_profile.name + ' ' + halo_profile.pmodel + ' density profile')\n",
    "    ax.set_xlabel('$R$ [kpc]')\n",
    "    ax.set_ylabel(r'$\\rho$ [M$_{\\odot}$ /kpc$^{3}$]')\n",
    "    plt.errorbar(halo_profile.radii, numpy.power(10, halo_profile.log_den) , yerr = numpy.array(halo_profile.den_error), fmt = 'none')\n",
    "    ax.set_yscale('log')\n",
    "    ax.set_xscale('log')\n",
    "    if to_save:\n",
    "        plt.savefig('../Graphs/density_plot' + halo_profile.name + '' + halo_profile.pmodel +  '_density.jpg')\n",
    "    plt.show()"
   ]
  },
  {
   "cell_type": "code",
   "execution_count": null,
   "metadata": {},
   "outputs": [],
   "source": [
    "i = 1\n",
    "halo = h[i]\n",
    "start_time = time.time()\n",
    "variables = model_prep(halo) "
   ]
  },
  {
   "cell_type": "code",
   "execution_count": null,
   "metadata": {},
   "outputs": [],
   "source": [
    "for k in DM_Profiles.models():\n",
    "    hp = DM_Profiles.model(*variables, 'halo_' +  str(i), pmodel = k)\n",
    "    print(hp.output())\n",
    "    den_plot(hp, to_save = False)\n",
    "print(time.time() - start_time)"
   ]
  },
  {
   "cell_type": "raw",
   "metadata": {},
   "source": [
    "Question: do priors affect my fits for DC14, because I have a separate calculation for SMH and what do I do with \n",
    "The SHM relation (Moster, Naab & White 2013) presents a lognormal distribution around the mean relation"
   ]
  },
  {
   "cell_type": "code",
   "execution_count": null,
   "metadata": {},
   "outputs": [],
   "source": [
    "C_200list = []\n",
    "e_C_200list = []\n",
    "for k in DM_Profiles.models()[1:]:\n",
    "    hp = DM_Profiles.model(*variables, 'halo_' +  str(i), pmodel = k)\n",
    "    C_200, r_s, e_r_s = hp.output()[0][1], hp.output()[1][1], numpy.sqrt(hp.output()[2][1][1])\n",
    "    e_C_200 = hp.r_200/r_s**2*e_r_s\n",
    "    C_200list.append(C_200)\n",
    "    e_C_200list.append(e_C_200)\n",
    "    print('for ' + k + ' profile \\t' + 'C_200 = ' + str(C_200) + '\\t +/- \\t' + str(e_C_200))"
   ]
  },
  {
   "cell_type": "code",
   "execution_count": null,
   "metadata": {},
   "outputs": [],
   "source": [
    "lables = DM_Profiles.models()[1:]\n",
    "x = range(1,len(C_200list)+1)\n",
    "plt.bar(x, C_200list, color = 'blue')\n",
    "plt.errorbar(x, C_200list, yerr = e_C_200list, color = 'red', fmt = 'none')\n",
    "plt.xticks(x, lables)\n",
    "plt.yscale('linear')\n",
    "plt.show()"
   ]
  }
 ],
 "metadata": {
  "kernelspec": {
   "display_name": "Python 3",
   "language": "python",
   "name": "python3"
  },
  "language_info": {
   "codemirror_mode": {
    "name": "ipython",
    "version": 3
   },
   "file_extension": ".py",
   "mimetype": "text/x-python",
   "name": "python",
   "nbconvert_exporter": "python",
   "pygments_lexer": "ipython3",
   "version": "3.6.9"
  }
 },
 "nbformat": 4,
 "nbformat_minor": 4
}
