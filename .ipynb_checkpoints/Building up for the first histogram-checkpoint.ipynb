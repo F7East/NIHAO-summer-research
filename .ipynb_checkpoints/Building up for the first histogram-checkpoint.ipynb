{
 "cells": [
  {
   "cell_type": "code",
   "execution_count": null,
   "metadata": {},
   "outputs": [],
   "source": [
    "import time, DM_Profiles, numpy, scipy\n",
    "import pynbody as pyn\n",
    "from matplotlib import pylab as plt\n",
    "s = pyn.load('/media/tengiz/81498267-fb7c-4587-88ea-5c63aaf2cb66/Pynbody/testdata/g15784.lr.01024.gz')\n",
    "s.physical_units()\n",
    "h = s.halos()"
   ]
  },
  {
   "cell_type": "code",
   "execution_count": null,
   "metadata": {},
   "outputs": [],
   "source": [
    "def model_prep(halo):\n",
    "    \"\"\"\n",
    "    This prepares profile for model to take in\n",
    "    \"\"\"\n",
    "    with pyn.analysis.angmom.faceon(h[halo], cen_size  =  '10 kpc'):\n",
    "        r_200 = pyn.analysis.halo.virial_radius(h[halo].d, overden = 200)/pyn.array.SimArray(1, s['pos'].units)\n",
    "        profile = pyn.analysis.profile.Profile(h[halo].d, min = 2*max(h[halo].d['eps']), max = r_200, ndim = 3, type = 'log', nbins = 40)\n",
    "    return profile"
   ]
  },
  {
   "cell_type": "code",
   "execution_count": null,
   "metadata": {},
   "outputs": [],
   "source": [
    "def den_plot(halo_profile, to_save = False):\n",
    "    '''\n",
    "    takes model profile object from DM_Profiles and plots den profile with a curve_fit\n",
    "    '''\n",
    "    \n",
    "    fig, ax = plt.subplots() \n",
    "    ax.plot(halo_profile.radii, numpy.power(10, halo_profile.log_den), 'g.')\n",
    "    ax.plot(halo_profile.radii, numpy.power(10, halo_profile.log_rho(numpy.array(halo_profile.radii), *halo_profile.params)), 'r-')\n",
    "    ax.grid()\n",
    "    ax.legend(('data','fit'))\n",
    "    ax.set_title(halo_profile.name + ' ' + halo_profile.pmodel + ' density profile')\n",
    "    ax.set_xlabel('$R$ [kpc]')\n",
    "    ax.set_ylabel(r'$\\rho$ [M$_{\\odot}$ /kpc$^{3}$]')\n",
    "    plt.errorbar(halo_profile.radii, numpy.power(10, halo_profile.log_den) , yerr = numpy.array(halo_profile.den_error), fmt = 'none')\n",
    "    ax.set_yscale('log')\n",
    "    ax.set_xscale('log')\n",
    "    if to_save:\n",
    "        plt.savefig('../Graphs/density_plot' + haloprofile.name +  '_density.jpg')\n",
    "    plt.show()"
   ]
  },
  {
   "cell_type": "code",
   "execution_count": null,
   "metadata": {},
   "outputs": [],
   "source": [
    "halo = 1\n",
    "start_time = time.time()\n",
    "p = model_prep(halo) \n",
    "hp = DM_Profiles.model(p, 'halo_' +  str(halo), pmodel = 'NFW')\n",
    "print(hp.output())\n",
    "den_plot(hp)\n",
    "print(time.time() - start_time)"
   ]
  }
 ],
 "metadata": {
  "kernelspec": {
   "display_name": "Python 3",
   "language": "python",
   "name": "python3"
  },
  "language_info": {
   "codemirror_mode": {
    "name": "ipython",
    "version": 3
   },
   "file_extension": ".py",
   "mimetype": "text/x-python",
   "name": "python",
   "nbconvert_exporter": "python",
   "pygments_lexer": "ipython3",
   "version": "3.6.9"
  }
 },
 "nbformat": 4,
 "nbformat_minor": 4
}
