{
 "cells": [
  {
   "cell_type": "code",
   "execution_count": 1,
   "metadata": {},
   "outputs": [],
   "source": [
    "import time, DM_Profiles, numpy, scipy\n",
    "import pynbody as pyn\n",
    "from pynbody import units\n",
    "from matplotlib import pylab as plt\n",
    "s = pyn.load('/media/tengiz/81498267-fb7c-4587-88ea-5c63aaf2cb66/Pynbody/testdata/g15784.lr.01024.gz')\n",
    "s.physical_units()\n",
    "h = s.halos()"
   ]
  },
  {
   "cell_type": "code",
   "execution_count": 2,
   "metadata": {},
   "outputs": [],
   "source": [
    "def model_prep(halo):\n",
    "    \"\"\"\n",
    "    This prepares profile for model to take in\n",
    "    \"\"\"\n",
    "    # centering to generate profile and placing particles back \n",
    "    with pyn.analysis.angmom.faceon(halo, cen_size  =  '10 kpc'):\n",
    "        r_200 = float(pyn.analysis.halo.virial_radius(halo.d, overden = 200))\n",
    "        \n",
    "        # finding furthest particle position\n",
    "        position = []\n",
    "        for i in halo['pos']:\n",
    "            position.append(numpy.sqrt(i[0]**2+i[1]**2+i[2]**2))\n",
    "        furthest = max(position)\n",
    "        \n",
    "        max_radius = min(furthest+1, r_200)\n",
    "        # finding star half-mass radius\n",
    "        stellar_profile = pyn.analysis.profile.Profile(halo.s, min = 0.01, max = max_radius, ndim = 2, type = 'equaln', nbins = 10000)\n",
    "        shm_radius = stellar_profile['rbins'][len(stellar_profile['rbins'])//2]\n",
    "\n",
    "        profile = pyn.analysis.profile.Profile(halo.d, min = 2*max(halo.d['eps']), max = max_radius, ndim = 3, type = 'log', nbins = 100)\n",
    "    \n",
    "    # calculating steallar and halo mass\n",
    "    \n",
    "    sm = halo.s['mass'].sum()\n",
    "    hm = halo['mass'].sum()\n",
    "        \n",
    "    return profile, sm, hm, shm_radius, r_200"
   ]
  },
  {
   "cell_type": "code",
   "execution_count": 3,
   "metadata": {},
   "outputs": [],
   "source": [
    "def den_plot(halo_profile, to_save = False):\n",
    "    '''\n",
    "    takes model profile object from DM_Profiles and plots den profile with a curve_fit\n",
    "    '''\n",
    "    \n",
    "    fig, ax = plt.subplots() \n",
    "    ax.plot(halo_profile.radii, numpy.power(10, halo_profile.log_den), 'g--')\n",
    "    ax.plot(halo_profile.radii, numpy.power(10, halo_profile.log_rho(numpy.array(halo_profile.radii), *halo_profile.params)), 'r-')\n",
    "    ax.grid()\n",
    "    ax.legend(('data','fit'))\n",
    "    ax.set_title(halo_profile.name + ' ' + halo_profile.pmodel + ' density profile')\n",
    "    ax.set_xlabel('$R$ [kpc]')\n",
    "    ax.set_ylabel(r'$\\rho$ [M$_{\\odot}$ /kpc$^{3}$]')\n",
    "    plt.errorbar(halo_profile.radii, numpy.power(10, halo_profile.log_den) , yerr = numpy.array(halo_profile.den_error), fmt = 'none')\n",
    "    ax.set_yscale('log')\n",
    "    ax.set_xscale('log')\n",
    "    if to_save:\n",
    "        plt.savefig('../Graphs/density_plot' + halo_profile.name +  '_density.jpg')\n",
    "    plt.show()"
   ]
  },
  {
   "cell_type": "code",
   "execution_count": 4,
   "metadata": {},
   "outputs": [
    {
     "name": "stderr",
     "output_type": "stream",
     "text": [
      "/home/tengiz/.local/lib/python3.6/site-packages/pynbody/array.py:865: FutureWarning: Using a non-tuple sequence for multidimensional indexing is deprecated; use `arr[tuple(seq)]` instead of `arr[seq]`. In the future this will be interpreted as an array index, `arr[np.array(seq)]`, which will result either in an error or a different result.\n",
      "  return self.base[self._reexpress_index(item)]\n"
     ]
    }
   ],
   "source": [
    "i = 1\n",
    "halo = h[i]\n",
    "start_time = time.time()\n",
    "variables = model_prep(halo) "
   ]
  },
  {
   "cell_type": "code",
   "execution_count": 5,
   "metadata": {},
   "outputs": [
    {
     "name": "stdout",
     "output_type": "stream",
     "text": [
      "((1457927748529.9043, 27.451784600698762), array([ 7.32406708, 13.35581581,  0.26865507,  4.63648002]), array([[ 6.87607275e-05, -7.95634679e-04, -9.95664565e-06,\n",
      "         0.00000000e+00],\n",
      "       [-7.95634679e-04,  9.36864135e-03,  1.11927430e-04,\n",
      "         0.00000000e+00],\n",
      "       [-9.95664565e-06,  1.11927430e-04,  1.66979540e-05,\n",
      "         0.00000000e+00],\n",
      "       [ 0.00000000e+00,  0.00000000e+00,  0.00000000e+00,\n",
      "         0.00000000e+00]]))\n"
     ]
    },
    {
     "data": {
      "image/png": "[encoded data removed]",
      "text/plain": [
       "<Figure size 432x288 with 1 Axes>"
      ]
     },
     "metadata": {
      "needs_background": "light"
     },
     "output_type": "display_data"
    },
    {
     "name": "stdout",
     "output_type": "stream",
     "text": [
      "11.803796291351318\n"
     ]
    }
   ],
   "source": [
    "hp = DM_Profiles.model(*variables, 'halo_' +  str(i), pmodel = 'coreNFW')\n",
    "print(hp.output())\n",
    "den_plot(hp, to_save = True)\n",
    "print(time.time() - start_time)"
   ]
  },
  {
   "cell_type": "code",
   "execution_count": 6,
   "metadata": {},
   "outputs": [
    {
     "data": {
      "text/plain": [
       "4.49857598201285e-06"
      ]
     },
     "execution_count": 6,
     "metadata": {},
     "output_type": "execute_result"
    }
   ],
   "source": [
    "hp.G"
   ]
  },
  {
   "cell_type": "raw",
   "metadata": {},
   "source": [
    "Question: do priors affect my fits for DC14, because I have a separate calculation for SMH and what do I do with \n",
    "The SHM relation (Moster, Naab & White 2013) presents a lognormal distribution around the mean relation"
   ]
  },
  {
   "cell_type": "raw",
   "metadata": {},
   "source": [
    "h[1].properties['time'].in_units('Gyr') do not forget to add this for coreNFW calculation"
   ]
  },
  {
   "cell_type": "code",
   "execution_count": 7,
   "metadata": {},
   "outputs": [
    {
     "name": "stdout",
     "output_type": "stream",
     "text": [
      "for Burket profile \tC_200 = 44.712955468709616\t +/- \t0.2176410653675365\n",
      "for NFW profile \tC_200 = 29.3775856380763\t +/- \t0.20160898139119082\n",
      "for Einasto profile \tC_200 = 40.782450442975\t +/- \t0.8259746533010338\n",
      "for DC14 profile \tC_200 = 89.24403585638902\t +/- \t1.7355704493550617\n",
      "for coreNFW profile \tC_200 = 27.451784600698762\t +/- \t0.19894749180193808\n",
      "for Lucky13 profile \tC_200 = 42.32703581739992\t +/- \t0.04855348338938203\n"
     ]
    }
   ],
   "source": [
    "C_200list = []\n",
    "e_C_200list = []\n",
    "for k in DM_Profiles.models()[1:]:\n",
    "    hp = DM_Profiles.model(*variables, 'halo_' +  str(i), pmodel = k)\n",
    "    C_200, r_s, e_r_s = hp.output()[0][1], hp.output()[1][1], numpy.sqrt(hp.output()[2][1][1])\n",
    "    e_C_200 = hp.r_200/r_s**2*e_r_s\n",
    "    e_C_200 = round_up() \n",
    "    C_200list.append(C_200)\n",
    "    e_C_200list.append(e_C_200)\n",
    "    print('for ' + k + ' profile \\t' + 'C_200 = ' + str(C_200) + '\\t +/- \\t' + str(e_C_200))"
   ]
  },
  {
   "cell_type": "code",
   "execution_count": 8,
   "metadata": {},
   "outputs": [
    {
     "data": {
      "text/plain": [
       "<function matplotlib.pyplot.show(*args, **kw)>"
      ]
     },
     "execution_count": 8,
     "metadata": {},
     "output_type": "execute_result"
    },
    {
     "data": {
      "image/png": "[encoded data removed]",
      "text/plain": [
       "<Figure size 432x288 with 1 Axes>"
      ]
     },
     "metadata": {
      "needs_background": "light"
     },
     "output_type": "display_data"
    }
   ],
   "source": [
    "lables = DM_Profiles.models()[1:]\n",
    "x = range(1,len(C_200list)+1)\n",
    "plt.bar(x, C_200list, color = 'blue')\n",
    "plt.errorbar(x, C_200list, yerr = e_C_200list, color = 'red', fmt = 'none')\n",
    "plt.xticks(x, lables)\n",
    "plt.yscale('linear')\n",
    "plt.show"
   ]
  }
 ],
 "metadata": {
  "kernelspec": {
   "display_name": "Python 3",
   "language": "python",
   "name": "python3"
  },
  "language_info": {
   "codemirror_mode": {
    "name": "ipython",
    "version": 3
   },
   "file_extension": ".py",
   "mimetype": "text/x-python",
   "name": "python",
   "nbconvert_exporter": "python",
   "pygments_lexer": "ipython3",
   "version": "3.6.9"
  }
 },
 "nbformat": 4,
 "nbformat_minor": 4
}
