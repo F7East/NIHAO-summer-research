{
 "cells": [
  {
   "cell_type": "code",
   "execution_count": null,
   "metadata": {},
   "outputs": [],
   "source": [
    "import time, DM_Profiles, numpy, scipy\n",
    "import pynbody as pyn\n",
    "from pynbody import units\n",
    "from matplotlib import pylab as plt\n",
    "s = pyn.load('/media/tengiz/81498267-fb7c-4587-88ea-5c63aaf2cb66/Pynbody/testdata/g15784.lr.01024.gz')\n",
    "s.physical_units()\n",
    "h = s.halos()"
   ]
  },
  {
   "cell_type": "code",
   "execution_count": null,
   "metadata": {},
   "outputs": [],
   "source": [
    "def model_prep(halo):\n",
    "    \"\"\"\n",
    "    This prepares profile for model to take in\n",
    "    \"\"\"\n",
    "    # centering to generate profile and placing particles back \n",
    "    with pyn.analysis.angmom.faceon(halo, cen_size  =  '10 kpc'):\n",
    "        r_200 = float(pyn.analysis.halo.virial_radius(halo.d, overden = 200))\n",
    "        \n",
    "        # finding furthest particle position\n",
    "        position = []\n",
    "        for i in halo['pos']:\n",
    "            position.append(numpy.sqrt(i[0]**2+i[1]**2+i[2]**2))\n",
    "        furthest = max(position)\n",
    "        \n",
    "        max_radius = min(furhtest+1, r_200)\n",
    "        # finding star half-mass radius\n",
    "        stellar_profile = pyn.analysis.profile.Profile(halo.s, min = 0.01, max = max_length, ndim = 2, type = 'equaln', nbins = 10000)\n",
    "        shm_radius = stellar_profile['rbins'][len(stellar_profile['rbins'])//2]\n",
    "\n",
    "        profile = pyn.analysis.profile.Profile(halo.d, min = 2*max(halo.d['eps']), max = furthest+1, ndim = 3, type = 'log', nbins = 1000)\n",
    "    \n",
    "    # calculating steallar and halo mass\n",
    "    \n",
    "    sm = halo.s['mass'].sum()\n",
    "    hm = halo['mass'].sum()\n",
    "        \n",
    "    return profile, sm, hm, shm_radius, r_200"
   ]
  },
  {
   "cell_type": "code",
   "execution_count": null,
   "metadata": {},
   "outputs": [],
   "source": [
    "def den_plot(halo_profile, to_save = False):\n",
    "    '''\n",
    "    takes model profile object from DM_Profiles and plots den profile with a curve_fit\n",
    "    '''\n",
    "    \n",
    "    fig, ax = plt.subplots() \n",
    "    ax.plot(halo_profile.radii, numpy.power(10, halo_profile.log_den), 'g--')\n",
    "    ax.plot(halo_profile.radii, numpy.power(10, halo_profile.log_rho(numpy.array(halo_profile.radii), *halo_profile.params)), 'r-')\n",
    "    ax.grid()\n",
    "    ax.legend(('data','fit'))\n",
    "    ax.set_title(halo_profile.name + ' ' + halo_profile.pmodel + ' density profile')\n",
    "    ax.set_xlabel('$R$ [kpc]')\n",
    "    ax.set_ylabel(r'$\\rho$ [M$_{\\odot}$ /kpc$^{3}$]')\n",
    "    plt.errorbar(halo_profile.radii, numpy.power(10, halo_profile.log_den) , yerr = numpy.array(halo_profile.den_error), fmt = 'none')\n",
    "    ax.set_yscale('log')\n",
    "    ax.set_xscale('log')\n",
    "    if to_save:\n",
    "        plt.savefig('../Graphs/density_plot' + haloprofile.name +  '_density.jpg')\n",
    "    plt.show()"
   ]
  },
  {
   "cell_type": "code",
   "execution_count": null,
   "metadata": {},
   "outputs": [],
   "source": [
    "i = 1\n",
    "halo = h[i]\n",
    "start_time = time.time()\n",
    "variables = model_prep(halo) "
   ]
  },
  {
   "cell_type": "code",
   "execution_count": null,
   "metadata": {},
   "outputs": [],
   "source": [
    "hp = DM_Profiles.model(*variables, 'halo_' +  str(i), pmodel = 'coreNFW')\n",
    "print(hp.output())\n",
    "den_plot(hp)\n",
    "print(time.time() - start_time)"
   ]
  },
  {
   "cell_type": "code",
   "execution_count": null,
   "metadata": {},
   "outputs": [],
   "source": [
    "'''\n",
    "Question: do priors affect my fits for DC14, because I have a separate calculation for SMH and what do I do with \n",
    "The SHM relation (Moster, Naab & White 2013) presents a lognormal distribution around the mean relation\n",
    "'''"
   ]
  },
  {
   "cell_type": "code",
   "execution_count": null,
   "metadata": {},
   "outputs": [],
   "source": [
    "h[1].properties['time'].in_units('Gyr')"
   ]
  }
 ],
 "metadata": {
  "kernelspec": {
   "display_name": "Python 3",
   "language": "python",
   "name": "python3"
  },
  "language_info": {
   "codemirror_mode": {
    "name": "ipython",
    "version": 3
   },
   "file_extension": ".py",
   "mimetype": "text/x-python",
   "name": "python",
   "nbconvert_exporter": "python",
   "pygments_lexer": "ipython3",
   "version": "3.6.9"
  }
 },
 "nbformat": 4,
 "nbformat_minor": 4
}
