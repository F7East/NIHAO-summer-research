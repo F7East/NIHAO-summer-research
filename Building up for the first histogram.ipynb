{
 "cells": [
  {
   "cell_type": "code",
   "execution_count": null,
   "metadata": {},
   "outputs": [],
   "source": [
    "import time, DM_Profiles, numpy, scipy\n",
    "import pynbody as pyn\n",
    "from pynbody import units\n",
    "from matplotlib import pyplot as plt\n",
    "galaxy = 'g5.05e10/g5.05e10.01024'\n",
    "s = pyn.load('/scratch/database/nihao/nihao_classic/' + galaxy)\n",
    "s.physical_units()\n",
    "h = s.halos()"
   ]
  },
  {
   "cell_type": "code",
   "execution_count": null,
   "metadata": {},
   "outputs": [],
   "source": [
    "def model_prep(halo):\n",
    "    \"\"\"\n",
    "    This prepares profile for model to take in. It is run separately because this is a heavy function\n",
    "    \n",
    "    **Input**\n",
    "    \n",
    "    *halo* is just halo object\n",
    "    \n",
    "    \n",
    "    **Output**\n",
    "    \n",
    "    *profile* is normal pynbody profile for dark matter\n",
    "    \n",
    "    *sm* total stellar mass\n",
    "    \n",
    "    *hm* total halo mass\n",
    "    \n",
    "    *shm_radius* stellar half-mass radius\n",
    "    \n",
    "    *r_200* virial radius over 200 times the critical density of snapshot\n",
    "    \n",
    "    *t_sf* run time?\n",
    "    \n",
    "    \"\"\"\n",
    "    \n",
    "    # centering to generate variables and placing particles back \n",
    "    with pyn.analysis.angmom.faceon(halo, cen_size  =  '1 kpc'):\n",
    "        \n",
    "        r_200 = float(pyn.analysis.halo.virial_radius(halo, overden = 200))\n",
    "        profile = pyn.analysis.profile.Profile(halo.d, min = 2, max = 15, ndim = 3, type = 'log', nbins = 50)\n",
    "        stellar_profile = pyn.analysis.profile.Profile(halo.s, min = 0.01, max = r_200, ndim = 2, type = 'equaln', nbins = 10000)\n",
    "        shm_radius = stellar_profile['rbins'][len(stellar_profile['rbins'])//2]\n",
    "#         profile = pyn.analysis.profile.Profile(halo.d, min = 2*max(halo.d['eps']), max = 0.7*r_200, ndim = 3, type = 'log', nbins = 50)\n",
    "    \n",
    "    # calculating steallar and halo mass\n",
    "    \n",
    "    sm = halo.s['mass'].sum()\n",
    "    hm = halo['mass'].sum()\n",
    "    t_sf = halo.properties['time'].in_units('Gyr')\n",
    "        \n",
    "    return (profile, sm, hm, shm_radius, r_200, t_sf)"
   ]
  },
  {
   "cell_type": "code",
   "execution_count": null,
   "metadata": {},
   "outputs": [],
   "source": [
    "def den_plot(halo_profile, to_save = False):\n",
    "    '''\n",
    "    takes model profile object from DM_Profiles and plots den profile with a curve_fit\n",
    "    '''\n",
    "    \n",
    "    fig, ax = plt.subplots() \n",
    "    ax.plot(halo_profile.radii, numpy.power(10, halo_profile.log_den), 'g--')\n",
    "    ax.plot(halo_profile.radii, numpy.power(10, halo_profile.log_rho(numpy.array(halo_profile.radii), *halo_profile.params)), 'r-')\n",
    "    ax.grid()\n",
    "    ax.legend(('data','fit'))\n",
    "    ax.set_title(halo_profile.name + ' ' + halo_profile.pmodel + ' density profile')\n",
    "    ax.set_xlabel('$R$ [kpc]')\n",
    "    ax.set_ylabel(r'$\\rho$ [M$_{\\odot}$ /kpc$^{3}$]')\n",
    "    plt.errorbar(halo_profile.radii, numpy.power(10, halo_profile.log_den) , yerr = numpy.array(halo_profile.den_error), fmt = 'none')\n",
    "    ax.set_yscale('log')\n",
    "    ax.set_xscale('log')\n",
    "    if to_save:\n",
    "        plt.savefig('../Graphs/density_plot' + halo_profile.name + ' ' + halo_profile.pmodel +  '_density.jpg')\n",
    "    plt.show()\n",
    "    return fig"
   ]
  },
  {
   "cell_type": "code",
   "execution_count": null,
   "metadata": {},
   "outputs": [],
   "source": [
    "def create_profiles(varialbes):\n",
    "    \"\"\"\n",
    "    This function takes variables from model_prep and outputs dark matter profile objects list\n",
    "    \n",
    "    \"\"\"\n",
    "    \n",
    "    profile, sm, hm, shm_radius, r_200, t_sf = variables #this is because  python2\n",
    "    dmprofiles = []\n",
    "    for model in DM_Profiles.models():\n",
    "        dmprofiles.append(DM_Profiles.model(profile, sm, hm, shm_radius, r_200, t_sf, galaxy, pmodel = model))\n",
    "                        \n",
    "    return dmprofiles"
   ]
  },
  {
   "cell_type": "code",
   "execution_count": null,
   "metadata": {},
   "outputs": [],
   "source": [
    "def panel_plot(rows, columns, dmprofiles, to_save = False):\n",
    "    '''\n",
    "    This function plots a panel of all density profiles for a halo\n",
    "    \n",
    "    **Input**\n",
    "    \n",
    "    *rows*, *columns* are panel dimensions\n",
    "    \n",
    "    *profiles* is an array of dark matter profile objects\n",
    "    \n",
    "    *to_save* \n",
    "    \n",
    "    \n",
    "    Returns figure obect\n",
    "    \n",
    "    '''\n",
    "    #to make a 1d counter in 2d array\n",
    "    counter = 0 \n",
    "    \n",
    "    #clearing out plt from  previous possible graphs and creating new figure\n",
    "    plt.clf()\n",
    "    fig, ax = plt.subplots(rows,columns, sharex = True, sharey = True, figsize = (15, 13))\n",
    "\n",
    "    \n",
    "    for a in range(rows):\n",
    "        for b in range(columns):\n",
    "            \n",
    "            hp = dmprofiles[counter]\n",
    "            ax[a][b].plot(hp.radii, numpy.power(10, hp.log_den), 'g--')\n",
    "            ax[a][b].plot(hp.radii, numpy.power(10, hp.log_rho(numpy.array(hp.radii), *hp.params)), 'r-')\n",
    "            ax[a][b].grid(b=True, which='major', color='b', linestyle='-', alpha = 0.2)\n",
    "            ax[a][b].set_title(hp.pmodel)\n",
    "            ax[a][b].errorbar(hp.radii, numpy.power(10, hp.log_den) , yerr = numpy.array(hp.den_error), fmt = 'none')\n",
    "            ax[a][b].set_yscale('log')\n",
    "            ax[a][b].set_xscale('log')\n",
    "            \n",
    "            #creating labels only to the left\n",
    "            if b == 0:\n",
    "                ax[a][b].set_ylabel(r'$\\rho$ [M$_{\\odot}$ /kpc$^{3}$]')\n",
    "            \n",
    "            #when there are more panel slots than models just breaks\n",
    "            if counter == len(DM_Profiles.models()) - 1:\n",
    "                break\n",
    "            counter += 1\n",
    "    \n",
    "    # creating labels only at the bottom\n",
    "    for b in range(columns):\n",
    "        ax[rows-1][b].set_xlabel('$R$ [kpc]')\n",
    "\n",
    "    fig.suptitle(\"Panel plot for \" + galaxy + ' density profiles', fontsize = 16)\n",
    "    plt.show()\n",
    "    \n",
    "    #saving the file\n",
    "    if to_save:\n",
    "        fig.savefig('./Graphs/density_plot.png')\n",
    "    return fig"
   ]
  },
  {
   "cell_type": "code",
   "execution_count": null,
   "metadata": {},
   "outputs": [],
   "source": [
    "i = 1\n",
    "halo = h[i]\n",
    "start_time = time.time()\n",
    "variables = model_prep(halo)"
   ]
  },
  {
   "cell_type": "code",
   "execution_count": null,
   "metadata": {},
   "outputs": [],
   "source": [
    "dmprofiles = create_profiles(variables)"
   ]
  },
  {
   "cell_type": "code",
   "execution_count": null,
   "metadata": {},
   "outputs": [],
   "source": [
    "columns = 3\n",
    "rows = 3\n",
    "panel_plot(rows, columns, dmprofiles, to_save = True)\n",
    "print(time.time() - start_time)"
   ]
  },
  {
   "cell_type": "raw",
   "metadata": {},
   "source": [
    "Question: do priors affect my fits for DC14, because I have a separate calculation for SMH and what do I do with \n",
    "The SHM relation (Moster, Naab & White 2013) presents a lognormal distribution around the mean relation"
   ]
  },
  {
   "cell_type": "code",
   "execution_count": null,
   "metadata": {},
   "outputs": [],
   "source": [
    "C_200list = []\n",
    "e_C_200list = []\n",
    "profile, sm, hm, shm_radius, r_200, t_sf = variables\n",
    "for k in DM_Profiles.models():\n",
    "    hp = DM_Profiles.model(profile, sm, hm, shm_radius, r_200, t_sf, 'halo_' +  str(i), pmodel = k)\n",
    "    C_200, r_s, e_r_s = hp.output()[0][1], hp.output()[1][1], numpy.sqrt(hp.output()[2][1][1])\n",
    "    e_C_200 = hp.r_200/r_s**2*e_r_s\n",
    "    C_200list.append(C_200)\n",
    "    e_C_200list.append(e_C_200)\n",
    "    print('for ' + k + ' profile \\t' + 'C_200 = ' + str(C_200) + '\\t +/- \\t' + str(e_C_200))\n",
    "# C_200list.pop(0)\n",
    "# e_C_200list.pop(0)"
   ]
  },
  {
   "cell_type": "code",
   "execution_count": null,
   "metadata": {},
   "outputs": [],
   "source": [
    "plt.clf()\n",
    "lables = DM_Profiles.models()\n",
    "x = range(1,len(C_200list)+1)\n",
    "plt.title('C$_{200}$ ' + \"values for \" + galaxy)\n",
    "plt.bar(x, C_200list, color = 'blue')\n",
    "plt.errorbar(x, C_200list, yerr = e_C_200list, color = 'red', fmt = 'none')\n",
    "plt.xticks(x, lables)\n",
    "plt.yscale('linear')\n",
    "plt.autoscale()\n",
    "plt.savefig('./Graphs/C200.png')\n",
    "plt.show()"
   ]
  },
  {
   "cell_type": "code",
   "execution_count": null,
   "metadata": {},
   "outputs": [],
   "source": []
  }
 ],
 "metadata": {
  "kernelspec": {
   "display_name": "Python 3",
   "language": "python",
   "name": "python3"
  },
  "language_info": {
   "codemirror_mode": {
    "name": "ipython",
    "version": 3
   },
   "file_extension": ".py",
   "mimetype": "text/x-python",
   "name": "python",
   "nbconvert_exporter": "python",
   "pygments_lexer": "ipython3",
   "version": "3.6.9"
  }
 },
 "nbformat": 4,
 "nbformat_minor": 4
}
